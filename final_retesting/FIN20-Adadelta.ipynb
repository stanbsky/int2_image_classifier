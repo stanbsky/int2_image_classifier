{
 "cells": [
  {
   "cell_type": "markdown",
   "id": "turkish-basics",
   "metadata": {},
   "source": [
    "## Importing libraries"
   ]
  },
  {
   "cell_type": "code",
   "execution_count": 1,
   "id": "moderate-baseline",
   "metadata": {},
   "outputs": [
    {
     "name": "stderr",
     "output_type": "stream",
     "text": [
      "Matplotlib created a temporary config/cache directory at /tmp/matplotlib-qtbgyu9j because the default path (/run/user/141228/cache/matplotlib) is not a writable directory; it is highly recommended to set the MPLCONFIGDIR environment variable to a writable directory, in particular to speed up the import of Matplotlib and to better support multiprocessing.\n"
     ]
    }
   ],
   "source": [
    "import torch\n",
    "import torchvision\n",
    "from torchvision.datasets.utils import download_url\n",
    "from torch.utils.data import random_split\n",
    "from torchvision.datasets import ImageFolder\n",
    "from torchvision.transforms import ToTensor,ToPILImage\n",
    "import matplotlib.pyplot as plt\n",
    "from torchvision.utils import make_grid\n",
    "from torch.utils.data.dataloader import DataLoader\n",
    "from torchvision.utils import make_grid\n",
    "import torch.nn as nn\n",
    "import torch.nn.functional as F\n",
    "import torchvision.transforms as tt\n",
    "import numpy as np\n",
    "import torchvision.datasets as datasets"
   ]
  },
  {
   "cell_type": "markdown",
   "id": "respective-popularity",
   "metadata": {},
   "source": [
    "## Data and device loading"
   ]
  },
  {
   "cell_type": "code",
   "execution_count": 2,
   "id": "after-brazil",
   "metadata": {},
   "outputs": [],
   "source": [
    "torch.backends.cudnn.benchmark = True\n",
    "device = torch.device(\"cuda:6\" if torch.cuda.is_available() else \"cpu\")"
   ]
  },
  {
   "cell_type": "code",
   "execution_count": 3,
   "id": "modular-humanitarian",
   "metadata": {},
   "outputs": [],
   "source": [
    "stats= ((0.4914,0.4822,0.4465),(0.2023,0.1994,0.2010)) #mean and std\n",
    "train_tfm= tt.Compose([tt.RandomCrop(32, padding=4, padding_mode='reflect'), # transormation of data together\n",
    "                       tt.RandomHorizontalFlip(),\n",
    "                       tt.ToTensor()])\n",
    "valid_tfm = tt.Compose([tt.ToTensor()])"
   ]
  },
  {
   "cell_type": "code",
   "execution_count": 4,
   "id": "backed-matter",
   "metadata": {},
   "outputs": [
    {
     "name": "stdout",
     "output_type": "stream",
     "text": [
      "Files already downloaded and verified\n"
     ]
    }
   ],
   "source": [
    "training_data = datasets.CIFAR10(\n",
    "    root=\"data\",\n",
    "    train=True,\n",
    "    download=True,\n",
    "    transform=train_tfm,\n",
    ")"
   ]
  },
  {
   "cell_type": "code",
   "execution_count": 5,
   "id": "freelance-funeral",
   "metadata": {},
   "outputs": [
    {
     "name": "stdout",
     "output_type": "stream",
     "text": [
      "Files already downloaded and verified\n"
     ]
    }
   ],
   "source": [
    "# Download test data from open datasets.\n",
    "test_data = datasets.CIFAR10(\n",
    "    root=\"data\",\n",
    "    train=False,\n",
    "    download=True,\n",
    "    transform=valid_tfm,\n",
    ")"
   ]
  },
  {
   "cell_type": "code",
   "execution_count": 6,
   "id": "bottom-participation",
   "metadata": {},
   "outputs": [
    {
     "data": {
      "text/plain": [
       "Dataset CIFAR10\n",
       "    Number of datapoints: 50000\n",
       "    Root location: data\n",
       "    Split: Train\n",
       "    StandardTransform\n",
       "Transform: Compose(\n",
       "               RandomCrop(size=(32, 32), padding=4)\n",
       "               RandomHorizontalFlip(p=0.5)\n",
       "               ToTensor()\n",
       "           )"
      ]
     },
     "execution_count": 6,
     "metadata": {},
     "output_type": "execute_result"
    }
   ],
   "source": [
    "valid_ds = test_data\n",
    "train_ds = training_data\n",
    "train_ds"
   ]
  },
  {
   "cell_type": "code",
   "execution_count": 7,
   "id": "gross-india",
   "metadata": {},
   "outputs": [],
   "source": [
    "batch_size_res9=400\n",
    "batch_size_res20=400"
   ]
  },
  {
   "cell_type": "code",
   "execution_count": 8,
   "id": "mediterranean-channels",
   "metadata": {},
   "outputs": [],
   "source": [
    "# Dataloader to load data in batches(mini batch)\n",
    "train_dl_res9= DataLoader(train_ds,batch_size_res9,shuffle=True, num_workers=3, pin_memory=True) \n",
    "valid_dl_res9= DataLoader(valid_ds, batch_size_res9, num_workers=3,pin_memory=True) \n",
    "\n",
    "train_dl_res20= DataLoader(train_ds,batch_size_res20,shuffle=True, num_workers=3, pin_memory=True) \n",
    "valid_dl_res20= DataLoader(valid_ds, batch_size_res20, num_workers=3,pin_memory=True)"
   ]
  },
  {
   "cell_type": "code",
   "execution_count": 9,
   "id": "strategic-massage",
   "metadata": {},
   "outputs": [],
   "source": [
    "def get_default_device():\n",
    "    \"\"\"Pick GPU if available, else CPU\"\"\"\n",
    "    if torch.cuda.is_available():\n",
    "        return torch.device('cuda')\n",
    "    else:\n",
    "        return torch.device('cpu')\n",
    "    \n",
    "def to_device(data, device):\n",
    "    \"\"\"Move tensor(s) to chosen device\"\"\"\n",
    "    if isinstance(data, (list,tuple)):\n",
    "        return [to_device(x, device) for x in data]\n",
    "    return data.to(device, non_blocking=True)\n",
    "\n",
    "class DeviceDataLoader():\n",
    "    \"\"\"Wrap a dataloader to move data to a device\"\"\"\n",
    "    def __init__(self, dl, device):\n",
    "        self.dl = dl\n",
    "        self.device = device\n",
    "        \n",
    "    def __iter__(self):\n",
    "        \"\"\"Yield a batch of data after moving it to device\"\"\"\n",
    "        for b in self.dl: \n",
    "            yield to_device(b, self.device)\n",
    "\n",
    "    def __len__(self):\n",
    "        \"\"\"Number of batches\"\"\"\n",
    "        return len(self.dl)"
   ]
  },
  {
   "cell_type": "code",
   "execution_count": 10,
   "id": "rapid-hammer",
   "metadata": {},
   "outputs": [],
   "source": [
    "train_dl_res9= DeviceDataLoader(train_dl_res9, device)\n",
    "valid_dl_res9 = DeviceDataLoader(valid_dl_res9, device)\n",
    "\n",
    "train_dl_res20= DeviceDataLoader(train_dl_res20, device)\n",
    "valid_dl_res20 = DeviceDataLoader(valid_dl_res20, device)"
   ]
  },
  {
   "cell_type": "markdown",
   "id": "driven-tanzania",
   "metadata": {},
   "source": [
    "## Training loop"
   ]
  },
  {
   "cell_type": "code",
   "execution_count": 11,
   "id": "arctic-killing",
   "metadata": {},
   "outputs": [],
   "source": [
    "def accuracy(outputs, labels):\n",
    "    _, preds = torch.max(outputs, dim=1)\n",
    "    return torch.tensor(torch.sum(preds == labels).item() / len(preds))\n",
    "\n",
    "class ImageClassificationBase(nn.Module):\n",
    "    def training_step(self, batch):\n",
    "        images, labels = batch \n",
    "        out = self(images)                  # Generate predictions\n",
    "        loss = F.cross_entropy(out, labels) # Calculate loss\n",
    "        return loss\n",
    "    \n",
    "    def validation_step(self, batch):\n",
    "        images, labels = batch \n",
    "        out = self(images)                    # Generate predictions\n",
    "        loss = F.cross_entropy(out, labels)   # Calculate loss\n",
    "        acc = accuracy(out, labels)           # Calculate accuracy\n",
    "        return {'val_loss': loss.detach(), 'val_acc': acc}\n",
    "        \n",
    "    def validation_epoch_end(self, outputs):\n",
    "        batch_losses = [x['val_loss'] for x in outputs]\n",
    "        epoch_loss = torch.stack(batch_losses).mean()   # Combine losses\n",
    "        batch_accs = [x['val_acc'] for x in outputs]\n",
    "        epoch_acc = torch.stack(batch_accs).mean()      # Combine accuracies\n",
    "        return {'val_loss': epoch_loss.item(), 'val_acc': epoch_acc.item()}\n",
    "    \n",
    "    def epoch_end(self, epoch, result):\n",
    "        print(\"Epoch [{}], train_loss: {:.4f}, val_loss: {:.4f}, val_acc: {:.4f}\".format(\n",
    "            epoch, result['train_loss'], result['val_loss'], result['val_acc']))"
   ]
  },
  {
   "cell_type": "markdown",
   "id": "junior-maldives",
   "metadata": {},
   "source": [
    "## Resnets"
   ]
  },
  {
   "cell_type": "code",
   "execution_count": 12,
   "id": "official-quilt",
   "metadata": {},
   "outputs": [],
   "source": [
    "def conv_block_res9(in_channels, out_channels, pool=False):\n",
    "    layers = [nn.Conv2d(in_channels, out_channels, kernel_size=3, padding=1), \n",
    "              nn.BatchNorm2d(out_channels), \n",
    "              nn.ReLU(inplace=True)]\n",
    "    if pool: layers.append(nn.MaxPool2d(2))\n",
    "    return nn.Sequential(*layers)\n",
    "\n",
    "class ResNet9(ImageClassificationBase):\n",
    "    def __init__(self, in_channels, num_classes):\n",
    "        super().__init__()\n",
    "        \n",
    "        self.conv1 = conv_block_res9(in_channels, 64)\n",
    "        self.conv2 = conv_block_res9(64, 128, pool=True)\n",
    "        self.res1 = nn.Sequential(conv_block_res9(128, 128), conv_block_res9(128, 128))\n",
    "        \n",
    "        self.conv3 = conv_block_res9(128, 256, pool=True)\n",
    "        self.conv4 = conv_block_res9(256, 512, pool=True)\n",
    "        self.res2 = nn.Sequential(conv_block_res9(512, 512), conv_block_res9(512, 512))\n",
    "        \n",
    "        self.classifier = nn.Sequential(nn.MaxPool2d(4), \n",
    "                                        nn.Flatten(), \n",
    "                                        nn.Linear(512, num_classes))\n",
    "        \n",
    "    def forward(self, xb):\n",
    "        out = self.conv1(xb)\n",
    "        out = self.conv2(out)\n",
    "        out = self.res1(out) + out\n",
    "        out = self.conv3(out)\n",
    "        out = self.conv4(out)\n",
    "        out = self.res2(out) + out\n",
    "        out = self.classifier(out)\n",
    "        return out"
   ]
  },
  {
   "cell_type": "code",
   "execution_count": 13,
   "id": "interested-enemy",
   "metadata": {},
   "outputs": [],
   "source": [
    "def conv_block_res20(in_channels, out_channels, stride=1):\n",
    "    layers = [nn.Conv2d(in_channels, out_channels, kernel_size=3, padding=1, stride=stride), \n",
    "              nn.BatchNorm2d(out_channels), \n",
    "              nn.ReLU(inplace=True)]\n",
    "    return nn.Sequential(*layers)\n",
    "\n",
    "def shortcut(in_channels, out_channels):\n",
    "    return nn.Conv2d(in_channels, out_channels, kernel_size=3, padding=1, stride=2)\n",
    "\n",
    "class ResNet20(ImageClassificationBase):\n",
    "    def __init__(self, in_channels, num_classes, n):\n",
    "        super().__init__()\n",
    "        \n",
    "        self.n = n\n",
    "        \n",
    "        # 32x32 map\n",
    "        self.conv1 = conv_block_res20(in_channels, 16)\n",
    "        self.reg32 = nn.Sequential(conv_block_res20(16,16), conv_block_res20(16,16))\n",
    "        \n",
    "        # 16x16 map\n",
    "        self.entry16 = nn.Sequential(conv_block_res20(16, 32, stride=2), conv_block_res20(32, 32))\n",
    "        self.short16 = shortcut(16, 32)\n",
    "        self.reg16 = nn.Sequential(conv_block_res20(32, 32), conv_block_res20(32, 32))\n",
    "        \n",
    "        # 8x8 map\n",
    "        self.entry8 = nn.Sequential(conv_block_res20(32, 64, stride=2), conv_block_res20(64, 64))\n",
    "        self.short8 = shortcut(32, 64)\n",
    "        self.reg8 = nn.Sequential(conv_block_res20(64, 64), conv_block_res20(64, 64))\n",
    "        \n",
    "        self.classifier = nn.Sequential(nn.AvgPool2d(kernel_size=8, stride=None, padding=0), \n",
    "                                        nn.Linear(64, num_classes),\n",
    "                                       nn.Softmax())\n",
    "        # FOR DEBUGGING\n",
    "        self.avg = nn.AvgPool2d(kernel_size=8, stride=None, padding=0)\n",
    "        self.flat = nn.Flatten()\n",
    "        self.fcl = nn.Linear(64, num_classes)\n",
    "        self.sm = nn.Softmax()\n",
    "        \n",
    "    def forward(self, xb):\n",
    "        out = self.conv1(xb)\n",
    "        \n",
    "        for i in range(self.n):\n",
    "            out = self.reg32(out) + out\n",
    "            \n",
    "        out = self.entry16(out) + self.short16(out)\n",
    "        for i in range(self.n - 1):\n",
    "            out = self.reg16(out) + out\n",
    "            \n",
    "        out = self.entry8(out) + self.short8(out)\n",
    "        for i in range(self.n - 1):\n",
    "            out = self.reg8(out) + out\n",
    "\n",
    "        #out = self.classifier(out)\n",
    "        out = self.avg(out)\n",
    "        out = self.flat(out)\n",
    "        out = self.fcl(out)\n",
    "        out = self.sm(out)\n",
    "        \n",
    "        return out"
   ]
  },
  {
   "cell_type": "markdown",
   "id": "maritime-catch",
   "metadata": {},
   "source": [
    "## Transfer to device"
   ]
  },
  {
   "cell_type": "code",
   "execution_count": 14,
   "id": "breathing-savannah",
   "metadata": {},
   "outputs": [],
   "source": [
    "# model_res9 = to_device(ResNet9(3,10), device)\n",
    "model_res20 = to_device(ResNet20(3,10,3), device)"
   ]
  },
  {
   "cell_type": "code",
   "execution_count": 15,
   "id": "atomic-clearance",
   "metadata": {},
   "outputs": [],
   "source": [
    "@torch.no_grad()\n",
    "def evaluate(model, val_loader):\n",
    "    model.eval()\n",
    "    outputs = [model.validation_step(batch) for batch in val_loader]\n",
    "    return model.validation_epoch_end(outputs)\n",
    "\n",
    "def get_lr(optimizer):\n",
    "    for param_group in optimizer.param_groups:\n",
    "        return param_group['lr']\n",
    "    \n",
    "def fit_one_cycle(epochs, max_lr, model, train_loader, val_loader, \n",
    "                  weight_decay=0, grad_clip=None, opt_func=torch.optim.SGD):\n",
    "    torch.cuda.empty_cache()  # Realsing cuda memory otherwise might get cuda out of memory error\n",
    "    history = []\n",
    "    \n",
    "    #custom optimizer with weight decay\n",
    "    optimizer = opt_func(model.parameters(), max_lr, weight_decay=weight_decay)\n",
    "    # Set up one-cycle learning rate scheduler\n",
    "    sched = torch.optim.lr_scheduler.OneCycleLR(optimizer, max_lr, epochs=epochs, \n",
    "                                                steps_per_epoch=len(train_loader),cycle_momentum=False)\n",
    "    \n",
    "    for epoch in range(epochs):\n",
    "        # Training Phase \n",
    "        model.train() #Setting training mode\n",
    "        train_losses = []\n",
    "        lrs = [] \n",
    "        for batch in train_loader:\n",
    "            loss = model.training_step(batch)\n",
    "            train_losses.append(loss)\n",
    "            loss.backward()\n",
    "            \n",
    "            # Gradient clipping\n",
    "            if grad_clip: \n",
    "                nn.utils.clip_grad_value_(model.parameters(), grad_clip)\n",
    "            \n",
    "            optimizer.step()\n",
    "            optimizer.zero_grad()\n",
    "            \n",
    "            # Record & update learning rate\n",
    "            lrs.append(get_lr(optimizer))\n",
    "            sched.step()\n",
    "        \n",
    "        # Validation phase\n",
    "        result = evaluate(model, val_loader) \n",
    "        result['train_loss'] = torch.stack(train_losses).mean().item()\n",
    "        result['lrs'] = lrs\n",
    "        model.epoch_end(epoch, result)\n",
    "        history.append(result)\n",
    "    return history"
   ]
  },
  {
   "cell_type": "code",
   "execution_count": 16,
   "id": "better-research",
   "metadata": {},
   "outputs": [],
   "source": [
    "# # Smoke test: if something's wrong with how we set up our model, we'll see it now\n",
    "# histories = {\"ResNet-9\": [evaluate(model_res9, valid_dl_res9)], \"ResNet-20\": [evaluate(model_res20, valid_dl_res20)]}\n",
    "\n",
    "# print(histories)"
   ]
  },
  {
   "cell_type": "markdown",
   "id": "mineral-formula",
   "metadata": {},
   "source": [
    "## Training"
   ]
  },
  {
   "cell_type": "code",
   "execution_count": 17,
   "id": "social-therapy",
   "metadata": {},
   "outputs": [],
   "source": [
    "epochs_res9 = 70\n",
    "epochs_res20 = 140\n",
    "histories = {\"ResNet-20\":[]}\n",
    "max_lr = 0.01\n",
    "grad_clip = 0.1\n",
    "weight_decay = 1e-4\n",
    "opt_func = torch.optim.Adadelta"
   ]
  },
  {
   "cell_type": "code",
   "execution_count": 18,
   "id": "alert-flush",
   "metadata": {},
   "outputs": [],
   "source": [
    "# %%time\n",
    "# histories[\"ResNet-9\"] += fit_one_cycle(epochs_res9, max_lr, model_res9, train_dl_res9, valid_dl_res9, \n",
    "#                              grad_clip=grad_clip, \n",
    "#                              weight_decay=weight_decay, \n",
    "#                              opt_func=opt_func)"
   ]
  },
  {
   "cell_type": "code",
   "execution_count": 19,
   "id": "rotary-letter",
   "metadata": {},
   "outputs": [
    {
     "name": "stderr",
     "output_type": "stream",
     "text": [
      "/home/userfs/s/sb2444/.local/lib/python3.6/site-packages/ipykernel_launcher.py:57: UserWarning: Implicit dimension choice for softmax has been deprecated. Change the call to include dim=X as an argument.\n"
     ]
    },
    {
     "name": "stdout",
     "output_type": "stream",
     "text": [
      "Epoch [0], train_loss: 2.3046, val_loss: 2.3042, val_acc: 0.1016\n",
      "Epoch [1], train_loss: 2.3033, val_loss: 2.3031, val_acc: 0.1022\n",
      "Epoch [2], train_loss: 2.3016, val_loss: 2.3018, val_acc: 0.1031\n",
      "Epoch [3], train_loss: 2.2998, val_loss: 2.3001, val_acc: 0.1077\n",
      "Epoch [4], train_loss: 2.2974, val_loss: 2.2981, val_acc: 0.1147\n",
      "Epoch [5], train_loss: 2.2944, val_loss: 2.2957, val_acc: 0.1260\n",
      "Epoch [6], train_loss: 2.2907, val_loss: 2.2924, val_acc: 0.1345\n",
      "Epoch [7], train_loss: 2.2856, val_loss: 2.2878, val_acc: 0.1448\n",
      "Epoch [8], train_loss: 2.2786, val_loss: 2.2805, val_acc: 0.1704\n",
      "Epoch [9], train_loss: 2.2690, val_loss: 2.2715, val_acc: 0.1970\n",
      "Epoch [10], train_loss: 2.2586, val_loss: 2.2623, val_acc: 0.2276\n",
      "Epoch [11], train_loss: 2.2484, val_loss: 2.2515, val_acc: 0.2362\n",
      "Epoch [12], train_loss: 2.2379, val_loss: 2.2404, val_acc: 0.2356\n",
      "Epoch [13], train_loss: 2.2275, val_loss: 2.2299, val_acc: 0.2337\n",
      "Epoch [14], train_loss: 2.2178, val_loss: 2.2206, val_acc: 0.2415\n",
      "Epoch [15], train_loss: 2.2082, val_loss: 2.2122, val_acc: 0.2560\n",
      "Epoch [16], train_loss: 2.1985, val_loss: 2.2039, val_acc: 0.2628\n",
      "Epoch [17], train_loss: 2.1898, val_loss: 2.1957, val_acc: 0.2660\n",
      "Epoch [18], train_loss: 2.1815, val_loss: 2.1899, val_acc: 0.2665\n",
      "Epoch [19], train_loss: 2.1743, val_loss: 2.1831, val_acc: 0.2773\n",
      "Epoch [20], train_loss: 2.1663, val_loss: 2.1765, val_acc: 0.2847\n",
      "Epoch [21], train_loss: 2.1594, val_loss: 2.1697, val_acc: 0.2929\n",
      "Epoch [22], train_loss: 2.1531, val_loss: 2.1665, val_acc: 0.2940\n",
      "Epoch [23], train_loss: 2.1472, val_loss: 2.1599, val_acc: 0.3036\n",
      "Epoch [24], train_loss: 2.1408, val_loss: 2.1555, val_acc: 0.3075\n",
      "Epoch [25], train_loss: 2.1362, val_loss: 2.1515, val_acc: 0.3142\n",
      "Epoch [26], train_loss: 2.1308, val_loss: 2.1473, val_acc: 0.3183\n",
      "Epoch [27], train_loss: 2.1254, val_loss: 2.1469, val_acc: 0.3159\n",
      "Epoch [28], train_loss: 2.1198, val_loss: 2.1498, val_acc: 0.3101\n",
      "Epoch [29], train_loss: 2.1156, val_loss: 2.1447, val_acc: 0.3155\n",
      "Epoch [30], train_loss: 2.1107, val_loss: 2.1471, val_acc: 0.3118\n",
      "Epoch [31], train_loss: 2.1042, val_loss: 2.1476, val_acc: 0.3097\n",
      "Epoch [32], train_loss: 2.0990, val_loss: 2.1533, val_acc: 0.2990\n",
      "Epoch [33], train_loss: 2.0935, val_loss: 2.1502, val_acc: 0.3052\n",
      "Epoch [34], train_loss: 2.0867, val_loss: 2.1517, val_acc: 0.3012\n",
      "Epoch [35], train_loss: 2.0795, val_loss: 2.1564, val_acc: 0.2973\n",
      "Epoch [36], train_loss: 2.0711, val_loss: 2.1390, val_acc: 0.3223\n",
      "Epoch [37], train_loss: 2.0624, val_loss: 2.1352, val_acc: 0.3278\n",
      "Epoch [38], train_loss: 2.0539, val_loss: 2.1337, val_acc: 0.3320\n",
      "Epoch [39], train_loss: 2.0463, val_loss: 2.1269, val_acc: 0.3384\n",
      "Epoch [40], train_loss: 2.0382, val_loss: 2.1271, val_acc: 0.3376\n",
      "Epoch [41], train_loss: 2.0325, val_loss: 2.1228, val_acc: 0.3447\n",
      "Epoch [42], train_loss: 2.0265, val_loss: 2.1176, val_acc: 0.3495\n",
      "Epoch [43], train_loss: 2.0193, val_loss: 2.1179, val_acc: 0.3496\n",
      "Epoch [44], train_loss: 2.0128, val_loss: 2.1188, val_acc: 0.3460\n",
      "Epoch [45], train_loss: 2.0070, val_loss: 2.1273, val_acc: 0.3350\n",
      "Epoch [46], train_loss: 2.0029, val_loss: 2.1228, val_acc: 0.3393\n",
      "Epoch [47], train_loss: 1.9980, val_loss: 2.1224, val_acc: 0.3424\n",
      "Epoch [48], train_loss: 1.9942, val_loss: 2.1084, val_acc: 0.3568\n",
      "Epoch [49], train_loss: 1.9895, val_loss: 2.1159, val_acc: 0.3506\n",
      "Epoch [50], train_loss: 1.9857, val_loss: 2.1088, val_acc: 0.3576\n",
      "Epoch [51], train_loss: 1.9815, val_loss: 2.1148, val_acc: 0.3499\n",
      "Epoch [52], train_loss: 1.9775, val_loss: 2.1185, val_acc: 0.3434\n",
      "Epoch [53], train_loss: 1.9739, val_loss: 2.1213, val_acc: 0.3411\n",
      "Epoch [54], train_loss: 1.9711, val_loss: 2.1235, val_acc: 0.3376\n",
      "Epoch [55], train_loss: 1.9681, val_loss: 2.1349, val_acc: 0.3260\n",
      "Epoch [56], train_loss: 1.9656, val_loss: 2.1216, val_acc: 0.3419\n",
      "Epoch [57], train_loss: 1.9616, val_loss: 2.1272, val_acc: 0.3336\n",
      "Epoch [58], train_loss: 1.9589, val_loss: 2.1187, val_acc: 0.3427\n",
      "Epoch [59], train_loss: 1.9568, val_loss: 2.1149, val_acc: 0.3462\n",
      "Epoch [60], train_loss: 1.9538, val_loss: 2.1247, val_acc: 0.3348\n",
      "Epoch [61], train_loss: 1.9505, val_loss: 2.1123, val_acc: 0.3518\n",
      "Epoch [62], train_loss: 1.9495, val_loss: 2.1240, val_acc: 0.3353\n",
      "Epoch [63], train_loss: 1.9459, val_loss: 2.1162, val_acc: 0.3444\n",
      "Epoch [64], train_loss: 1.9431, val_loss: 2.1083, val_acc: 0.3537\n",
      "Epoch [65], train_loss: 1.9397, val_loss: 2.1180, val_acc: 0.3429\n",
      "Epoch [66], train_loss: 1.9386, val_loss: 2.1009, val_acc: 0.3626\n",
      "Epoch [67], train_loss: 1.9363, val_loss: 2.1023, val_acc: 0.3589\n",
      "Epoch [68], train_loss: 1.9345, val_loss: 2.0881, val_acc: 0.3751\n",
      "Epoch [69], train_loss: 1.9318, val_loss: 2.0929, val_acc: 0.3704\n",
      "Epoch [70], train_loss: 1.9292, val_loss: 2.0953, val_acc: 0.3671\n",
      "Epoch [71], train_loss: 1.9286, val_loss: 2.0856, val_acc: 0.3784\n",
      "Epoch [72], train_loss: 1.9254, val_loss: 2.0914, val_acc: 0.3724\n",
      "Epoch [73], train_loss: 1.9216, val_loss: 2.0879, val_acc: 0.3744\n",
      "Epoch [74], train_loss: 1.9214, val_loss: 2.0802, val_acc: 0.3835\n",
      "Epoch [75], train_loss: 1.9195, val_loss: 2.0881, val_acc: 0.3747\n",
      "Epoch [76], train_loss: 1.9176, val_loss: 2.0823, val_acc: 0.3795\n",
      "Epoch [77], train_loss: 1.9164, val_loss: 2.0885, val_acc: 0.3734\n",
      "Epoch [78], train_loss: 1.9140, val_loss: 2.0657, val_acc: 0.3970\n",
      "Epoch [79], train_loss: 1.9118, val_loss: 2.0799, val_acc: 0.3819\n",
      "Epoch [80], train_loss: 1.9130, val_loss: 2.0682, val_acc: 0.3960\n",
      "Epoch [81], train_loss: 1.9103, val_loss: 2.0713, val_acc: 0.3903\n",
      "Epoch [82], train_loss: 1.9075, val_loss: 2.0691, val_acc: 0.3929\n",
      "Epoch [83], train_loss: 1.9074, val_loss: 2.0522, val_acc: 0.4090\n",
      "Epoch [84], train_loss: 1.9045, val_loss: 2.0608, val_acc: 0.4014\n",
      "Epoch [85], train_loss: 1.9045, val_loss: 2.0501, val_acc: 0.4137\n",
      "Epoch [86], train_loss: 1.9037, val_loss: 2.0652, val_acc: 0.3944\n",
      "Epoch [87], train_loss: 1.9026, val_loss: 2.0585, val_acc: 0.4010\n",
      "Epoch [88], train_loss: 1.9004, val_loss: 2.0602, val_acc: 0.4051\n",
      "Epoch [89], train_loss: 1.9016, val_loss: 2.0709, val_acc: 0.3913\n",
      "Epoch [90], train_loss: 1.8987, val_loss: 2.0497, val_acc: 0.4131\n",
      "Epoch [91], train_loss: 1.8981, val_loss: 2.0487, val_acc: 0.4140\n",
      "Epoch [92], train_loss: 1.8967, val_loss: 2.0540, val_acc: 0.4100\n",
      "Epoch [93], train_loss: 1.8952, val_loss: 2.0444, val_acc: 0.4175\n",
      "Epoch [94], train_loss: 1.8946, val_loss: 2.0579, val_acc: 0.4055\n",
      "Epoch [95], train_loss: 1.8942, val_loss: 2.0523, val_acc: 0.4095\n",
      "Epoch [96], train_loss: 1.8940, val_loss: 2.0511, val_acc: 0.4113\n",
      "Epoch [97], train_loss: 1.8921, val_loss: 2.0398, val_acc: 0.4237\n",
      "Epoch [98], train_loss: 1.8926, val_loss: 2.0429, val_acc: 0.4213\n",
      "Epoch [99], train_loss: 1.8917, val_loss: 2.0416, val_acc: 0.4202\n",
      "Epoch [100], train_loss: 1.8902, val_loss: 2.0387, val_acc: 0.4217\n",
      "Epoch [101], train_loss: 1.8904, val_loss: 2.0398, val_acc: 0.4220\n",
      "Epoch [102], train_loss: 1.8905, val_loss: 2.0419, val_acc: 0.4195\n",
      "Epoch [103], train_loss: 1.8895, val_loss: 2.0314, val_acc: 0.4315\n",
      "Epoch [104], train_loss: 1.8875, val_loss: 2.0374, val_acc: 0.4241\n",
      "Epoch [105], train_loss: 1.8891, val_loss: 2.0334, val_acc: 0.4276\n",
      "Epoch [106], train_loss: 1.8891, val_loss: 2.0362, val_acc: 0.4250\n",
      "Epoch [107], train_loss: 1.8884, val_loss: 2.0260, val_acc: 0.4374\n",
      "Epoch [108], train_loss: 1.8867, val_loss: 2.0293, val_acc: 0.4334\n",
      "Epoch [109], train_loss: 1.8849, val_loss: 2.0351, val_acc: 0.4268\n",
      "Epoch [110], train_loss: 1.8867, val_loss: 2.0331, val_acc: 0.4288\n",
      "Epoch [111], train_loss: 1.8853, val_loss: 2.0337, val_acc: 0.4278\n",
      "Epoch [112], train_loss: 1.8856, val_loss: 2.0339, val_acc: 0.4278\n",
      "Epoch [113], train_loss: 1.8831, val_loss: 2.0345, val_acc: 0.4273\n",
      "Epoch [114], train_loss: 1.8848, val_loss: 2.0344, val_acc: 0.4300\n",
      "Epoch [115], train_loss: 1.8836, val_loss: 2.0328, val_acc: 0.4301\n",
      "Epoch [116], train_loss: 1.8840, val_loss: 2.0357, val_acc: 0.4270\n",
      "Epoch [117], train_loss: 1.8843, val_loss: 2.0342, val_acc: 0.4287\n",
      "Epoch [118], train_loss: 1.8829, val_loss: 2.0317, val_acc: 0.4312\n",
      "Epoch [119], train_loss: 1.8841, val_loss: 2.0367, val_acc: 0.4264\n",
      "Epoch [120], train_loss: 1.8837, val_loss: 2.0321, val_acc: 0.4305\n",
      "Epoch [121], train_loss: 1.8845, val_loss: 2.0300, val_acc: 0.4341\n",
      "Epoch [122], train_loss: 1.8833, val_loss: 2.0325, val_acc: 0.4308\n",
      "Epoch [123], train_loss: 1.8846, val_loss: 2.0288, val_acc: 0.4365\n",
      "Epoch [124], train_loss: 1.8843, val_loss: 2.0332, val_acc: 0.4299\n",
      "Epoch [125], train_loss: 1.8825, val_loss: 2.0302, val_acc: 0.4331\n",
      "Epoch [126], train_loss: 1.8826, val_loss: 2.0304, val_acc: 0.4331\n",
      "Epoch [127], train_loss: 1.8831, val_loss: 2.0307, val_acc: 0.4324\n",
      "Epoch [128], train_loss: 1.8826, val_loss: 2.0310, val_acc: 0.4321\n",
      "Epoch [129], train_loss: 1.8820, val_loss: 2.0324, val_acc: 0.4307\n",
      "Epoch [130], train_loss: 1.8815, val_loss: 2.0306, val_acc: 0.4328\n",
      "Epoch [131], train_loss: 1.8803, val_loss: 2.0328, val_acc: 0.4313\n",
      "Epoch [132], train_loss: 1.8821, val_loss: 2.0301, val_acc: 0.4334\n",
      "Epoch [133], train_loss: 1.8810, val_loss: 2.0264, val_acc: 0.4374\n",
      "Epoch [134], train_loss: 1.8820, val_loss: 2.0314, val_acc: 0.4314\n",
      "Epoch [135], train_loss: 1.8809, val_loss: 2.0315, val_acc: 0.4303\n",
      "Epoch [136], train_loss: 1.8825, val_loss: 2.0325, val_acc: 0.4315\n",
      "Epoch [137], train_loss: 1.8811, val_loss: 2.0298, val_acc: 0.4332\n",
      "Epoch [138], train_loss: 1.8820, val_loss: 2.0312, val_acc: 0.4320\n",
      "Epoch [139], train_loss: 1.8822, val_loss: 2.0324, val_acc: 0.4308\n",
      "CPU times: user 12min 52s, sys: 1min 57s, total: 14min 49s\n",
      "Wall time: 20min 46s\n"
     ]
    }
   ],
   "source": [
    "%%time\n",
    "histories[\"ResNet-20\"] += fit_one_cycle(epochs_res20, max_lr, model_res20, train_dl_res20, valid_dl_res20, \n",
    "                             grad_clip=grad_clip, \n",
    "                             weight_decay=weight_decay, \n",
    "                             opt_func=opt_func)"
   ]
  },
  {
   "cell_type": "markdown",
   "id": "superb-cause",
   "metadata": {},
   "source": [
    "## Graphs"
   ]
  },
  {
   "cell_type": "code",
   "execution_count": 20,
   "id": "quick-ukraine",
   "metadata": {},
   "outputs": [],
   "source": [
    "def plot_accuracies(histories):\n",
    "    for resnet in  histories.keys():\n",
    "        history = histories[resnet]\n",
    "        accuracies = [x['val_acc'] for x in history]\n",
    "        plt.figure(figsize=(10,6))\n",
    "        plt.plot(accuracies, '-x')\n",
    "        plt.xlabel('epoch')\n",
    "        plt.ylabel('accuracy')\n",
    "        plt.title(f'{resnet} Accuracy vs. No. of epochs');\n",
    "    \n",
    "def plot_losses(histories):\n",
    "    for resnet in  histories.keys():\n",
    "        history = histories[resnet]\n",
    "        train_losses = [x.get('train_loss') for x in history]\n",
    "        val_losses = [x['val_loss'] for x in history]\n",
    "        plt.figure(figsize=(10,6))\n",
    "        plt.plot(train_losses, '-bx')\n",
    "        plt.plot(val_losses, '-rx')\n",
    "        plt.xlabel('epoch')\n",
    "        plt.ylabel('loss')\n",
    "        plt.legend(['Training', 'Validation'])\n",
    "        plt.title(f'{resnet} Loss vs. No. of epochs');\n",
    "    \n",
    "def plot_lrs(histories):\n",
    "    for resnet in  histories.keys():\n",
    "        history = histories[resnet]\n",
    "        lrs = np.concatenate([x.get('lrs', []) for x in history])\n",
    "        plt.figure(figsize=(10,6))\n",
    "        plt.plot(lrs)\n",
    "        plt.xlabel('Batch no.')\n",
    "        plt.ylabel('Learning rate')\n",
    "        plt.title(f'{resnet} Learning Rate vs. Batch no.');"
   ]
  },
  {
   "cell_type": "code",
   "execution_count": 21,
   "id": "amended-academy",
   "metadata": {},
   "outputs": [
    {
     "data": {
      "image/png": "[encoded data removed]",
      "text/plain": [
       "<Figure size 720x432 with 1 Axes>"
      ]
     },
     "metadata": {
      "needs_background": "light"
     },
     "output_type": "display_data"
    }
   ],
   "source": [
    "plot_accuracies(histories)"
   ]
  },
  {
   "cell_type": "code",
   "execution_count": 22,
   "id": "alien-adaptation",
   "metadata": {},
   "outputs": [
    {
     "data": {
      "image/png": "[encoded data removed]",
      "text/plain": [
       "<Figure size 720x432 with 1 Axes>"
      ]
     },
     "metadata": {
      "needs_background": "light"
     },
     "output_type": "display_data"
    }
   ],
   "source": [
    "plot_losses(histories)"
   ]
  },
  {
   "cell_type": "code",
   "execution_count": 23,
   "id": "colonial-delivery",
   "metadata": {},
   "outputs": [
    {
     "data": {
      "image/png": "[encoded data removed]",
      "text/plain": [
       "<Figure size 720x432 with 1 Axes>"
      ]
     },
     "metadata": {
      "needs_background": "light"
     },
     "output_type": "display_data"
    }
   ],
   "source": [
    "plot_lrs(histories)"
   ]
  }
 ],
 "metadata": {
  "kernelspec": {
   "display_name": "Python 3",
   "language": "python",
   "name": "python3"
  },
  "language_info": {
   "codemirror_mode": {
    "name": "ipython",
    "version": 3
   },
   "file_extension": ".py",
   "mimetype": "text/x-python",
   "name": "python",
   "nbconvert_exporter": "python",
   "pygments_lexer": "ipython3",
   "version": "3.6.9"
  }
 },
 "nbformat": 4,
 "nbformat_minor": 5
}
