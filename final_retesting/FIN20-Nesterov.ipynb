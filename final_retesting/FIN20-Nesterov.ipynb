{
 "cells": [
  {
   "cell_type": "markdown",
   "id": "neutral-vacation",
   "metadata": {},
   "source": [
    "## Importing libraries"
   ]
  },
  {
   "cell_type": "code",
   "execution_count": 1,
   "id": "obvious-progressive",
   "metadata": {},
   "outputs": [
    {
     "name": "stderr",
     "output_type": "stream",
     "text": [
      "Matplotlib created a temporary config/cache directory at /tmp/matplotlib-3_4ijcu8 because the default path (/run/user/141228/cache/matplotlib) is not a writable directory; it is highly recommended to set the MPLCONFIGDIR environment variable to a writable directory, in particular to speed up the import of Matplotlib and to better support multiprocessing.\n"
     ]
    }
   ],
   "source": [
    "import torch\n",
    "import torchvision\n",
    "from torchvision.datasets.utils import download_url\n",
    "from torch.utils.data import random_split\n",
    "from torchvision.datasets import ImageFolder\n",
    "from torchvision.transforms import ToTensor,ToPILImage\n",
    "import matplotlib.pyplot as plt\n",
    "from torchvision.utils import make_grid\n",
    "from torch.utils.data.dataloader import DataLoader\n",
    "from torchvision.utils import make_grid\n",
    "import torch.nn as nn\n",
    "import torch.nn.functional as F\n",
    "import torchvision.transforms as tt\n",
    "import numpy as np\n",
    "import torchvision.datasets as datasets"
   ]
  },
  {
   "cell_type": "markdown",
   "id": "compliant-manufacturer",
   "metadata": {},
   "source": [
    "## Data and device loading"
   ]
  },
  {
   "cell_type": "code",
   "execution_count": 2,
   "id": "international-snapshot",
   "metadata": {},
   "outputs": [],
   "source": [
    "torch.backends.cudnn.benchmark = True\n",
    "device = torch.device(\"cuda:5\" if torch.cuda.is_available() else \"cpu\")"
   ]
  },
  {
   "cell_type": "code",
   "execution_count": 3,
   "id": "hollow-territory",
   "metadata": {},
   "outputs": [],
   "source": [
    "stats= ((0.4914,0.4822,0.4465),(0.2023,0.1994,0.2010)) #mean and std\n",
    "train_tfm= tt.Compose([tt.RandomCrop(32, padding=4, padding_mode='reflect'), # transormation of data together\n",
    "                       tt.RandomHorizontalFlip(),\n",
    "                       tt.ToTensor()])\n",
    "valid_tfm = tt.Compose([tt.ToTensor()])"
   ]
  },
  {
   "cell_type": "code",
   "execution_count": 4,
   "id": "boxed-seating",
   "metadata": {},
   "outputs": [
    {
     "name": "stdout",
     "output_type": "stream",
     "text": [
      "Files already downloaded and verified\n"
     ]
    }
   ],
   "source": [
    "training_data = datasets.CIFAR10(\n",
    "    root=\"data\",\n",
    "    train=True,\n",
    "    download=True,\n",
    "    transform=train_tfm,\n",
    ")"
   ]
  },
  {
   "cell_type": "code",
   "execution_count": 5,
   "id": "significant-hybrid",
   "metadata": {},
   "outputs": [
    {
     "name": "stdout",
     "output_type": "stream",
     "text": [
      "Files already downloaded and verified\n"
     ]
    }
   ],
   "source": [
    "# Download test data from open datasets.\n",
    "test_data = datasets.CIFAR10(\n",
    "    root=\"data\",\n",
    "    train=False,\n",
    "    download=True,\n",
    "    transform=valid_tfm,\n",
    ")"
   ]
  },
  {
   "cell_type": "code",
   "execution_count": 6,
   "id": "transparent-friday",
   "metadata": {},
   "outputs": [
    {
     "data": {
      "text/plain": [
       "Dataset CIFAR10\n",
       "    Number of datapoints: 50000\n",
       "    Root location: data\n",
       "    Split: Train\n",
       "    StandardTransform\n",
       "Transform: Compose(\n",
       "               RandomCrop(size=(32, 32), padding=4)\n",
       "               RandomHorizontalFlip(p=0.5)\n",
       "               ToTensor()\n",
       "           )"
      ]
     },
     "execution_count": 6,
     "metadata": {},
     "output_type": "execute_result"
    }
   ],
   "source": [
    "valid_ds = test_data\n",
    "train_ds = training_data\n",
    "train_ds"
   ]
  },
  {
   "cell_type": "code",
   "execution_count": 7,
   "id": "modified-approach",
   "metadata": {},
   "outputs": [],
   "source": [
    "batch_size_res9=400\n",
    "batch_size_res20=400"
   ]
  },
  {
   "cell_type": "code",
   "execution_count": 8,
   "id": "entertaining-handy",
   "metadata": {},
   "outputs": [],
   "source": [
    "# Dataloader to load data in batches(mini batch)\n",
    "train_dl_res9= DataLoader(train_ds,batch_size_res9,shuffle=True, num_workers=3, pin_memory=True) \n",
    "valid_dl_res9= DataLoader(valid_ds, batch_size_res9, num_workers=3,pin_memory=True) \n",
    "\n",
    "train_dl_res20= DataLoader(train_ds,batch_size_res20,shuffle=True, num_workers=3, pin_memory=True) \n",
    "valid_dl_res20= DataLoader(valid_ds, batch_size_res20, num_workers=3,pin_memory=True)"
   ]
  },
  {
   "cell_type": "code",
   "execution_count": 9,
   "id": "invisible-frost",
   "metadata": {},
   "outputs": [],
   "source": [
    "def get_default_device():\n",
    "    \"\"\"Pick GPU if available, else CPU\"\"\"\n",
    "    if torch.cuda.is_available():\n",
    "        return torch.device('cuda')\n",
    "    else:\n",
    "        return torch.device('cpu')\n",
    "    \n",
    "def to_device(data, device):\n",
    "    \"\"\"Move tensor(s) to chosen device\"\"\"\n",
    "    if isinstance(data, (list,tuple)):\n",
    "        return [to_device(x, device) for x in data]\n",
    "    return data.to(device, non_blocking=True)\n",
    "\n",
    "class DeviceDataLoader():\n",
    "    \"\"\"Wrap a dataloader to move data to a device\"\"\"\n",
    "    def __init__(self, dl, device):\n",
    "        self.dl = dl\n",
    "        self.device = device\n",
    "        \n",
    "    def __iter__(self):\n",
    "        \"\"\"Yield a batch of data after moving it to device\"\"\"\n",
    "        for b in self.dl: \n",
    "            yield to_device(b, self.device)\n",
    "\n",
    "    def __len__(self):\n",
    "        \"\"\"Number of batches\"\"\"\n",
    "        return len(self.dl)"
   ]
  },
  {
   "cell_type": "code",
   "execution_count": 10,
   "id": "dominican-peeing",
   "metadata": {},
   "outputs": [],
   "source": [
    "train_dl_res9= DeviceDataLoader(train_dl_res9, device)\n",
    "valid_dl_res9 = DeviceDataLoader(valid_dl_res9, device)\n",
    "\n",
    "train_dl_res20= DeviceDataLoader(train_dl_res20, device)\n",
    "valid_dl_res20 = DeviceDataLoader(valid_dl_res20, device)"
   ]
  },
  {
   "cell_type": "markdown",
   "id": "offshore-appointment",
   "metadata": {},
   "source": [
    "## Training loop"
   ]
  },
  {
   "cell_type": "code",
   "execution_count": 11,
   "id": "arctic-purchase",
   "metadata": {},
   "outputs": [],
   "source": [
    "def accuracy(outputs, labels):\n",
    "    _, preds = torch.max(outputs, dim=1)\n",
    "    return torch.tensor(torch.sum(preds == labels).item() / len(preds))\n",
    "\n",
    "class ImageClassificationBase(nn.Module):\n",
    "    def training_step(self, batch):\n",
    "        images, labels = batch \n",
    "        out = self(images)                  # Generate predictions\n",
    "        loss = F.cross_entropy(out, labels) # Calculate loss\n",
    "        return loss\n",
    "    \n",
    "    def validation_step(self, batch):\n",
    "        images, labels = batch \n",
    "        out = self(images)                    # Generate predictions\n",
    "        loss = F.cross_entropy(out, labels)   # Calculate loss\n",
    "        acc = accuracy(out, labels)           # Calculate accuracy\n",
    "        return {'val_loss': loss.detach(), 'val_acc': acc}\n",
    "        \n",
    "    def validation_epoch_end(self, outputs):\n",
    "        batch_losses = [x['val_loss'] for x in outputs]\n",
    "        epoch_loss = torch.stack(batch_losses).mean()   # Combine losses\n",
    "        batch_accs = [x['val_acc'] for x in outputs]\n",
    "        epoch_acc = torch.stack(batch_accs).mean()      # Combine accuracies\n",
    "        return {'val_loss': epoch_loss.item(), 'val_acc': epoch_acc.item()}\n",
    "    \n",
    "    def epoch_end(self, epoch, result):\n",
    "        print(\"Epoch [{}], train_loss: {:.4f}, val_loss: {:.4f}, val_acc: {:.4f}\".format(\n",
    "            epoch, result['train_loss'], result['val_loss'], result['val_acc']))"
   ]
  },
  {
   "cell_type": "markdown",
   "id": "thrown-board",
   "metadata": {},
   "source": [
    "## Resnets"
   ]
  },
  {
   "cell_type": "code",
   "execution_count": 12,
   "id": "raised-stuff",
   "metadata": {},
   "outputs": [],
   "source": [
    "def conv_block_res9(in_channels, out_channels, pool=False):\n",
    "    layers = [nn.Conv2d(in_channels, out_channels, kernel_size=3, padding=1), \n",
    "              nn.BatchNorm2d(out_channels), \n",
    "              nn.ReLU(inplace=True)]\n",
    "    if pool: layers.append(nn.MaxPool2d(2))\n",
    "    return nn.Sequential(*layers)\n",
    "\n",
    "class ResNet9(ImageClassificationBase):\n",
    "    def __init__(self, in_channels, num_classes):\n",
    "        super().__init__()\n",
    "        \n",
    "        self.conv1 = conv_block_res9(in_channels, 64)\n",
    "        self.conv2 = conv_block_res9(64, 128, pool=True)\n",
    "        self.res1 = nn.Sequential(conv_block_res9(128, 128), conv_block_res9(128, 128))\n",
    "        \n",
    "        self.conv3 = conv_block_res9(128, 256, pool=True)\n",
    "        self.conv4 = conv_block_res9(256, 512, pool=True)\n",
    "        self.res2 = nn.Sequential(conv_block_res9(512, 512), conv_block_res9(512, 512))\n",
    "        \n",
    "        self.classifier = nn.Sequential(nn.MaxPool2d(4), \n",
    "                                        nn.Flatten(), \n",
    "                                        nn.Linear(512, num_classes))\n",
    "        \n",
    "    def forward(self, xb):\n",
    "        out = self.conv1(xb)\n",
    "        out = self.conv2(out)\n",
    "        out = self.res1(out) + out\n",
    "        out = self.conv3(out)\n",
    "        out = self.conv4(out)\n",
    "        out = self.res2(out) + out\n",
    "        out = self.classifier(out)\n",
    "        return out"
   ]
  },
  {
   "cell_type": "code",
   "execution_count": 13,
   "id": "meaningful-carolina",
   "metadata": {},
   "outputs": [],
   "source": [
    "def conv_block_res20(in_channels, out_channels, stride=1):\n",
    "    layers = [nn.Conv2d(in_channels, out_channels, kernel_size=3, padding=1, stride=stride), \n",
    "              nn.BatchNorm2d(out_channels), \n",
    "              nn.ReLU(inplace=True)]\n",
    "    return nn.Sequential(*layers)\n",
    "\n",
    "def shortcut(in_channels, out_channels):\n",
    "    return nn.Conv2d(in_channels, out_channels, kernel_size=3, padding=1, stride=2)\n",
    "\n",
    "class ResNet20(ImageClassificationBase):\n",
    "    def __init__(self, in_channels, num_classes, n):\n",
    "        super().__init__()\n",
    "        \n",
    "        self.n = n\n",
    "        \n",
    "        # 32x32 map\n",
    "        self.conv1 = conv_block_res20(in_channels, 16)\n",
    "        self.reg32 = nn.Sequential(conv_block_res20(16,16), conv_block_res20(16,16))\n",
    "        \n",
    "        # 16x16 map\n",
    "        self.entry16 = nn.Sequential(conv_block_res20(16, 32, stride=2), conv_block_res20(32, 32))\n",
    "        self.short16 = shortcut(16, 32)\n",
    "        self.reg16 = nn.Sequential(conv_block_res20(32, 32), conv_block_res20(32, 32))\n",
    "        \n",
    "        # 8x8 map\n",
    "        self.entry8 = nn.Sequential(conv_block_res20(32, 64, stride=2), conv_block_res20(64, 64))\n",
    "        self.short8 = shortcut(32, 64)\n",
    "        self.reg8 = nn.Sequential(conv_block_res20(64, 64), conv_block_res20(64, 64))\n",
    "        \n",
    "        self.classifier = nn.Sequential(nn.AvgPool2d(kernel_size=8, stride=None, padding=0), \n",
    "                                        nn.Linear(64, num_classes),\n",
    "                                       nn.Softmax())\n",
    "        # FOR DEBUGGING\n",
    "        self.avg = nn.AvgPool2d(kernel_size=8, stride=None, padding=0)\n",
    "        self.flat = nn.Flatten()\n",
    "        self.fcl = nn.Linear(64, num_classes)\n",
    "        self.sm = nn.Softmax()\n",
    "        \n",
    "    def forward(self, xb):\n",
    "        out = self.conv1(xb)\n",
    "        \n",
    "        for i in range(self.n):\n",
    "            out = self.reg32(out) + out\n",
    "            \n",
    "        out = self.entry16(out) + self.short16(out)\n",
    "        for i in range(self.n - 1):\n",
    "            out = self.reg16(out) + out\n",
    "            \n",
    "        out = self.entry8(out) + self.short8(out)\n",
    "        for i in range(self.n - 1):\n",
    "            out = self.reg8(out) + out\n",
    "\n",
    "        #out = self.classifier(out)\n",
    "        out = self.avg(out)\n",
    "        out = self.flat(out)\n",
    "        out = self.fcl(out)\n",
    "        out = self.sm(out)\n",
    "        \n",
    "        return out"
   ]
  },
  {
   "cell_type": "markdown",
   "id": "sunrise-schema",
   "metadata": {},
   "source": [
    "## Transfer to device"
   ]
  },
  {
   "cell_type": "code",
   "execution_count": 14,
   "id": "painted-commitment",
   "metadata": {},
   "outputs": [],
   "source": [
    "# model_res9 = to_device(ResNet9(3,10), device)\n",
    "model_res20 = to_device(ResNet20(3,10,3), device)"
   ]
  },
  {
   "cell_type": "code",
   "execution_count": 15,
   "id": "extreme-house",
   "metadata": {},
   "outputs": [],
   "source": [
    "@torch.no_grad()\n",
    "def evaluate(model, val_loader):\n",
    "    model.eval()\n",
    "    outputs = [model.validation_step(batch) for batch in val_loader]\n",
    "    return model.validation_epoch_end(outputs)\n",
    "\n",
    "def get_lr(optimizer):\n",
    "    for param_group in optimizer.param_groups:\n",
    "        return param_group['lr']\n",
    "    \n",
    "def fit_one_cycle(epochs, max_lr, model, train_loader, val_loader, \n",
    "                  weight_decay=0, grad_clip=None, opt_func=torch.optim.SGD):\n",
    "    torch.cuda.empty_cache()  # Realsing cuda memory otherwise might get cuda out of memory error\n",
    "    history = []\n",
    "    \n",
    "    #custom optimizer with weight decay\n",
    "    optimizer = opt_func(model.parameters(), max_lr, weight_decay=weight_decay, nesterov=True, momentum=0.9)\n",
    "    # Set up one-cycle learning rate scheduler\n",
    "    sched = torch.optim.lr_scheduler.OneCycleLR(optimizer, max_lr, epochs=epochs, \n",
    "                                                steps_per_epoch=len(train_loader))\n",
    "    \n",
    "    for epoch in range(epochs):\n",
    "        # Training Phase \n",
    "        model.train() #Setting training mode\n",
    "        train_losses = []\n",
    "        lrs = [] \n",
    "        for batch in train_loader:\n",
    "            loss = model.training_step(batch)\n",
    "            train_losses.append(loss)\n",
    "            loss.backward()\n",
    "            \n",
    "            # Gradient clipping\n",
    "            if grad_clip: \n",
    "                nn.utils.clip_grad_value_(model.parameters(), grad_clip)\n",
    "            \n",
    "            optimizer.step()\n",
    "            optimizer.zero_grad()\n",
    "            \n",
    "            # Record & update learning rate\n",
    "            lrs.append(get_lr(optimizer))\n",
    "            sched.step()\n",
    "        \n",
    "        # Validation phase\n",
    "        result = evaluate(model, val_loader) \n",
    "        result['train_loss'] = torch.stack(train_losses).mean().item()\n",
    "        result['lrs'] = lrs\n",
    "        model.epoch_end(epoch, result)\n",
    "        history.append(result)\n",
    "    return history"
   ]
  },
  {
   "cell_type": "code",
   "execution_count": 16,
   "id": "photographic-gibraltar",
   "metadata": {},
   "outputs": [],
   "source": [
    "# # Smoke test: if something's wrong with how we set up our model, we'll see it now\n",
    "# histories = {\"ResNet-9\": [evaluate(model_res9, valid_dl_res9)], \"ResNet-20\": [evaluate(model_res20, valid_dl_res20)]}\n",
    "\n",
    "# print(histories)"
   ]
  },
  {
   "cell_type": "markdown",
   "id": "sudden-leader",
   "metadata": {},
   "source": [
    "## Training"
   ]
  },
  {
   "cell_type": "code",
   "execution_count": 17,
   "id": "rising-calcium",
   "metadata": {},
   "outputs": [],
   "source": [
    "epochs_res9 = 70\n",
    "epochs_res20 = 140\n",
    "histories = {\"ResNet-20\":[]}\n",
    "max_lr = 0.01\n",
    "grad_clip = 0.1\n",
    "weight_decay = 1e-4\n",
    "opt_func = torch.optim.SGD"
   ]
  },
  {
   "cell_type": "code",
   "execution_count": 18,
   "id": "increased-evans",
   "metadata": {},
   "outputs": [],
   "source": [
    "# %%time\n",
    "# histories[\"ResNet-9\"] += fit_one_cycle(epochs_res9, max_lr, model_res9, train_dl_res9, valid_dl_res9, \n",
    "#                              grad_clip=grad_clip, \n",
    "#                              weight_decay=weight_decay, \n",
    "#                              opt_func=opt_func)"
   ]
  },
  {
   "cell_type": "code",
   "execution_count": 19,
   "id": "artistic-delight",
   "metadata": {},
   "outputs": [
    {
     "name": "stderr",
     "output_type": "stream",
     "text": [
      "/home/userfs/s/sb2444/.local/lib/python3.6/site-packages/ipykernel_launcher.py:57: UserWarning: Implicit dimension choice for softmax has been deprecated. Change the call to include dim=X as an argument.\n"
     ]
    },
    {
     "name": "stdout",
     "output_type": "stream",
     "text": [
      "Epoch [0], train_loss: 2.2964, val_loss: 2.2860, val_acc: 0.1701\n",
      "Epoch [1], train_loss: 2.2644, val_loss: 2.2546, val_acc: 0.2157\n",
      "Epoch [2], train_loss: 2.2301, val_loss: 2.2281, val_acc: 0.2363\n",
      "Epoch [3], train_loss: 2.2069, val_loss: 2.2059, val_acc: 0.2763\n",
      "Epoch [4], train_loss: 2.1847, val_loss: 2.1840, val_acc: 0.2907\n",
      "Epoch [5], train_loss: 2.1621, val_loss: 2.1600, val_acc: 0.3175\n",
      "Epoch [6], train_loss: 2.1390, val_loss: 2.1400, val_acc: 0.3327\n",
      "Epoch [7], train_loss: 2.1135, val_loss: 2.1372, val_acc: 0.3486\n",
      "Epoch [8], train_loss: 2.0897, val_loss: 2.1475, val_acc: 0.3193\n",
      "Epoch [9], train_loss: 2.0664, val_loss: 2.1967, val_acc: 0.2533\n",
      "Epoch [10], train_loss: 2.0480, val_loss: 2.1369, val_acc: 0.3189\n",
      "Epoch [11], train_loss: 2.0301, val_loss: 2.1125, val_acc: 0.3437\n",
      "Epoch [12], train_loss: 2.0141, val_loss: 2.1156, val_acc: 0.3409\n",
      "Epoch [13], train_loss: 2.0005, val_loss: 2.0965, val_acc: 0.3615\n",
      "Epoch [14], train_loss: 1.9855, val_loss: 2.1487, val_acc: 0.2982\n",
      "Epoch [15], train_loss: 1.9748, val_loss: 2.0979, val_acc: 0.3565\n",
      "Epoch [16], train_loss: 1.9629, val_loss: 2.1262, val_acc: 0.3262\n",
      "Epoch [17], train_loss: 1.9500, val_loss: 2.1247, val_acc: 0.3259\n",
      "Epoch [18], train_loss: 1.9395, val_loss: 2.1173, val_acc: 0.3379\n",
      "Epoch [19], train_loss: 1.9306, val_loss: 2.1085, val_acc: 0.3434\n",
      "Epoch [20], train_loss: 1.9194, val_loss: 2.1896, val_acc: 0.2586\n",
      "Epoch [21], train_loss: 1.9105, val_loss: 2.1334, val_acc: 0.3175\n",
      "Epoch [22], train_loss: 1.9007, val_loss: 2.2056, val_acc: 0.2450\n",
      "Epoch [23], train_loss: 1.8933, val_loss: 2.1600, val_acc: 0.2918\n",
      "Epoch [24], train_loss: 1.8848, val_loss: 2.1427, val_acc: 0.3122\n",
      "Epoch [25], train_loss: 1.8797, val_loss: 2.1263, val_acc: 0.3279\n",
      "Epoch [26], train_loss: 1.8700, val_loss: 2.2378, val_acc: 0.2172\n",
      "Epoch [27], train_loss: 1.8613, val_loss: 2.1836, val_acc: 0.2682\n",
      "Epoch [28], train_loss: 1.8539, val_loss: 2.1226, val_acc: 0.3288\n",
      "Epoch [29], train_loss: 1.8502, val_loss: 2.1249, val_acc: 0.3271\n",
      "Epoch [30], train_loss: 1.8418, val_loss: 2.1169, val_acc: 0.3350\n",
      "Epoch [31], train_loss: 1.8341, val_loss: 2.2512, val_acc: 0.2017\n",
      "Epoch [32], train_loss: 1.8302, val_loss: 2.1164, val_acc: 0.3331\n",
      "Epoch [33], train_loss: 1.7931, val_loss: 2.0139, val_acc: 0.4429\n",
      "Epoch [34], train_loss: 1.7707, val_loss: 2.0915, val_acc: 0.3602\n",
      "Epoch [35], train_loss: 1.7594, val_loss: 2.0581, val_acc: 0.3967\n",
      "Epoch [36], train_loss: 1.7501, val_loss: 2.2152, val_acc: 0.2354\n",
      "Epoch [37], train_loss: 1.7415, val_loss: 2.0279, val_acc: 0.4275\n",
      "Epoch [38], train_loss: 1.7338, val_loss: 2.0782, val_acc: 0.3749\n",
      "Epoch [39], train_loss: 1.7278, val_loss: 1.9998, val_acc: 0.4564\n",
      "Epoch [40], train_loss: 1.7231, val_loss: 1.9891, val_acc: 0.4684\n",
      "Epoch [41], train_loss: 1.7187, val_loss: 2.0240, val_acc: 0.4335\n",
      "Epoch [42], train_loss: 1.7160, val_loss: 2.0833, val_acc: 0.3691\n",
      "Epoch [43], train_loss: 1.7113, val_loss: 2.0190, val_acc: 0.4361\n",
      "Epoch [44], train_loss: 1.7050, val_loss: 1.9635, val_acc: 0.4939\n",
      "Epoch [45], train_loss: 1.7018, val_loss: 2.0263, val_acc: 0.4287\n",
      "Epoch [46], train_loss: 1.6998, val_loss: 1.9521, val_acc: 0.5038\n",
      "Epoch [47], train_loss: 1.6942, val_loss: 2.0014, val_acc: 0.4539\n",
      "Epoch [48], train_loss: 1.6906, val_loss: 2.0142, val_acc: 0.4412\n",
      "Epoch [49], train_loss: 1.6913, val_loss: 1.9138, val_acc: 0.5444\n",
      "Epoch [50], train_loss: 1.6838, val_loss: 1.9541, val_acc: 0.5050\n",
      "Epoch [51], train_loss: 1.6846, val_loss: 1.9362, val_acc: 0.5210\n",
      "Epoch [52], train_loss: 1.6796, val_loss: 2.0188, val_acc: 0.4370\n",
      "Epoch [53], train_loss: 1.6778, val_loss: 1.9711, val_acc: 0.4859\n",
      "Epoch [54], train_loss: 1.6741, val_loss: 1.9307, val_acc: 0.5264\n",
      "Epoch [55], train_loss: 1.6729, val_loss: 1.9103, val_acc: 0.5498\n",
      "Epoch [56], train_loss: 1.6692, val_loss: 1.9817, val_acc: 0.4741\n",
      "Epoch [57], train_loss: 1.6704, val_loss: 1.9068, val_acc: 0.5515\n",
      "Epoch [58], train_loss: 1.6656, val_loss: 1.9691, val_acc: 0.4911\n",
      "Epoch [59], train_loss: 1.6627, val_loss: 1.8626, val_acc: 0.6002\n",
      "Epoch [60], train_loss: 1.6606, val_loss: 1.9263, val_acc: 0.5299\n",
      "Epoch [61], train_loss: 1.6575, val_loss: 1.9007, val_acc: 0.5564\n",
      "Epoch [62], train_loss: 1.6588, val_loss: 1.9729, val_acc: 0.4843\n",
      "Epoch [63], train_loss: 1.6563, val_loss: 1.8053, val_acc: 0.6583\n",
      "Epoch [64], train_loss: 1.6553, val_loss: 1.9697, val_acc: 0.4878\n",
      "Epoch [65], train_loss: 1.6535, val_loss: 1.9085, val_acc: 0.5502\n",
      "Epoch [66], train_loss: 1.6511, val_loss: 1.9676, val_acc: 0.4884\n",
      "Epoch [67], train_loss: 1.6476, val_loss: 1.9903, val_acc: 0.4662\n",
      "Epoch [68], train_loss: 1.6480, val_loss: 1.9077, val_acc: 0.5509\n",
      "Epoch [69], train_loss: 1.6449, val_loss: 1.9316, val_acc: 0.5305\n",
      "Epoch [70], train_loss: 1.6442, val_loss: 1.9140, val_acc: 0.5464\n",
      "Epoch [71], train_loss: 1.6410, val_loss: 1.9928, val_acc: 0.4644\n",
      "Epoch [72], train_loss: 1.6394, val_loss: 1.9847, val_acc: 0.4710\n",
      "Epoch [73], train_loss: 1.6380, val_loss: 1.9593, val_acc: 0.5012\n",
      "Epoch [74], train_loss: 1.6392, val_loss: 1.8797, val_acc: 0.5801\n",
      "Epoch [75], train_loss: 1.6379, val_loss: 1.8775, val_acc: 0.5805\n",
      "Epoch [76], train_loss: 1.6337, val_loss: 1.8540, val_acc: 0.6080\n",
      "Epoch [77], train_loss: 1.6328, val_loss: 1.8924, val_acc: 0.5670\n",
      "Epoch [78], train_loss: 1.6315, val_loss: 1.9093, val_acc: 0.5496\n",
      "Epoch [79], train_loss: 1.6304, val_loss: 1.9582, val_acc: 0.4989\n",
      "Epoch [80], train_loss: 1.6306, val_loss: 1.8865, val_acc: 0.5749\n",
      "Epoch [81], train_loss: 1.6278, val_loss: 1.8712, val_acc: 0.5870\n",
      "Epoch [82], train_loss: 1.6252, val_loss: 1.9367, val_acc: 0.5217\n",
      "Epoch [83], train_loss: 1.6252, val_loss: 1.9175, val_acc: 0.5402\n",
      "Epoch [84], train_loss: 1.6258, val_loss: 1.8521, val_acc: 0.6082\n",
      "Epoch [85], train_loss: 1.6223, val_loss: 1.8881, val_acc: 0.5713\n",
      "Epoch [86], train_loss: 1.6216, val_loss: 1.9153, val_acc: 0.5431\n",
      "Epoch [87], train_loss: 1.6201, val_loss: 1.8565, val_acc: 0.6060\n",
      "Epoch [88], train_loss: 1.6170, val_loss: 1.8400, val_acc: 0.6207\n",
      "Epoch [89], train_loss: 1.6195, val_loss: 1.8763, val_acc: 0.5826\n",
      "Epoch [90], train_loss: 1.6156, val_loss: 1.9069, val_acc: 0.5517\n",
      "Epoch [91], train_loss: 1.6153, val_loss: 1.8770, val_acc: 0.5822\n",
      "Epoch [92], train_loss: 1.6124, val_loss: 1.8497, val_acc: 0.6104\n",
      "Epoch [93], train_loss: 1.6141, val_loss: 1.8036, val_acc: 0.6576\n",
      "Epoch [94], train_loss: 1.6122, val_loss: 1.9306, val_acc: 0.5281\n",
      "Epoch [95], train_loss: 1.6099, val_loss: 1.8438, val_acc: 0.6145\n",
      "Epoch [96], train_loss: 1.6078, val_loss: 1.8390, val_acc: 0.6214\n",
      "Epoch [97], train_loss: 1.6078, val_loss: 1.8176, val_acc: 0.6447\n",
      "Epoch [98], train_loss: 1.6075, val_loss: 1.9060, val_acc: 0.5529\n",
      "Epoch [99], train_loss: 1.6067, val_loss: 1.7810, val_acc: 0.6811\n",
      "Epoch [100], train_loss: 1.6059, val_loss: 1.8785, val_acc: 0.5811\n",
      "Epoch [101], train_loss: 1.6039, val_loss: 1.8084, val_acc: 0.6537\n",
      "Epoch [102], train_loss: 1.6018, val_loss: 1.8496, val_acc: 0.6103\n",
      "Epoch [103], train_loss: 1.6022, val_loss: 1.8547, val_acc: 0.6044\n",
      "Epoch [104], train_loss: 1.6011, val_loss: 1.8383, val_acc: 0.6219\n",
      "Epoch [105], train_loss: 1.5993, val_loss: 1.8619, val_acc: 0.5966\n",
      "Epoch [106], train_loss: 1.5961, val_loss: 1.8616, val_acc: 0.5984\n",
      "Epoch [107], train_loss: 1.5974, val_loss: 1.8067, val_acc: 0.6538\n",
      "Epoch [108], train_loss: 1.5962, val_loss: 1.8538, val_acc: 0.6082\n",
      "Epoch [109], train_loss: 1.5940, val_loss: 1.7983, val_acc: 0.6642\n",
      "Epoch [110], train_loss: 1.5942, val_loss: 1.8392, val_acc: 0.6217\n",
      "Epoch [111], train_loss: 1.5924, val_loss: 1.8606, val_acc: 0.5963\n",
      "Epoch [112], train_loss: 1.5907, val_loss: 1.8374, val_acc: 0.6229\n",
      "Epoch [113], train_loss: 1.5888, val_loss: 1.8369, val_acc: 0.6218\n",
      "Epoch [114], train_loss: 1.5885, val_loss: 1.8527, val_acc: 0.6082\n",
      "Epoch [115], train_loss: 1.5879, val_loss: 1.8283, val_acc: 0.6327\n",
      "Epoch [116], train_loss: 1.5866, val_loss: 1.8725, val_acc: 0.5858\n",
      "Epoch [117], train_loss: 1.5851, val_loss: 1.8505, val_acc: 0.6068\n",
      "Epoch [118], train_loss: 1.5854, val_loss: 1.8176, val_acc: 0.6450\n",
      "Epoch [119], train_loss: 1.5846, val_loss: 1.8489, val_acc: 0.6122\n",
      "Epoch [120], train_loss: 1.5839, val_loss: 1.8197, val_acc: 0.6404\n",
      "Epoch [121], train_loss: 1.5821, val_loss: 1.8213, val_acc: 0.6397\n",
      "Epoch [122], train_loss: 1.5826, val_loss: 1.8388, val_acc: 0.6205\n",
      "Epoch [123], train_loss: 1.5818, val_loss: 1.8207, val_acc: 0.6402\n",
      "Epoch [124], train_loss: 1.5792, val_loss: 1.8257, val_acc: 0.6340\n",
      "Epoch [125], train_loss: 1.5800, val_loss: 1.8468, val_acc: 0.6155\n",
      "Epoch [126], train_loss: 1.5775, val_loss: 1.8257, val_acc: 0.6333\n",
      "Epoch [127], train_loss: 1.5776, val_loss: 1.8254, val_acc: 0.6341\n",
      "Epoch [128], train_loss: 1.5766, val_loss: 1.8296, val_acc: 0.6328\n",
      "Epoch [129], train_loss: 1.5760, val_loss: 1.8372, val_acc: 0.6244\n",
      "Epoch [130], train_loss: 1.5762, val_loss: 1.8176, val_acc: 0.6435\n",
      "Epoch [131], train_loss: 1.5755, val_loss: 1.8246, val_acc: 0.6358\n",
      "Epoch [132], train_loss: 1.5759, val_loss: 1.8327, val_acc: 0.6275\n",
      "Epoch [133], train_loss: 1.5740, val_loss: 1.8278, val_acc: 0.6337\n",
      "Epoch [134], train_loss: 1.5741, val_loss: 1.8297, val_acc: 0.6303\n",
      "Epoch [135], train_loss: 1.5740, val_loss: 1.8333, val_acc: 0.6279\n",
      "Epoch [136], train_loss: 1.5730, val_loss: 1.8315, val_acc: 0.6297\n",
      "Epoch [137], train_loss: 1.5745, val_loss: 1.8280, val_acc: 0.6321\n",
      "Epoch [138], train_loss: 1.5731, val_loss: 1.8329, val_acc: 0.6258\n",
      "Epoch [139], train_loss: 1.5735, val_loss: 1.8279, val_acc: 0.6322\n",
      "CPU times: user 10min 42s, sys: 1min 40s, total: 12min 23s\n",
      "Wall time: 24min 34s\n"
     ]
    }
   ],
   "source": [
    "%%time\n",
    "histories[\"ResNet-20\"] += fit_one_cycle(epochs_res20, max_lr, model_res20, train_dl_res20, valid_dl_res20, \n",
    "                             grad_clip=grad_clip, \n",
    "                             weight_decay=weight_decay, \n",
    "                             opt_func=opt_func)"
   ]
  },
  {
   "cell_type": "markdown",
   "id": "separate-possibility",
   "metadata": {},
   "source": [
    "## Graphs"
   ]
  },
  {
   "cell_type": "code",
   "execution_count": 20,
   "id": "noble-wells",
   "metadata": {},
   "outputs": [],
   "source": [
    "def plot_accuracies(histories):\n",
    "    for resnet in  histories.keys():\n",
    "        history = histories[resnet]\n",
    "        accuracies = [x['val_acc'] for x in history]\n",
    "        plt.figure(figsize=(10,6))\n",
    "        plt.plot(accuracies, '-x')\n",
    "        plt.xlabel('epoch')\n",
    "        plt.ylabel('accuracy')\n",
    "        plt.title(f'{resnet} Accuracy vs. No. of epochs');\n",
    "    \n",
    "def plot_losses(histories):\n",
    "    for resnet in  histories.keys():\n",
    "        history = histories[resnet]\n",
    "        train_losses = [x.get('train_loss') for x in history]\n",
    "        val_losses = [x['val_loss'] for x in history]\n",
    "        plt.figure(figsize=(10,6))\n",
    "        plt.plot(train_losses, '-bx')\n",
    "        plt.plot(val_losses, '-rx')\n",
    "        plt.xlabel('epoch')\n",
    "        plt.ylabel('loss')\n",
    "        plt.legend(['Training', 'Validation'])\n",
    "        plt.title(f'{resnet} Loss vs. No. of epochs');\n",
    "    \n",
    "def plot_lrs(histories):\n",
    "    for resnet in  histories.keys():\n",
    "        history = histories[resnet]\n",
    "        lrs = np.concatenate([x.get('lrs', []) for x in history])\n",
    "        plt.figure(figsize=(10,6))\n",
    "        plt.plot(lrs)\n",
    "        plt.xlabel('Batch no.')\n",
    "        plt.ylabel('Learning rate')\n",
    "        plt.title(f'{resnet} Learning Rate vs. Batch no.');"
   ]
  },
  {
   "cell_type": "code",
   "execution_count": 21,
   "id": "prescribed-tragedy",
   "metadata": {},
   "outputs": [
    {
     "data": {
      "image/png": "[encoded data removed]",
      "text/plain": [
       "<Figure size 720x432 with 1 Axes>"
      ]
     },
     "metadata": {
      "needs_background": "light"
     },
     "output_type": "display_data"
    }
   ],
   "source": [
    "plot_accuracies(histories)"
   ]
  },
  {
   "cell_type": "code",
   "execution_count": 22,
   "id": "competitive-story",
   "metadata": {},
   "outputs": [
    {
     "data": {
      "image/png": "[encoded data removed]",
      "text/plain": [
       "<Figure size 720x432 with 1 Axes>"
      ]
     },
     "metadata": {
      "needs_background": "light"
     },
     "output_type": "display_data"
    }
   ],
   "source": [
    "plot_losses(histories)"
   ]
  },
  {
   "cell_type": "code",
   "execution_count": 23,
   "id": "similar-payday",
   "metadata": {},
   "outputs": [
    {
     "data": {
      "image/png": "[encoded data removed]",
      "text/plain": [
       "<Figure size 720x432 with 1 Axes>"
      ]
     },
     "metadata": {
      "needs_background": "light"
     },
     "output_type": "display_data"
    }
   ],
   "source": [
    "plot_lrs(histories)"
   ]
  }
 ],
 "metadata": {
  "kernelspec": {
   "display_name": "Python 3",
   "language": "python",
   "name": "python3"
  },
  "language_info": {
   "codemirror_mode": {
    "name": "ipython",
    "version": 3
   },
   "file_extension": ".py",
   "mimetype": "text/x-python",
   "name": "python",
   "nbconvert_exporter": "python",
   "pygments_lexer": "ipython3",
   "version": "3.6.9"
  }
 },
 "nbformat": 4,
 "nbformat_minor": 5
}
