{
 "cells": [
  {
   "cell_type": "markdown",
   "id": "renewable-thinking",
   "metadata": {},
   "source": [
    "## Importing libraries"
   ]
  },
  {
   "cell_type": "code",
   "execution_count": 1,
   "id": "published-sodium",
   "metadata": {},
   "outputs": [
    {
     "name": "stderr",
     "output_type": "stream",
     "text": [
      "Matplotlib created a temporary config/cache directory at /tmp/matplotlib-v3784rnk because the default path (/run/user/141228/cache/matplotlib) is not a writable directory; it is highly recommended to set the MPLCONFIGDIR environment variable to a writable directory, in particular to speed up the import of Matplotlib and to better support multiprocessing.\n"
     ]
    }
   ],
   "source": [
    "import torch\n",
    "import torchvision\n",
    "from torchvision.datasets.utils import download_url\n",
    "from torch.utils.data import random_split\n",
    "from torchvision.datasets import ImageFolder\n",
    "from torchvision.transforms import ToTensor,ToPILImage\n",
    "import matplotlib.pyplot as plt\n",
    "from torchvision.utils import make_grid\n",
    "from torch.utils.data.dataloader import DataLoader\n",
    "from torchvision.utils import make_grid\n",
    "import torch.nn as nn\n",
    "import torch.nn.functional as F\n",
    "import torchvision.transforms as tt\n",
    "import numpy as np\n",
    "import torchvision.datasets as datasets"
   ]
  },
  {
   "cell_type": "markdown",
   "id": "sublime-pixel",
   "metadata": {},
   "source": [
    "## Data and device loading"
   ]
  },
  {
   "cell_type": "code",
   "execution_count": 2,
   "id": "variable-moses",
   "metadata": {},
   "outputs": [],
   "source": [
    "torch.backends.cudnn.benchmark = True\n",
    "device = torch.device(\"cuda:1\" if torch.cuda.is_available() else \"cpu\")"
   ]
  },
  {
   "cell_type": "code",
   "execution_count": 3,
   "id": "revised-difference",
   "metadata": {},
   "outputs": [],
   "source": [
    "stats= ((0.4914,0.4822,0.4465),(0.2023,0.1994,0.2010)) #mean and std\n",
    "train_tfm= tt.Compose([tt.RandomCrop(32, padding=4, padding_mode='reflect'), # transormation of data together\n",
    "                       tt.RandomHorizontalFlip(),\n",
    "                       tt.ToTensor()])\n",
    "valid_tfm = tt.Compose([tt.ToTensor()])"
   ]
  },
  {
   "cell_type": "code",
   "execution_count": 4,
   "id": "latter-kennedy",
   "metadata": {},
   "outputs": [
    {
     "name": "stdout",
     "output_type": "stream",
     "text": [
      "Files already downloaded and verified\n"
     ]
    }
   ],
   "source": [
    "training_data = datasets.CIFAR10(\n",
    "    root=\"data\",\n",
    "    train=True,\n",
    "    download=True,\n",
    "    transform=train_tfm,\n",
    ")"
   ]
  },
  {
   "cell_type": "code",
   "execution_count": 5,
   "id": "several-label",
   "metadata": {},
   "outputs": [
    {
     "name": "stdout",
     "output_type": "stream",
     "text": [
      "Files already downloaded and verified\n"
     ]
    }
   ],
   "source": [
    "# Download test data from open datasets.\n",
    "test_data = datasets.CIFAR10(\n",
    "    root=\"data\",\n",
    "    train=False,\n",
    "    download=True,\n",
    "    transform=valid_tfm,\n",
    ")"
   ]
  },
  {
   "cell_type": "code",
   "execution_count": 6,
   "id": "growing-china",
   "metadata": {},
   "outputs": [
    {
     "data": {
      "text/plain": [
       "Dataset CIFAR10\n",
       "    Number of datapoints: 50000\n",
       "    Root location: data\n",
       "    Split: Train\n",
       "    StandardTransform\n",
       "Transform: Compose(\n",
       "               RandomCrop(size=(32, 32), padding=4)\n",
       "               RandomHorizontalFlip(p=0.5)\n",
       "               ToTensor()\n",
       "           )"
      ]
     },
     "execution_count": 6,
     "metadata": {},
     "output_type": "execute_result"
    }
   ],
   "source": [
    "valid_ds = test_data\n",
    "train_ds = training_data\n",
    "train_ds"
   ]
  },
  {
   "cell_type": "code",
   "execution_count": 7,
   "id": "suited-antenna",
   "metadata": {},
   "outputs": [],
   "source": [
    "batch_size_res9=400\n",
    "batch_size_res20=400"
   ]
  },
  {
   "cell_type": "code",
   "execution_count": 8,
   "id": "based-joyce",
   "metadata": {},
   "outputs": [],
   "source": [
    "# Dataloader to load data in batches(mini batch)\n",
    "train_dl_res9= DataLoader(train_ds,batch_size_res9,shuffle=True, num_workers=3, pin_memory=True) \n",
    "valid_dl_res9= DataLoader(valid_ds, batch_size_res9, num_workers=3,pin_memory=True) \n",
    "\n",
    "train_dl_res20= DataLoader(train_ds,batch_size_res20,shuffle=True, num_workers=3, pin_memory=True) \n",
    "valid_dl_res20= DataLoader(valid_ds, batch_size_res20, num_workers=3,pin_memory=True)"
   ]
  },
  {
   "cell_type": "code",
   "execution_count": 9,
   "id": "stone-calculation",
   "metadata": {},
   "outputs": [],
   "source": [
    "def get_default_device():\n",
    "    \"\"\"Pick GPU if available, else CPU\"\"\"\n",
    "    if torch.cuda.is_available():\n",
    "        return torch.device('cuda')\n",
    "    else:\n",
    "        return torch.device('cpu')\n",
    "    \n",
    "def to_device(data, device):\n",
    "    \"\"\"Move tensor(s) to chosen device\"\"\"\n",
    "    if isinstance(data, (list,tuple)):\n",
    "        return [to_device(x, device) for x in data]\n",
    "    return data.to(device, non_blocking=True)\n",
    "\n",
    "class DeviceDataLoader():\n",
    "    \"\"\"Wrap a dataloader to move data to a device\"\"\"\n",
    "    def __init__(self, dl, device):\n",
    "        self.dl = dl\n",
    "        self.device = device\n",
    "        \n",
    "    def __iter__(self):\n",
    "        \"\"\"Yield a batch of data after moving it to device\"\"\"\n",
    "        for b in self.dl: \n",
    "            yield to_device(b, self.device)\n",
    "\n",
    "    def __len__(self):\n",
    "        \"\"\"Number of batches\"\"\"\n",
    "        return len(self.dl)"
   ]
  },
  {
   "cell_type": "code",
   "execution_count": 10,
   "id": "prime-leadership",
   "metadata": {},
   "outputs": [],
   "source": [
    "train_dl_res9= DeviceDataLoader(train_dl_res9, device)\n",
    "valid_dl_res9 = DeviceDataLoader(valid_dl_res9, device)\n",
    "\n",
    "train_dl_res20= DeviceDataLoader(train_dl_res20, device)\n",
    "valid_dl_res20 = DeviceDataLoader(valid_dl_res20, device)"
   ]
  },
  {
   "cell_type": "markdown",
   "id": "colonial-sullivan",
   "metadata": {},
   "source": [
    "## Training loop"
   ]
  },
  {
   "cell_type": "code",
   "execution_count": 11,
   "id": "earned-episode",
   "metadata": {},
   "outputs": [],
   "source": [
    "def accuracy(outputs, labels):\n",
    "    _, preds = torch.max(outputs, dim=1)\n",
    "    return torch.tensor(torch.sum(preds == labels).item() / len(preds))\n",
    "\n",
    "class ImageClassificationBase(nn.Module):\n",
    "    def training_step(self, batch):\n",
    "        images, labels = batch \n",
    "        out = self(images)                  # Generate predictions\n",
    "        loss = F.cross_entropy(out, labels) # Calculate loss\n",
    "        return loss\n",
    "    \n",
    "    def validation_step(self, batch):\n",
    "        images, labels = batch \n",
    "        out = self(images)                    # Generate predictions\n",
    "        loss = F.cross_entropy(out, labels)   # Calculate loss\n",
    "        acc = accuracy(out, labels)           # Calculate accuracy\n",
    "        return {'val_loss': loss.detach(), 'val_acc': acc}\n",
    "        \n",
    "    def validation_epoch_end(self, outputs):\n",
    "        batch_losses = [x['val_loss'] for x in outputs]\n",
    "        epoch_loss = torch.stack(batch_losses).mean()   # Combine losses\n",
    "        batch_accs = [x['val_acc'] for x in outputs]\n",
    "        epoch_acc = torch.stack(batch_accs).mean()      # Combine accuracies\n",
    "        return {'val_loss': epoch_loss.item(), 'val_acc': epoch_acc.item()}\n",
    "    \n",
    "    def epoch_end(self, epoch, result):\n",
    "        print(\"Epoch [{}], train_loss: {:.4f}, val_loss: {:.4f}, val_acc: {:.4f}\".format(\n",
    "            epoch, result['train_loss'], result['val_loss'], result['val_acc']))"
   ]
  },
  {
   "cell_type": "markdown",
   "id": "civil-organic",
   "metadata": {},
   "source": [
    "## Resnets"
   ]
  },
  {
   "cell_type": "code",
   "execution_count": 12,
   "id": "stone-video",
   "metadata": {},
   "outputs": [],
   "source": [
    "def conv_block_res9(in_channels, out_channels, pool=False):\n",
    "    layers = [nn.Conv2d(in_channels, out_channels, kernel_size=3, padding=1), \n",
    "              nn.BatchNorm2d(out_channels), \n",
    "              nn.ReLU(inplace=True)]\n",
    "    if pool: layers.append(nn.MaxPool2d(2))\n",
    "    return nn.Sequential(*layers)\n",
    "\n",
    "class ResNet9(ImageClassificationBase):\n",
    "    def __init__(self, in_channels, num_classes):\n",
    "        super().__init__()\n",
    "        \n",
    "        self.conv1 = conv_block_res9(in_channels, 64)\n",
    "        self.conv2 = conv_block_res9(64, 128, pool=True)\n",
    "        self.res1 = nn.Sequential(conv_block_res9(128, 128), conv_block_res9(128, 128))\n",
    "        \n",
    "        self.conv3 = conv_block_res9(128, 256, pool=True)\n",
    "        self.conv4 = conv_block_res9(256, 512, pool=True)\n",
    "        self.res2 = nn.Sequential(conv_block_res9(512, 512), conv_block_res9(512, 512))\n",
    "        \n",
    "        self.classifier = nn.Sequential(nn.MaxPool2d(4), \n",
    "                                        nn.Flatten(), \n",
    "                                        nn.Linear(512, num_classes))\n",
    "        \n",
    "    def forward(self, xb):\n",
    "        out = self.conv1(xb)\n",
    "        out = self.conv2(out)\n",
    "        out = self.res1(out) + out\n",
    "        out = self.conv3(out)\n",
    "        out = self.conv4(out)\n",
    "        out = self.res2(out) + out\n",
    "        out = self.classifier(out)\n",
    "        return out"
   ]
  },
  {
   "cell_type": "code",
   "execution_count": 13,
   "id": "infinite-pennsylvania",
   "metadata": {},
   "outputs": [],
   "source": [
    "def conv_block_res20(in_channels, out_channels, stride=1):\n",
    "    layers = [nn.Conv2d(in_channels, out_channels, kernel_size=3, padding=1, stride=stride), \n",
    "              nn.BatchNorm2d(out_channels), \n",
    "              nn.ReLU(inplace=True)]\n",
    "    return nn.Sequential(*layers)\n",
    "\n",
    "def shortcut(in_channels, out_channels):\n",
    "    return nn.Conv2d(in_channels, out_channels, kernel_size=3, padding=1, stride=2)\n",
    "\n",
    "class ResNet20(ImageClassificationBase):\n",
    "    def __init__(self, in_channels, num_classes, n):\n",
    "        super().__init__()\n",
    "        \n",
    "        self.n = n\n",
    "        \n",
    "        # 32x32 map\n",
    "        self.conv1 = conv_block_res20(in_channels, 16)\n",
    "        self.reg32 = nn.Sequential(conv_block_res20(16,16), conv_block_res20(16,16))\n",
    "        \n",
    "        # 16x16 map\n",
    "        self.entry16 = nn.Sequential(conv_block_res20(16, 32, stride=2), conv_block_res20(32, 32))\n",
    "        self.short16 = shortcut(16, 32)\n",
    "        self.reg16 = nn.Sequential(conv_block_res20(32, 32), conv_block_res20(32, 32))\n",
    "        \n",
    "        # 8x8 map\n",
    "        self.entry8 = nn.Sequential(conv_block_res20(32, 64, stride=2), conv_block_res20(64, 64))\n",
    "        self.short8 = shortcut(32, 64)\n",
    "        self.reg8 = nn.Sequential(conv_block_res20(64, 64), conv_block_res20(64, 64))\n",
    "        \n",
    "        self.classifier = nn.Sequential(nn.AvgPool2d(kernel_size=8, stride=None, padding=0), \n",
    "                                        nn.Linear(64, num_classes),\n",
    "                                       nn.Softmax())\n",
    "        # FOR DEBUGGING\n",
    "        self.avg = nn.AvgPool2d(kernel_size=8, stride=None, padding=0)\n",
    "        self.flat = nn.Flatten()\n",
    "        self.fcl = nn.Linear(64, num_classes)\n",
    "        self.sm = nn.Softmax()\n",
    "        \n",
    "    def forward(self, xb):\n",
    "        out = self.conv1(xb)\n",
    "        \n",
    "        for i in range(self.n):\n",
    "            out = self.reg32(out) + out\n",
    "            \n",
    "        out = self.entry16(out) + self.short16(out)\n",
    "        for i in range(self.n - 1):\n",
    "            out = self.reg16(out) + out\n",
    "            \n",
    "        out = self.entry8(out) + self.short8(out)\n",
    "        for i in range(self.n - 1):\n",
    "            out = self.reg8(out) + out\n",
    "\n",
    "        #out = self.classifier(out)\n",
    "        out = self.avg(out)\n",
    "        out = self.flat(out)\n",
    "        out = self.fcl(out)\n",
    "        out = self.sm(out)\n",
    "        \n",
    "        return out"
   ]
  },
  {
   "cell_type": "markdown",
   "id": "cloudy-today",
   "metadata": {},
   "source": [
    "## Transfer to device"
   ]
  },
  {
   "cell_type": "code",
   "execution_count": 14,
   "id": "electrical-limit",
   "metadata": {},
   "outputs": [],
   "source": [
    "# model_res9 = to_device(ResNet9(3,10), device)\n",
    "model_res20 = to_device(ResNet20(3,10,3), device)"
   ]
  },
  {
   "cell_type": "code",
   "execution_count": 15,
   "id": "involved-pound",
   "metadata": {},
   "outputs": [],
   "source": [
    "@torch.no_grad()\n",
    "def evaluate(model, val_loader):\n",
    "    model.eval()\n",
    "    outputs = [model.validation_step(batch) for batch in val_loader]\n",
    "    return model.validation_epoch_end(outputs)\n",
    "\n",
    "def get_lr(optimizer):\n",
    "    for param_group in optimizer.param_groups:\n",
    "        return param_group['lr']\n",
    "    \n",
    "def fit_one_cycle(epochs, max_lr, model, train_loader, val_loader, \n",
    "                  weight_decay=0, grad_clip=None, opt_func=torch.optim.SGD):\n",
    "    torch.cuda.empty_cache()  # Realsing cuda memory otherwise might get cuda out of memory error\n",
    "    history = []\n",
    "    \n",
    "    #custom optimizer with weight decay\n",
    "    optimizer = opt_func(model.parameters(), max_lr, weight_decay=weight_decay)\n",
    "    # Set up one-cycle learning rate scheduler\n",
    "    sched = torch.optim.lr_scheduler.OneCycleLR(optimizer, max_lr, epochs=epochs, \n",
    "                                                steps_per_epoch=len(train_loader))\n",
    "    \n",
    "    for epoch in range(epochs):\n",
    "        # Training Phase \n",
    "        model.train() #Setting training mode\n",
    "        train_losses = []\n",
    "        lrs = [] \n",
    "        for batch in train_loader:\n",
    "            loss = model.training_step(batch)\n",
    "            train_losses.append(loss)\n",
    "            loss.backward()\n",
    "            \n",
    "            # Gradient clipping\n",
    "            if grad_clip: \n",
    "                nn.utils.clip_grad_value_(model.parameters(), grad_clip)\n",
    "            \n",
    "            optimizer.step()\n",
    "            optimizer.zero_grad()\n",
    "            \n",
    "            # Record & update learning rate\n",
    "            lrs.append(get_lr(optimizer))\n",
    "            sched.step()\n",
    "        \n",
    "        # Validation phase\n",
    "        result = evaluate(model, val_loader) \n",
    "        result['train_loss'] = torch.stack(train_losses).mean().item()\n",
    "        result['lrs'] = lrs\n",
    "        model.epoch_end(epoch, result)\n",
    "        history.append(result)\n",
    "    return history"
   ]
  },
  {
   "cell_type": "code",
   "execution_count": 16,
   "id": "possible-transfer",
   "metadata": {},
   "outputs": [],
   "source": [
    "# # Smoke test: if something's wrong with how we set up our model, we'll see it now\n",
    "# histories = {\"ResNet-9\": [evaluate(model_res9, valid_dl_res9)], \"ResNet-20\": [evaluate(model_res20, valid_dl_res20)]}\n",
    "\n",
    "# print(histories)"
   ]
  },
  {
   "cell_type": "markdown",
   "id": "excited-entrepreneur",
   "metadata": {},
   "source": [
    "## Training"
   ]
  },
  {
   "cell_type": "code",
   "execution_count": 17,
   "id": "advance-secret",
   "metadata": {},
   "outputs": [],
   "source": [
    "epochs_res9 = 70\n",
    "epochs_res20 = 140\n",
    "histories = {\"ResNet-20\":[]}\n",
    "max_lr = 0.001\n",
    "grad_clip = 0.1\n",
    "weight_decay = 1e-4\n",
    "opt_func = torch.optim.Adam"
   ]
  },
  {
   "cell_type": "code",
   "execution_count": 18,
   "id": "chicken-lobby",
   "metadata": {},
   "outputs": [],
   "source": [
    "# %%time\n",
    "# histories[\"ResNet-9\"] += fit_one_cycle(epochs_res9, max_lr, model_res9, train_dl_res9, valid_dl_res9, \n",
    "#                              grad_clip=grad_clip, \n",
    "#                              weight_decay=weight_decay, \n",
    "#                              opt_func=opt_func)"
   ]
  },
  {
   "cell_type": "code",
   "execution_count": 19,
   "id": "caroline-field",
   "metadata": {},
   "outputs": [
    {
     "name": "stderr",
     "output_type": "stream",
     "text": [
      "/home/userfs/s/sb2444/.local/lib/python3.6/site-packages/ipykernel_launcher.py:57: UserWarning: Implicit dimension choice for softmax has been deprecated. Change the call to include dim=X as an argument.\n"
     ]
    },
    {
     "name": "stdout",
     "output_type": "stream",
     "text": [
      "Epoch [0], train_loss: 2.2301, val_loss: 2.2020, val_acc: 0.2457\n",
      "Epoch [1], train_loss: 2.1558, val_loss: 2.1436, val_acc: 0.3246\n",
      "Epoch [2], train_loss: 2.1155, val_loss: 2.1172, val_acc: 0.3545\n",
      "Epoch [3], train_loss: 2.0719, val_loss: 2.1052, val_acc: 0.3587\n",
      "Epoch [4], train_loss: 2.0301, val_loss: 2.1199, val_acc: 0.3350\n",
      "Epoch [5], train_loss: 2.0018, val_loss: 2.0652, val_acc: 0.3979\n",
      "Epoch [6], train_loss: 1.9784, val_loss: 2.0723, val_acc: 0.3843\n",
      "Epoch [7], train_loss: 1.9583, val_loss: 2.0704, val_acc: 0.3848\n",
      "Epoch [8], train_loss: 1.9392, val_loss: 2.0219, val_acc: 0.4464\n",
      "Epoch [9], train_loss: 1.9226, val_loss: 2.0255, val_acc: 0.4359\n",
      "Epoch [10], train_loss: 1.9018, val_loss: 1.9946, val_acc: 0.4697\n",
      "Epoch [11], train_loss: 1.8846, val_loss: 1.9498, val_acc: 0.5140\n",
      "Epoch [12], train_loss: 1.8692, val_loss: 1.9859, val_acc: 0.4769\n",
      "Epoch [13], train_loss: 1.8535, val_loss: 2.0130, val_acc: 0.4472\n",
      "Epoch [14], train_loss: 1.8416, val_loss: 1.9882, val_acc: 0.4714\n",
      "Epoch [15], train_loss: 1.8331, val_loss: 1.9334, val_acc: 0.5308\n",
      "Epoch [16], train_loss: 1.8216, val_loss: 1.8825, val_acc: 0.5836\n",
      "Epoch [17], train_loss: 1.8105, val_loss: 1.8330, val_acc: 0.6362\n",
      "Epoch [18], train_loss: 1.8007, val_loss: 1.8954, val_acc: 0.5695\n",
      "Epoch [19], train_loss: 1.7909, val_loss: 1.9238, val_acc: 0.5367\n",
      "Epoch [20], train_loss: 1.7817, val_loss: 1.8467, val_acc: 0.6205\n",
      "Epoch [21], train_loss: 1.7700, val_loss: 1.8351, val_acc: 0.6299\n",
      "Epoch [22], train_loss: 1.7634, val_loss: 1.9084, val_acc: 0.5561\n",
      "Epoch [23], train_loss: 1.7508, val_loss: 1.9646, val_acc: 0.4957\n",
      "Epoch [24], train_loss: 1.7465, val_loss: 1.9381, val_acc: 0.5235\n",
      "Epoch [25], train_loss: 1.7393, val_loss: 1.8682, val_acc: 0.5967\n",
      "Epoch [26], train_loss: 1.7314, val_loss: 1.7862, val_acc: 0.6796\n",
      "Epoch [27], train_loss: 1.7276, val_loss: 1.8131, val_acc: 0.6497\n",
      "Epoch [28], train_loss: 1.7193, val_loss: 1.8748, val_acc: 0.5856\n",
      "Epoch [29], train_loss: 1.7126, val_loss: 1.7856, val_acc: 0.6800\n",
      "Epoch [30], train_loss: 1.7091, val_loss: 1.7867, val_acc: 0.6763\n",
      "Epoch [31], train_loss: 1.7023, val_loss: 1.8649, val_acc: 0.5949\n",
      "Epoch [32], train_loss: 1.6976, val_loss: 1.8775, val_acc: 0.5866\n",
      "Epoch [33], train_loss: 1.6934, val_loss: 1.8073, val_acc: 0.6520\n",
      "Epoch [34], train_loss: 1.6886, val_loss: 1.7457, val_acc: 0.7160\n",
      "Epoch [35], train_loss: 1.6854, val_loss: 1.7613, val_acc: 0.7036\n",
      "Epoch [36], train_loss: 1.6851, val_loss: 1.7567, val_acc: 0.7105\n",
      "Epoch [37], train_loss: 1.6798, val_loss: 1.7437, val_acc: 0.7214\n",
      "Epoch [38], train_loss: 1.6780, val_loss: 1.8063, val_acc: 0.6539\n",
      "Epoch [39], train_loss: 1.6716, val_loss: 1.8685, val_acc: 0.5921\n",
      "Epoch [40], train_loss: 1.6694, val_loss: 1.7712, val_acc: 0.6915\n",
      "Epoch [41], train_loss: 1.6647, val_loss: 1.7501, val_acc: 0.7145\n",
      "Epoch [42], train_loss: 1.6604, val_loss: 1.7314, val_acc: 0.7315\n",
      "Epoch [43], train_loss: 1.6591, val_loss: 1.7174, val_acc: 0.7505\n",
      "Epoch [44], train_loss: 1.6531, val_loss: 1.7186, val_acc: 0.7489\n",
      "Epoch [45], train_loss: 1.6541, val_loss: 1.7501, val_acc: 0.7127\n",
      "Epoch [46], train_loss: 1.6510, val_loss: 1.7573, val_acc: 0.7070\n",
      "Epoch [47], train_loss: 1.6466, val_loss: 1.7932, val_acc: 0.6682\n",
      "Epoch [48], train_loss: 1.6447, val_loss: 1.7308, val_acc: 0.7317\n",
      "Epoch [49], train_loss: 1.6408, val_loss: 1.6959, val_acc: 0.7699\n",
      "Epoch [50], train_loss: 1.6424, val_loss: 1.7498, val_acc: 0.7111\n",
      "Epoch [51], train_loss: 1.6406, val_loss: 1.7412, val_acc: 0.7249\n",
      "Epoch [52], train_loss: 1.6358, val_loss: 1.7680, val_acc: 0.6941\n",
      "Epoch [53], train_loss: 1.6327, val_loss: 1.7258, val_acc: 0.7422\n",
      "Epoch [54], train_loss: 1.6327, val_loss: 1.7664, val_acc: 0.6942\n",
      "Epoch [55], train_loss: 1.6318, val_loss: 1.6965, val_acc: 0.7684\n",
      "Epoch [56], train_loss: 1.6287, val_loss: 1.6948, val_acc: 0.7670\n",
      "Epoch [57], train_loss: 1.6272, val_loss: 1.6550, val_acc: 0.8079\n",
      "Epoch [58], train_loss: 1.6239, val_loss: 1.7223, val_acc: 0.7412\n",
      "Epoch [59], train_loss: 1.6225, val_loss: 1.6898, val_acc: 0.7732\n",
      "Epoch [60], train_loss: 1.6215, val_loss: 1.6971, val_acc: 0.7659\n",
      "Epoch [61], train_loss: 1.6198, val_loss: 1.6699, val_acc: 0.7944\n",
      "Epoch [62], train_loss: 1.6152, val_loss: 1.7201, val_acc: 0.7437\n",
      "Epoch [63], train_loss: 1.6152, val_loss: 1.7749, val_acc: 0.6865\n",
      "Epoch [64], train_loss: 1.6137, val_loss: 1.6838, val_acc: 0.7791\n",
      "Epoch [65], train_loss: 1.6108, val_loss: 1.6658, val_acc: 0.7975\n",
      "Epoch [66], train_loss: 1.6104, val_loss: 1.6946, val_acc: 0.7680\n",
      "Epoch [67], train_loss: 1.6074, val_loss: 1.6705, val_acc: 0.7935\n",
      "Epoch [68], train_loss: 1.6070, val_loss: 1.6540, val_acc: 0.8096\n",
      "Epoch [69], train_loss: 1.6043, val_loss: 1.6680, val_acc: 0.7959\n",
      "Epoch [70], train_loss: 1.6035, val_loss: 1.6792, val_acc: 0.7816\n",
      "Epoch [71], train_loss: 1.6009, val_loss: 1.6785, val_acc: 0.7842\n",
      "Epoch [72], train_loss: 1.6015, val_loss: 1.6778, val_acc: 0.7834\n",
      "Epoch [73], train_loss: 1.5985, val_loss: 1.7152, val_acc: 0.7466\n",
      "Epoch [74], train_loss: 1.5978, val_loss: 1.6853, val_acc: 0.7798\n",
      "Epoch [75], train_loss: 1.5955, val_loss: 1.6943, val_acc: 0.7695\n",
      "Epoch [76], train_loss: 1.5952, val_loss: 1.6928, val_acc: 0.7698\n",
      "Epoch [77], train_loss: 1.5900, val_loss: 1.6891, val_acc: 0.7720\n",
      "Epoch [78], train_loss: 1.5920, val_loss: 1.6391, val_acc: 0.8276\n",
      "Epoch [79], train_loss: 1.5883, val_loss: 1.6439, val_acc: 0.8197\n",
      "Epoch [80], train_loss: 1.5864, val_loss: 1.6614, val_acc: 0.8035\n",
      "Epoch [81], train_loss: 1.5848, val_loss: 1.6611, val_acc: 0.8024\n",
      "Epoch [82], train_loss: 1.5845, val_loss: 1.6725, val_acc: 0.7901\n",
      "Epoch [83], train_loss: 1.5820, val_loss: 1.6537, val_acc: 0.8088\n",
      "Epoch [84], train_loss: 1.5812, val_loss: 1.6590, val_acc: 0.8054\n",
      "Epoch [85], train_loss: 1.5799, val_loss: 1.6601, val_acc: 0.8045\n",
      "Epoch [86], train_loss: 1.5767, val_loss: 1.6452, val_acc: 0.8182\n",
      "Epoch [87], train_loss: 1.5748, val_loss: 1.6507, val_acc: 0.8125\n",
      "Epoch [88], train_loss: 1.5750, val_loss: 1.6352, val_acc: 0.8276\n",
      "Epoch [89], train_loss: 1.5743, val_loss: 1.6529, val_acc: 0.8100\n",
      "Epoch [90], train_loss: 1.5720, val_loss: 1.6332, val_acc: 0.8310\n",
      "Epoch [91], train_loss: 1.5708, val_loss: 1.6466, val_acc: 0.8163\n",
      "Epoch [92], train_loss: 1.5694, val_loss: 1.6597, val_acc: 0.8034\n",
      "Epoch [93], train_loss: 1.5667, val_loss: 1.6412, val_acc: 0.8221\n",
      "Epoch [94], train_loss: 1.5656, val_loss: 1.6441, val_acc: 0.8192\n",
      "Epoch [95], train_loss: 1.5650, val_loss: 1.6223, val_acc: 0.8436\n",
      "Epoch [96], train_loss: 1.5618, val_loss: 1.6195, val_acc: 0.8467\n",
      "Epoch [97], train_loss: 1.5611, val_loss: 1.6443, val_acc: 0.8191\n",
      "Epoch [98], train_loss: 1.5598, val_loss: 1.6165, val_acc: 0.8474\n",
      "Epoch [99], train_loss: 1.5584, val_loss: 1.6287, val_acc: 0.8359\n",
      "Epoch [100], train_loss: 1.5557, val_loss: 1.6260, val_acc: 0.8370\n",
      "Epoch [101], train_loss: 1.5557, val_loss: 1.6129, val_acc: 0.8517\n",
      "Epoch [102], train_loss: 1.5523, val_loss: 1.6273, val_acc: 0.8361\n",
      "Epoch [103], train_loss: 1.5539, val_loss: 1.6130, val_acc: 0.8501\n",
      "Epoch [104], train_loss: 1.5514, val_loss: 1.6145, val_acc: 0.8494\n",
      "Epoch [105], train_loss: 1.5493, val_loss: 1.6246, val_acc: 0.8398\n",
      "Epoch [106], train_loss: 1.5472, val_loss: 1.6158, val_acc: 0.8482\n",
      "Epoch [107], train_loss: 1.5478, val_loss: 1.6173, val_acc: 0.8462\n",
      "Epoch [108], train_loss: 1.5467, val_loss: 1.6202, val_acc: 0.8458\n",
      "Epoch [109], train_loss: 1.5454, val_loss: 1.6180, val_acc: 0.8452\n",
      "Epoch [110], train_loss: 1.5428, val_loss: 1.6201, val_acc: 0.8441\n",
      "Epoch [111], train_loss: 1.5412, val_loss: 1.6144, val_acc: 0.8497\n",
      "Epoch [112], train_loss: 1.5411, val_loss: 1.6219, val_acc: 0.8419\n",
      "Epoch [113], train_loss: 1.5402, val_loss: 1.6143, val_acc: 0.8496\n",
      "Epoch [114], train_loss: 1.5392, val_loss: 1.6149, val_acc: 0.8478\n",
      "Epoch [115], train_loss: 1.5377, val_loss: 1.6163, val_acc: 0.8487\n",
      "Epoch [116], train_loss: 1.5357, val_loss: 1.6119, val_acc: 0.8536\n",
      "Epoch [117], train_loss: 1.5351, val_loss: 1.6107, val_acc: 0.8535\n",
      "Epoch [118], train_loss: 1.5342, val_loss: 1.6099, val_acc: 0.8548\n",
      "Epoch [119], train_loss: 1.5337, val_loss: 1.6134, val_acc: 0.8506\n",
      "Epoch [120], train_loss: 1.5316, val_loss: 1.6140, val_acc: 0.8510\n",
      "Epoch [121], train_loss: 1.5326, val_loss: 1.6106, val_acc: 0.8536\n",
      "Epoch [122], train_loss: 1.5321, val_loss: 1.6140, val_acc: 0.8496\n",
      "Epoch [123], train_loss: 1.5308, val_loss: 1.6132, val_acc: 0.8503\n",
      "Epoch [124], train_loss: 1.5303, val_loss: 1.6099, val_acc: 0.8556\n",
      "Epoch [125], train_loss: 1.5301, val_loss: 1.6082, val_acc: 0.8551\n",
      "Epoch [126], train_loss: 1.5290, val_loss: 1.6070, val_acc: 0.8574\n",
      "Epoch [127], train_loss: 1.5282, val_loss: 1.6092, val_acc: 0.8549\n",
      "Epoch [128], train_loss: 1.5280, val_loss: 1.6070, val_acc: 0.8568\n",
      "Epoch [129], train_loss: 1.5278, val_loss: 1.6067, val_acc: 0.8569\n",
      "Epoch [130], train_loss: 1.5271, val_loss: 1.6067, val_acc: 0.8583\n",
      "Epoch [131], train_loss: 1.5274, val_loss: 1.6061, val_acc: 0.8573\n",
      "Epoch [132], train_loss: 1.5262, val_loss: 1.6073, val_acc: 0.8573\n",
      "Epoch [133], train_loss: 1.5263, val_loss: 1.6095, val_acc: 0.8540\n",
      "Epoch [134], train_loss: 1.5266, val_loss: 1.6075, val_acc: 0.8558\n",
      "Epoch [135], train_loss: 1.5268, val_loss: 1.6057, val_acc: 0.8579\n",
      "Epoch [136], train_loss: 1.5260, val_loss: 1.6090, val_acc: 0.8555\n",
      "Epoch [137], train_loss: 1.5262, val_loss: 1.6078, val_acc: 0.8562\n",
      "Epoch [138], train_loss: 1.5265, val_loss: 1.6070, val_acc: 0.8564\n",
      "Epoch [139], train_loss: 1.5263, val_loss: 1.6068, val_acc: 0.8572\n",
      "CPU times: user 11min 43s, sys: 1min 41s, total: 13min 25s\n",
      "Wall time: 24min 23s\n"
     ]
    }
   ],
   "source": [
    "%%time\n",
    "histories[\"ResNet-20\"] += fit_one_cycle(epochs_res20, max_lr, model_res20, train_dl_res20, valid_dl_res20, \n",
    "                             grad_clip=grad_clip, \n",
    "                             weight_decay=weight_decay, \n",
    "                             opt_func=opt_func)"
   ]
  },
  {
   "cell_type": "markdown",
   "id": "binary-beast",
   "metadata": {},
   "source": [
    "## Graphs"
   ]
  },
  {
   "cell_type": "code",
   "execution_count": 20,
   "id": "further-danger",
   "metadata": {},
   "outputs": [],
   "source": [
    "def plot_accuracies(histories):\n",
    "    for resnet in  histories.keys():\n",
    "        history = histories[resnet]\n",
    "        accuracies = [x['val_acc'] for x in history]\n",
    "        plt.figure(figsize=(10,6))\n",
    "        plt.plot(accuracies, '-x')\n",
    "        plt.xlabel('epoch')\n",
    "        plt.ylabel('accuracy')\n",
    "        plt.title(f'{resnet} Accuracy vs. No. of epochs');\n",
    "    \n",
    "def plot_losses(histories):\n",
    "    for resnet in  histories.keys():\n",
    "        history = histories[resnet]\n",
    "        train_losses = [x.get('train_loss') for x in history]\n",
    "        val_losses = [x['val_loss'] for x in history]\n",
    "        plt.figure(figsize=(10,6))\n",
    "        plt.plot(train_losses, '-bx')\n",
    "        plt.plot(val_losses, '-rx')\n",
    "        plt.xlabel('epoch')\n",
    "        plt.ylabel('loss')\n",
    "        plt.legend(['Training', 'Validation'])\n",
    "        plt.title(f'{resnet} Loss vs. No. of epochs');\n",
    "    \n",
    "def plot_lrs(histories):\n",
    "    for resnet in  histories.keys():\n",
    "        history = histories[resnet]\n",
    "        lrs = np.concatenate([x.get('lrs', []) for x in history])\n",
    "        plt.figure(figsize=(10,6))\n",
    "        plt.plot(lrs)\n",
    "        plt.xlabel('Batch no.')\n",
    "        plt.ylabel('Learning rate')\n",
    "        plt.title(f'{resnet} Learning Rate vs. Batch no.');"
   ]
  },
  {
   "cell_type": "code",
   "execution_count": 21,
   "id": "lined-paintball",
   "metadata": {},
   "outputs": [
    {
     "data": {
      "image/png": "[encoded data removed]",
      "text/plain": [
       "<Figure size 720x432 with 1 Axes>"
      ]
     },
     "metadata": {
      "needs_background": "light"
     },
     "output_type": "display_data"
    }
   ],
   "source": [
    "plot_accuracies(histories)"
   ]
  },
  {
   "cell_type": "code",
   "execution_count": 22,
   "id": "sitting-picking",
   "metadata": {},
   "outputs": [
    {
     "data": {
      "image/png": "[encoded data removed]",
      "text/plain": [
       "<Figure size 720x432 with 1 Axes>"
      ]
     },
     "metadata": {
      "needs_background": "light"
     },
     "output_type": "display_data"
    }
   ],
   "source": [
    "plot_losses(histories)"
   ]
  },
  {
   "cell_type": "code",
   "execution_count": 23,
   "id": "pursuant-grant",
   "metadata": {},
   "outputs": [
    {
     "data": {
      "image/png": "[encoded data removed]",
      "text/plain": [
       "<Figure size 720x432 with 1 Axes>"
      ]
     },
     "metadata": {
      "needs_background": "light"
     },
     "output_type": "display_data"
    }
   ],
   "source": [
    "plot_lrs(histories)"
   ]
  }
 ],
 "metadata": {
  "kernelspec": {
   "display_name": "Python 3",
   "language": "python",
   "name": "python3"
  },
  "language_info": {
   "codemirror_mode": {
    "name": "ipython",
    "version": 3
   },
   "file_extension": ".py",
   "mimetype": "text/x-python",
   "name": "python",
   "nbconvert_exporter": "python",
   "pygments_lexer": "ipython3",
   "version": "3.6.9"
  }
 },
 "nbformat": 4,
 "nbformat_minor": 5
}
