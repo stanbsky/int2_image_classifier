{
 "cells": [
  {
   "cell_type": "markdown",
   "id": "aggregate-actress",
   "metadata": {},
   "source": [
    "## Importing libraries"
   ]
  },
  {
   "cell_type": "code",
   "execution_count": 1,
   "id": "persistent-rebel",
   "metadata": {},
   "outputs": [
    {
     "name": "stderr",
     "output_type": "stream",
     "text": [
      "Matplotlib created a temporary config/cache directory at /tmp/matplotlib-v59d_aq_ because the default path (/run/user/141228/cache/matplotlib) is not a writable directory; it is highly recommended to set the MPLCONFIGDIR environment variable to a writable directory, in particular to speed up the import of Matplotlib and to better support multiprocessing.\n"
     ]
    }
   ],
   "source": [
    "import torch\n",
    "import torchvision\n",
    "from torchvision.datasets.utils import download_url\n",
    "from torch.utils.data import random_split\n",
    "from torchvision.datasets import ImageFolder\n",
    "from torchvision.transforms import ToTensor,ToPILImage\n",
    "import matplotlib.pyplot as plt\n",
    "from torchvision.utils import make_grid\n",
    "from torch.utils.data.dataloader import DataLoader\n",
    "from torchvision.utils import make_grid\n",
    "import torch.nn as nn\n",
    "import torch.nn.functional as F\n",
    "import torchvision.transforms as tt\n",
    "import numpy as np\n",
    "import torchvision.datasets as datasets"
   ]
  },
  {
   "cell_type": "markdown",
   "id": "subsequent-crossing",
   "metadata": {},
   "source": [
    "## Data and device loading"
   ]
  },
  {
   "cell_type": "code",
   "execution_count": 2,
   "id": "concrete-certificate",
   "metadata": {},
   "outputs": [],
   "source": [
    "torch.backends.cudnn.benchmark = True\n",
    "device = torch.device(\"cuda:3\" if torch.cuda.is_available() else \"cpu\")"
   ]
  },
  {
   "cell_type": "code",
   "execution_count": 3,
   "id": "federal-programmer",
   "metadata": {},
   "outputs": [],
   "source": [
    "stats= ((0.4914,0.4822,0.4465),(0.2023,0.1994,0.2010)) #mean and std\n",
    "train_tfm= tt.Compose([tt.RandomCrop(32, padding=4, padding_mode='reflect'), # transormation of data together\n",
    "                       tt.RandomHorizontalFlip(),\n",
    "                       tt.ToTensor()])\n",
    "valid_tfm = tt.Compose([tt.ToTensor()])"
   ]
  },
  {
   "cell_type": "code",
   "execution_count": 4,
   "id": "looking-adventure",
   "metadata": {},
   "outputs": [
    {
     "name": "stdout",
     "output_type": "stream",
     "text": [
      "Files already downloaded and verified\n"
     ]
    }
   ],
   "source": [
    "training_data = datasets.CIFAR10(\n",
    "    root=\"data\",\n",
    "    train=True,\n",
    "    download=True,\n",
    "    transform=train_tfm,\n",
    ")"
   ]
  },
  {
   "cell_type": "code",
   "execution_count": 5,
   "id": "demanding-casino",
   "metadata": {},
   "outputs": [
    {
     "name": "stdout",
     "output_type": "stream",
     "text": [
      "Files already downloaded and verified\n"
     ]
    }
   ],
   "source": [
    "# Download test data from open datasets.\n",
    "test_data = datasets.CIFAR10(\n",
    "    root=\"data\",\n",
    "    train=False,\n",
    "    download=True,\n",
    "    transform=valid_tfm,\n",
    ")"
   ]
  },
  {
   "cell_type": "code",
   "execution_count": 6,
   "id": "strong-region",
   "metadata": {},
   "outputs": [
    {
     "data": {
      "text/plain": [
       "Dataset CIFAR10\n",
       "    Number of datapoints: 50000\n",
       "    Root location: data\n",
       "    Split: Train\n",
       "    StandardTransform\n",
       "Transform: Compose(\n",
       "               RandomCrop(size=(32, 32), padding=4)\n",
       "               RandomHorizontalFlip(p=0.5)\n",
       "               ToTensor()\n",
       "           )"
      ]
     },
     "execution_count": 6,
     "metadata": {},
     "output_type": "execute_result"
    }
   ],
   "source": [
    "valid_ds = test_data\n",
    "train_ds = training_data\n",
    "train_ds"
   ]
  },
  {
   "cell_type": "code",
   "execution_count": 7,
   "id": "incomplete-suggestion",
   "metadata": {},
   "outputs": [],
   "source": [
    "batch_size_res9=400\n",
    "batch_size_res20=200"
   ]
  },
  {
   "cell_type": "code",
   "execution_count": 8,
   "id": "tropical-indicator",
   "metadata": {},
   "outputs": [],
   "source": [
    "# Dataloader to load data in batches(mini batch)\n",
    "train_dl_res9= DataLoader(train_ds,batch_size_res9,shuffle=True, num_workers=3, pin_memory=True) \n",
    "valid_dl_res9= DataLoader(valid_ds, batch_size_res9, num_workers=3,pin_memory=True) \n",
    "\n",
    "train_dl_res20= DataLoader(train_ds,batch_size_res20,shuffle=True, num_workers=3, pin_memory=True) \n",
    "valid_dl_res20= DataLoader(valid_ds, batch_size_res20, num_workers=3,pin_memory=True)"
   ]
  },
  {
   "cell_type": "code",
   "execution_count": 9,
   "id": "textile-birthday",
   "metadata": {},
   "outputs": [],
   "source": [
    "def get_default_device():\n",
    "    \"\"\"Pick GPU if available, else CPU\"\"\"\n",
    "    if torch.cuda.is_available():\n",
    "        return torch.device('cuda')\n",
    "    else:\n",
    "        return torch.device('cpu')\n",
    "    \n",
    "def to_device(data, device):\n",
    "    \"\"\"Move tensor(s) to chosen device\"\"\"\n",
    "    if isinstance(data, (list,tuple)):\n",
    "        return [to_device(x, device) for x in data]\n",
    "    return data.to(device, non_blocking=True)\n",
    "\n",
    "class DeviceDataLoader():\n",
    "    \"\"\"Wrap a dataloader to move data to a device\"\"\"\n",
    "    def __init__(self, dl, device):\n",
    "        self.dl = dl\n",
    "        self.device = device\n",
    "        \n",
    "    def __iter__(self):\n",
    "        \"\"\"Yield a batch of data after moving it to device\"\"\"\n",
    "        for b in self.dl: \n",
    "            yield to_device(b, self.device)\n",
    "\n",
    "    def __len__(self):\n",
    "        \"\"\"Number of batches\"\"\"\n",
    "        return len(self.dl)"
   ]
  },
  {
   "cell_type": "code",
   "execution_count": 10,
   "id": "korean-thesis",
   "metadata": {},
   "outputs": [],
   "source": [
    "train_dl_res9= DeviceDataLoader(train_dl_res9, device)\n",
    "valid_dl_res9 = DeviceDataLoader(valid_dl_res9, device)\n",
    "\n",
    "train_dl_res20= DeviceDataLoader(train_dl_res20, device)\n",
    "valid_dl_res20 = DeviceDataLoader(valid_dl_res20, device)"
   ]
  },
  {
   "cell_type": "markdown",
   "id": "agreed-distinction",
   "metadata": {},
   "source": [
    "## Training loop"
   ]
  },
  {
   "cell_type": "code",
   "execution_count": 11,
   "id": "secure-entrepreneur",
   "metadata": {},
   "outputs": [],
   "source": [
    "def accuracy(outputs, labels):\n",
    "    _, preds = torch.max(outputs, dim=1)\n",
    "    return torch.tensor(torch.sum(preds == labels).item() / len(preds))\n",
    "\n",
    "class ImageClassificationBase(nn.Module):\n",
    "    def training_step(self, batch):\n",
    "        images, labels = batch \n",
    "        out = self(images)                  # Generate predictions\n",
    "        loss = F.cross_entropy(out, labels) # Calculate loss\n",
    "        return loss\n",
    "    \n",
    "    def validation_step(self, batch):\n",
    "        images, labels = batch \n",
    "        out = self(images)                    # Generate predictions\n",
    "        loss = F.cross_entropy(out, labels)   # Calculate loss\n",
    "        acc = accuracy(out, labels)           # Calculate accuracy\n",
    "        return {'val_loss': loss.detach(), 'val_acc': acc}\n",
    "        \n",
    "    def validation_epoch_end(self, outputs):\n",
    "        batch_losses = [x['val_loss'] for x in outputs]\n",
    "        epoch_loss = torch.stack(batch_losses).mean()   # Combine losses\n",
    "        batch_accs = [x['val_acc'] for x in outputs]\n",
    "        epoch_acc = torch.stack(batch_accs).mean()      # Combine accuracies\n",
    "        return {'val_loss': epoch_loss.item(), 'val_acc': epoch_acc.item()}\n",
    "    \n",
    "    def epoch_end(self, epoch, result):\n",
    "        print(\"Epoch [{}], train_loss: {:.4f}, val_loss: {:.4f}, val_acc: {:.4f}\".format(\n",
    "            epoch, result['train_loss'], result['val_loss'], result['val_acc']))"
   ]
  },
  {
   "cell_type": "markdown",
   "id": "electronic-death",
   "metadata": {},
   "source": [
    "## Resnets"
   ]
  },
  {
   "cell_type": "code",
   "execution_count": 12,
   "id": "commercial-stephen",
   "metadata": {},
   "outputs": [],
   "source": [
    "def conv_block_res9(in_channels, out_channels, pool=False):\n",
    "    layers = [nn.Conv2d(in_channels, out_channels, kernel_size=3, padding=1), \n",
    "              nn.BatchNorm2d(out_channels), \n",
    "              nn.ReLU(inplace=True)]\n",
    "    if pool: layers.append(nn.MaxPool2d(2))\n",
    "    return nn.Sequential(*layers)\n",
    "\n",
    "class ResNet9(ImageClassificationBase):\n",
    "    def __init__(self, in_channels, num_classes):\n",
    "        super().__init__()\n",
    "        \n",
    "        self.conv1 = conv_block_res9(in_channels, 64)\n",
    "        self.conv2 = conv_block_res9(64, 128, pool=True)\n",
    "        self.res1 = nn.Sequential(conv_block_res9(128, 128), conv_block_res9(128, 128))\n",
    "        \n",
    "        self.conv3 = conv_block_res9(128, 256, pool=True)\n",
    "        self.conv4 = conv_block_res9(256, 512, pool=True)\n",
    "        self.res2 = nn.Sequential(conv_block_res9(512, 512), conv_block_res9(512, 512))\n",
    "        \n",
    "        self.classifier = nn.Sequential(nn.MaxPool2d(4), \n",
    "                                        nn.Flatten(), \n",
    "                                        nn.Linear(512, num_classes))\n",
    "        \n",
    "    def forward(self, xb):\n",
    "        out = self.conv1(xb)\n",
    "        out = self.conv2(out)\n",
    "        out = self.res1(out) + out\n",
    "        out = self.conv3(out)\n",
    "        out = self.conv4(out)\n",
    "        out = self.res2(out) + out\n",
    "        out = self.classifier(out)\n",
    "        return out"
   ]
  },
  {
   "cell_type": "code",
   "execution_count": 13,
   "id": "earlier-chick",
   "metadata": {},
   "outputs": [],
   "source": [
    "def conv_block_res20(in_channels, out_channels, stride=1):\n",
    "    layers = [nn.Conv2d(in_channels, out_channels, kernel_size=3, padding=1, stride=stride), \n",
    "              nn.BatchNorm2d(out_channels), \n",
    "              nn.ReLU(inplace=True)]\n",
    "    return nn.Sequential(*layers)\n",
    "\n",
    "def shortcut(in_channels, out_channels):\n",
    "    return nn.Conv2d(in_channels, out_channels, kernel_size=3, padding=1, stride=2)\n",
    "\n",
    "class ResNet20(ImageClassificationBase):\n",
    "    def __init__(self, in_channels, num_classes, n):\n",
    "        super().__init__()\n",
    "        \n",
    "        self.n = n\n",
    "        \n",
    "        # 32x32 map\n",
    "        self.conv1 = conv_block_res20(in_channels, 16)\n",
    "        self.reg32 = nn.Sequential(conv_block_res20(16,16), conv_block_res20(16,16))\n",
    "        \n",
    "        # 16x16 map\n",
    "        self.entry16 = nn.Sequential(conv_block_res20(16, 32, stride=2), conv_block_res20(32, 32))\n",
    "        self.short16 = shortcut(16, 32)\n",
    "        self.reg16 = nn.Sequential(conv_block_res20(32, 32), conv_block_res20(32, 32))\n",
    "        \n",
    "        # 8x8 map\n",
    "        self.entry8 = nn.Sequential(conv_block_res20(32, 64, stride=2), conv_block_res20(64, 64))\n",
    "        self.short8 = shortcut(32, 64)\n",
    "        self.reg8 = nn.Sequential(conv_block_res20(64, 64), conv_block_res20(64, 64))\n",
    "        \n",
    "        self.classifier = nn.Sequential(nn.AvgPool2d(kernel_size=8, stride=None, padding=0), \n",
    "                                        nn.Linear(64, num_classes),\n",
    "                                       nn.Softmax())\n",
    "        # FOR DEBUGGING\n",
    "        self.avg = nn.AvgPool2d(kernel_size=8, stride=None, padding=0)\n",
    "        self.flat = nn.Flatten()\n",
    "        self.fcl = nn.Linear(64, num_classes)\n",
    "        self.sm = nn.Softmax()\n",
    "        \n",
    "    def forward(self, xb):\n",
    "        out = self.conv1(xb)\n",
    "        \n",
    "        for i in range(self.n):\n",
    "            out = self.reg32(out) + out\n",
    "            \n",
    "        out = self.entry16(out) + self.short16(out)\n",
    "        for i in range(self.n - 1):\n",
    "            out = self.reg16(out) + out\n",
    "            \n",
    "        out = self.entry8(out) + self.short8(out)\n",
    "        for i in range(self.n - 1):\n",
    "            out = self.reg8(out) + out\n",
    "\n",
    "        #out = self.classifier(out)\n",
    "        out = self.avg(out)\n",
    "        out = self.flat(out)\n",
    "        out = self.fcl(out)\n",
    "        out = self.sm(out)\n",
    "        \n",
    "        return out"
   ]
  },
  {
   "cell_type": "markdown",
   "id": "postal-edmonton",
   "metadata": {},
   "source": [
    "## Transfer to device"
   ]
  },
  {
   "cell_type": "code",
   "execution_count": 14,
   "id": "nervous-lingerie",
   "metadata": {},
   "outputs": [],
   "source": [
    "# model_res9 = to_device(ResNet9(3,10), device)\n",
    "model_res20 = to_device(ResNet20(3,10,3), device)"
   ]
  },
  {
   "cell_type": "code",
   "execution_count": 15,
   "id": "sufficient-campaign",
   "metadata": {},
   "outputs": [],
   "source": [
    "@torch.no_grad()\n",
    "def evaluate(model, val_loader):\n",
    "    model.eval()\n",
    "    outputs = [model.validation_step(batch) for batch in val_loader]\n",
    "    return model.validation_epoch_end(outputs)\n",
    "\n",
    "def get_lr(optimizer):\n",
    "    for param_group in optimizer.param_groups:\n",
    "        return param_group['lr']\n",
    "    \n",
    "def fit_one_cycle(epochs, max_lr, model, train_loader, val_loader, \n",
    "                  weight_decay=0, grad_clip=None, opt_func=torch.optim.SGD):\n",
    "    torch.cuda.empty_cache()  # Realsing cuda memory otherwise might get cuda out of memory error\n",
    "    history = []\n",
    "    \n",
    "    #custom optimizer with weight decay\n",
    "    optimizer = opt_func(model.parameters(), max_lr, weight_decay=weight_decay)\n",
    "    # Set up one-cycle learning rate scheduler\n",
    "    sched = torch.optim.lr_scheduler.OneCycleLR(optimizer, max_lr, epochs=epochs, \n",
    "                                                steps_per_epoch=len(train_loader))\n",
    "    \n",
    "    for epoch in range(epochs):\n",
    "        # Training Phase \n",
    "        model.train() #Setting training mode\n",
    "        train_losses = []\n",
    "        lrs = [] \n",
    "        for batch in train_loader:\n",
    "            loss = model.training_step(batch)\n",
    "            train_losses.append(loss)\n",
    "            loss.backward()\n",
    "            \n",
    "            # Gradient clipping\n",
    "            if grad_clip: \n",
    "                nn.utils.clip_grad_value_(model.parameters(), grad_clip)\n",
    "            \n",
    "            optimizer.step()\n",
    "            optimizer.zero_grad()\n",
    "            \n",
    "            # Record & update learning rate\n",
    "            lrs.append(get_lr(optimizer))\n",
    "            sched.step()\n",
    "        \n",
    "        # Validation phase\n",
    "        result = evaluate(model, val_loader) \n",
    "        result['train_loss'] = torch.stack(train_losses).mean().item()\n",
    "        result['lrs'] = lrs\n",
    "        model.epoch_end(epoch, result)\n",
    "        history.append(result)\n",
    "    return history"
   ]
  },
  {
   "cell_type": "code",
   "execution_count": 16,
   "id": "sophisticated-martin",
   "metadata": {},
   "outputs": [],
   "source": [
    "# # Smoke test: if something's wrong with how we set up our model, we'll see it now\n",
    "# histories = {\"ResNet-9\": [evaluate(model_res9, valid_dl_res9)], \"ResNet-20\": [evaluate(model_res20, valid_dl_res20)]}\n",
    "\n",
    "# print(histories)"
   ]
  },
  {
   "cell_type": "markdown",
   "id": "personalized-namibia",
   "metadata": {},
   "source": [
    "## Training"
   ]
  },
  {
   "cell_type": "code",
   "execution_count": 17,
   "id": "tamil-rescue",
   "metadata": {},
   "outputs": [],
   "source": [
    "epochs_res9 = 70\n",
    "epochs_res20 = 140\n",
    "histories = {\"ResNet-20\":[]}\n",
    "max_lr = 0.01\n",
    "grad_clip = 0.1\n",
    "weight_decay = 1e-4\n",
    "opt_func = torch.optim.Adam"
   ]
  },
  {
   "cell_type": "code",
   "execution_count": 18,
   "id": "coordinated-whole",
   "metadata": {},
   "outputs": [],
   "source": [
    "# %%time\n",
    "# histories[\"ResNet-9\"] += fit_one_cycle(epochs_res9, max_lr, model_res9, train_dl_res9, valid_dl_res9, \n",
    "#                              grad_clip=grad_clip, \n",
    "#                              weight_decay=weight_decay, \n",
    "#                              opt_func=opt_func)"
   ]
  },
  {
   "cell_type": "code",
   "execution_count": 19,
   "id": "accessory-argument",
   "metadata": {},
   "outputs": [
    {
     "name": "stderr",
     "output_type": "stream",
     "text": [
      "/home/userfs/s/sb2444/.local/lib/python3.6/site-packages/ipykernel_launcher.py:57: UserWarning: Implicit dimension choice for softmax has been deprecated. Change the call to include dim=X as an argument.\n"
     ]
    },
    {
     "name": "stdout",
     "output_type": "stream",
     "text": [
      "Epoch [0], train_loss: 2.1115, val_loss: 2.1069, val_acc: 0.3541\n",
      "Epoch [1], train_loss: 1.9933, val_loss: 2.1433, val_acc: 0.3031\n",
      "Epoch [2], train_loss: 1.9249, val_loss: 2.0152, val_acc: 0.4445\n",
      "Epoch [3], train_loss: 1.8842, val_loss: 1.9380, val_acc: 0.5252\n",
      "Epoch [4], train_loss: 1.8581, val_loss: 2.0288, val_acc: 0.4280\n",
      "Epoch [5], train_loss: 1.8356, val_loss: 1.9067, val_acc: 0.5508\n",
      "Epoch [6], train_loss: 1.8281, val_loss: 1.9690, val_acc: 0.4935\n",
      "Epoch [7], train_loss: 1.8242, val_loss: 1.9206, val_acc: 0.5371\n",
      "Epoch [8], train_loss: 1.8102, val_loss: 1.8593, val_acc: 0.5984\n",
      "Epoch [9], train_loss: 1.8020, val_loss: 1.9065, val_acc: 0.5514\n",
      "Epoch [10], train_loss: 1.7951, val_loss: 1.8488, val_acc: 0.6133\n",
      "Epoch [11], train_loss: 1.7925, val_loss: 1.8463, val_acc: 0.6173\n",
      "Epoch [12], train_loss: 1.7817, val_loss: 2.0084, val_acc: 0.4481\n",
      "Epoch [13], train_loss: 1.7799, val_loss: 1.8079, val_acc: 0.6483\n",
      "Epoch [14], train_loss: 1.7770, val_loss: 1.9451, val_acc: 0.5121\n",
      "Epoch [15], train_loss: 1.7682, val_loss: 1.8419, val_acc: 0.6228\n",
      "Epoch [16], train_loss: 1.7700, val_loss: 1.8569, val_acc: 0.6004\n",
      "Epoch [17], train_loss: 1.7695, val_loss: 1.9953, val_acc: 0.4595\n",
      "Epoch [18], train_loss: 1.7678, val_loss: 1.8619, val_acc: 0.5953\n",
      "Epoch [19], train_loss: 1.7714, val_loss: 1.8543, val_acc: 0.6045\n",
      "Epoch [20], train_loss: 1.7652, val_loss: 1.8865, val_acc: 0.5712\n",
      "Epoch [21], train_loss: 1.7646, val_loss: 1.8886, val_acc: 0.5702\n",
      "Epoch [22], train_loss: 1.7714, val_loss: 1.8633, val_acc: 0.5936\n",
      "Epoch [23], train_loss: 1.7747, val_loss: 1.8617, val_acc: 0.5970\n",
      "Epoch [24], train_loss: 1.7783, val_loss: 1.8429, val_acc: 0.6139\n",
      "Epoch [25], train_loss: 1.7761, val_loss: 1.8811, val_acc: 0.5774\n",
      "Epoch [26], train_loss: 1.7820, val_loss: 1.8588, val_acc: 0.5998\n",
      "Epoch [27], train_loss: 1.7884, val_loss: 1.8658, val_acc: 0.5916\n",
      "Epoch [28], train_loss: 1.7817, val_loss: 1.8804, val_acc: 0.5772\n",
      "Epoch [29], train_loss: 1.7975, val_loss: 1.9924, val_acc: 0.4656\n",
      "Epoch [30], train_loss: 1.8030, val_loss: 1.8804, val_acc: 0.5780\n",
      "Epoch [31], train_loss: 1.7997, val_loss: 1.9318, val_acc: 0.5251\n",
      "Epoch [32], train_loss: 1.8092, val_loss: 1.9243, val_acc: 0.5334\n",
      "Epoch [33], train_loss: 1.8104, val_loss: 1.8530, val_acc: 0.6057\n",
      "Epoch [34], train_loss: 1.8139, val_loss: 1.8850, val_acc: 0.5739\n",
      "Epoch [35], train_loss: 1.8084, val_loss: 1.8562, val_acc: 0.5993\n",
      "Epoch [36], train_loss: 1.8090, val_loss: 1.8912, val_acc: 0.5667\n",
      "Epoch [37], train_loss: 1.8119, val_loss: 1.9013, val_acc: 0.5574\n",
      "Epoch [38], train_loss: 1.8118, val_loss: 1.9618, val_acc: 0.4940\n",
      "Epoch [39], train_loss: 1.8087, val_loss: 1.9691, val_acc: 0.4882\n",
      "Epoch [40], train_loss: 1.8051, val_loss: 1.8986, val_acc: 0.5595\n",
      "Epoch [41], train_loss: 1.8113, val_loss: 1.8750, val_acc: 0.5829\n",
      "Epoch [42], train_loss: 1.8060, val_loss: 1.8727, val_acc: 0.5853\n",
      "Epoch [43], train_loss: 1.8155, val_loss: 1.9713, val_acc: 0.4859\n",
      "Epoch [44], train_loss: 1.8211, val_loss: 1.9849, val_acc: 0.4718\n",
      "Epoch [45], train_loss: 1.8132, val_loss: 1.8283, val_acc: 0.6294\n",
      "Epoch [46], train_loss: 1.8006, val_loss: 2.2008, val_acc: 0.2553\n",
      "Epoch [47], train_loss: 1.8023, val_loss: 1.8702, val_acc: 0.5900\n",
      "Epoch [48], train_loss: 1.7981, val_loss: 1.9145, val_acc: 0.5437\n",
      "Epoch [49], train_loss: 1.7959, val_loss: 1.8854, val_acc: 0.5725\n",
      "Epoch [50], train_loss: 1.7944, val_loss: 1.8184, val_acc: 0.6405\n",
      "Epoch [51], train_loss: 1.7946, val_loss: 1.9652, val_acc: 0.4920\n",
      "Epoch [52], train_loss: 1.7901, val_loss: 1.8810, val_acc: 0.5778\n",
      "Epoch [53], train_loss: 1.7916, val_loss: 1.9644, val_acc: 0.4936\n",
      "Epoch [54], train_loss: 1.7945, val_loss: 1.8270, val_acc: 0.6320\n",
      "Epoch [55], train_loss: 1.7864, val_loss: 1.8516, val_acc: 0.6061\n",
      "Epoch [56], train_loss: 1.7894, val_loss: 1.8611, val_acc: 0.5964\n",
      "Epoch [57], train_loss: 1.7881, val_loss: 1.8120, val_acc: 0.6463\n",
      "Epoch [58], train_loss: 1.7765, val_loss: 1.8348, val_acc: 0.6255\n",
      "Epoch [59], train_loss: 1.7788, val_loss: 1.7874, val_acc: 0.6712\n",
      "Epoch [60], train_loss: 1.7775, val_loss: 1.9073, val_acc: 0.5509\n",
      "Epoch [61], train_loss: 1.7803, val_loss: 1.8971, val_acc: 0.5596\n",
      "Epoch [62], train_loss: 1.7762, val_loss: 1.8576, val_acc: 0.6002\n",
      "Epoch [63], train_loss: 1.7706, val_loss: 1.8730, val_acc: 0.5847\n",
      "Epoch [64], train_loss: 1.7778, val_loss: 1.9239, val_acc: 0.5330\n",
      "Epoch [65], train_loss: 1.7745, val_loss: 1.8046, val_acc: 0.6567\n",
      "Epoch [66], train_loss: 1.7652, val_loss: 1.8422, val_acc: 0.6173\n",
      "Epoch [67], train_loss: 1.7628, val_loss: 1.8238, val_acc: 0.6352\n",
      "Epoch [68], train_loss: 1.7617, val_loss: 1.7869, val_acc: 0.6717\n",
      "Epoch [69], train_loss: 1.7612, val_loss: 1.8110, val_acc: 0.6471\n",
      "Epoch [70], train_loss: 1.7548, val_loss: 1.8294, val_acc: 0.6288\n",
      "Epoch [71], train_loss: 1.7564, val_loss: 1.8545, val_acc: 0.6043\n",
      "Epoch [72], train_loss: 1.7574, val_loss: 1.7969, val_acc: 0.6614\n",
      "Epoch [73], train_loss: 1.7563, val_loss: 1.8606, val_acc: 0.5986\n",
      "Epoch [74], train_loss: 1.7493, val_loss: 1.9378, val_acc: 0.5196\n",
      "Epoch [75], train_loss: 1.7491, val_loss: 1.7674, val_acc: 0.6912\n",
      "Epoch [76], train_loss: 1.7473, val_loss: 1.7601, val_acc: 0.7016\n",
      "Epoch [77], train_loss: 1.7412, val_loss: 1.7901, val_acc: 0.6695\n",
      "Epoch [78], train_loss: 1.7437, val_loss: 1.7479, val_acc: 0.7127\n",
      "Epoch [79], train_loss: 1.7355, val_loss: 1.7346, val_acc: 0.7279\n",
      "Epoch [80], train_loss: 1.7343, val_loss: 1.8145, val_acc: 0.6426\n",
      "Epoch [81], train_loss: 1.7327, val_loss: 1.7384, val_acc: 0.7217\n",
      "Epoch [82], train_loss: 1.7264, val_loss: 1.8050, val_acc: 0.6539\n",
      "Epoch [83], train_loss: 1.7266, val_loss: 1.7367, val_acc: 0.7239\n",
      "Epoch [84], train_loss: 1.7285, val_loss: 1.7856, val_acc: 0.6733\n",
      "Epoch [85], train_loss: 1.7187, val_loss: 1.7465, val_acc: 0.7145\n",
      "Epoch [86], train_loss: 1.7239, val_loss: 1.7479, val_acc: 0.7105\n",
      "Epoch [87], train_loss: 1.7155, val_loss: 1.7625, val_acc: 0.6981\n",
      "Epoch [88], train_loss: 1.7126, val_loss: 1.7370, val_acc: 0.7242\n",
      "Epoch [89], train_loss: 1.7118, val_loss: 1.7506, val_acc: 0.7096\n",
      "Epoch [90], train_loss: 1.7074, val_loss: 1.7565, val_acc: 0.7059\n",
      "Epoch [91], train_loss: 1.7078, val_loss: 1.7252, val_acc: 0.7343\n",
      "Epoch [92], train_loss: 1.7044, val_loss: 1.7180, val_acc: 0.7426\n",
      "Epoch [93], train_loss: 1.7022, val_loss: 1.7300, val_acc: 0.7331\n",
      "Epoch [94], train_loss: 1.6958, val_loss: 1.7396, val_acc: 0.7198\n",
      "Epoch [95], train_loss: 1.6954, val_loss: 1.7219, val_acc: 0.7403\n",
      "Epoch [96], train_loss: 1.6931, val_loss: 1.7071, val_acc: 0.7545\n",
      "Epoch [97], train_loss: 1.6903, val_loss: 1.7153, val_acc: 0.7471\n",
      "Epoch [98], train_loss: 1.6897, val_loss: 1.6933, val_acc: 0.7686\n",
      "Epoch [99], train_loss: 1.6828, val_loss: 1.7229, val_acc: 0.7387\n",
      "Epoch [100], train_loss: 1.6829, val_loss: 1.7036, val_acc: 0.7585\n",
      "Epoch [101], train_loss: 1.6779, val_loss: 1.7272, val_acc: 0.7339\n",
      "Epoch [102], train_loss: 1.6758, val_loss: 1.6923, val_acc: 0.7715\n",
      "Epoch [103], train_loss: 1.6730, val_loss: 1.6957, val_acc: 0.7669\n",
      "Epoch [104], train_loss: 1.6708, val_loss: 1.6822, val_acc: 0.7783\n",
      "Epoch [105], train_loss: 1.6689, val_loss: 1.6945, val_acc: 0.7667\n",
      "Epoch [106], train_loss: 1.6639, val_loss: 1.6796, val_acc: 0.7832\n",
      "Epoch [107], train_loss: 1.6610, val_loss: 1.6949, val_acc: 0.7684\n",
      "Epoch [108], train_loss: 1.6610, val_loss: 1.7029, val_acc: 0.7595\n",
      "Epoch [109], train_loss: 1.6558, val_loss: 1.6892, val_acc: 0.7752\n",
      "Epoch [110], train_loss: 1.6526, val_loss: 1.6791, val_acc: 0.7861\n",
      "Epoch [111], train_loss: 1.6511, val_loss: 1.6683, val_acc: 0.7956\n",
      "Epoch [112], train_loss: 1.6478, val_loss: 1.6647, val_acc: 0.7994\n",
      "Epoch [113], train_loss: 1.6458, val_loss: 1.6628, val_acc: 0.8005\n",
      "Epoch [114], train_loss: 1.6425, val_loss: 1.6787, val_acc: 0.7841\n",
      "Epoch [115], train_loss: 1.6390, val_loss: 1.6587, val_acc: 0.8074\n",
      "Epoch [116], train_loss: 1.6351, val_loss: 1.6513, val_acc: 0.8126\n",
      "Epoch [117], train_loss: 1.6335, val_loss: 1.6542, val_acc: 0.8094\n",
      "Epoch [118], train_loss: 1.6335, val_loss: 1.6558, val_acc: 0.8083\n",
      "Epoch [119], train_loss: 1.6300, val_loss: 1.6566, val_acc: 0.8079\n",
      "Epoch [120], train_loss: 1.6271, val_loss: 1.6502, val_acc: 0.8146\n",
      "Epoch [121], train_loss: 1.6239, val_loss: 1.6468, val_acc: 0.8185\n",
      "Epoch [122], train_loss: 1.6242, val_loss: 1.6411, val_acc: 0.8227\n",
      "Epoch [123], train_loss: 1.6203, val_loss: 1.6463, val_acc: 0.8191\n",
      "Epoch [124], train_loss: 1.6185, val_loss: 1.6549, val_acc: 0.8085\n",
      "Epoch [125], train_loss: 1.6159, val_loss: 1.6430, val_acc: 0.8231\n",
      "Epoch [126], train_loss: 1.6134, val_loss: 1.6471, val_acc: 0.8161\n",
      "Epoch [127], train_loss: 1.6119, val_loss: 1.6452, val_acc: 0.8205\n",
      "Epoch [128], train_loss: 1.6110, val_loss: 1.6429, val_acc: 0.8222\n",
      "Epoch [129], train_loss: 1.6097, val_loss: 1.6456, val_acc: 0.8191\n",
      "Epoch [130], train_loss: 1.6085, val_loss: 1.6382, val_acc: 0.8278\n",
      "Epoch [131], train_loss: 1.6064, val_loss: 1.6415, val_acc: 0.8246\n",
      "Epoch [132], train_loss: 1.6054, val_loss: 1.6420, val_acc: 0.8227\n",
      "Epoch [133], train_loss: 1.6059, val_loss: 1.6403, val_acc: 0.8252\n",
      "Epoch [134], train_loss: 1.6048, val_loss: 1.6369, val_acc: 0.8279\n",
      "Epoch [135], train_loss: 1.6049, val_loss: 1.6399, val_acc: 0.8254\n",
      "Epoch [136], train_loss: 1.6024, val_loss: 1.6372, val_acc: 0.8271\n",
      "Epoch [137], train_loss: 1.6035, val_loss: 1.6394, val_acc: 0.8256\n",
      "Epoch [138], train_loss: 1.6039, val_loss: 1.6415, val_acc: 0.8229\n",
      "Epoch [139], train_loss: 1.6023, val_loss: 1.6384, val_acc: 0.8268\n",
      "CPU times: user 21min 25s, sys: 1min 45s, total: 23min 11s\n",
      "Wall time: 29min 44s\n"
     ]
    }
   ],
   "source": [
    "%%time\n",
    "histories[\"ResNet-20\"] += fit_one_cycle(epochs_res20, max_lr, model_res20, train_dl_res20, valid_dl_res20, \n",
    "                             grad_clip=grad_clip, \n",
    "                             weight_decay=weight_decay, \n",
    "                             opt_func=opt_func)"
   ]
  },
  {
   "cell_type": "markdown",
   "id": "natural-devon",
   "metadata": {},
   "source": [
    "## Graphs"
   ]
  },
  {
   "cell_type": "code",
   "execution_count": 20,
   "id": "necessary-martial",
   "metadata": {},
   "outputs": [],
   "source": [
    "def plot_accuracies(histories):\n",
    "    for resnet in  histories.keys():\n",
    "        history = histories[resnet]\n",
    "        accuracies = [x['val_acc'] for x in history]\n",
    "        plt.figure(figsize=(10,6))\n",
    "        plt.plot(accuracies, '-x')\n",
    "        plt.xlabel('epoch')\n",
    "        plt.ylabel('accuracy')\n",
    "        plt.title(f'{resnet} Accuracy vs. No. of epochs');\n",
    "    \n",
    "def plot_losses(histories):\n",
    "    for resnet in  histories.keys():\n",
    "        history = histories[resnet]\n",
    "        train_losses = [x.get('train_loss') for x in history]\n",
    "        val_losses = [x['val_loss'] for x in history]\n",
    "        plt.figure(figsize=(10,6))\n",
    "        plt.plot(train_losses, '-bx')\n",
    "        plt.plot(val_losses, '-rx')\n",
    "        plt.xlabel('epoch')\n",
    "        plt.ylabel('loss')\n",
    "        plt.legend(['Training', 'Validation'])\n",
    "        plt.title(f'{resnet} Loss vs. No. of epochs');\n",
    "    \n",
    "def plot_lrs(histories):\n",
    "    for resnet in  histories.keys():\n",
    "        history = histories[resnet]\n",
    "        lrs = np.concatenate([x.get('lrs', []) for x in history])\n",
    "        plt.figure(figsize=(10,6))\n",
    "        plt.plot(lrs)\n",
    "        plt.xlabel('Batch no.')\n",
    "        plt.ylabel('Learning rate')\n",
    "        plt.title(f'{resnet} Learning Rate vs. Batch no.');"
   ]
  },
  {
   "cell_type": "code",
   "execution_count": 21,
   "id": "boxed-robertson",
   "metadata": {},
   "outputs": [
    {
     "data": {
      "image/png": "[encoded data removed]",
      "text/plain": [
       "<Figure size 720x432 with 1 Axes>"
      ]
     },
     "metadata": {
      "needs_background": "light"
     },
     "output_type": "display_data"
    }
   ],
   "source": [
    "plot_accuracies(histories)"
   ]
  },
  {
   "cell_type": "code",
   "execution_count": 22,
   "id": "healthy-fancy",
   "metadata": {},
   "outputs": [
    {
     "data": {
      "image/png": "[encoded data removed]",
      "text/plain": [
       "<Figure size 720x432 with 1 Axes>"
      ]
     },
     "metadata": {
      "needs_background": "light"
     },
     "output_type": "display_data"
    }
   ],
   "source": [
    "plot_losses(histories)"
   ]
  },
  {
   "cell_type": "code",
   "execution_count": 23,
   "id": "arbitrary-seafood",
   "metadata": {},
   "outputs": [
    {
     "data": {
      "image/png": "[encoded data removed]",
      "text/plain": [
       "<Figure size 720x432 with 1 Axes>"
      ]
     },
     "metadata": {
      "needs_background": "light"
     },
     "output_type": "display_data"
    }
   ],
   "source": [
    "plot_lrs(histories)"
   ]
  }
 ],
 "metadata": {
  "kernelspec": {
   "display_name": "Python 3",
   "language": "python",
   "name": "python3"
  },
  "language_info": {
   "codemirror_mode": {
    "name": "ipython",
    "version": 3
   },
   "file_extension": ".py",
   "mimetype": "text/x-python",
   "name": "python",
   "nbconvert_exporter": "python",
   "pygments_lexer": "ipython3",
   "version": "3.6.9"
  }
 },
 "nbformat": 4,
 "nbformat_minor": 5
}
