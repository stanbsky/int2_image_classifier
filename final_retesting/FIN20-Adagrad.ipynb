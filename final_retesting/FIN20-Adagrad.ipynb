{
 "cells": [
  {
   "cell_type": "markdown",
   "id": "several-knight",
   "metadata": {},
   "source": [
    "## Importing libraries"
   ]
  },
  {
   "cell_type": "code",
   "execution_count": 1,
   "id": "checked-silicon",
   "metadata": {},
   "outputs": [
    {
     "name": "stderr",
     "output_type": "stream",
     "text": [
      "Matplotlib created a temporary config/cache directory at /tmp/matplotlib-dq8zi762 because the default path (/run/user/141228/cache/matplotlib) is not a writable directory; it is highly recommended to set the MPLCONFIGDIR environment variable to a writable directory, in particular to speed up the import of Matplotlib and to better support multiprocessing.\n"
     ]
    }
   ],
   "source": [
    "import torch\n",
    "import torchvision\n",
    "from torchvision.datasets.utils import download_url\n",
    "from torch.utils.data import random_split\n",
    "from torchvision.datasets import ImageFolder\n",
    "from torchvision.transforms import ToTensor,ToPILImage\n",
    "import matplotlib.pyplot as plt\n",
    "from torchvision.utils import make_grid\n",
    "from torch.utils.data.dataloader import DataLoader\n",
    "from torchvision.utils import make_grid\n",
    "import torch.nn as nn\n",
    "import torch.nn.functional as F\n",
    "import torchvision.transforms as tt\n",
    "import numpy as np\n",
    "import torchvision.datasets as datasets"
   ]
  },
  {
   "cell_type": "markdown",
   "id": "straight-istanbul",
   "metadata": {},
   "source": [
    "## Data and device loading"
   ]
  },
  {
   "cell_type": "code",
   "execution_count": 2,
   "id": "synthetic-preparation",
   "metadata": {},
   "outputs": [],
   "source": [
    "torch.backends.cudnn.benchmark = True\n",
    "device = torch.device(\"cuda:7\" if torch.cuda.is_available() else \"cpu\")"
   ]
  },
  {
   "cell_type": "code",
   "execution_count": 3,
   "id": "joint-judge",
   "metadata": {},
   "outputs": [],
   "source": [
    "stats= ((0.4914,0.4822,0.4465),(0.2023,0.1994,0.2010)) #mean and std\n",
    "train_tfm= tt.Compose([tt.RandomCrop(32, padding=4, padding_mode='reflect'), # transormation of data together\n",
    "                       tt.RandomHorizontalFlip(),\n",
    "                       tt.ToTensor()])\n",
    "valid_tfm = tt.Compose([tt.ToTensor()])"
   ]
  },
  {
   "cell_type": "code",
   "execution_count": 4,
   "id": "compatible-harvey",
   "metadata": {},
   "outputs": [
    {
     "name": "stdout",
     "output_type": "stream",
     "text": [
      "Files already downloaded and verified\n"
     ]
    }
   ],
   "source": [
    "training_data = datasets.CIFAR10(\n",
    "    root=\"data\",\n",
    "    train=True,\n",
    "    download=True,\n",
    "    transform=train_tfm,\n",
    ")"
   ]
  },
  {
   "cell_type": "code",
   "execution_count": 5,
   "id": "cultural-height",
   "metadata": {},
   "outputs": [
    {
     "name": "stdout",
     "output_type": "stream",
     "text": [
      "Files already downloaded and verified\n"
     ]
    }
   ],
   "source": [
    "# Download test data from open datasets.\n",
    "test_data = datasets.CIFAR10(\n",
    "    root=\"data\",\n",
    "    train=False,\n",
    "    download=True,\n",
    "    transform=valid_tfm,\n",
    ")"
   ]
  },
  {
   "cell_type": "code",
   "execution_count": 6,
   "id": "subtle-vampire",
   "metadata": {},
   "outputs": [
    {
     "data": {
      "text/plain": [
       "Dataset CIFAR10\n",
       "    Number of datapoints: 50000\n",
       "    Root location: data\n",
       "    Split: Train\n",
       "    StandardTransform\n",
       "Transform: Compose(\n",
       "               RandomCrop(size=(32, 32), padding=4)\n",
       "               RandomHorizontalFlip(p=0.5)\n",
       "               ToTensor()\n",
       "           )"
      ]
     },
     "execution_count": 6,
     "metadata": {},
     "output_type": "execute_result"
    }
   ],
   "source": [
    "valid_ds = test_data\n",
    "train_ds = training_data\n",
    "train_ds"
   ]
  },
  {
   "cell_type": "code",
   "execution_count": 7,
   "id": "incident-selection",
   "metadata": {},
   "outputs": [],
   "source": [
    "batch_size_res9=400\n",
    "batch_size_res20=400"
   ]
  },
  {
   "cell_type": "code",
   "execution_count": 8,
   "id": "beautiful-institute",
   "metadata": {},
   "outputs": [],
   "source": [
    "# Dataloader to load data in batches(mini batch)\n",
    "train_dl_res9= DataLoader(train_ds,batch_size_res9,shuffle=True, num_workers=3, pin_memory=True) \n",
    "valid_dl_res9= DataLoader(valid_ds, batch_size_res9, num_workers=3,pin_memory=True) \n",
    "\n",
    "train_dl_res20= DataLoader(train_ds,batch_size_res20,shuffle=True, num_workers=3, pin_memory=True) \n",
    "valid_dl_res20= DataLoader(valid_ds, batch_size_res20, num_workers=3,pin_memory=True)"
   ]
  },
  {
   "cell_type": "code",
   "execution_count": 9,
   "id": "conventional-shaft",
   "metadata": {},
   "outputs": [],
   "source": [
    "def get_default_device():\n",
    "    \"\"\"Pick GPU if available, else CPU\"\"\"\n",
    "    if torch.cuda.is_available():\n",
    "        return torch.device('cuda')\n",
    "    else:\n",
    "        return torch.device('cpu')\n",
    "    \n",
    "def to_device(data, device):\n",
    "    \"\"\"Move tensor(s) to chosen device\"\"\"\n",
    "    if isinstance(data, (list,tuple)):\n",
    "        return [to_device(x, device) for x in data]\n",
    "    return data.to(device, non_blocking=True)\n",
    "\n",
    "class DeviceDataLoader():\n",
    "    \"\"\"Wrap a dataloader to move data to a device\"\"\"\n",
    "    def __init__(self, dl, device):\n",
    "        self.dl = dl\n",
    "        self.device = device\n",
    "        \n",
    "    def __iter__(self):\n",
    "        \"\"\"Yield a batch of data after moving it to device\"\"\"\n",
    "        for b in self.dl: \n",
    "            yield to_device(b, self.device)\n",
    "\n",
    "    def __len__(self):\n",
    "        \"\"\"Number of batches\"\"\"\n",
    "        return len(self.dl)"
   ]
  },
  {
   "cell_type": "code",
   "execution_count": 10,
   "id": "bright-province",
   "metadata": {},
   "outputs": [],
   "source": [
    "train_dl_res9= DeviceDataLoader(train_dl_res9, device)\n",
    "valid_dl_res9 = DeviceDataLoader(valid_dl_res9, device)\n",
    "\n",
    "train_dl_res20= DeviceDataLoader(train_dl_res20, device)\n",
    "valid_dl_res20 = DeviceDataLoader(valid_dl_res20, device)"
   ]
  },
  {
   "cell_type": "markdown",
   "id": "stone-liability",
   "metadata": {},
   "source": [
    "## Training loop"
   ]
  },
  {
   "cell_type": "code",
   "execution_count": 11,
   "id": "inclusive-medium",
   "metadata": {},
   "outputs": [],
   "source": [
    "def accuracy(outputs, labels):\n",
    "    _, preds = torch.max(outputs, dim=1)\n",
    "    return torch.tensor(torch.sum(preds == labels).item() / len(preds))\n",
    "\n",
    "class ImageClassificationBase(nn.Module):\n",
    "    def training_step(self, batch):\n",
    "        images, labels = batch \n",
    "        out = self(images)                  # Generate predictions\n",
    "        loss = F.cross_entropy(out, labels) # Calculate loss\n",
    "        return loss\n",
    "    \n",
    "    def validation_step(self, batch):\n",
    "        images, labels = batch \n",
    "        out = self(images)                    # Generate predictions\n",
    "        loss = F.cross_entropy(out, labels)   # Calculate loss\n",
    "        acc = accuracy(out, labels)           # Calculate accuracy\n",
    "        return {'val_loss': loss.detach(), 'val_acc': acc}\n",
    "        \n",
    "    def validation_epoch_end(self, outputs):\n",
    "        batch_losses = [x['val_loss'] for x in outputs]\n",
    "        epoch_loss = torch.stack(batch_losses).mean()   # Combine losses\n",
    "        batch_accs = [x['val_acc'] for x in outputs]\n",
    "        epoch_acc = torch.stack(batch_accs).mean()      # Combine accuracies\n",
    "        return {'val_loss': epoch_loss.item(), 'val_acc': epoch_acc.item()}\n",
    "    \n",
    "    def epoch_end(self, epoch, result):\n",
    "        print(\"Epoch [{}], train_loss: {:.4f}, val_loss: {:.4f}, val_acc: {:.4f}\".format(\n",
    "            epoch, result['train_loss'], result['val_loss'], result['val_acc']))"
   ]
  },
  {
   "cell_type": "markdown",
   "id": "superb-estonia",
   "metadata": {},
   "source": [
    "## Resnets"
   ]
  },
  {
   "cell_type": "code",
   "execution_count": 12,
   "id": "swiss-radiation",
   "metadata": {},
   "outputs": [],
   "source": [
    "def conv_block_res9(in_channels, out_channels, pool=False):\n",
    "    layers = [nn.Conv2d(in_channels, out_channels, kernel_size=3, padding=1), \n",
    "              nn.BatchNorm2d(out_channels), \n",
    "              nn.ReLU(inplace=True)]\n",
    "    if pool: layers.append(nn.MaxPool2d(2))\n",
    "    return nn.Sequential(*layers)\n",
    "\n",
    "class ResNet9(ImageClassificationBase):\n",
    "    def __init__(self, in_channels, num_classes):\n",
    "        super().__init__()\n",
    "        \n",
    "        self.conv1 = conv_block_res9(in_channels, 64)\n",
    "        self.conv2 = conv_block_res9(64, 128, pool=True)\n",
    "        self.res1 = nn.Sequential(conv_block_res9(128, 128), conv_block_res9(128, 128))\n",
    "        \n",
    "        self.conv3 = conv_block_res9(128, 256, pool=True)\n",
    "        self.conv4 = conv_block_res9(256, 512, pool=True)\n",
    "        self.res2 = nn.Sequential(conv_block_res9(512, 512), conv_block_res9(512, 512))\n",
    "        \n",
    "        self.classifier = nn.Sequential(nn.MaxPool2d(4), \n",
    "                                        nn.Flatten(), \n",
    "                                        nn.Linear(512, num_classes))\n",
    "        \n",
    "    def forward(self, xb):\n",
    "        out = self.conv1(xb)\n",
    "        out = self.conv2(out)\n",
    "        out = self.res1(out) + out\n",
    "        out = self.conv3(out)\n",
    "        out = self.conv4(out)\n",
    "        out = self.res2(out) + out\n",
    "        out = self.classifier(out)\n",
    "        return out"
   ]
  },
  {
   "cell_type": "code",
   "execution_count": 13,
   "id": "decimal-poster",
   "metadata": {},
   "outputs": [],
   "source": [
    "def conv_block_res20(in_channels, out_channels, stride=1):\n",
    "    layers = [nn.Conv2d(in_channels, out_channels, kernel_size=3, padding=1, stride=stride), \n",
    "              nn.BatchNorm2d(out_channels), \n",
    "              nn.ReLU(inplace=True)]\n",
    "    return nn.Sequential(*layers)\n",
    "\n",
    "def shortcut(in_channels, out_channels):\n",
    "    return nn.Conv2d(in_channels, out_channels, kernel_size=3, padding=1, stride=2)\n",
    "\n",
    "class ResNet20(ImageClassificationBase):\n",
    "    def __init__(self, in_channels, num_classes, n):\n",
    "        super().__init__()\n",
    "        \n",
    "        self.n = n\n",
    "        \n",
    "        # 32x32 map\n",
    "        self.conv1 = conv_block_res20(in_channels, 16)\n",
    "        self.reg32 = nn.Sequential(conv_block_res20(16,16), conv_block_res20(16,16))\n",
    "        \n",
    "        # 16x16 map\n",
    "        self.entry16 = nn.Sequential(conv_block_res20(16, 32, stride=2), conv_block_res20(32, 32))\n",
    "        self.short16 = shortcut(16, 32)\n",
    "        self.reg16 = nn.Sequential(conv_block_res20(32, 32), conv_block_res20(32, 32))\n",
    "        \n",
    "        # 8x8 map\n",
    "        self.entry8 = nn.Sequential(conv_block_res20(32, 64, stride=2), conv_block_res20(64, 64))\n",
    "        self.short8 = shortcut(32, 64)\n",
    "        self.reg8 = nn.Sequential(conv_block_res20(64, 64), conv_block_res20(64, 64))\n",
    "        \n",
    "        self.classifier = nn.Sequential(nn.AvgPool2d(kernel_size=8, stride=None, padding=0), \n",
    "                                        nn.Linear(64, num_classes),\n",
    "                                       nn.Softmax())\n",
    "        # FOR DEBUGGING\n",
    "        self.avg = nn.AvgPool2d(kernel_size=8, stride=None, padding=0)\n",
    "        self.flat = nn.Flatten()\n",
    "        self.fcl = nn.Linear(64, num_classes)\n",
    "        self.sm = nn.Softmax()\n",
    "        \n",
    "    def forward(self, xb):\n",
    "        out = self.conv1(xb)\n",
    "        \n",
    "        for i in range(self.n):\n",
    "            out = self.reg32(out) + out\n",
    "            \n",
    "        out = self.entry16(out) + self.short16(out)\n",
    "        for i in range(self.n - 1):\n",
    "            out = self.reg16(out) + out\n",
    "            \n",
    "        out = self.entry8(out) + self.short8(out)\n",
    "        for i in range(self.n - 1):\n",
    "            out = self.reg8(out) + out\n",
    "\n",
    "        #out = self.classifier(out)\n",
    "        out = self.avg(out)\n",
    "        out = self.flat(out)\n",
    "        out = self.fcl(out)\n",
    "        out = self.sm(out)\n",
    "        \n",
    "        return out"
   ]
  },
  {
   "cell_type": "markdown",
   "id": "coastal-essay",
   "metadata": {},
   "source": [
    "## Transfer to device"
   ]
  },
  {
   "cell_type": "code",
   "execution_count": 14,
   "id": "sublime-tackle",
   "metadata": {},
   "outputs": [],
   "source": [
    "# model_res9 = to_device(ResNet9(3,10), device)\n",
    "model_res20 = to_device(ResNet20(3,10,3), device)"
   ]
  },
  {
   "cell_type": "code",
   "execution_count": 15,
   "id": "curious-consequence",
   "metadata": {},
   "outputs": [],
   "source": [
    "@torch.no_grad()\n",
    "def evaluate(model, val_loader):\n",
    "    model.eval()\n",
    "    outputs = [model.validation_step(batch) for batch in val_loader]\n",
    "    return model.validation_epoch_end(outputs)\n",
    "\n",
    "def get_lr(optimizer):\n",
    "    for param_group in optimizer.param_groups:\n",
    "        return param_group['lr']\n",
    "    \n",
    "def fit_one_cycle(epochs, max_lr, model, train_loader, val_loader, \n",
    "                  weight_decay=0, grad_clip=None, opt_func=torch.optim.SGD):\n",
    "    torch.cuda.empty_cache()  # Realsing cuda memory otherwise might get cuda out of memory error\n",
    "    history = []\n",
    "    \n",
    "    #custom optimizer with weight decay\n",
    "    optimizer = opt_func(model.parameters(), max_lr, weight_decay=weight_decay)\n",
    "    # Set up one-cycle learning rate scheduler\n",
    "    sched = torch.optim.lr_scheduler.OneCycleLR(optimizer, max_lr, epochs=epochs, \n",
    "                                                steps_per_epoch=len(train_loader),cycle_momentum=False)\n",
    "    \n",
    "    for epoch in range(epochs):\n",
    "        # Training Phase \n",
    "        model.train() #Setting training mode\n",
    "        train_losses = []\n",
    "        lrs = [] \n",
    "        for batch in train_loader:\n",
    "            loss = model.training_step(batch)\n",
    "            train_losses.append(loss)\n",
    "            loss.backward()\n",
    "            \n",
    "            # Gradient clipping\n",
    "            if grad_clip: \n",
    "                nn.utils.clip_grad_value_(model.parameters(), grad_clip)\n",
    "            \n",
    "            optimizer.step()\n",
    "            optimizer.zero_grad()\n",
    "            \n",
    "            # Record & update learning rate\n",
    "            lrs.append(get_lr(optimizer))\n",
    "            sched.step()\n",
    "        \n",
    "        # Validation phase\n",
    "        result = evaluate(model, val_loader) \n",
    "        result['train_loss'] = torch.stack(train_losses).mean().item()\n",
    "        result['lrs'] = lrs\n",
    "        model.epoch_end(epoch, result)\n",
    "        history.append(result)\n",
    "    return history"
   ]
  },
  {
   "cell_type": "code",
   "execution_count": 16,
   "id": "extensive-financing",
   "metadata": {},
   "outputs": [],
   "source": [
    "# # Smoke test: if something's wrong with how we set up our model, we'll see it now\n",
    "# histories = {\"ResNet-9\": [evaluate(model_res9, valid_dl_res9)], \"ResNet-20\": [evaluate(model_res20, valid_dl_res20)]}\n",
    "\n",
    "# print(histories)"
   ]
  },
  {
   "cell_type": "markdown",
   "id": "white-delivery",
   "metadata": {},
   "source": [
    "## Training"
   ]
  },
  {
   "cell_type": "code",
   "execution_count": 17,
   "id": "smooth-bubble",
   "metadata": {},
   "outputs": [],
   "source": [
    "epochs_res9 = 70\n",
    "epochs_res20 = 140\n",
    "histories = {\"ResNet-20\":[]}\n",
    "max_lr = 0.01\n",
    "grad_clip = 0.1\n",
    "weight_decay = 1e-4\n",
    "opt_func = torch.optim.Adagrad"
   ]
  },
  {
   "cell_type": "code",
   "execution_count": 18,
   "id": "vanilla-titanium",
   "metadata": {},
   "outputs": [],
   "source": [
    "# %%time\n",
    "# histories[\"ResNet-9\"] += fit_one_cycle(epochs_res9, max_lr, model_res9, train_dl_res9, valid_dl_res9, \n",
    "#                              grad_clip=grad_clip, \n",
    "#                              weight_decay=weight_decay, \n",
    "#                              opt_func=opt_func)"
   ]
  },
  {
   "cell_type": "code",
   "execution_count": 19,
   "id": "natural-bedroom",
   "metadata": {},
   "outputs": [
    {
     "name": "stderr",
     "output_type": "stream",
     "text": [
      "/home/userfs/s/sb2444/.local/lib/python3.6/site-packages/ipykernel_launcher.py:57: UserWarning: Implicit dimension choice for softmax has been deprecated. Change the call to include dim=X as an argument.\n"
     ]
    },
    {
     "name": "stdout",
     "output_type": "stream",
     "text": [
      "Epoch [0], train_loss: 2.1817, val_loss: 2.1942, val_acc: 0.2582\n",
      "Epoch [1], train_loss: 2.1323, val_loss: 2.1613, val_acc: 0.2967\n",
      "Epoch [2], train_loss: 2.1017, val_loss: 2.1621, val_acc: 0.2963\n",
      "Epoch [3], train_loss: 2.0817, val_loss: 2.1580, val_acc: 0.3004\n",
      "Epoch [4], train_loss: 2.0666, val_loss: 2.1488, val_acc: 0.3060\n",
      "Epoch [5], train_loss: 2.0553, val_loss: 2.1285, val_acc: 0.3315\n",
      "Epoch [6], train_loss: 2.0458, val_loss: 2.1350, val_acc: 0.3175\n",
      "Epoch [7], train_loss: 2.0366, val_loss: 2.1319, val_acc: 0.3236\n",
      "Epoch [8], train_loss: 2.0264, val_loss: 2.1147, val_acc: 0.3415\n",
      "Epoch [9], train_loss: 2.0193, val_loss: 2.1108, val_acc: 0.3482\n",
      "Epoch [10], train_loss: 2.0109, val_loss: 2.1005, val_acc: 0.3562\n",
      "Epoch [11], train_loss: 2.0005, val_loss: 2.0674, val_acc: 0.3942\n",
      "Epoch [12], train_loss: 1.9909, val_loss: 2.0812, val_acc: 0.3801\n",
      "Epoch [13], train_loss: 1.9818, val_loss: 2.0699, val_acc: 0.3852\n",
      "Epoch [14], train_loss: 1.9576, val_loss: 2.0430, val_acc: 0.4238\n",
      "Epoch [15], train_loss: 1.9412, val_loss: 2.0421, val_acc: 0.4137\n",
      "Epoch [16], train_loss: 1.9289, val_loss: 2.0116, val_acc: 0.4530\n",
      "Epoch [17], train_loss: 1.9151, val_loss: 2.0307, val_acc: 0.4320\n",
      "Epoch [18], train_loss: 1.9073, val_loss: 1.9895, val_acc: 0.4809\n",
      "Epoch [19], train_loss: 1.8943, val_loss: 2.0066, val_acc: 0.4546\n",
      "Epoch [20], train_loss: 1.8856, val_loss: 2.0660, val_acc: 0.3892\n",
      "Epoch [21], train_loss: 1.8762, val_loss: 1.9707, val_acc: 0.4928\n",
      "Epoch [22], train_loss: 1.8685, val_loss: 1.9759, val_acc: 0.4871\n",
      "Epoch [23], train_loss: 1.8597, val_loss: 1.9708, val_acc: 0.4929\n",
      "Epoch [24], train_loss: 1.8501, val_loss: 1.9822, val_acc: 0.4722\n",
      "Epoch [25], train_loss: 1.8457, val_loss: 1.8942, val_acc: 0.5767\n",
      "Epoch [26], train_loss: 1.8370, val_loss: 1.9515, val_acc: 0.5104\n",
      "Epoch [27], train_loss: 1.8302, val_loss: 1.9194, val_acc: 0.5467\n",
      "Epoch [28], train_loss: 1.8207, val_loss: 1.9924, val_acc: 0.4665\n",
      "Epoch [29], train_loss: 1.8136, val_loss: 1.9578, val_acc: 0.5031\n",
      "Epoch [30], train_loss: 1.8079, val_loss: 1.9218, val_acc: 0.5434\n",
      "Epoch [31], train_loss: 1.8011, val_loss: 1.8904, val_acc: 0.5720\n",
      "Epoch [32], train_loss: 1.7952, val_loss: 1.8863, val_acc: 0.5800\n",
      "Epoch [33], train_loss: 1.7895, val_loss: 1.9336, val_acc: 0.5292\n",
      "Epoch [34], train_loss: 1.7844, val_loss: 1.8519, val_acc: 0.6140\n",
      "Epoch [35], train_loss: 1.7777, val_loss: 1.9587, val_acc: 0.4992\n",
      "Epoch [36], train_loss: 1.7707, val_loss: 1.9144, val_acc: 0.5466\n",
      "Epoch [37], train_loss: 1.7676, val_loss: 1.8570, val_acc: 0.6083\n",
      "Epoch [38], train_loss: 1.7623, val_loss: 1.8750, val_acc: 0.5942\n",
      "Epoch [39], train_loss: 1.7567, val_loss: 1.9074, val_acc: 0.5533\n",
      "Epoch [40], train_loss: 1.7524, val_loss: 1.8561, val_acc: 0.6093\n",
      "Epoch [41], train_loss: 1.7488, val_loss: 1.8626, val_acc: 0.6023\n",
      "Epoch [42], train_loss: 1.7434, val_loss: 1.7890, val_acc: 0.6793\n",
      "Epoch [43], train_loss: 1.7375, val_loss: 1.9257, val_acc: 0.5357\n",
      "Epoch [44], train_loss: 1.7345, val_loss: 1.8430, val_acc: 0.6267\n",
      "Epoch [45], train_loss: 1.7303, val_loss: 1.7989, val_acc: 0.6662\n",
      "Epoch [46], train_loss: 1.7251, val_loss: 1.7948, val_acc: 0.6694\n",
      "Epoch [47], train_loss: 1.7212, val_loss: 1.8929, val_acc: 0.5678\n",
      "Epoch [48], train_loss: 1.7192, val_loss: 1.8724, val_acc: 0.5906\n",
      "Epoch [49], train_loss: 1.7160, val_loss: 1.8148, val_acc: 0.6475\n",
      "Epoch [50], train_loss: 1.7126, val_loss: 1.8272, val_acc: 0.6347\n",
      "Epoch [51], train_loss: 1.7084, val_loss: 1.7994, val_acc: 0.6661\n",
      "Epoch [52], train_loss: 1.7037, val_loss: 1.8306, val_acc: 0.6331\n",
      "Epoch [53], train_loss: 1.7029, val_loss: 1.8139, val_acc: 0.6480\n",
      "Epoch [54], train_loss: 1.6999, val_loss: 1.7626, val_acc: 0.7040\n",
      "Epoch [55], train_loss: 1.6976, val_loss: 1.7671, val_acc: 0.6982\n",
      "Epoch [56], train_loss: 1.6923, val_loss: 1.7576, val_acc: 0.7090\n",
      "Epoch [57], train_loss: 1.6924, val_loss: 1.7629, val_acc: 0.7051\n",
      "Epoch [58], train_loss: 1.6902, val_loss: 1.7970, val_acc: 0.6656\n",
      "Epoch [59], train_loss: 1.6867, val_loss: 1.7974, val_acc: 0.6644\n",
      "Epoch [60], train_loss: 1.6844, val_loss: 1.7970, val_acc: 0.6697\n",
      "Epoch [61], train_loss: 1.6817, val_loss: 1.7742, val_acc: 0.6928\n",
      "Epoch [62], train_loss: 1.6804, val_loss: 1.7574, val_acc: 0.7091\n",
      "Epoch [63], train_loss: 1.6773, val_loss: 1.8480, val_acc: 0.6129\n",
      "Epoch [64], train_loss: 1.6758, val_loss: 1.8014, val_acc: 0.6614\n",
      "Epoch [65], train_loss: 1.6733, val_loss: 1.7418, val_acc: 0.7236\n",
      "Epoch [66], train_loss: 1.6715, val_loss: 1.7500, val_acc: 0.7163\n",
      "Epoch [67], train_loss: 1.6684, val_loss: 1.7882, val_acc: 0.6757\n",
      "Epoch [68], train_loss: 1.6676, val_loss: 1.8125, val_acc: 0.6507\n",
      "Epoch [69], train_loss: 1.6634, val_loss: 1.7355, val_acc: 0.7326\n",
      "Epoch [70], train_loss: 1.6652, val_loss: 1.7826, val_acc: 0.6803\n",
      "Epoch [71], train_loss: 1.6622, val_loss: 1.7465, val_acc: 0.7192\n",
      "Epoch [72], train_loss: 1.6599, val_loss: 1.7671, val_acc: 0.6972\n",
      "Epoch [73], train_loss: 1.6586, val_loss: 1.7657, val_acc: 0.6967\n",
      "Epoch [74], train_loss: 1.6578, val_loss: 1.7518, val_acc: 0.7146\n",
      "Epoch [75], train_loss: 1.6551, val_loss: 1.7244, val_acc: 0.7411\n",
      "Epoch [76], train_loss: 1.6545, val_loss: 1.7576, val_acc: 0.7101\n",
      "Epoch [77], train_loss: 1.6520, val_loss: 1.7584, val_acc: 0.7047\n",
      "Epoch [78], train_loss: 1.6503, val_loss: 1.7683, val_acc: 0.6950\n",
      "Epoch [79], train_loss: 1.6491, val_loss: 1.7303, val_acc: 0.7371\n",
      "Epoch [80], train_loss: 1.6500, val_loss: 1.7394, val_acc: 0.7269\n",
      "Epoch [81], train_loss: 1.6476, val_loss: 1.7378, val_acc: 0.7287\n",
      "Epoch [82], train_loss: 1.6450, val_loss: 1.7297, val_acc: 0.7373\n",
      "Epoch [83], train_loss: 1.6451, val_loss: 1.7301, val_acc: 0.7346\n",
      "Epoch [84], train_loss: 1.6452, val_loss: 1.7911, val_acc: 0.6736\n",
      "Epoch [85], train_loss: 1.6428, val_loss: 1.7362, val_acc: 0.7289\n",
      "Epoch [86], train_loss: 1.6415, val_loss: 1.7257, val_acc: 0.7426\n",
      "Epoch [87], train_loss: 1.6401, val_loss: 1.7435, val_acc: 0.7194\n",
      "Epoch [88], train_loss: 1.6400, val_loss: 1.7565, val_acc: 0.7064\n",
      "Epoch [89], train_loss: 1.6391, val_loss: 1.7312, val_acc: 0.7346\n",
      "Epoch [90], train_loss: 1.6373, val_loss: 1.7311, val_acc: 0.7364\n",
      "Epoch [91], train_loss: 1.6364, val_loss: 1.7224, val_acc: 0.7409\n",
      "Epoch [92], train_loss: 1.6357, val_loss: 1.7325, val_acc: 0.7321\n",
      "Epoch [93], train_loss: 1.6350, val_loss: 1.7510, val_acc: 0.7135\n",
      "Epoch [94], train_loss: 1.6314, val_loss: 1.7420, val_acc: 0.7219\n",
      "Epoch [95], train_loss: 1.6318, val_loss: 1.7367, val_acc: 0.7272\n",
      "Epoch [96], train_loss: 1.6324, val_loss: 1.7197, val_acc: 0.7471\n",
      "Epoch [97], train_loss: 1.6318, val_loss: 1.7440, val_acc: 0.7202\n",
      "Epoch [98], train_loss: 1.6299, val_loss: 1.7381, val_acc: 0.7238\n",
      "Epoch [99], train_loss: 1.6275, val_loss: 1.7462, val_acc: 0.7167\n",
      "Epoch [100], train_loss: 1.6288, val_loss: 1.7283, val_acc: 0.7343\n",
      "Epoch [101], train_loss: 1.6272, val_loss: 1.7332, val_acc: 0.7326\n",
      "Epoch [102], train_loss: 1.6276, val_loss: 1.7282, val_acc: 0.7375\n",
      "Epoch [103], train_loss: 1.6258, val_loss: 1.7308, val_acc: 0.7333\n",
      "Epoch [104], train_loss: 1.6264, val_loss: 1.7408, val_acc: 0.7228\n",
      "Epoch [105], train_loss: 1.6258, val_loss: 1.7300, val_acc: 0.7343\n",
      "Epoch [106], train_loss: 1.6235, val_loss: 1.7546, val_acc: 0.7100\n",
      "Epoch [107], train_loss: 1.6227, val_loss: 1.7455, val_acc: 0.7175\n",
      "Epoch [108], train_loss: 1.6235, val_loss: 1.7313, val_acc: 0.7341\n",
      "Epoch [109], train_loss: 1.6218, val_loss: 1.7230, val_acc: 0.7421\n",
      "Epoch [110], train_loss: 1.6242, val_loss: 1.7324, val_acc: 0.7318\n",
      "Epoch [111], train_loss: 1.6211, val_loss: 1.7433, val_acc: 0.7214\n",
      "Epoch [112], train_loss: 1.6218, val_loss: 1.7391, val_acc: 0.7268\n",
      "Epoch [113], train_loss: 1.6199, val_loss: 1.7252, val_acc: 0.7425\n",
      "Epoch [114], train_loss: 1.6201, val_loss: 1.7319, val_acc: 0.7330\n",
      "Epoch [115], train_loss: 1.6197, val_loss: 1.7314, val_acc: 0.7348\n",
      "Epoch [116], train_loss: 1.6200, val_loss: 1.7303, val_acc: 0.7354\n",
      "Epoch [117], train_loss: 1.6181, val_loss: 1.7356, val_acc: 0.7291\n",
      "Epoch [118], train_loss: 1.6189, val_loss: 1.7371, val_acc: 0.7281\n",
      "Epoch [119], train_loss: 1.6187, val_loss: 1.7361, val_acc: 0.7280\n",
      "Epoch [120], train_loss: 1.6171, val_loss: 1.7305, val_acc: 0.7345\n",
      "Epoch [121], train_loss: 1.6183, val_loss: 1.7292, val_acc: 0.7363\n",
      "Epoch [122], train_loss: 1.6179, val_loss: 1.7293, val_acc: 0.7383\n",
      "Epoch [123], train_loss: 1.6171, val_loss: 1.7298, val_acc: 0.7343\n",
      "Epoch [124], train_loss: 1.6162, val_loss: 1.7325, val_acc: 0.7330\n",
      "Epoch [125], train_loss: 1.6174, val_loss: 1.7355, val_acc: 0.7268\n",
      "Epoch [126], train_loss: 1.6155, val_loss: 1.7327, val_acc: 0.7299\n",
      "Epoch [127], train_loss: 1.6160, val_loss: 1.7349, val_acc: 0.7275\n",
      "Epoch [128], train_loss: 1.6172, val_loss: 1.7358, val_acc: 0.7275\n",
      "Epoch [129], train_loss: 1.6163, val_loss: 1.7311, val_acc: 0.7338\n",
      "Epoch [130], train_loss: 1.6177, val_loss: 1.7302, val_acc: 0.7335\n",
      "Epoch [131], train_loss: 1.6155, val_loss: 1.7361, val_acc: 0.7279\n",
      "Epoch [132], train_loss: 1.6165, val_loss: 1.7312, val_acc: 0.7330\n",
      "Epoch [133], train_loss: 1.6172, val_loss: 1.7319, val_acc: 0.7320\n",
      "Epoch [134], train_loss: 1.6171, val_loss: 1.7323, val_acc: 0.7324\n",
      "Epoch [135], train_loss: 1.6154, val_loss: 1.7270, val_acc: 0.7393\n",
      "Epoch [136], train_loss: 1.6164, val_loss: 1.7285, val_acc: 0.7370\n",
      "Epoch [137], train_loss: 1.6153, val_loss: 1.7275, val_acc: 0.7372\n",
      "Epoch [138], train_loss: 1.6158, val_loss: 1.7348, val_acc: 0.7298\n",
      "Epoch [139], train_loss: 1.6163, val_loss: 1.7307, val_acc: 0.7332\n",
      "CPU times: user 11min 35s, sys: 1min 52s, total: 13min 27s\n",
      "Wall time: 20min 40s\n"
     ]
    }
   ],
   "source": [
    "%%time\n",
    "histories[\"ResNet-20\"] += fit_one_cycle(epochs_res20, max_lr, model_res20, train_dl_res20, valid_dl_res20, \n",
    "                             grad_clip=grad_clip, \n",
    "                             weight_decay=weight_decay, \n",
    "                             opt_func=opt_func)"
   ]
  },
  {
   "cell_type": "markdown",
   "id": "portuguese-mobile",
   "metadata": {},
   "source": [
    "## Graphs"
   ]
  },
  {
   "cell_type": "code",
   "execution_count": 20,
   "id": "rubber-latest",
   "metadata": {},
   "outputs": [],
   "source": [
    "def plot_accuracies(histories):\n",
    "    for resnet in  histories.keys():\n",
    "        history = histories[resnet]\n",
    "        accuracies = [x['val_acc'] for x in history]\n",
    "        plt.figure(figsize=(10,6))\n",
    "        plt.plot(accuracies, '-x')\n",
    "        plt.xlabel('epoch')\n",
    "        plt.ylabel('accuracy')\n",
    "        plt.title(f'{resnet} Accuracy vs. No. of epochs');\n",
    "    \n",
    "def plot_losses(histories):\n",
    "    for resnet in  histories.keys():\n",
    "        history = histories[resnet]\n",
    "        train_losses = [x.get('train_loss') for x in history]\n",
    "        val_losses = [x['val_loss'] for x in history]\n",
    "        plt.figure(figsize=(10,6))\n",
    "        plt.plot(train_losses, '-bx')\n",
    "        plt.plot(val_losses, '-rx')\n",
    "        plt.xlabel('epoch')\n",
    "        plt.ylabel('loss')\n",
    "        plt.legend(['Training', 'Validation'])\n",
    "        plt.title(f'{resnet} Loss vs. No. of epochs');\n",
    "    \n",
    "def plot_lrs(histories):\n",
    "    for resnet in  histories.keys():\n",
    "        history = histories[resnet]\n",
    "        lrs = np.concatenate([x.get('lrs', []) for x in history])\n",
    "        plt.figure(figsize=(10,6))\n",
    "        plt.plot(lrs)\n",
    "        plt.xlabel('Batch no.')\n",
    "        plt.ylabel('Learning rate')\n",
    "        plt.title(f'{resnet} Learning Rate vs. Batch no.');"
   ]
  },
  {
   "cell_type": "code",
   "execution_count": 21,
   "id": "democratic-grounds",
   "metadata": {},
   "outputs": [
    {
     "data": {
      "image/png": "[encoded data removed]",
      "text/plain": [
       "<Figure size 720x432 with 1 Axes>"
      ]
     },
     "metadata": {
      "needs_background": "light"
     },
     "output_type": "display_data"
    }
   ],
   "source": [
    "plot_accuracies(histories)"
   ]
  },
  {
   "cell_type": "code",
   "execution_count": 22,
   "id": "latest-second",
   "metadata": {},
   "outputs": [
    {
     "data": {
      "image/png": "[encoded data removed]",
      "text/plain": [
       "<Figure size 720x432 with 1 Axes>"
      ]
     },
     "metadata": {
      "needs_background": "light"
     },
     "output_type": "display_data"
    }
   ],
   "source": [
    "plot_losses(histories)"
   ]
  },
  {
   "cell_type": "code",
   "execution_count": 23,
   "id": "welsh-seller",
   "metadata": {},
   "outputs": [
    {
     "data": {
      "image/png": "[encoded data removed]",
      "text/plain": [
       "<Figure size 720x432 with 1 Axes>"
      ]
     },
     "metadata": {
      "needs_background": "light"
     },
     "output_type": "display_data"
    }
   ],
   "source": [
    "plot_lrs(histories)"
   ]
  }
 ],
 "metadata": {
  "kernelspec": {
   "display_name": "Python 3",
   "language": "python",
   "name": "python3"
  },
  "language_info": {
   "codemirror_mode": {
    "name": "ipython",
    "version": 3
   },
   "file_extension": ".py",
   "mimetype": "text/x-python",
   "name": "python",
   "nbconvert_exporter": "python",
   "pygments_lexer": "ipython3",
   "version": "3.6.9"
  }
 },
 "nbformat": 4,
 "nbformat_minor": 5
}
