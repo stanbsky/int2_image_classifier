{
 "cells": [
  {
   "cell_type": "markdown",
   "id": "otherwise-restoration",
   "metadata": {},
   "source": [
    "## Importing libraries"
   ]
  },
  {
   "cell_type": "code",
   "execution_count": 1,
   "id": "fewer-fleece",
   "metadata": {},
   "outputs": [
    {
     "name": "stderr",
     "output_type": "stream",
     "text": [
      "Matplotlib created a temporary config/cache directory at /tmp/matplotlib-r9r7zklb because the default path (/run/user/141228/cache/matplotlib) is not a writable directory; it is highly recommended to set the MPLCONFIGDIR environment variable to a writable directory, in particular to speed up the import of Matplotlib and to better support multiprocessing.\n"
     ]
    }
   ],
   "source": [
    "import torch\n",
    "import torchvision\n",
    "from torchvision.datasets.utils import download_url\n",
    "from torch.utils.data import random_split\n",
    "from torchvision.datasets import ImageFolder\n",
    "from torchvision.transforms import ToTensor,ToPILImage\n",
    "import matplotlib.pyplot as plt\n",
    "from torchvision.utils import make_grid\n",
    "from torch.utils.data.dataloader import DataLoader\n",
    "from torchvision.utils import make_grid\n",
    "import torch.nn as nn\n",
    "import torch.nn.functional as F\n",
    "import torchvision.transforms as tt\n",
    "import numpy as np\n",
    "import torchvision.datasets as datasets"
   ]
  },
  {
   "cell_type": "markdown",
   "id": "advance-charity",
   "metadata": {},
   "source": [
    "## Data and device loading"
   ]
  },
  {
   "cell_type": "code",
   "execution_count": 2,
   "id": "bibliographic-ticket",
   "metadata": {},
   "outputs": [],
   "source": [
    "torch.backends.cudnn.benchmark = True\n",
    "device = torch.device(\"cuda:4\" if torch.cuda.is_available() else \"cpu\")"
   ]
  },
  {
   "cell_type": "code",
   "execution_count": 3,
   "id": "harmful-adobe",
   "metadata": {},
   "outputs": [],
   "source": [
    "stats= ((0.4914,0.4822,0.4465),(0.2023,0.1994,0.2010)) #mean and std\n",
    "train_tfm= tt.Compose([tt.RandomCrop(32, padding=4, padding_mode='reflect'), # transormation of data together\n",
    "                       tt.RandomHorizontalFlip(),\n",
    "                       tt.ToTensor()])\n",
    "valid_tfm = tt.Compose([tt.ToTensor()])"
   ]
  },
  {
   "cell_type": "code",
   "execution_count": 4,
   "id": "alpine-increase",
   "metadata": {},
   "outputs": [
    {
     "name": "stdout",
     "output_type": "stream",
     "text": [
      "Files already downloaded and verified\n"
     ]
    }
   ],
   "source": [
    "training_data = datasets.CIFAR10(\n",
    "    root=\"data\",\n",
    "    train=True,\n",
    "    download=True,\n",
    "    transform=train_tfm,\n",
    ")"
   ]
  },
  {
   "cell_type": "code",
   "execution_count": 5,
   "id": "passive-architecture",
   "metadata": {},
   "outputs": [
    {
     "name": "stdout",
     "output_type": "stream",
     "text": [
      "Files already downloaded and verified\n"
     ]
    }
   ],
   "source": [
    "# Download test data from open datasets.\n",
    "test_data = datasets.CIFAR10(\n",
    "    root=\"data\",\n",
    "    train=False,\n",
    "    download=True,\n",
    "    transform=valid_tfm,\n",
    ")"
   ]
  },
  {
   "cell_type": "code",
   "execution_count": 6,
   "id": "unlikely-collectible",
   "metadata": {},
   "outputs": [
    {
     "data": {
      "text/plain": [
       "Dataset CIFAR10\n",
       "    Number of datapoints: 50000\n",
       "    Root location: data\n",
       "    Split: Train\n",
       "    StandardTransform\n",
       "Transform: Compose(\n",
       "               RandomCrop(size=(32, 32), padding=4)\n",
       "               RandomHorizontalFlip(p=0.5)\n",
       "               ToTensor()\n",
       "           )"
      ]
     },
     "execution_count": 6,
     "metadata": {},
     "output_type": "execute_result"
    }
   ],
   "source": [
    "valid_ds = test_data\n",
    "train_ds = training_data\n",
    "train_ds"
   ]
  },
  {
   "cell_type": "code",
   "execution_count": 7,
   "id": "contrary-cosmetic",
   "metadata": {},
   "outputs": [],
   "source": [
    "batch_size_res9=400\n",
    "batch_size_res20=400"
   ]
  },
  {
   "cell_type": "code",
   "execution_count": 8,
   "id": "enhanced-laugh",
   "metadata": {},
   "outputs": [],
   "source": [
    "# Dataloader to load data in batches(mini batch)\n",
    "train_dl_res9= DataLoader(train_ds,batch_size_res9,shuffle=True, num_workers=3, pin_memory=True) \n",
    "valid_dl_res9= DataLoader(valid_ds, batch_size_res9, num_workers=3,pin_memory=True) \n",
    "\n",
    "train_dl_res20= DataLoader(train_ds,batch_size_res20,shuffle=True, num_workers=3, pin_memory=True) \n",
    "valid_dl_res20= DataLoader(valid_ds, batch_size_res20, num_workers=3,pin_memory=True)"
   ]
  },
  {
   "cell_type": "code",
   "execution_count": 9,
   "id": "silent-hammer",
   "metadata": {},
   "outputs": [],
   "source": [
    "def get_default_device():\n",
    "    \"\"\"Pick GPU if available, else CPU\"\"\"\n",
    "    if torch.cuda.is_available():\n",
    "        return torch.device('cuda')\n",
    "    else:\n",
    "        return torch.device('cpu')\n",
    "    \n",
    "def to_device(data, device):\n",
    "    \"\"\"Move tensor(s) to chosen device\"\"\"\n",
    "    if isinstance(data, (list,tuple)):\n",
    "        return [to_device(x, device) for x in data]\n",
    "    return data.to(device, non_blocking=True)\n",
    "\n",
    "class DeviceDataLoader():\n",
    "    \"\"\"Wrap a dataloader to move data to a device\"\"\"\n",
    "    def __init__(self, dl, device):\n",
    "        self.dl = dl\n",
    "        self.device = device\n",
    "        \n",
    "    def __iter__(self):\n",
    "        \"\"\"Yield a batch of data after moving it to device\"\"\"\n",
    "        for b in self.dl: \n",
    "            yield to_device(b, self.device)\n",
    "\n",
    "    def __len__(self):\n",
    "        \"\"\"Number of batches\"\"\"\n",
    "        return len(self.dl)"
   ]
  },
  {
   "cell_type": "code",
   "execution_count": 10,
   "id": "photographic-syndrome",
   "metadata": {},
   "outputs": [],
   "source": [
    "train_dl_res9= DeviceDataLoader(train_dl_res9, device)\n",
    "valid_dl_res9 = DeviceDataLoader(valid_dl_res9, device)\n",
    "\n",
    "train_dl_res20= DeviceDataLoader(train_dl_res20, device)\n",
    "valid_dl_res20 = DeviceDataLoader(valid_dl_res20, device)"
   ]
  },
  {
   "cell_type": "markdown",
   "id": "verbal-french",
   "metadata": {},
   "source": [
    "## Training loop"
   ]
  },
  {
   "cell_type": "code",
   "execution_count": 11,
   "id": "composite-nirvana",
   "metadata": {},
   "outputs": [],
   "source": [
    "def accuracy(outputs, labels):\n",
    "    _, preds = torch.max(outputs, dim=1)\n",
    "    return torch.tensor(torch.sum(preds == labels).item() / len(preds))\n",
    "\n",
    "class ImageClassificationBase(nn.Module):\n",
    "    def training_step(self, batch):\n",
    "        images, labels = batch \n",
    "        out = self(images)                  # Generate predictions\n",
    "        loss = F.cross_entropy(out, labels) # Calculate loss\n",
    "        return loss\n",
    "    \n",
    "    def validation_step(self, batch):\n",
    "        images, labels = batch \n",
    "        out = self(images)                    # Generate predictions\n",
    "        loss = F.cross_entropy(out, labels)   # Calculate loss\n",
    "        acc = accuracy(out, labels)           # Calculate accuracy\n",
    "        return {'val_loss': loss.detach(), 'val_acc': acc}\n",
    "        \n",
    "    def validation_epoch_end(self, outputs):\n",
    "        batch_losses = [x['val_loss'] for x in outputs]\n",
    "        epoch_loss = torch.stack(batch_losses).mean()   # Combine losses\n",
    "        batch_accs = [x['val_acc'] for x in outputs]\n",
    "        epoch_acc = torch.stack(batch_accs).mean()      # Combine accuracies\n",
    "        return {'val_loss': epoch_loss.item(), 'val_acc': epoch_acc.item()}\n",
    "    \n",
    "    def epoch_end(self, epoch, result):\n",
    "        print(\"Epoch [{}], train_loss: {:.4f}, val_loss: {:.4f}, val_acc: {:.4f}\".format(\n",
    "            epoch, result['train_loss'], result['val_loss'], result['val_acc']))"
   ]
  },
  {
   "cell_type": "markdown",
   "id": "passing-buddy",
   "metadata": {},
   "source": [
    "## Resnets"
   ]
  },
  {
   "cell_type": "code",
   "execution_count": 12,
   "id": "continued-justice",
   "metadata": {},
   "outputs": [],
   "source": [
    "def conv_block_res9(in_channels, out_channels, pool=False):\n",
    "    layers = [nn.Conv2d(in_channels, out_channels, kernel_size=3, padding=1), \n",
    "              nn.BatchNorm2d(out_channels), \n",
    "              nn.ReLU(inplace=True)]\n",
    "    if pool: layers.append(nn.MaxPool2d(2))\n",
    "    return nn.Sequential(*layers)\n",
    "\n",
    "class ResNet9(ImageClassificationBase):\n",
    "    def __init__(self, in_channels, num_classes):\n",
    "        super().__init__()\n",
    "        \n",
    "        self.conv1 = conv_block_res9(in_channels, 64)\n",
    "        self.conv2 = conv_block_res9(64, 128, pool=True)\n",
    "        self.res1 = nn.Sequential(conv_block_res9(128, 128), conv_block_res9(128, 128))\n",
    "        \n",
    "        self.conv3 = conv_block_res9(128, 256, pool=True)\n",
    "        self.conv4 = conv_block_res9(256, 512, pool=True)\n",
    "        self.res2 = nn.Sequential(conv_block_res9(512, 512), conv_block_res9(512, 512))\n",
    "        \n",
    "        self.classifier = nn.Sequential(nn.MaxPool2d(4), \n",
    "                                        nn.Flatten(), \n",
    "                                        nn.Linear(512, num_classes))\n",
    "        \n",
    "    def forward(self, xb):\n",
    "        out = self.conv1(xb)\n",
    "        out = self.conv2(out)\n",
    "        out = self.res1(out) + out\n",
    "        out = self.conv3(out)\n",
    "        out = self.conv4(out)\n",
    "        out = self.res2(out) + out\n",
    "        out = self.classifier(out)\n",
    "        return out"
   ]
  },
  {
   "cell_type": "code",
   "execution_count": 13,
   "id": "paperback-drink",
   "metadata": {},
   "outputs": [],
   "source": [
    "def conv_block_res20(in_channels, out_channels, stride=1):\n",
    "    layers = [nn.Conv2d(in_channels, out_channels, kernel_size=3, padding=1, stride=stride), \n",
    "              nn.BatchNorm2d(out_channels), \n",
    "              nn.ReLU(inplace=True)]\n",
    "    return nn.Sequential(*layers)\n",
    "\n",
    "def shortcut(in_channels, out_channels):\n",
    "    return nn.Conv2d(in_channels, out_channels, kernel_size=3, padding=1, stride=2)\n",
    "\n",
    "class ResNet20(ImageClassificationBase):\n",
    "    def __init__(self, in_channels, num_classes, n):\n",
    "        super().__init__()\n",
    "        \n",
    "        self.n = n\n",
    "        \n",
    "        # 32x32 map\n",
    "        self.conv1 = conv_block_res20(in_channels, 16)\n",
    "        self.reg32 = nn.Sequential(conv_block_res20(16,16), conv_block_res20(16,16))\n",
    "        \n",
    "        # 16x16 map\n",
    "        self.entry16 = nn.Sequential(conv_block_res20(16, 32, stride=2), conv_block_res20(32, 32))\n",
    "        self.short16 = shortcut(16, 32)\n",
    "        self.reg16 = nn.Sequential(conv_block_res20(32, 32), conv_block_res20(32, 32))\n",
    "        \n",
    "        # 8x8 map\n",
    "        self.entry8 = nn.Sequential(conv_block_res20(32, 64, stride=2), conv_block_res20(64, 64))\n",
    "        self.short8 = shortcut(32, 64)\n",
    "        self.reg8 = nn.Sequential(conv_block_res20(64, 64), conv_block_res20(64, 64))\n",
    "        \n",
    "        self.classifier = nn.Sequential(nn.AvgPool2d(kernel_size=8, stride=None, padding=0), \n",
    "                                        nn.Linear(64, num_classes),\n",
    "                                       nn.Softmax())\n",
    "        # FOR DEBUGGING\n",
    "        self.avg = nn.AvgPool2d(kernel_size=8, stride=None, padding=0)\n",
    "        self.flat = nn.Flatten()\n",
    "        self.fcl = nn.Linear(64, num_classes)\n",
    "        self.sm = nn.Softmax()\n",
    "        \n",
    "    def forward(self, xb):\n",
    "        out = self.conv1(xb)\n",
    "        \n",
    "        for i in range(self.n):\n",
    "            out = self.reg32(out) + out\n",
    "            \n",
    "        out = self.entry16(out) + self.short16(out)\n",
    "        for i in range(self.n - 1):\n",
    "            out = self.reg16(out) + out\n",
    "            \n",
    "        out = self.entry8(out) + self.short8(out)\n",
    "        for i in range(self.n - 1):\n",
    "            out = self.reg8(out) + out\n",
    "\n",
    "        #out = self.classifier(out)\n",
    "        out = self.avg(out)\n",
    "        out = self.flat(out)\n",
    "        out = self.fcl(out)\n",
    "        out = self.sm(out)\n",
    "        \n",
    "        return out"
   ]
  },
  {
   "cell_type": "markdown",
   "id": "successful-flooring",
   "metadata": {},
   "source": [
    "## Transfer to device"
   ]
  },
  {
   "cell_type": "code",
   "execution_count": 14,
   "id": "intended-humor",
   "metadata": {},
   "outputs": [],
   "source": [
    "# model_res9 = to_device(ResNet9(3,10), device)\n",
    "model_res20 = to_device(ResNet20(3,10,3), device)"
   ]
  },
  {
   "cell_type": "code",
   "execution_count": 15,
   "id": "continuing-sense",
   "metadata": {},
   "outputs": [],
   "source": [
    "@torch.no_grad()\n",
    "def evaluate(model, val_loader):\n",
    "    model.eval()\n",
    "    outputs = [model.validation_step(batch) for batch in val_loader]\n",
    "    return model.validation_epoch_end(outputs)\n",
    "\n",
    "def get_lr(optimizer):\n",
    "    for param_group in optimizer.param_groups:\n",
    "        return param_group['lr']\n",
    "    \n",
    "def fit_one_cycle(epochs, max_lr, model, train_loader, val_loader, \n",
    "                  weight_decay=0, grad_clip=None, opt_func=torch.optim.SGD):\n",
    "    torch.cuda.empty_cache()  # Realsing cuda memory otherwise might get cuda out of memory error\n",
    "    history = []\n",
    "    \n",
    "    #custom optimizer with weight decay\n",
    "    optimizer = opt_func(model.parameters(), max_lr, weight_decay=weight_decay, momentum=0.9)\n",
    "    # Set up one-cycle learning rate scheduler\n",
    "    sched = torch.optim.lr_scheduler.OneCycleLR(optimizer, max_lr, epochs=epochs, \n",
    "                                                steps_per_epoch=len(train_loader))\n",
    "    \n",
    "    for epoch in range(epochs):\n",
    "        # Training Phase \n",
    "        model.train() #Setting training mode\n",
    "        train_losses = []\n",
    "        lrs = [] \n",
    "        for batch in train_loader:\n",
    "            loss = model.training_step(batch)\n",
    "            train_losses.append(loss)\n",
    "            loss.backward()\n",
    "            \n",
    "            # Gradient clipping\n",
    "            if grad_clip: \n",
    "                nn.utils.clip_grad_value_(model.parameters(), grad_clip)\n",
    "            \n",
    "            optimizer.step()\n",
    "            optimizer.zero_grad()\n",
    "            \n",
    "            # Record & update learning rate\n",
    "            lrs.append(get_lr(optimizer))\n",
    "            sched.step()\n",
    "        \n",
    "        # Validation phase\n",
    "        result = evaluate(model, val_loader) \n",
    "        result['train_loss'] = torch.stack(train_losses).mean().item()\n",
    "        result['lrs'] = lrs\n",
    "        model.epoch_end(epoch, result)\n",
    "        history.append(result)\n",
    "    return history"
   ]
  },
  {
   "cell_type": "code",
   "execution_count": 16,
   "id": "popular-possibility",
   "metadata": {},
   "outputs": [],
   "source": [
    "# # Smoke test: if something's wrong with how we set up our model, we'll see it now\n",
    "# histories = {\"ResNet-9\": [evaluate(model_res9, valid_dl_res9)], \"ResNet-20\": [evaluate(model_res20, valid_dl_res20)]}\n",
    "\n",
    "# print(histories)"
   ]
  },
  {
   "cell_type": "markdown",
   "id": "quantitative-waterproof",
   "metadata": {},
   "source": [
    "## Training"
   ]
  },
  {
   "cell_type": "code",
   "execution_count": 17,
   "id": "million-choice",
   "metadata": {},
   "outputs": [],
   "source": [
    "epochs_res9 = 70\n",
    "epochs_res20 = 140\n",
    "histories = {\"ResNet-20\":[]}\n",
    "max_lr = 0.01\n",
    "grad_clip = 0.1\n",
    "weight_decay = 1e-4\n",
    "opt_func = torch.optim.SGD"
   ]
  },
  {
   "cell_type": "code",
   "execution_count": 18,
   "id": "informative-lincoln",
   "metadata": {},
   "outputs": [],
   "source": [
    "# %%time\n",
    "# histories[\"ResNet-9\"] += fit_one_cycle(epochs_res9, max_lr, model_res9, train_dl_res9, valid_dl_res9, \n",
    "#                              grad_clip=grad_clip, \n",
    "#                              weight_decay=weight_decay, \n",
    "#                              opt_func=opt_func)"
   ]
  },
  {
   "cell_type": "code",
   "execution_count": 19,
   "id": "proprietary-johnston",
   "metadata": {},
   "outputs": [
    {
     "name": "stderr",
     "output_type": "stream",
     "text": [
      "/home/userfs/s/sb2444/.local/lib/python3.6/site-packages/ipykernel_launcher.py:57: UserWarning: Implicit dimension choice for softmax has been deprecated. Change the call to include dim=X as an argument.\n"
     ]
    },
    {
     "name": "stdout",
     "output_type": "stream",
     "text": [
      "Epoch [0], train_loss: 2.2985, val_loss: 2.2920, val_acc: 0.1948\n",
      "Epoch [1], train_loss: 2.2715, val_loss: 2.2526, val_acc: 0.1722\n",
      "Epoch [2], train_loss: 2.2400, val_loss: 2.2286, val_acc: 0.2210\n",
      "Epoch [3], train_loss: 2.2168, val_loss: 2.2060, val_acc: 0.2554\n",
      "Epoch [4], train_loss: 2.1945, val_loss: 2.1848, val_acc: 0.2783\n",
      "Epoch [5], train_loss: 2.1710, val_loss: 2.1703, val_acc: 0.2864\n",
      "Epoch [6], train_loss: 2.1445, val_loss: 2.1647, val_acc: 0.2958\n",
      "Epoch [7], train_loss: 2.1240, val_loss: 2.1584, val_acc: 0.2974\n",
      "Epoch [8], train_loss: 2.1067, val_loss: 2.1537, val_acc: 0.2960\n",
      "Epoch [9], train_loss: 2.0896, val_loss: 2.1576, val_acc: 0.2930\n",
      "Epoch [10], train_loss: 2.0751, val_loss: 2.1182, val_acc: 0.3339\n",
      "Epoch [11], train_loss: 2.0595, val_loss: 2.1443, val_acc: 0.3086\n",
      "Epoch [12], train_loss: 2.0439, val_loss: 2.1096, val_acc: 0.3471\n",
      "Epoch [13], train_loss: 2.0316, val_loss: 2.1275, val_acc: 0.3211\n",
      "Epoch [14], train_loss: 2.0130, val_loss: 2.1024, val_acc: 0.3540\n",
      "Epoch [15], train_loss: 1.9846, val_loss: 2.0969, val_acc: 0.3565\n",
      "Epoch [16], train_loss: 1.9640, val_loss: 2.0948, val_acc: 0.3566\n",
      "Epoch [17], train_loss: 1.9487, val_loss: 2.1710, val_acc: 0.2790\n",
      "Epoch [18], train_loss: 1.9324, val_loss: 2.1215, val_acc: 0.3309\n",
      "Epoch [19], train_loss: 1.9218, val_loss: 2.0487, val_acc: 0.4034\n",
      "Epoch [20], train_loss: 1.9093, val_loss: 2.1261, val_acc: 0.3214\n",
      "Epoch [21], train_loss: 1.8986, val_loss: 2.0009, val_acc: 0.4585\n",
      "Epoch [22], train_loss: 1.8876, val_loss: 2.0862, val_acc: 0.3641\n",
      "Epoch [23], train_loss: 1.8792, val_loss: 2.0419, val_acc: 0.4096\n",
      "Epoch [24], train_loss: 1.8511, val_loss: 2.0116, val_acc: 0.4503\n",
      "Epoch [25], train_loss: 1.8300, val_loss: 1.9530, val_acc: 0.5101\n",
      "Epoch [26], train_loss: 1.8148, val_loss: 2.0018, val_acc: 0.4560\n",
      "Epoch [27], train_loss: 1.8076, val_loss: 1.9565, val_acc: 0.5028\n",
      "Epoch [28], train_loss: 1.7996, val_loss: 1.9883, val_acc: 0.4680\n",
      "Epoch [29], train_loss: 1.7869, val_loss: 1.9259, val_acc: 0.5383\n",
      "Epoch [30], train_loss: 1.7821, val_loss: 1.9092, val_acc: 0.5509\n",
      "Epoch [31], train_loss: 1.7750, val_loss: 1.8629, val_acc: 0.6021\n",
      "Epoch [32], train_loss: 1.7648, val_loss: 1.9437, val_acc: 0.5152\n",
      "Epoch [33], train_loss: 1.7597, val_loss: 1.8610, val_acc: 0.6007\n",
      "Epoch [34], train_loss: 1.7565, val_loss: 1.8992, val_acc: 0.5650\n",
      "Epoch [35], train_loss: 1.7479, val_loss: 1.8745, val_acc: 0.5859\n",
      "Epoch [36], train_loss: 1.7433, val_loss: 1.8652, val_acc: 0.6026\n",
      "Epoch [37], train_loss: 1.7354, val_loss: 1.8537, val_acc: 0.6064\n",
      "Epoch [38], train_loss: 1.7316, val_loss: 1.8885, val_acc: 0.5712\n",
      "Epoch [39], train_loss: 1.7264, val_loss: 1.8441, val_acc: 0.6233\n",
      "Epoch [40], train_loss: 1.7227, val_loss: 1.8943, val_acc: 0.5674\n",
      "Epoch [41], train_loss: 1.7173, val_loss: 1.9301, val_acc: 0.5260\n",
      "Epoch [42], train_loss: 1.7164, val_loss: 1.8434, val_acc: 0.6173\n",
      "Epoch [43], train_loss: 1.7112, val_loss: 1.8667, val_acc: 0.5968\n",
      "Epoch [44], train_loss: 1.7068, val_loss: 1.7952, val_acc: 0.6703\n",
      "Epoch [45], train_loss: 1.7062, val_loss: 2.0237, val_acc: 0.4300\n",
      "Epoch [46], train_loss: 1.6987, val_loss: 1.8532, val_acc: 0.6106\n",
      "Epoch [47], train_loss: 1.6963, val_loss: 1.7997, val_acc: 0.6681\n",
      "Epoch [48], train_loss: 1.6941, val_loss: 1.8223, val_acc: 0.6449\n",
      "Epoch [49], train_loss: 1.6895, val_loss: 1.8621, val_acc: 0.6025\n",
      "Epoch [50], train_loss: 1.6877, val_loss: 1.7656, val_acc: 0.6989\n",
      "Epoch [51], train_loss: 1.6853, val_loss: 1.8524, val_acc: 0.6141\n",
      "Epoch [52], train_loss: 1.6839, val_loss: 1.7984, val_acc: 0.6672\n",
      "Epoch [53], train_loss: 1.6812, val_loss: 1.7891, val_acc: 0.6759\n",
      "Epoch [54], train_loss: 1.6754, val_loss: 1.8073, val_acc: 0.6598\n",
      "Epoch [55], train_loss: 1.6727, val_loss: 1.7287, val_acc: 0.7386\n",
      "Epoch [56], train_loss: 1.6720, val_loss: 1.8053, val_acc: 0.6589\n",
      "Epoch [57], train_loss: 1.6676, val_loss: 1.7552, val_acc: 0.7125\n",
      "Epoch [58], train_loss: 1.6672, val_loss: 1.7451, val_acc: 0.7184\n",
      "Epoch [59], train_loss: 1.6647, val_loss: 1.7375, val_acc: 0.7263\n",
      "Epoch [60], train_loss: 1.6640, val_loss: 1.8591, val_acc: 0.6028\n",
      "Epoch [61], train_loss: 1.6621, val_loss: 1.8328, val_acc: 0.6263\n",
      "Epoch [62], train_loss: 1.6590, val_loss: 1.7685, val_acc: 0.6954\n",
      "Epoch [63], train_loss: 1.6580, val_loss: 1.7030, val_acc: 0.7597\n",
      "Epoch [64], train_loss: 1.6575, val_loss: 1.8070, val_acc: 0.6533\n",
      "Epoch [65], train_loss: 1.6526, val_loss: 1.7448, val_acc: 0.7221\n",
      "Epoch [66], train_loss: 1.6518, val_loss: 1.8553, val_acc: 0.6078\n",
      "Epoch [67], train_loss: 1.6474, val_loss: 1.7691, val_acc: 0.6960\n",
      "Epoch [68], train_loss: 1.6507, val_loss: 1.8158, val_acc: 0.6451\n",
      "Epoch [69], train_loss: 1.6473, val_loss: 1.8481, val_acc: 0.6154\n",
      "Epoch [70], train_loss: 1.6456, val_loss: 1.7401, val_acc: 0.7253\n",
      "Epoch [71], train_loss: 1.6425, val_loss: 1.7873, val_acc: 0.6751\n",
      "Epoch [72], train_loss: 1.6427, val_loss: 1.7397, val_acc: 0.7278\n",
      "Epoch [73], train_loss: 1.6396, val_loss: 1.7328, val_acc: 0.7339\n",
      "Epoch [74], train_loss: 1.6392, val_loss: 1.7786, val_acc: 0.6856\n",
      "Epoch [75], train_loss: 1.6381, val_loss: 1.8014, val_acc: 0.6621\n",
      "Epoch [76], train_loss: 1.6361, val_loss: 1.7834, val_acc: 0.6773\n",
      "Epoch [77], train_loss: 1.6335, val_loss: 1.8037, val_acc: 0.6612\n",
      "Epoch [78], train_loss: 1.6329, val_loss: 1.7404, val_acc: 0.7273\n",
      "Epoch [79], train_loss: 1.6310, val_loss: 1.6833, val_acc: 0.7810\n",
      "Epoch [80], train_loss: 1.6302, val_loss: 1.7315, val_acc: 0.7338\n",
      "Epoch [81], train_loss: 1.6292, val_loss: 1.7948, val_acc: 0.6671\n",
      "Epoch [82], train_loss: 1.6297, val_loss: 1.7326, val_acc: 0.7308\n",
      "Epoch [83], train_loss: 1.6244, val_loss: 1.7230, val_acc: 0.7392\n",
      "Epoch [84], train_loss: 1.6243, val_loss: 1.7613, val_acc: 0.7023\n",
      "Epoch [85], train_loss: 1.6230, val_loss: 1.7596, val_acc: 0.7028\n",
      "Epoch [86], train_loss: 1.6234, val_loss: 1.7561, val_acc: 0.7066\n",
      "Epoch [87], train_loss: 1.6204, val_loss: 1.7648, val_acc: 0.7038\n",
      "Epoch [88], train_loss: 1.6204, val_loss: 1.7481, val_acc: 0.7157\n",
      "Epoch [89], train_loss: 1.6164, val_loss: 1.7211, val_acc: 0.7436\n",
      "Epoch [90], train_loss: 1.6172, val_loss: 1.7057, val_acc: 0.7587\n",
      "Epoch [91], train_loss: 1.6171, val_loss: 1.7169, val_acc: 0.7468\n",
      "Epoch [92], train_loss: 1.6163, val_loss: 1.7175, val_acc: 0.7461\n",
      "Epoch [93], train_loss: 1.6135, val_loss: 1.7418, val_acc: 0.7192\n",
      "Epoch [94], train_loss: 1.6133, val_loss: 1.7019, val_acc: 0.7648\n",
      "Epoch [95], train_loss: 1.6121, val_loss: 1.7602, val_acc: 0.7032\n",
      "Epoch [96], train_loss: 1.6108, val_loss: 1.7050, val_acc: 0.7599\n",
      "Epoch [97], train_loss: 1.6104, val_loss: 1.7505, val_acc: 0.7110\n",
      "Epoch [98], train_loss: 1.6088, val_loss: 1.7178, val_acc: 0.7445\n",
      "Epoch [99], train_loss: 1.6073, val_loss: 1.7343, val_acc: 0.7310\n",
      "Epoch [100], train_loss: 1.6059, val_loss: 1.7300, val_acc: 0.7343\n",
      "Epoch [101], train_loss: 1.6048, val_loss: 1.7058, val_acc: 0.7605\n",
      "Epoch [102], train_loss: 1.6054, val_loss: 1.7118, val_acc: 0.7546\n",
      "Epoch [103], train_loss: 1.6025, val_loss: 1.7404, val_acc: 0.7243\n",
      "Epoch [104], train_loss: 1.6003, val_loss: 1.7488, val_acc: 0.7140\n",
      "Epoch [105], train_loss: 1.6009, val_loss: 1.7006, val_acc: 0.7637\n",
      "Epoch [106], train_loss: 1.5983, val_loss: 1.6941, val_acc: 0.7734\n",
      "Epoch [107], train_loss: 1.5975, val_loss: 1.7046, val_acc: 0.7602\n",
      "Epoch [108], train_loss: 1.5974, val_loss: 1.7224, val_acc: 0.7403\n",
      "Epoch [109], train_loss: 1.5937, val_loss: 1.6932, val_acc: 0.7716\n",
      "Epoch [110], train_loss: 1.5938, val_loss: 1.6914, val_acc: 0.7728\n",
      "Epoch [111], train_loss: 1.5908, val_loss: 1.6855, val_acc: 0.7786\n",
      "Epoch [112], train_loss: 1.5909, val_loss: 1.6912, val_acc: 0.7739\n",
      "Epoch [113], train_loss: 1.5904, val_loss: 1.6978, val_acc: 0.7679\n",
      "Epoch [114], train_loss: 1.5909, val_loss: 1.7009, val_acc: 0.7637\n",
      "Epoch [115], train_loss: 1.5881, val_loss: 1.7197, val_acc: 0.7435\n",
      "Epoch [116], train_loss: 1.5871, val_loss: 1.6953, val_acc: 0.7689\n",
      "Epoch [117], train_loss: 1.5862, val_loss: 1.7027, val_acc: 0.7637\n",
      "Epoch [118], train_loss: 1.5868, val_loss: 1.6789, val_acc: 0.7860\n",
      "Epoch [119], train_loss: 1.5831, val_loss: 1.6744, val_acc: 0.7904\n",
      "Epoch [120], train_loss: 1.5825, val_loss: 1.6749, val_acc: 0.7905\n",
      "Epoch [121], train_loss: 1.5817, val_loss: 1.6824, val_acc: 0.7828\n",
      "Epoch [122], train_loss: 1.5803, val_loss: 1.6925, val_acc: 0.7745\n",
      "Epoch [123], train_loss: 1.5803, val_loss: 1.6778, val_acc: 0.7874\n",
      "Epoch [124], train_loss: 1.5798, val_loss: 1.6824, val_acc: 0.7838\n",
      "Epoch [125], train_loss: 1.5800, val_loss: 1.6788, val_acc: 0.7860\n",
      "Epoch [126], train_loss: 1.5789, val_loss: 1.6751, val_acc: 0.7920\n",
      "Epoch [127], train_loss: 1.5772, val_loss: 1.6803, val_acc: 0.7834\n",
      "Epoch [128], train_loss: 1.5755, val_loss: 1.6814, val_acc: 0.7839\n",
      "Epoch [129], train_loss: 1.5762, val_loss: 1.6798, val_acc: 0.7842\n",
      "Epoch [130], train_loss: 1.5747, val_loss: 1.6828, val_acc: 0.7811\n",
      "Epoch [131], train_loss: 1.5767, val_loss: 1.6720, val_acc: 0.7949\n",
      "Epoch [132], train_loss: 1.5749, val_loss: 1.6725, val_acc: 0.7932\n",
      "Epoch [133], train_loss: 1.5735, val_loss: 1.6772, val_acc: 0.7869\n",
      "Epoch [134], train_loss: 1.5724, val_loss: 1.6716, val_acc: 0.7943\n",
      "Epoch [135], train_loss: 1.5738, val_loss: 1.6844, val_acc: 0.7800\n",
      "Epoch [136], train_loss: 1.5729, val_loss: 1.6793, val_acc: 0.7848\n",
      "Epoch [137], train_loss: 1.5741, val_loss: 1.6776, val_acc: 0.7877\n",
      "Epoch [138], train_loss: 1.5735, val_loss: 1.6785, val_acc: 0.7860\n",
      "Epoch [139], train_loss: 1.5736, val_loss: 1.6820, val_acc: 0.7826\n",
      "CPU times: user 10min 38s, sys: 1min 44s, total: 12min 22s\n",
      "Wall time: 23min 41s\n"
     ]
    }
   ],
   "source": [
    "%%time\n",
    "histories[\"ResNet-20\"] += fit_one_cycle(epochs_res20, max_lr, model_res20, train_dl_res20, valid_dl_res20, \n",
    "                             grad_clip=grad_clip, \n",
    "                             weight_decay=weight_decay, \n",
    "                             opt_func=opt_func)"
   ]
  },
  {
   "cell_type": "markdown",
   "id": "august-arthritis",
   "metadata": {},
   "source": [
    "## Graphs"
   ]
  },
  {
   "cell_type": "code",
   "execution_count": 20,
   "id": "raised-crown",
   "metadata": {},
   "outputs": [],
   "source": [
    "def plot_accuracies(histories):\n",
    "    for resnet in  histories.keys():\n",
    "        history = histories[resnet]\n",
    "        accuracies = [x['val_acc'] for x in history]\n",
    "        plt.figure(figsize=(10,6))\n",
    "        plt.plot(accuracies, '-x')\n",
    "        plt.xlabel('epoch')\n",
    "        plt.ylabel('accuracy')\n",
    "        plt.title(f'{resnet} Accuracy vs. No. of epochs');\n",
    "    \n",
    "def plot_losses(histories):\n",
    "    for resnet in  histories.keys():\n",
    "        history = histories[resnet]\n",
    "        train_losses = [x.get('train_loss') for x in history]\n",
    "        val_losses = [x['val_loss'] for x in history]\n",
    "        plt.figure(figsize=(10,6))\n",
    "        plt.plot(train_losses, '-bx')\n",
    "        plt.plot(val_losses, '-rx')\n",
    "        plt.xlabel('epoch')\n",
    "        plt.ylabel('loss')\n",
    "        plt.legend(['Training', 'Validation'])\n",
    "        plt.title(f'{resnet} Loss vs. No. of epochs');\n",
    "    \n",
    "def plot_lrs(histories):\n",
    "    for resnet in  histories.keys():\n",
    "        history = histories[resnet]\n",
    "        lrs = np.concatenate([x.get('lrs', []) for x in history])\n",
    "        plt.figure(figsize=(10,6))\n",
    "        plt.plot(lrs)\n",
    "        plt.xlabel('Batch no.')\n",
    "        plt.ylabel('Learning rate')\n",
    "        plt.title(f'{resnet} Learning Rate vs. Batch no.');"
   ]
  },
  {
   "cell_type": "code",
   "execution_count": 21,
   "id": "domestic-apollo",
   "metadata": {},
   "outputs": [
    {
     "data": {
      "image/png": "[encoded data removed]",
      "text/plain": [
       "<Figure size 720x432 with 1 Axes>"
      ]
     },
     "metadata": {
      "needs_background": "light"
     },
     "output_type": "display_data"
    }
   ],
   "source": [
    "plot_accuracies(histories)"
   ]
  },
  {
   "cell_type": "code",
   "execution_count": 22,
   "id": "innocent-theme",
   "metadata": {},
   "outputs": [
    {
     "data": {
      "image/png": "[encoded data removed]",
      "text/plain": [
       "<Figure size 720x432 with 1 Axes>"
      ]
     },
     "metadata": {
      "needs_background": "light"
     },
     "output_type": "display_data"
    }
   ],
   "source": [
    "plot_losses(histories)"
   ]
  },
  {
   "cell_type": "code",
   "execution_count": 23,
   "id": "retired-ukraine",
   "metadata": {},
   "outputs": [
    {
     "data": {
      "image/png": "[encoded data removed]",
      "text/plain": [
       "<Figure size 720x432 with 1 Axes>"
      ]
     },
     "metadata": {
      "needs_background": "light"
     },
     "output_type": "display_data"
    }
   ],
   "source": [
    "plot_lrs(histories)"
   ]
  }
 ],
 "metadata": {
  "kernelspec": {
   "display_name": "Python 3",
   "language": "python",
   "name": "python3"
  },
  "language_info": {
   "codemirror_mode": {
    "name": "ipython",
    "version": 3
   },
   "file_extension": ".py",
   "mimetype": "text/x-python",
   "name": "python",
   "nbconvert_exporter": "python",
   "pygments_lexer": "ipython3",
   "version": "3.6.9"
  }
 },
 "nbformat": 4,
 "nbformat_minor": 5
}
