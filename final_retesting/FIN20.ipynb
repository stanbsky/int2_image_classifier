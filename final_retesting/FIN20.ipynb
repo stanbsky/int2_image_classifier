{
 "cells": [
  {
   "cell_type": "markdown",
   "id": "fiscal-sudan",
   "metadata": {},
   "source": [
    "## Importing libraries"
   ]
  },
  {
   "cell_type": "code",
   "execution_count": 1,
   "id": "experienced-capability",
   "metadata": {},
   "outputs": [
    {
     "name": "stderr",
     "output_type": "stream",
     "text": [
      "Matplotlib created a temporary config/cache directory at /tmp/matplotlib-17no7jne because the default path (/run/user/141228/cache/matplotlib) is not a writable directory; it is highly recommended to set the MPLCONFIGDIR environment variable to a writable directory, in particular to speed up the import of Matplotlib and to better support multiprocessing.\n"
     ]
    }
   ],
   "source": [
    "import torch\n",
    "import torchvision\n",
    "from torchvision.datasets.utils import download_url\n",
    "from torch.utils.data import random_split\n",
    "from torchvision.datasets import ImageFolder\n",
    "from torchvision.transforms import ToTensor,ToPILImage\n",
    "import matplotlib.pyplot as plt\n",
    "from torchvision.utils import make_grid\n",
    "from torch.utils.data.dataloader import DataLoader\n",
    "from torchvision.utils import make_grid\n",
    "import torch.nn as nn\n",
    "import torch.nn.functional as F\n",
    "import torchvision.transforms as tt\n",
    "import numpy as np\n",
    "import torchvision.datasets as datasets"
   ]
  },
  {
   "cell_type": "markdown",
   "id": "documented-stations",
   "metadata": {},
   "source": [
    "## Data and device loading"
   ]
  },
  {
   "cell_type": "code",
   "execution_count": 2,
   "id": "limited-commissioner",
   "metadata": {},
   "outputs": [],
   "source": [
    "torch.backends.cudnn.benchmark = True\n",
    "device = torch.device(\"cuda:6\" if torch.cuda.is_available() else \"cpu\")"
   ]
  },
  {
   "cell_type": "code",
   "execution_count": 3,
   "id": "enclosed-poverty",
   "metadata": {},
   "outputs": [],
   "source": [
    "stats= ((0.4914,0.4822,0.4465),(0.2023,0.1994,0.2010)) #mean and std\n",
    "train_tfm= tt.Compose([tt.RandomCrop(32, padding=4, padding_mode='reflect'), # transormation of data together\n",
    "                       tt.RandomHorizontalFlip(),\n",
    "                       tt.ToTensor()])\n",
    "valid_tfm = tt.Compose([tt.ToTensor()])"
   ]
  },
  {
   "cell_type": "code",
   "execution_count": 4,
   "id": "foreign-development",
   "metadata": {},
   "outputs": [
    {
     "name": "stdout",
     "output_type": "stream",
     "text": [
      "Files already downloaded and verified\n"
     ]
    }
   ],
   "source": [
    "training_data = datasets.CIFAR10(\n",
    "    root=\"data\",\n",
    "    train=True,\n",
    "    download=True,\n",
    "    transform=train_tfm,\n",
    ")"
   ]
  },
  {
   "cell_type": "code",
   "execution_count": 5,
   "id": "strategic-joshua",
   "metadata": {},
   "outputs": [
    {
     "name": "stdout",
     "output_type": "stream",
     "text": [
      "Files already downloaded and verified\n"
     ]
    }
   ],
   "source": [
    "# Download test data from open datasets.\n",
    "test_data = datasets.CIFAR10(\n",
    "    root=\"data\",\n",
    "    train=False,\n",
    "    download=True,\n",
    "    transform=valid_tfm,\n",
    ")"
   ]
  },
  {
   "cell_type": "code",
   "execution_count": 6,
   "id": "tropical-greeting",
   "metadata": {},
   "outputs": [
    {
     "data": {
      "text/plain": [
       "Dataset CIFAR10\n",
       "    Number of datapoints: 50000\n",
       "    Root location: data\n",
       "    Split: Train\n",
       "    StandardTransform\n",
       "Transform: Compose(\n",
       "               RandomCrop(size=(32, 32), padding=4)\n",
       "               RandomHorizontalFlip(p=0.5)\n",
       "               ToTensor()\n",
       "           )"
      ]
     },
     "execution_count": 6,
     "metadata": {},
     "output_type": "execute_result"
    }
   ],
   "source": [
    "valid_ds = test_data\n",
    "train_ds = training_data\n",
    "train_ds"
   ]
  },
  {
   "cell_type": "code",
   "execution_count": 7,
   "id": "champion-investment",
   "metadata": {},
   "outputs": [],
   "source": [
    "batch_size_res9=400\n",
    "batch_size_res20=400"
   ]
  },
  {
   "cell_type": "code",
   "execution_count": 8,
   "id": "guided-majority",
   "metadata": {},
   "outputs": [],
   "source": [
    "# Dataloader to load data in batches(mini batch)\n",
    "train_dl_res9= DataLoader(train_ds,batch_size_res9,shuffle=True, num_workers=3, pin_memory=True) \n",
    "valid_dl_res9= DataLoader(valid_ds, batch_size_res9, num_workers=3,pin_memory=True) \n",
    "\n",
    "train_dl_res20= DataLoader(train_ds,batch_size_res20,shuffle=True, num_workers=3, pin_memory=True) \n",
    "valid_dl_res20= DataLoader(valid_ds, batch_size_res20, num_workers=3,pin_memory=True)"
   ]
  },
  {
   "cell_type": "code",
   "execution_count": 9,
   "id": "prime-rental",
   "metadata": {},
   "outputs": [],
   "source": [
    "def get_default_device():\n",
    "    \"\"\"Pick GPU if available, else CPU\"\"\"\n",
    "    if torch.cuda.is_available():\n",
    "        return torch.device('cuda')\n",
    "    else:\n",
    "        return torch.device('cpu')\n",
    "    \n",
    "def to_device(data, device):\n",
    "    \"\"\"Move tensor(s) to chosen device\"\"\"\n",
    "    if isinstance(data, (list,tuple)):\n",
    "        return [to_device(x, device) for x in data]\n",
    "    return data.to(device, non_blocking=True)\n",
    "\n",
    "class DeviceDataLoader():\n",
    "    \"\"\"Wrap a dataloader to move data to a device\"\"\"\n",
    "    def __init__(self, dl, device):\n",
    "        self.dl = dl\n",
    "        self.device = device\n",
    "        \n",
    "    def __iter__(self):\n",
    "        \"\"\"Yield a batch of data after moving it to device\"\"\"\n",
    "        for b in self.dl: \n",
    "            yield to_device(b, self.device)\n",
    "\n",
    "    def __len__(self):\n",
    "        \"\"\"Number of batches\"\"\"\n",
    "        return len(self.dl)"
   ]
  },
  {
   "cell_type": "code",
   "execution_count": 10,
   "id": "treated-sector",
   "metadata": {},
   "outputs": [],
   "source": [
    "train_dl_res9= DeviceDataLoader(train_dl_res9, device)\n",
    "valid_dl_res9 = DeviceDataLoader(valid_dl_res9, device)\n",
    "\n",
    "train_dl_res20= DeviceDataLoader(train_dl_res20, device)\n",
    "valid_dl_res20 = DeviceDataLoader(valid_dl_res20, device)"
   ]
  },
  {
   "cell_type": "markdown",
   "id": "medieval-rover",
   "metadata": {},
   "source": [
    "## Training loop"
   ]
  },
  {
   "cell_type": "code",
   "execution_count": 11,
   "id": "delayed-mixture",
   "metadata": {},
   "outputs": [],
   "source": [
    "def accuracy(outputs, labels):\n",
    "    _, preds = torch.max(outputs, dim=1)\n",
    "    return torch.tensor(torch.sum(preds == labels).item() / len(preds))\n",
    "\n",
    "class ImageClassificationBase(nn.Module):\n",
    "    def training_step(self, batch):\n",
    "        images, labels = batch \n",
    "        out = self(images)                  # Generate predictions\n",
    "        loss = F.cross_entropy(out, labels) # Calculate loss\n",
    "        return loss\n",
    "    \n",
    "    def validation_step(self, batch):\n",
    "        images, labels = batch \n",
    "        out = self(images)                    # Generate predictions\n",
    "        loss = F.cross_entropy(out, labels)   # Calculate loss\n",
    "        acc = accuracy(out, labels)           # Calculate accuracy\n",
    "        return {'val_loss': loss.detach(), 'val_acc': acc}\n",
    "        \n",
    "    def validation_epoch_end(self, outputs):\n",
    "        batch_losses = [x['val_loss'] for x in outputs]\n",
    "        epoch_loss = torch.stack(batch_losses).mean()   # Combine losses\n",
    "        batch_accs = [x['val_acc'] for x in outputs]\n",
    "        epoch_acc = torch.stack(batch_accs).mean()      # Combine accuracies\n",
    "        return {'val_loss': epoch_loss.item(), 'val_acc': epoch_acc.item()}\n",
    "    \n",
    "    def epoch_end(self, epoch, result):\n",
    "        print(\"Epoch [{}], train_loss: {:.4f}, val_loss: {:.4f}, val_acc: {:.4f}\".format(\n",
    "            epoch, result['train_loss'], result['val_loss'], result['val_acc']))"
   ]
  },
  {
   "cell_type": "markdown",
   "id": "prescribed-rainbow",
   "metadata": {},
   "source": [
    "## Resnets"
   ]
  },
  {
   "cell_type": "code",
   "execution_count": 12,
   "id": "racial-pattern",
   "metadata": {},
   "outputs": [],
   "source": [
    "def conv_block_res9(in_channels, out_channels, pool=False):\n",
    "    layers = [nn.Conv2d(in_channels, out_channels, kernel_size=3, padding=1), \n",
    "              nn.BatchNorm2d(out_channels), \n",
    "              nn.ReLU(inplace=True)]\n",
    "    if pool: layers.append(nn.MaxPool2d(2))\n",
    "    return nn.Sequential(*layers)\n",
    "\n",
    "class ResNet9(ImageClassificationBase):\n",
    "    def __init__(self, in_channels, num_classes):\n",
    "        super().__init__()\n",
    "        \n",
    "        self.conv1 = conv_block_res9(in_channels, 64)\n",
    "        self.conv2 = conv_block_res9(64, 128, pool=True)\n",
    "        self.res1 = nn.Sequential(conv_block_res9(128, 128), conv_block_res9(128, 128))\n",
    "        \n",
    "        self.conv3 = conv_block_res9(128, 256, pool=True)\n",
    "        self.conv4 = conv_block_res9(256, 512, pool=True)\n",
    "        self.res2 = nn.Sequential(conv_block_res9(512, 512), conv_block_res9(512, 512))\n",
    "        \n",
    "        self.classifier = nn.Sequential(nn.MaxPool2d(4), \n",
    "                                        nn.Flatten(), \n",
    "                                        nn.Linear(512, num_classes))\n",
    "        \n",
    "    def forward(self, xb):\n",
    "        out = self.conv1(xb)\n",
    "        out = self.conv2(out)\n",
    "        out = self.res1(out) + out\n",
    "        out = self.conv3(out)\n",
    "        out = self.conv4(out)\n",
    "        out = self.res2(out) + out\n",
    "        out = self.classifier(out)\n",
    "        return out"
   ]
  },
  {
   "cell_type": "code",
   "execution_count": 13,
   "id": "female-doctrine",
   "metadata": {},
   "outputs": [],
   "source": [
    "def conv_block_res20(in_channels, out_channels, stride=1):\n",
    "    layers = [nn.Conv2d(in_channels, out_channels, kernel_size=3, padding=1, stride=stride), \n",
    "              nn.BatchNorm2d(out_channels), \n",
    "              nn.ReLU(inplace=True)]\n",
    "    return nn.Sequential(*layers)\n",
    "\n",
    "def shortcut(in_channels, out_channels):\n",
    "    return nn.Conv2d(in_channels, out_channels, kernel_size=3, padding=1, stride=2)\n",
    "\n",
    "class ResNet20(ImageClassificationBase):\n",
    "    def __init__(self, in_channels, num_classes, n):\n",
    "        super().__init__()\n",
    "        \n",
    "        self.n = n\n",
    "        \n",
    "        # 32x32 map\n",
    "        self.conv1 = conv_block_res20(in_channels, 16)\n",
    "        self.reg32 = nn.Sequential(conv_block_res20(16,16), conv_block_res20(16,16))\n",
    "        \n",
    "        # 16x16 map\n",
    "        self.entry16 = nn.Sequential(conv_block_res20(16, 32, stride=2), conv_block_res20(32, 32))\n",
    "        self.short16 = shortcut(16, 32)\n",
    "        self.reg16 = nn.Sequential(conv_block_res20(32, 32), conv_block_res20(32, 32))\n",
    "        \n",
    "        # 8x8 map\n",
    "        self.entry8 = nn.Sequential(conv_block_res20(32, 64, stride=2), conv_block_res20(64, 64))\n",
    "        self.short8 = shortcut(32, 64)\n",
    "        self.reg8 = nn.Sequential(conv_block_res20(64, 64), conv_block_res20(64, 64))\n",
    "        \n",
    "        self.classifier = nn.Sequential(nn.AvgPool2d(kernel_size=8, stride=None, padding=0), \n",
    "                                        nn.Linear(64, num_classes),\n",
    "                                       nn.Softmax())\n",
    "        # FOR DEBUGGING\n",
    "        self.avg = nn.AvgPool2d(kernel_size=8, stride=None, padding=0)\n",
    "        self.flat = nn.Flatten()\n",
    "        self.fcl = nn.Linear(64, num_classes)\n",
    "        self.sm = nn.Softmax()\n",
    "        \n",
    "    def forward(self, xb):\n",
    "        out = self.conv1(xb)\n",
    "        \n",
    "        for i in range(self.n):\n",
    "            out = self.reg32(out) + out\n",
    "            \n",
    "        out = self.entry16(out) + self.short16(out)\n",
    "        for i in range(self.n - 1):\n",
    "            out = self.reg16(out) + out\n",
    "            \n",
    "        out = self.entry8(out) + self.short8(out)\n",
    "        for i in range(self.n - 1):\n",
    "            out = self.reg8(out) + out\n",
    "\n",
    "        #out = self.classifier(out)\n",
    "        out = self.avg(out)\n",
    "        out = self.flat(out)\n",
    "        out = self.fcl(out)\n",
    "        out = self.sm(out)\n",
    "        \n",
    "        return out"
   ]
  },
  {
   "cell_type": "markdown",
   "id": "front-recruitment",
   "metadata": {},
   "source": [
    "## Transfer to device"
   ]
  },
  {
   "cell_type": "code",
   "execution_count": 14,
   "id": "photographic-swaziland",
   "metadata": {},
   "outputs": [],
   "source": [
    "# model_res9 = to_device(ResNet9(3,10), device)\n",
    "model_res20 = to_device(ResNet20(3,10,3), device)"
   ]
  },
  {
   "cell_type": "code",
   "execution_count": 15,
   "id": "coordinate-salem",
   "metadata": {},
   "outputs": [],
   "source": [
    "@torch.no_grad()\n",
    "def evaluate(model, val_loader):\n",
    "    model.eval()\n",
    "    outputs = [model.validation_step(batch) for batch in val_loader]\n",
    "    return model.validation_epoch_end(outputs)\n",
    "\n",
    "def get_lr(optimizer):\n",
    "    for param_group in optimizer.param_groups:\n",
    "        return param_group['lr']\n",
    "    \n",
    "def fit_one_cycle(epochs, max_lr, model, train_loader, val_loader, \n",
    "                  weight_decay=0, grad_clip=None, opt_func=torch.optim.SGD):\n",
    "    torch.cuda.empty_cache()  # Realsing cuda memory otherwise might get cuda out of memory error\n",
    "    history = []\n",
    "    \n",
    "    #custom optimizer with weight decay\n",
    "    optimizer = opt_func(model.parameters(), max_lr, weight_decay=weight_decay)\n",
    "    # Set up one-cycle learning rate scheduler\n",
    "    sched = torch.optim.lr_scheduler.OneCycleLR(optimizer, max_lr, epochs=epochs, \n",
    "                                                steps_per_epoch=len(train_loader))\n",
    "    \n",
    "    for epoch in range(epochs):\n",
    "        # Training Phase \n",
    "        model.train() #Setting training mode\n",
    "        train_losses = []\n",
    "        lrs = [] \n",
    "        for batch in train_loader:\n",
    "            loss = model.training_step(batch)\n",
    "            train_losses.append(loss)\n",
    "            loss.backward()\n",
    "            \n",
    "            # Gradient clipping\n",
    "            if grad_clip: \n",
    "                nn.utils.clip_grad_value_(model.parameters(), grad_clip)\n",
    "            \n",
    "            optimizer.step()\n",
    "            optimizer.zero_grad()\n",
    "            \n",
    "            # Record & update learning rate\n",
    "            lrs.append(get_lr(optimizer))\n",
    "            sched.step()\n",
    "        \n",
    "        # Validation phase\n",
    "        result = evaluate(model, val_loader) \n",
    "        result['train_loss'] = torch.stack(train_losses).mean().item()\n",
    "        result['lrs'] = lrs\n",
    "        model.epoch_end(epoch, result)\n",
    "        history.append(result)\n",
    "    return history"
   ]
  },
  {
   "cell_type": "code",
   "execution_count": 16,
   "id": "varied-advertising",
   "metadata": {},
   "outputs": [],
   "source": [
    "# # Smoke test: if something's wrong with how we set up our model, we'll see it now\n",
    "# histories = {\"ResNet-9\": [evaluate(model_res9, valid_dl_res9)], \"ResNet-20\": [evaluate(model_res20, valid_dl_res20)]}\n",
    "\n",
    "# print(histories)"
   ]
  },
  {
   "cell_type": "markdown",
   "id": "handled-macintosh",
   "metadata": {},
   "source": [
    "## Training"
   ]
  },
  {
   "cell_type": "code",
   "execution_count": 17,
   "id": "failing-triumph",
   "metadata": {},
   "outputs": [],
   "source": [
    "epochs_res9 = 70\n",
    "epochs_res20 = 140\n",
    "histories = {\"ResNet-20\":[]}\n",
    "max_lr = 0.01\n",
    "grad_clip = 0.1\n",
    "weight_decay = 1e-4\n",
    "opt_func = torch.optim.Adam"
   ]
  },
  {
   "cell_type": "code",
   "execution_count": 18,
   "id": "threatened-chemical",
   "metadata": {},
   "outputs": [],
   "source": [
    "# %%time\n",
    "# histories[\"ResNet-9\"] += fit_one_cycle(epochs_res9, max_lr, model_res9, train_dl_res9, valid_dl_res9, \n",
    "#                              grad_clip=grad_clip, \n",
    "#                              weight_decay=weight_decay, \n",
    "#                              opt_func=opt_func)"
   ]
  },
  {
   "cell_type": "code",
   "execution_count": 19,
   "id": "everyday-organizer",
   "metadata": {},
   "outputs": [
    {
     "name": "stderr",
     "output_type": "stream",
     "text": [
      "/home/userfs/s/sb2444/.local/lib/python3.6/site-packages/ipykernel_launcher.py:57: UserWarning: Implicit dimension choice for softmax has been deprecated. Change the call to include dim=X as an argument.\n"
     ]
    },
    {
     "name": "stdout",
     "output_type": "stream",
     "text": [
      "Epoch [0], train_loss: 2.1233, val_loss: 2.0777, val_acc: 0.3841\n",
      "Epoch [1], train_loss: 2.0148, val_loss: 1.9862, val_acc: 0.4850\n",
      "Epoch [2], train_loss: 1.9636, val_loss: 1.9875, val_acc: 0.4844\n",
      "Epoch [3], train_loss: 1.9216, val_loss: 1.9110, val_acc: 0.5561\n",
      "Epoch [4], train_loss: 1.8868, val_loss: 1.8985, val_acc: 0.5672\n",
      "Epoch [5], train_loss: 1.8568, val_loss: 1.9233, val_acc: 0.5400\n",
      "Epoch [6], train_loss: 1.8371, val_loss: 1.8822, val_acc: 0.5805\n",
      "Epoch [7], train_loss: 1.8248, val_loss: 1.9336, val_acc: 0.5222\n",
      "Epoch [8], train_loss: 1.8195, val_loss: 1.9734, val_acc: 0.4863\n",
      "Epoch [9], train_loss: 1.8107, val_loss: 1.8839, val_acc: 0.5751\n",
      "Epoch [10], train_loss: 1.7990, val_loss: 1.8406, val_acc: 0.6217\n",
      "Epoch [11], train_loss: 1.7888, val_loss: 1.9013, val_acc: 0.5602\n",
      "Epoch [12], train_loss: 1.7849, val_loss: 1.9054, val_acc: 0.5530\n",
      "Epoch [13], train_loss: 1.7776, val_loss: 1.9692, val_acc: 0.4896\n",
      "Epoch [14], train_loss: 1.7659, val_loss: 1.8187, val_acc: 0.6461\n",
      "Epoch [15], train_loss: 1.7668, val_loss: 1.9080, val_acc: 0.5516\n",
      "Epoch [16], train_loss: 1.7512, val_loss: 1.8550, val_acc: 0.6066\n",
      "Epoch [17], train_loss: 1.7569, val_loss: 1.9491, val_acc: 0.5080\n",
      "Epoch [18], train_loss: 1.7482, val_loss: 1.9356, val_acc: 0.5206\n",
      "Epoch [19], train_loss: 1.7506, val_loss: 1.8719, val_acc: 0.5882\n",
      "Epoch [20], train_loss: 1.7358, val_loss: 1.7839, val_acc: 0.6779\n",
      "Epoch [21], train_loss: 1.7378, val_loss: 1.8276, val_acc: 0.6304\n",
      "Epoch [22], train_loss: 1.7337, val_loss: 1.9787, val_acc: 0.4761\n",
      "Epoch [23], train_loss: 1.7310, val_loss: 1.7913, val_acc: 0.6707\n",
      "Epoch [24], train_loss: 1.7349, val_loss: 1.8188, val_acc: 0.6416\n",
      "Epoch [25], train_loss: 1.7312, val_loss: 1.8802, val_acc: 0.5776\n",
      "Epoch [26], train_loss: 1.7339, val_loss: 1.7747, val_acc: 0.6880\n",
      "Epoch [27], train_loss: 1.7310, val_loss: 1.8714, val_acc: 0.5869\n",
      "Epoch [28], train_loss: 1.7396, val_loss: 1.8962, val_acc: 0.5619\n",
      "Epoch [29], train_loss: 1.7343, val_loss: 1.8304, val_acc: 0.6287\n",
      "Epoch [30], train_loss: 1.7407, val_loss: 1.8016, val_acc: 0.6579\n",
      "Epoch [31], train_loss: 1.7432, val_loss: 1.8850, val_acc: 0.5725\n",
      "Epoch [32], train_loss: 1.7417, val_loss: 1.8073, val_acc: 0.6557\n",
      "Epoch [33], train_loss: 1.7390, val_loss: 2.0368, val_acc: 0.4218\n",
      "Epoch [34], train_loss: 1.7429, val_loss: 1.9002, val_acc: 0.5584\n",
      "Epoch [35], train_loss: 1.7403, val_loss: 1.8709, val_acc: 0.5859\n",
      "Epoch [36], train_loss: 1.7389, val_loss: 1.8117, val_acc: 0.6470\n",
      "Epoch [37], train_loss: 1.7406, val_loss: 1.7974, val_acc: 0.6626\n",
      "Epoch [38], train_loss: 1.7368, val_loss: 2.0050, val_acc: 0.4533\n",
      "Epoch [39], train_loss: 1.7516, val_loss: 1.7520, val_acc: 0.7073\n",
      "Epoch [40], train_loss: 1.7423, val_loss: 1.8323, val_acc: 0.6270\n",
      "Epoch [41], train_loss: 1.7431, val_loss: 1.8085, val_acc: 0.6515\n",
      "Epoch [42], train_loss: 1.7388, val_loss: 1.9188, val_acc: 0.5368\n",
      "Epoch [43], train_loss: 1.7414, val_loss: 1.7540, val_acc: 0.7060\n",
      "Epoch [44], train_loss: 1.7444, val_loss: 1.8747, val_acc: 0.5824\n",
      "Epoch [45], train_loss: 1.7436, val_loss: 1.8509, val_acc: 0.6087\n",
      "Epoch [46], train_loss: 1.7444, val_loss: 1.7582, val_acc: 0.7029\n",
      "Epoch [47], train_loss: 1.7350, val_loss: 1.7664, val_acc: 0.6936\n",
      "Epoch [48], train_loss: 1.7423, val_loss: 1.7788, val_acc: 0.6822\n",
      "Epoch [49], train_loss: 1.7379, val_loss: 1.7959, val_acc: 0.6626\n",
      "Epoch [50], train_loss: 1.7342, val_loss: 1.7751, val_acc: 0.6847\n",
      "Epoch [51], train_loss: 1.7295, val_loss: 1.7588, val_acc: 0.7003\n",
      "Epoch [52], train_loss: 1.7277, val_loss: 1.8309, val_acc: 0.6284\n",
      "Epoch [53], train_loss: 1.7343, val_loss: 1.8011, val_acc: 0.6589\n",
      "Epoch [54], train_loss: 1.7330, val_loss: 1.8336, val_acc: 0.6258\n",
      "Epoch [55], train_loss: 1.7240, val_loss: 1.7887, val_acc: 0.6727\n",
      "Epoch [56], train_loss: 1.7293, val_loss: 1.8340, val_acc: 0.6275\n",
      "Epoch [57], train_loss: 1.7225, val_loss: 1.7822, val_acc: 0.6783\n",
      "Epoch [58], train_loss: 1.7318, val_loss: 1.8946, val_acc: 0.5654\n",
      "Epoch [59], train_loss: 1.7263, val_loss: 1.8623, val_acc: 0.5953\n",
      "Epoch [60], train_loss: 1.7212, val_loss: 1.8018, val_acc: 0.6544\n",
      "Epoch [61], train_loss: 1.7199, val_loss: 1.8291, val_acc: 0.6297\n",
      "Epoch [62], train_loss: 1.7200, val_loss: 1.8066, val_acc: 0.6508\n",
      "Epoch [63], train_loss: 1.7186, val_loss: 1.7766, val_acc: 0.6844\n",
      "Epoch [64], train_loss: 1.7116, val_loss: 1.7962, val_acc: 0.6635\n",
      "Epoch [65], train_loss: 1.7130, val_loss: 1.7173, val_acc: 0.7439\n",
      "Epoch [66], train_loss: 1.7155, val_loss: 1.7353, val_acc: 0.7266\n",
      "Epoch [67], train_loss: 1.7090, val_loss: 1.7663, val_acc: 0.6958\n",
      "Epoch [68], train_loss: 1.7060, val_loss: 1.8006, val_acc: 0.6587\n",
      "Epoch [69], train_loss: 1.7082, val_loss: 1.7462, val_acc: 0.7144\n",
      "Epoch [70], train_loss: 1.7019, val_loss: 1.7482, val_acc: 0.7120\n",
      "Epoch [71], train_loss: 1.6998, val_loss: 1.9123, val_acc: 0.5456\n",
      "Epoch [72], train_loss: 1.7008, val_loss: 1.7293, val_acc: 0.7310\n",
      "Epoch [73], train_loss: 1.6985, val_loss: 1.7426, val_acc: 0.7196\n",
      "Epoch [74], train_loss: 1.6952, val_loss: 1.7514, val_acc: 0.7090\n",
      "Epoch [75], train_loss: 1.6978, val_loss: 1.7575, val_acc: 0.7025\n",
      "Epoch [76], train_loss: 1.6973, val_loss: 1.7402, val_acc: 0.7199\n",
      "Epoch [77], train_loss: 1.6898, val_loss: 1.7277, val_acc: 0.7356\n",
      "Epoch [78], train_loss: 1.6917, val_loss: 1.7570, val_acc: 0.7008\n",
      "Epoch [79], train_loss: 1.6848, val_loss: 1.7438, val_acc: 0.7167\n",
      "Epoch [80], train_loss: 1.6791, val_loss: 1.7339, val_acc: 0.7288\n",
      "Epoch [81], train_loss: 1.6764, val_loss: 1.7013, val_acc: 0.7603\n",
      "Epoch [82], train_loss: 1.6839, val_loss: 1.7310, val_acc: 0.7314\n",
      "Epoch [83], train_loss: 1.6788, val_loss: 1.7301, val_acc: 0.7308\n",
      "Epoch [84], train_loss: 1.6747, val_loss: 1.7584, val_acc: 0.7022\n",
      "Epoch [85], train_loss: 1.6713, val_loss: 1.6912, val_acc: 0.7723\n",
      "Epoch [86], train_loss: 1.6690, val_loss: 1.7355, val_acc: 0.7282\n",
      "Epoch [87], train_loss: 1.6698, val_loss: 1.7468, val_acc: 0.7165\n",
      "Epoch [88], train_loss: 1.6651, val_loss: 1.6976, val_acc: 0.7655\n",
      "Epoch [89], train_loss: 1.6634, val_loss: 1.7192, val_acc: 0.7425\n",
      "Epoch [90], train_loss: 1.6616, val_loss: 1.7021, val_acc: 0.7614\n",
      "Epoch [91], train_loss: 1.6571, val_loss: 1.6853, val_acc: 0.7770\n",
      "Epoch [92], train_loss: 1.6565, val_loss: 1.7078, val_acc: 0.7550\n",
      "Epoch [93], train_loss: 1.6597, val_loss: 1.7022, val_acc: 0.7608\n",
      "Epoch [94], train_loss: 1.6557, val_loss: 1.6855, val_acc: 0.7785\n",
      "Epoch [95], train_loss: 1.6528, val_loss: 1.6839, val_acc: 0.7795\n",
      "Epoch [96], train_loss: 1.6478, val_loss: 1.7235, val_acc: 0.7379\n",
      "Epoch [97], train_loss: 1.6436, val_loss: 1.6622, val_acc: 0.8005\n",
      "Epoch [98], train_loss: 1.6417, val_loss: 1.6621, val_acc: 0.7993\n",
      "Epoch [99], train_loss: 1.6410, val_loss: 1.6667, val_acc: 0.7985\n",
      "Epoch [100], train_loss: 1.6371, val_loss: 1.6652, val_acc: 0.7988\n",
      "Epoch [101], train_loss: 1.6328, val_loss: 1.6873, val_acc: 0.7770\n",
      "Epoch [102], train_loss: 1.6310, val_loss: 1.6725, val_acc: 0.7905\n",
      "Epoch [103], train_loss: 1.6302, val_loss: 1.6780, val_acc: 0.7829\n",
      "Epoch [104], train_loss: 1.6257, val_loss: 1.6614, val_acc: 0.8030\n",
      "Epoch [105], train_loss: 1.6236, val_loss: 1.6544, val_acc: 0.8093\n",
      "Epoch [106], train_loss: 1.6211, val_loss: 1.6500, val_acc: 0.8146\n",
      "Epoch [107], train_loss: 1.6196, val_loss: 1.6542, val_acc: 0.8100\n",
      "Epoch [108], train_loss: 1.6128, val_loss: 1.6363, val_acc: 0.8276\n",
      "Epoch [109], train_loss: 1.6126, val_loss: 1.6463, val_acc: 0.8168\n",
      "Epoch [110], train_loss: 1.6088, val_loss: 1.6375, val_acc: 0.8239\n",
      "Epoch [111], train_loss: 1.6072, val_loss: 1.6438, val_acc: 0.8197\n",
      "Epoch [112], train_loss: 1.6080, val_loss: 1.6424, val_acc: 0.8230\n",
      "Epoch [113], train_loss: 1.6040, val_loss: 1.6297, val_acc: 0.8345\n",
      "Epoch [114], train_loss: 1.5980, val_loss: 1.6327, val_acc: 0.8312\n",
      "Epoch [115], train_loss: 1.5977, val_loss: 1.6248, val_acc: 0.8402\n",
      "Epoch [116], train_loss: 1.5947, val_loss: 1.6297, val_acc: 0.8355\n",
      "Epoch [117], train_loss: 1.5908, val_loss: 1.6263, val_acc: 0.8397\n",
      "Epoch [118], train_loss: 1.5903, val_loss: 1.6245, val_acc: 0.8422\n",
      "Epoch [119], train_loss: 1.5859, val_loss: 1.6226, val_acc: 0.8418\n",
      "Epoch [120], train_loss: 1.5833, val_loss: 1.6235, val_acc: 0.8402\n",
      "Epoch [121], train_loss: 1.5792, val_loss: 1.6350, val_acc: 0.8272\n",
      "Epoch [122], train_loss: 1.5806, val_loss: 1.6210, val_acc: 0.8445\n",
      "Epoch [123], train_loss: 1.5766, val_loss: 1.6230, val_acc: 0.8413\n",
      "Epoch [124], train_loss: 1.5758, val_loss: 1.6218, val_acc: 0.8434\n",
      "Epoch [125], train_loss: 1.5721, val_loss: 1.6155, val_acc: 0.8486\n",
      "Epoch [126], train_loss: 1.5705, val_loss: 1.6155, val_acc: 0.8492\n",
      "Epoch [127], train_loss: 1.5686, val_loss: 1.6197, val_acc: 0.8445\n",
      "Epoch [128], train_loss: 1.5672, val_loss: 1.6156, val_acc: 0.8483\n",
      "Epoch [129], train_loss: 1.5681, val_loss: 1.6161, val_acc: 0.8465\n",
      "Epoch [130], train_loss: 1.5651, val_loss: 1.6219, val_acc: 0.8419\n",
      "Epoch [131], train_loss: 1.5633, val_loss: 1.6174, val_acc: 0.8464\n",
      "Epoch [132], train_loss: 1.5624, val_loss: 1.6154, val_acc: 0.8488\n",
      "Epoch [133], train_loss: 1.5614, val_loss: 1.6178, val_acc: 0.8460\n",
      "Epoch [134], train_loss: 1.5607, val_loss: 1.6166, val_acc: 0.8474\n",
      "Epoch [135], train_loss: 1.5614, val_loss: 1.6161, val_acc: 0.8474\n",
      "Epoch [136], train_loss: 1.5605, val_loss: 1.6156, val_acc: 0.8480\n",
      "Epoch [137], train_loss: 1.5598, val_loss: 1.6147, val_acc: 0.8494\n",
      "Epoch [138], train_loss: 1.5606, val_loss: 1.6148, val_acc: 0.8494\n",
      "Epoch [139], train_loss: 1.5602, val_loss: 1.6163, val_acc: 0.8471\n",
      "CPU times: user 12min 34s, sys: 2min, total: 14min 34s\n",
      "Wall time: 20min 14s\n"
     ]
    }
   ],
   "source": [
    "%%time\n",
    "histories[\"ResNet-20\"] += fit_one_cycle(epochs_res20, max_lr, model_res20, train_dl_res20, valid_dl_res20, \n",
    "                             grad_clip=grad_clip, \n",
    "                             weight_decay=weight_decay, \n",
    "                             opt_func=opt_func)"
   ]
  },
  {
   "cell_type": "markdown",
   "id": "occupational-utilization",
   "metadata": {},
   "source": [
    "## Graphs"
   ]
  },
  {
   "cell_type": "code",
   "execution_count": 20,
   "id": "collectible-adapter",
   "metadata": {},
   "outputs": [],
   "source": [
    "def plot_accuracies(histories):\n",
    "    for resnet in  histories.keys():\n",
    "        history = histories[resnet]\n",
    "        accuracies = [x['val_acc'] for x in history]\n",
    "        plt.figure(figsize=(10,6))\n",
    "        plt.plot(accuracies, '-x')\n",
    "        plt.xlabel('epoch')\n",
    "        plt.ylabel('accuracy')\n",
    "        plt.title(f'{resnet} Accuracy vs. No. of epochs');\n",
    "    \n",
    "def plot_losses(histories):\n",
    "    for resnet in  histories.keys():\n",
    "        history = histories[resnet]\n",
    "        train_losses = [x.get('train_loss') for x in history]\n",
    "        val_losses = [x['val_loss'] for x in history]\n",
    "        plt.figure(figsize=(10,6))\n",
    "        plt.plot(train_losses, '-bx')\n",
    "        plt.plot(val_losses, '-rx')\n",
    "        plt.xlabel('epoch')\n",
    "        plt.ylabel('loss')\n",
    "        plt.legend(['Training', 'Validation'])\n",
    "        plt.title(f'{resnet} Loss vs. No. of epochs');\n",
    "    \n",
    "def plot_lrs(histories):\n",
    "    for resnet in  histories.keys():\n",
    "        history = histories[resnet]\n",
    "        lrs = np.concatenate([x.get('lrs', []) for x in history])\n",
    "        plt.figure(figsize=(10,6))\n",
    "        plt.plot(lrs)\n",
    "        plt.xlabel('Batch no.')\n",
    "        plt.ylabel('Learning rate')\n",
    "        plt.title(f'{resnet} Learning Rate vs. Batch no.');"
   ]
  },
  {
   "cell_type": "code",
   "execution_count": 21,
   "id": "fitting-banking",
   "metadata": {},
   "outputs": [
    {
     "data": {
      "image/png": "[encoded data removed]",
      "text/plain": [
       "<Figure size 720x432 with 1 Axes>"
      ]
     },
     "metadata": {
      "needs_background": "light"
     },
     "output_type": "display_data"
    }
   ],
   "source": [
    "plot_accuracies(histories)"
   ]
  },
  {
   "cell_type": "code",
   "execution_count": 22,
   "id": "reserved-intensity",
   "metadata": {},
   "outputs": [
    {
     "data": {
      "image/png": "[encoded data removed]",
      "text/plain": [
       "<Figure size 720x432 with 1 Axes>"
      ]
     },
     "metadata": {
      "needs_background": "light"
     },
     "output_type": "display_data"
    }
   ],
   "source": [
    "plot_losses(histories)"
   ]
  },
  {
   "cell_type": "code",
   "execution_count": 23,
   "id": "judicial-camping",
   "metadata": {},
   "outputs": [
    {
     "data": {
      "image/png": "[encoded data removed]",
      "text/plain": [
       "<Figure size 720x432 with 1 Axes>"
      ]
     },
     "metadata": {
      "needs_background": "light"
     },
     "output_type": "display_data"
    }
   ],
   "source": [
    "plot_lrs(histories)"
   ]
  }
 ],
 "metadata": {
  "kernelspec": {
   "display_name": "Python 3",
   "language": "python",
   "name": "python3"
  },
  "language_info": {
   "codemirror_mode": {
    "name": "ipython",
    "version": 3
   },
   "file_extension": ".py",
   "mimetype": "text/x-python",
   "name": "python",
   "nbconvert_exporter": "python",
   "pygments_lexer": "ipython3",
   "version": "3.6.9"
  }
 },
 "nbformat": 4,
 "nbformat_minor": 5
}
