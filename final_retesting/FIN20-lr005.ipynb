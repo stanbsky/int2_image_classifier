{
 "cells": [
  {
   "cell_type": "markdown",
   "id": "sound-eagle",
   "metadata": {},
   "source": [
    "## Importing libraries"
   ]
  },
  {
   "cell_type": "code",
   "execution_count": 1,
   "id": "permanent-prior",
   "metadata": {},
   "outputs": [
    {
     "name": "stderr",
     "output_type": "stream",
     "text": [
      "Matplotlib created a temporary config/cache directory at /tmp/matplotlib-n_hc_zyc because the default path (/run/user/141228/cache/matplotlib) is not a writable directory; it is highly recommended to set the MPLCONFIGDIR environment variable to a writable directory, in particular to speed up the import of Matplotlib and to better support multiprocessing.\n"
     ]
    }
   ],
   "source": [
    "import torch\n",
    "import torchvision\n",
    "from torchvision.datasets.utils import download_url\n",
    "from torch.utils.data import random_split\n",
    "from torchvision.datasets import ImageFolder\n",
    "from torchvision.transforms import ToTensor,ToPILImage\n",
    "import matplotlib.pyplot as plt\n",
    "from torchvision.utils import make_grid\n",
    "from torch.utils.data.dataloader import DataLoader\n",
    "from torchvision.utils import make_grid\n",
    "import torch.nn as nn\n",
    "import torch.nn.functional as F\n",
    "import torchvision.transforms as tt\n",
    "import numpy as np\n",
    "import torchvision.datasets as datasets"
   ]
  },
  {
   "cell_type": "markdown",
   "id": "brief-local",
   "metadata": {},
   "source": [
    "## Data and device loading"
   ]
  },
  {
   "cell_type": "code",
   "execution_count": 2,
   "id": "touched-mobile",
   "metadata": {},
   "outputs": [],
   "source": [
    "torch.backends.cudnn.benchmark = True\n",
    "device = torch.device(\"cuda:2\" if torch.cuda.is_available() else \"cpu\")"
   ]
  },
  {
   "cell_type": "code",
   "execution_count": 3,
   "id": "alternate-barrel",
   "metadata": {},
   "outputs": [],
   "source": [
    "stats= ((0.4914,0.4822,0.4465),(0.2023,0.1994,0.2010)) #mean and std\n",
    "train_tfm= tt.Compose([tt.RandomCrop(32, padding=4, padding_mode='reflect'), # transormation of data together\n",
    "                       tt.RandomHorizontalFlip(),\n",
    "                       tt.ToTensor()])\n",
    "valid_tfm = tt.Compose([tt.ToTensor()])"
   ]
  },
  {
   "cell_type": "code",
   "execution_count": 4,
   "id": "talented-translation",
   "metadata": {},
   "outputs": [
    {
     "name": "stdout",
     "output_type": "stream",
     "text": [
      "Files already downloaded and verified\n"
     ]
    }
   ],
   "source": [
    "training_data = datasets.CIFAR10(\n",
    "    root=\"data\",\n",
    "    train=True,\n",
    "    download=True,\n",
    "    transform=train_tfm,\n",
    ")"
   ]
  },
  {
   "cell_type": "code",
   "execution_count": 5,
   "id": "fossil-stock",
   "metadata": {},
   "outputs": [
    {
     "name": "stdout",
     "output_type": "stream",
     "text": [
      "Files already downloaded and verified\n"
     ]
    }
   ],
   "source": [
    "# Download test data from open datasets.\n",
    "test_data = datasets.CIFAR10(\n",
    "    root=\"data\",\n",
    "    train=False,\n",
    "    download=True,\n",
    "    transform=valid_tfm,\n",
    ")"
   ]
  },
  {
   "cell_type": "code",
   "execution_count": 6,
   "id": "fancy-norway",
   "metadata": {},
   "outputs": [
    {
     "data": {
      "text/plain": [
       "Dataset CIFAR10\n",
       "    Number of datapoints: 50000\n",
       "    Root location: data\n",
       "    Split: Train\n",
       "    StandardTransform\n",
       "Transform: Compose(\n",
       "               RandomCrop(size=(32, 32), padding=4)\n",
       "               RandomHorizontalFlip(p=0.5)\n",
       "               ToTensor()\n",
       "           )"
      ]
     },
     "execution_count": 6,
     "metadata": {},
     "output_type": "execute_result"
    }
   ],
   "source": [
    "valid_ds = test_data\n",
    "train_ds = training_data\n",
    "train_ds"
   ]
  },
  {
   "cell_type": "code",
   "execution_count": 7,
   "id": "floral-hindu",
   "metadata": {},
   "outputs": [],
   "source": [
    "batch_size_res9=400\n",
    "batch_size_res20=400"
   ]
  },
  {
   "cell_type": "code",
   "execution_count": 8,
   "id": "double-intensity",
   "metadata": {},
   "outputs": [],
   "source": [
    "# Dataloader to load data in batches(mini batch)\n",
    "train_dl_res9= DataLoader(train_ds,batch_size_res9,shuffle=True, num_workers=3, pin_memory=True) \n",
    "valid_dl_res9= DataLoader(valid_ds, batch_size_res9, num_workers=3,pin_memory=True) \n",
    "\n",
    "train_dl_res20= DataLoader(train_ds,batch_size_res20,shuffle=True, num_workers=3, pin_memory=True) \n",
    "valid_dl_res20= DataLoader(valid_ds, batch_size_res20, num_workers=3,pin_memory=True)"
   ]
  },
  {
   "cell_type": "code",
   "execution_count": 9,
   "id": "southwest-quilt",
   "metadata": {},
   "outputs": [],
   "source": [
    "def get_default_device():\n",
    "    \"\"\"Pick GPU if available, else CPU\"\"\"\n",
    "    if torch.cuda.is_available():\n",
    "        return torch.device('cuda')\n",
    "    else:\n",
    "        return torch.device('cpu')\n",
    "    \n",
    "def to_device(data, device):\n",
    "    \"\"\"Move tensor(s) to chosen device\"\"\"\n",
    "    if isinstance(data, (list,tuple)):\n",
    "        return [to_device(x, device) for x in data]\n",
    "    return data.to(device, non_blocking=True)\n",
    "\n",
    "class DeviceDataLoader():\n",
    "    \"\"\"Wrap a dataloader to move data to a device\"\"\"\n",
    "    def __init__(self, dl, device):\n",
    "        self.dl = dl\n",
    "        self.device = device\n",
    "        \n",
    "    def __iter__(self):\n",
    "        \"\"\"Yield a batch of data after moving it to device\"\"\"\n",
    "        for b in self.dl: \n",
    "            yield to_device(b, self.device)\n",
    "\n",
    "    def __len__(self):\n",
    "        \"\"\"Number of batches\"\"\"\n",
    "        return len(self.dl)"
   ]
  },
  {
   "cell_type": "code",
   "execution_count": 10,
   "id": "female-mississippi",
   "metadata": {},
   "outputs": [],
   "source": [
    "train_dl_res9= DeviceDataLoader(train_dl_res9, device)\n",
    "valid_dl_res9 = DeviceDataLoader(valid_dl_res9, device)\n",
    "\n",
    "train_dl_res20= DeviceDataLoader(train_dl_res20, device)\n",
    "valid_dl_res20 = DeviceDataLoader(valid_dl_res20, device)"
   ]
  },
  {
   "cell_type": "markdown",
   "id": "brave-honey",
   "metadata": {},
   "source": [
    "## Training loop"
   ]
  },
  {
   "cell_type": "code",
   "execution_count": 11,
   "id": "considerable-acoustic",
   "metadata": {},
   "outputs": [],
   "source": [
    "def accuracy(outputs, labels):\n",
    "    _, preds = torch.max(outputs, dim=1)\n",
    "    return torch.tensor(torch.sum(preds == labels).item() / len(preds))\n",
    "\n",
    "class ImageClassificationBase(nn.Module):\n",
    "    def training_step(self, batch):\n",
    "        images, labels = batch \n",
    "        out = self(images)                  # Generate predictions\n",
    "        loss = F.cross_entropy(out, labels) # Calculate loss\n",
    "        return loss\n",
    "    \n",
    "    def validation_step(self, batch):\n",
    "        images, labels = batch \n",
    "        out = self(images)                    # Generate predictions\n",
    "        loss = F.cross_entropy(out, labels)   # Calculate loss\n",
    "        acc = accuracy(out, labels)           # Calculate accuracy\n",
    "        return {'val_loss': loss.detach(), 'val_acc': acc}\n",
    "        \n",
    "    def validation_epoch_end(self, outputs):\n",
    "        batch_losses = [x['val_loss'] for x in outputs]\n",
    "        epoch_loss = torch.stack(batch_losses).mean()   # Combine losses\n",
    "        batch_accs = [x['val_acc'] for x in outputs]\n",
    "        epoch_acc = torch.stack(batch_accs).mean()      # Combine accuracies\n",
    "        return {'val_loss': epoch_loss.item(), 'val_acc': epoch_acc.item()}\n",
    "    \n",
    "    def epoch_end(self, epoch, result):\n",
    "        print(\"Epoch [{}], train_loss: {:.4f}, val_loss: {:.4f}, val_acc: {:.4f}\".format(\n",
    "            epoch, result['train_loss'], result['val_loss'], result['val_acc']))"
   ]
  },
  {
   "cell_type": "markdown",
   "id": "familiar-reconstruction",
   "metadata": {},
   "source": [
    "## Resnets"
   ]
  },
  {
   "cell_type": "code",
   "execution_count": 12,
   "id": "altered-service",
   "metadata": {},
   "outputs": [],
   "source": [
    "def conv_block_res9(in_channels, out_channels, pool=False):\n",
    "    layers = [nn.Conv2d(in_channels, out_channels, kernel_size=3, padding=1), \n",
    "              nn.BatchNorm2d(out_channels), \n",
    "              nn.ReLU(inplace=True)]\n",
    "    if pool: layers.append(nn.MaxPool2d(2))\n",
    "    return nn.Sequential(*layers)\n",
    "\n",
    "class ResNet9(ImageClassificationBase):\n",
    "    def __init__(self, in_channels, num_classes):\n",
    "        super().__init__()\n",
    "        \n",
    "        self.conv1 = conv_block_res9(in_channels, 64)\n",
    "        self.conv2 = conv_block_res9(64, 128, pool=True)\n",
    "        self.res1 = nn.Sequential(conv_block_res9(128, 128), conv_block_res9(128, 128))\n",
    "        \n",
    "        self.conv3 = conv_block_res9(128, 256, pool=True)\n",
    "        self.conv4 = conv_block_res9(256, 512, pool=True)\n",
    "        self.res2 = nn.Sequential(conv_block_res9(512, 512), conv_block_res9(512, 512))\n",
    "        \n",
    "        self.classifier = nn.Sequential(nn.MaxPool2d(4), \n",
    "                                        nn.Flatten(), \n",
    "                                        nn.Linear(512, num_classes))\n",
    "        \n",
    "    def forward(self, xb):\n",
    "        out = self.conv1(xb)\n",
    "        out = self.conv2(out)\n",
    "        out = self.res1(out) + out\n",
    "        out = self.conv3(out)\n",
    "        out = self.conv4(out)\n",
    "        out = self.res2(out) + out\n",
    "        out = self.classifier(out)\n",
    "        return out"
   ]
  },
  {
   "cell_type": "code",
   "execution_count": 13,
   "id": "indoor-flower",
   "metadata": {},
   "outputs": [],
   "source": [
    "def conv_block_res20(in_channels, out_channels, stride=1):\n",
    "    layers = [nn.Conv2d(in_channels, out_channels, kernel_size=3, padding=1, stride=stride), \n",
    "              nn.BatchNorm2d(out_channels), \n",
    "              nn.ReLU(inplace=True)]\n",
    "    return nn.Sequential(*layers)\n",
    "\n",
    "def shortcut(in_channels, out_channels):\n",
    "    return nn.Conv2d(in_channels, out_channels, kernel_size=3, padding=1, stride=2)\n",
    "\n",
    "class ResNet20(ImageClassificationBase):\n",
    "    def __init__(self, in_channels, num_classes, n):\n",
    "        super().__init__()\n",
    "        \n",
    "        self.n = n\n",
    "        \n",
    "        # 32x32 map\n",
    "        self.conv1 = conv_block_res20(in_channels, 16)\n",
    "        self.reg32 = nn.Sequential(conv_block_res20(16,16), conv_block_res20(16,16))\n",
    "        \n",
    "        # 16x16 map\n",
    "        self.entry16 = nn.Sequential(conv_block_res20(16, 32, stride=2), conv_block_res20(32, 32))\n",
    "        self.short16 = shortcut(16, 32)\n",
    "        self.reg16 = nn.Sequential(conv_block_res20(32, 32), conv_block_res20(32, 32))\n",
    "        \n",
    "        # 8x8 map\n",
    "        self.entry8 = nn.Sequential(conv_block_res20(32, 64, stride=2), conv_block_res20(64, 64))\n",
    "        self.short8 = shortcut(32, 64)\n",
    "        self.reg8 = nn.Sequential(conv_block_res20(64, 64), conv_block_res20(64, 64))\n",
    "        \n",
    "        self.classifier = nn.Sequential(nn.AvgPool2d(kernel_size=8, stride=None, padding=0), \n",
    "                                        nn.Linear(64, num_classes),\n",
    "                                       nn.Softmax())\n",
    "        # FOR DEBUGGING\n",
    "        self.avg = nn.AvgPool2d(kernel_size=8, stride=None, padding=0)\n",
    "        self.flat = nn.Flatten()\n",
    "        self.fcl = nn.Linear(64, num_classes)\n",
    "        self.sm = nn.Softmax()\n",
    "        \n",
    "    def forward(self, xb):\n",
    "        out = self.conv1(xb)\n",
    "        \n",
    "        for i in range(self.n):\n",
    "            out = self.reg32(out) + out\n",
    "            \n",
    "        out = self.entry16(out) + self.short16(out)\n",
    "        for i in range(self.n - 1):\n",
    "            out = self.reg16(out) + out\n",
    "            \n",
    "        out = self.entry8(out) + self.short8(out)\n",
    "        for i in range(self.n - 1):\n",
    "            out = self.reg8(out) + out\n",
    "\n",
    "        #out = self.classifier(out)\n",
    "        out = self.avg(out)\n",
    "        out = self.flat(out)\n",
    "        out = self.fcl(out)\n",
    "        out = self.sm(out)\n",
    "        \n",
    "        return out"
   ]
  },
  {
   "cell_type": "markdown",
   "id": "macro-blocking",
   "metadata": {},
   "source": [
    "## Transfer to device"
   ]
  },
  {
   "cell_type": "code",
   "execution_count": 14,
   "id": "cutting-reward",
   "metadata": {},
   "outputs": [],
   "source": [
    "# model_res9 = to_device(ResNet9(3,10), device)\n",
    "model_res20 = to_device(ResNet20(3,10,3), device)"
   ]
  },
  {
   "cell_type": "code",
   "execution_count": 15,
   "id": "union-monaco",
   "metadata": {},
   "outputs": [],
   "source": [
    "@torch.no_grad()\n",
    "def evaluate(model, val_loader):\n",
    "    model.eval()\n",
    "    outputs = [model.validation_step(batch) for batch in val_loader]\n",
    "    return model.validation_epoch_end(outputs)\n",
    "\n",
    "def get_lr(optimizer):\n",
    "    for param_group in optimizer.param_groups:\n",
    "        return param_group['lr']\n",
    "    \n",
    "def fit_one_cycle(epochs, max_lr, model, train_loader, val_loader, \n",
    "                  weight_decay=0, grad_clip=None, opt_func=torch.optim.SGD):\n",
    "    torch.cuda.empty_cache()  # Realsing cuda memory otherwise might get cuda out of memory error\n",
    "    history = []\n",
    "    \n",
    "    #custom optimizer with weight decay\n",
    "    optimizer = opt_func(model.parameters(), max_lr, weight_decay=weight_decay)\n",
    "    # Set up one-cycle learning rate scheduler\n",
    "    sched = torch.optim.lr_scheduler.OneCycleLR(optimizer, max_lr, epochs=epochs, \n",
    "                                                steps_per_epoch=len(train_loader))\n",
    "    \n",
    "    for epoch in range(epochs):\n",
    "        # Training Phase \n",
    "        model.train() #Setting training mode\n",
    "        train_losses = []\n",
    "        lrs = [] \n",
    "        for batch in train_loader:\n",
    "            loss = model.training_step(batch)\n",
    "            train_losses.append(loss)\n",
    "            loss.backward()\n",
    "            \n",
    "            # Gradient clipping\n",
    "            if grad_clip: \n",
    "                nn.utils.clip_grad_value_(model.parameters(), grad_clip)\n",
    "            \n",
    "            optimizer.step()\n",
    "            optimizer.zero_grad()\n",
    "            \n",
    "            # Record & update learning rate\n",
    "            lrs.append(get_lr(optimizer))\n",
    "            sched.step()\n",
    "        \n",
    "        # Validation phase\n",
    "        result = evaluate(model, val_loader) \n",
    "        result['train_loss'] = torch.stack(train_losses).mean().item()\n",
    "        result['lrs'] = lrs\n",
    "        model.epoch_end(epoch, result)\n",
    "        history.append(result)\n",
    "    return history"
   ]
  },
  {
   "cell_type": "code",
   "execution_count": 16,
   "id": "passive-scratch",
   "metadata": {},
   "outputs": [],
   "source": [
    "# # Smoke test: if something's wrong with how we set up our model, we'll see it now\n",
    "# histories = {\"ResNet-9\": [evaluate(model_res9, valid_dl_res9)], \"ResNet-20\": [evaluate(model_res20, valid_dl_res20)]}\n",
    "\n",
    "# print(histories)"
   ]
  },
  {
   "cell_type": "markdown",
   "id": "bronze-canadian",
   "metadata": {},
   "source": [
    "## Training"
   ]
  },
  {
   "cell_type": "code",
   "execution_count": 17,
   "id": "respective-reducing",
   "metadata": {},
   "outputs": [],
   "source": [
    "epochs_res9 = 70\n",
    "epochs_res20 = 140\n",
    "histories = {\"ResNet-20\":[]}\n",
    "max_lr = 0.005\n",
    "grad_clip = 0.1\n",
    "weight_decay = 1e-4\n",
    "opt_func = torch.optim.Adam"
   ]
  },
  {
   "cell_type": "code",
   "execution_count": 18,
   "id": "improved-parade",
   "metadata": {},
   "outputs": [],
   "source": [
    "# %%time\n",
    "# histories[\"ResNet-9\"] += fit_one_cycle(epochs_res9, max_lr, model_res9, train_dl_res9, valid_dl_res9, \n",
    "#                              grad_clip=grad_clip, \n",
    "#                              weight_decay=weight_decay, \n",
    "#                              opt_func=opt_func)"
   ]
  },
  {
   "cell_type": "code",
   "execution_count": 19,
   "id": "earlier-newspaper",
   "metadata": {},
   "outputs": [
    {
     "name": "stderr",
     "output_type": "stream",
     "text": [
      "/home/userfs/s/sb2444/.local/lib/python3.6/site-packages/ipykernel_launcher.py:57: UserWarning: Implicit dimension choice for softmax has been deprecated. Change the call to include dim=X as an argument.\n"
     ]
    },
    {
     "name": "stdout",
     "output_type": "stream",
     "text": [
      "Epoch [0], train_loss: 2.1679, val_loss: 2.1080, val_acc: 0.3549\n",
      "Epoch [1], train_loss: 2.0502, val_loss: 2.0545, val_acc: 0.4139\n",
      "Epoch [2], train_loss: 1.9862, val_loss: 2.0316, val_acc: 0.4391\n",
      "Epoch [3], train_loss: 1.9386, val_loss: 1.9973, val_acc: 0.4698\n",
      "Epoch [4], train_loss: 1.9015, val_loss: 1.9495, val_acc: 0.5221\n",
      "Epoch [5], train_loss: 1.8814, val_loss: 1.9434, val_acc: 0.5194\n",
      "Epoch [6], train_loss: 1.8580, val_loss: 1.9556, val_acc: 0.5039\n",
      "Epoch [7], train_loss: 1.8394, val_loss: 1.9633, val_acc: 0.4972\n",
      "Epoch [8], train_loss: 1.8201, val_loss: 1.9985, val_acc: 0.4579\n",
      "Epoch [9], train_loss: 1.8116, val_loss: 1.8640, val_acc: 0.5993\n",
      "Epoch [10], train_loss: 1.7952, val_loss: 1.9270, val_acc: 0.5306\n",
      "Epoch [11], train_loss: 1.7825, val_loss: 1.9809, val_acc: 0.4773\n",
      "Epoch [12], train_loss: 1.7696, val_loss: 1.9429, val_acc: 0.5142\n",
      "Epoch [13], train_loss: 1.7601, val_loss: 1.8781, val_acc: 0.5829\n",
      "Epoch [14], train_loss: 1.7523, val_loss: 1.8728, val_acc: 0.5874\n",
      "Epoch [15], train_loss: 1.7453, val_loss: 1.9147, val_acc: 0.5436\n",
      "Epoch [16], train_loss: 1.7346, val_loss: 1.8097, val_acc: 0.6548\n",
      "Epoch [17], train_loss: 1.7320, val_loss: 1.9394, val_acc: 0.5191\n",
      "Epoch [18], train_loss: 1.7297, val_loss: 2.1198, val_acc: 0.3350\n",
      "Epoch [19], train_loss: 1.7252, val_loss: 1.8244, val_acc: 0.6389\n",
      "Epoch [20], train_loss: 1.7166, val_loss: 1.9376, val_acc: 0.5189\n",
      "Epoch [21], train_loss: 1.7139, val_loss: 1.8728, val_acc: 0.5874\n",
      "Epoch [22], train_loss: 1.7149, val_loss: 2.0023, val_acc: 0.4513\n",
      "Epoch [23], train_loss: 1.7121, val_loss: 1.8946, val_acc: 0.5638\n",
      "Epoch [24], train_loss: 1.7112, val_loss: 1.8811, val_acc: 0.5750\n",
      "Epoch [25], train_loss: 1.7027, val_loss: 1.9096, val_acc: 0.5474\n",
      "Epoch [26], train_loss: 1.7032, val_loss: 1.9108, val_acc: 0.5485\n",
      "Epoch [27], train_loss: 1.6979, val_loss: 1.8975, val_acc: 0.5586\n",
      "Epoch [28], train_loss: 1.6995, val_loss: 1.8032, val_acc: 0.6578\n",
      "Epoch [29], train_loss: 1.6945, val_loss: 1.9115, val_acc: 0.5473\n",
      "Epoch [30], train_loss: 1.6930, val_loss: 1.8519, val_acc: 0.6093\n",
      "Epoch [31], train_loss: 1.6922, val_loss: 1.8780, val_acc: 0.5838\n",
      "Epoch [32], train_loss: 1.6958, val_loss: 1.8073, val_acc: 0.6579\n",
      "Epoch [33], train_loss: 1.6897, val_loss: 1.7867, val_acc: 0.6787\n",
      "Epoch [34], train_loss: 1.6870, val_loss: 1.9784, val_acc: 0.4790\n",
      "Epoch [35], train_loss: 1.6869, val_loss: 1.8391, val_acc: 0.6203\n",
      "Epoch [36], train_loss: 1.6922, val_loss: 1.8650, val_acc: 0.5925\n",
      "Epoch [37], train_loss: 1.6852, val_loss: 1.8841, val_acc: 0.5763\n",
      "Epoch [38], train_loss: 1.6837, val_loss: 1.7855, val_acc: 0.6744\n",
      "Epoch [39], train_loss: 1.6850, val_loss: 1.9209, val_acc: 0.5353\n",
      "Epoch [40], train_loss: 1.6839, val_loss: 1.8464, val_acc: 0.6147\n",
      "Epoch [41], train_loss: 1.6820, val_loss: 1.9137, val_acc: 0.5457\n",
      "Epoch [42], train_loss: 1.6802, val_loss: 1.7332, val_acc: 0.7277\n",
      "Epoch [43], train_loss: 1.6778, val_loss: 1.7895, val_acc: 0.6723\n",
      "Epoch [44], train_loss: 1.6755, val_loss: 1.8909, val_acc: 0.5708\n",
      "Epoch [45], train_loss: 1.6798, val_loss: 1.7605, val_acc: 0.7008\n",
      "Epoch [46], train_loss: 1.6749, val_loss: 1.8624, val_acc: 0.5958\n",
      "Epoch [47], train_loss: 1.6777, val_loss: 1.8607, val_acc: 0.5994\n",
      "Epoch [48], train_loss: 1.6748, val_loss: 1.8575, val_acc: 0.6000\n",
      "Epoch [49], train_loss: 1.6739, val_loss: 1.8522, val_acc: 0.6044\n",
      "Epoch [50], train_loss: 1.6748, val_loss: 1.8135, val_acc: 0.6471\n",
      "Epoch [51], train_loss: 1.6748, val_loss: 1.8162, val_acc: 0.6429\n",
      "Epoch [52], train_loss: 1.6717, val_loss: 1.7611, val_acc: 0.7018\n",
      "Epoch [53], train_loss: 1.6730, val_loss: 1.7989, val_acc: 0.6586\n",
      "Epoch [54], train_loss: 1.6707, val_loss: 1.8138, val_acc: 0.6456\n",
      "Epoch [55], train_loss: 1.6707, val_loss: 1.7523, val_acc: 0.7087\n",
      "Epoch [56], train_loss: 1.6660, val_loss: 1.8513, val_acc: 0.6069\n",
      "Epoch [57], train_loss: 1.6635, val_loss: 1.7986, val_acc: 0.6636\n",
      "Epoch [58], train_loss: 1.6672, val_loss: 1.7881, val_acc: 0.6739\n",
      "Epoch [59], train_loss: 1.6632, val_loss: 1.7528, val_acc: 0.7084\n",
      "Epoch [60], train_loss: 1.6621, val_loss: 1.7843, val_acc: 0.6781\n",
      "Epoch [61], train_loss: 1.6592, val_loss: 1.8223, val_acc: 0.6391\n",
      "Epoch [62], train_loss: 1.6623, val_loss: 1.7328, val_acc: 0.7312\n",
      "Epoch [63], train_loss: 1.6597, val_loss: 1.7815, val_acc: 0.6824\n",
      "Epoch [64], train_loss: 1.6569, val_loss: 1.8170, val_acc: 0.6430\n",
      "Epoch [65], train_loss: 1.6571, val_loss: 1.7546, val_acc: 0.7101\n",
      "Epoch [66], train_loss: 1.6591, val_loss: 1.7218, val_acc: 0.7401\n",
      "Epoch [67], train_loss: 1.6528, val_loss: 1.7826, val_acc: 0.6751\n",
      "Epoch [68], train_loss: 1.6546, val_loss: 1.7374, val_acc: 0.7293\n",
      "Epoch [69], train_loss: 1.6503, val_loss: 1.7489, val_acc: 0.7144\n",
      "Epoch [70], train_loss: 1.6492, val_loss: 1.7842, val_acc: 0.6785\n",
      "Epoch [71], train_loss: 1.6477, val_loss: 1.7188, val_acc: 0.7468\n",
      "Epoch [72], train_loss: 1.6456, val_loss: 1.7822, val_acc: 0.6815\n",
      "Epoch [73], train_loss: 1.6460, val_loss: 1.7372, val_acc: 0.7248\n",
      "Epoch [74], train_loss: 1.6441, val_loss: 1.8163, val_acc: 0.6454\n",
      "Epoch [75], train_loss: 1.6407, val_loss: 1.7169, val_acc: 0.7566\n",
      "Epoch [76], train_loss: 1.6397, val_loss: 1.7245, val_acc: 0.7408\n",
      "Epoch [77], train_loss: 1.6380, val_loss: 1.7445, val_acc: 0.7240\n",
      "Epoch [78], train_loss: 1.6376, val_loss: 1.7842, val_acc: 0.6750\n",
      "Epoch [79], train_loss: 1.6342, val_loss: 1.7073, val_acc: 0.7566\n",
      "Epoch [80], train_loss: 1.6334, val_loss: 1.7059, val_acc: 0.7650\n",
      "Epoch [81], train_loss: 1.6327, val_loss: 1.7144, val_acc: 0.7511\n",
      "Epoch [82], train_loss: 1.6302, val_loss: 1.6930, val_acc: 0.7720\n",
      "Epoch [83], train_loss: 1.6290, val_loss: 1.7044, val_acc: 0.7595\n",
      "Epoch [84], train_loss: 1.6249, val_loss: 1.7276, val_acc: 0.7376\n",
      "Epoch [85], train_loss: 1.6236, val_loss: 1.6804, val_acc: 0.7878\n",
      "Epoch [86], train_loss: 1.6214, val_loss: 1.7049, val_acc: 0.7623\n",
      "Epoch [87], train_loss: 1.6205, val_loss: 1.7165, val_acc: 0.7521\n",
      "Epoch [88], train_loss: 1.6199, val_loss: 1.6737, val_acc: 0.7937\n",
      "Epoch [89], train_loss: 1.6184, val_loss: 1.7327, val_acc: 0.7300\n",
      "Epoch [90], train_loss: 1.6152, val_loss: 1.7004, val_acc: 0.7666\n",
      "Epoch [91], train_loss: 1.6137, val_loss: 1.7384, val_acc: 0.7257\n",
      "Epoch [92], train_loss: 1.6130, val_loss: 1.7382, val_acc: 0.7266\n",
      "Epoch [93], train_loss: 1.6090, val_loss: 1.6887, val_acc: 0.7777\n",
      "Epoch [94], train_loss: 1.6053, val_loss: 1.6802, val_acc: 0.7864\n",
      "Epoch [95], train_loss: 1.6041, val_loss: 1.7061, val_acc: 0.7642\n",
      "Epoch [96], train_loss: 1.6015, val_loss: 1.7797, val_acc: 0.6846\n",
      "Epoch [97], train_loss: 1.5982, val_loss: 1.6825, val_acc: 0.7854\n",
      "Epoch [98], train_loss: 1.5998, val_loss: 1.6762, val_acc: 0.7923\n",
      "Epoch [99], train_loss: 1.5952, val_loss: 1.7086, val_acc: 0.7562\n",
      "Epoch [100], train_loss: 1.5938, val_loss: 1.6760, val_acc: 0.7906\n",
      "Epoch [101], train_loss: 1.5896, val_loss: 1.7005, val_acc: 0.7679\n",
      "Epoch [102], train_loss: 1.5875, val_loss: 1.6925, val_acc: 0.7743\n",
      "Epoch [103], train_loss: 1.5874, val_loss: 1.7015, val_acc: 0.7662\n",
      "Epoch [104], train_loss: 1.5831, val_loss: 1.6794, val_acc: 0.7905\n",
      "Epoch [105], train_loss: 1.5806, val_loss: 1.7286, val_acc: 0.7354\n",
      "Epoch [106], train_loss: 1.5802, val_loss: 1.7137, val_acc: 0.7528\n",
      "Epoch [107], train_loss: 1.5787, val_loss: 1.6667, val_acc: 0.8014\n",
      "Epoch [108], train_loss: 1.5755, val_loss: 1.6883, val_acc: 0.7780\n",
      "Epoch [109], train_loss: 1.5726, val_loss: 1.7063, val_acc: 0.7608\n",
      "Epoch [110], train_loss: 1.5723, val_loss: 1.7172, val_acc: 0.7490\n",
      "Epoch [111], train_loss: 1.5685, val_loss: 1.6572, val_acc: 0.8104\n",
      "Epoch [112], train_loss: 1.5657, val_loss: 1.6921, val_acc: 0.7739\n",
      "Epoch [113], train_loss: 1.5653, val_loss: 1.6683, val_acc: 0.8002\n",
      "Epoch [114], train_loss: 1.5625, val_loss: 1.6539, val_acc: 0.8133\n",
      "Epoch [115], train_loss: 1.5603, val_loss: 1.6814, val_acc: 0.7869\n",
      "Epoch [116], train_loss: 1.5585, val_loss: 1.6621, val_acc: 0.8057\n",
      "Epoch [117], train_loss: 1.5554, val_loss: 1.6614, val_acc: 0.8064\n",
      "Epoch [118], train_loss: 1.5534, val_loss: 1.6590, val_acc: 0.8097\n",
      "Epoch [119], train_loss: 1.5520, val_loss: 1.6554, val_acc: 0.8128\n",
      "Epoch [120], train_loss: 1.5497, val_loss: 1.6541, val_acc: 0.8145\n",
      "Epoch [121], train_loss: 1.5492, val_loss: 1.6625, val_acc: 0.8063\n",
      "Epoch [122], train_loss: 1.5471, val_loss: 1.6621, val_acc: 0.8060\n",
      "Epoch [123], train_loss: 1.5448, val_loss: 1.6662, val_acc: 0.7989\n",
      "Epoch [124], train_loss: 1.5435, val_loss: 1.6664, val_acc: 0.7997\n",
      "Epoch [125], train_loss: 1.5421, val_loss: 1.6599, val_acc: 0.8078\n",
      "Epoch [126], train_loss: 1.5422, val_loss: 1.6637, val_acc: 0.8031\n",
      "Epoch [127], train_loss: 1.5404, val_loss: 1.6810, val_acc: 0.7847\n",
      "Epoch [128], train_loss: 1.5388, val_loss: 1.6651, val_acc: 0.8001\n",
      "Epoch [129], train_loss: 1.5388, val_loss: 1.6672, val_acc: 0.7985\n",
      "Epoch [130], train_loss: 1.5370, val_loss: 1.6626, val_acc: 0.8056\n",
      "Epoch [131], train_loss: 1.5362, val_loss: 1.6652, val_acc: 0.8010\n",
      "Epoch [132], train_loss: 1.5352, val_loss: 1.6657, val_acc: 0.8031\n",
      "Epoch [133], train_loss: 1.5353, val_loss: 1.6658, val_acc: 0.8016\n",
      "Epoch [134], train_loss: 1.5347, val_loss: 1.6601, val_acc: 0.8081\n",
      "Epoch [135], train_loss: 1.5336, val_loss: 1.6602, val_acc: 0.8073\n",
      "Epoch [136], train_loss: 1.5335, val_loss: 1.6658, val_acc: 0.8024\n",
      "Epoch [137], train_loss: 1.5348, val_loss: 1.6614, val_acc: 0.8066\n",
      "Epoch [138], train_loss: 1.5333, val_loss: 1.6617, val_acc: 0.8049\n",
      "Epoch [139], train_loss: 1.5350, val_loss: 1.6619, val_acc: 0.8054\n",
      "CPU times: user 11min 13s, sys: 1min 28s, total: 12min 42s\n",
      "Wall time: 26min 22s\n"
     ]
    }
   ],
   "source": [
    "%%time\n",
    "histories[\"ResNet-20\"] += fit_one_cycle(epochs_res20, max_lr, model_res20, train_dl_res20, valid_dl_res20, \n",
    "                             grad_clip=grad_clip, \n",
    "                             weight_decay=weight_decay, \n",
    "                             opt_func=opt_func)"
   ]
  },
  {
   "cell_type": "markdown",
   "id": "crude-programming",
   "metadata": {},
   "source": [
    "## Graphs"
   ]
  },
  {
   "cell_type": "code",
   "execution_count": 20,
   "id": "pacific-executive",
   "metadata": {},
   "outputs": [],
   "source": [
    "def plot_accuracies(histories):\n",
    "    for resnet in  histories.keys():\n",
    "        history = histories[resnet]\n",
    "        accuracies = [x['val_acc'] for x in history]\n",
    "        plt.figure(figsize=(10,6))\n",
    "        plt.plot(accuracies, '-x')\n",
    "        plt.xlabel('epoch')\n",
    "        plt.ylabel('accuracy')\n",
    "        plt.title(f'{resnet} Accuracy vs. No. of epochs');\n",
    "    \n",
    "def plot_losses(histories):\n",
    "    for resnet in  histories.keys():\n",
    "        history = histories[resnet]\n",
    "        train_losses = [x.get('train_loss') for x in history]\n",
    "        val_losses = [x['val_loss'] for x in history]\n",
    "        plt.figure(figsize=(10,6))\n",
    "        plt.plot(train_losses, '-bx')\n",
    "        plt.plot(val_losses, '-rx')\n",
    "        plt.xlabel('epoch')\n",
    "        plt.ylabel('loss')\n",
    "        plt.legend(['Training', 'Validation'])\n",
    "        plt.title(f'{resnet} Loss vs. No. of epochs');\n",
    "    \n",
    "def plot_lrs(histories):\n",
    "    for resnet in  histories.keys():\n",
    "        history = histories[resnet]\n",
    "        lrs = np.concatenate([x.get('lrs', []) for x in history])\n",
    "        plt.figure(figsize=(10,6))\n",
    "        plt.plot(lrs)\n",
    "        plt.xlabel('Batch no.')\n",
    "        plt.ylabel('Learning rate')\n",
    "        plt.title(f'{resnet} Learning Rate vs. Batch no.');"
   ]
  },
  {
   "cell_type": "code",
   "execution_count": 21,
   "id": "proud-modem",
   "metadata": {},
   "outputs": [
    {
     "data": {
      "image/png": "[encoded data removed]",
      "text/plain": [
       "<Figure size 720x432 with 1 Axes>"
      ]
     },
     "metadata": {
      "needs_background": "light"
     },
     "output_type": "display_data"
    }
   ],
   "source": [
    "plot_accuracies(histories)"
   ]
  },
  {
   "cell_type": "code",
   "execution_count": 22,
   "id": "billion-learning",
   "metadata": {},
   "outputs": [
    {
     "data": {
      "image/png": "[encoded data removed]",
      "text/plain": [
       "<Figure size 720x432 with 1 Axes>"
      ]
     },
     "metadata": {
      "needs_background": "light"
     },
     "output_type": "display_data"
    }
   ],
   "source": [
    "plot_losses(histories)"
   ]
  },
  {
   "cell_type": "code",
   "execution_count": 23,
   "id": "cardiovascular-cheese",
   "metadata": {},
   "outputs": [
    {
     "data": {
      "image/png": "[encoded data removed]",
      "text/plain": [
       "<Figure size 720x432 with 1 Axes>"
      ]
     },
     "metadata": {
      "needs_background": "light"
     },
     "output_type": "display_data"
    }
   ],
   "source": [
    "plot_lrs(histories)"
   ]
  }
 ],
 "metadata": {
  "kernelspec": {
   "display_name": "Python 3",
   "language": "python",
   "name": "python3"
  },
  "language_info": {
   "codemirror_mode": {
    "name": "ipython",
    "version": 3
   },
   "file_extension": ".py",
   "mimetype": "text/x-python",
   "name": "python",
   "nbconvert_exporter": "python",
   "pygments_lexer": "ipython3",
   "version": "3.6.9"
  }
 },
 "nbformat": 4,
 "nbformat_minor": 5
}
