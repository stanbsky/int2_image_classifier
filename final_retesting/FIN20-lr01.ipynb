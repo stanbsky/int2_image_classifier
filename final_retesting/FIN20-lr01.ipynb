{
 "cells": [
  {
   "cell_type": "markdown",
   "id": "authorized-hunger",
   "metadata": {},
   "source": [
    "## Importing libraries"
   ]
  },
  {
   "cell_type": "code",
   "execution_count": 1,
   "id": "fallen-trading",
   "metadata": {},
   "outputs": [
    {
     "name": "stderr",
     "output_type": "stream",
     "text": [
      "Matplotlib created a temporary config/cache directory at /tmp/matplotlib-akt1o6bt because the default path (/run/user/141228/cache/matplotlib) is not a writable directory; it is highly recommended to set the MPLCONFIGDIR environment variable to a writable directory, in particular to speed up the import of Matplotlib and to better support multiprocessing.\n"
     ]
    }
   ],
   "source": [
    "import torch\n",
    "import torchvision\n",
    "from torchvision.datasets.utils import download_url\n",
    "from torch.utils.data import random_split\n",
    "from torchvision.datasets import ImageFolder\n",
    "from torchvision.transforms import ToTensor,ToPILImage\n",
    "import matplotlib.pyplot as plt\n",
    "from torchvision.utils import make_grid\n",
    "from torch.utils.data.dataloader import DataLoader\n",
    "from torchvision.utils import make_grid\n",
    "import torch.nn as nn\n",
    "import torch.nn.functional as F\n",
    "import torchvision.transforms as tt\n",
    "import numpy as np\n",
    "import torchvision.datasets as datasets"
   ]
  },
  {
   "cell_type": "markdown",
   "id": "fuzzy-energy",
   "metadata": {},
   "source": [
    "## Data and device loading"
   ]
  },
  {
   "cell_type": "code",
   "execution_count": 2,
   "id": "productive-scout",
   "metadata": {},
   "outputs": [],
   "source": [
    "torch.backends.cudnn.benchmark = True\n",
    "device = torch.device(\"cuda:0\" if torch.cuda.is_available() else \"cpu\")"
   ]
  },
  {
   "cell_type": "code",
   "execution_count": 3,
   "id": "universal-cable",
   "metadata": {},
   "outputs": [],
   "source": [
    "stats= ((0.4914,0.4822,0.4465),(0.2023,0.1994,0.2010)) #mean and std\n",
    "train_tfm= tt.Compose([tt.RandomCrop(32, padding=4, padding_mode='reflect'), # transormation of data together\n",
    "                       tt.RandomHorizontalFlip(),\n",
    "                       tt.ToTensor()])\n",
    "valid_tfm = tt.Compose([tt.ToTensor()])"
   ]
  },
  {
   "cell_type": "code",
   "execution_count": 4,
   "id": "compliant-equipment",
   "metadata": {},
   "outputs": [
    {
     "name": "stdout",
     "output_type": "stream",
     "text": [
      "Files already downloaded and verified\n"
     ]
    }
   ],
   "source": [
    "training_data = datasets.CIFAR10(\n",
    "    root=\"data\",\n",
    "    train=True,\n",
    "    download=True,\n",
    "    transform=train_tfm,\n",
    ")"
   ]
  },
  {
   "cell_type": "code",
   "execution_count": 5,
   "id": "early-boundary",
   "metadata": {},
   "outputs": [
    {
     "name": "stdout",
     "output_type": "stream",
     "text": [
      "Files already downloaded and verified\n"
     ]
    }
   ],
   "source": [
    "# Download test data from open datasets.\n",
    "test_data = datasets.CIFAR10(\n",
    "    root=\"data\",\n",
    "    train=False,\n",
    "    download=True,\n",
    "    transform=valid_tfm,\n",
    ")"
   ]
  },
  {
   "cell_type": "code",
   "execution_count": 6,
   "id": "overall-final",
   "metadata": {},
   "outputs": [
    {
     "data": {
      "text/plain": [
       "Dataset CIFAR10\n",
       "    Number of datapoints: 50000\n",
       "    Root location: data\n",
       "    Split: Train\n",
       "    StandardTransform\n",
       "Transform: Compose(\n",
       "               RandomCrop(size=(32, 32), padding=4)\n",
       "               RandomHorizontalFlip(p=0.5)\n",
       "               ToTensor()\n",
       "           )"
      ]
     },
     "execution_count": 6,
     "metadata": {},
     "output_type": "execute_result"
    }
   ],
   "source": [
    "valid_ds = test_data\n",
    "train_ds = training_data\n",
    "train_ds"
   ]
  },
  {
   "cell_type": "code",
   "execution_count": 7,
   "id": "former-involvement",
   "metadata": {},
   "outputs": [],
   "source": [
    "batch_size_res9=400\n",
    "batch_size_res20=400"
   ]
  },
  {
   "cell_type": "code",
   "execution_count": 8,
   "id": "normal-force",
   "metadata": {},
   "outputs": [],
   "source": [
    "# Dataloader to load data in batches(mini batch)\n",
    "train_dl_res9= DataLoader(train_ds,batch_size_res9,shuffle=True, num_workers=3, pin_memory=True) \n",
    "valid_dl_res9= DataLoader(valid_ds, batch_size_res9, num_workers=3,pin_memory=True) \n",
    "\n",
    "train_dl_res20= DataLoader(train_ds,batch_size_res20,shuffle=True, num_workers=3, pin_memory=True) \n",
    "valid_dl_res20= DataLoader(valid_ds, batch_size_res20, num_workers=3,pin_memory=True)"
   ]
  },
  {
   "cell_type": "code",
   "execution_count": 9,
   "id": "known-township",
   "metadata": {},
   "outputs": [],
   "source": [
    "def get_default_device():\n",
    "    \"\"\"Pick GPU if available, else CPU\"\"\"\n",
    "    if torch.cuda.is_available():\n",
    "        return torch.device('cuda')\n",
    "    else:\n",
    "        return torch.device('cpu')\n",
    "    \n",
    "def to_device(data, device):\n",
    "    \"\"\"Move tensor(s) to chosen device\"\"\"\n",
    "    if isinstance(data, (list,tuple)):\n",
    "        return [to_device(x, device) for x in data]\n",
    "    return data.to(device, non_blocking=True)\n",
    "\n",
    "class DeviceDataLoader():\n",
    "    \"\"\"Wrap a dataloader to move data to a device\"\"\"\n",
    "    def __init__(self, dl, device):\n",
    "        self.dl = dl\n",
    "        self.device = device\n",
    "        \n",
    "    def __iter__(self):\n",
    "        \"\"\"Yield a batch of data after moving it to device\"\"\"\n",
    "        for b in self.dl: \n",
    "            yield to_device(b, self.device)\n",
    "\n",
    "    def __len__(self):\n",
    "        \"\"\"Number of batches\"\"\"\n",
    "        return len(self.dl)"
   ]
  },
  {
   "cell_type": "code",
   "execution_count": 10,
   "id": "sweet-thumbnail",
   "metadata": {},
   "outputs": [],
   "source": [
    "train_dl_res9= DeviceDataLoader(train_dl_res9, device)\n",
    "valid_dl_res9 = DeviceDataLoader(valid_dl_res9, device)\n",
    "\n",
    "train_dl_res20= DeviceDataLoader(train_dl_res20, device)\n",
    "valid_dl_res20 = DeviceDataLoader(valid_dl_res20, device)"
   ]
  },
  {
   "cell_type": "markdown",
   "id": "speaking-system",
   "metadata": {},
   "source": [
    "## Training loop"
   ]
  },
  {
   "cell_type": "code",
   "execution_count": 11,
   "id": "mental-preservation",
   "metadata": {},
   "outputs": [],
   "source": [
    "def accuracy(outputs, labels):\n",
    "    _, preds = torch.max(outputs, dim=1)\n",
    "    return torch.tensor(torch.sum(preds == labels).item() / len(preds))\n",
    "\n",
    "class ImageClassificationBase(nn.Module):\n",
    "    def training_step(self, batch):\n",
    "        images, labels = batch \n",
    "        out = self(images)                  # Generate predictions\n",
    "        loss = F.cross_entropy(out, labels) # Calculate loss\n",
    "        return loss\n",
    "    \n",
    "    def validation_step(self, batch):\n",
    "        images, labels = batch \n",
    "        out = self(images)                    # Generate predictions\n",
    "        loss = F.cross_entropy(out, labels)   # Calculate loss\n",
    "        acc = accuracy(out, labels)           # Calculate accuracy\n",
    "        return {'val_loss': loss.detach(), 'val_acc': acc}\n",
    "        \n",
    "    def validation_epoch_end(self, outputs):\n",
    "        batch_losses = [x['val_loss'] for x in outputs]\n",
    "        epoch_loss = torch.stack(batch_losses).mean()   # Combine losses\n",
    "        batch_accs = [x['val_acc'] for x in outputs]\n",
    "        epoch_acc = torch.stack(batch_accs).mean()      # Combine accuracies\n",
    "        return {'val_loss': epoch_loss.item(), 'val_acc': epoch_acc.item()}\n",
    "    \n",
    "    def epoch_end(self, epoch, result):\n",
    "        print(\"Epoch [{}], train_loss: {:.4f}, val_loss: {:.4f}, val_acc: {:.4f}\".format(\n",
    "            epoch, result['train_loss'], result['val_loss'], result['val_acc']))"
   ]
  },
  {
   "cell_type": "markdown",
   "id": "incoming-contest",
   "metadata": {},
   "source": [
    "## Resnets"
   ]
  },
  {
   "cell_type": "code",
   "execution_count": 12,
   "id": "better-washington",
   "metadata": {},
   "outputs": [],
   "source": [
    "def conv_block_res9(in_channels, out_channels, pool=False):\n",
    "    layers = [nn.Conv2d(in_channels, out_channels, kernel_size=3, padding=1), \n",
    "              nn.BatchNorm2d(out_channels), \n",
    "              nn.ReLU(inplace=True)]\n",
    "    if pool: layers.append(nn.MaxPool2d(2))\n",
    "    return nn.Sequential(*layers)\n",
    "\n",
    "class ResNet9(ImageClassificationBase):\n",
    "    def __init__(self, in_channels, num_classes):\n",
    "        super().__init__()\n",
    "        \n",
    "        self.conv1 = conv_block_res9(in_channels, 64)\n",
    "        self.conv2 = conv_block_res9(64, 128, pool=True)\n",
    "        self.res1 = nn.Sequential(conv_block_res9(128, 128), conv_block_res9(128, 128))\n",
    "        \n",
    "        self.conv3 = conv_block_res9(128, 256, pool=True)\n",
    "        self.conv4 = conv_block_res9(256, 512, pool=True)\n",
    "        self.res2 = nn.Sequential(conv_block_res9(512, 512), conv_block_res9(512, 512))\n",
    "        \n",
    "        self.classifier = nn.Sequential(nn.MaxPool2d(4), \n",
    "                                        nn.Flatten(), \n",
    "                                        nn.Linear(512, num_classes))\n",
    "        \n",
    "    def forward(self, xb):\n",
    "        out = self.conv1(xb)\n",
    "        out = self.conv2(out)\n",
    "        out = self.res1(out) + out\n",
    "        out = self.conv3(out)\n",
    "        out = self.conv4(out)\n",
    "        out = self.res2(out) + out\n",
    "        out = self.classifier(out)\n",
    "        return out"
   ]
  },
  {
   "cell_type": "code",
   "execution_count": 13,
   "id": "unnecessary-apartment",
   "metadata": {},
   "outputs": [],
   "source": [
    "def conv_block_res20(in_channels, out_channels, stride=1):\n",
    "    layers = [nn.Conv2d(in_channels, out_channels, kernel_size=3, padding=1, stride=stride), \n",
    "              nn.BatchNorm2d(out_channels), \n",
    "              nn.ReLU(inplace=True)]\n",
    "    return nn.Sequential(*layers)\n",
    "\n",
    "def shortcut(in_channels, out_channels):\n",
    "    return nn.Conv2d(in_channels, out_channels, kernel_size=3, padding=1, stride=2)\n",
    "\n",
    "class ResNet20(ImageClassificationBase):\n",
    "    def __init__(self, in_channels, num_classes, n):\n",
    "        super().__init__()\n",
    "        \n",
    "        self.n = n\n",
    "        \n",
    "        # 32x32 map\n",
    "        self.conv1 = conv_block_res20(in_channels, 16)\n",
    "        self.reg32 = nn.Sequential(conv_block_res20(16,16), conv_block_res20(16,16))\n",
    "        \n",
    "        # 16x16 map\n",
    "        self.entry16 = nn.Sequential(conv_block_res20(16, 32, stride=2), conv_block_res20(32, 32))\n",
    "        self.short16 = shortcut(16, 32)\n",
    "        self.reg16 = nn.Sequential(conv_block_res20(32, 32), conv_block_res20(32, 32))\n",
    "        \n",
    "        # 8x8 map\n",
    "        self.entry8 = nn.Sequential(conv_block_res20(32, 64, stride=2), conv_block_res20(64, 64))\n",
    "        self.short8 = shortcut(32, 64)\n",
    "        self.reg8 = nn.Sequential(conv_block_res20(64, 64), conv_block_res20(64, 64))\n",
    "        \n",
    "        self.classifier = nn.Sequential(nn.AvgPool2d(kernel_size=8, stride=None, padding=0), \n",
    "                                        nn.Linear(64, num_classes),\n",
    "                                       nn.Softmax())\n",
    "        # FOR DEBUGGING\n",
    "        self.avg = nn.AvgPool2d(kernel_size=8, stride=None, padding=0)\n",
    "        self.flat = nn.Flatten()\n",
    "        self.fcl = nn.Linear(64, num_classes)\n",
    "        self.sm = nn.Softmax()\n",
    "        \n",
    "    def forward(self, xb):\n",
    "        out = self.conv1(xb)\n",
    "        \n",
    "        for i in range(self.n):\n",
    "            out = self.reg32(out) + out\n",
    "            \n",
    "        out = self.entry16(out) + self.short16(out)\n",
    "        for i in range(self.n - 1):\n",
    "            out = self.reg16(out) + out\n",
    "            \n",
    "        out = self.entry8(out) + self.short8(out)\n",
    "        for i in range(self.n - 1):\n",
    "            out = self.reg8(out) + out\n",
    "\n",
    "        #out = self.classifier(out)\n",
    "        out = self.avg(out)\n",
    "        out = self.flat(out)\n",
    "        out = self.fcl(out)\n",
    "        out = self.sm(out)\n",
    "        \n",
    "        return out"
   ]
  },
  {
   "cell_type": "markdown",
   "id": "surrounded-proxy",
   "metadata": {},
   "source": [
    "## Transfer to device"
   ]
  },
  {
   "cell_type": "code",
   "execution_count": 14,
   "id": "immune-journalism",
   "metadata": {},
   "outputs": [],
   "source": [
    "# model_res9 = to_device(ResNet9(3,10), device)\n",
    "model_res20 = to_device(ResNet20(3,10,3), device)"
   ]
  },
  {
   "cell_type": "code",
   "execution_count": 15,
   "id": "opponent-accuracy",
   "metadata": {},
   "outputs": [],
   "source": [
    "@torch.no_grad()\n",
    "def evaluate(model, val_loader):\n",
    "    model.eval()\n",
    "    outputs = [model.validation_step(batch) for batch in val_loader]\n",
    "    return model.validation_epoch_end(outputs)\n",
    "\n",
    "def get_lr(optimizer):\n",
    "    for param_group in optimizer.param_groups:\n",
    "        return param_group['lr']\n",
    "    \n",
    "def fit_one_cycle(epochs, max_lr, model, train_loader, val_loader, \n",
    "                  weight_decay=0, grad_clip=None, opt_func=torch.optim.SGD):\n",
    "    torch.cuda.empty_cache()  # Realsing cuda memory otherwise might get cuda out of memory error\n",
    "    history = []\n",
    "    \n",
    "    #custom optimizer with weight decay\n",
    "    optimizer = opt_func(model.parameters(), max_lr, weight_decay=weight_decay)\n",
    "    # Set up one-cycle learning rate scheduler\n",
    "    sched = torch.optim.lr_scheduler.OneCycleLR(optimizer, max_lr, epochs=epochs, \n",
    "                                                steps_per_epoch=len(train_loader))\n",
    "    \n",
    "    for epoch in range(epochs):\n",
    "        # Training Phase \n",
    "        model.train() #Setting training mode\n",
    "        train_losses = []\n",
    "        lrs = [] \n",
    "        for batch in train_loader:\n",
    "            loss = model.training_step(batch)\n",
    "            train_losses.append(loss)\n",
    "            loss.backward()\n",
    "            \n",
    "            # Gradient clipping\n",
    "            if grad_clip: \n",
    "                nn.utils.clip_grad_value_(model.parameters(), grad_clip)\n",
    "            \n",
    "            optimizer.step()\n",
    "            optimizer.zero_grad()\n",
    "            \n",
    "            # Record & update learning rate\n",
    "            lrs.append(get_lr(optimizer))\n",
    "            sched.step()\n",
    "        \n",
    "        # Validation phase\n",
    "        result = evaluate(model, val_loader) \n",
    "        result['train_loss'] = torch.stack(train_losses).mean().item()\n",
    "        result['lrs'] = lrs\n",
    "        model.epoch_end(epoch, result)\n",
    "        history.append(result)\n",
    "    return history"
   ]
  },
  {
   "cell_type": "code",
   "execution_count": 16,
   "id": "pressing-pencil",
   "metadata": {},
   "outputs": [],
   "source": [
    "# # Smoke test: if something's wrong with how we set up our model, we'll see it now\n",
    "# histories = {\"ResNet-9\": [evaluate(model_res9, valid_dl_res9)], \"ResNet-20\": [evaluate(model_res20, valid_dl_res20)]}\n",
    "\n",
    "# print(histories)"
   ]
  },
  {
   "cell_type": "markdown",
   "id": "stuffed-public",
   "metadata": {},
   "source": [
    "## Training"
   ]
  },
  {
   "cell_type": "code",
   "execution_count": 17,
   "id": "peripheral-winner",
   "metadata": {},
   "outputs": [],
   "source": [
    "epochs_res9 = 70\n",
    "epochs_res20 = 140\n",
    "histories = {\"ResNet-20\":[]}\n",
    "max_lr = 0.1\n",
    "grad_clip = 0.1\n",
    "weight_decay = 1e-4\n",
    "opt_func = torch.optim.Adam"
   ]
  },
  {
   "cell_type": "code",
   "execution_count": 18,
   "id": "received-gasoline",
   "metadata": {},
   "outputs": [],
   "source": [
    "# %%time\n",
    "# histories[\"ResNet-9\"] += fit_one_cycle(epochs_res9, max_lr, model_res9, train_dl_res9, valid_dl_res9, \n",
    "#                              grad_clip=grad_clip, \n",
    "#                              weight_decay=weight_decay, \n",
    "#                              opt_func=opt_func)"
   ]
  },
  {
   "cell_type": "code",
   "execution_count": 19,
   "id": "minor-registration",
   "metadata": {},
   "outputs": [
    {
     "name": "stderr",
     "output_type": "stream",
     "text": [
      "/home/userfs/s/sb2444/.local/lib/python3.6/site-packages/ipykernel_launcher.py:57: UserWarning: Implicit dimension choice for softmax has been deprecated. Change the call to include dim=X as an argument.\n"
     ]
    },
    {
     "name": "stdout",
     "output_type": "stream",
     "text": [
      "Epoch [0], train_loss: 2.1495, val_loss: 2.2351, val_acc: 0.2088\n",
      "Epoch [1], train_loss: 2.0691, val_loss: 2.1872, val_acc: 0.2623\n",
      "Epoch [2], train_loss: 2.0334, val_loss: 2.1119, val_acc: 0.3387\n",
      "Epoch [3], train_loss: 2.0043, val_loss: 2.0892, val_acc: 0.3661\n",
      "Epoch [4], train_loss: 1.9624, val_loss: 2.0504, val_acc: 0.4040\n",
      "Epoch [5], train_loss: 1.9396, val_loss: 2.0436, val_acc: 0.4125\n",
      "Epoch [6], train_loss: 1.9604, val_loss: 2.1508, val_acc: 0.3078\n",
      "Epoch [7], train_loss: 1.9815, val_loss: 2.1874, val_acc: 0.2710\n",
      "Epoch [8], train_loss: 2.0048, val_loss: 2.0997, val_acc: 0.3580\n",
      "Epoch [9], train_loss: 2.1134, val_loss: 2.2389, val_acc: 0.2216\n",
      "Epoch [10], train_loss: 2.2459, val_loss: 2.2126, val_acc: 0.2485\n",
      "Epoch [11], train_loss: 2.3076, val_loss: 2.3603, val_acc: 0.1008\n",
      "Epoch [12], train_loss: 2.3094, val_loss: 2.3008, val_acc: 0.1603\n",
      "Epoch [13], train_loss: 2.3089, val_loss: 2.3136, val_acc: 0.1475\n",
      "Epoch [14], train_loss: 2.3145, val_loss: 2.3230, val_acc: 0.1380\n",
      "Epoch [15], train_loss: 2.3490, val_loss: 2.3277, val_acc: 0.1334\n",
      "Epoch [16], train_loss: 2.3149, val_loss: 2.3068, val_acc: 0.1543\n",
      "Epoch [17], train_loss: 2.3210, val_loss: 2.3110, val_acc: 0.1501\n",
      "Epoch [18], train_loss: 2.3096, val_loss: 2.2981, val_acc: 0.1630\n",
      "Epoch [19], train_loss: 2.3359, val_loss: 2.3612, val_acc: 0.1000\n",
      "Epoch [20], train_loss: 2.3607, val_loss: 2.3612, val_acc: 0.1000\n",
      "Epoch [21], train_loss: 2.3612, val_loss: 2.3612, val_acc: 0.1000\n",
      "Epoch [22], train_loss: 2.3612, val_loss: 2.3612, val_acc: 0.1000\n",
      "Epoch [23], train_loss: 2.3594, val_loss: 2.3612, val_acc: 0.1000\n",
      "Epoch [24], train_loss: 2.3612, val_loss: 2.3610, val_acc: 0.1000\n",
      "Epoch [25], train_loss: 2.3611, val_loss: 2.3612, val_acc: 0.1000\n",
      "Epoch [26], train_loss: 2.3597, val_loss: 2.3612, val_acc: 0.1000\n",
      "Epoch [27], train_loss: 2.3612, val_loss: 2.3612, val_acc: 0.1000\n",
      "Epoch [28], train_loss: 2.3612, val_loss: 2.3612, val_acc: 0.1000\n",
      "Epoch [29], train_loss: 2.3568, val_loss: 2.3612, val_acc: 0.1000\n",
      "Epoch [30], train_loss: 2.3602, val_loss: 2.3612, val_acc: 0.1000\n",
      "Epoch [31], train_loss: 2.3612, val_loss: 2.3612, val_acc: 0.1000\n",
      "Epoch [32], train_loss: 2.3612, val_loss: 2.3612, val_acc: 0.1000\n",
      "Epoch [33], train_loss: 2.3612, val_loss: 2.3612, val_acc: 0.1000\n",
      "Epoch [34], train_loss: 2.3612, val_loss: 2.3617, val_acc: 0.1000\n",
      "Epoch [35], train_loss: 2.3612, val_loss: 2.3612, val_acc: 0.1000\n",
      "Epoch [36], train_loss: 2.3612, val_loss: 2.3612, val_acc: 0.1000\n",
      "Epoch [37], train_loss: 2.3612, val_loss: 2.3612, val_acc: 0.1000\n",
      "Epoch [38], train_loss: 2.3604, val_loss: 2.3612, val_acc: 0.1000\n",
      "Epoch [39], train_loss: 2.3615, val_loss: 2.3612, val_acc: 0.1000\n",
      "Epoch [40], train_loss: 2.3612, val_loss: 2.3612, val_acc: 0.1000\n",
      "Epoch [41], train_loss: 2.3621, val_loss: 2.3612, val_acc: 0.1000\n",
      "Epoch [42], train_loss: 2.3601, val_loss: 2.3612, val_acc: 0.1000\n",
      "Epoch [43], train_loss: 2.3603, val_loss: 2.3612, val_acc: 0.1000\n",
      "Epoch [44], train_loss: 2.3616, val_loss: 2.3612, val_acc: 0.1000\n",
      "Epoch [45], train_loss: 2.3550, val_loss: 2.3478, val_acc: 0.1133\n",
      "Epoch [46], train_loss: 2.3605, val_loss: 2.3612, val_acc: 0.1000\n",
      "Epoch [47], train_loss: 2.3614, val_loss: 2.3612, val_acc: 0.1000\n",
      "Epoch [48], train_loss: 2.3612, val_loss: 2.3612, val_acc: 0.1000\n",
      "Epoch [49], train_loss: 2.3612, val_loss: 2.3612, val_acc: 0.1000\n",
      "Epoch [50], train_loss: 2.3597, val_loss: 2.3612, val_acc: 0.1000\n",
      "Epoch [51], train_loss: 2.3619, val_loss: 2.3612, val_acc: 0.1000\n",
      "Epoch [52], train_loss: 2.3617, val_loss: 2.3612, val_acc: 0.1000\n",
      "Epoch [53], train_loss: 2.3612, val_loss: 2.3612, val_acc: 0.1000\n",
      "Epoch [54], train_loss: 2.3590, val_loss: 2.3612, val_acc: 0.1000\n",
      "Epoch [55], train_loss: 2.3611, val_loss: 2.3612, val_acc: 0.1000\n",
      "Epoch [56], train_loss: 2.3608, val_loss: 2.3612, val_acc: 0.1000\n",
      "Epoch [57], train_loss: 2.3612, val_loss: 2.3612, val_acc: 0.1000\n",
      "Epoch [58], train_loss: 2.3612, val_loss: 2.3611, val_acc: 0.1000\n",
      "Epoch [59], train_loss: 2.3604, val_loss: 2.3611, val_acc: 0.1000\n",
      "Epoch [60], train_loss: 2.3607, val_loss: 2.3612, val_acc: 0.1000\n",
      "Epoch [61], train_loss: 2.3610, val_loss: 2.3612, val_acc: 0.1000\n",
      "Epoch [62], train_loss: 2.3601, val_loss: 2.3612, val_acc: 0.1000\n",
      "Epoch [63], train_loss: 2.3606, val_loss: 2.3612, val_acc: 0.1000\n",
      "Epoch [64], train_loss: 2.3598, val_loss: 2.3612, val_acc: 0.1000\n",
      "Epoch [65], train_loss: 2.3609, val_loss: 2.3612, val_acc: 0.1000\n",
      "Epoch [66], train_loss: 2.3610, val_loss: 2.3612, val_acc: 0.1000\n",
      "Epoch [67], train_loss: 2.3588, val_loss: 2.3611, val_acc: 0.1000\n",
      "Epoch [68], train_loss: 2.3607, val_loss: 2.3612, val_acc: 0.1000\n",
      "Epoch [69], train_loss: 2.3611, val_loss: 2.3611, val_acc: 0.1000\n",
      "Epoch [70], train_loss: 2.3587, val_loss: 2.3612, val_acc: 0.1000\n",
      "Epoch [71], train_loss: 2.3621, val_loss: 2.3612, val_acc: 0.1000\n",
      "Epoch [72], train_loss: 2.3631, val_loss: 2.3612, val_acc: 0.1000\n",
      "Epoch [73], train_loss: 2.3611, val_loss: 2.3612, val_acc: 0.1000\n",
      "Epoch [74], train_loss: 2.3612, val_loss: 2.3612, val_acc: 0.1000\n",
      "Epoch [75], train_loss: 2.3612, val_loss: 2.3612, val_acc: 0.1000\n",
      "Epoch [76], train_loss: 2.3592, val_loss: 2.3612, val_acc: 0.1000\n",
      "Epoch [77], train_loss: 2.3611, val_loss: 2.3612, val_acc: 0.1000\n",
      "Epoch [78], train_loss: 2.3612, val_loss: 2.3612, val_acc: 0.1000\n",
      "Epoch [79], train_loss: 2.3612, val_loss: 2.3612, val_acc: 0.1000\n",
      "Epoch [80], train_loss: 2.3612, val_loss: 2.3612, val_acc: 0.1000\n",
      "Epoch [81], train_loss: 2.3578, val_loss: 2.3612, val_acc: 0.1000\n",
      "Epoch [82], train_loss: 2.3610, val_loss: 2.3612, val_acc: 0.1000\n",
      "Epoch [83], train_loss: 2.3604, val_loss: 2.3612, val_acc: 0.1000\n",
      "Epoch [84], train_loss: 2.3613, val_loss: 2.3612, val_acc: 0.1000\n",
      "Epoch [85], train_loss: 2.3603, val_loss: 2.3612, val_acc: 0.1000\n",
      "Epoch [86], train_loss: 2.3606, val_loss: 2.3612, val_acc: 0.1000\n",
      "Epoch [87], train_loss: 2.3612, val_loss: 2.3612, val_acc: 0.1000\n",
      "Epoch [88], train_loss: 2.3617, val_loss: 2.3612, val_acc: 0.1000\n",
      "Epoch [89], train_loss: 2.3594, val_loss: 2.3612, val_acc: 0.1000\n",
      "Epoch [90], train_loss: 2.3615, val_loss: 2.3612, val_acc: 0.1000\n",
      "Epoch [91], train_loss: 2.3625, val_loss: 2.3612, val_acc: 0.1000\n",
      "Epoch [92], train_loss: 2.3611, val_loss: 2.3612, val_acc: 0.1000\n",
      "Epoch [93], train_loss: 2.3612, val_loss: 2.3612, val_acc: 0.1000\n",
      "Epoch [94], train_loss: 2.3616, val_loss: 2.3612, val_acc: 0.1000\n",
      "Epoch [95], train_loss: 2.3504, val_loss: 2.3611, val_acc: 0.1000\n",
      "Epoch [96], train_loss: 2.3607, val_loss: 2.3612, val_acc: 0.1000\n",
      "Epoch [97], train_loss: 2.3629, val_loss: 2.3612, val_acc: 0.1000\n",
      "Epoch [98], train_loss: 2.3604, val_loss: 2.3612, val_acc: 0.1000\n",
      "Epoch [99], train_loss: 2.3612, val_loss: 2.3612, val_acc: 0.1000\n",
      "Epoch [100], train_loss: 2.3608, val_loss: 2.3612, val_acc: 0.1000\n",
      "Epoch [101], train_loss: 2.3612, val_loss: 2.3612, val_acc: 0.1000\n",
      "Epoch [102], train_loss: 2.3612, val_loss: 2.3612, val_acc: 0.1000\n",
      "Epoch [103], train_loss: 2.3611, val_loss: 2.3612, val_acc: 0.1000\n",
      "Epoch [104], train_loss: 2.3612, val_loss: 2.3612, val_acc: 0.1000\n",
      "Epoch [105], train_loss: 2.3561, val_loss: 2.3612, val_acc: 0.1000\n",
      "Epoch [106], train_loss: 2.3612, val_loss: 2.3612, val_acc: 0.1000\n",
      "Epoch [107], train_loss: 2.3605, val_loss: 2.3612, val_acc: 0.1000\n",
      "Epoch [108], train_loss: 2.3608, val_loss: 2.3612, val_acc: 0.1000\n",
      "Epoch [109], train_loss: 2.3612, val_loss: 2.3612, val_acc: 0.1000\n",
      "Epoch [110], train_loss: 2.3612, val_loss: 2.3612, val_acc: 0.1000\n",
      "Epoch [111], train_loss: 2.3600, val_loss: 2.3612, val_acc: 0.1000\n",
      "Epoch [112], train_loss: 2.3619, val_loss: 2.3612, val_acc: 0.1000\n",
      "Epoch [113], train_loss: 2.3597, val_loss: 2.3612, val_acc: 0.1000\n",
      "Epoch [114], train_loss: 2.3612, val_loss: 2.3612, val_acc: 0.1000\n",
      "Epoch [115], train_loss: 2.3612, val_loss: 2.3612, val_acc: 0.1000\n",
      "Epoch [116], train_loss: 2.3611, val_loss: 2.3611, val_acc: 0.1000\n",
      "Epoch [117], train_loss: 2.3604, val_loss: 2.3612, val_acc: 0.1000\n",
      "Epoch [118], train_loss: 2.3612, val_loss: 2.3611, val_acc: 0.1000\n",
      "Epoch [119], train_loss: 2.3288, val_loss: 2.3061, val_acc: 0.1000\n",
      "Epoch [120], train_loss: 2.3042, val_loss: 2.3033, val_acc: 0.1000\n",
      "Epoch [121], train_loss: 2.3029, val_loss: 2.3026, val_acc: 0.1000\n",
      "Epoch [122], train_loss: 2.3028, val_loss: 2.3026, val_acc: 0.1000\n",
      "Epoch [123], train_loss: 2.3027, val_loss: 2.3026, val_acc: 0.1000\n",
      "Epoch [124], train_loss: 2.3027, val_loss: 2.3026, val_acc: 0.1000\n",
      "Epoch [125], train_loss: 2.3026, val_loss: 2.3026, val_acc: 0.1000\n",
      "Epoch [126], train_loss: 2.3026, val_loss: 2.3026, val_acc: 0.1000\n",
      "Epoch [127], train_loss: 2.3026, val_loss: 2.3026, val_acc: 0.1000\n",
      "Epoch [128], train_loss: 2.3026, val_loss: 2.3026, val_acc: 0.1000\n",
      "Epoch [129], train_loss: 2.3026, val_loss: 2.3026, val_acc: 0.1000\n",
      "Epoch [130], train_loss: 2.3026, val_loss: 2.3026, val_acc: 0.1000\n",
      "Epoch [131], train_loss: 2.3026, val_loss: 2.3026, val_acc: 0.1000\n",
      "Epoch [132], train_loss: 2.3026, val_loss: 2.3026, val_acc: 0.1000\n",
      "Epoch [133], train_loss: 2.3026, val_loss: 2.3026, val_acc: 0.1000\n",
      "Epoch [134], train_loss: 2.3026, val_loss: 2.3026, val_acc: 0.1000\n",
      "Epoch [135], train_loss: 2.3026, val_loss: 2.3026, val_acc: 0.1000\n",
      "Epoch [136], train_loss: 2.3026, val_loss: 2.3026, val_acc: 0.1000\n",
      "Epoch [137], train_loss: 2.3026, val_loss: 2.3026, val_acc: 0.1000\n",
      "Epoch [138], train_loss: 2.3026, val_loss: 2.3026, val_acc: 0.1000\n",
      "Epoch [139], train_loss: 2.3026, val_loss: 2.3026, val_acc: 0.1000\n",
      "CPU times: user 11min 1s, sys: 1min 18s, total: 12min 20s\n",
      "Wall time: 26min 10s\n"
     ]
    }
   ],
   "source": [
    "%%time\n",
    "histories[\"ResNet-20\"] += fit_one_cycle(epochs_res20, max_lr, model_res20, train_dl_res20, valid_dl_res20, \n",
    "                             grad_clip=grad_clip, \n",
    "                             weight_decay=weight_decay, \n",
    "                             opt_func=opt_func)"
   ]
  },
  {
   "cell_type": "markdown",
   "id": "rising-laptop",
   "metadata": {},
   "source": [
    "## Graphs"
   ]
  },
  {
   "cell_type": "code",
   "execution_count": 20,
   "id": "educational-comment",
   "metadata": {},
   "outputs": [],
   "source": [
    "def plot_accuracies(histories):\n",
    "    for resnet in  histories.keys():\n",
    "        history = histories[resnet]\n",
    "        accuracies = [x['val_acc'] for x in history]\n",
    "        plt.figure(figsize=(10,6))\n",
    "        plt.plot(accuracies, '-x')\n",
    "        plt.xlabel('epoch')\n",
    "        plt.ylabel('accuracy')\n",
    "        plt.title(f'{resnet} Accuracy vs. No. of epochs');\n",
    "    \n",
    "def plot_losses(histories):\n",
    "    for resnet in  histories.keys():\n",
    "        history = histories[resnet]\n",
    "        train_losses = [x.get('train_loss') for x in history]\n",
    "        val_losses = [x['val_loss'] for x in history]\n",
    "        plt.figure(figsize=(10,6))\n",
    "        plt.plot(train_losses, '-bx')\n",
    "        plt.plot(val_losses, '-rx')\n",
    "        plt.xlabel('epoch')\n",
    "        plt.ylabel('loss')\n",
    "        plt.legend(['Training', 'Validation'])\n",
    "        plt.title(f'{resnet} Loss vs. No. of epochs');\n",
    "    \n",
    "def plot_lrs(histories):\n",
    "    for resnet in  histories.keys():\n",
    "        history = histories[resnet]\n",
    "        lrs = np.concatenate([x.get('lrs', []) for x in history])\n",
    "        plt.figure(figsize=(10,6))\n",
    "        plt.plot(lrs)\n",
    "        plt.xlabel('Batch no.')\n",
    "        plt.ylabel('Learning rate')\n",
    "        plt.title(f'{resnet} Learning Rate vs. Batch no.');"
   ]
  },
  {
   "cell_type": "code",
   "execution_count": 21,
   "id": "outstanding-prison",
   "metadata": {},
   "outputs": [
    {
     "data": {
      "image/png": "[encoded data removed]",
      "text/plain": [
       "<Figure size 720x432 with 1 Axes>"
      ]
     },
     "metadata": {
      "needs_background": "light"
     },
     "output_type": "display_data"
    }
   ],
   "source": [
    "plot_accuracies(histories)"
   ]
  },
  {
   "cell_type": "code",
   "execution_count": 22,
   "id": "previous-caution",
   "metadata": {},
   "outputs": [
    {
     "data": {
      "image/png": "[encoded data removed]",
      "text/plain": [
       "<Figure size 720x432 with 1 Axes>"
      ]
     },
     "metadata": {
      "needs_background": "light"
     },
     "output_type": "display_data"
    }
   ],
   "source": [
    "plot_losses(histories)"
   ]
  },
  {
   "cell_type": "code",
   "execution_count": 23,
   "id": "connected-excitement",
   "metadata": {},
   "outputs": [
    {
     "data": {
      "image/png": "[encoded data removed]",
      "text/plain": [
       "<Figure size 720x432 with 1 Axes>"
      ]
     },
     "metadata": {
      "needs_background": "light"
     },
     "output_type": "display_data"
    }
   ],
   "source": [
    "plot_lrs(histories)"
   ]
  }
 ],
 "metadata": {
  "kernelspec": {
   "display_name": "Python 3",
   "language": "python",
   "name": "python3"
  },
  "language_info": {
   "codemirror_mode": {
    "name": "ipython",
    "version": 3
   },
   "file_extension": ".py",
   "mimetype": "text/x-python",
   "name": "python",
   "nbconvert_exporter": "python",
   "pygments_lexer": "ipython3",
   "version": "3.6.9"
  }
 },
 "nbformat": 4,
 "nbformat_minor": 5
}
