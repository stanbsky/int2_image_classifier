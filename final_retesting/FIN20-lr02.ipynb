{
 "cells": [
  {
   "cell_type": "markdown",
   "id": "passive-track",
   "metadata": {},
   "source": [
    "## Importing libraries"
   ]
  },
  {
   "cell_type": "code",
   "execution_count": 1,
   "id": "weird-admission",
   "metadata": {},
   "outputs": [
    {
     "name": "stderr",
     "output_type": "stream",
     "text": [
      "Matplotlib created a temporary config/cache directory at /tmp/matplotlib-k_5jipq5 because the default path (/run/user/141228/cache/matplotlib) is not a writable directory; it is highly recommended to set the MPLCONFIGDIR environment variable to a writable directory, in particular to speed up the import of Matplotlib and to better support multiprocessing.\n"
     ]
    }
   ],
   "source": [
    "import torch\n",
    "import torchvision\n",
    "from torchvision.datasets.utils import download_url\n",
    "from torch.utils.data import random_split\n",
    "from torchvision.datasets import ImageFolder\n",
    "from torchvision.transforms import ToTensor,ToPILImage\n",
    "import matplotlib.pyplot as plt\n",
    "from torchvision.utils import make_grid\n",
    "from torch.utils.data.dataloader import DataLoader\n",
    "from torchvision.utils import make_grid\n",
    "import torch.nn as nn\n",
    "import torch.nn.functional as F\n",
    "import torchvision.transforms as tt\n",
    "import numpy as np\n",
    "import torchvision.datasets as datasets"
   ]
  },
  {
   "cell_type": "markdown",
   "id": "capable-theater",
   "metadata": {},
   "source": [
    "## Data and device loading"
   ]
  },
  {
   "cell_type": "code",
   "execution_count": 2,
   "id": "vertical-consultation",
   "metadata": {},
   "outputs": [],
   "source": [
    "torch.backends.cudnn.benchmark = True\n",
    "device = torch.device(\"cuda:3\" if torch.cuda.is_available() else \"cpu\")"
   ]
  },
  {
   "cell_type": "code",
   "execution_count": 3,
   "id": "dependent-implement",
   "metadata": {},
   "outputs": [],
   "source": [
    "stats= ((0.4914,0.4822,0.4465),(0.2023,0.1994,0.2010)) #mean and std\n",
    "train_tfm= tt.Compose([tt.RandomCrop(32, padding=4, padding_mode='reflect'), # transormation of data together\n",
    "                       tt.RandomHorizontalFlip(),\n",
    "                       tt.ToTensor()])\n",
    "valid_tfm = tt.Compose([tt.ToTensor()])"
   ]
  },
  {
   "cell_type": "code",
   "execution_count": 4,
   "id": "subjective-composition",
   "metadata": {},
   "outputs": [
    {
     "name": "stdout",
     "output_type": "stream",
     "text": [
      "Files already downloaded and verified\n"
     ]
    }
   ],
   "source": [
    "training_data = datasets.CIFAR10(\n",
    "    root=\"data\",\n",
    "    train=True,\n",
    "    download=True,\n",
    "    transform=train_tfm,\n",
    ")"
   ]
  },
  {
   "cell_type": "code",
   "execution_count": 5,
   "id": "designing-robert",
   "metadata": {},
   "outputs": [
    {
     "name": "stdout",
     "output_type": "stream",
     "text": [
      "Files already downloaded and verified\n"
     ]
    }
   ],
   "source": [
    "# Download test data from open datasets.\n",
    "test_data = datasets.CIFAR10(\n",
    "    root=\"data\",\n",
    "    train=False,\n",
    "    download=True,\n",
    "    transform=valid_tfm,\n",
    ")"
   ]
  },
  {
   "cell_type": "code",
   "execution_count": 6,
   "id": "breathing-poetry",
   "metadata": {},
   "outputs": [
    {
     "data": {
      "text/plain": [
       "Dataset CIFAR10\n",
       "    Number of datapoints: 50000\n",
       "    Root location: data\n",
       "    Split: Train\n",
       "    StandardTransform\n",
       "Transform: Compose(\n",
       "               RandomCrop(size=(32, 32), padding=4)\n",
       "               RandomHorizontalFlip(p=0.5)\n",
       "               ToTensor()\n",
       "           )"
      ]
     },
     "execution_count": 6,
     "metadata": {},
     "output_type": "execute_result"
    }
   ],
   "source": [
    "valid_ds = test_data\n",
    "train_ds = training_data\n",
    "train_ds"
   ]
  },
  {
   "cell_type": "code",
   "execution_count": 7,
   "id": "commercial-ordering",
   "metadata": {},
   "outputs": [],
   "source": [
    "batch_size_res9=400\n",
    "batch_size_res20=400"
   ]
  },
  {
   "cell_type": "code",
   "execution_count": 8,
   "id": "sealed-import",
   "metadata": {},
   "outputs": [],
   "source": [
    "# Dataloader to load data in batches(mini batch)\n",
    "train_dl_res9= DataLoader(train_ds,batch_size_res9,shuffle=True, num_workers=3, pin_memory=True) \n",
    "valid_dl_res9= DataLoader(valid_ds, batch_size_res9, num_workers=3,pin_memory=True) \n",
    "\n",
    "train_dl_res20= DataLoader(train_ds,batch_size_res20,shuffle=True, num_workers=3, pin_memory=True) \n",
    "valid_dl_res20= DataLoader(valid_ds, batch_size_res20, num_workers=3,pin_memory=True)"
   ]
  },
  {
   "cell_type": "code",
   "execution_count": 9,
   "id": "separate-girlfriend",
   "metadata": {},
   "outputs": [],
   "source": [
    "def get_default_device():\n",
    "    \"\"\"Pick GPU if available, else CPU\"\"\"\n",
    "    if torch.cuda.is_available():\n",
    "        return torch.device('cuda')\n",
    "    else:\n",
    "        return torch.device('cpu')\n",
    "    \n",
    "def to_device(data, device):\n",
    "    \"\"\"Move tensor(s) to chosen device\"\"\"\n",
    "    if isinstance(data, (list,tuple)):\n",
    "        return [to_device(x, device) for x in data]\n",
    "    return data.to(device, non_blocking=True)\n",
    "\n",
    "class DeviceDataLoader():\n",
    "    \"\"\"Wrap a dataloader to move data to a device\"\"\"\n",
    "    def __init__(self, dl, device):\n",
    "        self.dl = dl\n",
    "        self.device = device\n",
    "        \n",
    "    def __iter__(self):\n",
    "        \"\"\"Yield a batch of data after moving it to device\"\"\"\n",
    "        for b in self.dl: \n",
    "            yield to_device(b, self.device)\n",
    "\n",
    "    def __len__(self):\n",
    "        \"\"\"Number of batches\"\"\"\n",
    "        return len(self.dl)"
   ]
  },
  {
   "cell_type": "code",
   "execution_count": 10,
   "id": "growing-completion",
   "metadata": {},
   "outputs": [],
   "source": [
    "train_dl_res9= DeviceDataLoader(train_dl_res9, device)\n",
    "valid_dl_res9 = DeviceDataLoader(valid_dl_res9, device)\n",
    "\n",
    "train_dl_res20= DeviceDataLoader(train_dl_res20, device)\n",
    "valid_dl_res20 = DeviceDataLoader(valid_dl_res20, device)"
   ]
  },
  {
   "cell_type": "markdown",
   "id": "dirty-product",
   "metadata": {},
   "source": [
    "## Training loop"
   ]
  },
  {
   "cell_type": "code",
   "execution_count": 11,
   "id": "vital-employee",
   "metadata": {},
   "outputs": [],
   "source": [
    "def accuracy(outputs, labels):\n",
    "    _, preds = torch.max(outputs, dim=1)\n",
    "    return torch.tensor(torch.sum(preds == labels).item() / len(preds))\n",
    "\n",
    "class ImageClassificationBase(nn.Module):\n",
    "    def training_step(self, batch):\n",
    "        images, labels = batch \n",
    "        out = self(images)                  # Generate predictions\n",
    "        loss = F.cross_entropy(out, labels) # Calculate loss\n",
    "        return loss\n",
    "    \n",
    "    def validation_step(self, batch):\n",
    "        images, labels = batch \n",
    "        out = self(images)                    # Generate predictions\n",
    "        loss = F.cross_entropy(out, labels)   # Calculate loss\n",
    "        acc = accuracy(out, labels)           # Calculate accuracy\n",
    "        return {'val_loss': loss.detach(), 'val_acc': acc}\n",
    "        \n",
    "    def validation_epoch_end(self, outputs):\n",
    "        batch_losses = [x['val_loss'] for x in outputs]\n",
    "        epoch_loss = torch.stack(batch_losses).mean()   # Combine losses\n",
    "        batch_accs = [x['val_acc'] for x in outputs]\n",
    "        epoch_acc = torch.stack(batch_accs).mean()      # Combine accuracies\n",
    "        return {'val_loss': epoch_loss.item(), 'val_acc': epoch_acc.item()}\n",
    "    \n",
    "    def epoch_end(self, epoch, result):\n",
    "        print(\"Epoch [{}], train_loss: {:.4f}, val_loss: {:.4f}, val_acc: {:.4f}\".format(\n",
    "            epoch, result['train_loss'], result['val_loss'], result['val_acc']))"
   ]
  },
  {
   "cell_type": "markdown",
   "id": "cloudy-market",
   "metadata": {},
   "source": [
    "## Resnets"
   ]
  },
  {
   "cell_type": "code",
   "execution_count": 12,
   "id": "classified-amazon",
   "metadata": {},
   "outputs": [],
   "source": [
    "def conv_block_res9(in_channels, out_channels, pool=False):\n",
    "    layers = [nn.Conv2d(in_channels, out_channels, kernel_size=3, padding=1), \n",
    "              nn.BatchNorm2d(out_channels), \n",
    "              nn.ReLU(inplace=True)]\n",
    "    if pool: layers.append(nn.MaxPool2d(2))\n",
    "    return nn.Sequential(*layers)\n",
    "\n",
    "class ResNet9(ImageClassificationBase):\n",
    "    def __init__(self, in_channels, num_classes):\n",
    "        super().__init__()\n",
    "        \n",
    "        self.conv1 = conv_block_res9(in_channels, 64)\n",
    "        self.conv2 = conv_block_res9(64, 128, pool=True)\n",
    "        self.res1 = nn.Sequential(conv_block_res9(128, 128), conv_block_res9(128, 128))\n",
    "        \n",
    "        self.conv3 = conv_block_res9(128, 256, pool=True)\n",
    "        self.conv4 = conv_block_res9(256, 512, pool=True)\n",
    "        self.res2 = nn.Sequential(conv_block_res9(512, 512), conv_block_res9(512, 512))\n",
    "        \n",
    "        self.classifier = nn.Sequential(nn.MaxPool2d(4), \n",
    "                                        nn.Flatten(), \n",
    "                                        nn.Linear(512, num_classes))\n",
    "        \n",
    "    def forward(self, xb):\n",
    "        out = self.conv1(xb)\n",
    "        out = self.conv2(out)\n",
    "        out = self.res1(out) + out\n",
    "        out = self.conv3(out)\n",
    "        out = self.conv4(out)\n",
    "        out = self.res2(out) + out\n",
    "        out = self.classifier(out)\n",
    "        return out"
   ]
  },
  {
   "cell_type": "code",
   "execution_count": 13,
   "id": "reserved-alfred",
   "metadata": {},
   "outputs": [],
   "source": [
    "def conv_block_res20(in_channels, out_channels, stride=1):\n",
    "    layers = [nn.Conv2d(in_channels, out_channels, kernel_size=3, padding=1, stride=stride), \n",
    "              nn.BatchNorm2d(out_channels), \n",
    "              nn.ReLU(inplace=True)]\n",
    "    return nn.Sequential(*layers)\n",
    "\n",
    "def shortcut(in_channels, out_channels):\n",
    "    return nn.Conv2d(in_channels, out_channels, kernel_size=3, padding=1, stride=2)\n",
    "\n",
    "class ResNet20(ImageClassificationBase):\n",
    "    def __init__(self, in_channels, num_classes, n):\n",
    "        super().__init__()\n",
    "        \n",
    "        self.n = n\n",
    "        \n",
    "        # 32x32 map\n",
    "        self.conv1 = conv_block_res20(in_channels, 16)\n",
    "        self.reg32 = nn.Sequential(conv_block_res20(16,16), conv_block_res20(16,16))\n",
    "        \n",
    "        # 16x16 map\n",
    "        self.entry16 = nn.Sequential(conv_block_res20(16, 32, stride=2), conv_block_res20(32, 32))\n",
    "        self.short16 = shortcut(16, 32)\n",
    "        self.reg16 = nn.Sequential(conv_block_res20(32, 32), conv_block_res20(32, 32))\n",
    "        \n",
    "        # 8x8 map\n",
    "        self.entry8 = nn.Sequential(conv_block_res20(32, 64, stride=2), conv_block_res20(64, 64))\n",
    "        self.short8 = shortcut(32, 64)\n",
    "        self.reg8 = nn.Sequential(conv_block_res20(64, 64), conv_block_res20(64, 64))\n",
    "        \n",
    "        self.classifier = nn.Sequential(nn.AvgPool2d(kernel_size=8, stride=None, padding=0), \n",
    "                                        nn.Linear(64, num_classes),\n",
    "                                       nn.Softmax())\n",
    "        # FOR DEBUGGING\n",
    "        self.avg = nn.AvgPool2d(kernel_size=8, stride=None, padding=0)\n",
    "        self.flat = nn.Flatten()\n",
    "        self.fcl = nn.Linear(64, num_classes)\n",
    "        self.sm = nn.Softmax()\n",
    "        \n",
    "    def forward(self, xb):\n",
    "        out = self.conv1(xb)\n",
    "        \n",
    "        for i in range(self.n):\n",
    "            out = self.reg32(out) + out\n",
    "            \n",
    "        out = self.entry16(out) + self.short16(out)\n",
    "        for i in range(self.n - 1):\n",
    "            out = self.reg16(out) + out\n",
    "            \n",
    "        out = self.entry8(out) + self.short8(out)\n",
    "        for i in range(self.n - 1):\n",
    "            out = self.reg8(out) + out\n",
    "\n",
    "        #out = self.classifier(out)\n",
    "        out = self.avg(out)\n",
    "        out = self.flat(out)\n",
    "        out = self.fcl(out)\n",
    "        out = self.sm(out)\n",
    "        \n",
    "        return out"
   ]
  },
  {
   "cell_type": "markdown",
   "id": "enormous-aggregate",
   "metadata": {},
   "source": [
    "## Transfer to device"
   ]
  },
  {
   "cell_type": "code",
   "execution_count": 14,
   "id": "sunset-armstrong",
   "metadata": {},
   "outputs": [],
   "source": [
    "# model_res9 = to_device(ResNet9(3,10), device)\n",
    "model_res20 = to_device(ResNet20(3,10,3), device)"
   ]
  },
  {
   "cell_type": "code",
   "execution_count": 15,
   "id": "better-emission",
   "metadata": {},
   "outputs": [],
   "source": [
    "@torch.no_grad()\n",
    "def evaluate(model, val_loader):\n",
    "    model.eval()\n",
    "    outputs = [model.validation_step(batch) for batch in val_loader]\n",
    "    return model.validation_epoch_end(outputs)\n",
    "\n",
    "def get_lr(optimizer):\n",
    "    for param_group in optimizer.param_groups:\n",
    "        return param_group['lr']\n",
    "    \n",
    "def fit_one_cycle(epochs, max_lr, model, train_loader, val_loader, \n",
    "                  weight_decay=0, grad_clip=None, opt_func=torch.optim.SGD):\n",
    "    torch.cuda.empty_cache()  # Realsing cuda memory otherwise might get cuda out of memory error\n",
    "    history = []\n",
    "    \n",
    "    #custom optimizer with weight decay\n",
    "    optimizer = opt_func(model.parameters(), max_lr, weight_decay=weight_decay)\n",
    "    # Set up one-cycle learning rate scheduler\n",
    "    sched = torch.optim.lr_scheduler.OneCycleLR(optimizer, max_lr, epochs=epochs, \n",
    "                                                steps_per_epoch=len(train_loader))\n",
    "    \n",
    "    for epoch in range(epochs):\n",
    "        # Training Phase \n",
    "        model.train() #Setting training mode\n",
    "        train_losses = []\n",
    "        lrs = [] \n",
    "        for batch in train_loader:\n",
    "            loss = model.training_step(batch)\n",
    "            train_losses.append(loss)\n",
    "            loss.backward()\n",
    "            \n",
    "            # Gradient clipping\n",
    "            if grad_clip: \n",
    "                nn.utils.clip_grad_value_(model.parameters(), grad_clip)\n",
    "            \n",
    "            optimizer.step()\n",
    "            optimizer.zero_grad()\n",
    "            \n",
    "            # Record & update learning rate\n",
    "            lrs.append(get_lr(optimizer))\n",
    "            sched.step()\n",
    "        \n",
    "        # Validation phase\n",
    "        result = evaluate(model, val_loader) \n",
    "        result['train_loss'] = torch.stack(train_losses).mean().item()\n",
    "        result['lrs'] = lrs\n",
    "        model.epoch_end(epoch, result)\n",
    "        history.append(result)\n",
    "    return history"
   ]
  },
  {
   "cell_type": "code",
   "execution_count": 16,
   "id": "indoor-calibration",
   "metadata": {},
   "outputs": [],
   "source": [
    "# # Smoke test: if something's wrong with how we set up our model, we'll see it now\n",
    "# histories = {\"ResNet-9\": [evaluate(model_res9, valid_dl_res9)], \"ResNet-20\": [evaluate(model_res20, valid_dl_res20)]}\n",
    "\n",
    "# print(histories)"
   ]
  },
  {
   "cell_type": "markdown",
   "id": "southeast-division",
   "metadata": {},
   "source": [
    "## Training"
   ]
  },
  {
   "cell_type": "code",
   "execution_count": 17,
   "id": "tired-notion",
   "metadata": {},
   "outputs": [],
   "source": [
    "epochs_res9 = 70\n",
    "epochs_res20 = 140\n",
    "histories = {\"ResNet-20\":[]}\n",
    "max_lr = 0.02\n",
    "grad_clip = 0.1\n",
    "weight_decay = 1e-4\n",
    "opt_func = torch.optim.Adam"
   ]
  },
  {
   "cell_type": "code",
   "execution_count": 18,
   "id": "ranking-university",
   "metadata": {},
   "outputs": [],
   "source": [
    "# %%time\n",
    "# histories[\"ResNet-9\"] += fit_one_cycle(epochs_res9, max_lr, model_res9, train_dl_res9, valid_dl_res9, \n",
    "#                              grad_clip=grad_clip, \n",
    "#                              weight_decay=weight_decay, \n",
    "#                              opt_func=opt_func)"
   ]
  },
  {
   "cell_type": "code",
   "execution_count": 19,
   "id": "sized-juice",
   "metadata": {},
   "outputs": [
    {
     "name": "stderr",
     "output_type": "stream",
     "text": [
      "/home/userfs/s/sb2444/.local/lib/python3.6/site-packages/ipykernel_launcher.py:57: UserWarning: Implicit dimension choice for softmax has been deprecated. Change the call to include dim=X as an argument.\n"
     ]
    },
    {
     "name": "stdout",
     "output_type": "stream",
     "text": [
      "Epoch [0], train_loss: 2.1116, val_loss: 2.1436, val_acc: 0.3032\n",
      "Epoch [1], train_loss: 2.0111, val_loss: 2.0786, val_acc: 0.3741\n",
      "Epoch [2], train_loss: 1.9484, val_loss: 2.0866, val_acc: 0.3668\n",
      "Epoch [3], train_loss: 1.9143, val_loss: 2.1059, val_acc: 0.3452\n",
      "Epoch [4], train_loss: 1.8771, val_loss: 2.1755, val_acc: 0.2755\n",
      "Epoch [5], train_loss: 1.8607, val_loss: 2.0472, val_acc: 0.4083\n",
      "Epoch [6], train_loss: 1.8396, val_loss: 1.9248, val_acc: 0.5349\n",
      "Epoch [7], train_loss: 1.8373, val_loss: 1.9764, val_acc: 0.4780\n",
      "Epoch [8], train_loss: 1.8278, val_loss: 1.9818, val_acc: 0.4739\n",
      "Epoch [9], train_loss: 1.8183, val_loss: 2.0515, val_acc: 0.4016\n",
      "Epoch [10], train_loss: 1.8175, val_loss: 2.0640, val_acc: 0.3935\n",
      "Epoch [11], train_loss: 1.8132, val_loss: 2.1366, val_acc: 0.3209\n",
      "Epoch [12], train_loss: 1.8107, val_loss: 2.1067, val_acc: 0.3491\n",
      "Epoch [13], train_loss: 1.8071, val_loss: 1.9938, val_acc: 0.4631\n",
      "Epoch [14], train_loss: 1.8001, val_loss: 2.0750, val_acc: 0.3829\n",
      "Epoch [15], train_loss: 1.8045, val_loss: 2.0508, val_acc: 0.4035\n",
      "Epoch [16], train_loss: 1.7987, val_loss: 1.8445, val_acc: 0.6152\n",
      "Epoch [17], train_loss: 1.8062, val_loss: 2.1244, val_acc: 0.3309\n",
      "Epoch [18], train_loss: 1.8092, val_loss: 2.0703, val_acc: 0.3854\n",
      "Epoch [19], train_loss: 1.8195, val_loss: 2.0011, val_acc: 0.4566\n",
      "Epoch [20], train_loss: 1.8173, val_loss: 2.0118, val_acc: 0.4448\n",
      "Epoch [21], train_loss: 1.8179, val_loss: 1.9237, val_acc: 0.5362\n",
      "Epoch [22], train_loss: 1.8497, val_loss: 1.8693, val_acc: 0.5894\n",
      "Epoch [23], train_loss: 1.8398, val_loss: 1.9277, val_acc: 0.5297\n",
      "Epoch [24], train_loss: 1.8540, val_loss: 2.1589, val_acc: 0.2998\n",
      "Epoch [25], train_loss: 1.8581, val_loss: 2.1027, val_acc: 0.3554\n",
      "Epoch [26], train_loss: 1.8740, val_loss: 1.9412, val_acc: 0.5165\n",
      "Epoch [27], train_loss: 1.8956, val_loss: 2.1674, val_acc: 0.2907\n",
      "Epoch [28], train_loss: 1.9179, val_loss: 2.1525, val_acc: 0.3064\n",
      "Epoch [29], train_loss: 1.9365, val_loss: 2.1148, val_acc: 0.3437\n",
      "Epoch [30], train_loss: 1.9624, val_loss: 2.0942, val_acc: 0.3648\n",
      "Epoch [31], train_loss: 2.0117, val_loss: 2.1241, val_acc: 0.3356\n",
      "Epoch [32], train_loss: 2.0765, val_loss: 2.2162, val_acc: 0.2438\n",
      "Epoch [33], train_loss: 2.1796, val_loss: 2.3496, val_acc: 0.1115\n",
      "Epoch [34], train_loss: 2.1867, val_loss: 2.2609, val_acc: 0.1997\n",
      "Epoch [35], train_loss: 2.2047, val_loss: 2.3398, val_acc: 0.1210\n",
      "Epoch [36], train_loss: 2.2026, val_loss: 2.2245, val_acc: 0.2362\n",
      "Epoch [37], train_loss: 2.2114, val_loss: 2.2730, val_acc: 0.1878\n",
      "Epoch [38], train_loss: 2.2191, val_loss: 2.2945, val_acc: 0.1665\n",
      "Epoch [39], train_loss: 2.2598, val_loss: 2.3034, val_acc: 0.1574\n",
      "Epoch [40], train_loss: 2.2377, val_loss: 2.3446, val_acc: 0.1164\n",
      "Epoch [41], train_loss: 2.2851, val_loss: 2.2585, val_acc: 0.2025\n",
      "Epoch [42], train_loss: 2.3436, val_loss: 2.3610, val_acc: 0.1001\n",
      "Epoch [43], train_loss: 2.3611, val_loss: 2.3595, val_acc: 0.1016\n",
      "Epoch [44], train_loss: 2.3035, val_loss: 2.3230, val_acc: 0.1381\n",
      "Epoch [45], train_loss: 2.2905, val_loss: 2.3155, val_acc: 0.1455\n",
      "Epoch [46], train_loss: 2.3138, val_loss: 2.3612, val_acc: 0.1000\n",
      "Epoch [47], train_loss: 2.3611, val_loss: 2.3611, val_acc: 0.1001\n",
      "Epoch [48], train_loss: 2.3612, val_loss: 2.3612, val_acc: 0.1000\n",
      "Epoch [49], train_loss: 2.3612, val_loss: 2.3612, val_acc: 0.1000\n",
      "Epoch [50], train_loss: 2.3612, val_loss: 2.3612, val_acc: 0.1000\n",
      "Epoch [51], train_loss: 2.3612, val_loss: 2.3612, val_acc: 0.1000\n",
      "Epoch [52], train_loss: 2.3612, val_loss: 2.3312, val_acc: 0.1228\n",
      "Epoch [53], train_loss: 2.3608, val_loss: 2.3612, val_acc: 0.1000\n",
      "Epoch [54], train_loss: 2.3607, val_loss: 2.3612, val_acc: 0.1000\n",
      "Epoch [55], train_loss: 2.3612, val_loss: 2.3612, val_acc: 0.1000\n",
      "Epoch [56], train_loss: 2.3497, val_loss: 2.3048, val_acc: 0.1537\n",
      "Epoch [57], train_loss: 2.3179, val_loss: 2.3612, val_acc: 0.1000\n",
      "Epoch [58], train_loss: 2.3605, val_loss: 2.3612, val_acc: 0.1000\n",
      "Epoch [59], train_loss: 2.3612, val_loss: 2.3612, val_acc: 0.1000\n",
      "Epoch [60], train_loss: 2.3612, val_loss: 2.3612, val_acc: 0.1000\n",
      "Epoch [61], train_loss: 2.3612, val_loss: 2.3612, val_acc: 0.1000\n",
      "Epoch [62], train_loss: 2.3612, val_loss: 2.3612, val_acc: 0.1000\n",
      "Epoch [63], train_loss: 2.3613, val_loss: 2.3612, val_acc: 0.1000\n",
      "Epoch [64], train_loss: 2.3612, val_loss: 2.3612, val_acc: 0.1000\n",
      "Epoch [65], train_loss: 2.3611, val_loss: 2.3612, val_acc: 0.1000\n",
      "Epoch [66], train_loss: 2.3612, val_loss: 2.3415, val_acc: 0.1084\n",
      "Epoch [67], train_loss: 2.3611, val_loss: 2.3612, val_acc: 0.1000\n",
      "Epoch [68], train_loss: 2.3546, val_loss: 2.2831, val_acc: 0.1758\n",
      "Epoch [69], train_loss: 2.3130, val_loss: 2.3602, val_acc: 0.1005\n",
      "Epoch [70], train_loss: 2.3355, val_loss: 2.3609, val_acc: 0.1000\n",
      "Epoch [71], train_loss: 2.3612, val_loss: 2.3612, val_acc: 0.1000\n",
      "Epoch [72], train_loss: 2.3563, val_loss: 2.3168, val_acc: 0.1443\n",
      "Epoch [73], train_loss: 2.3014, val_loss: 2.3135, val_acc: 0.1477\n",
      "Epoch [74], train_loss: 2.3145, val_loss: 2.3143, val_acc: 0.1467\n",
      "Epoch [75], train_loss: 2.3239, val_loss: 2.3612, val_acc: 0.1000\n",
      "Epoch [76], train_loss: 2.3612, val_loss: 2.3612, val_acc: 0.1000\n",
      "Epoch [77], train_loss: 2.3470, val_loss: 2.3469, val_acc: 0.1142\n",
      "Epoch [78], train_loss: 2.3164, val_loss: 2.3099, val_acc: 0.1511\n",
      "Epoch [79], train_loss: 2.3256, val_loss: 2.3028, val_acc: 0.1582\n",
      "Epoch [80], train_loss: 2.3025, val_loss: 2.3103, val_acc: 0.1505\n",
      "Epoch [81], train_loss: 2.3041, val_loss: 2.3237, val_acc: 0.1373\n",
      "Epoch [82], train_loss: 2.3249, val_loss: 2.3560, val_acc: 0.1050\n",
      "Epoch [83], train_loss: 2.3590, val_loss: 2.3612, val_acc: 0.1000\n",
      "Epoch [84], train_loss: 2.3612, val_loss: 2.3612, val_acc: 0.1000\n",
      "Epoch [85], train_loss: 2.3612, val_loss: 2.3612, val_acc: 0.1000\n",
      "Epoch [86], train_loss: 2.3612, val_loss: 2.3612, val_acc: 0.1000\n",
      "Epoch [87], train_loss: 2.3612, val_loss: 2.3612, val_acc: 0.1000\n",
      "Epoch [88], train_loss: 2.3527, val_loss: 2.3143, val_acc: 0.1468\n",
      "Epoch [89], train_loss: 2.3192, val_loss: 2.3612, val_acc: 0.1000\n",
      "Epoch [90], train_loss: 2.3612, val_loss: 2.3612, val_acc: 0.1000\n",
      "Epoch [91], train_loss: 2.3612, val_loss: 2.3596, val_acc: 0.1015\n",
      "Epoch [92], train_loss: 2.3341, val_loss: 2.3384, val_acc: 0.1227\n",
      "Epoch [93], train_loss: 2.3212, val_loss: 2.3338, val_acc: 0.1273\n",
      "Epoch [94], train_loss: 2.3183, val_loss: 2.3131, val_acc: 0.1481\n",
      "Epoch [95], train_loss: 2.3277, val_loss: 2.3316, val_acc: 0.1294\n",
      "Epoch [96], train_loss: 2.3236, val_loss: 2.3210, val_acc: 0.1402\n",
      "Epoch [97], train_loss: 2.3415, val_loss: 2.3612, val_acc: 0.1000\n",
      "Epoch [98], train_loss: 2.3612, val_loss: 2.3612, val_acc: 0.1000\n",
      "Epoch [99], train_loss: 2.3612, val_loss: 2.3612, val_acc: 0.1000\n",
      "Epoch [100], train_loss: 2.3417, val_loss: 2.3276, val_acc: 0.1331\n",
      "Epoch [101], train_loss: 2.3232, val_loss: 2.3241, val_acc: 0.1370\n",
      "Epoch [102], train_loss: 2.3219, val_loss: 2.3262, val_acc: 0.1347\n",
      "Epoch [103], train_loss: 2.3134, val_loss: 2.3147, val_acc: 0.1461\n",
      "Epoch [104], train_loss: 2.3087, val_loss: 2.3203, val_acc: 0.1404\n",
      "Epoch [105], train_loss: 2.3215, val_loss: 2.3031, val_acc: 0.1578\n",
      "Epoch [106], train_loss: 2.3031, val_loss: 2.3041, val_acc: 0.1566\n",
      "Epoch [107], train_loss: 2.3079, val_loss: 2.2907, val_acc: 0.1696\n",
      "Epoch [108], train_loss: 2.3025, val_loss: 2.3124, val_acc: 0.1485\n",
      "Epoch [109], train_loss: 2.3160, val_loss: 2.3114, val_acc: 0.1496\n",
      "Epoch [110], train_loss: 2.3142, val_loss: 2.3143, val_acc: 0.1467\n",
      "Epoch [111], train_loss: 2.3014, val_loss: 2.2836, val_acc: 0.1766\n",
      "Epoch [112], train_loss: 2.2815, val_loss: 2.2533, val_acc: 0.2063\n",
      "Epoch [113], train_loss: 2.2617, val_loss: 2.2759, val_acc: 0.1844\n",
      "Epoch [114], train_loss: 2.2593, val_loss: 2.2685, val_acc: 0.1916\n",
      "Epoch [115], train_loss: 2.2412, val_loss: 2.2520, val_acc: 0.2068\n",
      "Epoch [116], train_loss: 2.2141, val_loss: 2.2229, val_acc: 0.2356\n",
      "Epoch [117], train_loss: 2.1721, val_loss: 2.1998, val_acc: 0.2571\n",
      "Epoch [118], train_loss: 2.1556, val_loss: 2.1722, val_acc: 0.2825\n",
      "Epoch [119], train_loss: 2.1471, val_loss: 2.1597, val_acc: 0.2947\n",
      "Epoch [120], train_loss: 2.1321, val_loss: 2.1622, val_acc: 0.2907\n",
      "Epoch [121], train_loss: 2.1105, val_loss: 2.1065, val_acc: 0.3497\n",
      "Epoch [122], train_loss: 2.0967, val_loss: 2.0920, val_acc: 0.3628\n",
      "Epoch [123], train_loss: 2.0854, val_loss: 2.0822, val_acc: 0.3692\n",
      "Epoch [124], train_loss: 2.0743, val_loss: 2.0843, val_acc: 0.3663\n",
      "Epoch [125], train_loss: 2.0674, val_loss: 2.0645, val_acc: 0.3863\n",
      "Epoch [126], train_loss: 2.0633, val_loss: 2.0681, val_acc: 0.3840\n",
      "Epoch [127], train_loss: 2.0559, val_loss: 2.0633, val_acc: 0.3891\n",
      "Epoch [128], train_loss: 2.0512, val_loss: 2.0409, val_acc: 0.4140\n",
      "Epoch [129], train_loss: 2.0453, val_loss: 2.0379, val_acc: 0.4145\n",
      "Epoch [130], train_loss: 2.0437, val_loss: 2.0338, val_acc: 0.4221\n",
      "Epoch [131], train_loss: 2.0367, val_loss: 2.0341, val_acc: 0.4227\n",
      "Epoch [132], train_loss: 2.0347, val_loss: 2.0372, val_acc: 0.4176\n",
      "Epoch [133], train_loss: 2.0310, val_loss: 2.0290, val_acc: 0.4293\n",
      "Epoch [134], train_loss: 2.0297, val_loss: 2.0297, val_acc: 0.4282\n",
      "Epoch [135], train_loss: 2.0284, val_loss: 2.0304, val_acc: 0.4263\n",
      "Epoch [136], train_loss: 2.0282, val_loss: 2.0318, val_acc: 0.4233\n",
      "Epoch [137], train_loss: 2.0273, val_loss: 2.0277, val_acc: 0.4290\n",
      "Epoch [138], train_loss: 2.0261, val_loss: 2.0275, val_acc: 0.4290\n",
      "Epoch [139], train_loss: 2.0269, val_loss: 2.0272, val_acc: 0.4311\n",
      "CPU times: user 11min 34s, sys: 1min 43s, total: 13min 18s\n",
      "Wall time: 26min 41s\n"
     ]
    }
   ],
   "source": [
    "%%time\n",
    "histories[\"ResNet-20\"] += fit_one_cycle(epochs_res20, max_lr, model_res20, train_dl_res20, valid_dl_res20, \n",
    "                             grad_clip=grad_clip, \n",
    "                             weight_decay=weight_decay, \n",
    "                             opt_func=opt_func)"
   ]
  },
  {
   "cell_type": "markdown",
   "id": "automated-interval",
   "metadata": {},
   "source": [
    "## Graphs"
   ]
  },
  {
   "cell_type": "code",
   "execution_count": 20,
   "id": "helpful-poetry",
   "metadata": {},
   "outputs": [],
   "source": [
    "def plot_accuracies(histories):\n",
    "    for resnet in  histories.keys():\n",
    "        history = histories[resnet]\n",
    "        accuracies = [x['val_acc'] for x in history]\n",
    "        plt.figure(figsize=(10,6))\n",
    "        plt.plot(accuracies, '-x')\n",
    "        plt.xlabel('epoch')\n",
    "        plt.ylabel('accuracy')\n",
    "        plt.title(f'{resnet} Accuracy vs. No. of epochs');\n",
    "    \n",
    "def plot_losses(histories):\n",
    "    for resnet in  histories.keys():\n",
    "        history = histories[resnet]\n",
    "        train_losses = [x.get('train_loss') for x in history]\n",
    "        val_losses = [x['val_loss'] for x in history]\n",
    "        plt.figure(figsize=(10,6))\n",
    "        plt.plot(train_losses, '-bx')\n",
    "        plt.plot(val_losses, '-rx')\n",
    "        plt.xlabel('epoch')\n",
    "        plt.ylabel('loss')\n",
    "        plt.legend(['Training', 'Validation'])\n",
    "        plt.title(f'{resnet} Loss vs. No. of epochs');\n",
    "    \n",
    "def plot_lrs(histories):\n",
    "    for resnet in  histories.keys():\n",
    "        history = histories[resnet]\n",
    "        lrs = np.concatenate([x.get('lrs', []) for x in history])\n",
    "        plt.figure(figsize=(10,6))\n",
    "        plt.plot(lrs)\n",
    "        plt.xlabel('Batch no.')\n",
    "        plt.ylabel('Learning rate')\n",
    "        plt.title(f'{resnet} Learning Rate vs. Batch no.');"
   ]
  },
  {
   "cell_type": "code",
   "execution_count": 21,
   "id": "actual-nudist",
   "metadata": {},
   "outputs": [
    {
     "data": {
      "image/png": "[encoded data removed]",
      "text/plain": [
       "<Figure size 720x432 with 1 Axes>"
      ]
     },
     "metadata": {
      "needs_background": "light"
     },
     "output_type": "display_data"
    }
   ],
   "source": [
    "plot_accuracies(histories)"
   ]
  },
  {
   "cell_type": "code",
   "execution_count": 22,
   "id": "monetary-arthur",
   "metadata": {},
   "outputs": [
    {
     "data": {
      "image/png": "[encoded data removed]",
      "text/plain": [
       "<Figure size 720x432 with 1 Axes>"
      ]
     },
     "metadata": {
      "needs_background": "light"
     },
     "output_type": "display_data"
    }
   ],
   "source": [
    "plot_losses(histories)"
   ]
  },
  {
   "cell_type": "code",
   "execution_count": 23,
   "id": "atomic-announcement",
   "metadata": {},
   "outputs": [
    {
     "data": {
      "image/png": "[encoded data removed]",
      "text/plain": [
       "<Figure size 720x432 with 1 Axes>"
      ]
     },
     "metadata": {
      "needs_background": "light"
     },
     "output_type": "display_data"
    }
   ],
   "source": [
    "plot_lrs(histories)"
   ]
  }
 ],
 "metadata": {
  "kernelspec": {
   "display_name": "Python 3",
   "language": "python",
   "name": "python3"
  },
  "language_info": {
   "codemirror_mode": {
    "name": "ipython",
    "version": 3
   },
   "file_extension": ".py",
   "mimetype": "text/x-python",
   "name": "python",
   "nbconvert_exporter": "python",
   "pygments_lexer": "ipython3",
   "version": "3.6.9"
  }
 },
 "nbformat": 4,
 "nbformat_minor": 5
}
