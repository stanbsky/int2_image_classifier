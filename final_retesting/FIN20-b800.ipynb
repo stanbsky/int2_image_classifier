{
 "cells": [
  {
   "cell_type": "markdown",
   "id": "unusual-survival",
   "metadata": {},
   "source": [
    "## Importing libraries"
   ]
  },
  {
   "cell_type": "code",
   "execution_count": 1,
   "id": "complicated-logan",
   "metadata": {},
   "outputs": [
    {
     "name": "stderr",
     "output_type": "stream",
     "text": [
      "Matplotlib created a temporary config/cache directory at /tmp/matplotlib-ii3hmqps because the default path (/run/user/141228/cache/matplotlib) is not a writable directory; it is highly recommended to set the MPLCONFIGDIR environment variable to a writable directory, in particular to speed up the import of Matplotlib and to better support multiprocessing.\n"
     ]
    }
   ],
   "source": [
    "import torch\n",
    "import torchvision\n",
    "from torchvision.datasets.utils import download_url\n",
    "from torch.utils.data import random_split\n",
    "from torchvision.datasets import ImageFolder\n",
    "from torchvision.transforms import ToTensor,ToPILImage\n",
    "import matplotlib.pyplot as plt\n",
    "from torchvision.utils import make_grid\n",
    "from torch.utils.data.dataloader import DataLoader\n",
    "from torchvision.utils import make_grid\n",
    "import torch.nn as nn\n",
    "import torch.nn.functional as F\n",
    "import torchvision.transforms as tt\n",
    "import numpy as np\n",
    "import torchvision.datasets as datasets"
   ]
  },
  {
   "cell_type": "markdown",
   "id": "beautiful-while",
   "metadata": {},
   "source": [
    "## Data and device loading"
   ]
  },
  {
   "cell_type": "code",
   "execution_count": 2,
   "id": "paperback-praise",
   "metadata": {},
   "outputs": [],
   "source": [
    "torch.backends.cudnn.benchmark = True\n",
    "device = torch.device(\"cuda:0\" if torch.cuda.is_available() else \"cpu\")"
   ]
  },
  {
   "cell_type": "code",
   "execution_count": 3,
   "id": "casual-colors",
   "metadata": {},
   "outputs": [],
   "source": [
    "stats= ((0.4914,0.4822,0.4465),(0.2023,0.1994,0.2010)) #mean and std\n",
    "train_tfm= tt.Compose([tt.RandomCrop(32, padding=4, padding_mode='reflect'), # transormation of data together\n",
    "                       tt.RandomHorizontalFlip(),\n",
    "                       tt.ToTensor()])\n",
    "valid_tfm = tt.Compose([tt.ToTensor()])"
   ]
  },
  {
   "cell_type": "code",
   "execution_count": 4,
   "id": "stone-athletics",
   "metadata": {},
   "outputs": [
    {
     "name": "stdout",
     "output_type": "stream",
     "text": [
      "Files already downloaded and verified\n"
     ]
    }
   ],
   "source": [
    "training_data = datasets.CIFAR10(\n",
    "    root=\"data\",\n",
    "    train=True,\n",
    "    download=True,\n",
    "    transform=train_tfm,\n",
    ")"
   ]
  },
  {
   "cell_type": "code",
   "execution_count": 5,
   "id": "breeding-rendering",
   "metadata": {},
   "outputs": [
    {
     "name": "stdout",
     "output_type": "stream",
     "text": [
      "Files already downloaded and verified\n"
     ]
    }
   ],
   "source": [
    "# Download test data from open datasets.\n",
    "test_data = datasets.CIFAR10(\n",
    "    root=\"data\",\n",
    "    train=False,\n",
    "    download=True,\n",
    "    transform=valid_tfm,\n",
    ")"
   ]
  },
  {
   "cell_type": "code",
   "execution_count": 6,
   "id": "governing-trick",
   "metadata": {},
   "outputs": [
    {
     "data": {
      "text/plain": [
       "Dataset CIFAR10\n",
       "    Number of datapoints: 50000\n",
       "    Root location: data\n",
       "    Split: Train\n",
       "    StandardTransform\n",
       "Transform: Compose(\n",
       "               RandomCrop(size=(32, 32), padding=4)\n",
       "               RandomHorizontalFlip(p=0.5)\n",
       "               ToTensor()\n",
       "           )"
      ]
     },
     "execution_count": 6,
     "metadata": {},
     "output_type": "execute_result"
    }
   ],
   "source": [
    "valid_ds = test_data\n",
    "train_ds = training_data\n",
    "train_ds"
   ]
  },
  {
   "cell_type": "code",
   "execution_count": 7,
   "id": "exposed-therapy",
   "metadata": {},
   "outputs": [],
   "source": [
    "batch_size_res9=400\n",
    "batch_size_res20=800"
   ]
  },
  {
   "cell_type": "code",
   "execution_count": 8,
   "id": "civilian-chicken",
   "metadata": {},
   "outputs": [],
   "source": [
    "# Dataloader to load data in batches(mini batch)\n",
    "train_dl_res9= DataLoader(train_ds,batch_size_res9,shuffle=True, num_workers=3, pin_memory=True) \n",
    "valid_dl_res9= DataLoader(valid_ds, batch_size_res9, num_workers=3,pin_memory=True) \n",
    "\n",
    "train_dl_res20= DataLoader(train_ds,batch_size_res20,shuffle=True, num_workers=3, pin_memory=True) \n",
    "valid_dl_res20= DataLoader(valid_ds, batch_size_res20, num_workers=3,pin_memory=True)"
   ]
  },
  {
   "cell_type": "code",
   "execution_count": 9,
   "id": "accompanied-shock",
   "metadata": {},
   "outputs": [],
   "source": [
    "def get_default_device():\n",
    "    \"\"\"Pick GPU if available, else CPU\"\"\"\n",
    "    if torch.cuda.is_available():\n",
    "        return torch.device('cuda')\n",
    "    else:\n",
    "        return torch.device('cpu')\n",
    "    \n",
    "def to_device(data, device):\n",
    "    \"\"\"Move tensor(s) to chosen device\"\"\"\n",
    "    if isinstance(data, (list,tuple)):\n",
    "        return [to_device(x, device) for x in data]\n",
    "    return data.to(device, non_blocking=True)\n",
    "\n",
    "class DeviceDataLoader():\n",
    "    \"\"\"Wrap a dataloader to move data to a device\"\"\"\n",
    "    def __init__(self, dl, device):\n",
    "        self.dl = dl\n",
    "        self.device = device\n",
    "        \n",
    "    def __iter__(self):\n",
    "        \"\"\"Yield a batch of data after moving it to device\"\"\"\n",
    "        for b in self.dl: \n",
    "            yield to_device(b, self.device)\n",
    "\n",
    "    def __len__(self):\n",
    "        \"\"\"Number of batches\"\"\"\n",
    "        return len(self.dl)"
   ]
  },
  {
   "cell_type": "code",
   "execution_count": 10,
   "id": "valuable-central",
   "metadata": {},
   "outputs": [],
   "source": [
    "train_dl_res9= DeviceDataLoader(train_dl_res9, device)\n",
    "valid_dl_res9 = DeviceDataLoader(valid_dl_res9, device)\n",
    "\n",
    "train_dl_res20= DeviceDataLoader(train_dl_res20, device)\n",
    "valid_dl_res20 = DeviceDataLoader(valid_dl_res20, device)"
   ]
  },
  {
   "cell_type": "markdown",
   "id": "alternative-helping",
   "metadata": {},
   "source": [
    "## Training loop"
   ]
  },
  {
   "cell_type": "code",
   "execution_count": 11,
   "id": "stable-classroom",
   "metadata": {},
   "outputs": [],
   "source": [
    "def accuracy(outputs, labels):\n",
    "    _, preds = torch.max(outputs, dim=1)\n",
    "    return torch.tensor(torch.sum(preds == labels).item() / len(preds))\n",
    "\n",
    "class ImageClassificationBase(nn.Module):\n",
    "    def training_step(self, batch):\n",
    "        images, labels = batch \n",
    "        out = self(images)                  # Generate predictions\n",
    "        loss = F.cross_entropy(out, labels) # Calculate loss\n",
    "        return loss\n",
    "    \n",
    "    def validation_step(self, batch):\n",
    "        images, labels = batch \n",
    "        out = self(images)                    # Generate predictions\n",
    "        loss = F.cross_entropy(out, labels)   # Calculate loss\n",
    "        acc = accuracy(out, labels)           # Calculate accuracy\n",
    "        return {'val_loss': loss.detach(), 'val_acc': acc}\n",
    "        \n",
    "    def validation_epoch_end(self, outputs):\n",
    "        batch_losses = [x['val_loss'] for x in outputs]\n",
    "        epoch_loss = torch.stack(batch_losses).mean()   # Combine losses\n",
    "        batch_accs = [x['val_acc'] for x in outputs]\n",
    "        epoch_acc = torch.stack(batch_accs).mean()      # Combine accuracies\n",
    "        return {'val_loss': epoch_loss.item(), 'val_acc': epoch_acc.item()}\n",
    "    \n",
    "    def epoch_end(self, epoch, result):\n",
    "        print(\"Epoch [{}], train_loss: {:.4f}, val_loss: {:.4f}, val_acc: {:.4f}\".format(\n",
    "            epoch, result['train_loss'], result['val_loss'], result['val_acc']))"
   ]
  },
  {
   "cell_type": "markdown",
   "id": "rough-jewelry",
   "metadata": {},
   "source": [
    "## Resnets"
   ]
  },
  {
   "cell_type": "code",
   "execution_count": 12,
   "id": "closed-roman",
   "metadata": {},
   "outputs": [],
   "source": [
    "def conv_block_res9(in_channels, out_channels, pool=False):\n",
    "    layers = [nn.Conv2d(in_channels, out_channels, kernel_size=3, padding=1), \n",
    "              nn.BatchNorm2d(out_channels), \n",
    "              nn.ReLU(inplace=True)]\n",
    "    if pool: layers.append(nn.MaxPool2d(2))\n",
    "    return nn.Sequential(*layers)\n",
    "\n",
    "class ResNet9(ImageClassificationBase):\n",
    "    def __init__(self, in_channels, num_classes):\n",
    "        super().__init__()\n",
    "        \n",
    "        self.conv1 = conv_block_res9(in_channels, 64)\n",
    "        self.conv2 = conv_block_res9(64, 128, pool=True)\n",
    "        self.res1 = nn.Sequential(conv_block_res9(128, 128), conv_block_res9(128, 128))\n",
    "        \n",
    "        self.conv3 = conv_block_res9(128, 256, pool=True)\n",
    "        self.conv4 = conv_block_res9(256, 512, pool=True)\n",
    "        self.res2 = nn.Sequential(conv_block_res9(512, 512), conv_block_res9(512, 512))\n",
    "        \n",
    "        self.classifier = nn.Sequential(nn.MaxPool2d(4), \n",
    "                                        nn.Flatten(), \n",
    "                                        nn.Linear(512, num_classes))\n",
    "        \n",
    "    def forward(self, xb):\n",
    "        out = self.conv1(xb)\n",
    "        out = self.conv2(out)\n",
    "        out = self.res1(out) + out\n",
    "        out = self.conv3(out)\n",
    "        out = self.conv4(out)\n",
    "        out = self.res2(out) + out\n",
    "        out = self.classifier(out)\n",
    "        return out"
   ]
  },
  {
   "cell_type": "code",
   "execution_count": 13,
   "id": "photographic-mortality",
   "metadata": {},
   "outputs": [],
   "source": [
    "def conv_block_res20(in_channels, out_channels, stride=1):\n",
    "    layers = [nn.Conv2d(in_channels, out_channels, kernel_size=3, padding=1, stride=stride), \n",
    "              nn.BatchNorm2d(out_channels), \n",
    "              nn.ReLU(inplace=True)]\n",
    "    return nn.Sequential(*layers)\n",
    "\n",
    "def shortcut(in_channels, out_channels):\n",
    "    return nn.Conv2d(in_channels, out_channels, kernel_size=3, padding=1, stride=2)\n",
    "\n",
    "class ResNet20(ImageClassificationBase):\n",
    "    def __init__(self, in_channels, num_classes, n):\n",
    "        super().__init__()\n",
    "        \n",
    "        self.n = n\n",
    "        \n",
    "        # 32x32 map\n",
    "        self.conv1 = conv_block_res20(in_channels, 16)\n",
    "        self.reg32 = nn.Sequential(conv_block_res20(16,16), conv_block_res20(16,16))\n",
    "        \n",
    "        # 16x16 map\n",
    "        self.entry16 = nn.Sequential(conv_block_res20(16, 32, stride=2), conv_block_res20(32, 32))\n",
    "        self.short16 = shortcut(16, 32)\n",
    "        self.reg16 = nn.Sequential(conv_block_res20(32, 32), conv_block_res20(32, 32))\n",
    "        \n",
    "        # 8x8 map\n",
    "        self.entry8 = nn.Sequential(conv_block_res20(32, 64, stride=2), conv_block_res20(64, 64))\n",
    "        self.short8 = shortcut(32, 64)\n",
    "        self.reg8 = nn.Sequential(conv_block_res20(64, 64), conv_block_res20(64, 64))\n",
    "        \n",
    "        self.classifier = nn.Sequential(nn.AvgPool2d(kernel_size=8, stride=None, padding=0), \n",
    "                                        nn.Linear(64, num_classes),\n",
    "                                       nn.Softmax())\n",
    "        # FOR DEBUGGING\n",
    "        self.avg = nn.AvgPool2d(kernel_size=8, stride=None, padding=0)\n",
    "        self.flat = nn.Flatten()\n",
    "        self.fcl = nn.Linear(64, num_classes)\n",
    "        self.sm = nn.Softmax()\n",
    "        \n",
    "    def forward(self, xb):\n",
    "        out = self.conv1(xb)\n",
    "        \n",
    "        for i in range(self.n):\n",
    "            out = self.reg32(out) + out\n",
    "            \n",
    "        out = self.entry16(out) + self.short16(out)\n",
    "        for i in range(self.n - 1):\n",
    "            out = self.reg16(out) + out\n",
    "            \n",
    "        out = self.entry8(out) + self.short8(out)\n",
    "        for i in range(self.n - 1):\n",
    "            out = self.reg8(out) + out\n",
    "\n",
    "        #out = self.classifier(out)\n",
    "        out = self.avg(out)\n",
    "        out = self.flat(out)\n",
    "        out = self.fcl(out)\n",
    "        out = self.sm(out)\n",
    "        \n",
    "        return out"
   ]
  },
  {
   "cell_type": "markdown",
   "id": "experienced-outside",
   "metadata": {},
   "source": [
    "## Transfer to device"
   ]
  },
  {
   "cell_type": "code",
   "execution_count": 14,
   "id": "buried-office",
   "metadata": {},
   "outputs": [],
   "source": [
    "# model_res9 = to_device(ResNet9(3,10), device)\n",
    "model_res20 = to_device(ResNet20(3,10,3), device)"
   ]
  },
  {
   "cell_type": "code",
   "execution_count": 15,
   "id": "continental-emerald",
   "metadata": {},
   "outputs": [],
   "source": [
    "@torch.no_grad()\n",
    "def evaluate(model, val_loader):\n",
    "    model.eval()\n",
    "    outputs = [model.validation_step(batch) for batch in val_loader]\n",
    "    return model.validation_epoch_end(outputs)\n",
    "\n",
    "def get_lr(optimizer):\n",
    "    for param_group in optimizer.param_groups:\n",
    "        return param_group['lr']\n",
    "    \n",
    "def fit_one_cycle(epochs, max_lr, model, train_loader, val_loader, \n",
    "                  weight_decay=0, grad_clip=None, opt_func=torch.optim.SGD):\n",
    "    torch.cuda.empty_cache()  # Realsing cuda memory otherwise might get cuda out of memory error\n",
    "    history = []\n",
    "    \n",
    "    #custom optimizer with weight decay\n",
    "    optimizer = opt_func(model.parameters(), max_lr, weight_decay=weight_decay)\n",
    "    # Set up one-cycle learning rate scheduler\n",
    "    sched = torch.optim.lr_scheduler.OneCycleLR(optimizer, max_lr, epochs=epochs, \n",
    "                                                steps_per_epoch=len(train_loader))\n",
    "    \n",
    "    for epoch in range(epochs):\n",
    "        # Training Phase \n",
    "        model.train() #Setting training mode\n",
    "        train_losses = []\n",
    "        lrs = [] \n",
    "        for batch in train_loader:\n",
    "            loss = model.training_step(batch)\n",
    "            train_losses.append(loss)\n",
    "            loss.backward()\n",
    "            \n",
    "            # Gradient clipping\n",
    "            if grad_clip: \n",
    "                nn.utils.clip_grad_value_(model.parameters(), grad_clip)\n",
    "            \n",
    "            optimizer.step()\n",
    "            optimizer.zero_grad()\n",
    "            \n",
    "            # Record & update learning rate\n",
    "            lrs.append(get_lr(optimizer))\n",
    "            sched.step()\n",
    "        \n",
    "        # Validation phase\n",
    "        result = evaluate(model, val_loader) \n",
    "        result['train_loss'] = torch.stack(train_losses).mean().item()\n",
    "        result['lrs'] = lrs\n",
    "        model.epoch_end(epoch, result)\n",
    "        history.append(result)\n",
    "    return history"
   ]
  },
  {
   "cell_type": "code",
   "execution_count": 16,
   "id": "spanish-stationery",
   "metadata": {},
   "outputs": [],
   "source": [
    "# # Smoke test: if something's wrong with how we set up our model, we'll see it now\n",
    "# histories = {\"ResNet-9\": [evaluate(model_res9, valid_dl_res9)], \"ResNet-20\": [evaluate(model_res20, valid_dl_res20)]}\n",
    "\n",
    "# print(histories)"
   ]
  },
  {
   "cell_type": "markdown",
   "id": "amber-chamber",
   "metadata": {},
   "source": [
    "## Training"
   ]
  },
  {
   "cell_type": "code",
   "execution_count": 17,
   "id": "federal-formula",
   "metadata": {},
   "outputs": [],
   "source": [
    "epochs_res9 = 70\n",
    "epochs_res20 = 140\n",
    "histories = {\"ResNet-20\":[]}\n",
    "max_lr = 0.01\n",
    "grad_clip = 0.1\n",
    "weight_decay = 1e-4\n",
    "opt_func = torch.optim.Adam"
   ]
  },
  {
   "cell_type": "code",
   "execution_count": 18,
   "id": "employed-denmark",
   "metadata": {},
   "outputs": [],
   "source": [
    "# %%time\n",
    "# histories[\"ResNet-9\"] += fit_one_cycle(epochs_res9, max_lr, model_res9, train_dl_res9, valid_dl_res9, \n",
    "#                              grad_clip=grad_clip, \n",
    "#                              weight_decay=weight_decay, \n",
    "#                              opt_func=opt_func)"
   ]
  },
  {
   "cell_type": "code",
   "execution_count": 19,
   "id": "ultimate-flooring",
   "metadata": {},
   "outputs": [
    {
     "name": "stderr",
     "output_type": "stream",
     "text": [
      "/home/userfs/s/sb2444/.local/lib/python3.6/site-packages/ipykernel_launcher.py:57: UserWarning: Implicit dimension choice for softmax has been deprecated. Change the call to include dim=X as an argument.\n"
     ]
    },
    {
     "name": "stdout",
     "output_type": "stream",
     "text": [
      "Epoch [0], train_loss: 2.1755, val_loss: 2.2311, val_acc: 0.2092\n",
      "Epoch [1], train_loss: 2.0759, val_loss: 2.1324, val_acc: 0.3110\n",
      "Epoch [2], train_loss: 1.9904, val_loss: 2.0944, val_acc: 0.3556\n",
      "Epoch [3], train_loss: 1.9367, val_loss: 2.0514, val_acc: 0.4058\n",
      "Epoch [4], train_loss: 1.9036, val_loss: 2.0488, val_acc: 0.4077\n",
      "Epoch [5], train_loss: 1.8743, val_loss: 1.9708, val_acc: 0.4905\n",
      "Epoch [6], train_loss: 1.8535, val_loss: 1.9341, val_acc: 0.5271\n",
      "Epoch [7], train_loss: 1.8389, val_loss: 1.9523, val_acc: 0.5053\n",
      "Epoch [8], train_loss: 1.8258, val_loss: 1.9696, val_acc: 0.4900\n",
      "Epoch [9], train_loss: 1.8170, val_loss: 1.9339, val_acc: 0.5233\n",
      "Epoch [10], train_loss: 1.8029, val_loss: 2.0451, val_acc: 0.4140\n",
      "Epoch [11], train_loss: 1.7925, val_loss: 1.9152, val_acc: 0.5461\n",
      "Epoch [12], train_loss: 1.7852, val_loss: 1.9944, val_acc: 0.4608\n",
      "Epoch [13], train_loss: 1.7789, val_loss: 1.8578, val_acc: 0.6035\n",
      "Epoch [14], train_loss: 1.7727, val_loss: 1.8806, val_acc: 0.5785\n",
      "Epoch [15], train_loss: 1.7630, val_loss: 2.0907, val_acc: 0.3639\n",
      "Epoch [16], train_loss: 1.7612, val_loss: 1.9720, val_acc: 0.4872\n",
      "Epoch [17], train_loss: 1.7590, val_loss: 1.9781, val_acc: 0.4777\n",
      "Epoch [18], train_loss: 1.7467, val_loss: 1.8219, val_acc: 0.6393\n",
      "Epoch [19], train_loss: 1.7423, val_loss: 1.8378, val_acc: 0.6216\n",
      "Epoch [20], train_loss: 1.7360, val_loss: 1.8688, val_acc: 0.5887\n",
      "Epoch [21], train_loss: 1.7316, val_loss: 1.8967, val_acc: 0.5627\n",
      "Epoch [22], train_loss: 1.7324, val_loss: 1.9240, val_acc: 0.5333\n",
      "Epoch [23], train_loss: 1.7270, val_loss: 1.8476, val_acc: 0.6134\n",
      "Epoch [24], train_loss: 1.7356, val_loss: 1.9925, val_acc: 0.4653\n",
      "Epoch [25], train_loss: 1.7236, val_loss: 2.0046, val_acc: 0.4507\n",
      "Epoch [26], train_loss: 1.7257, val_loss: 1.9686, val_acc: 0.4895\n",
      "Epoch [27], train_loss: 1.7236, val_loss: 1.9329, val_acc: 0.5255\n",
      "Epoch [28], train_loss: 1.7196, val_loss: 1.8971, val_acc: 0.5623\n",
      "Epoch [29], train_loss: 1.7095, val_loss: 1.8314, val_acc: 0.6292\n",
      "Epoch [30], train_loss: 1.7158, val_loss: 1.8301, val_acc: 0.6309\n",
      "Epoch [31], train_loss: 1.7126, val_loss: 1.8647, val_acc: 0.5959\n",
      "Epoch [32], train_loss: 1.7062, val_loss: 1.7900, val_acc: 0.6712\n",
      "Epoch [33], train_loss: 1.7121, val_loss: 1.8939, val_acc: 0.5637\n",
      "Epoch [34], train_loss: 1.7165, val_loss: 1.8393, val_acc: 0.6198\n",
      "Epoch [35], train_loss: 1.7126, val_loss: 1.8238, val_acc: 0.6409\n",
      "Epoch [36], train_loss: 1.7112, val_loss: 1.8722, val_acc: 0.5855\n",
      "Epoch [37], train_loss: 1.7041, val_loss: 1.7878, val_acc: 0.6754\n",
      "Epoch [38], train_loss: 1.7082, val_loss: 1.8193, val_acc: 0.6397\n",
      "Epoch [39], train_loss: 1.7038, val_loss: 1.8743, val_acc: 0.5846\n",
      "Epoch [40], train_loss: 1.7050, val_loss: 1.8563, val_acc: 0.6053\n",
      "Epoch [41], train_loss: 1.7045, val_loss: 1.8315, val_acc: 0.6309\n",
      "Epoch [42], train_loss: 1.6971, val_loss: 1.9490, val_acc: 0.5075\n",
      "Epoch [43], train_loss: 1.6986, val_loss: 1.8009, val_acc: 0.6591\n",
      "Epoch [44], train_loss: 1.7041, val_loss: 1.8607, val_acc: 0.5975\n",
      "Epoch [45], train_loss: 1.6952, val_loss: 1.8191, val_acc: 0.6396\n",
      "Epoch [46], train_loss: 1.6987, val_loss: 1.7588, val_acc: 0.7026\n",
      "Epoch [47], train_loss: 1.6987, val_loss: 1.7915, val_acc: 0.6670\n",
      "Epoch [48], train_loss: 1.6971, val_loss: 2.0344, val_acc: 0.4205\n",
      "Epoch [49], train_loss: 1.6916, val_loss: 1.7697, val_acc: 0.6916\n",
      "Epoch [50], train_loss: 1.6884, val_loss: 1.7593, val_acc: 0.7027\n",
      "Epoch [51], train_loss: 1.6922, val_loss: 1.8033, val_acc: 0.6579\n",
      "Epoch [52], train_loss: 1.6940, val_loss: 1.7992, val_acc: 0.6617\n",
      "Epoch [53], train_loss: 1.6884, val_loss: 1.8130, val_acc: 0.6486\n",
      "Epoch [54], train_loss: 1.6921, val_loss: 1.8000, val_acc: 0.6606\n",
      "Epoch [55], train_loss: 1.6915, val_loss: 1.8399, val_acc: 0.6193\n",
      "Epoch [56], train_loss: 1.6942, val_loss: 1.8015, val_acc: 0.6608\n",
      "Epoch [57], train_loss: 1.6870, val_loss: 1.7724, val_acc: 0.6917\n",
      "Epoch [58], train_loss: 1.6821, val_loss: 1.8646, val_acc: 0.5952\n",
      "Epoch [59], train_loss: 1.6859, val_loss: 1.8574, val_acc: 0.6019\n",
      "Epoch [60], train_loss: 1.6858, val_loss: 1.8090, val_acc: 0.6519\n",
      "Epoch [61], train_loss: 1.6782, val_loss: 1.8516, val_acc: 0.6051\n",
      "Epoch [62], train_loss: 1.6854, val_loss: 1.7838, val_acc: 0.6742\n",
      "Epoch [63], train_loss: 1.6781, val_loss: 1.8280, val_acc: 0.6328\n",
      "Epoch [64], train_loss: 1.6807, val_loss: 1.7717, val_acc: 0.6887\n",
      "Epoch [65], train_loss: 1.6803, val_loss: 1.8709, val_acc: 0.5884\n",
      "Epoch [66], train_loss: 1.6807, val_loss: 1.7175, val_acc: 0.7467\n",
      "Epoch [67], train_loss: 1.6783, val_loss: 1.8390, val_acc: 0.6191\n",
      "Epoch [68], train_loss: 1.6814, val_loss: 1.8245, val_acc: 0.6355\n",
      "Epoch [69], train_loss: 1.6735, val_loss: 1.7417, val_acc: 0.7203\n",
      "Epoch [70], train_loss: 1.6682, val_loss: 1.7900, val_acc: 0.6692\n",
      "Epoch [71], train_loss: 1.6702, val_loss: 1.7760, val_acc: 0.6853\n",
      "Epoch [72], train_loss: 1.6684, val_loss: 1.7762, val_acc: 0.6930\n",
      "Epoch [73], train_loss: 1.6649, val_loss: 1.7545, val_acc: 0.7078\n",
      "Epoch [74], train_loss: 1.6660, val_loss: 1.8181, val_acc: 0.6417\n",
      "Epoch [75], train_loss: 1.6622, val_loss: 1.7675, val_acc: 0.6939\n",
      "Epoch [76], train_loss: 1.6582, val_loss: 1.7983, val_acc: 0.6622\n",
      "Epoch [77], train_loss: 1.6620, val_loss: 1.7643, val_acc: 0.6998\n",
      "Epoch [78], train_loss: 1.6586, val_loss: 1.7725, val_acc: 0.6927\n",
      "Epoch [79], train_loss: 1.6542, val_loss: 1.7269, val_acc: 0.7349\n",
      "Epoch [80], train_loss: 1.6495, val_loss: 1.7291, val_acc: 0.7345\n",
      "Epoch [81], train_loss: 1.6516, val_loss: 1.7386, val_acc: 0.7238\n",
      "Epoch [82], train_loss: 1.6492, val_loss: 1.7701, val_acc: 0.6935\n",
      "Epoch [83], train_loss: 1.6468, val_loss: 1.7486, val_acc: 0.7187\n",
      "Epoch [84], train_loss: 1.6472, val_loss: 1.7573, val_acc: 0.7062\n",
      "Epoch [85], train_loss: 1.6479, val_loss: 1.7746, val_acc: 0.6863\n",
      "Epoch [86], train_loss: 1.6393, val_loss: 1.7480, val_acc: 0.7135\n",
      "Epoch [87], train_loss: 1.6408, val_loss: 1.7380, val_acc: 0.7281\n",
      "Epoch [88], train_loss: 1.6382, val_loss: 1.6991, val_acc: 0.7660\n",
      "Epoch [89], train_loss: 1.6348, val_loss: 1.7037, val_acc: 0.7581\n",
      "Epoch [90], train_loss: 1.6341, val_loss: 1.7816, val_acc: 0.6798\n",
      "Epoch [91], train_loss: 1.6349, val_loss: 1.7006, val_acc: 0.7643\n",
      "Epoch [92], train_loss: 1.6317, val_loss: 1.6893, val_acc: 0.7759\n",
      "Epoch [93], train_loss: 1.6271, val_loss: 1.7070, val_acc: 0.7563\n",
      "Epoch [94], train_loss: 1.6234, val_loss: 1.7187, val_acc: 0.7438\n",
      "Epoch [95], train_loss: 1.6247, val_loss: 1.6813, val_acc: 0.7836\n",
      "Epoch [96], train_loss: 1.6210, val_loss: 1.7135, val_acc: 0.7524\n",
      "Epoch [97], train_loss: 1.6207, val_loss: 1.7417, val_acc: 0.7250\n",
      "Epoch [98], train_loss: 1.6174, val_loss: 1.6725, val_acc: 0.7941\n",
      "Epoch [99], train_loss: 1.6133, val_loss: 1.6928, val_acc: 0.7733\n",
      "Epoch [100], train_loss: 1.6134, val_loss: 1.6982, val_acc: 0.7686\n",
      "Epoch [101], train_loss: 1.6120, val_loss: 1.6804, val_acc: 0.7845\n",
      "Epoch [102], train_loss: 1.6103, val_loss: 1.6862, val_acc: 0.7783\n",
      "Epoch [103], train_loss: 1.6069, val_loss: 1.6960, val_acc: 0.7703\n",
      "Epoch [104], train_loss: 1.6014, val_loss: 1.6737, val_acc: 0.7936\n",
      "Epoch [105], train_loss: 1.6032, val_loss: 1.6909, val_acc: 0.7750\n",
      "Epoch [106], train_loss: 1.5972, val_loss: 1.6769, val_acc: 0.7884\n",
      "Epoch [107], train_loss: 1.5954, val_loss: 1.7115, val_acc: 0.7554\n",
      "Epoch [108], train_loss: 1.5938, val_loss: 1.6693, val_acc: 0.7993\n",
      "Epoch [109], train_loss: 1.5900, val_loss: 1.6417, val_acc: 0.8246\n",
      "Epoch [110], train_loss: 1.5886, val_loss: 1.6585, val_acc: 0.8084\n",
      "Epoch [111], train_loss: 1.5851, val_loss: 1.6592, val_acc: 0.8063\n",
      "Epoch [112], train_loss: 1.5834, val_loss: 1.6684, val_acc: 0.7976\n",
      "Epoch [113], train_loss: 1.5797, val_loss: 1.6443, val_acc: 0.8237\n",
      "Epoch [114], train_loss: 1.5767, val_loss: 1.6607, val_acc: 0.8065\n",
      "Epoch [115], train_loss: 1.5763, val_loss: 1.6414, val_acc: 0.8247\n",
      "Epoch [116], train_loss: 1.5728, val_loss: 1.6675, val_acc: 0.7963\n",
      "Epoch [117], train_loss: 1.5694, val_loss: 1.6408, val_acc: 0.8257\n",
      "Epoch [118], train_loss: 1.5696, val_loss: 1.6311, val_acc: 0.8346\n",
      "Epoch [119], train_loss: 1.5664, val_loss: 1.6318, val_acc: 0.8379\n",
      "Epoch [120], train_loss: 1.5646, val_loss: 1.6436, val_acc: 0.8224\n",
      "Epoch [121], train_loss: 1.5619, val_loss: 1.6359, val_acc: 0.8314\n",
      "Epoch [122], train_loss: 1.5602, val_loss: 1.6429, val_acc: 0.8229\n",
      "Epoch [123], train_loss: 1.5579, val_loss: 1.6298, val_acc: 0.8386\n",
      "Epoch [124], train_loss: 1.5565, val_loss: 1.6407, val_acc: 0.8272\n",
      "Epoch [125], train_loss: 1.5556, val_loss: 1.6401, val_acc: 0.8276\n",
      "Epoch [126], train_loss: 1.5535, val_loss: 1.6447, val_acc: 0.8219\n",
      "Epoch [127], train_loss: 1.5525, val_loss: 1.6349, val_acc: 0.8309\n",
      "Epoch [128], train_loss: 1.5496, val_loss: 1.6404, val_acc: 0.8264\n",
      "Epoch [129], train_loss: 1.5491, val_loss: 1.6383, val_acc: 0.8284\n",
      "Epoch [130], train_loss: 1.5470, val_loss: 1.6377, val_acc: 0.8290\n",
      "Epoch [131], train_loss: 1.5467, val_loss: 1.6371, val_acc: 0.8299\n",
      "Epoch [132], train_loss: 1.5469, val_loss: 1.6349, val_acc: 0.8317\n",
      "Epoch [133], train_loss: 1.5461, val_loss: 1.6369, val_acc: 0.8300\n",
      "Epoch [134], train_loss: 1.5462, val_loss: 1.6356, val_acc: 0.8313\n",
      "Epoch [135], train_loss: 1.5450, val_loss: 1.6390, val_acc: 0.8294\n",
      "Epoch [136], train_loss: 1.5442, val_loss: 1.6383, val_acc: 0.8294\n",
      "Epoch [137], train_loss: 1.5439, val_loss: 1.6416, val_acc: 0.8260\n",
      "Epoch [138], train_loss: 1.5453, val_loss: 1.6383, val_acc: 0.8288\n",
      "Epoch [139], train_loss: 1.5436, val_loss: 1.6388, val_acc: 0.8290\n",
      "CPU times: user 7min 38s, sys: 2min 7s, total: 9min 46s\n",
      "Wall time: 28min 22s\n"
     ]
    }
   ],
   "source": [
    "%%time\n",
    "histories[\"ResNet-20\"] += fit_one_cycle(epochs_res20, max_lr, model_res20, train_dl_res20, valid_dl_res20, \n",
    "                             grad_clip=grad_clip, \n",
    "                             weight_decay=weight_decay, \n",
    "                             opt_func=opt_func)"
   ]
  },
  {
   "cell_type": "markdown",
   "id": "decreased-woman",
   "metadata": {},
   "source": [
    "## Graphs"
   ]
  },
  {
   "cell_type": "code",
   "execution_count": 20,
   "id": "latest-squad",
   "metadata": {},
   "outputs": [],
   "source": [
    "def plot_accuracies(histories):\n",
    "    for resnet in  histories.keys():\n",
    "        history = histories[resnet]\n",
    "        accuracies = [x['val_acc'] for x in history]\n",
    "        plt.figure(figsize=(10,6))\n",
    "        plt.plot(accuracies, '-x')\n",
    "        plt.xlabel('epoch')\n",
    "        plt.ylabel('accuracy')\n",
    "        plt.title(f'{resnet} Accuracy vs. No. of epochs');\n",
    "    \n",
    "def plot_losses(histories):\n",
    "    for resnet in  histories.keys():\n",
    "        history = histories[resnet]\n",
    "        train_losses = [x.get('train_loss') for x in history]\n",
    "        val_losses = [x['val_loss'] for x in history]\n",
    "        plt.figure(figsize=(10,6))\n",
    "        plt.plot(train_losses, '-bx')\n",
    "        plt.plot(val_losses, '-rx')\n",
    "        plt.xlabel('epoch')\n",
    "        plt.ylabel('loss')\n",
    "        plt.legend(['Training', 'Validation'])\n",
    "        plt.title(f'{resnet} Loss vs. No. of epochs');\n",
    "    \n",
    "def plot_lrs(histories):\n",
    "    for resnet in  histories.keys():\n",
    "        history = histories[resnet]\n",
    "        lrs = np.concatenate([x.get('lrs', []) for x in history])\n",
    "        plt.figure(figsize=(10,6))\n",
    "        plt.plot(lrs)\n",
    "        plt.xlabel('Batch no.')\n",
    "        plt.ylabel('Learning rate')\n",
    "        plt.title(f'{resnet} Learning Rate vs. Batch no.');"
   ]
  },
  {
   "cell_type": "code",
   "execution_count": 21,
   "id": "seeing-democrat",
   "metadata": {},
   "outputs": [
    {
     "data": {
      "image/png": "[encoded data removed]",
      "text/plain": [
       "<Figure size 720x432 with 1 Axes>"
      ]
     },
     "metadata": {
      "needs_background": "light"
     },
     "output_type": "display_data"
    }
   ],
   "source": [
    "plot_accuracies(histories)"
   ]
  },
  {
   "cell_type": "code",
   "execution_count": 22,
   "id": "cardiovascular-nylon",
   "metadata": {},
   "outputs": [
    {
     "data": {
      "image/png": "[encoded data removed]",
      "text/plain": [
       "<Figure size 720x432 with 1 Axes>"
      ]
     },
     "metadata": {
      "needs_background": "light"
     },
     "output_type": "display_data"
    }
   ],
   "source": [
    "plot_losses(histories)"
   ]
  },
  {
   "cell_type": "code",
   "execution_count": 23,
   "id": "broad-carbon",
   "metadata": {},
   "outputs": [
    {
     "data": {
      "image/png": "[encoded data removed]",
      "text/plain": [
       "<Figure size 720x432 with 1 Axes>"
      ]
     },
     "metadata": {
      "needs_background": "light"
     },
     "output_type": "display_data"
    }
   ],
   "source": [
    "plot_lrs(histories)"
   ]
  }
 ],
 "metadata": {
  "kernelspec": {
   "display_name": "Python 3",
   "language": "python",
   "name": "python3"
  },
  "language_info": {
   "codemirror_mode": {
    "name": "ipython",
    "version": 3
   },
   "file_extension": ".py",
   "mimetype": "text/x-python",
   "name": "python",
   "nbconvert_exporter": "python",
   "pygments_lexer": "ipython3",
   "version": "3.6.9"
  }
 },
 "nbformat": 4,
 "nbformat_minor": 5
}
