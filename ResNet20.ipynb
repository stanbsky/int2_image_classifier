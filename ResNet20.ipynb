{
 "cells": [
  {
   "cell_type": "markdown",
   "metadata": {
    "colab_type": "text",
    "id": "view-in-github"
   },
   "source": [
    "<a href=\"https://colab.research.google.com/github/stanbsky/int2_image_classifier/blob/main/kaggle94gpu.ipynb\" target=\"_parent\"><img src=\"https://colab.research.google.com/assets/colab-badge.svg\" alt=\"Open In Colab\"/></a>"
   ]
  },
  {
   "cell_type": "code",
   "execution_count": 1,
   "metadata": {
    "id": "OD2wVFLtkbkN"
   },
   "outputs": [
    {
     "name": "stderr",
     "output_type": "stream",
     "text": [
      "Matplotlib created a temporary config/cache directory at /tmp/matplotlib-_4mmao2q because the default path (/run/user/141228/cache/matplotlib) is not a writable directory; it is highly recommended to set the MPLCONFIGDIR environment variable to a writable directory, in particular to speed up the import of Matplotlib and to better support multiprocessing.\n"
     ]
    }
   ],
   "source": [
    "# importing libraries\n",
    "import torch\n",
    "import torchvision\n",
    "from torchvision.datasets.utils import download_url\n",
    "from torch.utils.data import random_split\n",
    "from torchvision.datasets import ImageFolder\n",
    "from torchvision.transforms import ToTensor,ToPILImage\n",
    "import matplotlib.pyplot as plt\n",
    "from torchvision.utils import make_grid\n",
    "from torch.utils.data.dataloader import DataLoader\n",
    "from torchvision.utils import make_grid\n",
    "import torch.nn as nn\n",
    "import torch.nn.functional as F\n",
    "import torchvision.transforms as tt\n",
    "import numpy as np"
   ]
  },
  {
   "cell_type": "code",
   "execution_count": 2,
   "metadata": {
    "id": "Cea6yx4amG2c"
   },
   "outputs": [],
   "source": [
    "import torchvision.datasets as datasets"
   ]
  },
  {
   "cell_type": "code",
   "execution_count": 3,
   "metadata": {
    "colab": {
     "base_uri": "https://localhost:8080/"
    },
    "id": "efdLf1xLk5_y",
    "outputId": "dd7073c3-3026-4d75-eee6-e0425ce35d3e"
   },
   "outputs": [
    {
     "data": {
      "text/plain": [
       "<weakproxy at 0x7f7d32a18818 to Device at 0x7f7d32a827f0>"
      ]
     },
     "execution_count": 3,
     "metadata": {},
     "output_type": "execute_result"
    }
   ],
   "source": [
    "from numba import cuda\n",
    "cuda.select_device(4)"
   ]
  },
  {
   "cell_type": "code",
   "execution_count": 4,
   "metadata": {
    "id": "hNiNZttPlHFe"
   },
   "outputs": [],
   "source": [
    "stats= ((0.4914,0.4822,0.4465),(0.2023,0.1994,0.2010)) #mean and std\n",
    "train_tfm= tt.Compose([tt.RandomCrop(32, padding=4, padding_mode='reflect'), # transormation of data together\n",
    "                       tt.RandomHorizontalFlip(),\n",
    "                       tt.ToTensor()])\n",
    "valid_tfm = tt.Compose([tt.ToTensor()])"
   ]
  },
  {
   "cell_type": "code",
   "execution_count": 5,
   "metadata": {
    "colab": {
     "base_uri": "https://localhost:8080/",
     "height": 86,
     "referenced_widgets": [
      "c974d31e436a42899adbf2ef969307a4",
      "4c7fbb2405c84d7887d63fd6217cba4a",
      "350d156265104e2296caf536b05d26cc",
      "40b5952c97aa40169739936f0d549d02",
      "50c9aed288f14fcd94009217a59c91ff",
      "a448b41c426a4810a07d5eb92df1bc21",
      "29225a4d667e47f980b33c95c0850d16",
      "9ae1047b1b184d81bde7c14ca6ad72d5",
      "37da94684df543f3a81fe78c389f68dc",
      "0433c9c034b7466a98118f517c9ae2e8",
      "fb9ab6c5d81f48089ac0d9dc03c72e6b"
     ]
    },
    "id": "pxotEy_Al0J4",
    "outputId": "90e7b090-0622-4775-fcfa-39958472aa7c"
   },
   "outputs": [
    {
     "name": "stdout",
     "output_type": "stream",
     "text": [
      "Files already downloaded and verified\n"
     ]
    }
   ],
   "source": [
    "training_data = datasets.CIFAR10(\n",
    "    root=\"data\",\n",
    "    train=True,\n",
    "    download=True,\n",
    "    transform=train_tfm,\n",
    ")"
   ]
  },
  {
   "cell_type": "code",
   "execution_count": 6,
   "metadata": {
    "colab": {
     "base_uri": "https://localhost:8080/"
    },
    "id": "3HUIV5yKmj4F",
    "outputId": "96675fe3-76e5-4e9f-9bc2-14b1d389996f"
   },
   "outputs": [
    {
     "name": "stdout",
     "output_type": "stream",
     "text": [
      "Files already downloaded and verified\n"
     ]
    }
   ],
   "source": [
    "# Download test data from open datasets.\n",
    "test_data = datasets.CIFAR10(\n",
    "    root=\"data\",\n",
    "    train=False,\n",
    "    download=True,\n",
    "    transform=valid_tfm,\n",
    ")"
   ]
  },
  {
   "cell_type": "code",
   "execution_count": 7,
   "metadata": {
    "colab": {
     "base_uri": "https://localhost:8080/"
    },
    "id": "3eOTjMVem_T9",
    "outputId": "c3a532da-260b-4bd9-baef-144d73c92f92"
   },
   "outputs": [
    {
     "data": {
      "text/plain": [
       "Dataset CIFAR10\n",
       "    Number of datapoints: 50000\n",
       "    Root location: data\n",
       "    Split: Train\n",
       "    StandardTransform\n",
       "Transform: Compose(\n",
       "               RandomCrop(size=(32, 32), padding=4)\n",
       "               RandomHorizontalFlip(p=0.5)\n",
       "               ToTensor()\n",
       "           )"
      ]
     },
     "execution_count": 7,
     "metadata": {},
     "output_type": "execute_result"
    }
   ],
   "source": [
    "valid_ds = test_data\n",
    "train_ds = training_data\n",
    "train_ds"
   ]
  },
  {
   "cell_type": "code",
   "execution_count": 8,
   "metadata": {
    "id": "JAFQAJUVr7U2"
   },
   "outputs": [],
   "source": [
    "def show_image(img,label):\n",
    "    print('Label: ', train_ds.classes[label],\"(\"+str(label)+\")\")\n",
    "    plt.imshow(img.permute(1,2,0))"
   ]
  },
  {
   "cell_type": "code",
   "execution_count": 9,
   "metadata": {
    "id": "tj5jXuuBri6o"
   },
   "outputs": [],
   "source": [
    "batch_size=128"
   ]
  },
  {
   "cell_type": "code",
   "execution_count": 10,
   "metadata": {
    "id": "n4kCM-hare00"
   },
   "outputs": [],
   "source": [
    "# Dataloader to load data in batches(mini batch)\n",
    "train_dl= DataLoader(train_ds,batch_size,shuffle=True, num_workers=2, pin_memory=True)\n",
    "valid_dl= DataLoader(valid_ds, batch_size, num_workers=2,pin_memory=True)"
   ]
  },
  {
   "cell_type": "code",
   "execution_count": 11,
   "metadata": {
    "id": "mcfsy3QptG2Y"
   },
   "outputs": [],
   "source": [
    "def show_batch(dl):\n",
    "    for images, labels in dl:\n",
    "        fig,ax= plt.subplots(figsize=(12,12))\n",
    "        ax.set_xticks([]) #hide ticks\n",
    "        ax.set_yticks([])\n",
    "        ax.imshow(make_grid(images[:64],nrow=8).permute(1,2,0))\n",
    "        break # printing only first 64 images from first batch"
   ]
  },
  {
   "cell_type": "code",
   "execution_count": 12,
   "metadata": {
    "id": "lPVFZltRtXt4"
   },
   "outputs": [],
   "source": [
    "def get_default_device():\n",
    "    \"\"\"Pick GPU if available, else CPU\"\"\"\n",
    "    if torch.cuda.is_available():\n",
    "        return torch.device('cuda')\n",
    "    else:\n",
    "        return torch.device('cpu')\n",
    "    \n",
    "def to_device(data, device):\n",
    "    \"\"\"Move tensor(s) to chosen device\"\"\"\n",
    "    if isinstance(data, (list,tuple)):\n",
    "        return [to_device(x, device) for x in data]\n",
    "    return data.to(device, non_blocking=True)\n",
    "\n",
    "class DeviceDataLoader():\n",
    "    \"\"\"Wrap a dataloader to move data to a device\"\"\"\n",
    "    def __init__(self, dl, device):\n",
    "        self.dl = dl\n",
    "        self.device = device\n",
    "        \n",
    "    def __iter__(self):\n",
    "        \"\"\"Yield a batch of data after moving it to device\"\"\"\n",
    "        for b in self.dl: \n",
    "            yield to_device(b, self.device)\n",
    "\n",
    "    def __len__(self):\n",
    "        \"\"\"Number of batches\"\"\"\n",
    "        return len(self.dl)"
   ]
  },
  {
   "cell_type": "code",
   "execution_count": 13,
   "metadata": {
    "colab": {
     "base_uri": "https://localhost:8080/"
    },
    "id": "SOksgE3wtYwZ",
    "outputId": "a9fb69e1-9e00-4139-d791-b7c305a7941a"
   },
   "outputs": [
    {
     "data": {
      "text/plain": [
       "device(type='cuda')"
      ]
     },
     "execution_count": 13,
     "metadata": {},
     "output_type": "execute_result"
    }
   ],
   "source": [
    "device = get_default_device()\n",
    "device"
   ]
  },
  {
   "cell_type": "code",
   "execution_count": 14,
   "metadata": {
    "id": "hfVlteXctb6f"
   },
   "outputs": [],
   "source": [
    "train_dl= DeviceDataLoader(train_dl,device)\n",
    "valid_dl = DeviceDataLoader(valid_dl, device)"
   ]
  },
  {
   "cell_type": "code",
   "execution_count": 15,
   "metadata": {
    "id": "PLmLZHBqtlF_"
   },
   "outputs": [],
   "source": [
    "def accuracy(outputs, labels):\n",
    "    _, preds = torch.max(outputs, dim=1)\n",
    "    return torch.tensor(torch.sum(preds == labels).item() / len(preds))\n",
    "\n",
    "class ImageClassificationBase(nn.Module):\n",
    "    def training_step(self, batch):\n",
    "        images, labels = batch \n",
    "        out = self(images)                  # Generate predictions\n",
    "        loss = F.cross_entropy(out, labels) # Calculate loss\n",
    "        return loss\n",
    "    \n",
    "    def validation_step(self, batch):\n",
    "        images, labels = batch \n",
    "        out = self(images)                    # Generate predictions\n",
    "        loss = F.cross_entropy(out, labels)   # Calculate loss\n",
    "        acc = accuracy(out, labels)           # Calculate accuracy\n",
    "        return {'val_loss': loss.detach(), 'val_acc': acc}\n",
    "        \n",
    "    def validation_epoch_end(self, outputs):\n",
    "        batch_losses = [x['val_loss'] for x in outputs]\n",
    "        epoch_loss = torch.stack(batch_losses).mean()   # Combine losses\n",
    "        batch_accs = [x['val_acc'] for x in outputs]\n",
    "        epoch_acc = torch.stack(batch_accs).mean()      # Combine accuracies\n",
    "        return {'val_loss': epoch_loss.item(), 'val_acc': epoch_acc.item()}\n",
    "    \n",
    "    def epoch_end(self, epoch, result):\n",
    "        print(\"Epoch [{}], train_loss: {:.4f}, val_loss: {:.4f}, val_acc: {:.4f}\".format(\n",
    "            epoch, result['train_loss'], result['val_loss'], result['val_acc']))"
   ]
  },
  {
   "cell_type": "code",
   "execution_count": 16,
   "metadata": {
    "id": "LcaZkKzQtomv"
   },
   "outputs": [],
   "source": [
    "def conv_block(in_channels, out_channels, stride=1):\n",
    "    layers = [nn.Conv2d(in_channels, out_channels, kernel_size=3, padding=1, stride=stride), \n",
    "              nn.BatchNorm2d(out_channels), \n",
    "              nn.ReLU(inplace=True)]\n",
    "    return nn.Sequential(*layers)\n",
    "\n",
    "def shortcut(in_channels, out_channels):\n",
    "    return nn.Conv2d(in_channels, out_channels, kernel_size=3, padding=1, stride=2)\n",
    "\n",
    "class ResNet(ImageClassificationBase):\n",
    "    def __init__(self, in_channels, num_classes, n):\n",
    "        super().__init__()\n",
    "        \n",
    "        self.n = n\n",
    "        \n",
    "        # 32x32 map\n",
    "        self.conv1 = conv_block(in_channels, 16)\n",
    "        self.reg32 = nn.Sequential(conv_block(16,16), conv_block(16,16))\n",
    "        \n",
    "        # 16x16 map\n",
    "        self.entry16 = nn.Sequential(conv_block(16, 32, stride=2), conv_block(32, 32))\n",
    "        self.short16 = shortcut(16, 32)\n",
    "        self.reg16 = nn.Sequential(conv_block(32, 32), conv_block(32, 32))\n",
    "        \n",
    "        # 8x8 map\n",
    "        self.entry8 = nn.Sequential(conv_block(32, 64, stride=2), conv_block(64, 64))\n",
    "        self.short8 = shortcut(32, 64)\n",
    "        self.reg8 = nn.Sequential(conv_block(64, 64), conv_block(64, 64))\n",
    "        \n",
    "        self.classifier = nn.Sequential(nn.AvgPool2d(kernel_size=8, stride=None, padding=0), \n",
    "                                        nn.Linear(64, num_classes),\n",
    "                                       nn.Softmax())\n",
    "        # FOR DEBUGGING\n",
    "        self.avg = nn.AvgPool2d(kernel_size=8, stride=None, padding=0)\n",
    "        self.flat = nn.Flatten()\n",
    "        self.fcl = nn.Linear(64, num_classes)\n",
    "        self.sm = nn.Softmax()\n",
    "        \n",
    "    def forward(self, xb):\n",
    "        out = self.conv1(xb)\n",
    "        \n",
    "        for i in range(self.n):\n",
    "            out = self.reg32(out) + out\n",
    "            \n",
    "        out = self.entry16(out) + self.short16(out)\n",
    "        for i in range(self.n - 1):\n",
    "            out = self.reg16(out) + out\n",
    "            \n",
    "        out = self.entry8(out) + self.short8(out)\n",
    "        for i in range(self.n - 1):\n",
    "            out = self.reg8(out) + out\n",
    "\n",
    "        #out = self.classifier(out)\n",
    "        out = self.avg(out)\n",
    "        out = self.flat(out)\n",
    "        out = self.fcl(out)\n",
    "        out = self.sm(out)\n",
    "        \n",
    "        return out"
   ]
  },
  {
   "cell_type": "code",
   "execution_count": 17,
   "metadata": {
    "colab": {
     "base_uri": "https://localhost:8080/"
    },
    "id": "O8BOig0Otrjz",
    "outputId": "a40ce9a4-8852-4595-9525-9841221a3391"
   },
   "outputs": [
    {
     "data": {
      "text/plain": [
       "ResNet(\n",
       "  (conv1): Sequential(\n",
       "    (0): Conv2d(3, 16, kernel_size=(3, 3), stride=(1, 1), padding=(1, 1))\n",
       "    (1): BatchNorm2d(16, eps=1e-05, momentum=0.1, affine=True, track_running_stats=True)\n",
       "    (2): ReLU(inplace=True)\n",
       "  )\n",
       "  (reg32): Sequential(\n",
       "    (0): Sequential(\n",
       "      (0): Conv2d(16, 16, kernel_size=(3, 3), stride=(1, 1), padding=(1, 1))\n",
       "      (1): BatchNorm2d(16, eps=1e-05, momentum=0.1, affine=True, track_running_stats=True)\n",
       "      (2): ReLU(inplace=True)\n",
       "    )\n",
       "    (1): Sequential(\n",
       "      (0): Conv2d(16, 16, kernel_size=(3, 3), stride=(1, 1), padding=(1, 1))\n",
       "      (1): BatchNorm2d(16, eps=1e-05, momentum=0.1, affine=True, track_running_stats=True)\n",
       "      (2): ReLU(inplace=True)\n",
       "    )\n",
       "  )\n",
       "  (entry16): Sequential(\n",
       "    (0): Sequential(\n",
       "      (0): Conv2d(16, 32, kernel_size=(3, 3), stride=(2, 2), padding=(1, 1))\n",
       "      (1): BatchNorm2d(32, eps=1e-05, momentum=0.1, affine=True, track_running_stats=True)\n",
       "      (2): ReLU(inplace=True)\n",
       "    )\n",
       "    (1): Sequential(\n",
       "      (0): Conv2d(32, 32, kernel_size=(3, 3), stride=(1, 1), padding=(1, 1))\n",
       "      (1): BatchNorm2d(32, eps=1e-05, momentum=0.1, affine=True, track_running_stats=True)\n",
       "      (2): ReLU(inplace=True)\n",
       "    )\n",
       "  )\n",
       "  (short16): Conv2d(16, 32, kernel_size=(3, 3), stride=(2, 2), padding=(1, 1))\n",
       "  (reg16): Sequential(\n",
       "    (0): Sequential(\n",
       "      (0): Conv2d(32, 32, kernel_size=(3, 3), stride=(1, 1), padding=(1, 1))\n",
       "      (1): BatchNorm2d(32, eps=1e-05, momentum=0.1, affine=True, track_running_stats=True)\n",
       "      (2): ReLU(inplace=True)\n",
       "    )\n",
       "    (1): Sequential(\n",
       "      (0): Conv2d(32, 32, kernel_size=(3, 3), stride=(1, 1), padding=(1, 1))\n",
       "      (1): BatchNorm2d(32, eps=1e-05, momentum=0.1, affine=True, track_running_stats=True)\n",
       "      (2): ReLU(inplace=True)\n",
       "    )\n",
       "  )\n",
       "  (entry8): Sequential(\n",
       "    (0): Sequential(\n",
       "      (0): Conv2d(32, 64, kernel_size=(3, 3), stride=(2, 2), padding=(1, 1))\n",
       "      (1): BatchNorm2d(64, eps=1e-05, momentum=0.1, affine=True, track_running_stats=True)\n",
       "      (2): ReLU(inplace=True)\n",
       "    )\n",
       "    (1): Sequential(\n",
       "      (0): Conv2d(64, 64, kernel_size=(3, 3), stride=(1, 1), padding=(1, 1))\n",
       "      (1): BatchNorm2d(64, eps=1e-05, momentum=0.1, affine=True, track_running_stats=True)\n",
       "      (2): ReLU(inplace=True)\n",
       "    )\n",
       "  )\n",
       "  (short8): Conv2d(32, 64, kernel_size=(3, 3), stride=(2, 2), padding=(1, 1))\n",
       "  (reg8): Sequential(\n",
       "    (0): Sequential(\n",
       "      (0): Conv2d(64, 64, kernel_size=(3, 3), stride=(1, 1), padding=(1, 1))\n",
       "      (1): BatchNorm2d(64, eps=1e-05, momentum=0.1, affine=True, track_running_stats=True)\n",
       "      (2): ReLU(inplace=True)\n",
       "    )\n",
       "    (1): Sequential(\n",
       "      (0): Conv2d(64, 64, kernel_size=(3, 3), stride=(1, 1), padding=(1, 1))\n",
       "      (1): BatchNorm2d(64, eps=1e-05, momentum=0.1, affine=True, track_running_stats=True)\n",
       "      (2): ReLU(inplace=True)\n",
       "    )\n",
       "  )\n",
       "  (classifier): Sequential(\n",
       "    (0): AvgPool2d(kernel_size=8, stride=8, padding=0)\n",
       "    (1): Linear(in_features=64, out_features=10, bias=True)\n",
       "    (2): Softmax(dim=None)\n",
       "  )\n",
       "  (avg): AvgPool2d(kernel_size=8, stride=8, padding=0)\n",
       "  (flat): Flatten(start_dim=1, end_dim=-1)\n",
       "  (fcl): Linear(in_features=64, out_features=10, bias=True)\n",
       "  (sm): Softmax(dim=None)\n",
       ")"
      ]
     },
     "execution_count": 17,
     "metadata": {},
     "output_type": "execute_result"
    }
   ],
   "source": [
    "# n=3 => ResNet20\n",
    "model= to_device(ResNet(3,10,3), device)\n",
    "model"
   ]
  },
  {
   "cell_type": "code",
   "execution_count": 18,
   "metadata": {
    "colab": {
     "base_uri": "https://localhost:8080/"
    },
    "id": "O8BOig0Otrjz",
    "outputId": "a40ce9a4-8852-4595-9525-9841221a3391"
   },
   "outputs": [
    {
     "name": "stdout",
     "output_type": "stream",
     "text": [
      "----------------------------------------------------------------\n",
      "        Layer (type)               Output Shape         Param #\n",
      "================================================================\n",
      "            Conv2d-1           [-1, 16, 32, 32]             448\n",
      "       BatchNorm2d-2           [-1, 16, 32, 32]              32\n",
      "              ReLU-3           [-1, 16, 32, 32]               0\n",
      "            Conv2d-4           [-1, 16, 32, 32]           2,320\n",
      "       BatchNorm2d-5           [-1, 16, 32, 32]              32\n",
      "              ReLU-6           [-1, 16, 32, 32]               0\n",
      "            Conv2d-7           [-1, 16, 32, 32]           2,320\n",
      "       BatchNorm2d-8           [-1, 16, 32, 32]              32\n",
      "              ReLU-9           [-1, 16, 32, 32]               0\n",
      "           Conv2d-10           [-1, 16, 32, 32]           2,320\n",
      "      BatchNorm2d-11           [-1, 16, 32, 32]              32\n",
      "             ReLU-12           [-1, 16, 32, 32]               0\n",
      "           Conv2d-13           [-1, 16, 32, 32]           2,320\n",
      "      BatchNorm2d-14           [-1, 16, 32, 32]              32\n",
      "             ReLU-15           [-1, 16, 32, 32]               0\n",
      "           Conv2d-16           [-1, 16, 32, 32]           2,320\n",
      "      BatchNorm2d-17           [-1, 16, 32, 32]              32\n",
      "             ReLU-18           [-1, 16, 32, 32]               0\n",
      "           Conv2d-19           [-1, 16, 32, 32]           2,320\n",
      "      BatchNorm2d-20           [-1, 16, 32, 32]              32\n",
      "             ReLU-21           [-1, 16, 32, 32]               0\n",
      "           Conv2d-22           [-1, 32, 16, 16]           4,640\n",
      "      BatchNorm2d-23           [-1, 32, 16, 16]              64\n",
      "             ReLU-24           [-1, 32, 16, 16]               0\n",
      "           Conv2d-25           [-1, 32, 16, 16]           9,248\n",
      "      BatchNorm2d-26           [-1, 32, 16, 16]              64\n",
      "             ReLU-27           [-1, 32, 16, 16]               0\n",
      "           Conv2d-28           [-1, 32, 16, 16]           4,640\n",
      "           Conv2d-29           [-1, 32, 16, 16]           9,248\n",
      "      BatchNorm2d-30           [-1, 32, 16, 16]              64\n",
      "             ReLU-31           [-1, 32, 16, 16]               0\n",
      "           Conv2d-32           [-1, 32, 16, 16]           9,248\n",
      "      BatchNorm2d-33           [-1, 32, 16, 16]              64\n",
      "             ReLU-34           [-1, 32, 16, 16]               0\n",
      "           Conv2d-35           [-1, 32, 16, 16]           9,248\n",
      "      BatchNorm2d-36           [-1, 32, 16, 16]              64\n",
      "             ReLU-37           [-1, 32, 16, 16]               0\n",
      "           Conv2d-38           [-1, 32, 16, 16]           9,248\n",
      "      BatchNorm2d-39           [-1, 32, 16, 16]              64\n",
      "             ReLU-40           [-1, 32, 16, 16]               0\n",
      "           Conv2d-41             [-1, 64, 8, 8]          18,496\n",
      "      BatchNorm2d-42             [-1, 64, 8, 8]             128\n",
      "             ReLU-43             [-1, 64, 8, 8]               0\n",
      "           Conv2d-44             [-1, 64, 8, 8]          36,928\n",
      "      BatchNorm2d-45             [-1, 64, 8, 8]             128\n",
      "             ReLU-46             [-1, 64, 8, 8]               0\n",
      "           Conv2d-47             [-1, 64, 8, 8]          18,496\n",
      "           Conv2d-48             [-1, 64, 8, 8]          36,928\n",
      "      BatchNorm2d-49             [-1, 64, 8, 8]             128\n",
      "             ReLU-50             [-1, 64, 8, 8]               0\n",
      "           Conv2d-51             [-1, 64, 8, 8]          36,928\n",
      "      BatchNorm2d-52             [-1, 64, 8, 8]             128\n",
      "             ReLU-53             [-1, 64, 8, 8]               0\n",
      "           Conv2d-54             [-1, 64, 8, 8]          36,928\n",
      "      BatchNorm2d-55             [-1, 64, 8, 8]             128\n",
      "             ReLU-56             [-1, 64, 8, 8]               0\n",
      "           Conv2d-57             [-1, 64, 8, 8]          36,928\n",
      "      BatchNorm2d-58             [-1, 64, 8, 8]             128\n",
      "             ReLU-59             [-1, 64, 8, 8]               0\n",
      "        AvgPool2d-60             [-1, 64, 1, 1]               0\n",
      "          Flatten-61                   [-1, 64]               0\n",
      "           Linear-62                   [-1, 10]             650\n",
      "          Softmax-63                   [-1, 10]               0\n",
      "================================================================\n",
      "Total params: 293,546\n",
      "Trainable params: 293,546\n",
      "Non-trainable params: 0\n",
      "----------------------------------------------------------------\n",
      "Input size (MB): 0.01\n",
      "Forward/backward pass size (MB): 4.41\n",
      "Params size (MB): 1.12\n",
      "Estimated Total Size (MB): 5.54\n",
      "----------------------------------------------------------------\n"
     ]
    },
    {
     "name": "stderr",
     "output_type": "stream",
     "text": [
      "/home/userfs/s/sb2444/.local/lib/python3.6/site-packages/ipykernel_launcher.py:57: UserWarning: Implicit dimension choice for softmax has been deprecated. Change the call to include dim=X as an argument.\n"
     ]
    }
   ],
   "source": [
    "from torchvision import models\n",
    "from torchsummary import summary\n",
    "summary(model, (3, 32, 32))"
   ]
  },
  {
   "cell_type": "code",
   "execution_count": 19,
   "metadata": {
    "id": "hmbJUvR3t0QY"
   },
   "outputs": [],
   "source": [
    "@torch.no_grad()\n",
    "def evaluate(model, val_loader):\n",
    "    model.eval()\n",
    "    outputs = [model.validation_step(batch) for batch in val_loader]\n",
    "    return model.validation_epoch_end(outputs)\n",
    "\n",
    "def get_lr(optimizer):\n",
    "    for param_group in optimizer.param_groups:\n",
    "        return param_group['lr']\n",
    "\n",
    "def fit_one_cycle(epochs, max_lr, model, train_loader, val_loader, \n",
    "                  weight_decay=0, grad_clip=None, opt_func=torch.optim.SGD):\n",
    "    torch.cuda.empty_cache()  # Realsing cuda memory otherwise might get cuda out of memory error\n",
    "    history = []\n",
    "    \n",
    "    #custom optimizer with weight decay\n",
    "    optimizer = opt_func(model.parameters(), max_lr, weight_decay=weight_decay)\n",
    "    # Set up one-cycle learning rate scheduler\n",
    "    sched = torch.optim.lr_scheduler.OneCycleLR(optimizer, max_lr, epochs=epochs, \n",
    "                                                steps_per_epoch=len(train_loader))\n",
    "    \n",
    "    for epoch in range(epochs):\n",
    "        # Training Phase \n",
    "        model.train() #Setting training mode\n",
    "        train_losses = []\n",
    "        lrs = []\n",
    "        for batch in train_loader:\n",
    "            loss = model.training_step(batch)\n",
    "            train_losses.append(loss)\n",
    "            loss.backward()\n",
    "            \n",
    "            # Gradient clipping\n",
    "            if grad_clip: \n",
    "                nn.utils.clip_grad_value_(model.parameters(), grad_clip)\n",
    "            \n",
    "            optimizer.step()\n",
    "            optimizer.zero_grad()\n",
    "            \n",
    "            # Record & update learning rate\n",
    "            lrs.append(get_lr(optimizer))\n",
    "            sched.step()\n",
    "        \n",
    "        # Validation phase\n",
    "        result = evaluate(model, val_loader)\n",
    "        result['train_loss'] = torch.stack(train_losses).mean().item()\n",
    "        result['lrs'] = lrs\n",
    "        model.epoch_end(epoch, result)\n",
    "        history.append(result)\n",
    "    return history"
   ]
  },
  {
   "cell_type": "code",
   "execution_count": 20,
   "metadata": {
    "colab": {
     "base_uri": "https://localhost:8080/"
    },
    "id": "_TPdh3fbt1fH",
    "outputId": "a22ad739-4bd6-459d-f905-64450f06bf4c"
   },
   "outputs": [
    {
     "name": "stderr",
     "output_type": "stream",
     "text": [
      "/home/userfs/s/sb2444/.local/lib/python3.6/site-packages/ipykernel_launcher.py:57: UserWarning: Implicit dimension choice for softmax has been deprecated. Change the call to include dim=X as an argument.\n"
     ]
    },
    {
     "data": {
      "text/plain": [
       "[{'val_loss': 2.3028249740600586, 'val_acc': 0.0995846539735794}]"
      ]
     },
     "execution_count": 20,
     "metadata": {},
     "output_type": "execute_result"
    }
   ],
   "source": [
    "history = [evaluate(model, valid_dl)]\n",
    "history"
   ]
  },
  {
   "cell_type": "code",
   "execution_count": 21,
   "metadata": {
    "id": "fFL3dFDnt6pb"
   },
   "outputs": [],
   "source": [
    "epochs = 400\n",
    "max_lr = 0.01\n",
    "grad_clip = 0.1\n",
    "weight_decay = 1e-4\n",
    "opt_func = torch.optim.Adam"
   ]
  },
  {
   "cell_type": "code",
   "execution_count": 22,
   "metadata": {
    "colab": {
     "base_uri": "https://localhost:8080/"
    },
    "id": "01CAjQi2t8Ub",
    "outputId": "776b2d7d-902f-4f3c-ece0-24ccd16c4d53"
   },
   "outputs": [
    {
     "name": "stderr",
     "output_type": "stream",
     "text": [
      "/home/userfs/s/sb2444/.local/lib/python3.6/site-packages/ipykernel_launcher.py:57: UserWarning: Implicit dimension choice for softmax has been deprecated. Change the call to include dim=X as an argument.\n"
     ]
    },
    {
     "name": "stdout",
     "output_type": "stream",
     "text": [
      "Epoch [0], train_loss: 2.0609, val_loss: 2.1492, val_acc: 0.2995\n",
      "Epoch [1], train_loss: 1.9417, val_loss: 2.0225, val_acc: 0.4375\n",
      "Epoch [2], train_loss: 1.8897, val_loss: 2.0717, val_acc: 0.3809\n",
      "Epoch [3], train_loss: 1.8623, val_loss: 2.1037, val_acc: 0.3541\n",
      "Epoch [4], train_loss: 1.8402, val_loss: 1.9456, val_acc: 0.5112\n",
      "Epoch [5], train_loss: 1.8257, val_loss: 1.8700, val_acc: 0.5932\n",
      "Epoch [6], train_loss: 1.8113, val_loss: 2.0112, val_acc: 0.4456\n",
      "Epoch [7], train_loss: 1.8026, val_loss: 1.9252, val_acc: 0.5340\n",
      "Epoch [8], train_loss: 1.7904, val_loss: 2.0019, val_acc: 0.4542\n",
      "Epoch [9], train_loss: 1.7789, val_loss: 1.8479, val_acc: 0.6187\n",
      "Epoch [10], train_loss: 1.7732, val_loss: 1.9252, val_acc: 0.5323\n",
      "Epoch [11], train_loss: 1.7629, val_loss: 1.9055, val_acc: 0.5561\n",
      "Epoch [12], train_loss: 1.7558, val_loss: 1.8870, val_acc: 0.5716\n",
      "Epoch [13], train_loss: 1.7495, val_loss: 1.8520, val_acc: 0.6054\n",
      "Epoch [14], train_loss: 1.7470, val_loss: 1.9048, val_acc: 0.5521\n",
      "Epoch [15], train_loss: 1.7428, val_loss: 1.8468, val_acc: 0.6131\n",
      "Epoch [16], train_loss: 1.7333, val_loss: 1.8008, val_acc: 0.6592\n",
      "Epoch [17], train_loss: 1.7338, val_loss: 1.7918, val_acc: 0.6710\n",
      "Epoch [18], train_loss: 1.7326, val_loss: 1.8346, val_acc: 0.6266\n",
      "Epoch [19], train_loss: 1.7300, val_loss: 1.8425, val_acc: 0.6199\n",
      "Epoch [20], train_loss: 1.7254, val_loss: 1.9166, val_acc: 0.5407\n",
      "Epoch [21], train_loss: 1.7173, val_loss: 1.8087, val_acc: 0.6517\n",
      "Epoch [22], train_loss: 1.7196, val_loss: 1.8328, val_acc: 0.6290\n",
      "Epoch [23], train_loss: 1.7182, val_loss: 1.7872, val_acc: 0.6734\n",
      "Epoch [24], train_loss: 1.7166, val_loss: 1.7802, val_acc: 0.6839\n",
      "Epoch [25], train_loss: 1.7171, val_loss: 1.8104, val_acc: 0.6500\n",
      "Epoch [26], train_loss: 1.7157, val_loss: 1.8023, val_acc: 0.6583\n",
      "Epoch [27], train_loss: 1.7131, val_loss: 1.8487, val_acc: 0.6114\n",
      "Epoch [28], train_loss: 1.7096, val_loss: 1.8102, val_acc: 0.6526\n",
      "Epoch [29], train_loss: 1.7117, val_loss: 1.8427, val_acc: 0.6165\n",
      "Epoch [30], train_loss: 1.7125, val_loss: 1.7653, val_acc: 0.6978\n",
      "Epoch [31], train_loss: 1.7122, val_loss: 1.8009, val_acc: 0.6607\n",
      "Epoch [32], train_loss: 1.7109, val_loss: 1.8655, val_acc: 0.5935\n",
      "Epoch [33], train_loss: 1.7068, val_loss: 1.8327, val_acc: 0.6266\n",
      "Epoch [34], train_loss: 1.7112, val_loss: 1.9129, val_acc: 0.5439\n",
      "Epoch [35], train_loss: 1.7103, val_loss: 1.8281, val_acc: 0.6325\n",
      "Epoch [36], train_loss: 1.7080, val_loss: 1.7522, val_acc: 0.7093\n",
      "Epoch [37], train_loss: 1.7138, val_loss: 1.8436, val_acc: 0.6126\n",
      "Epoch [38], train_loss: 1.7203, val_loss: 1.8225, val_acc: 0.6359\n",
      "Epoch [39], train_loss: 1.7101, val_loss: 1.8160, val_acc: 0.6447\n",
      "Epoch [40], train_loss: 1.7169, val_loss: 1.8179, val_acc: 0.6429\n",
      "Epoch [41], train_loss: 1.7102, val_loss: 1.8287, val_acc: 0.6290\n",
      "Epoch [42], train_loss: 1.7125, val_loss: 1.9012, val_acc: 0.5587\n",
      "Epoch [43], train_loss: 1.7166, val_loss: 1.8585, val_acc: 0.5974\n",
      "Epoch [44], train_loss: 1.7208, val_loss: 1.8065, val_acc: 0.6565\n",
      "Epoch [45], train_loss: 1.7182, val_loss: 1.8268, val_acc: 0.6325\n",
      "Epoch [46], train_loss: 1.7141, val_loss: 1.8544, val_acc: 0.6039\n",
      "Epoch [47], train_loss: 1.7209, val_loss: 1.8173, val_acc: 0.6457\n",
      "Epoch [48], train_loss: 1.7190, val_loss: 1.8142, val_acc: 0.6456\n",
      "Epoch [49], train_loss: 1.7190, val_loss: 1.8019, val_acc: 0.6614\n",
      "Epoch [50], train_loss: 1.7200, val_loss: 1.8335, val_acc: 0.6258\n",
      "Epoch [51], train_loss: 1.7204, val_loss: 1.8230, val_acc: 0.6371\n",
      "Epoch [52], train_loss: 1.7263, val_loss: 1.7960, val_acc: 0.6643\n",
      "Epoch [53], train_loss: 1.7288, val_loss: 1.8954, val_acc: 0.5626\n",
      "Epoch [54], train_loss: 1.7342, val_loss: 1.8427, val_acc: 0.6180\n",
      "Epoch [55], train_loss: 1.7331, val_loss: 1.8019, val_acc: 0.6576\n",
      "Epoch [56], train_loss: 1.7373, val_loss: 1.8717, val_acc: 0.5886\n",
      "Epoch [57], train_loss: 1.7398, val_loss: 1.7830, val_acc: 0.6768\n",
      "Epoch [58], train_loss: 1.7346, val_loss: 1.7925, val_acc: 0.6676\n",
      "Epoch [59], train_loss: 1.7478, val_loss: 1.8730, val_acc: 0.5848\n",
      "Epoch [60], train_loss: 1.7492, val_loss: 1.8305, val_acc: 0.6293\n",
      "Epoch [61], train_loss: 1.7421, val_loss: 1.8546, val_acc: 0.6026\n",
      "Epoch [62], train_loss: 1.7469, val_loss: 1.8030, val_acc: 0.6559\n",
      "Epoch [63], train_loss: 1.7554, val_loss: 1.9294, val_acc: 0.5277\n",
      "Epoch [64], train_loss: 1.7538, val_loss: 1.9007, val_acc: 0.5574\n",
      "Epoch [65], train_loss: 1.7552, val_loss: 1.9312, val_acc: 0.5278\n",
      "Epoch [66], train_loss: 1.7579, val_loss: 1.9136, val_acc: 0.5438\n",
      "Epoch [67], train_loss: 1.7605, val_loss: 1.8363, val_acc: 0.6218\n",
      "Epoch [68], train_loss: 1.7620, val_loss: 1.8375, val_acc: 0.6203\n",
      "Epoch [69], train_loss: 1.7598, val_loss: 1.8457, val_acc: 0.6110\n",
      "Epoch [70], train_loss: 1.7598, val_loss: 1.8320, val_acc: 0.6266\n",
      "Epoch [71], train_loss: 1.7616, val_loss: 1.8642, val_acc: 0.5946\n",
      "Epoch [72], train_loss: 1.7640, val_loss: 1.8562, val_acc: 0.6014\n",
      "Epoch [73], train_loss: 1.7725, val_loss: 1.8417, val_acc: 0.6166\n",
      "Epoch [74], train_loss: 1.7742, val_loss: 1.9147, val_acc: 0.5436\n",
      "Epoch [75], train_loss: 1.7769, val_loss: 1.7860, val_acc: 0.6737\n",
      "Epoch [76], train_loss: 1.7788, val_loss: 1.9560, val_acc: 0.5011\n",
      "Epoch [77], train_loss: 1.7832, val_loss: 1.9234, val_acc: 0.5370\n",
      "Epoch [78], train_loss: 1.7837, val_loss: 1.8447, val_acc: 0.6124\n",
      "Epoch [79], train_loss: 1.7859, val_loss: 1.9258, val_acc: 0.5320\n",
      "Epoch [80], train_loss: 1.7918, val_loss: 1.8693, val_acc: 0.5886\n",
      "Epoch [81], train_loss: 1.7867, val_loss: 1.8540, val_acc: 0.6058\n",
      "Epoch [82], train_loss: 1.7914, val_loss: 1.8106, val_acc: 0.6507\n",
      "Epoch [83], train_loss: 1.7853, val_loss: 1.8395, val_acc: 0.6185\n",
      "Epoch [84], train_loss: 1.7850, val_loss: 1.9248, val_acc: 0.5323\n",
      "Epoch [85], train_loss: 1.7968, val_loss: 1.9385, val_acc: 0.5178\n",
      "Epoch [86], train_loss: 1.7992, val_loss: 1.8712, val_acc: 0.5886\n",
      "Epoch [87], train_loss: 1.7928, val_loss: 1.8663, val_acc: 0.5900\n",
      "Epoch [88], train_loss: 1.7997, val_loss: 1.9839, val_acc: 0.4730\n",
      "Epoch [89], train_loss: 1.8015, val_loss: 1.8655, val_acc: 0.5915\n",
      "Epoch [90], train_loss: 1.8067, val_loss: 1.8141, val_acc: 0.6455\n",
      "Epoch [91], train_loss: 1.7999, val_loss: 1.9324, val_acc: 0.5258\n",
      "Epoch [92], train_loss: 1.8063, val_loss: 1.9462, val_acc: 0.5129\n",
      "Epoch [93], train_loss: 1.8138, val_loss: 1.8674, val_acc: 0.5909\n",
      "Epoch [94], train_loss: 1.8087, val_loss: 1.9126, val_acc: 0.5452\n",
      "Epoch [95], train_loss: 1.8187, val_loss: 1.9748, val_acc: 0.4832\n",
      "Epoch [96], train_loss: 1.8233, val_loss: 1.9139, val_acc: 0.5445\n",
      "Epoch [97], train_loss: 1.8148, val_loss: 1.9288, val_acc: 0.5293\n",
      "Epoch [98], train_loss: 1.8100, val_loss: 1.9233, val_acc: 0.5347\n",
      "Epoch [99], train_loss: 1.8164, val_loss: 1.8386, val_acc: 0.6194\n",
      "Epoch [100], train_loss: 1.8160, val_loss: 1.8098, val_acc: 0.6487\n",
      "Epoch [101], train_loss: 1.8147, val_loss: 1.8777, val_acc: 0.5794\n",
      "Epoch [102], train_loss: 1.8212, val_loss: 1.8494, val_acc: 0.6097\n",
      "Epoch [103], train_loss: 1.8255, val_loss: 1.9010, val_acc: 0.5567\n",
      "Epoch [104], train_loss: 1.8252, val_loss: 1.8625, val_acc: 0.5962\n",
      "Epoch [105], train_loss: 1.8273, val_loss: 1.9347, val_acc: 0.5236\n",
      "Epoch [106], train_loss: 1.8325, val_loss: 1.8226, val_acc: 0.6363\n",
      "Epoch [107], train_loss: 1.8246, val_loss: 1.9252, val_acc: 0.5299\n",
      "Epoch [108], train_loss: 1.8323, val_loss: 1.8960, val_acc: 0.5626\n",
      "Epoch [109], train_loss: 1.8267, val_loss: 1.9818, val_acc: 0.4765\n",
      "Epoch [110], train_loss: 1.8303, val_loss: 1.9851, val_acc: 0.4740\n",
      "Epoch [111], train_loss: 1.8341, val_loss: 1.8607, val_acc: 0.5974\n",
      "Epoch [112], train_loss: 1.8328, val_loss: 1.8926, val_acc: 0.5639\n",
      "Epoch [113], train_loss: 1.8265, val_loss: 1.8744, val_acc: 0.5822\n",
      "Epoch [114], train_loss: 1.8253, val_loss: 1.8838, val_acc: 0.5734\n",
      "Epoch [115], train_loss: 1.8151, val_loss: 1.9802, val_acc: 0.4761\n",
      "Epoch [116], train_loss: 1.8231, val_loss: 1.8679, val_acc: 0.5902\n",
      "Epoch [117], train_loss: 1.8349, val_loss: 1.8837, val_acc: 0.5744\n",
      "Epoch [118], train_loss: 1.8242, val_loss: 1.8538, val_acc: 0.6037\n",
      "Epoch [119], train_loss: 1.8337, val_loss: 1.9156, val_acc: 0.5408\n",
      "Epoch [120], train_loss: 1.8290, val_loss: 1.9322, val_acc: 0.5264\n",
      "Epoch [121], train_loss: 1.8261, val_loss: 2.0707, val_acc: 0.3870\n",
      "Epoch [122], train_loss: 1.8245, val_loss: 1.8734, val_acc: 0.5839\n",
      "Epoch [123], train_loss: 1.8240, val_loss: 1.9981, val_acc: 0.4586\n",
      "Epoch [124], train_loss: 1.8257, val_loss: 1.9983, val_acc: 0.4582\n",
      "Epoch [125], train_loss: 1.8242, val_loss: 1.8900, val_acc: 0.5683\n",
      "Epoch [126], train_loss: 1.8280, val_loss: 1.9806, val_acc: 0.4753\n",
      "Epoch [127], train_loss: 1.8240, val_loss: 1.9328, val_acc: 0.5271\n",
      "Epoch [128], train_loss: 1.8222, val_loss: 1.8443, val_acc: 0.6133\n",
      "Epoch [129], train_loss: 1.8231, val_loss: 1.8941, val_acc: 0.5635\n",
      "Epoch [130], train_loss: 1.8167, val_loss: 1.9871, val_acc: 0.4699\n",
      "Epoch [131], train_loss: 1.8301, val_loss: 1.8999, val_acc: 0.5581\n",
      "Epoch [132], train_loss: 1.8294, val_loss: 1.8573, val_acc: 0.5997\n",
      "Epoch [133], train_loss: 1.8100, val_loss: 1.8770, val_acc: 0.5798\n",
      "Epoch [134], train_loss: 1.8202, val_loss: 1.9059, val_acc: 0.5503\n",
      "Epoch [135], train_loss: 1.8218, val_loss: 1.9404, val_acc: 0.5171\n",
      "Epoch [136], train_loss: 1.8184, val_loss: 1.8279, val_acc: 0.6301\n",
      "Epoch [137], train_loss: 1.8180, val_loss: 1.8497, val_acc: 0.6093\n",
      "Epoch [138], train_loss: 1.8306, val_loss: 1.8663, val_acc: 0.5927\n",
      "Epoch [139], train_loss: 1.8219, val_loss: 2.1044, val_acc: 0.3540\n",
      "Epoch [140], train_loss: 1.8199, val_loss: 1.9357, val_acc: 0.5222\n",
      "Epoch [141], train_loss: 1.8103, val_loss: 1.8368, val_acc: 0.6202\n",
      "Epoch [142], train_loss: 1.8240, val_loss: 1.9162, val_acc: 0.5426\n",
      "Epoch [143], train_loss: 1.8156, val_loss: 1.8507, val_acc: 0.6076\n",
      "Epoch [144], train_loss: 1.8161, val_loss: 1.9071, val_acc: 0.5521\n",
      "Epoch [145], train_loss: 1.8089, val_loss: 2.0773, val_acc: 0.3769\n",
      "Epoch [146], train_loss: 1.8196, val_loss: 1.8425, val_acc: 0.6151\n",
      "Epoch [147], train_loss: 1.8107, val_loss: 1.9261, val_acc: 0.5310\n",
      "Epoch [148], train_loss: 1.8138, val_loss: 1.9550, val_acc: 0.5025\n",
      "Epoch [149], train_loss: 1.8077, val_loss: 1.9359, val_acc: 0.5216\n",
      "Epoch [150], train_loss: 1.8173, val_loss: 1.9649, val_acc: 0.4907\n",
      "Epoch [151], train_loss: 1.8150, val_loss: 1.8685, val_acc: 0.5895\n",
      "Epoch [152], train_loss: 1.8105, val_loss: 1.9544, val_acc: 0.5031\n",
      "Epoch [153], train_loss: 1.8264, val_loss: 1.8930, val_acc: 0.5649\n",
      "Epoch [154], train_loss: 1.8187, val_loss: 1.9775, val_acc: 0.4796\n",
      "Epoch [155], train_loss: 1.8056, val_loss: 1.8174, val_acc: 0.6413\n",
      "Epoch [156], train_loss: 1.8075, val_loss: 1.7996, val_acc: 0.6578\n",
      "Epoch [157], train_loss: 1.8126, val_loss: 1.9697, val_acc: 0.4884\n",
      "Epoch [158], train_loss: 1.8154, val_loss: 2.0003, val_acc: 0.4573\n",
      "Epoch [159], train_loss: 1.8129, val_loss: 1.8647, val_acc: 0.5940\n",
      "Epoch [160], train_loss: 1.8109, val_loss: 1.8381, val_acc: 0.6213\n",
      "Epoch [161], train_loss: 1.8063, val_loss: 1.8787, val_acc: 0.5806\n",
      "Epoch [162], train_loss: 1.8108, val_loss: 1.8741, val_acc: 0.5832\n",
      "Epoch [163], train_loss: 1.8154, val_loss: 1.8498, val_acc: 0.6090\n",
      "Epoch [164], train_loss: 1.8153, val_loss: 2.2074, val_acc: 0.2506\n",
      "Epoch [165], train_loss: 1.7999, val_loss: 1.9966, val_acc: 0.4602\n",
      "Epoch [166], train_loss: 1.8002, val_loss: 1.8169, val_acc: 0.6405\n",
      "Epoch [167], train_loss: 1.8096, val_loss: 1.8434, val_acc: 0.6153\n",
      "Epoch [168], train_loss: 1.7982, val_loss: 1.8337, val_acc: 0.6265\n",
      "Epoch [169], train_loss: 1.8020, val_loss: 1.8355, val_acc: 0.6239\n",
      "Epoch [170], train_loss: 1.8100, val_loss: 1.9355, val_acc: 0.5231\n",
      "Epoch [171], train_loss: 1.8034, val_loss: 1.9194, val_acc: 0.5418\n",
      "Epoch [172], train_loss: 1.8039, val_loss: 1.8730, val_acc: 0.5830\n",
      "Epoch [173], train_loss: 1.8012, val_loss: 1.9050, val_acc: 0.5513\n",
      "Epoch [174], train_loss: 1.8031, val_loss: 1.8810, val_acc: 0.5765\n",
      "Epoch [175], train_loss: 1.7965, val_loss: 1.8911, val_acc: 0.5669\n",
      "Epoch [176], train_loss: 1.7950, val_loss: 2.0246, val_acc: 0.4313\n",
      "Epoch [177], train_loss: 1.7980, val_loss: 1.8931, val_acc: 0.5634\n",
      "Epoch [178], train_loss: 1.7911, val_loss: 1.8307, val_acc: 0.6283\n",
      "Epoch [179], train_loss: 1.7989, val_loss: 1.8458, val_acc: 0.6132\n",
      "Epoch [180], train_loss: 1.7916, val_loss: 1.8976, val_acc: 0.5592\n",
      "Epoch [181], train_loss: 1.7935, val_loss: 1.9348, val_acc: 0.5221\n",
      "Epoch [182], train_loss: 1.7985, val_loss: 1.9453, val_acc: 0.5109\n",
      "Epoch [183], train_loss: 1.7941, val_loss: 1.8230, val_acc: 0.6342\n",
      "Epoch [184], train_loss: 1.7970, val_loss: 1.8822, val_acc: 0.5769\n",
      "Epoch [185], train_loss: 1.7884, val_loss: 1.8183, val_acc: 0.6410\n",
      "Epoch [186], train_loss: 1.7936, val_loss: 1.9992, val_acc: 0.4575\n",
      "Epoch [187], train_loss: 1.7944, val_loss: 1.8273, val_acc: 0.6323\n",
      "Epoch [188], train_loss: 1.7950, val_loss: 1.8852, val_acc: 0.5722\n",
      "Epoch [189], train_loss: 1.7902, val_loss: 1.9015, val_acc: 0.5567\n",
      "Epoch [190], train_loss: 1.7858, val_loss: 1.8469, val_acc: 0.6106\n",
      "Epoch [191], train_loss: 1.7833, val_loss: 1.8714, val_acc: 0.5873\n",
      "Epoch [192], train_loss: 1.7837, val_loss: 1.7829, val_acc: 0.6757\n",
      "Epoch [193], train_loss: 1.7838, val_loss: 1.8659, val_acc: 0.5918\n",
      "Epoch [194], train_loss: 1.7806, val_loss: 1.8732, val_acc: 0.5834\n",
      "Epoch [195], train_loss: 1.7837, val_loss: 1.7999, val_acc: 0.6573\n",
      "Epoch [196], train_loss: 1.7812, val_loss: 1.7943, val_acc: 0.6650\n",
      "Epoch [197], train_loss: 1.7861, val_loss: 1.8281, val_acc: 0.6316\n",
      "Epoch [198], train_loss: 1.7794, val_loss: 1.7943, val_acc: 0.6650\n",
      "Epoch [199], train_loss: 1.7738, val_loss: 1.9305, val_acc: 0.5245\n",
      "Epoch [200], train_loss: 1.7805, val_loss: 1.8107, val_acc: 0.6482\n",
      "Epoch [201], train_loss: 1.7732, val_loss: 1.8439, val_acc: 0.6132\n",
      "Epoch [202], train_loss: 1.7770, val_loss: 1.9324, val_acc: 0.5252\n",
      "Epoch [203], train_loss: 1.7760, val_loss: 1.9007, val_acc: 0.5556\n",
      "Epoch [204], train_loss: 1.7714, val_loss: 1.8869, val_acc: 0.5707\n",
      "Epoch [205], train_loss: 1.7750, val_loss: 1.7962, val_acc: 0.6640\n",
      "Epoch [206], train_loss: 1.7735, val_loss: 1.8886, val_acc: 0.5691\n",
      "Epoch [207], train_loss: 1.7749, val_loss: 1.8261, val_acc: 0.6345\n",
      "Epoch [208], train_loss: 1.7672, val_loss: 1.8839, val_acc: 0.5740\n",
      "Epoch [209], train_loss: 1.7689, val_loss: 1.7779, val_acc: 0.6822\n",
      "Epoch [210], train_loss: 1.7655, val_loss: 1.9351, val_acc: 0.5225\n",
      "Epoch [211], train_loss: 1.7714, val_loss: 2.0013, val_acc: 0.4576\n",
      "Epoch [212], train_loss: 1.7757, val_loss: 1.8206, val_acc: 0.6384\n",
      "Epoch [213], train_loss: 1.7701, val_loss: 1.8215, val_acc: 0.6371\n",
      "Epoch [214], train_loss: 1.7687, val_loss: 1.8168, val_acc: 0.6440\n",
      "Epoch [215], train_loss: 1.7656, val_loss: 1.8509, val_acc: 0.6067\n",
      "Epoch [216], train_loss: 1.7591, val_loss: 1.8299, val_acc: 0.6291\n",
      "Epoch [217], train_loss: 1.7676, val_loss: 1.8321, val_acc: 0.6279\n",
      "Epoch [218], train_loss: 1.7611, val_loss: 1.8135, val_acc: 0.6444\n",
      "Epoch [219], train_loss: 1.7669, val_loss: 1.9912, val_acc: 0.4651\n",
      "Epoch [220], train_loss: 1.7620, val_loss: 2.0457, val_acc: 0.4080\n",
      "Epoch [221], train_loss: 1.7640, val_loss: 1.8178, val_acc: 0.6402\n",
      "Epoch [222], train_loss: 1.7606, val_loss: 1.8288, val_acc: 0.6311\n",
      "Epoch [223], train_loss: 1.7575, val_loss: 1.7832, val_acc: 0.6771\n",
      "Epoch [224], train_loss: 1.7553, val_loss: 1.7979, val_acc: 0.6619\n",
      "Epoch [225], train_loss: 1.7565, val_loss: 1.7758, val_acc: 0.6828\n",
      "Epoch [226], train_loss: 1.7581, val_loss: 1.8203, val_acc: 0.6384\n",
      "Epoch [227], train_loss: 1.7577, val_loss: 1.7994, val_acc: 0.6585\n",
      "Epoch [228], train_loss: 1.7567, val_loss: 2.0531, val_acc: 0.4044\n",
      "Epoch [229], train_loss: 1.7557, val_loss: 1.7963, val_acc: 0.6623\n",
      "Epoch [230], train_loss: 1.7567, val_loss: 1.8049, val_acc: 0.6548\n",
      "Epoch [231], train_loss: 1.7513, val_loss: 1.7892, val_acc: 0.6701\n",
      "Epoch [232], train_loss: 1.7456, val_loss: 1.7606, val_acc: 0.7014\n",
      "Epoch [233], train_loss: 1.7523, val_loss: 1.8018, val_acc: 0.6572\n",
      "Epoch [234], train_loss: 1.7525, val_loss: 1.7948, val_acc: 0.6651\n",
      "Epoch [235], train_loss: 1.7516, val_loss: 1.8139, val_acc: 0.6444\n",
      "Epoch [236], train_loss: 1.7479, val_loss: 1.7648, val_acc: 0.6962\n",
      "Epoch [237], train_loss: 1.7441, val_loss: 1.8598, val_acc: 0.5988\n",
      "Epoch [238], train_loss: 1.7449, val_loss: 1.7742, val_acc: 0.6888\n",
      "Epoch [239], train_loss: 1.7408, val_loss: 1.7697, val_acc: 0.6906\n",
      "Epoch [240], train_loss: 1.7470, val_loss: 1.8323, val_acc: 0.6282\n",
      "Epoch [241], train_loss: 1.7414, val_loss: 1.7570, val_acc: 0.7007\n",
      "Epoch [242], train_loss: 1.7407, val_loss: 1.8631, val_acc: 0.5945\n",
      "Epoch [243], train_loss: 1.7461, val_loss: 1.7381, val_acc: 0.7231\n",
      "Epoch [244], train_loss: 1.7358, val_loss: 1.7793, val_acc: 0.6802\n",
      "Epoch [245], train_loss: 1.7410, val_loss: 1.7602, val_acc: 0.6989\n",
      "Epoch [246], train_loss: 1.7378, val_loss: 1.7621, val_acc: 0.6998\n",
      "Epoch [247], train_loss: 1.7400, val_loss: 1.7777, val_acc: 0.6826\n",
      "Epoch [248], train_loss: 1.7378, val_loss: 1.7831, val_acc: 0.6764\n",
      "Epoch [249], train_loss: 1.7368, val_loss: 1.8251, val_acc: 0.6311\n",
      "Epoch [250], train_loss: 1.7382, val_loss: 1.8056, val_acc: 0.6530\n",
      "Epoch [251], train_loss: 1.7327, val_loss: 1.7522, val_acc: 0.7084\n",
      "Epoch [252], train_loss: 1.7337, val_loss: 1.7594, val_acc: 0.7009\n",
      "Epoch [253], train_loss: 1.7322, val_loss: 1.7605, val_acc: 0.7013\n",
      "Epoch [254], train_loss: 1.7289, val_loss: 1.7603, val_acc: 0.6997\n",
      "Epoch [255], train_loss: 1.7301, val_loss: 1.7576, val_acc: 0.7035\n",
      "Epoch [256], train_loss: 1.7337, val_loss: 1.8016, val_acc: 0.6595\n",
      "Epoch [257], train_loss: 1.7285, val_loss: 1.7662, val_acc: 0.6937\n",
      "Epoch [258], train_loss: 1.7276, val_loss: 1.7872, val_acc: 0.6725\n",
      "Epoch [259], train_loss: 1.7275, val_loss: 1.7507, val_acc: 0.7102\n",
      "Epoch [260], train_loss: 1.7269, val_loss: 1.7681, val_acc: 0.6931\n",
      "Epoch [261], train_loss: 1.7262, val_loss: 1.7545, val_acc: 0.7053\n",
      "Epoch [262], train_loss: 1.7210, val_loss: 1.8271, val_acc: 0.6310\n",
      "Epoch [263], train_loss: 1.7222, val_loss: 1.7978, val_acc: 0.6615\n",
      "Epoch [264], train_loss: 1.7179, val_loss: 1.7224, val_acc: 0.7370\n",
      "Epoch [265], train_loss: 1.7234, val_loss: 1.7293, val_acc: 0.7343\n",
      "Epoch [266], train_loss: 1.7221, val_loss: 1.7946, val_acc: 0.6661\n",
      "Epoch [267], train_loss: 1.7218, val_loss: 1.7560, val_acc: 0.7045\n",
      "Epoch [268], train_loss: 1.7211, val_loss: 1.8109, val_acc: 0.6487\n",
      "Epoch [269], train_loss: 1.7177, val_loss: 1.7848, val_acc: 0.6752\n",
      "Epoch [270], train_loss: 1.7164, val_loss: 1.7586, val_acc: 0.7038\n",
      "Epoch [271], train_loss: 1.7184, val_loss: 1.7486, val_acc: 0.7124\n",
      "Epoch [272], train_loss: 1.7130, val_loss: 1.7411, val_acc: 0.7204\n",
      "Epoch [273], train_loss: 1.7154, val_loss: 1.7549, val_acc: 0.7075\n",
      "Epoch [274], train_loss: 1.7128, val_loss: 1.7877, val_acc: 0.6742\n",
      "Epoch [275], train_loss: 1.7111, val_loss: 1.7534, val_acc: 0.7074\n",
      "Epoch [276], train_loss: 1.7125, val_loss: 1.7567, val_acc: 0.7041\n",
      "Epoch [277], train_loss: 1.7104, val_loss: 1.8132, val_acc: 0.6474\n",
      "Epoch [278], train_loss: 1.7096, val_loss: 1.7632, val_acc: 0.6988\n",
      "Epoch [279], train_loss: 1.7081, val_loss: 1.7193, val_acc: 0.7451\n",
      "Epoch [280], train_loss: 1.7065, val_loss: 1.7315, val_acc: 0.7311\n",
      "Epoch [281], train_loss: 1.7098, val_loss: 1.7382, val_acc: 0.7247\n",
      "Epoch [282], train_loss: 1.7037, val_loss: 1.7211, val_acc: 0.7426\n",
      "Epoch [283], train_loss: 1.7066, val_loss: 1.7454, val_acc: 0.7165\n",
      "Epoch [284], train_loss: 1.7051, val_loss: 1.7519, val_acc: 0.7109\n",
      "Epoch [285], train_loss: 1.7042, val_loss: 1.7368, val_acc: 0.7262\n",
      "Epoch [286], train_loss: 1.7039, val_loss: 1.7419, val_acc: 0.7215\n",
      "Epoch [287], train_loss: 1.7015, val_loss: 1.7296, val_acc: 0.7322\n",
      "Epoch [288], train_loss: 1.7009, val_loss: 1.7362, val_acc: 0.7250\n",
      "Epoch [289], train_loss: 1.6986, val_loss: 1.7153, val_acc: 0.7487\n",
      "Epoch [290], train_loss: 1.6987, val_loss: 1.7139, val_acc: 0.7503\n",
      "Epoch [291], train_loss: 1.6976, val_loss: 1.7212, val_acc: 0.7412\n",
      "Epoch [292], train_loss: 1.6965, val_loss: 1.7346, val_acc: 0.7254\n",
      "Epoch [293], train_loss: 1.6956, val_loss: 1.7199, val_acc: 0.7430\n",
      "Epoch [294], train_loss: 1.6938, val_loss: 1.7019, val_acc: 0.7609\n",
      "Epoch [295], train_loss: 1.6922, val_loss: 1.7115, val_acc: 0.7511\n",
      "Epoch [296], train_loss: 1.6920, val_loss: 1.7163, val_acc: 0.7477\n",
      "Epoch [297], train_loss: 1.6919, val_loss: 1.7486, val_acc: 0.7127\n",
      "Epoch [298], train_loss: 1.6912, val_loss: 1.7061, val_acc: 0.7578\n",
      "Epoch [299], train_loss: 1.6911, val_loss: 1.7407, val_acc: 0.7248\n",
      "Epoch [300], train_loss: 1.6892, val_loss: 1.7529, val_acc: 0.7110\n",
      "Epoch [301], train_loss: 1.6882, val_loss: 1.7244, val_acc: 0.7376\n",
      "Epoch [302], train_loss: 1.6881, val_loss: 1.7398, val_acc: 0.7234\n",
      "Epoch [303], train_loss: 1.6865, val_loss: 1.7093, val_acc: 0.7544\n",
      "Epoch [304], train_loss: 1.6861, val_loss: 1.6909, val_acc: 0.7733\n",
      "Epoch [305], train_loss: 1.6852, val_loss: 1.7072, val_acc: 0.7550\n",
      "Epoch [306], train_loss: 1.6842, val_loss: 1.7042, val_acc: 0.7614\n",
      "Epoch [307], train_loss: 1.6843, val_loss: 1.7151, val_acc: 0.7477\n",
      "Epoch [308], train_loss: 1.6821, val_loss: 1.6949, val_acc: 0.7707\n",
      "Epoch [309], train_loss: 1.6802, val_loss: 1.6910, val_acc: 0.7707\n",
      "Epoch [310], train_loss: 1.6787, val_loss: 1.6989, val_acc: 0.7625\n",
      "Epoch [311], train_loss: 1.6776, val_loss: 1.6954, val_acc: 0.7699\n",
      "Epoch [312], train_loss: 1.6794, val_loss: 1.6954, val_acc: 0.7692\n",
      "Epoch [313], train_loss: 1.6773, val_loss: 1.7128, val_acc: 0.7523\n",
      "Epoch [314], train_loss: 1.6774, val_loss: 1.7083, val_acc: 0.7575\n",
      "Epoch [315], train_loss: 1.6761, val_loss: 1.6964, val_acc: 0.7665\n",
      "Epoch [316], train_loss: 1.6748, val_loss: 1.6845, val_acc: 0.7805\n",
      "Epoch [317], train_loss: 1.6715, val_loss: 1.6898, val_acc: 0.7718\n",
      "Epoch [318], train_loss: 1.6703, val_loss: 1.7090, val_acc: 0.7549\n",
      "Epoch [319], train_loss: 1.6713, val_loss: 1.6905, val_acc: 0.7737\n",
      "Epoch [320], train_loss: 1.6699, val_loss: 1.7002, val_acc: 0.7650\n",
      "Epoch [321], train_loss: 1.6687, val_loss: 1.6918, val_acc: 0.7703\n",
      "Epoch [322], train_loss: 1.6691, val_loss: 1.7110, val_acc: 0.7527\n",
      "Epoch [323], train_loss: 1.6653, val_loss: 1.6834, val_acc: 0.7814\n",
      "Epoch [324], train_loss: 1.6656, val_loss: 1.6840, val_acc: 0.7802\n",
      "Epoch [325], train_loss: 1.6664, val_loss: 1.6720, val_acc: 0.7944\n",
      "Epoch [326], train_loss: 1.6642, val_loss: 1.6828, val_acc: 0.7799\n",
      "Epoch [327], train_loss: 1.6648, val_loss: 1.6787, val_acc: 0.7880\n",
      "Epoch [328], train_loss: 1.6621, val_loss: 1.6808, val_acc: 0.7840\n",
      "Epoch [329], train_loss: 1.6616, val_loss: 1.6787, val_acc: 0.7839\n",
      "Epoch [330], train_loss: 1.6611, val_loss: 1.6771, val_acc: 0.7906\n",
      "Epoch [331], train_loss: 1.6602, val_loss: 1.6757, val_acc: 0.7896\n",
      "Epoch [332], train_loss: 1.6587, val_loss: 1.6783, val_acc: 0.7853\n",
      "Epoch [333], train_loss: 1.6579, val_loss: 1.6922, val_acc: 0.7717\n",
      "Epoch [334], train_loss: 1.6573, val_loss: 1.6669, val_acc: 0.7970\n",
      "Epoch [335], train_loss: 1.6564, val_loss: 1.6695, val_acc: 0.7972\n",
      "Epoch [336], train_loss: 1.6550, val_loss: 1.6670, val_acc: 0.7991\n",
      "Epoch [337], train_loss: 1.6543, val_loss: 1.6700, val_acc: 0.7925\n",
      "Epoch [338], train_loss: 1.6536, val_loss: 1.6840, val_acc: 0.7805\n",
      "Epoch [339], train_loss: 1.6522, val_loss: 1.6757, val_acc: 0.7878\n",
      "Epoch [340], train_loss: 1.6524, val_loss: 1.6764, val_acc: 0.7842\n",
      "Epoch [341], train_loss: 1.6493, val_loss: 1.6695, val_acc: 0.7946\n",
      "Epoch [342], train_loss: 1.6507, val_loss: 1.6701, val_acc: 0.7930\n",
      "Epoch [343], train_loss: 1.6493, val_loss: 1.6724, val_acc: 0.7934\n",
      "Epoch [344], train_loss: 1.6493, val_loss: 1.6611, val_acc: 0.8030\n",
      "Epoch [345], train_loss: 1.6483, val_loss: 1.6613, val_acc: 0.8027\n",
      "Epoch [346], train_loss: 1.6471, val_loss: 1.6776, val_acc: 0.7851\n",
      "Epoch [347], train_loss: 1.6468, val_loss: 1.6669, val_acc: 0.7980\n",
      "Epoch [348], train_loss: 1.6458, val_loss: 1.6748, val_acc: 0.7882\n",
      "Epoch [349], train_loss: 1.6448, val_loss: 1.6704, val_acc: 0.7944\n",
      "Epoch [350], train_loss: 1.6451, val_loss: 1.6859, val_acc: 0.7784\n",
      "Epoch [351], train_loss: 1.6426, val_loss: 1.6723, val_acc: 0.7926\n",
      "Epoch [352], train_loss: 1.6446, val_loss: 1.6741, val_acc: 0.7913\n",
      "Epoch [353], train_loss: 1.6407, val_loss: 1.6780, val_acc: 0.7864\n",
      "Epoch [354], train_loss: 1.6403, val_loss: 1.6705, val_acc: 0.7958\n",
      "Epoch [355], train_loss: 1.6393, val_loss: 1.6684, val_acc: 0.7954\n",
      "Epoch [356], train_loss: 1.6384, val_loss: 1.6677, val_acc: 0.7968\n",
      "Epoch [357], train_loss: 1.6388, val_loss: 1.6706, val_acc: 0.7932\n",
      "Epoch [358], train_loss: 1.6380, val_loss: 1.6737, val_acc: 0.7894\n",
      "Epoch [359], train_loss: 1.6386, val_loss: 1.6672, val_acc: 0.7966\n",
      "Epoch [360], train_loss: 1.6362, val_loss: 1.6653, val_acc: 0.7998\n",
      "Epoch [361], train_loss: 1.6346, val_loss: 1.6738, val_acc: 0.7895\n",
      "Epoch [362], train_loss: 1.6362, val_loss: 1.6631, val_acc: 0.8035\n",
      "Epoch [363], train_loss: 1.6334, val_loss: 1.6682, val_acc: 0.7970\n",
      "Epoch [364], train_loss: 1.6347, val_loss: 1.6624, val_acc: 0.8021\n",
      "Epoch [365], train_loss: 1.6320, val_loss: 1.6585, val_acc: 0.8067\n",
      "Epoch [366], train_loss: 1.6305, val_loss: 1.6635, val_acc: 0.8016\n",
      "Epoch [367], train_loss: 1.6319, val_loss: 1.6692, val_acc: 0.7941\n",
      "Epoch [368], train_loss: 1.6315, val_loss: 1.6723, val_acc: 0.7917\n",
      "Epoch [369], train_loss: 1.6311, val_loss: 1.6657, val_acc: 0.7982\n",
      "Epoch [370], train_loss: 1.6298, val_loss: 1.6649, val_acc: 0.7997\n",
      "Epoch [371], train_loss: 1.6290, val_loss: 1.6577, val_acc: 0.8079\n",
      "Epoch [372], train_loss: 1.6289, val_loss: 1.6575, val_acc: 0.8077\n",
      "Epoch [373], train_loss: 1.6289, val_loss: 1.6641, val_acc: 0.8010\n",
      "Epoch [374], train_loss: 1.6265, val_loss: 1.6656, val_acc: 0.8002\n",
      "Epoch [375], train_loss: 1.6260, val_loss: 1.6610, val_acc: 0.8029\n",
      "Epoch [376], train_loss: 1.6271, val_loss: 1.6646, val_acc: 0.7992\n",
      "Epoch [377], train_loss: 1.6272, val_loss: 1.6624, val_acc: 0.8025\n",
      "Epoch [378], train_loss: 1.6255, val_loss: 1.6606, val_acc: 0.8035\n",
      "Epoch [379], train_loss: 1.6253, val_loss: 1.6718, val_acc: 0.7914\n",
      "Epoch [380], train_loss: 1.6258, val_loss: 1.6689, val_acc: 0.7941\n",
      "Epoch [381], train_loss: 1.6250, val_loss: 1.6605, val_acc: 0.8034\n",
      "Epoch [382], train_loss: 1.6235, val_loss: 1.6668, val_acc: 0.7967\n",
      "Epoch [383], train_loss: 1.6243, val_loss: 1.6651, val_acc: 0.7994\n",
      "Epoch [384], train_loss: 1.6241, val_loss: 1.6685, val_acc: 0.7962\n",
      "Epoch [385], train_loss: 1.6244, val_loss: 1.6615, val_acc: 0.8029\n",
      "Epoch [386], train_loss: 1.6226, val_loss: 1.6629, val_acc: 0.8021\n",
      "Epoch [387], train_loss: 1.6224, val_loss: 1.6589, val_acc: 0.8052\n",
      "Epoch [388], train_loss: 1.6223, val_loss: 1.6611, val_acc: 0.8032\n",
      "Epoch [389], train_loss: 1.6229, val_loss: 1.6587, val_acc: 0.8056\n",
      "Epoch [390], train_loss: 1.6223, val_loss: 1.6588, val_acc: 0.8059\n",
      "Epoch [391], train_loss: 1.6225, val_loss: 1.6638, val_acc: 0.7993\n",
      "Epoch [392], train_loss: 1.6218, val_loss: 1.6646, val_acc: 0.7975\n",
      "Epoch [393], train_loss: 1.6218, val_loss: 1.6625, val_acc: 0.8006\n",
      "Epoch [394], train_loss: 1.6217, val_loss: 1.6562, val_acc: 0.8096\n",
      "Epoch [395], train_loss: 1.6210, val_loss: 1.6648, val_acc: 0.8002\n",
      "Epoch [396], train_loss: 1.6211, val_loss: 1.6595, val_acc: 0.8044\n",
      "Epoch [397], train_loss: 1.6214, val_loss: 1.6603, val_acc: 0.8038\n",
      "Epoch [398], train_loss: 1.6220, val_loss: 1.6572, val_acc: 0.8082\n",
      "Epoch [399], train_loss: 1.6223, val_loss: 1.6643, val_acc: 0.7996\n",
      "CPU times: user 1h 29min 12s, sys: 6min 6s, total: 1h 35min 18s\n",
      "Wall time: 1h 51min 41s\n"
     ]
    }
   ],
   "source": [
    "%%time\n",
    "history += fit_one_cycle(epochs, max_lr, model, train_dl, valid_dl, \n",
    "                             grad_clip=grad_clip, \n",
    "                             weight_decay=weight_decay, \n",
    "                             opt_func=opt_func)"
   ]
  },
  {
   "cell_type": "code",
   "execution_count": 23,
   "metadata": {
    "id": "jvJzQAeNjB6Y"
   },
   "outputs": [],
   "source": [
    "def plot_accuracies(history):\n",
    "    accuracies = [x['val_acc'] for x in history]\n",
    "    plt.figure(figsize=(10,6))\n",
    "    plt.plot(accuracies, '-x')\n",
    "    plt.xlabel('epoch')\n",
    "    plt.ylabel('accuracy')\n",
    "    plt.title('Accuracy vs. No. of epochs');"
   ]
  },
  {
   "cell_type": "code",
   "execution_count": 24,
   "metadata": {
    "colab": {
     "base_uri": "https://localhost:8080/",
     "height": 171
    },
    "id": "fYuANPlfjIvt",
    "outputId": "08453f89-0933-4bd9-e02a-d760aad8714f"
   },
   "outputs": [
    {
     "data": {
      "image/png": "[encoded data removed]",
      "text/plain": [
       "<Figure size 720x432 with 1 Axes>"
      ]
     },
     "metadata": {
      "needs_background": "light"
     },
     "output_type": "display_data"
    }
   ],
   "source": [
    "plot_accuracies(history)"
   ]
  },
  {
   "cell_type": "code",
   "execution_count": 25,
   "metadata": {
    "id": "JV6cn39HjTF-"
   },
   "outputs": [],
   "source": [
    "def plot_losses(history):\n",
    "    train_losses = [x.get('train_loss') for x in history]\n",
    "    val_losses = [x['val_loss'] for x in history]\n",
    "    plt.figure(figsize=(10,6))\n",
    "    plt.plot(train_losses, '-bx')\n",
    "    plt.plot(val_losses, '-rx')\n",
    "    plt.xlabel('epoch')\n",
    "    plt.ylabel('loss')\n",
    "    plt.legend(['Training', 'Validation'])\n",
    "    plt.title('Loss vs. No. of epochs');"
   ]
  },
  {
   "cell_type": "code",
   "execution_count": 26,
   "metadata": {
    "colab": {
     "base_uri": "https://localhost:8080/",
     "height": 171
    },
    "id": "kuky-BEDjUw_",
    "outputId": "e33b1eb9-e7c7-483d-829a-75bce6a074ae"
   },
   "outputs": [
    {
     "data": {
      "image/png": "[encoded data removed]",
      "text/plain": [
       "<Figure size 720x432 with 1 Axes>"
      ]
     },
     "metadata": {
      "needs_background": "light"
     },
     "output_type": "display_data"
    }
   ],
   "source": [
    "plot_losses(history)"
   ]
  },
  {
   "cell_type": "code",
   "execution_count": 27,
   "metadata": {
    "id": "ToUcs2S6jZl_"
   },
   "outputs": [],
   "source": [
    "def plot_lrs(history):\n",
    "    lrs = np.concatenate([x.get('lrs', []) for x in history])\n",
    "    plt.figure(figsize=(10,6))\n",
    "    plt.plot(lrs)\n",
    "    plt.xlabel('Batch no.')\n",
    "    plt.ylabel('Learning rate')\n",
    "    plt.title('Learning Rate vs. Batch no.');"
   ]
  },
  {
   "cell_type": "code",
   "execution_count": 28,
   "metadata": {
    "colab": {
     "base_uri": "https://localhost:8080/",
     "height": 171
    },
    "id": "V1ao5oIJjboF",
    "outputId": "23d3a338-12ab-42be-b2de-8a2b3d55ccae"
   },
   "outputs": [
    {
     "data": {
      "image/png": "[encoded data removed]",
      "text/plain": [
       "<Figure size 720x432 with 1 Axes>"
      ]
     },
     "metadata": {
      "needs_background": "light"
     },
     "output_type": "display_data"
    }
   ],
   "source": [
    "plot_lrs(history)"
   ]
  }
 ],
 "metadata": {
  "accelerator": "GPU",
  "colab": {
   "collapsed_sections": [],
   "include_colab_link": true,
   "name": "kaggle94gpu.ipynb",
   "provenance": []
  },
  "kernelspec": {
   "display_name": "Python 3 (ipykernel)",
   "language": "python",
   "name": "python3"
  },
  "language_info": {
   "codemirror_mode": {
    "name": "ipython",
    "version": 3
   },
   "file_extension": ".py",
   "mimetype": "text/x-python",
   "name": "python",
   "nbconvert_exporter": "python",
   "pygments_lexer": "ipython3",
   "version": "3.9.2"
  },
  "widgets": {
   "application/vnd.jupyter.widget-state+json": {
    "0433c9c034b7466a98118f517c9ae2e8": {
     "model_module": "@jupyter-widgets/base",
     "model_module_version": "1.2.0",
     "model_name": "LayoutModel",
     "state": {
      "_model_module": "@jupyter-widgets/base",
      "_model_module_version": "1.2.0",
      "_model_name": "LayoutModel",
      "_view_count": null,
      "_view_module": "@jupyter-widgets/base",
      "_view_module_version": "1.2.0",
      "_view_name": "LayoutView",
      "align_content": null,
      "align_items": null,
      "align_self": null,
      "border": null,
      "bottom": null,
      "display": null,
      "flex": null,
      "flex_flow": null,
      "grid_area": null,
      "grid_auto_columns": null,
      "grid_auto_flow": null,
      "grid_auto_rows": null,
      "grid_column": null,
      "grid_gap": null,
      "grid_row": null,
      "grid_template_areas": null,
      "grid_template_columns": null,
      "grid_template_rows": null,
      "height": null,
      "justify_content": null,
      "justify_items": null,
      "left": null,
      "margin": null,
      "max_height": null,
      "max_width": null,
      "min_height": null,
      "min_width": null,
      "object_fit": null,
      "object_position": null,
      "order": null,
      "overflow": null,
      "overflow_x": null,
      "overflow_y": null,
      "padding": null,
      "right": null,
      "top": null,
      "visibility": null,
      "width": null
     }
    },
    "29225a4d667e47f980b33c95c0850d16": {
     "model_module": "@jupyter-widgets/controls",
     "model_module_version": "1.5.0",
     "model_name": "DescriptionStyleModel",
     "state": {
      "_model_module": "@jupyter-widgets/controls",
      "_model_module_version": "1.5.0",
      "_model_name": "DescriptionStyleModel",
      "_view_count": null,
      "_view_module": "@jupyter-widgets/base",
      "_view_module_version": "1.2.0",
      "_view_name": "StyleView",
      "description_width": ""
     }
    },
    "350d156265104e2296caf536b05d26cc": {
     "model_module": "@jupyter-widgets/controls",
     "model_module_version": "1.5.0",
     "model_name": "FloatProgressModel",
     "state": {
      "_dom_classes": [],
      "_model_module": "@jupyter-widgets/controls",
      "_model_module_version": "1.5.0",
      "_model_name": "FloatProgressModel",
      "_view_count": null,
      "_view_module": "@jupyter-widgets/controls",
      "_view_module_version": "1.5.0",
      "_view_name": "ProgressView",
      "bar_style": "success",
      "description": "",
      "description_tooltip": null,
      "layout": "IPY_MODEL_9ae1047b1b184d81bde7c14ca6ad72d5",
      "max": 170498071,
      "min": 0,
      "orientation": "horizontal",
      "style": "IPY_MODEL_37da94684df543f3a81fe78c389f68dc",
      "value": 170498071
     }
    },
    "37da94684df543f3a81fe78c389f68dc": {
     "model_module": "@jupyter-widgets/controls",
     "model_module_version": "1.5.0",
     "model_name": "ProgressStyleModel",
     "state": {
      "_model_module": "@jupyter-widgets/controls",
      "_model_module_version": "1.5.0",
      "_model_name": "ProgressStyleModel",
      "_view_count": null,
      "_view_module": "@jupyter-widgets/base",
      "_view_module_version": "1.2.0",
      "_view_name": "StyleView",
      "bar_color": null,
      "description_width": ""
     }
    },
    "40b5952c97aa40169739936f0d549d02": {
     "model_module": "@jupyter-widgets/controls",
     "model_module_version": "1.5.0",
     "model_name": "HTMLModel",
     "state": {
      "_dom_classes": [],
      "_model_module": "@jupyter-widgets/controls",
      "_model_module_version": "1.5.0",
      "_model_name": "HTMLModel",
      "_view_count": null,
      "_view_module": "@jupyter-widgets/controls",
      "_view_module_version": "1.5.0",
      "_view_name": "HTMLView",
      "description": "",
      "description_tooltip": null,
      "layout": "IPY_MODEL_0433c9c034b7466a98118f517c9ae2e8",
      "placeholder": "​",
      "style": "IPY_MODEL_fb9ab6c5d81f48089ac0d9dc03c72e6b",
      "value": " 170499072/? [00:02&lt;00:00, 62626240.17it/s]"
     }
    },
    "4c7fbb2405c84d7887d63fd6217cba4a": {
     "model_module": "@jupyter-widgets/controls",
     "model_module_version": "1.5.0",
     "model_name": "HTMLModel",
     "state": {
      "_dom_classes": [],
      "_model_module": "@jupyter-widgets/controls",
      "_model_module_version": "1.5.0",
      "_model_name": "HTMLModel",
      "_view_count": null,
      "_view_module": "@jupyter-widgets/controls",
      "_view_module_version": "1.5.0",
      "_view_name": "HTMLView",
      "description": "",
      "description_tooltip": null,
      "layout": "IPY_MODEL_a448b41c426a4810a07d5eb92df1bc21",
      "placeholder": "​",
      "style": "IPY_MODEL_29225a4d667e47f980b33c95c0850d16",
      "value": ""
     }
    },
    "50c9aed288f14fcd94009217a59c91ff": {
     "model_module": "@jupyter-widgets/base",
     "model_module_version": "1.2.0",
     "model_name": "LayoutModel",
     "state": {
      "_model_module": "@jupyter-widgets/base",
      "_model_module_version": "1.2.0",
      "_model_name": "LayoutModel",
      "_view_count": null,
      "_view_module": "@jupyter-widgets/base",
      "_view_module_version": "1.2.0",
      "_view_name": "LayoutView",
      "align_content": null,
      "align_items": null,
      "align_self": null,
      "border": null,
      "bottom": null,
      "display": null,
      "flex": null,
      "flex_flow": null,
      "grid_area": null,
      "grid_auto_columns": null,
      "grid_auto_flow": null,
      "grid_auto_rows": null,
      "grid_column": null,
      "grid_gap": null,
      "grid_row": null,
      "grid_template_areas": null,
      "grid_template_columns": null,
      "grid_template_rows": null,
      "height": null,
      "justify_content": null,
      "justify_items": null,
      "left": null,
      "margin": null,
      "max_height": null,
      "max_width": null,
      "min_height": null,
      "min_width": null,
      "object_fit": null,
      "object_position": null,
      "order": null,
      "overflow": null,
      "overflow_x": null,
      "overflow_y": null,
      "padding": null,
      "right": null,
      "top": null,
      "visibility": null,
      "width": null
     }
    },
    "9ae1047b1b184d81bde7c14ca6ad72d5": {
     "model_module": "@jupyter-widgets/base",
     "model_module_version": "1.2.0",
     "model_name": "LayoutModel",
     "state": {
      "_model_module": "@jupyter-widgets/base",
      "_model_module_version": "1.2.0",
      "_model_name": "LayoutModel",
      "_view_count": null,
      "_view_module": "@jupyter-widgets/base",
      "_view_module_version": "1.2.0",
      "_view_name": "LayoutView",
      "align_content": null,
      "align_items": null,
      "align_self": null,
      "border": null,
      "bottom": null,
      "display": null,
      "flex": null,
      "flex_flow": null,
      "grid_area": null,
      "grid_auto_columns": null,
      "grid_auto_flow": null,
      "grid_auto_rows": null,
      "grid_column": null,
      "grid_gap": null,
      "grid_row": null,
      "grid_template_areas": null,
      "grid_template_columns": null,
      "grid_template_rows": null,
      "height": null,
      "justify_content": null,
      "justify_items": null,
      "left": null,
      "margin": null,
      "max_height": null,
      "max_width": null,
      "min_height": null,
      "min_width": null,
      "object_fit": null,
      "object_position": null,
      "order": null,
      "overflow": null,
      "overflow_x": null,
      "overflow_y": null,
      "padding": null,
      "right": null,
      "top": null,
      "visibility": null,
      "width": null
     }
    },
    "a448b41c426a4810a07d5eb92df1bc21": {
     "model_module": "@jupyter-widgets/base",
     "model_module_version": "1.2.0",
     "model_name": "LayoutModel",
     "state": {
      "_model_module": "@jupyter-widgets/base",
      "_model_module_version": "1.2.0",
      "_model_name": "LayoutModel",
      "_view_count": null,
      "_view_module": "@jupyter-widgets/base",
      "_view_module_version": "1.2.0",
      "_view_name": "LayoutView",
      "align_content": null,
      "align_items": null,
      "align_self": null,
      "border": null,
      "bottom": null,
      "display": null,
      "flex": null,
      "flex_flow": null,
      "grid_area": null,
      "grid_auto_columns": null,
      "grid_auto_flow": null,
      "grid_auto_rows": null,
      "grid_column": null,
      "grid_gap": null,
      "grid_row": null,
      "grid_template_areas": null,
      "grid_template_columns": null,
      "grid_template_rows": null,
      "height": null,
      "justify_content": null,
      "justify_items": null,
      "left": null,
      "margin": null,
      "max_height": null,
      "max_width": null,
      "min_height": null,
      "min_width": null,
      "object_fit": null,
      "object_position": null,
      "order": null,
      "overflow": null,
      "overflow_x": null,
      "overflow_y": null,
      "padding": null,
      "right": null,
      "top": null,
      "visibility": null,
      "width": null
     }
    },
    "c974d31e436a42899adbf2ef969307a4": {
     "model_module": "@jupyter-widgets/controls",
     "model_module_version": "1.5.0",
     "model_name": "HBoxModel",
     "state": {
      "_dom_classes": [],
      "_model_module": "@jupyter-widgets/controls",
      "_model_module_version": "1.5.0",
      "_model_name": "HBoxModel",
      "_view_count": null,
      "_view_module": "@jupyter-widgets/controls",
      "_view_module_version": "1.5.0",
      "_view_name": "HBoxView",
      "box_style": "",
      "children": [
       "IPY_MODEL_4c7fbb2405c84d7887d63fd6217cba4a",
       "IPY_MODEL_350d156265104e2296caf536b05d26cc",
       "IPY_MODEL_40b5952c97aa40169739936f0d549d02"
      ],
      "layout": "IPY_MODEL_50c9aed288f14fcd94009217a59c91ff"
     }
    },
    "fb9ab6c5d81f48089ac0d9dc03c72e6b": {
     "model_module": "@jupyter-widgets/controls",
     "model_module_version": "1.5.0",
     "model_name": "DescriptionStyleModel",
     "state": {
      "_model_module": "@jupyter-widgets/controls",
      "_model_module_version": "1.5.0",
      "_model_name": "DescriptionStyleModel",
      "_view_count": null,
      "_view_module": "@jupyter-widgets/base",
      "_view_module_version": "1.2.0",
      "_view_name": "StyleView",
      "description_width": ""
     }
    }
   }
  }
 },
 "nbformat": 4,
 "nbformat_minor": 4
}
