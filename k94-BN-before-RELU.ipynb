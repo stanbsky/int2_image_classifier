{
 "cells": [
  {
   "cell_type": "markdown",
   "metadata": {
    "colab_type": "text",
    "id": "view-in-github"
   },
   "source": [
    "<a href=\"https://colab.research.google.com/github/stanbsky/int2_image_classifier/blob/main/kaggle94gpu.ipynb\" target=\"_parent\"><img src=\"https://colab.research.google.com/assets/colab-badge.svg\" alt=\"Open In Colab\"/></a>"
   ]
  },
  {
   "cell_type": "code",
   "execution_count": 1,
   "metadata": {
    "ExecuteTime": {
     "end_time": "2022-05-10T14:45:36.508349Z",
     "start_time": "2022-05-10T14:45:35.292193Z"
    },
    "id": "OD2wVFLtkbkN"
   },
   "outputs": [
    {
     "name": "stderr",
     "output_type": "stream",
     "text": [
      "Matplotlib created a temporary config/cache directory at /tmp/matplotlib-l5oce21r because the default path (/run/user/141228/cache/matplotlib) is not a writable directory; it is highly recommended to set the MPLCONFIGDIR environment variable to a writable directory, in particular to speed up the import of Matplotlib and to better support multiprocessing.\n"
     ]
    }
   ],
   "source": [
    "# importing libraries\n",
    "import torch\n",
    "import torchvision\n",
    "from torchvision.datasets.utils import download_url\n",
    "from torch.utils.data import random_split\n",
    "from torchvision.datasets import ImageFolder\n",
    "from torchvision.transforms import ToTensor,ToPILImage\n",
    "import matplotlib.pyplot as plt\n",
    "from torchvision.utils import make_grid\n",
    "from torch.utils.data.dataloader import DataLoader\n",
    "from torchvision.utils import make_grid\n",
    "import torch.nn as nn\n",
    "import torch.nn.functional as F\n",
    "import torchvision.transforms as tt\n",
    "import numpy as np"
   ]
  },
  {
   "cell_type": "code",
   "execution_count": 2,
   "metadata": {
    "ExecuteTime": {
     "end_time": "2022-05-10T14:45:36.514535Z",
     "start_time": "2022-05-10T14:45:36.511055Z"
    },
    "id": "Cea6yx4amG2c"
   },
   "outputs": [],
   "source": [
    "import torchvision.datasets as datasets"
   ]
  },
  {
   "cell_type": "code",
   "execution_count": 3,
   "metadata": {
    "ExecuteTime": {
     "end_time": "2022-05-10T14:45:37.317953Z",
     "start_time": "2022-05-10T14:45:36.516801Z"
    },
    "colab": {
     "base_uri": "https://localhost:8080/"
    },
    "id": "efdLf1xLk5_y",
    "outputId": "dd7073c3-3026-4d75-eee6-e0425ce35d3e"
   },
   "outputs": [
    {
     "data": {
      "text/plain": [
       "<weakproxy at 0x7f17a4be8a98 to Device at 0x7f17a4be7908>"
      ]
     },
     "execution_count": 3,
     "metadata": {},
     "output_type": "execute_result"
    }
   ],
   "source": [
    "#########################\n",
    "### SELECT THE RIGHT GPU!\n",
    "#########################\n",
    "from numba import cuda\n",
    "cuda.select_device(7)"
   ]
  },
  {
   "cell_type": "code",
   "execution_count": 4,
   "metadata": {
    "ExecuteTime": {
     "end_time": "2022-05-10T14:45:37.326078Z",
     "start_time": "2022-05-10T14:45:37.320259Z"
    },
    "id": "hNiNZttPlHFe"
   },
   "outputs": [],
   "source": [
    "stats= ((0.4914,0.4822,0.4465),(0.2023,0.1994,0.2010)) #mean and std\n",
    "train_tfm= tt.Compose([tt.RandomCrop(32, padding=4, padding_mode='reflect'), # transormation of data together\n",
    "                       tt.RandomHorizontalFlip(),\n",
    "                       tt.ToTensor(),tt.Normalize(*stats,inplace=True)])\n",
    "valid_tfm = tt.Compose([tt.ToTensor(),tt.Normalize(*stats)])"
   ]
  },
  {
   "cell_type": "code",
   "execution_count": 5,
   "metadata": {
    "ExecuteTime": {
     "end_time": "2022-05-10T14:45:38.453010Z",
     "start_time": "2022-05-10T14:45:37.327745Z"
    },
    "colab": {
     "base_uri": "https://localhost:8080/",
     "height": 86,
     "referenced_widgets": [
      "c974d31e436a42899adbf2ef969307a4",
      "4c7fbb2405c84d7887d63fd6217cba4a",
      "350d156265104e2296caf536b05d26cc",
      "40b5952c97aa40169739936f0d549d02",
      "50c9aed288f14fcd94009217a59c91ff",
      "a448b41c426a4810a07d5eb92df1bc21",
      "29225a4d667e47f980b33c95c0850d16",
      "9ae1047b1b184d81bde7c14ca6ad72d5",
      "37da94684df543f3a81fe78c389f68dc",
      "0433c9c034b7466a98118f517c9ae2e8",
      "fb9ab6c5d81f48089ac0d9dc03c72e6b"
     ]
    },
    "id": "pxotEy_Al0J4",
    "outputId": "90e7b090-0622-4775-fcfa-39958472aa7c"
   },
   "outputs": [
    {
     "name": "stdout",
     "output_type": "stream",
     "text": [
      "Files already downloaded and verified\n"
     ]
    }
   ],
   "source": [
    "training_data = datasets.CIFAR10(\n",
    "    root=\"data\",\n",
    "    train=True,\n",
    "    download=True,\n",
    "    transform=train_tfm,\n",
    ")"
   ]
  },
  {
   "cell_type": "code",
   "execution_count": 6,
   "metadata": {
    "ExecuteTime": {
     "end_time": "2022-05-10T14:45:39.284615Z",
     "start_time": "2022-05-10T14:45:38.454582Z"
    },
    "colab": {
     "base_uri": "https://localhost:8080/"
    },
    "id": "3HUIV5yKmj4F",
    "outputId": "96675fe3-76e5-4e9f-9bc2-14b1d389996f"
   },
   "outputs": [
    {
     "name": "stdout",
     "output_type": "stream",
     "text": [
      "Files already downloaded and verified\n"
     ]
    }
   ],
   "source": [
    "\n",
    "# Download test data from open datasets.\n",
    "test_data = datasets.CIFAR10(\n",
    "    root=\"data\",\n",
    "    train=False,\n",
    "    download=True,\n",
    "    transform=valid_tfm,\n",
    ")"
   ]
  },
  {
   "cell_type": "code",
   "execution_count": 7,
   "metadata": {
    "ExecuteTime": {
     "end_time": "2022-05-10T14:45:39.289906Z",
     "start_time": "2022-05-10T14:45:39.286181Z"
    },
    "colab": {
     "base_uri": "https://localhost:8080/"
    },
    "id": "3eOTjMVem_T9",
    "outputId": "c3a532da-260b-4bd9-baef-144d73c92f92"
   },
   "outputs": [
    {
     "data": {
      "text/plain": [
       "Dataset CIFAR10\n",
       "    Number of datapoints: 50000\n",
       "    Root location: data\n",
       "    Split: Train\n",
       "    StandardTransform\n",
       "Transform: Compose(\n",
       "               RandomCrop(size=(32, 32), padding=4)\n",
       "               RandomHorizontalFlip(p=0.5)\n",
       "               ToTensor()\n",
       "               Normalize(mean=(0.4914, 0.4822, 0.4465), std=(0.2023, 0.1994, 0.201))\n",
       "           )"
      ]
     },
     "execution_count": 7,
     "metadata": {},
     "output_type": "execute_result"
    }
   ],
   "source": [
    "valid_ds = test_data\n",
    "train_ds = training_data\n",
    "train_ds"
   ]
  },
  {
   "cell_type": "code",
   "execution_count": 8,
   "metadata": {
    "ExecuteTime": {
     "end_time": "2022-05-10T14:45:39.299343Z",
     "start_time": "2022-05-10T14:45:39.292437Z"
    },
    "id": "JAFQAJUVr7U2"
   },
   "outputs": [],
   "source": [
    "# Helper functions for exploring the dataset\n",
    "def show_image(img,label):\n",
    "    print('Label: ', train_ds.classes[label],\"(\"+str(label)+\")\")\n",
    "    plt.imshow(img.permute(1,2,0))\n",
    "    \n",
    "def show_batch(dl):\n",
    "    for images, labels in dl:\n",
    "        fig,ax= plt.subplots(figsize=(12,12))\n",
    "        ax.set_xticks([]) #hide ticks\n",
    "        ax.set_yticks([])\n",
    "        ax.imshow(make_grid(images[:64],nrow=8).permute(1,2,0))\n",
    "        break # printing only first 64 images from first batch"
   ]
  },
  {
   "cell_type": "code",
   "execution_count": 9,
   "metadata": {
    "ExecuteTime": {
     "end_time": "2022-05-10T14:45:39.308963Z",
     "start_time": "2022-05-10T14:45:39.301162Z"
    },
    "id": "tj5jXuuBri6o"
   },
   "outputs": [],
   "source": [
    "batch_size=400"
   ]
  },
  {
   "cell_type": "code",
   "execution_count": 10,
   "metadata": {
    "ExecuteTime": {
     "end_time": "2022-05-10T14:45:39.319993Z",
     "start_time": "2022-05-10T14:45:39.310798Z"
    },
    "id": "n4kCM-hare00"
   },
   "outputs": [],
   "source": [
    "# Dataloader to load data in batches(mini batch)\n",
    "train_dl= DataLoader(train_ds,batch_size,shuffle=True, num_workers=3, pin_memory=True)\n",
    "valid_dl= DataLoader(valid_ds, batch_size, num_workers=3,pin_memory=True)"
   ]
  },
  {
   "cell_type": "code",
   "execution_count": 11,
   "metadata": {
    "ExecuteTime": {
     "end_time": "2022-05-10T14:45:39.339625Z",
     "start_time": "2022-05-10T14:45:39.323123Z"
    },
    "id": "lPVFZltRtXt4"
   },
   "outputs": [],
   "source": [
    "def get_default_device():\n",
    "    \"\"\"Pick GPU if available, else CPU\"\"\"\n",
    "    if torch.cuda.is_available():\n",
    "        return torch.device('cuda')\n",
    "    else:\n",
    "        return torch.device('cpu')\n",
    "    \n",
    "def to_device(data, device):\n",
    "    \"\"\"Move tensor(s) to chosen device\"\"\"\n",
    "    if isinstance(data, (list,tuple)):\n",
    "        return [to_device(x, device) for x in data]\n",
    "    return data.to(device, non_blocking=True)\n",
    "\n",
    "class DeviceDataLoader():\n",
    "    \"\"\"Wrap a dataloader to move data to a device\"\"\"\n",
    "    def __init__(self, dl, device):\n",
    "        self.dl = dl\n",
    "        self.device = device\n",
    "        \n",
    "    def __iter__(self):\n",
    "        \"\"\"Yield a batch of data after moving it to device\"\"\"\n",
    "        for b in self.dl: \n",
    "            yield to_device(b, self.device)\n",
    "\n",
    "    def __len__(self):\n",
    "        \"\"\"Number of batches\"\"\"\n",
    "        return len(self.dl)"
   ]
  },
  {
   "cell_type": "code",
   "execution_count": 12,
   "metadata": {
    "ExecuteTime": {
     "end_time": "2022-05-10T14:45:39.379946Z",
     "start_time": "2022-05-10T14:45:39.342419Z"
    },
    "colab": {
     "base_uri": "https://localhost:8080/"
    },
    "id": "SOksgE3wtYwZ",
    "outputId": "a9fb69e1-9e00-4139-d791-b7c305a7941a"
   },
   "outputs": [
    {
     "data": {
      "text/plain": [
       "device(type='cuda')"
      ]
     },
     "execution_count": 12,
     "metadata": {},
     "output_type": "execute_result"
    }
   ],
   "source": [
    "device = get_default_device()\n",
    "device"
   ]
  },
  {
   "cell_type": "code",
   "execution_count": 13,
   "metadata": {
    "ExecuteTime": {
     "end_time": "2022-05-10T14:45:39.389235Z",
     "start_time": "2022-05-10T14:45:39.383564Z"
    },
    "id": "hfVlteXctb6f"
   },
   "outputs": [],
   "source": [
    "train_dl= DeviceDataLoader(train_dl,device)\n",
    "valid_dl = DeviceDataLoader(valid_dl, device)"
   ]
  },
  {
   "cell_type": "code",
   "execution_count": 14,
   "metadata": {
    "ExecuteTime": {
     "end_time": "2022-05-10T14:45:39.406540Z",
     "start_time": "2022-05-10T14:45:39.391954Z"
    },
    "id": "PLmLZHBqtlF_"
   },
   "outputs": [],
   "source": [
    "def accuracy(outputs, labels):\n",
    "    _, preds = torch.max(outputs, dim=1)\n",
    "    return torch.tensor(torch.sum(preds == labels).item() / len(preds))\n",
    "\n",
    "class ImageClassificationBase(nn.Module):\n",
    "    def training_step(self, batch):\n",
    "        images, labels = batch \n",
    "        out = self(images)                  # Generate predictions\n",
    "        loss = F.cross_entropy(out, labels) # Calculate loss\n",
    "        return loss\n",
    "    \n",
    "    def validation_step(self, batch):\n",
    "        images, labels = batch \n",
    "        out = self(images)                    # Generate predictions\n",
    "        loss = F.cross_entropy(out, labels)   # Calculate loss\n",
    "        acc = accuracy(out, labels)           # Calculate accuracy\n",
    "        return {'val_loss': loss.detach(), 'val_acc': acc}\n",
    "        \n",
    "    def validation_epoch_end(self, outputs):\n",
    "        batch_losses = [x['val_loss'] for x in outputs]\n",
    "        epoch_loss = torch.stack(batch_losses).mean()   # Combine losses\n",
    "        batch_accs = [x['val_acc'] for x in outputs]\n",
    "        epoch_acc = torch.stack(batch_accs).mean()      # Combine accuracies\n",
    "        return {'val_loss': epoch_loss.item(), 'val_acc': epoch_acc.item()}\n",
    "    \n",
    "    def epoch_end(self, epoch, result):\n",
    "        print(\"Epoch [{}], train_loss: {:.4f}, val_loss: {:.4f}, val_acc: {:.4f}\".format(\n",
    "            epoch, result['train_loss'], result['val_loss'], result['val_acc']))"
   ]
  },
  {
   "cell_type": "code",
   "execution_count": 15,
   "metadata": {
    "ExecuteTime": {
     "end_time": "2022-05-10T14:45:39.423049Z",
     "start_time": "2022-05-10T14:45:39.408327Z"
    },
    "id": "LcaZkKzQtomv"
   },
   "outputs": [],
   "source": [
    "def conv_block(in_channels, out_channels, pool=False):\n",
    "    layers = [nn.Conv2d(in_channels, out_channels, kernel_size=3, padding=1),\n",
    "              nn.ReLU(inplace=True),\n",
    "             nn.BatchNorm2d(out_channels)]\n",
    "    if pool: layers.append(nn.MaxPool2d(2))\n",
    "    return nn.Sequential(*layers)\n",
    "\n",
    "class ResNet9(ImageClassificationBase):\n",
    "    def __init__(self, in_channels, num_classes):\n",
    "        super().__init__()\n",
    "        \n",
    "        self.conv1 = conv_block(in_channels, 64)\n",
    "        self.conv2 = conv_block(64, 128, pool=True)\n",
    "        self.res1 = nn.Sequential(conv_block(128, 128), conv_block(128, 128))\n",
    "        \n",
    "        self.conv3 = conv_block(128, 256, pool=True)\n",
    "        self.conv4 = conv_block(256, 512, pool=True)\n",
    "        self.res2 = nn.Sequential(conv_block(512, 512), conv_block(512, 512))\n",
    "        \n",
    "        self.classifier = nn.Sequential(nn.MaxPool2d(4), \n",
    "                                        nn.Flatten(), \n",
    "                                        nn.Linear(512, num_classes))\n",
    "        \n",
    "    def forward(self, xb):\n",
    "        out = self.conv1(xb)\n",
    "        out = self.conv2(out)\n",
    "        out = self.res1(out) + out\n",
    "        out = self.conv3(out)\n",
    "        out = self.conv4(out)\n",
    "        out = self.res2(out) + out\n",
    "        out = self.classifier(out)\n",
    "        return out"
   ]
  },
  {
   "cell_type": "code",
   "execution_count": 16,
   "metadata": {
    "ExecuteTime": {
     "end_time": "2022-05-10T14:45:41.898104Z",
     "start_time": "2022-05-10T14:45:39.424370Z"
    },
    "colab": {
     "base_uri": "https://localhost:8080/"
    },
    "id": "O8BOig0Otrjz",
    "outputId": "a40ce9a4-8852-4595-9525-9841221a3391"
   },
   "outputs": [
    {
     "data": {
      "text/plain": [
       "ResNet9(\n",
       "  (conv1): Sequential(\n",
       "    (0): Conv2d(3, 64, kernel_size=(3, 3), stride=(1, 1), padding=(1, 1))\n",
       "    (1): ReLU(inplace=True)\n",
       "    (2): BatchNorm2d(64, eps=1e-05, momentum=0.1, affine=True, track_running_stats=True)\n",
       "  )\n",
       "  (conv2): Sequential(\n",
       "    (0): Conv2d(64, 128, kernel_size=(3, 3), stride=(1, 1), padding=(1, 1))\n",
       "    (1): ReLU(inplace=True)\n",
       "    (2): BatchNorm2d(128, eps=1e-05, momentum=0.1, affine=True, track_running_stats=True)\n",
       "    (3): MaxPool2d(kernel_size=2, stride=2, padding=0, dilation=1, ceil_mode=False)\n",
       "  )\n",
       "  (res1): Sequential(\n",
       "    (0): Sequential(\n",
       "      (0): Conv2d(128, 128, kernel_size=(3, 3), stride=(1, 1), padding=(1, 1))\n",
       "      (1): ReLU(inplace=True)\n",
       "      (2): BatchNorm2d(128, eps=1e-05, momentum=0.1, affine=True, track_running_stats=True)\n",
       "    )\n",
       "    (1): Sequential(\n",
       "      (0): Conv2d(128, 128, kernel_size=(3, 3), stride=(1, 1), padding=(1, 1))\n",
       "      (1): ReLU(inplace=True)\n",
       "      (2): BatchNorm2d(128, eps=1e-05, momentum=0.1, affine=True, track_running_stats=True)\n",
       "    )\n",
       "  )\n",
       "  (conv3): Sequential(\n",
       "    (0): Conv2d(128, 256, kernel_size=(3, 3), stride=(1, 1), padding=(1, 1))\n",
       "    (1): ReLU(inplace=True)\n",
       "    (2): BatchNorm2d(256, eps=1e-05, momentum=0.1, affine=True, track_running_stats=True)\n",
       "    (3): MaxPool2d(kernel_size=2, stride=2, padding=0, dilation=1, ceil_mode=False)\n",
       "  )\n",
       "  (conv4): Sequential(\n",
       "    (0): Conv2d(256, 512, kernel_size=(3, 3), stride=(1, 1), padding=(1, 1))\n",
       "    (1): ReLU(inplace=True)\n",
       "    (2): BatchNorm2d(512, eps=1e-05, momentum=0.1, affine=True, track_running_stats=True)\n",
       "    (3): MaxPool2d(kernel_size=2, stride=2, padding=0, dilation=1, ceil_mode=False)\n",
       "  )\n",
       "  (res2): Sequential(\n",
       "    (0): Sequential(\n",
       "      (0): Conv2d(512, 512, kernel_size=(3, 3), stride=(1, 1), padding=(1, 1))\n",
       "      (1): ReLU(inplace=True)\n",
       "      (2): BatchNorm2d(512, eps=1e-05, momentum=0.1, affine=True, track_running_stats=True)\n",
       "    )\n",
       "    (1): Sequential(\n",
       "      (0): Conv2d(512, 512, kernel_size=(3, 3), stride=(1, 1), padding=(1, 1))\n",
       "      (1): ReLU(inplace=True)\n",
       "      (2): BatchNorm2d(512, eps=1e-05, momentum=0.1, affine=True, track_running_stats=True)\n",
       "    )\n",
       "  )\n",
       "  (classifier): Sequential(\n",
       "    (0): MaxPool2d(kernel_size=4, stride=4, padding=0, dilation=1, ceil_mode=False)\n",
       "    (1): Flatten(start_dim=1, end_dim=-1)\n",
       "    (2): Linear(in_features=512, out_features=10, bias=True)\n",
       "  )\n",
       ")"
      ]
     },
     "execution_count": 16,
     "metadata": {},
     "output_type": "execute_result"
    }
   ],
   "source": [
    "model= to_device(ResNet9(3,10), device)\n",
    "model"
   ]
  },
  {
   "cell_type": "code",
   "execution_count": 17,
   "metadata": {
    "ExecuteTime": {
     "end_time": "2022-05-10T14:45:41.909176Z",
     "start_time": "2022-05-10T14:45:41.900100Z"
    },
    "id": "hmbJUvR3t0QY"
   },
   "outputs": [],
   "source": [
    "@torch.no_grad()\n",
    "def evaluate(model, val_loader):\n",
    "    model.eval()\n",
    "    outputs = [model.validation_step(batch) for batch in val_loader]\n",
    "    return model.validation_epoch_end(outputs)\n",
    "\n",
    "def get_lr(optimizer):\n",
    "    for param_group in optimizer.param_groups:\n",
    "        return param_group['lr']\n",
    "\n",
    "def fit_one_cycle(epochs, max_lr, model, train_loader, val_loader, \n",
    "                  weight_decay=0, grad_clip=None, opt_func=torch.optim.SGD):\n",
    "    torch.cuda.empty_cache()  # Realsing cuda memory otherwise might get cuda out of memory error\n",
    "    history = []\n",
    "    \n",
    "    #custom optimizer with weight decay\n",
    "    optimizer = opt_func(model.parameters(), max_lr, weight_decay=weight_decay)\n",
    "    # Set up one-cycle learning rate scheduler\n",
    "    sched = torch.optim.lr_scheduler.OneCycleLR(optimizer, max_lr, epochs=epochs, \n",
    "                                                steps_per_epoch=len(train_loader))\n",
    "    \n",
    "    for epoch in range(epochs):\n",
    "        # Training Phase \n",
    "        model.train() #Setting training mode\n",
    "        train_losses = []\n",
    "        lrs = []\n",
    "        for batch in train_loader:\n",
    "            loss = model.training_step(batch)\n",
    "            train_losses.append(loss)\n",
    "            loss.backward()\n",
    "            \n",
    "            # Gradient clipping\n",
    "            if grad_clip: \n",
    "                nn.utils.clip_grad_value_(model.parameters(), grad_clip)\n",
    "            \n",
    "            optimizer.step()\n",
    "            optimizer.zero_grad()\n",
    "            \n",
    "            # Record & update learning rate\n",
    "            lrs.append(get_lr(optimizer))\n",
    "            sched.step()\n",
    "        \n",
    "        # Validation phase\n",
    "        result = evaluate(model, val_loader)\n",
    "        result['train_loss'] = torch.stack(train_losses).mean().item()\n",
    "        result['lrs'] = lrs\n",
    "        model.epoch_end(epoch, result)\n",
    "        history.append(result)\n",
    "    return history"
   ]
  },
  {
   "cell_type": "code",
   "execution_count": 18,
   "metadata": {
    "ExecuteTime": {
     "end_time": "2022-05-10T14:45:43.091615Z",
     "start_time": "2022-05-10T14:45:41.910680Z"
    },
    "colab": {
     "base_uri": "https://localhost:8080/"
    },
    "id": "_TPdh3fbt1fH",
    "outputId": "a22ad739-4bd6-459d-f905-64450f06bf4c"
   },
   "outputs": [
    {
     "data": {
      "text/plain": [
       "[{'val_loss': 2.3096609115600586, 'val_acc': 0.10000000149011612}]"
      ]
     },
     "execution_count": 18,
     "metadata": {},
     "output_type": "execute_result"
    }
   ],
   "source": [
    "# Smoke test: if something's wrong with how we set up our model, we'll see it now\n",
    "history = [evaluate(model, valid_dl)]\n",
    "history"
   ]
  },
  {
   "cell_type": "code",
   "execution_count": 19,
   "metadata": {
    "ExecuteTime": {
     "end_time": "2022-05-10T14:45:43.102380Z",
     "start_time": "2022-05-10T14:45:43.095454Z"
    },
    "id": "fFL3dFDnt6pb"
   },
   "outputs": [],
   "source": [
    "epochs = 70\n",
    "max_lr = 0.01\n",
    "grad_clip = 0.1\n",
    "weight_decay = 1e-4\n",
    "opt_func = torch.optim.Adam"
   ]
  },
  {
   "cell_type": "code",
   "execution_count": 20,
   "metadata": {
    "ExecuteTime": {
     "end_time": "2022-05-10T15:05:17.446945Z",
     "start_time": "2022-05-10T14:45:43.104672Z"
    },
    "colab": {
     "base_uri": "https://localhost:8080/"
    },
    "id": "01CAjQi2t8Ub",
    "outputId": "776b2d7d-902f-4f3c-ece0-24ccd16c4d53"
   },
   "outputs": [
    {
     "name": "stdout",
     "output_type": "stream",
     "text": [
      "Epoch [0], train_loss: 1.4047, val_loss: 0.9865, val_acc: 0.6544\n",
      "Epoch [1], train_loss: 0.8960, val_loss: 0.7597, val_acc: 0.7327\n",
      "Epoch [2], train_loss: 0.6952, val_loss: 0.6289, val_acc: 0.7833\n",
      "Epoch [3], train_loss: 0.5851, val_loss: 0.5852, val_acc: 0.7972\n",
      "Epoch [4], train_loss: 0.5359, val_loss: 0.5129, val_acc: 0.8268\n",
      "Epoch [5], train_loss: 0.4607, val_loss: 0.5081, val_acc: 0.8329\n",
      "Epoch [6], train_loss: 0.4660, val_loss: 0.5313, val_acc: 0.8328\n",
      "Epoch [7], train_loss: 0.4579, val_loss: 0.6304, val_acc: 0.8099\n",
      "Epoch [8], train_loss: 0.4181, val_loss: 0.5260, val_acc: 0.8276\n",
      "Epoch [9], train_loss: 0.4166, val_loss: 0.5070, val_acc: 0.8418\n",
      "Epoch [10], train_loss: 0.3892, val_loss: 0.5203, val_acc: 0.8359\n",
      "Epoch [11], train_loss: 0.4097, val_loss: 0.5583, val_acc: 0.8294\n",
      "Epoch [12], train_loss: 0.3877, val_loss: 0.4641, val_acc: 0.8522\n",
      "Epoch [13], train_loss: 0.3656, val_loss: 0.4285, val_acc: 0.8602\n",
      "Epoch [14], train_loss: 0.3776, val_loss: 0.5269, val_acc: 0.8322\n",
      "Epoch [15], train_loss: 0.3612, val_loss: 0.5051, val_acc: 0.8387\n",
      "Epoch [16], train_loss: 0.3436, val_loss: 0.4769, val_acc: 0.8492\n",
      "Epoch [17], train_loss: 0.3279, val_loss: 0.4144, val_acc: 0.8612\n",
      "Epoch [18], train_loss: 0.3288, val_loss: 0.5051, val_acc: 0.8320\n",
      "Epoch [19], train_loss: 0.3247, val_loss: 0.3737, val_acc: 0.8780\n",
      "Epoch [20], train_loss: 0.3179, val_loss: 0.4346, val_acc: 0.8619\n",
      "Epoch [21], train_loss: 0.3309, val_loss: 0.4233, val_acc: 0.8574\n",
      "Epoch [22], train_loss: 0.3195, val_loss: 0.4164, val_acc: 0.8621\n",
      "Epoch [23], train_loss: 0.3195, val_loss: 0.3743, val_acc: 0.8743\n",
      "Epoch [24], train_loss: 0.3240, val_loss: 0.4548, val_acc: 0.8508\n",
      "Epoch [25], train_loss: 0.3088, val_loss: 0.4105, val_acc: 0.8607\n",
      "Epoch [26], train_loss: 0.3276, val_loss: 0.4442, val_acc: 0.8552\n",
      "Epoch [27], train_loss: 0.3263, val_loss: 0.4180, val_acc: 0.8635\n",
      "Epoch [28], train_loss: 0.3196, val_loss: 0.4728, val_acc: 0.8392\n",
      "Epoch [29], train_loss: 0.3213, val_loss: 0.3955, val_acc: 0.8671\n",
      "Epoch [30], train_loss: 0.3249, val_loss: 0.3974, val_acc: 0.8693\n",
      "Epoch [31], train_loss: 0.3199, val_loss: 0.4533, val_acc: 0.8499\n",
      "Epoch [32], train_loss: 0.3197, val_loss: 0.3839, val_acc: 0.8757\n",
      "Epoch [33], train_loss: 0.3150, val_loss: 0.4158, val_acc: 0.8620\n",
      "Epoch [34], train_loss: 0.3132, val_loss: 0.4483, val_acc: 0.8472\n",
      "Epoch [35], train_loss: 0.3109, val_loss: 0.4249, val_acc: 0.8584\n",
      "Epoch [36], train_loss: 0.3048, val_loss: 0.4179, val_acc: 0.8646\n",
      "Epoch [37], train_loss: 0.3073, val_loss: 0.4005, val_acc: 0.8658\n",
      "Epoch [38], train_loss: 0.2985, val_loss: 0.3858, val_acc: 0.8702\n",
      "Epoch [39], train_loss: 0.2873, val_loss: 0.3711, val_acc: 0.8736\n",
      "Epoch [40], train_loss: 0.2834, val_loss: 0.3984, val_acc: 0.8667\n",
      "Epoch [41], train_loss: 0.2810, val_loss: 0.4012, val_acc: 0.8673\n",
      "Epoch [42], train_loss: 0.2687, val_loss: 0.3827, val_acc: 0.8713\n",
      "Epoch [43], train_loss: 0.2659, val_loss: 0.3598, val_acc: 0.8834\n",
      "Epoch [44], train_loss: 0.2475, val_loss: 0.3597, val_acc: 0.8806\n",
      "Epoch [45], train_loss: 0.2408, val_loss: 0.3519, val_acc: 0.8845\n",
      "Epoch [46], train_loss: 0.2345, val_loss: 0.3315, val_acc: 0.8884\n",
      "Epoch [47], train_loss: 0.2176, val_loss: 0.3324, val_acc: 0.8923\n",
      "Epoch [48], train_loss: 0.2143, val_loss: 0.3297, val_acc: 0.8923\n",
      "Epoch [49], train_loss: 0.1951, val_loss: 0.3068, val_acc: 0.8992\n",
      "Epoch [50], train_loss: 0.1812, val_loss: 0.3365, val_acc: 0.8931\n",
      "Epoch [51], train_loss: 0.1735, val_loss: 0.3140, val_acc: 0.8990\n",
      "Epoch [52], train_loss: 0.1608, val_loss: 0.3053, val_acc: 0.9019\n",
      "Epoch [53], train_loss: 0.1491, val_loss: 0.2837, val_acc: 0.9109\n",
      "Epoch [54], train_loss: 0.1295, val_loss: 0.3045, val_acc: 0.9055\n",
      "Epoch [55], train_loss: 0.1167, val_loss: 0.2874, val_acc: 0.9130\n",
      "Epoch [56], train_loss: 0.1064, val_loss: 0.2872, val_acc: 0.9116\n",
      "Epoch [57], train_loss: 0.0872, val_loss: 0.2734, val_acc: 0.9185\n",
      "Epoch [58], train_loss: 0.0725, val_loss: 0.2735, val_acc: 0.9195\n",
      "Epoch [59], train_loss: 0.0633, val_loss: 0.2818, val_acc: 0.9204\n",
      "Epoch [60], train_loss: 0.0523, val_loss: 0.2666, val_acc: 0.9238\n",
      "Epoch [61], train_loss: 0.0424, val_loss: 0.2700, val_acc: 0.9249\n",
      "Epoch [62], train_loss: 0.0341, val_loss: 0.2713, val_acc: 0.9253\n",
      "Epoch [63], train_loss: 0.0293, val_loss: 0.2695, val_acc: 0.9280\n",
      "Epoch [64], train_loss: 0.0257, val_loss: 0.2654, val_acc: 0.9290\n",
      "Epoch [65], train_loss: 0.0215, val_loss: 0.2684, val_acc: 0.9305\n",
      "Epoch [66], train_loss: 0.0186, val_loss: 0.2696, val_acc: 0.9301\n",
      "Epoch [67], train_loss: 0.0180, val_loss: 0.2707, val_acc: 0.9302\n",
      "Epoch [68], train_loss: 0.0173, val_loss: 0.2691, val_acc: 0.9307\n",
      "Epoch [69], train_loss: 0.0170, val_loss: 0.2688, val_acc: 0.9303\n",
      "CPU times: user 12min 55s, sys: 5min 33s, total: 18min 29s\n",
      "Wall time: 19min 34s\n"
     ]
    }
   ],
   "source": [
    "%%time\n",
    "history += fit_one_cycle(epochs, max_lr, model, train_dl, valid_dl, \n",
    "                             grad_clip=grad_clip, \n",
    "                             weight_decay=weight_decay, \n",
    "                             opt_func=opt_func)"
   ]
  },
  {
   "cell_type": "code",
   "execution_count": 21,
   "metadata": {
    "ExecuteTime": {
     "end_time": "2022-05-10T15:05:17.459008Z",
     "start_time": "2022-05-10T15:05:17.452335Z"
    },
    "id": "jvJzQAeNjB6Y"
   },
   "outputs": [],
   "source": [
    "def plot_accuracies(history):\n",
    "    accuracies = [x['val_acc'] for x in history]\n",
    "    plt.figure(figsize=(10,6))\n",
    "    plt.plot(accuracies, '-x')\n",
    "    plt.xlabel('epoch')\n",
    "    plt.ylabel('accuracy')\n",
    "    plt.title('Accuracy vs. No. of epochs');"
   ]
  },
  {
   "cell_type": "code",
   "execution_count": 22,
   "metadata": {
    "ExecuteTime": {
     "end_time": "2022-05-10T15:05:17.630581Z",
     "start_time": "2022-05-10T15:05:17.461049Z"
    },
    "colab": {
     "base_uri": "https://localhost:8080/",
     "height": 171
    },
    "id": "fYuANPlfjIvt",
    "outputId": "08453f89-0933-4bd9-e02a-d760aad8714f"
   },
   "outputs": [
    {
     "data": {
      "image/png": "[encoded data removed]",
      "text/plain": [
       "<Figure size 720x432 with 1 Axes>"
      ]
     },
     "metadata": {
      "needs_background": "light"
     },
     "output_type": "display_data"
    }
   ],
   "source": [
    "plot_accuracies(history)"
   ]
  },
  {
   "cell_type": "code",
   "execution_count": 23,
   "metadata": {
    "ExecuteTime": {
     "end_time": "2022-05-10T15:05:17.637682Z",
     "start_time": "2022-05-10T15:05:17.633418Z"
    },
    "id": "JV6cn39HjTF-"
   },
   "outputs": [],
   "source": [
    "def plot_losses(history):\n",
    "    train_losses = [x.get('train_loss') for x in history]\n",
    "    val_losses = [x['val_loss'] for x in history]\n",
    "    plt.figure(figsize=(10,6))\n",
    "    plt.plot(train_losses, '-bx')\n",
    "    plt.plot(val_losses, '-rx')\n",
    "    plt.xlabel('epoch')\n",
    "    plt.ylabel('loss')\n",
    "    plt.legend(['Training', 'Validation'])\n",
    "    plt.title('Loss vs. No. of epochs');"
   ]
  },
  {
   "cell_type": "code",
   "execution_count": 24,
   "metadata": {
    "ExecuteTime": {
     "end_time": "2022-05-10T15:05:17.807487Z",
     "start_time": "2022-05-10T15:05:17.639407Z"
    },
    "colab": {
     "base_uri": "https://localhost:8080/",
     "height": 171
    },
    "id": "kuky-BEDjUw_",
    "outputId": "e33b1eb9-e7c7-483d-829a-75bce6a074ae"
   },
   "outputs": [
    {
     "data": {
      "image/png": "[encoded data removed]",
      "text/plain": [
       "<Figure size 720x432 with 1 Axes>"
      ]
     },
     "metadata": {
      "needs_background": "light"
     },
     "output_type": "display_data"
    }
   ],
   "source": [
    "plot_losses(history)"
   ]
  },
  {
   "cell_type": "code",
   "execution_count": 25,
   "metadata": {
    "ExecuteTime": {
     "end_time": "2022-05-10T15:05:17.812732Z",
     "start_time": "2022-05-10T15:05:17.809057Z"
    },
    "id": "ToUcs2S6jZl_"
   },
   "outputs": [],
   "source": [
    "def plot_lrs(history):\n",
    "    lrs = np.concatenate([x.get('lrs', []) for x in history])\n",
    "    plt.figure(figsize=(10,6))\n",
    "    plt.plot(lrs)\n",
    "    plt.xlabel('Batch no.')\n",
    "    plt.ylabel('Learning rate')\n",
    "    plt.title('Learning Rate vs. Batch no.');"
   ]
  },
  {
   "cell_type": "code",
   "execution_count": 26,
   "metadata": {
    "ExecuteTime": {
     "end_time": "2022-05-10T15:05:18.049867Z",
     "start_time": "2022-05-10T15:05:17.814375Z"
    },
    "colab": {
     "base_uri": "https://localhost:8080/",
     "height": 171
    },
    "id": "V1ao5oIJjboF",
    "outputId": "23d3a338-12ab-42be-b2de-8a2b3d55ccae"
   },
   "outputs": [
    {
     "data": {
      "image/png": "[encoded data removed]",
      "text/plain": [
       "<Figure size 720x432 with 1 Axes>"
      ]
     },
     "metadata": {
      "needs_background": "light"
     },
     "output_type": "display_data"
    }
   ],
   "source": [
    "plot_lrs(history)"
   ]
  }
 ],
 "metadata": {
  "accelerator": "GPU",
  "colab": {
   "collapsed_sections": [],
   "include_colab_link": true,
   "name": "kaggle94gpu.ipynb",
   "provenance": []
  },
  "kernelspec": {
   "display_name": "Python 3",
   "language": "python",
   "name": "python3"
  },
  "language_info": {
   "codemirror_mode": {
    "name": "ipython",
    "version": 3
   },
   "file_extension": ".py",
   "mimetype": "text/x-python",
   "name": "python",
   "nbconvert_exporter": "python",
   "pygments_lexer": "ipython3",
   "version": "3.6.9"
  },
  "widgets": {
   "application/vnd.jupyter.widget-state+json": {
    "0433c9c034b7466a98118f517c9ae2e8": {
     "model_module": "@jupyter-widgets/base",
     "model_module_version": "1.2.0",
     "model_name": "LayoutModel",
     "state": {
      "_model_module": "@jupyter-widgets/base",
      "_model_module_version": "1.2.0",
      "_model_name": "LayoutModel",
      "_view_count": null,
      "_view_module": "@jupyter-widgets/base",
      "_view_module_version": "1.2.0",
      "_view_name": "LayoutView",
      "align_content": null,
      "align_items": null,
      "align_self": null,
      "border": null,
      "bottom": null,
      "display": null,
      "flex": null,
      "flex_flow": null,
      "grid_area": null,
      "grid_auto_columns": null,
      "grid_auto_flow": null,
      "grid_auto_rows": null,
      "grid_column": null,
      "grid_gap": null,
      "grid_row": null,
      "grid_template_areas": null,
      "grid_template_columns": null,
      "grid_template_rows": null,
      "height": null,
      "justify_content": null,
      "justify_items": null,
      "left": null,
      "margin": null,
      "max_height": null,
      "max_width": null,
      "min_height": null,
      "min_width": null,
      "object_fit": null,
      "object_position": null,
      "order": null,
      "overflow": null,
      "overflow_x": null,
      "overflow_y": null,
      "padding": null,
      "right": null,
      "top": null,
      "visibility": null,
      "width": null
     }
    },
    "29225a4d667e47f980b33c95c0850d16": {
     "model_module": "@jupyter-widgets/controls",
     "model_module_version": "1.5.0",
     "model_name": "DescriptionStyleModel",
     "state": {
      "_model_module": "@jupyter-widgets/controls",
      "_model_module_version": "1.5.0",
      "_model_name": "DescriptionStyleModel",
      "_view_count": null,
      "_view_module": "@jupyter-widgets/base",
      "_view_module_version": "1.2.0",
      "_view_name": "StyleView",
      "description_width": ""
     }
    },
    "350d156265104e2296caf536b05d26cc": {
     "model_module": "@jupyter-widgets/controls",
     "model_module_version": "1.5.0",
     "model_name": "FloatProgressModel",
     "state": {
      "_dom_classes": [],
      "_model_module": "@jupyter-widgets/controls",
      "_model_module_version": "1.5.0",
      "_model_name": "FloatProgressModel",
      "_view_count": null,
      "_view_module": "@jupyter-widgets/controls",
      "_view_module_version": "1.5.0",
      "_view_name": "ProgressView",
      "bar_style": "success",
      "description": "",
      "description_tooltip": null,
      "layout": "IPY_MODEL_9ae1047b1b184d81bde7c14ca6ad72d5",
      "max": 170498071,
      "min": 0,
      "orientation": "horizontal",
      "style": "IPY_MODEL_37da94684df543f3a81fe78c389f68dc",
      "value": 170498071
     }
    },
    "37da94684df543f3a81fe78c389f68dc": {
     "model_module": "@jupyter-widgets/controls",
     "model_module_version": "1.5.0",
     "model_name": "ProgressStyleModel",
     "state": {
      "_model_module": "@jupyter-widgets/controls",
      "_model_module_version": "1.5.0",
      "_model_name": "ProgressStyleModel",
      "_view_count": null,
      "_view_module": "@jupyter-widgets/base",
      "_view_module_version": "1.2.0",
      "_view_name": "StyleView",
      "bar_color": null,
      "description_width": ""
     }
    },
    "40b5952c97aa40169739936f0d549d02": {
     "model_module": "@jupyter-widgets/controls",
     "model_module_version": "1.5.0",
     "model_name": "HTMLModel",
     "state": {
      "_dom_classes": [],
      "_model_module": "@jupyter-widgets/controls",
      "_model_module_version": "1.5.0",
      "_model_name": "HTMLModel",
      "_view_count": null,
      "_view_module": "@jupyter-widgets/controls",
      "_view_module_version": "1.5.0",
      "_view_name": "HTMLView",
      "description": "",
      "description_tooltip": null,
      "layout": "IPY_MODEL_0433c9c034b7466a98118f517c9ae2e8",
      "placeholder": "​",
      "style": "IPY_MODEL_fb9ab6c5d81f48089ac0d9dc03c72e6b",
      "value": " 170499072/? [00:02&lt;00:00, 62626240.17it/s]"
     }
    },
    "4c7fbb2405c84d7887d63fd6217cba4a": {
     "model_module": "@jupyter-widgets/controls",
     "model_module_version": "1.5.0",
     "model_name": "HTMLModel",
     "state": {
      "_dom_classes": [],
      "_model_module": "@jupyter-widgets/controls",
      "_model_module_version": "1.5.0",
      "_model_name": "HTMLModel",
      "_view_count": null,
      "_view_module": "@jupyter-widgets/controls",
      "_view_module_version": "1.5.0",
      "_view_name": "HTMLView",
      "description": "",
      "description_tooltip": null,
      "layout": "IPY_MODEL_a448b41c426a4810a07d5eb92df1bc21",
      "placeholder": "​",
      "style": "IPY_MODEL_29225a4d667e47f980b33c95c0850d16",
      "value": ""
     }
    },
    "50c9aed288f14fcd94009217a59c91ff": {
     "model_module": "@jupyter-widgets/base",
     "model_module_version": "1.2.0",
     "model_name": "LayoutModel",
     "state": {
      "_model_module": "@jupyter-widgets/base",
      "_model_module_version": "1.2.0",
      "_model_name": "LayoutModel",
      "_view_count": null,
      "_view_module": "@jupyter-widgets/base",
      "_view_module_version": "1.2.0",
      "_view_name": "LayoutView",
      "align_content": null,
      "align_items": null,
      "align_self": null,
      "border": null,
      "bottom": null,
      "display": null,
      "flex": null,
      "flex_flow": null,
      "grid_area": null,
      "grid_auto_columns": null,
      "grid_auto_flow": null,
      "grid_auto_rows": null,
      "grid_column": null,
      "grid_gap": null,
      "grid_row": null,
      "grid_template_areas": null,
      "grid_template_columns": null,
      "grid_template_rows": null,
      "height": null,
      "justify_content": null,
      "justify_items": null,
      "left": null,
      "margin": null,
      "max_height": null,
      "max_width": null,
      "min_height": null,
      "min_width": null,
      "object_fit": null,
      "object_position": null,
      "order": null,
      "overflow": null,
      "overflow_x": null,
      "overflow_y": null,
      "padding": null,
      "right": null,
      "top": null,
      "visibility": null,
      "width": null
     }
    },
    "9ae1047b1b184d81bde7c14ca6ad72d5": {
     "model_module": "@jupyter-widgets/base",
     "model_module_version": "1.2.0",
     "model_name": "LayoutModel",
     "state": {
      "_model_module": "@jupyter-widgets/base",
      "_model_module_version": "1.2.0",
      "_model_name": "LayoutModel",
      "_view_count": null,
      "_view_module": "@jupyter-widgets/base",
      "_view_module_version": "1.2.0",
      "_view_name": "LayoutView",
      "align_content": null,
      "align_items": null,
      "align_self": null,
      "border": null,
      "bottom": null,
      "display": null,
      "flex": null,
      "flex_flow": null,
      "grid_area": null,
      "grid_auto_columns": null,
      "grid_auto_flow": null,
      "grid_auto_rows": null,
      "grid_column": null,
      "grid_gap": null,
      "grid_row": null,
      "grid_template_areas": null,
      "grid_template_columns": null,
      "grid_template_rows": null,
      "height": null,
      "justify_content": null,
      "justify_items": null,
      "left": null,
      "margin": null,
      "max_height": null,
      "max_width": null,
      "min_height": null,
      "min_width": null,
      "object_fit": null,
      "object_position": null,
      "order": null,
      "overflow": null,
      "overflow_x": null,
      "overflow_y": null,
      "padding": null,
      "right": null,
      "top": null,
      "visibility": null,
      "width": null
     }
    },
    "a448b41c426a4810a07d5eb92df1bc21": {
     "model_module": "@jupyter-widgets/base",
     "model_module_version": "1.2.0",
     "model_name": "LayoutModel",
     "state": {
      "_model_module": "@jupyter-widgets/base",
      "_model_module_version": "1.2.0",
      "_model_name": "LayoutModel",
      "_view_count": null,
      "_view_module": "@jupyter-widgets/base",
      "_view_module_version": "1.2.0",
      "_view_name": "LayoutView",
      "align_content": null,
      "align_items": null,
      "align_self": null,
      "border": null,
      "bottom": null,
      "display": null,
      "flex": null,
      "flex_flow": null,
      "grid_area": null,
      "grid_auto_columns": null,
      "grid_auto_flow": null,
      "grid_auto_rows": null,
      "grid_column": null,
      "grid_gap": null,
      "grid_row": null,
      "grid_template_areas": null,
      "grid_template_columns": null,
      "grid_template_rows": null,
      "height": null,
      "justify_content": null,
      "justify_items": null,
      "left": null,
      "margin": null,
      "max_height": null,
      "max_width": null,
      "min_height": null,
      "min_width": null,
      "object_fit": null,
      "object_position": null,
      "order": null,
      "overflow": null,
      "overflow_x": null,
      "overflow_y": null,
      "padding": null,
      "right": null,
      "top": null,
      "visibility": null,
      "width": null
     }
    },
    "c974d31e436a42899adbf2ef969307a4": {
     "model_module": "@jupyter-widgets/controls",
     "model_module_version": "1.5.0",
     "model_name": "HBoxModel",
     "state": {
      "_dom_classes": [],
      "_model_module": "@jupyter-widgets/controls",
      "_model_module_version": "1.5.0",
      "_model_name": "HBoxModel",
      "_view_count": null,
      "_view_module": "@jupyter-widgets/controls",
      "_view_module_version": "1.5.0",
      "_view_name": "HBoxView",
      "box_style": "",
      "children": [
       "IPY_MODEL_4c7fbb2405c84d7887d63fd6217cba4a",
       "IPY_MODEL_350d156265104e2296caf536b05d26cc",
       "IPY_MODEL_40b5952c97aa40169739936f0d549d02"
      ],
      "layout": "IPY_MODEL_50c9aed288f14fcd94009217a59c91ff"
     }
    },
    "fb9ab6c5d81f48089ac0d9dc03c72e6b": {
     "model_module": "@jupyter-widgets/controls",
     "model_module_version": "1.5.0",
     "model_name": "DescriptionStyleModel",
     "state": {
      "_model_module": "@jupyter-widgets/controls",
      "_model_module_version": "1.5.0",
      "_model_name": "DescriptionStyleModel",
      "_view_count": null,
      "_view_module": "@jupyter-widgets/base",
      "_view_module_version": "1.2.0",
      "_view_name": "StyleView",
      "description_width": ""
     }
    }
   }
  }
 },
 "nbformat": 4,
 "nbformat_minor": 4
}
