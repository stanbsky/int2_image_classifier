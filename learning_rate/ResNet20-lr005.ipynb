{
 "cells": [
  {
   "cell_type": "markdown",
   "metadata": {
    "colab_type": "text",
    "id": "view-in-github"
   },
   "source": [
    "<a href=\"https://colab.research.google.com/github/stanbsky/int2_image_classifier/blob/main/kaggle94gpu.ipynb\" target=\"_parent\"><img src=\"https://colab.research.google.com/assets/colab-badge.svg\" alt=\"Open In Colab\"/></a>"
   ]
  },
  {
   "cell_type": "code",
   "execution_count": 1,
   "metadata": {
    "ExecuteTime": {
     "end_time": "2022-05-10T14:37:24.922834Z",
     "start_time": "2022-05-10T14:37:23.717524Z"
    },
    "id": "OD2wVFLtkbkN"
   },
   "outputs": [
    {
     "name": "stderr",
     "output_type": "stream",
     "text": [
      "Matplotlib created a temporary config/cache directory at /tmp/matplotlib-_k1sguz6 because the default path (/run/user/141228/cache/matplotlib) is not a writable directory; it is highly recommended to set the MPLCONFIGDIR environment variable to a writable directory, in particular to speed up the import of Matplotlib and to better support multiprocessing.\n"
     ]
    }
   ],
   "source": [
    "# importing libraries\n",
    "import torch\n",
    "import torchvision\n",
    "from torchvision.datasets.utils import download_url\n",
    "from torch.utils.data import random_split\n",
    "from torchvision.datasets import ImageFolder\n",
    "from torchvision.transforms import ToTensor,ToPILImage\n",
    "import matplotlib.pyplot as plt\n",
    "from torchvision.utils import make_grid\n",
    "from torch.utils.data.dataloader import DataLoader\n",
    "from torchvision.utils import make_grid\n",
    "import torch.nn as nn\n",
    "import torch.nn.functional as F\n",
    "import torchvision.transforms as tt\n",
    "import numpy as np"
   ]
  },
  {
   "cell_type": "code",
   "execution_count": 2,
   "metadata": {
    "ExecuteTime": {
     "end_time": "2022-05-10T14:37:24.929242Z",
     "start_time": "2022-05-10T14:37:24.925991Z"
    },
    "id": "Cea6yx4amG2c"
   },
   "outputs": [],
   "source": [
    "import torchvision.datasets as datasets"
   ]
  },
  {
   "cell_type": "code",
   "execution_count": 3,
   "metadata": {
    "ExecuteTime": {
     "end_time": "2022-05-10T14:37:25.653393Z",
     "start_time": "2022-05-10T14:37:24.934063Z"
    },
    "colab": {
     "base_uri": "https://localhost:8080/"
    },
    "id": "efdLf1xLk5_y",
    "outputId": "dd7073c3-3026-4d75-eee6-e0425ce35d3e"
   },
   "outputs": [
    {
     "data": {
      "text/plain": [
       "<weakproxy at 0x7f022f8048b8 to Device at 0x7f022f86f6a0>"
      ]
     },
     "execution_count": 3,
     "metadata": {},
     "output_type": "execute_result"
    }
   ],
   "source": [
    "from numba import cuda\n",
    "cuda.select_device(4)"
   ]
  },
  {
   "cell_type": "code",
   "execution_count": 4,
   "metadata": {
    "ExecuteTime": {
     "end_time": "2022-05-10T14:37:25.670458Z",
     "start_time": "2022-05-10T14:37:25.659080Z"
    },
    "id": "hNiNZttPlHFe"
   },
   "outputs": [],
   "source": [
    "stats= ((0.4914,0.4822,0.4465),(0.2023,0.1994,0.2010)) #mean and std\n",
    "train_tfm= tt.Compose([tt.RandomCrop(32, padding=4, padding_mode='reflect'), # transormation of data together\n",
    "                       tt.RandomHorizontalFlip(),\n",
    "                       tt.ToTensor()])\n",
    "valid_tfm = tt.Compose([tt.ToTensor()])"
   ]
  },
  {
   "cell_type": "code",
   "execution_count": 5,
   "metadata": {
    "ExecuteTime": {
     "end_time": "2022-05-10T14:37:26.767679Z",
     "start_time": "2022-05-10T14:37:25.674464Z"
    },
    "colab": {
     "base_uri": "https://localhost:8080/",
     "height": 86,
     "referenced_widgets": [
      "c974d31e436a42899adbf2ef969307a4",
      "4c7fbb2405c84d7887d63fd6217cba4a",
      "350d156265104e2296caf536b05d26cc",
      "40b5952c97aa40169739936f0d549d02",
      "50c9aed288f14fcd94009217a59c91ff",
      "a448b41c426a4810a07d5eb92df1bc21",
      "29225a4d667e47f980b33c95c0850d16",
      "9ae1047b1b184d81bde7c14ca6ad72d5",
      "37da94684df543f3a81fe78c389f68dc",
      "0433c9c034b7466a98118f517c9ae2e8",
      "fb9ab6c5d81f48089ac0d9dc03c72e6b"
     ]
    },
    "id": "pxotEy_Al0J4",
    "outputId": "90e7b090-0622-4775-fcfa-39958472aa7c"
   },
   "outputs": [
    {
     "name": "stdout",
     "output_type": "stream",
     "text": [
      "Files already downloaded and verified\n"
     ]
    }
   ],
   "source": [
    "training_data = datasets.CIFAR10(\n",
    "    root=\"data\",\n",
    "    train=True,\n",
    "    download=True,\n",
    "    transform=train_tfm,\n",
    ")"
   ]
  },
  {
   "cell_type": "code",
   "execution_count": 6,
   "metadata": {
    "ExecuteTime": {
     "end_time": "2022-05-10T14:37:27.573014Z",
     "start_time": "2022-05-10T14:37:26.769399Z"
    },
    "colab": {
     "base_uri": "https://localhost:8080/"
    },
    "id": "3HUIV5yKmj4F",
    "outputId": "96675fe3-76e5-4e9f-9bc2-14b1d389996f"
   },
   "outputs": [
    {
     "name": "stdout",
     "output_type": "stream",
     "text": [
      "Files already downloaded and verified\n"
     ]
    }
   ],
   "source": [
    "# Download test data from open datasets.\n",
    "test_data = datasets.CIFAR10(\n",
    "    root=\"data\",\n",
    "    train=False,\n",
    "    download=True,\n",
    "    transform=valid_tfm,\n",
    ")"
   ]
  },
  {
   "cell_type": "code",
   "execution_count": 7,
   "metadata": {
    "ExecuteTime": {
     "end_time": "2022-05-10T14:37:27.581097Z",
     "start_time": "2022-05-10T14:37:27.576581Z"
    },
    "colab": {
     "base_uri": "https://localhost:8080/"
    },
    "id": "3eOTjMVem_T9",
    "outputId": "c3a532da-260b-4bd9-baef-144d73c92f92"
   },
   "outputs": [
    {
     "data": {
      "text/plain": [
       "Dataset CIFAR10\n",
       "    Number of datapoints: 50000\n",
       "    Root location: data\n",
       "    Split: Train\n",
       "    StandardTransform\n",
       "Transform: Compose(\n",
       "               RandomCrop(size=(32, 32), padding=4)\n",
       "               RandomHorizontalFlip(p=0.5)\n",
       "               ToTensor()\n",
       "           )"
      ]
     },
     "execution_count": 7,
     "metadata": {},
     "output_type": "execute_result"
    }
   ],
   "source": [
    "valid_ds = test_data\n",
    "train_ds = training_data\n",
    "train_ds"
   ]
  },
  {
   "cell_type": "code",
   "execution_count": 8,
   "metadata": {
    "ExecuteTime": {
     "end_time": "2022-05-10T14:37:27.592802Z",
     "start_time": "2022-05-10T14:37:27.583992Z"
    },
    "id": "JAFQAJUVr7U2"
   },
   "outputs": [],
   "source": [
    "def show_image(img,label):\n",
    "    print('Label: ', train_ds.classes[label],\"(\"+str(label)+\")\")\n",
    "    plt.imshow(img.permute(1,2,0))"
   ]
  },
  {
   "cell_type": "code",
   "execution_count": 9,
   "metadata": {
    "ExecuteTime": {
     "end_time": "2022-05-10T14:37:27.603298Z",
     "start_time": "2022-05-10T14:37:27.594402Z"
    },
    "id": "tj5jXuuBri6o"
   },
   "outputs": [],
   "source": [
    "batch_size=400"
   ]
  },
  {
   "cell_type": "code",
   "execution_count": 10,
   "metadata": {
    "ExecuteTime": {
     "end_time": "2022-05-10T14:37:27.614697Z",
     "start_time": "2022-05-10T14:37:27.605446Z"
    },
    "id": "n4kCM-hare00"
   },
   "outputs": [],
   "source": [
    "# Dataloader to load data in batches(mini batch)\n",
    "train_dl= DataLoader(train_ds,batch_size,shuffle=True, num_workers=2, pin_memory=True)\n",
    "valid_dl= DataLoader(valid_ds, batch_size, num_workers=2,pin_memory=True)"
   ]
  },
  {
   "cell_type": "code",
   "execution_count": 11,
   "metadata": {
    "ExecuteTime": {
     "end_time": "2022-05-10T14:37:27.625908Z",
     "start_time": "2022-05-10T14:37:27.617361Z"
    },
    "id": "mcfsy3QptG2Y"
   },
   "outputs": [],
   "source": [
    "def show_batch(dl):\n",
    "    for images, labels in dl:\n",
    "        fig,ax= plt.subplots(figsize=(12,12))\n",
    "        ax.set_xticks([]) #hide ticks\n",
    "        ax.set_yticks([])\n",
    "        ax.imshow(make_grid(images[:64],nrow=8).permute(1,2,0))\n",
    "        break # printing only first 64 images from first batch"
   ]
  },
  {
   "cell_type": "code",
   "execution_count": 12,
   "metadata": {
    "ExecuteTime": {
     "end_time": "2022-05-10T14:37:27.639365Z",
     "start_time": "2022-05-10T14:37:27.629156Z"
    },
    "id": "lPVFZltRtXt4"
   },
   "outputs": [],
   "source": [
    "def get_default_device():\n",
    "    \"\"\"Pick GPU if available, else CPU\"\"\"\n",
    "    if torch.cuda.is_available():\n",
    "        return torch.device('cuda')\n",
    "    else:\n",
    "        return torch.device('cpu')\n",
    "    \n",
    "def to_device(data, device):\n",
    "    \"\"\"Move tensor(s) to chosen device\"\"\"\n",
    "    if isinstance(data, (list,tuple)):\n",
    "        return [to_device(x, device) for x in data]\n",
    "    return data.to(device, non_blocking=True)\n",
    "\n",
    "class DeviceDataLoader():\n",
    "    \"\"\"Wrap a dataloader to move data to a device\"\"\"\n",
    "    def __init__(self, dl, device):\n",
    "        self.dl = dl\n",
    "        self.device = device\n",
    "        \n",
    "    def __iter__(self):\n",
    "        \"\"\"Yield a batch of data after moving it to device\"\"\"\n",
    "        for b in self.dl: \n",
    "            yield to_device(b, self.device)\n",
    "\n",
    "    def __len__(self):\n",
    "        \"\"\"Number of batches\"\"\"\n",
    "        return len(self.dl)"
   ]
  },
  {
   "cell_type": "code",
   "execution_count": 13,
   "metadata": {
    "ExecuteTime": {
     "end_time": "2022-05-10T14:37:27.660094Z",
     "start_time": "2022-05-10T14:37:27.641598Z"
    },
    "colab": {
     "base_uri": "https://localhost:8080/"
    },
    "id": "SOksgE3wtYwZ",
    "outputId": "a9fb69e1-9e00-4139-d791-b7c305a7941a"
   },
   "outputs": [
    {
     "data": {
      "text/plain": [
       "device(type='cuda')"
      ]
     },
     "execution_count": 13,
     "metadata": {},
     "output_type": "execute_result"
    }
   ],
   "source": [
    "device = get_default_device()\n",
    "device"
   ]
  },
  {
   "cell_type": "code",
   "execution_count": 14,
   "metadata": {
    "ExecuteTime": {
     "end_time": "2022-05-10T14:37:27.670756Z",
     "start_time": "2022-05-10T14:37:27.662374Z"
    },
    "id": "hfVlteXctb6f"
   },
   "outputs": [],
   "source": [
    "train_dl= DeviceDataLoader(train_dl,device)\n",
    "valid_dl = DeviceDataLoader(valid_dl, device)"
   ]
  },
  {
   "cell_type": "code",
   "execution_count": 15,
   "metadata": {
    "ExecuteTime": {
     "end_time": "2022-05-10T14:37:27.690320Z",
     "start_time": "2022-05-10T14:37:27.673200Z"
    },
    "id": "PLmLZHBqtlF_"
   },
   "outputs": [],
   "source": [
    "def accuracy(outputs, labels):\n",
    "    _, preds = torch.max(outputs, dim=1)\n",
    "    return torch.tensor(torch.sum(preds == labels).item() / len(preds))\n",
    "\n",
    "class ImageClassificationBase(nn.Module):\n",
    "    def training_step(self, batch):\n",
    "        images, labels = batch \n",
    "        out = self(images)                  # Generate predictions\n",
    "        loss = F.cross_entropy(out, labels) # Calculate loss\n",
    "        return loss\n",
    "    \n",
    "    def validation_step(self, batch):\n",
    "        images, labels = batch \n",
    "        out = self(images)                    # Generate predictions\n",
    "        loss = F.cross_entropy(out, labels)   # Calculate loss\n",
    "        acc = accuracy(out, labels)           # Calculate accuracy\n",
    "        return {'val_loss': loss.detach(), 'val_acc': acc}\n",
    "        \n",
    "    def validation_epoch_end(self, outputs):\n",
    "        batch_losses = [x['val_loss'] for x in outputs]\n",
    "        epoch_loss = torch.stack(batch_losses).mean()   # Combine losses\n",
    "        batch_accs = [x['val_acc'] for x in outputs]\n",
    "        epoch_acc = torch.stack(batch_accs).mean()      # Combine accuracies\n",
    "        return {'val_loss': epoch_loss.item(), 'val_acc': epoch_acc.item()}\n",
    "    \n",
    "    def epoch_end(self, epoch, result):\n",
    "        print(\"Epoch [{}], train_loss: {:.4f}, val_loss: {:.4f}, val_acc: {:.4f}\".format(\n",
    "            epoch, result['train_loss'], result['val_loss'], result['val_acc']))"
   ]
  },
  {
   "cell_type": "code",
   "execution_count": 16,
   "metadata": {
    "ExecuteTime": {
     "end_time": "2022-05-10T14:37:27.712205Z",
     "start_time": "2022-05-10T14:37:27.693401Z"
    },
    "id": "LcaZkKzQtomv"
   },
   "outputs": [],
   "source": [
    "def conv_block(in_channels, out_channels, stride=1):\n",
    "    layers = [nn.Conv2d(in_channels, out_channels, kernel_size=3, padding=1, stride=stride), \n",
    "              nn.BatchNorm2d(out_channels), \n",
    "              nn.ReLU(inplace=True)]\n",
    "    return nn.Sequential(*layers)\n",
    "\n",
    "def shortcut(in_channels, out_channels):\n",
    "    return nn.Conv2d(in_channels, out_channels, kernel_size=3, padding=1, stride=2)\n",
    "\n",
    "class ResNet(ImageClassificationBase):\n",
    "    def __init__(self, in_channels, num_classes, n):\n",
    "        super().__init__()\n",
    "        \n",
    "        self.n = n\n",
    "        \n",
    "        # 32x32 map\n",
    "        self.conv1 = conv_block(in_channels, 16)\n",
    "        self.reg32 = nn.Sequential(conv_block(16,16), conv_block(16,16))\n",
    "        \n",
    "        # 16x16 map\n",
    "        self.entry16 = nn.Sequential(conv_block(16, 32, stride=2), conv_block(32, 32))\n",
    "        self.short16 = shortcut(16, 32)\n",
    "        self.reg16 = nn.Sequential(conv_block(32, 32), conv_block(32, 32))\n",
    "        \n",
    "        # 8x8 map\n",
    "        self.entry8 = nn.Sequential(conv_block(32, 64, stride=2), conv_block(64, 64))\n",
    "        self.short8 = shortcut(32, 64)\n",
    "        self.reg8 = nn.Sequential(conv_block(64, 64), conv_block(64, 64))\n",
    "        \n",
    "        self.classifier = nn.Sequential(nn.AvgPool2d(kernel_size=8, stride=None, padding=0), \n",
    "                                        nn.Linear(64, num_classes),\n",
    "                                       nn.Softmax())\n",
    "        # FOR DEBUGGING\n",
    "        self.avg = nn.AvgPool2d(kernel_size=8, stride=None, padding=0)\n",
    "        self.flat = nn.Flatten()\n",
    "        self.fcl = nn.Linear(64, num_classes)\n",
    "        self.sm = nn.Softmax()\n",
    "        \n",
    "    def forward(self, xb):\n",
    "        out = self.conv1(xb)\n",
    "        \n",
    "        for i in range(self.n):\n",
    "            out = self.reg32(out) + out\n",
    "            \n",
    "        out = self.entry16(out) + self.short16(out)\n",
    "        for i in range(self.n - 1):\n",
    "            out = self.reg16(out) + out\n",
    "            \n",
    "        out = self.entry8(out) + self.short8(out)\n",
    "        for i in range(self.n - 1):\n",
    "            out = self.reg8(out) + out\n",
    "\n",
    "        #out = self.classifier(out)\n",
    "        out = self.avg(out)\n",
    "        out = self.flat(out)\n",
    "        out = self.fcl(out)\n",
    "        out = self.sm(out)\n",
    "        \n",
    "        return out"
   ]
  },
  {
   "cell_type": "code",
   "execution_count": 17,
   "metadata": {
    "ExecuteTime": {
     "end_time": "2022-05-10T14:37:30.038401Z",
     "start_time": "2022-05-10T14:37:27.714589Z"
    },
    "colab": {
     "base_uri": "https://localhost:8080/"
    },
    "id": "O8BOig0Otrjz",
    "outputId": "a40ce9a4-8852-4595-9525-9841221a3391"
   },
   "outputs": [
    {
     "data": {
      "text/plain": [
       "ResNet(\n",
       "  (conv1): Sequential(\n",
       "    (0): Conv2d(3, 16, kernel_size=(3, 3), stride=(1, 1), padding=(1, 1))\n",
       "    (1): BatchNorm2d(16, eps=1e-05, momentum=0.1, affine=True, track_running_stats=True)\n",
       "    (2): ReLU(inplace=True)\n",
       "  )\n",
       "  (reg32): Sequential(\n",
       "    (0): Sequential(\n",
       "      (0): Conv2d(16, 16, kernel_size=(3, 3), stride=(1, 1), padding=(1, 1))\n",
       "      (1): BatchNorm2d(16, eps=1e-05, momentum=0.1, affine=True, track_running_stats=True)\n",
       "      (2): ReLU(inplace=True)\n",
       "    )\n",
       "    (1): Sequential(\n",
       "      (0): Conv2d(16, 16, kernel_size=(3, 3), stride=(1, 1), padding=(1, 1))\n",
       "      (1): BatchNorm2d(16, eps=1e-05, momentum=0.1, affine=True, track_running_stats=True)\n",
       "      (2): ReLU(inplace=True)\n",
       "    )\n",
       "  )\n",
       "  (entry16): Sequential(\n",
       "    (0): Sequential(\n",
       "      (0): Conv2d(16, 32, kernel_size=(3, 3), stride=(2, 2), padding=(1, 1))\n",
       "      (1): BatchNorm2d(32, eps=1e-05, momentum=0.1, affine=True, track_running_stats=True)\n",
       "      (2): ReLU(inplace=True)\n",
       "    )\n",
       "    (1): Sequential(\n",
       "      (0): Conv2d(32, 32, kernel_size=(3, 3), stride=(1, 1), padding=(1, 1))\n",
       "      (1): BatchNorm2d(32, eps=1e-05, momentum=0.1, affine=True, track_running_stats=True)\n",
       "      (2): ReLU(inplace=True)\n",
       "    )\n",
       "  )\n",
       "  (short16): Conv2d(16, 32, kernel_size=(3, 3), stride=(2, 2), padding=(1, 1))\n",
       "  (reg16): Sequential(\n",
       "    (0): Sequential(\n",
       "      (0): Conv2d(32, 32, kernel_size=(3, 3), stride=(1, 1), padding=(1, 1))\n",
       "      (1): BatchNorm2d(32, eps=1e-05, momentum=0.1, affine=True, track_running_stats=True)\n",
       "      (2): ReLU(inplace=True)\n",
       "    )\n",
       "    (1): Sequential(\n",
       "      (0): Conv2d(32, 32, kernel_size=(3, 3), stride=(1, 1), padding=(1, 1))\n",
       "      (1): BatchNorm2d(32, eps=1e-05, momentum=0.1, affine=True, track_running_stats=True)\n",
       "      (2): ReLU(inplace=True)\n",
       "    )\n",
       "  )\n",
       "  (entry8): Sequential(\n",
       "    (0): Sequential(\n",
       "      (0): Conv2d(32, 64, kernel_size=(3, 3), stride=(2, 2), padding=(1, 1))\n",
       "      (1): BatchNorm2d(64, eps=1e-05, momentum=0.1, affine=True, track_running_stats=True)\n",
       "      (2): ReLU(inplace=True)\n",
       "    )\n",
       "    (1): Sequential(\n",
       "      (0): Conv2d(64, 64, kernel_size=(3, 3), stride=(1, 1), padding=(1, 1))\n",
       "      (1): BatchNorm2d(64, eps=1e-05, momentum=0.1, affine=True, track_running_stats=True)\n",
       "      (2): ReLU(inplace=True)\n",
       "    )\n",
       "  )\n",
       "  (short8): Conv2d(32, 64, kernel_size=(3, 3), stride=(2, 2), padding=(1, 1))\n",
       "  (reg8): Sequential(\n",
       "    (0): Sequential(\n",
       "      (0): Conv2d(64, 64, kernel_size=(3, 3), stride=(1, 1), padding=(1, 1))\n",
       "      (1): BatchNorm2d(64, eps=1e-05, momentum=0.1, affine=True, track_running_stats=True)\n",
       "      (2): ReLU(inplace=True)\n",
       "    )\n",
       "    (1): Sequential(\n",
       "      (0): Conv2d(64, 64, kernel_size=(3, 3), stride=(1, 1), padding=(1, 1))\n",
       "      (1): BatchNorm2d(64, eps=1e-05, momentum=0.1, affine=True, track_running_stats=True)\n",
       "      (2): ReLU(inplace=True)\n",
       "    )\n",
       "  )\n",
       "  (classifier): Sequential(\n",
       "    (0): AvgPool2d(kernel_size=8, stride=8, padding=0)\n",
       "    (1): Linear(in_features=64, out_features=10, bias=True)\n",
       "    (2): Softmax(dim=None)\n",
       "  )\n",
       "  (avg): AvgPool2d(kernel_size=8, stride=8, padding=0)\n",
       "  (flat): Flatten(start_dim=1, end_dim=-1)\n",
       "  (fcl): Linear(in_features=64, out_features=10, bias=True)\n",
       "  (sm): Softmax(dim=None)\n",
       ")"
      ]
     },
     "execution_count": 17,
     "metadata": {},
     "output_type": "execute_result"
    }
   ],
   "source": [
    "# n=3 => ResNet20\n",
    "model= to_device(ResNet(3,10,3), device)\n",
    "model"
   ]
  },
  {
   "cell_type": "code",
   "execution_count": 18,
   "metadata": {
    "ExecuteTime": {
     "end_time": "2022-05-10T14:37:30.073264Z",
     "start_time": "2022-05-10T14:37:30.040911Z"
    },
    "colab": {
     "base_uri": "https://localhost:8080/"
    },
    "id": "O8BOig0Otrjz",
    "outputId": "a40ce9a4-8852-4595-9525-9841221a3391"
   },
   "outputs": [
    {
     "name": "stdout",
     "output_type": "stream",
     "text": [
      "----------------------------------------------------------------\n",
      "        Layer (type)               Output Shape         Param #\n",
      "================================================================\n",
      "            Conv2d-1           [-1, 16, 32, 32]             448\n",
      "       BatchNorm2d-2           [-1, 16, 32, 32]              32\n",
      "              ReLU-3           [-1, 16, 32, 32]               0\n",
      "            Conv2d-4           [-1, 16, 32, 32]           2,320\n",
      "       BatchNorm2d-5           [-1, 16, 32, 32]              32\n",
      "              ReLU-6           [-1, 16, 32, 32]               0\n",
      "            Conv2d-7           [-1, 16, 32, 32]           2,320\n",
      "       BatchNorm2d-8           [-1, 16, 32, 32]              32\n",
      "              ReLU-9           [-1, 16, 32, 32]               0\n",
      "           Conv2d-10           [-1, 16, 32, 32]           2,320\n",
      "      BatchNorm2d-11           [-1, 16, 32, 32]              32\n",
      "             ReLU-12           [-1, 16, 32, 32]               0\n",
      "           Conv2d-13           [-1, 16, 32, 32]           2,320\n",
      "      BatchNorm2d-14           [-1, 16, 32, 32]              32\n",
      "             ReLU-15           [-1, 16, 32, 32]               0\n",
      "           Conv2d-16           [-1, 16, 32, 32]           2,320\n",
      "      BatchNorm2d-17           [-1, 16, 32, 32]              32\n",
      "             ReLU-18           [-1, 16, 32, 32]               0\n",
      "           Conv2d-19           [-1, 16, 32, 32]           2,320\n",
      "      BatchNorm2d-20           [-1, 16, 32, 32]              32\n",
      "             ReLU-21           [-1, 16, 32, 32]               0\n",
      "           Conv2d-22           [-1, 32, 16, 16]           4,640\n",
      "      BatchNorm2d-23           [-1, 32, 16, 16]              64\n",
      "             ReLU-24           [-1, 32, 16, 16]               0\n",
      "           Conv2d-25           [-1, 32, 16, 16]           9,248\n",
      "      BatchNorm2d-26           [-1, 32, 16, 16]              64\n",
      "             ReLU-27           [-1, 32, 16, 16]               0\n",
      "           Conv2d-28           [-1, 32, 16, 16]           4,640\n",
      "           Conv2d-29           [-1, 32, 16, 16]           9,248\n",
      "      BatchNorm2d-30           [-1, 32, 16, 16]              64\n",
      "             ReLU-31           [-1, 32, 16, 16]               0\n",
      "           Conv2d-32           [-1, 32, 16, 16]           9,248\n",
      "      BatchNorm2d-33           [-1, 32, 16, 16]              64\n",
      "             ReLU-34           [-1, 32, 16, 16]               0\n",
      "           Conv2d-35           [-1, 32, 16, 16]           9,248\n",
      "      BatchNorm2d-36           [-1, 32, 16, 16]              64\n",
      "             ReLU-37           [-1, 32, 16, 16]               0\n",
      "           Conv2d-38           [-1, 32, 16, 16]           9,248\n",
      "      BatchNorm2d-39           [-1, 32, 16, 16]              64\n",
      "             ReLU-40           [-1, 32, 16, 16]               0\n",
      "           Conv2d-41             [-1, 64, 8, 8]          18,496\n",
      "      BatchNorm2d-42             [-1, 64, 8, 8]             128\n",
      "             ReLU-43             [-1, 64, 8, 8]               0\n",
      "           Conv2d-44             [-1, 64, 8, 8]          36,928\n",
      "      BatchNorm2d-45             [-1, 64, 8, 8]             128\n",
      "             ReLU-46             [-1, 64, 8, 8]               0\n",
      "           Conv2d-47             [-1, 64, 8, 8]          18,496\n",
      "           Conv2d-48             [-1, 64, 8, 8]          36,928\n",
      "      BatchNorm2d-49             [-1, 64, 8, 8]             128\n",
      "             ReLU-50             [-1, 64, 8, 8]               0\n",
      "           Conv2d-51             [-1, 64, 8, 8]          36,928\n",
      "      BatchNorm2d-52             [-1, 64, 8, 8]             128\n",
      "             ReLU-53             [-1, 64, 8, 8]               0\n",
      "           Conv2d-54             [-1, 64, 8, 8]          36,928\n",
      "      BatchNorm2d-55             [-1, 64, 8, 8]             128\n",
      "             ReLU-56             [-1, 64, 8, 8]               0\n",
      "           Conv2d-57             [-1, 64, 8, 8]          36,928\n",
      "      BatchNorm2d-58             [-1, 64, 8, 8]             128\n",
      "             ReLU-59             [-1, 64, 8, 8]               0\n",
      "        AvgPool2d-60             [-1, 64, 1, 1]               0\n",
      "          Flatten-61                   [-1, 64]               0\n",
      "           Linear-62                   [-1, 10]             650\n",
      "          Softmax-63                   [-1, 10]               0\n",
      "================================================================\n",
      "Total params: 293,546\n",
      "Trainable params: 293,546\n",
      "Non-trainable params: 0\n",
      "----------------------------------------------------------------\n",
      "Input size (MB): 0.01\n",
      "Forward/backward pass size (MB): 4.41\n",
      "Params size (MB): 1.12\n",
      "Estimated Total Size (MB): 5.54\n",
      "----------------------------------------------------------------\n"
     ]
    },
    {
     "name": "stderr",
     "output_type": "stream",
     "text": [
      "/home/userfs/s/sb2444/.local/lib/python3.6/site-packages/ipykernel_launcher.py:57: UserWarning: Implicit dimension choice for softmax has been deprecated. Change the call to include dim=X as an argument.\n"
     ]
    }
   ],
   "source": [
    "from torchvision import models\n",
    "from torchsummary import summary\n",
    "summary(model, (3, 32, 32))"
   ]
  },
  {
   "cell_type": "code",
   "execution_count": 19,
   "metadata": {
    "ExecuteTime": {
     "end_time": "2022-05-10T14:37:30.094656Z",
     "start_time": "2022-05-10T14:37:30.081324Z"
    },
    "id": "hmbJUvR3t0QY"
   },
   "outputs": [],
   "source": [
    "@torch.no_grad()\n",
    "def evaluate(model, val_loader):\n",
    "    model.eval()\n",
    "    outputs = [model.validation_step(batch) for batch in val_loader]\n",
    "    return model.validation_epoch_end(outputs)\n",
    "\n",
    "def get_lr(optimizer):\n",
    "    for param_group in optimizer.param_groups:\n",
    "        return param_group['lr']\n",
    "\n",
    "def fit_one_cycle(epochs, max_lr, model, train_loader, val_loader, \n",
    "                  weight_decay=0, grad_clip=None, opt_func=torch.optim.SGD):\n",
    "    torch.cuda.empty_cache()  # Realsing cuda memory otherwise might get cuda out of memory error\n",
    "    history = []\n",
    "    \n",
    "    #custom optimizer with weight decay\n",
    "    optimizer = opt_func(model.parameters(), max_lr, weight_decay=weight_decay)\n",
    "    # Set up one-cycle learning rate scheduler\n",
    "    sched = torch.optim.lr_scheduler.OneCycleLR(optimizer, max_lr, epochs=epochs, \n",
    "                                                steps_per_epoch=len(train_loader))\n",
    "    \n",
    "    for epoch in range(epochs):\n",
    "        # Training Phase \n",
    "        model.train() #Setting training mode\n",
    "        train_losses = []\n",
    "        lrs = []\n",
    "        for batch in train_loader:\n",
    "            loss = model.training_step(batch)\n",
    "            train_losses.append(loss)\n",
    "            loss.backward()\n",
    "            \n",
    "            # Gradient clipping\n",
    "            if grad_clip: \n",
    "                nn.utils.clip_grad_value_(model.parameters(), grad_clip)\n",
    "            \n",
    "            optimizer.step()\n",
    "            optimizer.zero_grad()\n",
    "            \n",
    "            # Record & update learning rate\n",
    "            lrs.append(get_lr(optimizer))\n",
    "            sched.step()\n",
    "        \n",
    "        # Validation phase\n",
    "        result = evaluate(model, val_loader)\n",
    "        result['train_loss'] = torch.stack(train_losses).mean().item()\n",
    "        result['lrs'] = lrs\n",
    "        model.epoch_end(epoch, result)\n",
    "        history.append(result)\n",
    "    return history"
   ]
  },
  {
   "cell_type": "code",
   "execution_count": 20,
   "metadata": {
    "ExecuteTime": {
     "end_time": "2022-05-10T14:37:30.946523Z",
     "start_time": "2022-05-10T14:37:30.096953Z"
    },
    "colab": {
     "base_uri": "https://localhost:8080/"
    },
    "id": "_TPdh3fbt1fH",
    "outputId": "a22ad739-4bd6-459d-f905-64450f06bf4c"
   },
   "outputs": [
    {
     "name": "stderr",
     "output_type": "stream",
     "text": [
      "/home/userfs/s/sb2444/.local/lib/python3.6/site-packages/ipykernel_launcher.py:57: UserWarning: Implicit dimension choice for softmax has been deprecated. Change the call to include dim=X as an argument.\n"
     ]
    },
    {
     "data": {
      "text/plain": [
       "[{'val_loss': 2.3026671409606934, 'val_acc': 0.09839998930692673}]"
      ]
     },
     "execution_count": 20,
     "metadata": {},
     "output_type": "execute_result"
    }
   ],
   "source": [
    "history = [evaluate(model, valid_dl)]\n",
    "history"
   ]
  },
  {
   "cell_type": "code",
   "execution_count": 21,
   "metadata": {
    "ExecuteTime": {
     "end_time": "2022-05-10T14:37:30.959705Z",
     "start_time": "2022-05-10T14:37:30.952205Z"
    },
    "id": "fFL3dFDnt6pb"
   },
   "outputs": [],
   "source": [
    "epochs = 140\n",
    "max_lr = 0.005\n",
    "grad_clip = 0.1\n",
    "weight_decay = 1e-4\n",
    "opt_func = torch.optim.Adam"
   ]
  },
  {
   "cell_type": "code",
   "execution_count": 22,
   "metadata": {
    "ExecuteTime": {
     "end_time": "2022-05-10T15:07:51.865027Z",
     "start_time": "2022-05-10T14:37:30.968274Z"
    },
    "colab": {
     "base_uri": "https://localhost:8080/"
    },
    "id": "01CAjQi2t8Ub",
    "outputId": "776b2d7d-902f-4f3c-ece0-24ccd16c4d53",
    "scrolled": false
   },
   "outputs": [
    {
     "name": "stderr",
     "output_type": "stream",
     "text": [
      "/home/userfs/s/sb2444/.local/lib/python3.6/site-packages/ipykernel_launcher.py:57: UserWarning: Implicit dimension choice for softmax has been deprecated. Change the call to include dim=X as an argument.\n"
     ]
    },
    {
     "name": "stdout",
     "output_type": "stream",
     "text": [
      "Epoch [0], train_loss: 2.1751, val_loss: 2.1639, val_acc: 0.2923\n",
      "Epoch [1], train_loss: 2.0754, val_loss: 2.1773, val_acc: 0.2677\n",
      "Epoch [2], train_loss: 2.0025, val_loss: 2.1191, val_acc: 0.3381\n",
      "Epoch [3], train_loss: 1.9543, val_loss: 2.1408, val_acc: 0.3067\n",
      "Epoch [4], train_loss: 1.9237, val_loss: 2.0994, val_acc: 0.3495\n",
      "Epoch [5], train_loss: 1.8980, val_loss: 2.0753, val_acc: 0.3781\n",
      "Epoch [6], train_loss: 1.8752, val_loss: 2.0419, val_acc: 0.4131\n",
      "Epoch [7], train_loss: 1.8587, val_loss: 1.9185, val_acc: 0.5472\n",
      "Epoch [8], train_loss: 1.8384, val_loss: 1.8998, val_acc: 0.5628\n",
      "Epoch [9], train_loss: 1.8316, val_loss: 1.9505, val_acc: 0.5080\n",
      "Epoch [10], train_loss: 1.8157, val_loss: 1.9898, val_acc: 0.4628\n",
      "Epoch [11], train_loss: 1.8068, val_loss: 1.9826, val_acc: 0.4753\n",
      "Epoch [12], train_loss: 1.7946, val_loss: 1.8739, val_acc: 0.5898\n",
      "Epoch [13], train_loss: 1.7836, val_loss: 1.7978, val_acc: 0.6696\n",
      "Epoch [14], train_loss: 1.7730, val_loss: 1.8688, val_acc: 0.5971\n",
      "Epoch [15], train_loss: 1.7661, val_loss: 1.9522, val_acc: 0.5074\n",
      "Epoch [16], train_loss: 1.7571, val_loss: 1.7982, val_acc: 0.6654\n",
      "Epoch [17], train_loss: 1.7560, val_loss: 2.0676, val_acc: 0.3851\n",
      "Epoch [18], train_loss: 1.7436, val_loss: 1.7913, val_acc: 0.6757\n",
      "Epoch [19], train_loss: 1.7373, val_loss: 1.9319, val_acc: 0.5264\n",
      "Epoch [20], train_loss: 1.7312, val_loss: 1.8161, val_acc: 0.6441\n",
      "Epoch [21], train_loss: 1.7300, val_loss: 1.9942, val_acc: 0.4573\n",
      "Epoch [22], train_loss: 1.7236, val_loss: 1.8064, val_acc: 0.6564\n",
      "Epoch [23], train_loss: 1.7177, val_loss: 1.8747, val_acc: 0.5812\n",
      "Epoch [24], train_loss: 1.7147, val_loss: 1.7692, val_acc: 0.6962\n",
      "Epoch [25], train_loss: 1.7121, val_loss: 1.7413, val_acc: 0.7205\n",
      "Epoch [26], train_loss: 1.7075, val_loss: 1.8045, val_acc: 0.6534\n",
      "Epoch [27], train_loss: 1.7068, val_loss: 1.8222, val_acc: 0.6385\n",
      "Epoch [28], train_loss: 1.7047, val_loss: 1.7905, val_acc: 0.6737\n",
      "Epoch [29], train_loss: 1.7037, val_loss: 1.8306, val_acc: 0.6301\n",
      "Epoch [30], train_loss: 1.7031, val_loss: 1.8096, val_acc: 0.6517\n",
      "Epoch [31], train_loss: 1.7007, val_loss: 1.8437, val_acc: 0.6174\n",
      "Epoch [32], train_loss: 1.6964, val_loss: 1.8829, val_acc: 0.5767\n",
      "Epoch [33], train_loss: 1.6938, val_loss: 1.8058, val_acc: 0.6594\n",
      "Epoch [34], train_loss: 1.6976, val_loss: 1.7792, val_acc: 0.6823\n",
      "Epoch [35], train_loss: 1.6945, val_loss: 1.8105, val_acc: 0.6520\n",
      "Epoch [36], train_loss: 1.6943, val_loss: 1.7771, val_acc: 0.6825\n",
      "Epoch [37], train_loss: 1.6922, val_loss: 1.8175, val_acc: 0.6446\n",
      "Epoch [38], train_loss: 1.6872, val_loss: 1.7153, val_acc: 0.7484\n",
      "Epoch [39], train_loss: 1.6868, val_loss: 1.7687, val_acc: 0.6923\n",
      "Epoch [40], train_loss: 1.6872, val_loss: 1.7528, val_acc: 0.7067\n",
      "Epoch [41], train_loss: 1.6874, val_loss: 1.7333, val_acc: 0.7293\n",
      "Epoch [42], train_loss: 1.6858, val_loss: 1.7147, val_acc: 0.7467\n",
      "Epoch [43], train_loss: 1.6843, val_loss: 1.7370, val_acc: 0.7236\n",
      "Epoch [44], train_loss: 1.6807, val_loss: 1.7217, val_acc: 0.7385\n",
      "Epoch [45], train_loss: 1.6776, val_loss: 1.7422, val_acc: 0.7195\n",
      "Epoch [46], train_loss: 1.6735, val_loss: 1.7940, val_acc: 0.6699\n",
      "Epoch [47], train_loss: 1.6815, val_loss: 1.7935, val_acc: 0.6689\n",
      "Epoch [48], train_loss: 1.6776, val_loss: 1.7385, val_acc: 0.7255\n",
      "Epoch [49], train_loss: 1.6759, val_loss: 1.7229, val_acc: 0.7411\n",
      "Epoch [50], train_loss: 1.6738, val_loss: 1.8177, val_acc: 0.6458\n",
      "Epoch [51], train_loss: 1.6730, val_loss: 1.7380, val_acc: 0.7240\n",
      "Epoch [52], train_loss: 1.6728, val_loss: 1.7892, val_acc: 0.6720\n",
      "Epoch [53], train_loss: 1.6694, val_loss: 1.7667, val_acc: 0.6966\n",
      "Epoch [54], train_loss: 1.6691, val_loss: 1.8049, val_acc: 0.6542\n",
      "Epoch [55], train_loss: 1.6688, val_loss: 1.7033, val_acc: 0.7616\n",
      "Epoch [56], train_loss: 1.6658, val_loss: 1.7758, val_acc: 0.6841\n",
      "Epoch [57], train_loss: 1.6626, val_loss: 1.7399, val_acc: 0.7236\n",
      "Epoch [58], train_loss: 1.6679, val_loss: 1.7266, val_acc: 0.7356\n",
      "Epoch [59], train_loss: 1.6638, val_loss: 1.7074, val_acc: 0.7564\n",
      "Epoch [60], train_loss: 1.6656, val_loss: 1.6957, val_acc: 0.7713\n",
      "Epoch [61], train_loss: 1.6643, val_loss: 1.7350, val_acc: 0.7270\n",
      "Epoch [62], train_loss: 1.6568, val_loss: 1.6974, val_acc: 0.7655\n",
      "Epoch [63], train_loss: 1.6588, val_loss: 1.6910, val_acc: 0.7716\n",
      "Epoch [64], train_loss: 1.6575, val_loss: 1.6974, val_acc: 0.7649\n",
      "Epoch [65], train_loss: 1.6550, val_loss: 1.7231, val_acc: 0.7380\n",
      "Epoch [66], train_loss: 1.6537, val_loss: 1.7891, val_acc: 0.6729\n",
      "Epoch [67], train_loss: 1.6525, val_loss: 1.6967, val_acc: 0.7681\n",
      "Epoch [68], train_loss: 1.6501, val_loss: 1.7259, val_acc: 0.7379\n",
      "Epoch [69], train_loss: 1.6474, val_loss: 1.7142, val_acc: 0.7507\n",
      "Epoch [70], train_loss: 1.6469, val_loss: 1.6995, val_acc: 0.7650\n",
      "Epoch [71], train_loss: 1.6464, val_loss: 1.7403, val_acc: 0.7235\n",
      "Epoch [72], train_loss: 1.6437, val_loss: 1.7010, val_acc: 0.7624\n",
      "Epoch [73], train_loss: 1.6416, val_loss: 1.7321, val_acc: 0.7301\n",
      "Epoch [74], train_loss: 1.6415, val_loss: 1.7497, val_acc: 0.7114\n",
      "Epoch [75], train_loss: 1.6418, val_loss: 1.7010, val_acc: 0.7607\n",
      "Epoch [76], train_loss: 1.6387, val_loss: 1.6465, val_acc: 0.8182\n",
      "Epoch [77], train_loss: 1.6358, val_loss: 1.6994, val_acc: 0.7680\n",
      "Epoch [78], train_loss: 1.6339, val_loss: 1.6799, val_acc: 0.7833\n",
      "Epoch [79], train_loss: 1.6312, val_loss: 1.6675, val_acc: 0.7966\n",
      "Epoch [80], train_loss: 1.6322, val_loss: 1.6896, val_acc: 0.7733\n",
      "Epoch [81], train_loss: 1.6297, val_loss: 1.7025, val_acc: 0.7591\n",
      "Epoch [82], train_loss: 1.6255, val_loss: 1.6890, val_acc: 0.7742\n",
      "Epoch [83], train_loss: 1.6220, val_loss: 1.6655, val_acc: 0.7984\n",
      "Epoch [84], train_loss: 1.6224, val_loss: 1.6819, val_acc: 0.7830\n",
      "Epoch [85], train_loss: 1.6218, val_loss: 1.6587, val_acc: 0.8097\n",
      "Epoch [86], train_loss: 1.6214, val_loss: 1.6651, val_acc: 0.7990\n",
      "Epoch [87], train_loss: 1.6167, val_loss: 1.6565, val_acc: 0.8108\n",
      "Epoch [88], train_loss: 1.6152, val_loss: 1.6805, val_acc: 0.7837\n",
      "Epoch [89], train_loss: 1.6135, val_loss: 1.6468, val_acc: 0.8203\n",
      "Epoch [90], train_loss: 1.6120, val_loss: 1.6401, val_acc: 0.8225\n",
      "Epoch [91], train_loss: 1.6072, val_loss: 1.6657, val_acc: 0.7980\n",
      "Epoch [92], train_loss: 1.6074, val_loss: 1.6505, val_acc: 0.8201\n",
      "Epoch [93], train_loss: 1.6042, val_loss: 1.6838, val_acc: 0.7799\n",
      "Epoch [94], train_loss: 1.6037, val_loss: 1.6574, val_acc: 0.8058\n",
      "Epoch [95], train_loss: 1.6009, val_loss: 1.6561, val_acc: 0.8110\n",
      "Epoch [96], train_loss: 1.5995, val_loss: 1.6493, val_acc: 0.8173\n",
      "Epoch [97], train_loss: 1.5978, val_loss: 1.6375, val_acc: 0.8277\n",
      "Epoch [98], train_loss: 1.5947, val_loss: 1.6511, val_acc: 0.8169\n",
      "Epoch [99], train_loss: 1.5913, val_loss: 1.6335, val_acc: 0.8335\n",
      "Epoch [100], train_loss: 1.5908, val_loss: 1.6338, val_acc: 0.8297\n",
      "Epoch [101], train_loss: 1.5875, val_loss: 1.6347, val_acc: 0.8311\n",
      "Epoch [102], train_loss: 1.5852, val_loss: 1.6284, val_acc: 0.8355\n",
      "Epoch [103], train_loss: 1.5845, val_loss: 1.6347, val_acc: 0.8321\n",
      "Epoch [104], train_loss: 1.5834, val_loss: 1.6212, val_acc: 0.8453\n",
      "Epoch [105], train_loss: 1.5789, val_loss: 1.6288, val_acc: 0.8380\n",
      "Epoch [106], train_loss: 1.5758, val_loss: 1.6350, val_acc: 0.8321\n",
      "Epoch [107], train_loss: 1.5730, val_loss: 1.6272, val_acc: 0.8385\n",
      "Epoch [108], train_loss: 1.5701, val_loss: 1.6244, val_acc: 0.8404\n",
      "Epoch [109], train_loss: 1.5698, val_loss: 1.6241, val_acc: 0.8398\n",
      "Epoch [110], train_loss: 1.5688, val_loss: 1.6314, val_acc: 0.8341\n",
      "Epoch [111], train_loss: 1.5643, val_loss: 1.6178, val_acc: 0.8492\n",
      "Epoch [112], train_loss: 1.5616, val_loss: 1.6185, val_acc: 0.8481\n",
      "Epoch [113], train_loss: 1.5618, val_loss: 1.6131, val_acc: 0.8520\n",
      "Epoch [114], train_loss: 1.5581, val_loss: 1.6082, val_acc: 0.8583\n",
      "Epoch [115], train_loss: 1.5562, val_loss: 1.6119, val_acc: 0.8537\n",
      "Epoch [116], train_loss: 1.5540, val_loss: 1.6128, val_acc: 0.8530\n",
      "Epoch [117], train_loss: 1.5515, val_loss: 1.6022, val_acc: 0.8625\n",
      "Epoch [118], train_loss: 1.5487, val_loss: 1.6095, val_acc: 0.8556\n",
      "Epoch [119], train_loss: 1.5479, val_loss: 1.6136, val_acc: 0.8521\n",
      "Epoch [120], train_loss: 1.5473, val_loss: 1.6063, val_acc: 0.8601\n",
      "Epoch [121], train_loss: 1.5454, val_loss: 1.6015, val_acc: 0.8651\n",
      "Epoch [122], train_loss: 1.5425, val_loss: 1.6029, val_acc: 0.8648\n",
      "Epoch [123], train_loss: 1.5420, val_loss: 1.6004, val_acc: 0.8691\n"
     ]
    },
    {
     "name": "stdout",
     "output_type": "stream",
     "text": [
      "Epoch [124], train_loss: 1.5406, val_loss: 1.6037, val_acc: 0.8636\n",
      "Epoch [125], train_loss: 1.5397, val_loss: 1.6037, val_acc: 0.8630\n",
      "Epoch [126], train_loss: 1.5390, val_loss: 1.6003, val_acc: 0.8668\n",
      "Epoch [127], train_loss: 1.5371, val_loss: 1.5989, val_acc: 0.8675\n",
      "Epoch [128], train_loss: 1.5345, val_loss: 1.5972, val_acc: 0.8671\n",
      "Epoch [129], train_loss: 1.5347, val_loss: 1.6001, val_acc: 0.8651\n",
      "Epoch [130], train_loss: 1.5346, val_loss: 1.6004, val_acc: 0.8661\n",
      "Epoch [131], train_loss: 1.5324, val_loss: 1.5992, val_acc: 0.8656\n",
      "Epoch [132], train_loss: 1.5323, val_loss: 1.5987, val_acc: 0.8672\n",
      "Epoch [133], train_loss: 1.5321, val_loss: 1.5999, val_acc: 0.8651\n",
      "Epoch [134], train_loss: 1.5320, val_loss: 1.5995, val_acc: 0.8673\n",
      "Epoch [135], train_loss: 1.5305, val_loss: 1.6002, val_acc: 0.8662\n",
      "Epoch [136], train_loss: 1.5305, val_loss: 1.5974, val_acc: 0.8691\n",
      "Epoch [137], train_loss: 1.5304, val_loss: 1.5987, val_acc: 0.8673\n",
      "Epoch [138], train_loss: 1.5302, val_loss: 1.5970, val_acc: 0.8695\n",
      "Epoch [139], train_loss: 1.5296, val_loss: 1.5989, val_acc: 0.8677\n",
      "CPU times: user 12min 56s, sys: 1min 21s, total: 14min 18s\n",
      "Wall time: 30min 20s\n"
     ]
    }
   ],
   "source": [
    "%%time\n",
    "history += fit_one_cycle(epochs, max_lr, model, train_dl, valid_dl, \n",
    "                             grad_clip=grad_clip, \n",
    "                             weight_decay=weight_decay, \n",
    "                             opt_func=opt_func)"
   ]
  },
  {
   "cell_type": "code",
   "execution_count": 23,
   "metadata": {
    "ExecuteTime": {
     "end_time": "2022-05-10T15:07:51.872528Z",
     "start_time": "2022-05-10T15:07:51.867953Z"
    },
    "id": "jvJzQAeNjB6Y"
   },
   "outputs": [],
   "source": [
    "def plot_accuracies(history):\n",
    "    accuracies = [x['val_acc'] for x in history]\n",
    "    plt.figure(figsize=(10,6))\n",
    "    plt.plot(accuracies, '-x')\n",
    "    plt.xlabel('epoch')\n",
    "    plt.ylabel('accuracy')\n",
    "    plt.title('Accuracy vs. No. of epochs');"
   ]
  },
  {
   "cell_type": "code",
   "execution_count": 24,
   "metadata": {
    "ExecuteTime": {
     "end_time": "2022-05-10T15:07:52.037777Z",
     "start_time": "2022-05-10T15:07:51.874151Z"
    },
    "colab": {
     "base_uri": "https://localhost:8080/",
     "height": 171
    },
    "id": "fYuANPlfjIvt",
    "outputId": "08453f89-0933-4bd9-e02a-d760aad8714f"
   },
   "outputs": [
    {
     "data": {
      "image/png": "[encoded data removed]",
      "text/plain": [
       "<Figure size 720x432 with 1 Axes>"
      ]
     },
     "metadata": {
      "needs_background": "light"
     },
     "output_type": "display_data"
    }
   ],
   "source": [
    "plot_accuracies(history)"
   ]
  },
  {
   "cell_type": "code",
   "execution_count": 25,
   "metadata": {
    "ExecuteTime": {
     "end_time": "2022-05-10T15:07:52.043524Z",
     "start_time": "2022-05-10T15:07:52.039295Z"
    },
    "id": "JV6cn39HjTF-"
   },
   "outputs": [],
   "source": [
    "def plot_losses(history):\n",
    "    train_losses = [x.get('train_loss') for x in history]\n",
    "    val_losses = [x['val_loss'] for x in history]\n",
    "    plt.figure(figsize=(10,6))\n",
    "    plt.plot(train_losses, '-bx')\n",
    "    plt.plot(val_losses, '-rx')\n",
    "    plt.xlabel('epoch')\n",
    "    plt.ylabel('loss')\n",
    "    plt.legend(['Training', 'Validation'])\n",
    "    plt.title('Loss vs. No. of epochs');"
   ]
  },
  {
   "cell_type": "code",
   "execution_count": 26,
   "metadata": {
    "ExecuteTime": {
     "end_time": "2022-05-10T15:07:52.211548Z",
     "start_time": "2022-05-10T15:07:52.044936Z"
    },
    "colab": {
     "base_uri": "https://localhost:8080/",
     "height": 171
    },
    "id": "kuky-BEDjUw_",
    "outputId": "e33b1eb9-e7c7-483d-829a-75bce6a074ae"
   },
   "outputs": [
    {
     "data": {
      "image/png": "[encoded data removed]",
      "text/plain": [
       "<Figure size 720x432 with 1 Axes>"
      ]
     },
     "metadata": {
      "needs_background": "light"
     },
     "output_type": "display_data"
    }
   ],
   "source": [
    "plot_losses(history)"
   ]
  },
  {
   "cell_type": "code",
   "execution_count": 27,
   "metadata": {
    "ExecuteTime": {
     "end_time": "2022-05-10T15:07:52.216594Z",
     "start_time": "2022-05-10T15:07:52.213037Z"
    },
    "id": "ToUcs2S6jZl_"
   },
   "outputs": [],
   "source": [
    "def plot_lrs(history):\n",
    "    lrs = np.concatenate([x.get('lrs', []) for x in history])\n",
    "    plt.figure(figsize=(10,6))\n",
    "    plt.plot(lrs)\n",
    "    plt.xlabel('Batch no.')\n",
    "    plt.ylabel('Learning rate')\n",
    "    plt.title('Learning Rate vs. Batch no.');"
   ]
  },
  {
   "cell_type": "code",
   "execution_count": 28,
   "metadata": {
    "ExecuteTime": {
     "end_time": "2022-05-10T15:07:52.357715Z",
     "start_time": "2022-05-10T15:07:52.217985Z"
    },
    "colab": {
     "base_uri": "https://localhost:8080/",
     "height": 171
    },
    "id": "V1ao5oIJjboF",
    "outputId": "23d3a338-12ab-42be-b2de-8a2b3d55ccae"
   },
   "outputs": [
    {
     "data": {
      "image/png": "[encoded data removed]",
      "text/plain": [
       "<Figure size 720x432 with 1 Axes>"
      ]
     },
     "metadata": {
      "needs_background": "light"
     },
     "output_type": "display_data"
    }
   ],
   "source": [
    "plot_lrs(history)"
   ]
  }
 ],
 "metadata": {
  "accelerator": "GPU",
  "colab": {
   "collapsed_sections": [],
   "include_colab_link": true,
   "name": "kaggle94gpu.ipynb",
   "provenance": []
  },
  "kernelspec": {
   "display_name": "Python 3",
   "language": "python",
   "name": "python3"
  },
  "language_info": {
   "codemirror_mode": {
    "name": "ipython",
    "version": 3
   },
   "file_extension": ".py",
   "mimetype": "text/x-python",
   "name": "python",
   "nbconvert_exporter": "python",
   "pygments_lexer": "ipython3",
   "version": "3.6.9"
  },
  "widgets": {
   "application/vnd.jupyter.widget-state+json": {
    "0433c9c034b7466a98118f517c9ae2e8": {
     "model_module": "@jupyter-widgets/base",
     "model_module_version": "1.2.0",
     "model_name": "LayoutModel",
     "state": {
      "_model_module": "@jupyter-widgets/base",
      "_model_module_version": "1.2.0",
      "_model_name": "LayoutModel",
      "_view_count": null,
      "_view_module": "@jupyter-widgets/base",
      "_view_module_version": "1.2.0",
      "_view_name": "LayoutView",
      "align_content": null,
      "align_items": null,
      "align_self": null,
      "border": null,
      "bottom": null,
      "display": null,
      "flex": null,
      "flex_flow": null,
      "grid_area": null,
      "grid_auto_columns": null,
      "grid_auto_flow": null,
      "grid_auto_rows": null,
      "grid_column": null,
      "grid_gap": null,
      "grid_row": null,
      "grid_template_areas": null,
      "grid_template_columns": null,
      "grid_template_rows": null,
      "height": null,
      "justify_content": null,
      "justify_items": null,
      "left": null,
      "margin": null,
      "max_height": null,
      "max_width": null,
      "min_height": null,
      "min_width": null,
      "object_fit": null,
      "object_position": null,
      "order": null,
      "overflow": null,
      "overflow_x": null,
      "overflow_y": null,
      "padding": null,
      "right": null,
      "top": null,
      "visibility": null,
      "width": null
     }
    },
    "29225a4d667e47f980b33c95c0850d16": {
     "model_module": "@jupyter-widgets/controls",
     "model_module_version": "1.5.0",
     "model_name": "DescriptionStyleModel",
     "state": {
      "_model_module": "@jupyter-widgets/controls",
      "_model_module_version": "1.5.0",
      "_model_name": "DescriptionStyleModel",
      "_view_count": null,
      "_view_module": "@jupyter-widgets/base",
      "_view_module_version": "1.2.0",
      "_view_name": "StyleView",
      "description_width": ""
     }
    },
    "350d156265104e2296caf536b05d26cc": {
     "model_module": "@jupyter-widgets/controls",
     "model_module_version": "1.5.0",
     "model_name": "FloatProgressModel",
     "state": {
      "_dom_classes": [],
      "_model_module": "@jupyter-widgets/controls",
      "_model_module_version": "1.5.0",
      "_model_name": "FloatProgressModel",
      "_view_count": null,
      "_view_module": "@jupyter-widgets/controls",
      "_view_module_version": "1.5.0",
      "_view_name": "ProgressView",
      "bar_style": "success",
      "description": "",
      "description_tooltip": null,
      "layout": "IPY_MODEL_9ae1047b1b184d81bde7c14ca6ad72d5",
      "max": 170498071,
      "min": 0,
      "orientation": "horizontal",
      "style": "IPY_MODEL_37da94684df543f3a81fe78c389f68dc",
      "value": 170498071
     }
    },
    "37da94684df543f3a81fe78c389f68dc": {
     "model_module": "@jupyter-widgets/controls",
     "model_module_version": "1.5.0",
     "model_name": "ProgressStyleModel",
     "state": {
      "_model_module": "@jupyter-widgets/controls",
      "_model_module_version": "1.5.0",
      "_model_name": "ProgressStyleModel",
      "_view_count": null,
      "_view_module": "@jupyter-widgets/base",
      "_view_module_version": "1.2.0",
      "_view_name": "StyleView",
      "bar_color": null,
      "description_width": ""
     }
    },
    "40b5952c97aa40169739936f0d549d02": {
     "model_module": "@jupyter-widgets/controls",
     "model_module_version": "1.5.0",
     "model_name": "HTMLModel",
     "state": {
      "_dom_classes": [],
      "_model_module": "@jupyter-widgets/controls",
      "_model_module_version": "1.5.0",
      "_model_name": "HTMLModel",
      "_view_count": null,
      "_view_module": "@jupyter-widgets/controls",
      "_view_module_version": "1.5.0",
      "_view_name": "HTMLView",
      "description": "",
      "description_tooltip": null,
      "layout": "IPY_MODEL_0433c9c034b7466a98118f517c9ae2e8",
      "placeholder": "​",
      "style": "IPY_MODEL_fb9ab6c5d81f48089ac0d9dc03c72e6b",
      "value": " 170499072/? [00:02&lt;00:00, 62626240.17it/s]"
     }
    },
    "4c7fbb2405c84d7887d63fd6217cba4a": {
     "model_module": "@jupyter-widgets/controls",
     "model_module_version": "1.5.0",
     "model_name": "HTMLModel",
     "state": {
      "_dom_classes": [],
      "_model_module": "@jupyter-widgets/controls",
      "_model_module_version": "1.5.0",
      "_model_name": "HTMLModel",
      "_view_count": null,
      "_view_module": "@jupyter-widgets/controls",
      "_view_module_version": "1.5.0",
      "_view_name": "HTMLView",
      "description": "",
      "description_tooltip": null,
      "layout": "IPY_MODEL_a448b41c426a4810a07d5eb92df1bc21",
      "placeholder": "​",
      "style": "IPY_MODEL_29225a4d667e47f980b33c95c0850d16",
      "value": ""
     }
    },
    "50c9aed288f14fcd94009217a59c91ff": {
     "model_module": "@jupyter-widgets/base",
     "model_module_version": "1.2.0",
     "model_name": "LayoutModel",
     "state": {
      "_model_module": "@jupyter-widgets/base",
      "_model_module_version": "1.2.0",
      "_model_name": "LayoutModel",
      "_view_count": null,
      "_view_module": "@jupyter-widgets/base",
      "_view_module_version": "1.2.0",
      "_view_name": "LayoutView",
      "align_content": null,
      "align_items": null,
      "align_self": null,
      "border": null,
      "bottom": null,
      "display": null,
      "flex": null,
      "flex_flow": null,
      "grid_area": null,
      "grid_auto_columns": null,
      "grid_auto_flow": null,
      "grid_auto_rows": null,
      "grid_column": null,
      "grid_gap": null,
      "grid_row": null,
      "grid_template_areas": null,
      "grid_template_columns": null,
      "grid_template_rows": null,
      "height": null,
      "justify_content": null,
      "justify_items": null,
      "left": null,
      "margin": null,
      "max_height": null,
      "max_width": null,
      "min_height": null,
      "min_width": null,
      "object_fit": null,
      "object_position": null,
      "order": null,
      "overflow": null,
      "overflow_x": null,
      "overflow_y": null,
      "padding": null,
      "right": null,
      "top": null,
      "visibility": null,
      "width": null
     }
    },
    "9ae1047b1b184d81bde7c14ca6ad72d5": {
     "model_module": "@jupyter-widgets/base",
     "model_module_version": "1.2.0",
     "model_name": "LayoutModel",
     "state": {
      "_model_module": "@jupyter-widgets/base",
      "_model_module_version": "1.2.0",
      "_model_name": "LayoutModel",
      "_view_count": null,
      "_view_module": "@jupyter-widgets/base",
      "_view_module_version": "1.2.0",
      "_view_name": "LayoutView",
      "align_content": null,
      "align_items": null,
      "align_self": null,
      "border": null,
      "bottom": null,
      "display": null,
      "flex": null,
      "flex_flow": null,
      "grid_area": null,
      "grid_auto_columns": null,
      "grid_auto_flow": null,
      "grid_auto_rows": null,
      "grid_column": null,
      "grid_gap": null,
      "grid_row": null,
      "grid_template_areas": null,
      "grid_template_columns": null,
      "grid_template_rows": null,
      "height": null,
      "justify_content": null,
      "justify_items": null,
      "left": null,
      "margin": null,
      "max_height": null,
      "max_width": null,
      "min_height": null,
      "min_width": null,
      "object_fit": null,
      "object_position": null,
      "order": null,
      "overflow": null,
      "overflow_x": null,
      "overflow_y": null,
      "padding": null,
      "right": null,
      "top": null,
      "visibility": null,
      "width": null
     }
    },
    "a448b41c426a4810a07d5eb92df1bc21": {
     "model_module": "@jupyter-widgets/base",
     "model_module_version": "1.2.0",
     "model_name": "LayoutModel",
     "state": {
      "_model_module": "@jupyter-widgets/base",
      "_model_module_version": "1.2.0",
      "_model_name": "LayoutModel",
      "_view_count": null,
      "_view_module": "@jupyter-widgets/base",
      "_view_module_version": "1.2.0",
      "_view_name": "LayoutView",
      "align_content": null,
      "align_items": null,
      "align_self": null,
      "border": null,
      "bottom": null,
      "display": null,
      "flex": null,
      "flex_flow": null,
      "grid_area": null,
      "grid_auto_columns": null,
      "grid_auto_flow": null,
      "grid_auto_rows": null,
      "grid_column": null,
      "grid_gap": null,
      "grid_row": null,
      "grid_template_areas": null,
      "grid_template_columns": null,
      "grid_template_rows": null,
      "height": null,
      "justify_content": null,
      "justify_items": null,
      "left": null,
      "margin": null,
      "max_height": null,
      "max_width": null,
      "min_height": null,
      "min_width": null,
      "object_fit": null,
      "object_position": null,
      "order": null,
      "overflow": null,
      "overflow_x": null,
      "overflow_y": null,
      "padding": null,
      "right": null,
      "top": null,
      "visibility": null,
      "width": null
     }
    },
    "c974d31e436a42899adbf2ef969307a4": {
     "model_module": "@jupyter-widgets/controls",
     "model_module_version": "1.5.0",
     "model_name": "HBoxModel",
     "state": {
      "_dom_classes": [],
      "_model_module": "@jupyter-widgets/controls",
      "_model_module_version": "1.5.0",
      "_model_name": "HBoxModel",
      "_view_count": null,
      "_view_module": "@jupyter-widgets/controls",
      "_view_module_version": "1.5.0",
      "_view_name": "HBoxView",
      "box_style": "",
      "children": [
       "IPY_MODEL_4c7fbb2405c84d7887d63fd6217cba4a",
       "IPY_MODEL_350d156265104e2296caf536b05d26cc",
       "IPY_MODEL_40b5952c97aa40169739936f0d549d02"
      ],
      "layout": "IPY_MODEL_50c9aed288f14fcd94009217a59c91ff"
     }
    },
    "fb9ab6c5d81f48089ac0d9dc03c72e6b": {
     "model_module": "@jupyter-widgets/controls",
     "model_module_version": "1.5.0",
     "model_name": "DescriptionStyleModel",
     "state": {
      "_model_module": "@jupyter-widgets/controls",
      "_model_module_version": "1.5.0",
      "_model_name": "DescriptionStyleModel",
      "_view_count": null,
      "_view_module": "@jupyter-widgets/base",
      "_view_module_version": "1.2.0",
      "_view_name": "StyleView",
      "description_width": ""
     }
    }
   }
  }
 },
 "nbformat": 4,
 "nbformat_minor": 4
}
