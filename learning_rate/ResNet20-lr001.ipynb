{
 "cells": [
  {
   "cell_type": "markdown",
   "metadata": {
    "colab_type": "text",
    "id": "view-in-github"
   },
   "source": [
    "<a href=\"https://colab.research.google.com/github/stanbsky/int2_image_classifier/blob/main/kaggle94gpu.ipynb\" target=\"_parent\"><img src=\"https://colab.research.google.com/assets/colab-badge.svg\" alt=\"Open In Colab\"/></a>"
   ]
  },
  {
   "cell_type": "code",
   "execution_count": 1,
   "metadata": {
    "ExecuteTime": {
     "end_time": "2022-05-10T14:23:07.320508Z",
     "start_time": "2022-05-10T14:23:06.068929Z"
    },
    "id": "OD2wVFLtkbkN"
   },
   "outputs": [
    {
     "name": "stderr",
     "output_type": "stream",
     "text": [
      "Matplotlib created a temporary config/cache directory at /tmp/matplotlib-97q4267m because the default path (/run/user/141228/cache/matplotlib) is not a writable directory; it is highly recommended to set the MPLCONFIGDIR environment variable to a writable directory, in particular to speed up the import of Matplotlib and to better support multiprocessing.\n"
     ]
    }
   ],
   "source": [
    "# importing libraries\n",
    "import torch\n",
    "import torchvision\n",
    "from torchvision.datasets.utils import download_url\n",
    "from torch.utils.data import random_split\n",
    "from torchvision.datasets import ImageFolder\n",
    "from torchvision.transforms import ToTensor,ToPILImage\n",
    "import matplotlib.pyplot as plt\n",
    "from torchvision.utils import make_grid\n",
    "from torch.utils.data.dataloader import DataLoader\n",
    "from torchvision.utils import make_grid\n",
    "import torch.nn as nn\n",
    "import torch.nn.functional as F\n",
    "import torchvision.transforms as tt\n",
    "import numpy as np"
   ]
  },
  {
   "cell_type": "code",
   "execution_count": 2,
   "metadata": {
    "ExecuteTime": {
     "end_time": "2022-05-10T14:23:07.326770Z",
     "start_time": "2022-05-10T14:23:07.323876Z"
    },
    "id": "Cea6yx4amG2c"
   },
   "outputs": [],
   "source": [
    "import torchvision.datasets as datasets"
   ]
  },
  {
   "cell_type": "code",
   "execution_count": 3,
   "metadata": {
    "ExecuteTime": {
     "end_time": "2022-05-10T14:23:08.131107Z",
     "start_time": "2022-05-10T14:23:07.329520Z"
    },
    "colab": {
     "base_uri": "https://localhost:8080/"
    },
    "id": "efdLf1xLk5_y",
    "outputId": "dd7073c3-3026-4d75-eee6-e0425ce35d3e"
   },
   "outputs": [
    {
     "data": {
      "text/plain": [
       "<weakproxy at 0x7f4a37756908 to Device at 0x7f4a37755438>"
      ]
     },
     "execution_count": 3,
     "metadata": {},
     "output_type": "execute_result"
    }
   ],
   "source": [
    "from numba import cuda\n",
    "cuda.select_device(5)"
   ]
  },
  {
   "cell_type": "code",
   "execution_count": 4,
   "metadata": {
    "ExecuteTime": {
     "end_time": "2022-05-10T14:23:08.138023Z",
     "start_time": "2022-05-10T14:23:08.133157Z"
    },
    "id": "hNiNZttPlHFe"
   },
   "outputs": [],
   "source": [
    "stats= ((0.4914,0.4822,0.4465),(0.2023,0.1994,0.2010)) #mean and std\n",
    "train_tfm= tt.Compose([tt.RandomCrop(32, padding=4, padding_mode='reflect'), # transormation of data together\n",
    "                       tt.RandomHorizontalFlip(),\n",
    "                       tt.ToTensor()])\n",
    "valid_tfm = tt.Compose([tt.ToTensor()])"
   ]
  },
  {
   "cell_type": "code",
   "execution_count": 5,
   "metadata": {
    "ExecuteTime": {
     "end_time": "2022-05-10T14:23:09.297252Z",
     "start_time": "2022-05-10T14:23:08.139680Z"
    },
    "colab": {
     "base_uri": "https://localhost:8080/",
     "height": 86,
     "referenced_widgets": [
      "c974d31e436a42899adbf2ef969307a4",
      "4c7fbb2405c84d7887d63fd6217cba4a",
      "350d156265104e2296caf536b05d26cc",
      "40b5952c97aa40169739936f0d549d02",
      "50c9aed288f14fcd94009217a59c91ff",
      "a448b41c426a4810a07d5eb92df1bc21",
      "29225a4d667e47f980b33c95c0850d16",
      "9ae1047b1b184d81bde7c14ca6ad72d5",
      "37da94684df543f3a81fe78c389f68dc",
      "0433c9c034b7466a98118f517c9ae2e8",
      "fb9ab6c5d81f48089ac0d9dc03c72e6b"
     ]
    },
    "id": "pxotEy_Al0J4",
    "outputId": "90e7b090-0622-4775-fcfa-39958472aa7c"
   },
   "outputs": [
    {
     "name": "stdout",
     "output_type": "stream",
     "text": [
      "Files already downloaded and verified\n"
     ]
    }
   ],
   "source": [
    "training_data = datasets.CIFAR10(\n",
    "    root=\"data\",\n",
    "    train=True,\n",
    "    download=True,\n",
    "    transform=train_tfm,\n",
    ")"
   ]
  },
  {
   "cell_type": "code",
   "execution_count": 6,
   "metadata": {
    "ExecuteTime": {
     "end_time": "2022-05-10T14:23:10.151209Z",
     "start_time": "2022-05-10T14:23:09.298960Z"
    },
    "colab": {
     "base_uri": "https://localhost:8080/"
    },
    "id": "3HUIV5yKmj4F",
    "outputId": "96675fe3-76e5-4e9f-9bc2-14b1d389996f"
   },
   "outputs": [
    {
     "name": "stdout",
     "output_type": "stream",
     "text": [
      "Files already downloaded and verified\n"
     ]
    }
   ],
   "source": [
    "# Download test data from open datasets.\n",
    "test_data = datasets.CIFAR10(\n",
    "    root=\"data\",\n",
    "    train=False,\n",
    "    download=True,\n",
    "    transform=valid_tfm,\n",
    ")"
   ]
  },
  {
   "cell_type": "code",
   "execution_count": 7,
   "metadata": {
    "ExecuteTime": {
     "end_time": "2022-05-10T14:23:10.157745Z",
     "start_time": "2022-05-10T14:23:10.153249Z"
    },
    "colab": {
     "base_uri": "https://localhost:8080/"
    },
    "id": "3eOTjMVem_T9",
    "outputId": "c3a532da-260b-4bd9-baef-144d73c92f92"
   },
   "outputs": [
    {
     "data": {
      "text/plain": [
       "Dataset CIFAR10\n",
       "    Number of datapoints: 50000\n",
       "    Root location: data\n",
       "    Split: Train\n",
       "    StandardTransform\n",
       "Transform: Compose(\n",
       "               RandomCrop(size=(32, 32), padding=4)\n",
       "               RandomHorizontalFlip(p=0.5)\n",
       "               ToTensor()\n",
       "           )"
      ]
     },
     "execution_count": 7,
     "metadata": {},
     "output_type": "execute_result"
    }
   ],
   "source": [
    "valid_ds = test_data\n",
    "train_ds = training_data\n",
    "train_ds"
   ]
  },
  {
   "cell_type": "code",
   "execution_count": 8,
   "metadata": {
    "ExecuteTime": {
     "end_time": "2022-05-10T14:23:10.168911Z",
     "start_time": "2022-05-10T14:23:10.160090Z"
    },
    "id": "JAFQAJUVr7U2"
   },
   "outputs": [],
   "source": [
    "def show_image(img,label):\n",
    "    print('Label: ', train_ds.classes[label],\"(\"+str(label)+\")\")\n",
    "    plt.imshow(img.permute(1,2,0))"
   ]
  },
  {
   "cell_type": "code",
   "execution_count": 9,
   "metadata": {
    "ExecuteTime": {
     "end_time": "2022-05-10T14:23:10.179936Z",
     "start_time": "2022-05-10T14:23:10.171998Z"
    },
    "id": "tj5jXuuBri6o"
   },
   "outputs": [],
   "source": [
    "batch_size=400"
   ]
  },
  {
   "cell_type": "code",
   "execution_count": 10,
   "metadata": {
    "ExecuteTime": {
     "end_time": "2022-05-10T14:23:10.193574Z",
     "start_time": "2022-05-10T14:23:10.182700Z"
    },
    "id": "n4kCM-hare00"
   },
   "outputs": [],
   "source": [
    "# Dataloader to load data in batches(mini batch)\n",
    "train_dl= DataLoader(train_ds,batch_size,shuffle=True, num_workers=2, pin_memory=True)\n",
    "valid_dl= DataLoader(valid_ds, batch_size, num_workers=2,pin_memory=True)"
   ]
  },
  {
   "cell_type": "code",
   "execution_count": 11,
   "metadata": {
    "ExecuteTime": {
     "end_time": "2022-05-10T14:23:10.206141Z",
     "start_time": "2022-05-10T14:23:10.196521Z"
    },
    "id": "mcfsy3QptG2Y"
   },
   "outputs": [],
   "source": [
    "def show_batch(dl):\n",
    "    for images, labels in dl:\n",
    "        fig,ax= plt.subplots(figsize=(12,12))\n",
    "        ax.set_xticks([]) #hide ticks\n",
    "        ax.set_yticks([])\n",
    "        ax.imshow(make_grid(images[:64],nrow=8).permute(1,2,0))\n",
    "        break # printing only first 64 images from first batch"
   ]
  },
  {
   "cell_type": "code",
   "execution_count": 12,
   "metadata": {
    "ExecuteTime": {
     "end_time": "2022-05-10T14:23:10.225367Z",
     "start_time": "2022-05-10T14:23:10.208693Z"
    },
    "id": "lPVFZltRtXt4"
   },
   "outputs": [],
   "source": [
    "def get_default_device():\n",
    "    \"\"\"Pick GPU if available, else CPU\"\"\"\n",
    "    if torch.cuda.is_available():\n",
    "        return torch.device('cuda')\n",
    "    else:\n",
    "        return torch.device('cpu')\n",
    "    \n",
    "def to_device(data, device):\n",
    "    \"\"\"Move tensor(s) to chosen device\"\"\"\n",
    "    if isinstance(data, (list,tuple)):\n",
    "        return [to_device(x, device) for x in data]\n",
    "    return data.to(device, non_blocking=True)\n",
    "\n",
    "class DeviceDataLoader():\n",
    "    \"\"\"Wrap a dataloader to move data to a device\"\"\"\n",
    "    def __init__(self, dl, device):\n",
    "        self.dl = dl\n",
    "        self.device = device\n",
    "        \n",
    "    def __iter__(self):\n",
    "        \"\"\"Yield a batch of data after moving it to device\"\"\"\n",
    "        for b in self.dl: \n",
    "            yield to_device(b, self.device)\n",
    "\n",
    "    def __len__(self):\n",
    "        \"\"\"Number of batches\"\"\"\n",
    "        return len(self.dl)"
   ]
  },
  {
   "cell_type": "code",
   "execution_count": 13,
   "metadata": {
    "ExecuteTime": {
     "end_time": "2022-05-10T14:23:10.262056Z",
     "start_time": "2022-05-10T14:23:10.227925Z"
    },
    "colab": {
     "base_uri": "https://localhost:8080/"
    },
    "id": "SOksgE3wtYwZ",
    "outputId": "a9fb69e1-9e00-4139-d791-b7c305a7941a"
   },
   "outputs": [
    {
     "data": {
      "text/plain": [
       "device(type='cuda')"
      ]
     },
     "execution_count": 13,
     "metadata": {},
     "output_type": "execute_result"
    }
   ],
   "source": [
    "device = get_default_device()\n",
    "device"
   ]
  },
  {
   "cell_type": "code",
   "execution_count": 14,
   "metadata": {
    "ExecuteTime": {
     "end_time": "2022-05-10T14:23:10.270506Z",
     "start_time": "2022-05-10T14:23:10.263801Z"
    },
    "id": "hfVlteXctb6f"
   },
   "outputs": [],
   "source": [
    "train_dl= DeviceDataLoader(train_dl,device)\n",
    "valid_dl = DeviceDataLoader(valid_dl, device)"
   ]
  },
  {
   "cell_type": "code",
   "execution_count": 15,
   "metadata": {
    "ExecuteTime": {
     "end_time": "2022-05-10T14:23:10.294237Z",
     "start_time": "2022-05-10T14:23:10.273693Z"
    },
    "id": "PLmLZHBqtlF_"
   },
   "outputs": [],
   "source": [
    "def accuracy(outputs, labels):\n",
    "    _, preds = torch.max(outputs, dim=1)\n",
    "    return torch.tensor(torch.sum(preds == labels).item() / len(preds))\n",
    "\n",
    "class ImageClassificationBase(nn.Module):\n",
    "    def training_step(self, batch):\n",
    "        images, labels = batch \n",
    "        out = self(images)                  # Generate predictions\n",
    "        loss = F.cross_entropy(out, labels) # Calculate loss\n",
    "        return loss\n",
    "    \n",
    "    def validation_step(self, batch):\n",
    "        images, labels = batch \n",
    "        out = self(images)                    # Generate predictions\n",
    "        loss = F.cross_entropy(out, labels)   # Calculate loss\n",
    "        acc = accuracy(out, labels)           # Calculate accuracy\n",
    "        return {'val_loss': loss.detach(), 'val_acc': acc}\n",
    "        \n",
    "    def validation_epoch_end(self, outputs):\n",
    "        batch_losses = [x['val_loss'] for x in outputs]\n",
    "        epoch_loss = torch.stack(batch_losses).mean()   # Combine losses\n",
    "        batch_accs = [x['val_acc'] for x in outputs]\n",
    "        epoch_acc = torch.stack(batch_accs).mean()      # Combine accuracies\n",
    "        return {'val_loss': epoch_loss.item(), 'val_acc': epoch_acc.item()}\n",
    "    \n",
    "    def epoch_end(self, epoch, result):\n",
    "        print(\"Epoch [{}], train_loss: {:.4f}, val_loss: {:.4f}, val_acc: {:.4f}\".format(\n",
    "            epoch, result['train_loss'], result['val_loss'], result['val_acc']))"
   ]
  },
  {
   "cell_type": "code",
   "execution_count": 16,
   "metadata": {
    "ExecuteTime": {
     "end_time": "2022-05-10T14:23:10.323896Z",
     "start_time": "2022-05-10T14:23:10.296597Z"
    },
    "id": "LcaZkKzQtomv"
   },
   "outputs": [],
   "source": [
    "def conv_block(in_channels, out_channels, stride=1):\n",
    "    layers = [nn.Conv2d(in_channels, out_channels, kernel_size=3, padding=1, stride=stride), \n",
    "              nn.BatchNorm2d(out_channels), \n",
    "              nn.ReLU(inplace=True)]\n",
    "    return nn.Sequential(*layers)\n",
    "\n",
    "def shortcut(in_channels, out_channels):\n",
    "    return nn.Conv2d(in_channels, out_channels, kernel_size=3, padding=1, stride=2)\n",
    "\n",
    "class ResNet(ImageClassificationBase):\n",
    "    def __init__(self, in_channels, num_classes, n):\n",
    "        super().__init__()\n",
    "        \n",
    "        self.n = n\n",
    "        \n",
    "        # 32x32 map\n",
    "        self.conv1 = conv_block(in_channels, 16)\n",
    "        self.reg32 = nn.Sequential(conv_block(16,16), conv_block(16,16))\n",
    "        \n",
    "        # 16x16 map\n",
    "        self.entry16 = nn.Sequential(conv_block(16, 32, stride=2), conv_block(32, 32))\n",
    "        self.short16 = shortcut(16, 32)\n",
    "        self.reg16 = nn.Sequential(conv_block(32, 32), conv_block(32, 32))\n",
    "        \n",
    "        # 8x8 map\n",
    "        self.entry8 = nn.Sequential(conv_block(32, 64, stride=2), conv_block(64, 64))\n",
    "        self.short8 = shortcut(32, 64)\n",
    "        self.reg8 = nn.Sequential(conv_block(64, 64), conv_block(64, 64))\n",
    "        \n",
    "        self.classifier = nn.Sequential(nn.AvgPool2d(kernel_size=8, stride=None, padding=0), \n",
    "                                        nn.Linear(64, num_classes),\n",
    "                                       nn.Softmax())\n",
    "        # FOR DEBUGGING\n",
    "        self.avg = nn.AvgPool2d(kernel_size=8, stride=None, padding=0)\n",
    "        self.flat = nn.Flatten()\n",
    "        self.fcl = nn.Linear(64, num_classes)\n",
    "        self.sm = nn.Softmax()\n",
    "        \n",
    "    def forward(self, xb):\n",
    "        out = self.conv1(xb)\n",
    "        \n",
    "        for i in range(self.n):\n",
    "            out = self.reg32(out) + out\n",
    "            \n",
    "        out = self.entry16(out) + self.short16(out)\n",
    "        for i in range(self.n - 1):\n",
    "            out = self.reg16(out) + out\n",
    "            \n",
    "        out = self.entry8(out) + self.short8(out)\n",
    "        for i in range(self.n - 1):\n",
    "            out = self.reg8(out) + out\n",
    "\n",
    "        #out = self.classifier(out)\n",
    "        out = self.avg(out)\n",
    "        out = self.flat(out)\n",
    "        out = self.fcl(out)\n",
    "        out = self.sm(out)\n",
    "        \n",
    "        return out"
   ]
  },
  {
   "cell_type": "code",
   "execution_count": 17,
   "metadata": {
    "ExecuteTime": {
     "end_time": "2022-05-10T14:23:12.972332Z",
     "start_time": "2022-05-10T14:23:10.326269Z"
    },
    "colab": {
     "base_uri": "https://localhost:8080/"
    },
    "id": "O8BOig0Otrjz",
    "outputId": "a40ce9a4-8852-4595-9525-9841221a3391"
   },
   "outputs": [
    {
     "data": {
      "text/plain": [
       "ResNet(\n",
       "  (conv1): Sequential(\n",
       "    (0): Conv2d(3, 16, kernel_size=(3, 3), stride=(1, 1), padding=(1, 1))\n",
       "    (1): BatchNorm2d(16, eps=1e-05, momentum=0.1, affine=True, track_running_stats=True)\n",
       "    (2): ReLU(inplace=True)\n",
       "  )\n",
       "  (reg32): Sequential(\n",
       "    (0): Sequential(\n",
       "      (0): Conv2d(16, 16, kernel_size=(3, 3), stride=(1, 1), padding=(1, 1))\n",
       "      (1): BatchNorm2d(16, eps=1e-05, momentum=0.1, affine=True, track_running_stats=True)\n",
       "      (2): ReLU(inplace=True)\n",
       "    )\n",
       "    (1): Sequential(\n",
       "      (0): Conv2d(16, 16, kernel_size=(3, 3), stride=(1, 1), padding=(1, 1))\n",
       "      (1): BatchNorm2d(16, eps=1e-05, momentum=0.1, affine=True, track_running_stats=True)\n",
       "      (2): ReLU(inplace=True)\n",
       "    )\n",
       "  )\n",
       "  (entry16): Sequential(\n",
       "    (0): Sequential(\n",
       "      (0): Conv2d(16, 32, kernel_size=(3, 3), stride=(2, 2), padding=(1, 1))\n",
       "      (1): BatchNorm2d(32, eps=1e-05, momentum=0.1, affine=True, track_running_stats=True)\n",
       "      (2): ReLU(inplace=True)\n",
       "    )\n",
       "    (1): Sequential(\n",
       "      (0): Conv2d(32, 32, kernel_size=(3, 3), stride=(1, 1), padding=(1, 1))\n",
       "      (1): BatchNorm2d(32, eps=1e-05, momentum=0.1, affine=True, track_running_stats=True)\n",
       "      (2): ReLU(inplace=True)\n",
       "    )\n",
       "  )\n",
       "  (short16): Conv2d(16, 32, kernel_size=(3, 3), stride=(2, 2), padding=(1, 1))\n",
       "  (reg16): Sequential(\n",
       "    (0): Sequential(\n",
       "      (0): Conv2d(32, 32, kernel_size=(3, 3), stride=(1, 1), padding=(1, 1))\n",
       "      (1): BatchNorm2d(32, eps=1e-05, momentum=0.1, affine=True, track_running_stats=True)\n",
       "      (2): ReLU(inplace=True)\n",
       "    )\n",
       "    (1): Sequential(\n",
       "      (0): Conv2d(32, 32, kernel_size=(3, 3), stride=(1, 1), padding=(1, 1))\n",
       "      (1): BatchNorm2d(32, eps=1e-05, momentum=0.1, affine=True, track_running_stats=True)\n",
       "      (2): ReLU(inplace=True)\n",
       "    )\n",
       "  )\n",
       "  (entry8): Sequential(\n",
       "    (0): Sequential(\n",
       "      (0): Conv2d(32, 64, kernel_size=(3, 3), stride=(2, 2), padding=(1, 1))\n",
       "      (1): BatchNorm2d(64, eps=1e-05, momentum=0.1, affine=True, track_running_stats=True)\n",
       "      (2): ReLU(inplace=True)\n",
       "    )\n",
       "    (1): Sequential(\n",
       "      (0): Conv2d(64, 64, kernel_size=(3, 3), stride=(1, 1), padding=(1, 1))\n",
       "      (1): BatchNorm2d(64, eps=1e-05, momentum=0.1, affine=True, track_running_stats=True)\n",
       "      (2): ReLU(inplace=True)\n",
       "    )\n",
       "  )\n",
       "  (short8): Conv2d(32, 64, kernel_size=(3, 3), stride=(2, 2), padding=(1, 1))\n",
       "  (reg8): Sequential(\n",
       "    (0): Sequential(\n",
       "      (0): Conv2d(64, 64, kernel_size=(3, 3), stride=(1, 1), padding=(1, 1))\n",
       "      (1): BatchNorm2d(64, eps=1e-05, momentum=0.1, affine=True, track_running_stats=True)\n",
       "      (2): ReLU(inplace=True)\n",
       "    )\n",
       "    (1): Sequential(\n",
       "      (0): Conv2d(64, 64, kernel_size=(3, 3), stride=(1, 1), padding=(1, 1))\n",
       "      (1): BatchNorm2d(64, eps=1e-05, momentum=0.1, affine=True, track_running_stats=True)\n",
       "      (2): ReLU(inplace=True)\n",
       "    )\n",
       "  )\n",
       "  (classifier): Sequential(\n",
       "    (0): AvgPool2d(kernel_size=8, stride=8, padding=0)\n",
       "    (1): Linear(in_features=64, out_features=10, bias=True)\n",
       "    (2): Softmax(dim=None)\n",
       "  )\n",
       "  (avg): AvgPool2d(kernel_size=8, stride=8, padding=0)\n",
       "  (flat): Flatten(start_dim=1, end_dim=-1)\n",
       "  (fcl): Linear(in_features=64, out_features=10, bias=True)\n",
       "  (sm): Softmax(dim=None)\n",
       ")"
      ]
     },
     "execution_count": 17,
     "metadata": {},
     "output_type": "execute_result"
    }
   ],
   "source": [
    "# n=3 => ResNet20\n",
    "model= to_device(ResNet(3,10,3), device)\n",
    "model"
   ]
  },
  {
   "cell_type": "code",
   "execution_count": 18,
   "metadata": {
    "ExecuteTime": {
     "end_time": "2022-05-10T14:23:13.013304Z",
     "start_time": "2022-05-10T14:23:12.974882Z"
    },
    "colab": {
     "base_uri": "https://localhost:8080/"
    },
    "id": "O8BOig0Otrjz",
    "outputId": "a40ce9a4-8852-4595-9525-9841221a3391"
   },
   "outputs": [
    {
     "name": "stdout",
     "output_type": "stream",
     "text": [
      "----------------------------------------------------------------\n",
      "        Layer (type)               Output Shape         Param #\n",
      "================================================================\n",
      "            Conv2d-1           [-1, 16, 32, 32]             448\n",
      "       BatchNorm2d-2           [-1, 16, 32, 32]              32\n",
      "              ReLU-3           [-1, 16, 32, 32]               0\n",
      "            Conv2d-4           [-1, 16, 32, 32]           2,320\n",
      "       BatchNorm2d-5           [-1, 16, 32, 32]              32\n",
      "              ReLU-6           [-1, 16, 32, 32]               0\n",
      "            Conv2d-7           [-1, 16, 32, 32]           2,320\n",
      "       BatchNorm2d-8           [-1, 16, 32, 32]              32\n",
      "              ReLU-9           [-1, 16, 32, 32]               0\n",
      "           Conv2d-10           [-1, 16, 32, 32]           2,320\n",
      "      BatchNorm2d-11           [-1, 16, 32, 32]              32\n",
      "             ReLU-12           [-1, 16, 32, 32]               0\n",
      "           Conv2d-13           [-1, 16, 32, 32]           2,320\n",
      "      BatchNorm2d-14           [-1, 16, 32, 32]              32\n",
      "             ReLU-15           [-1, 16, 32, 32]               0\n",
      "           Conv2d-16           [-1, 16, 32, 32]           2,320\n",
      "      BatchNorm2d-17           [-1, 16, 32, 32]              32\n",
      "             ReLU-18           [-1, 16, 32, 32]               0\n",
      "           Conv2d-19           [-1, 16, 32, 32]           2,320\n",
      "      BatchNorm2d-20           [-1, 16, 32, 32]              32\n",
      "             ReLU-21           [-1, 16, 32, 32]               0\n",
      "           Conv2d-22           [-1, 32, 16, 16]           4,640\n",
      "      BatchNorm2d-23           [-1, 32, 16, 16]              64\n",
      "             ReLU-24           [-1, 32, 16, 16]               0\n",
      "           Conv2d-25           [-1, 32, 16, 16]           9,248\n",
      "      BatchNorm2d-26           [-1, 32, 16, 16]              64\n",
      "             ReLU-27           [-1, 32, 16, 16]               0\n",
      "           Conv2d-28           [-1, 32, 16, 16]           4,640\n",
      "           Conv2d-29           [-1, 32, 16, 16]           9,248\n",
      "      BatchNorm2d-30           [-1, 32, 16, 16]              64\n",
      "             ReLU-31           [-1, 32, 16, 16]               0\n",
      "           Conv2d-32           [-1, 32, 16, 16]           9,248\n",
      "      BatchNorm2d-33           [-1, 32, 16, 16]              64\n",
      "             ReLU-34           [-1, 32, 16, 16]               0\n",
      "           Conv2d-35           [-1, 32, 16, 16]           9,248\n",
      "      BatchNorm2d-36           [-1, 32, 16, 16]              64\n",
      "             ReLU-37           [-1, 32, 16, 16]               0\n",
      "           Conv2d-38           [-1, 32, 16, 16]           9,248\n",
      "      BatchNorm2d-39           [-1, 32, 16, 16]              64\n",
      "             ReLU-40           [-1, 32, 16, 16]               0\n",
      "           Conv2d-41             [-1, 64, 8, 8]          18,496\n",
      "      BatchNorm2d-42             [-1, 64, 8, 8]             128\n",
      "             ReLU-43             [-1, 64, 8, 8]               0\n",
      "           Conv2d-44             [-1, 64, 8, 8]          36,928\n",
      "      BatchNorm2d-45             [-1, 64, 8, 8]             128\n",
      "             ReLU-46             [-1, 64, 8, 8]               0\n",
      "           Conv2d-47             [-1, 64, 8, 8]          18,496\n",
      "           Conv2d-48             [-1, 64, 8, 8]          36,928\n",
      "      BatchNorm2d-49             [-1, 64, 8, 8]             128\n",
      "             ReLU-50             [-1, 64, 8, 8]               0\n",
      "           Conv2d-51             [-1, 64, 8, 8]          36,928\n",
      "      BatchNorm2d-52             [-1, 64, 8, 8]             128\n",
      "             ReLU-53             [-1, 64, 8, 8]               0\n",
      "           Conv2d-54             [-1, 64, 8, 8]          36,928\n",
      "      BatchNorm2d-55             [-1, 64, 8, 8]             128\n",
      "             ReLU-56             [-1, 64, 8, 8]               0\n",
      "           Conv2d-57             [-1, 64, 8, 8]          36,928\n",
      "      BatchNorm2d-58             [-1, 64, 8, 8]             128\n",
      "             ReLU-59             [-1, 64, 8, 8]               0\n",
      "        AvgPool2d-60             [-1, 64, 1, 1]               0\n",
      "          Flatten-61                   [-1, 64]               0\n",
      "           Linear-62                   [-1, 10]             650\n",
      "          Softmax-63                   [-1, 10]               0\n",
      "================================================================\n",
      "Total params: 293,546\n",
      "Trainable params: 293,546\n",
      "Non-trainable params: 0\n",
      "----------------------------------------------------------------\n",
      "Input size (MB): 0.01\n",
      "Forward/backward pass size (MB): 4.41\n",
      "Params size (MB): 1.12\n",
      "Estimated Total Size (MB): 5.54\n",
      "----------------------------------------------------------------\n"
     ]
    },
    {
     "name": "stderr",
     "output_type": "stream",
     "text": [
      "/home/userfs/s/sb2444/.local/lib/python3.6/site-packages/ipykernel_launcher.py:57: UserWarning: Implicit dimension choice for softmax has been deprecated. Change the call to include dim=X as an argument.\n"
     ]
    }
   ],
   "source": [
    "from torchvision import models\n",
    "from torchsummary import summary\n",
    "summary(model, (3, 32, 32))"
   ]
  },
  {
   "cell_type": "code",
   "execution_count": 19,
   "metadata": {
    "ExecuteTime": {
     "end_time": "2022-05-10T14:23:13.029810Z",
     "start_time": "2022-05-10T14:23:13.015859Z"
    },
    "id": "hmbJUvR3t0QY"
   },
   "outputs": [],
   "source": [
    "@torch.no_grad()\n",
    "def evaluate(model, val_loader):\n",
    "    model.eval()\n",
    "    outputs = [model.validation_step(batch) for batch in val_loader]\n",
    "    return model.validation_epoch_end(outputs)\n",
    "\n",
    "def get_lr(optimizer):\n",
    "    for param_group in optimizer.param_groups:\n",
    "        return param_group['lr']\n",
    "\n",
    "def fit_one_cycle(epochs, max_lr, model, train_loader, val_loader, \n",
    "                  weight_decay=0, grad_clip=None, opt_func=torch.optim.SGD):\n",
    "    torch.cuda.empty_cache()  # Realsing cuda memory otherwise might get cuda out of memory error\n",
    "    history = []\n",
    "    \n",
    "    #custom optimizer with weight decay\n",
    "    optimizer = opt_func(model.parameters(), max_lr, weight_decay=weight_decay)\n",
    "    # Set up one-cycle learning rate scheduler\n",
    "    sched = torch.optim.lr_scheduler.OneCycleLR(optimizer, max_lr, epochs=epochs, \n",
    "                                                steps_per_epoch=len(train_loader))\n",
    "    \n",
    "    for epoch in range(epochs):\n",
    "        # Training Phase \n",
    "        model.train() #Setting training mode\n",
    "        train_losses = []\n",
    "        lrs = []\n",
    "        for batch in train_loader:\n",
    "            loss = model.training_step(batch)\n",
    "            train_losses.append(loss)\n",
    "            loss.backward()\n",
    "            \n",
    "            # Gradient clipping\n",
    "            if grad_clip: \n",
    "                nn.utils.clip_grad_value_(model.parameters(), grad_clip)\n",
    "            \n",
    "            optimizer.step()\n",
    "            optimizer.zero_grad()\n",
    "            \n",
    "            # Record & update learning rate\n",
    "            lrs.append(get_lr(optimizer))\n",
    "            sched.step()\n",
    "        \n",
    "        # Validation phase\n",
    "        result = evaluate(model, val_loader)\n",
    "        result['train_loss'] = torch.stack(train_losses).mean().item()\n",
    "        result['lrs'] = lrs\n",
    "        model.epoch_end(epoch, result)\n",
    "        history.append(result)\n",
    "    return history"
   ]
  },
  {
   "cell_type": "code",
   "execution_count": 20,
   "metadata": {
    "ExecuteTime": {
     "end_time": "2022-05-10T14:23:13.841189Z",
     "start_time": "2022-05-10T14:23:13.031887Z"
    },
    "colab": {
     "base_uri": "https://localhost:8080/"
    },
    "id": "_TPdh3fbt1fH",
    "outputId": "a22ad739-4bd6-459d-f905-64450f06bf4c"
   },
   "outputs": [
    {
     "name": "stderr",
     "output_type": "stream",
     "text": [
      "/home/userfs/s/sb2444/.local/lib/python3.6/site-packages/ipykernel_launcher.py:57: UserWarning: Implicit dimension choice for softmax has been deprecated. Change the call to include dim=X as an argument.\n"
     ]
    },
    {
     "data": {
      "text/plain": [
       "[{'val_loss': 2.3026809692382812, 'val_acc': 0.10000000149011612}]"
      ]
     },
     "execution_count": 20,
     "metadata": {},
     "output_type": "execute_result"
    }
   ],
   "source": [
    "history = [evaluate(model, valid_dl)]\n",
    "history"
   ]
  },
  {
   "cell_type": "code",
   "execution_count": 21,
   "metadata": {
    "ExecuteTime": {
     "end_time": "2022-05-10T14:23:13.849593Z",
     "start_time": "2022-05-10T14:23:13.844229Z"
    },
    "id": "fFL3dFDnt6pb"
   },
   "outputs": [],
   "source": [
    "epochs = 140\n",
    "max_lr = 0.001\n",
    "grad_clip = 0.1\n",
    "weight_decay = 1e-4\n",
    "opt_func = torch.optim.Adam"
   ]
  },
  {
   "cell_type": "code",
   "execution_count": 22,
   "metadata": {
    "ExecuteTime": {
     "end_time": "2022-05-10T14:52:58.981985Z",
     "start_time": "2022-05-10T14:23:13.853099Z"
    },
    "colab": {
     "base_uri": "https://localhost:8080/"
    },
    "id": "01CAjQi2t8Ub",
    "outputId": "776b2d7d-902f-4f3c-ece0-24ccd16c4d53"
   },
   "outputs": [
    {
     "name": "stderr",
     "output_type": "stream",
     "text": [
      "/home/userfs/s/sb2444/.local/lib/python3.6/site-packages/ipykernel_launcher.py:57: UserWarning: Implicit dimension choice for softmax has been deprecated. Change the call to include dim=X as an argument.\n"
     ]
    },
    {
     "name": "stdout",
     "output_type": "stream",
     "text": [
      "Epoch [0], train_loss: 2.2416, val_loss: 2.2123, val_acc: 0.2543\n",
      "Epoch [1], train_loss: 2.1485, val_loss: 2.1682, val_acc: 0.3016\n",
      "Epoch [2], train_loss: 2.1010, val_loss: 2.1561, val_acc: 0.3020\n",
      "Epoch [3], train_loss: 2.0712, val_loss: 2.1258, val_acc: 0.3340\n",
      "Epoch [4], train_loss: 2.0366, val_loss: 2.0985, val_acc: 0.3612\n",
      "Epoch [5], train_loss: 2.0140, val_loss: 2.1093, val_acc: 0.3474\n",
      "Epoch [6], train_loss: 1.9938, val_loss: 2.1117, val_acc: 0.3465\n",
      "Epoch [7], train_loss: 1.9745, val_loss: 2.1089, val_acc: 0.3477\n",
      "Epoch [8], train_loss: 1.9570, val_loss: 2.1004, val_acc: 0.3528\n",
      "Epoch [9], train_loss: 1.9431, val_loss: 2.0728, val_acc: 0.3862\n",
      "Epoch [10], train_loss: 1.9277, val_loss: 2.0788, val_acc: 0.3779\n",
      "Epoch [11], train_loss: 1.9083, val_loss: 2.0754, val_acc: 0.3800\n",
      "Epoch [12], train_loss: 1.8963, val_loss: 2.0593, val_acc: 0.3996\n",
      "Epoch [13], train_loss: 1.8864, val_loss: 2.0062, val_acc: 0.4515\n",
      "Epoch [14], train_loss: 1.8692, val_loss: 1.9760, val_acc: 0.4866\n",
      "Epoch [15], train_loss: 1.8468, val_loss: 1.9727, val_acc: 0.4891\n",
      "Epoch [16], train_loss: 1.8332, val_loss: 1.9112, val_acc: 0.5564\n",
      "Epoch [17], train_loss: 1.8192, val_loss: 1.9587, val_acc: 0.5061\n",
      "Epoch [18], train_loss: 1.8072, val_loss: 1.8973, val_acc: 0.5661\n",
      "Epoch [19], train_loss: 1.7966, val_loss: 1.8749, val_acc: 0.5858\n",
      "Epoch [20], train_loss: 1.7914, val_loss: 1.8941, val_acc: 0.5677\n",
      "Epoch [21], train_loss: 1.7768, val_loss: 1.9476, val_acc: 0.5120\n",
      "Epoch [22], train_loss: 1.7700, val_loss: 1.9164, val_acc: 0.5440\n",
      "Epoch [23], train_loss: 1.7619, val_loss: 1.9023, val_acc: 0.5591\n",
      "Epoch [24], train_loss: 1.7512, val_loss: 1.8737, val_acc: 0.5913\n",
      "Epoch [25], train_loss: 1.7454, val_loss: 1.7921, val_acc: 0.6729\n",
      "Epoch [26], train_loss: 1.7341, val_loss: 1.8611, val_acc: 0.5997\n",
      "Epoch [27], train_loss: 1.7251, val_loss: 1.8973, val_acc: 0.5655\n",
      "Epoch [28], train_loss: 1.7196, val_loss: 1.8117, val_acc: 0.6528\n",
      "Epoch [29], train_loss: 1.7118, val_loss: 1.8083, val_acc: 0.6534\n",
      "Epoch [30], train_loss: 1.7047, val_loss: 1.8427, val_acc: 0.6182\n",
      "Epoch [31], train_loss: 1.7002, val_loss: 1.8960, val_acc: 0.5644\n",
      "Epoch [32], train_loss: 1.6937, val_loss: 1.7824, val_acc: 0.6831\n",
      "Epoch [33], train_loss: 1.6913, val_loss: 1.8468, val_acc: 0.6137\n",
      "Epoch [34], train_loss: 1.6860, val_loss: 1.7866, val_acc: 0.6759\n",
      "Epoch [35], train_loss: 1.6796, val_loss: 1.7448, val_acc: 0.7181\n",
      "Epoch [36], train_loss: 1.6777, val_loss: 1.7463, val_acc: 0.7172\n",
      "Epoch [37], train_loss: 1.6734, val_loss: 1.8110, val_acc: 0.6501\n",
      "Epoch [38], train_loss: 1.6678, val_loss: 1.8935, val_acc: 0.5630\n",
      "Epoch [39], train_loss: 1.6668, val_loss: 1.7500, val_acc: 0.7122\n",
      "Epoch [40], train_loss: 1.6607, val_loss: 1.7230, val_acc: 0.7400\n",
      "Epoch [41], train_loss: 1.6589, val_loss: 1.8162, val_acc: 0.6432\n",
      "Epoch [42], train_loss: 1.6541, val_loss: 1.7466, val_acc: 0.7180\n",
      "Epoch [43], train_loss: 1.6513, val_loss: 1.8175, val_acc: 0.6420\n",
      "Epoch [44], train_loss: 1.6507, val_loss: 1.7585, val_acc: 0.7024\n",
      "Epoch [45], train_loss: 1.6451, val_loss: 1.7328, val_acc: 0.7320\n",
      "Epoch [46], train_loss: 1.6438, val_loss: 1.7190, val_acc: 0.7427\n",
      "Epoch [47], train_loss: 1.6421, val_loss: 1.6944, val_acc: 0.7706\n",
      "Epoch [48], train_loss: 1.6361, val_loss: 1.6905, val_acc: 0.7722\n",
      "Epoch [49], train_loss: 1.6350, val_loss: 1.6961, val_acc: 0.7662\n",
      "Epoch [50], train_loss: 1.6342, val_loss: 1.7015, val_acc: 0.7613\n",
      "Epoch [51], train_loss: 1.6285, val_loss: 1.6974, val_acc: 0.7645\n",
      "Epoch [52], train_loss: 1.6266, val_loss: 1.6589, val_acc: 0.8043\n",
      "Epoch [53], train_loss: 1.6248, val_loss: 1.7134, val_acc: 0.7483\n",
      "Epoch [54], train_loss: 1.6242, val_loss: 1.7335, val_acc: 0.7299\n",
      "Epoch [55], train_loss: 1.6210, val_loss: 1.7197, val_acc: 0.7412\n",
      "Epoch [56], train_loss: 1.6214, val_loss: 1.6656, val_acc: 0.7979\n",
      "Epoch [57], train_loss: 1.6184, val_loss: 1.7061, val_acc: 0.7576\n",
      "Epoch [58], train_loss: 1.6144, val_loss: 1.7148, val_acc: 0.7482\n",
      "Epoch [59], train_loss: 1.6185, val_loss: 1.6792, val_acc: 0.7845\n",
      "Epoch [60], train_loss: 1.6126, val_loss: 1.6732, val_acc: 0.7908\n",
      "Epoch [61], train_loss: 1.6120, val_loss: 1.6828, val_acc: 0.7800\n",
      "Epoch [62], train_loss: 1.6102, val_loss: 1.6674, val_acc: 0.7976\n",
      "Epoch [63], train_loss: 1.6073, val_loss: 1.6629, val_acc: 0.8008\n",
      "Epoch [64], train_loss: 1.6055, val_loss: 1.6569, val_acc: 0.8073\n",
      "Epoch [65], train_loss: 1.6059, val_loss: 1.6428, val_acc: 0.8212\n",
      "Epoch [66], train_loss: 1.6033, val_loss: 1.6614, val_acc: 0.8017\n",
      "Epoch [67], train_loss: 1.6036, val_loss: 1.6685, val_acc: 0.7926\n",
      "Epoch [68], train_loss: 1.5972, val_loss: 1.6712, val_acc: 0.7936\n",
      "Epoch [69], train_loss: 1.5966, val_loss: 1.6587, val_acc: 0.8047\n",
      "Epoch [70], train_loss: 1.5963, val_loss: 1.6549, val_acc: 0.8077\n",
      "Epoch [71], train_loss: 1.5928, val_loss: 1.6619, val_acc: 0.8021\n",
      "Epoch [72], train_loss: 1.5901, val_loss: 1.6396, val_acc: 0.8236\n",
      "Epoch [73], train_loss: 1.5882, val_loss: 1.6447, val_acc: 0.8201\n",
      "Epoch [74], train_loss: 1.5904, val_loss: 1.6502, val_acc: 0.8126\n",
      "Epoch [75], train_loss: 1.5844, val_loss: 1.6809, val_acc: 0.7830\n",
      "Epoch [76], train_loss: 1.5867, val_loss: 1.6497, val_acc: 0.8118\n",
      "Epoch [77], train_loss: 1.5826, val_loss: 1.6355, val_acc: 0.8303\n",
      "Epoch [78], train_loss: 1.5809, val_loss: 1.6501, val_acc: 0.8147\n",
      "Epoch [79], train_loss: 1.5813, val_loss: 1.6424, val_acc: 0.8196\n",
      "Epoch [80], train_loss: 1.5795, val_loss: 1.6355, val_acc: 0.8276\n",
      "Epoch [81], train_loss: 1.5773, val_loss: 1.6211, val_acc: 0.8427\n",
      "Epoch [82], train_loss: 1.5777, val_loss: 1.6339, val_acc: 0.8282\n",
      "Epoch [83], train_loss: 1.5733, val_loss: 1.6229, val_acc: 0.8408\n",
      "Epoch [84], train_loss: 1.5717, val_loss: 1.6259, val_acc: 0.8356\n",
      "Epoch [85], train_loss: 1.5712, val_loss: 1.6207, val_acc: 0.8438\n",
      "Epoch [86], train_loss: 1.5696, val_loss: 1.6234, val_acc: 0.8404\n",
      "Epoch [87], train_loss: 1.5670, val_loss: 1.6368, val_acc: 0.8256\n",
      "Epoch [88], train_loss: 1.5654, val_loss: 1.6193, val_acc: 0.8448\n",
      "Epoch [89], train_loss: 1.5650, val_loss: 1.6225, val_acc: 0.8407\n",
      "Epoch [90], train_loss: 1.5646, val_loss: 1.6373, val_acc: 0.8259\n",
      "Epoch [91], train_loss: 1.5604, val_loss: 1.6234, val_acc: 0.8411\n",
      "Epoch [92], train_loss: 1.5589, val_loss: 1.6092, val_acc: 0.8572\n",
      "Epoch [93], train_loss: 1.5569, val_loss: 1.6149, val_acc: 0.8499\n",
      "Epoch [94], train_loss: 1.5558, val_loss: 1.6140, val_acc: 0.8489\n",
      "Epoch [95], train_loss: 1.5550, val_loss: 1.6069, val_acc: 0.8564\n",
      "Epoch [96], train_loss: 1.5535, val_loss: 1.6206, val_acc: 0.8446\n",
      "Epoch [97], train_loss: 1.5526, val_loss: 1.6097, val_acc: 0.8542\n",
      "Epoch [98], train_loss: 1.5512, val_loss: 1.6225, val_acc: 0.8406\n",
      "Epoch [99], train_loss: 1.5497, val_loss: 1.6041, val_acc: 0.8591\n",
      "Epoch [100], train_loss: 1.5485, val_loss: 1.6040, val_acc: 0.8610\n",
      "Epoch [101], train_loss: 1.5455, val_loss: 1.6174, val_acc: 0.8464\n",
      "Epoch [102], train_loss: 1.5441, val_loss: 1.6057, val_acc: 0.8588\n",
      "Epoch [103], train_loss: 1.5428, val_loss: 1.6063, val_acc: 0.8573\n",
      "Epoch [104], train_loss: 1.5414, val_loss: 1.6060, val_acc: 0.8567\n",
      "Epoch [105], train_loss: 1.5402, val_loss: 1.6003, val_acc: 0.8618\n",
      "Epoch [106], train_loss: 1.5378, val_loss: 1.6094, val_acc: 0.8541\n",
      "Epoch [107], train_loss: 1.5376, val_loss: 1.6087, val_acc: 0.8563\n",
      "Epoch [108], train_loss: 1.5365, val_loss: 1.6029, val_acc: 0.8600\n",
      "Epoch [109], train_loss: 1.5338, val_loss: 1.5975, val_acc: 0.8652\n",
      "Epoch [110], train_loss: 1.5342, val_loss: 1.6039, val_acc: 0.8589\n",
      "Epoch [111], train_loss: 1.5338, val_loss: 1.5999, val_acc: 0.8642\n",
      "Epoch [112], train_loss: 1.5315, val_loss: 1.6030, val_acc: 0.8617\n",
      "Epoch [113], train_loss: 1.5293, val_loss: 1.6091, val_acc: 0.8540\n",
      "Epoch [114], train_loss: 1.5301, val_loss: 1.6009, val_acc: 0.8632\n",
      "Epoch [115], train_loss: 1.5295, val_loss: 1.6001, val_acc: 0.8631\n",
      "Epoch [116], train_loss: 1.5278, val_loss: 1.6053, val_acc: 0.8578\n",
      "Epoch [117], train_loss: 1.5258, val_loss: 1.6031, val_acc: 0.8612\n",
      "Epoch [118], train_loss: 1.5251, val_loss: 1.6007, val_acc: 0.8621\n",
      "Epoch [119], train_loss: 1.5253, val_loss: 1.5974, val_acc: 0.8655\n",
      "Epoch [120], train_loss: 1.5232, val_loss: 1.5976, val_acc: 0.8652\n",
      "Epoch [121], train_loss: 1.5238, val_loss: 1.6026, val_acc: 0.8611\n",
      "Epoch [122], train_loss: 1.5228, val_loss: 1.5976, val_acc: 0.8671\n",
      "Epoch [123], train_loss: 1.5222, val_loss: 1.5995, val_acc: 0.8643\n"
     ]
    },
    {
     "name": "stdout",
     "output_type": "stream",
     "text": [
      "Epoch [124], train_loss: 1.5221, val_loss: 1.5998, val_acc: 0.8645\n",
      "Epoch [125], train_loss: 1.5211, val_loss: 1.5975, val_acc: 0.8656\n",
      "Epoch [126], train_loss: 1.5204, val_loss: 1.5982, val_acc: 0.8651\n",
      "Epoch [127], train_loss: 1.5208, val_loss: 1.5961, val_acc: 0.8680\n",
      "Epoch [128], train_loss: 1.5191, val_loss: 1.5971, val_acc: 0.8680\n",
      "Epoch [129], train_loss: 1.5187, val_loss: 1.5977, val_acc: 0.8670\n",
      "Epoch [130], train_loss: 1.5182, val_loss: 1.5976, val_acc: 0.8663\n",
      "Epoch [131], train_loss: 1.5188, val_loss: 1.5960, val_acc: 0.8679\n",
      "Epoch [132], train_loss: 1.5181, val_loss: 1.5971, val_acc: 0.8661\n",
      "Epoch [133], train_loss: 1.5181, val_loss: 1.5960, val_acc: 0.8682\n",
      "Epoch [134], train_loss: 1.5186, val_loss: 1.5962, val_acc: 0.8675\n",
      "Epoch [135], train_loss: 1.5170, val_loss: 1.5977, val_acc: 0.8659\n",
      "Epoch [136], train_loss: 1.5178, val_loss: 1.5955, val_acc: 0.8678\n",
      "Epoch [137], train_loss: 1.5175, val_loss: 1.5979, val_acc: 0.8655\n",
      "Epoch [138], train_loss: 1.5175, val_loss: 1.5952, val_acc: 0.8674\n",
      "Epoch [139], train_loss: 1.5189, val_loss: 1.5978, val_acc: 0.8663\n",
      "CPU times: user 13min 23s, sys: 1min 24s, total: 14min 48s\n",
      "Wall time: 29min 45s\n"
     ]
    }
   ],
   "source": [
    "%%time\n",
    "history += fit_one_cycle(epochs, max_lr, model, train_dl, valid_dl, \n",
    "                             grad_clip=grad_clip, \n",
    "                             weight_decay=weight_decay, \n",
    "                             opt_func=opt_func)"
   ]
  },
  {
   "cell_type": "code",
   "execution_count": 23,
   "metadata": {
    "ExecuteTime": {
     "end_time": "2022-05-10T14:52:58.993909Z",
     "start_time": "2022-05-10T14:52:58.987654Z"
    },
    "id": "jvJzQAeNjB6Y"
   },
   "outputs": [],
   "source": [
    "def plot_accuracies(history):\n",
    "    accuracies = [x['val_acc'] for x in history]\n",
    "    plt.figure(figsize=(10,6))\n",
    "    plt.plot(accuracies, '-x')\n",
    "    plt.xlabel('epoch')\n",
    "    plt.ylabel('accuracy')\n",
    "    plt.title('Accuracy vs. No. of epochs');"
   ]
  },
  {
   "cell_type": "code",
   "execution_count": 24,
   "metadata": {
    "ExecuteTime": {
     "end_time": "2022-05-10T14:52:59.174045Z",
     "start_time": "2022-05-10T14:52:58.996511Z"
    },
    "colab": {
     "base_uri": "https://localhost:8080/",
     "height": 171
    },
    "id": "fYuANPlfjIvt",
    "outputId": "08453f89-0933-4bd9-e02a-d760aad8714f"
   },
   "outputs": [
    {
     "data": {
      "image/png": "[encoded data removed]",
      "text/plain": [
       "<Figure size 720x432 with 1 Axes>"
      ]
     },
     "metadata": {
      "needs_background": "light"
     },
     "output_type": "display_data"
    }
   ],
   "source": [
    "plot_accuracies(history)"
   ]
  },
  {
   "cell_type": "code",
   "execution_count": 25,
   "metadata": {
    "ExecuteTime": {
     "end_time": "2022-05-10T14:52:59.180243Z",
     "start_time": "2022-05-10T14:52:59.175818Z"
    },
    "id": "JV6cn39HjTF-"
   },
   "outputs": [],
   "source": [
    "def plot_losses(history):\n",
    "    train_losses = [x.get('train_loss') for x in history]\n",
    "    val_losses = [x['val_loss'] for x in history]\n",
    "    plt.figure(figsize=(10,6))\n",
    "    plt.plot(train_losses, '-bx')\n",
    "    plt.plot(val_losses, '-rx')\n",
    "    plt.xlabel('epoch')\n",
    "    plt.ylabel('loss')\n",
    "    plt.legend(['Training', 'Validation'])\n",
    "    plt.title('Loss vs. No. of epochs');"
   ]
  },
  {
   "cell_type": "code",
   "execution_count": 26,
   "metadata": {
    "ExecuteTime": {
     "end_time": "2022-05-10T14:52:59.466437Z",
     "start_time": "2022-05-10T14:52:59.181872Z"
    },
    "colab": {
     "base_uri": "https://localhost:8080/",
     "height": 171
    },
    "id": "kuky-BEDjUw_",
    "outputId": "e33b1eb9-e7c7-483d-829a-75bce6a074ae"
   },
   "outputs": [
    {
     "data": {
      "image/png": "[encoded data removed]",
      "text/plain": [
       "<Figure size 720x432 with 1 Axes>"
      ]
     },
     "metadata": {
      "needs_background": "light"
     },
     "output_type": "display_data"
    }
   ],
   "source": [
    "plot_losses(history)"
   ]
  },
  {
   "cell_type": "code",
   "execution_count": 27,
   "metadata": {
    "ExecuteTime": {
     "end_time": "2022-05-10T14:52:59.472617Z",
     "start_time": "2022-05-10T14:52:59.468498Z"
    },
    "id": "ToUcs2S6jZl_"
   },
   "outputs": [],
   "source": [
    "def plot_lrs(history):\n",
    "    lrs = np.concatenate([x.get('lrs', []) for x in history])\n",
    "    plt.figure(figsize=(10,6))\n",
    "    plt.plot(lrs)\n",
    "    plt.xlabel('Batch no.')\n",
    "    plt.ylabel('Learning rate')\n",
    "    plt.title('Learning Rate vs. Batch no.');"
   ]
  },
  {
   "cell_type": "code",
   "execution_count": 28,
   "metadata": {
    "ExecuteTime": {
     "end_time": "2022-05-10T14:52:59.643882Z",
     "start_time": "2022-05-10T14:52:59.474408Z"
    },
    "colab": {
     "base_uri": "https://localhost:8080/",
     "height": 171
    },
    "id": "V1ao5oIJjboF",
    "outputId": "23d3a338-12ab-42be-b2de-8a2b3d55ccae"
   },
   "outputs": [
    {
     "data": {
      "image/png": "[encoded data removed]",
      "text/plain": [
       "<Figure size 720x432 with 1 Axes>"
      ]
     },
     "metadata": {
      "needs_background": "light"
     },
     "output_type": "display_data"
    }
   ],
   "source": [
    "plot_lrs(history)"
   ]
  }
 ],
 "metadata": {
  "accelerator": "GPU",
  "colab": {
   "collapsed_sections": [],
   "include_colab_link": true,
   "name": "kaggle94gpu.ipynb",
   "provenance": []
  },
  "kernelspec": {
   "display_name": "Python 3",
   "language": "python",
   "name": "python3"
  },
  "language_info": {
   "codemirror_mode": {
    "name": "ipython",
    "version": 3
   },
   "file_extension": ".py",
   "mimetype": "text/x-python",
   "name": "python",
   "nbconvert_exporter": "python",
   "pygments_lexer": "ipython3",
   "version": "3.6.9"
  },
  "widgets": {
   "application/vnd.jupyter.widget-state+json": {
    "0433c9c034b7466a98118f517c9ae2e8": {
     "model_module": "@jupyter-widgets/base",
     "model_module_version": "1.2.0",
     "model_name": "LayoutModel",
     "state": {
      "_model_module": "@jupyter-widgets/base",
      "_model_module_version": "1.2.0",
      "_model_name": "LayoutModel",
      "_view_count": null,
      "_view_module": "@jupyter-widgets/base",
      "_view_module_version": "1.2.0",
      "_view_name": "LayoutView",
      "align_content": null,
      "align_items": null,
      "align_self": null,
      "border": null,
      "bottom": null,
      "display": null,
      "flex": null,
      "flex_flow": null,
      "grid_area": null,
      "grid_auto_columns": null,
      "grid_auto_flow": null,
      "grid_auto_rows": null,
      "grid_column": null,
      "grid_gap": null,
      "grid_row": null,
      "grid_template_areas": null,
      "grid_template_columns": null,
      "grid_template_rows": null,
      "height": null,
      "justify_content": null,
      "justify_items": null,
      "left": null,
      "margin": null,
      "max_height": null,
      "max_width": null,
      "min_height": null,
      "min_width": null,
      "object_fit": null,
      "object_position": null,
      "order": null,
      "overflow": null,
      "overflow_x": null,
      "overflow_y": null,
      "padding": null,
      "right": null,
      "top": null,
      "visibility": null,
      "width": null
     }
    },
    "29225a4d667e47f980b33c95c0850d16": {
     "model_module": "@jupyter-widgets/controls",
     "model_module_version": "1.5.0",
     "model_name": "DescriptionStyleModel",
     "state": {
      "_model_module": "@jupyter-widgets/controls",
      "_model_module_version": "1.5.0",
      "_model_name": "DescriptionStyleModel",
      "_view_count": null,
      "_view_module": "@jupyter-widgets/base",
      "_view_module_version": "1.2.0",
      "_view_name": "StyleView",
      "description_width": ""
     }
    },
    "350d156265104e2296caf536b05d26cc": {
     "model_module": "@jupyter-widgets/controls",
     "model_module_version": "1.5.0",
     "model_name": "FloatProgressModel",
     "state": {
      "_dom_classes": [],
      "_model_module": "@jupyter-widgets/controls",
      "_model_module_version": "1.5.0",
      "_model_name": "FloatProgressModel",
      "_view_count": null,
      "_view_module": "@jupyter-widgets/controls",
      "_view_module_version": "1.5.0",
      "_view_name": "ProgressView",
      "bar_style": "success",
      "description": "",
      "description_tooltip": null,
      "layout": "IPY_MODEL_9ae1047b1b184d81bde7c14ca6ad72d5",
      "max": 170498071,
      "min": 0,
      "orientation": "horizontal",
      "style": "IPY_MODEL_37da94684df543f3a81fe78c389f68dc",
      "value": 170498071
     }
    },
    "37da94684df543f3a81fe78c389f68dc": {
     "model_module": "@jupyter-widgets/controls",
     "model_module_version": "1.5.0",
     "model_name": "ProgressStyleModel",
     "state": {
      "_model_module": "@jupyter-widgets/controls",
      "_model_module_version": "1.5.0",
      "_model_name": "ProgressStyleModel",
      "_view_count": null,
      "_view_module": "@jupyter-widgets/base",
      "_view_module_version": "1.2.0",
      "_view_name": "StyleView",
      "bar_color": null,
      "description_width": ""
     }
    },
    "40b5952c97aa40169739936f0d549d02": {
     "model_module": "@jupyter-widgets/controls",
     "model_module_version": "1.5.0",
     "model_name": "HTMLModel",
     "state": {
      "_dom_classes": [],
      "_model_module": "@jupyter-widgets/controls",
      "_model_module_version": "1.5.0",
      "_model_name": "HTMLModel",
      "_view_count": null,
      "_view_module": "@jupyter-widgets/controls",
      "_view_module_version": "1.5.0",
      "_view_name": "HTMLView",
      "description": "",
      "description_tooltip": null,
      "layout": "IPY_MODEL_0433c9c034b7466a98118f517c9ae2e8",
      "placeholder": "​",
      "style": "IPY_MODEL_fb9ab6c5d81f48089ac0d9dc03c72e6b",
      "value": " 170499072/? [00:02&lt;00:00, 62626240.17it/s]"
     }
    },
    "4c7fbb2405c84d7887d63fd6217cba4a": {
     "model_module": "@jupyter-widgets/controls",
     "model_module_version": "1.5.0",
     "model_name": "HTMLModel",
     "state": {
      "_dom_classes": [],
      "_model_module": "@jupyter-widgets/controls",
      "_model_module_version": "1.5.0",
      "_model_name": "HTMLModel",
      "_view_count": null,
      "_view_module": "@jupyter-widgets/controls",
      "_view_module_version": "1.5.0",
      "_view_name": "HTMLView",
      "description": "",
      "description_tooltip": null,
      "layout": "IPY_MODEL_a448b41c426a4810a07d5eb92df1bc21",
      "placeholder": "​",
      "style": "IPY_MODEL_29225a4d667e47f980b33c95c0850d16",
      "value": ""
     }
    },
    "50c9aed288f14fcd94009217a59c91ff": {
     "model_module": "@jupyter-widgets/base",
     "model_module_version": "1.2.0",
     "model_name": "LayoutModel",
     "state": {
      "_model_module": "@jupyter-widgets/base",
      "_model_module_version": "1.2.0",
      "_model_name": "LayoutModel",
      "_view_count": null,
      "_view_module": "@jupyter-widgets/base",
      "_view_module_version": "1.2.0",
      "_view_name": "LayoutView",
      "align_content": null,
      "align_items": null,
      "align_self": null,
      "border": null,
      "bottom": null,
      "display": null,
      "flex": null,
      "flex_flow": null,
      "grid_area": null,
      "grid_auto_columns": null,
      "grid_auto_flow": null,
      "grid_auto_rows": null,
      "grid_column": null,
      "grid_gap": null,
      "grid_row": null,
      "grid_template_areas": null,
      "grid_template_columns": null,
      "grid_template_rows": null,
      "height": null,
      "justify_content": null,
      "justify_items": null,
      "left": null,
      "margin": null,
      "max_height": null,
      "max_width": null,
      "min_height": null,
      "min_width": null,
      "object_fit": null,
      "object_position": null,
      "order": null,
      "overflow": null,
      "overflow_x": null,
      "overflow_y": null,
      "padding": null,
      "right": null,
      "top": null,
      "visibility": null,
      "width": null
     }
    },
    "9ae1047b1b184d81bde7c14ca6ad72d5": {
     "model_module": "@jupyter-widgets/base",
     "model_module_version": "1.2.0",
     "model_name": "LayoutModel",
     "state": {
      "_model_module": "@jupyter-widgets/base",
      "_model_module_version": "1.2.0",
      "_model_name": "LayoutModel",
      "_view_count": null,
      "_view_module": "@jupyter-widgets/base",
      "_view_module_version": "1.2.0",
      "_view_name": "LayoutView",
      "align_content": null,
      "align_items": null,
      "align_self": null,
      "border": null,
      "bottom": null,
      "display": null,
      "flex": null,
      "flex_flow": null,
      "grid_area": null,
      "grid_auto_columns": null,
      "grid_auto_flow": null,
      "grid_auto_rows": null,
      "grid_column": null,
      "grid_gap": null,
      "grid_row": null,
      "grid_template_areas": null,
      "grid_template_columns": null,
      "grid_template_rows": null,
      "height": null,
      "justify_content": null,
      "justify_items": null,
      "left": null,
      "margin": null,
      "max_height": null,
      "max_width": null,
      "min_height": null,
      "min_width": null,
      "object_fit": null,
      "object_position": null,
      "order": null,
      "overflow": null,
      "overflow_x": null,
      "overflow_y": null,
      "padding": null,
      "right": null,
      "top": null,
      "visibility": null,
      "width": null
     }
    },
    "a448b41c426a4810a07d5eb92df1bc21": {
     "model_module": "@jupyter-widgets/base",
     "model_module_version": "1.2.0",
     "model_name": "LayoutModel",
     "state": {
      "_model_module": "@jupyter-widgets/base",
      "_model_module_version": "1.2.0",
      "_model_name": "LayoutModel",
      "_view_count": null,
      "_view_module": "@jupyter-widgets/base",
      "_view_module_version": "1.2.0",
      "_view_name": "LayoutView",
      "align_content": null,
      "align_items": null,
      "align_self": null,
      "border": null,
      "bottom": null,
      "display": null,
      "flex": null,
      "flex_flow": null,
      "grid_area": null,
      "grid_auto_columns": null,
      "grid_auto_flow": null,
      "grid_auto_rows": null,
      "grid_column": null,
      "grid_gap": null,
      "grid_row": null,
      "grid_template_areas": null,
      "grid_template_columns": null,
      "grid_template_rows": null,
      "height": null,
      "justify_content": null,
      "justify_items": null,
      "left": null,
      "margin": null,
      "max_height": null,
      "max_width": null,
      "min_height": null,
      "min_width": null,
      "object_fit": null,
      "object_position": null,
      "order": null,
      "overflow": null,
      "overflow_x": null,
      "overflow_y": null,
      "padding": null,
      "right": null,
      "top": null,
      "visibility": null,
      "width": null
     }
    },
    "c974d31e436a42899adbf2ef969307a4": {
     "model_module": "@jupyter-widgets/controls",
     "model_module_version": "1.5.0",
     "model_name": "HBoxModel",
     "state": {
      "_dom_classes": [],
      "_model_module": "@jupyter-widgets/controls",
      "_model_module_version": "1.5.0",
      "_model_name": "HBoxModel",
      "_view_count": null,
      "_view_module": "@jupyter-widgets/controls",
      "_view_module_version": "1.5.0",
      "_view_name": "HBoxView",
      "box_style": "",
      "children": [
       "IPY_MODEL_4c7fbb2405c84d7887d63fd6217cba4a",
       "IPY_MODEL_350d156265104e2296caf536b05d26cc",
       "IPY_MODEL_40b5952c97aa40169739936f0d549d02"
      ],
      "layout": "IPY_MODEL_50c9aed288f14fcd94009217a59c91ff"
     }
    },
    "fb9ab6c5d81f48089ac0d9dc03c72e6b": {
     "model_module": "@jupyter-widgets/controls",
     "model_module_version": "1.5.0",
     "model_name": "DescriptionStyleModel",
     "state": {
      "_model_module": "@jupyter-widgets/controls",
      "_model_module_version": "1.5.0",
      "_model_name": "DescriptionStyleModel",
      "_view_count": null,
      "_view_module": "@jupyter-widgets/base",
      "_view_module_version": "1.2.0",
      "_view_name": "StyleView",
      "description_width": ""
     }
    }
   }
  }
 },
 "nbformat": 4,
 "nbformat_minor": 4
}
