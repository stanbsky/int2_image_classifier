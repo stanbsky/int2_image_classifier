{
 "cells": [
  {
   "cell_type": "markdown",
   "metadata": {
    "colab_type": "text",
    "id": "view-in-github"
   },
   "source": [
    "<a href=\"https://colab.research.google.com/github/stanbsky/int2_image_classifier/blob/main/kaggle94gpu.ipynb\" target=\"_parent\"><img src=\"https://colab.research.google.com/assets/colab-badge.svg\" alt=\"Open In Colab\"/></a>"
   ]
  },
  {
   "cell_type": "code",
   "execution_count": 1,
   "metadata": {
    "id": "OD2wVFLtkbkN"
   },
   "outputs": [
    {
     "name": "stderr",
     "output_type": "stream",
     "text": [
      "Matplotlib created a temporary config/cache directory at /tmp/matplotlib-oc0woom6 because the default path (/run/user/141228/cache/matplotlib) is not a writable directory; it is highly recommended to set the MPLCONFIGDIR environment variable to a writable directory, in particular to speed up the import of Matplotlib and to better support multiprocessing.\n"
     ]
    }
   ],
   "source": [
    "# importing libraries\n",
    "import os\n",
    "import torch\n",
    "import torchvision\n",
    "import tarfile\n",
    "from torchvision.datasets.utils import download_url\n",
    "from torch.utils.data import random_split\n",
    "from torchvision.datasets import ImageFolder\n",
    "from torchvision.transforms import ToTensor,ToPILImage\n",
    "import matplotlib.pyplot as plt\n",
    "from torchvision.utils import make_grid\n",
    "from torch.utils.data.dataloader import DataLoader\n",
    "from torchvision.utils import make_grid\n",
    "import torch.nn as nn\n",
    "import torch.nn.functional as F\n",
    "import torchvision.transforms as tt\n",
    "import numpy as np"
   ]
  },
  {
   "cell_type": "code",
   "execution_count": null,
   "metadata": {
    "id": "TrM-k5_GVubi"
   },
   "outputs": [],
   "source": []
  },
  {
   "cell_type": "code",
   "execution_count": 2,
   "metadata": {
    "id": "Cea6yx4amG2c"
   },
   "outputs": [],
   "source": [
    "import torchvision.datasets as datasets"
   ]
  },
  {
   "cell_type": "code",
   "execution_count": 3,
   "metadata": {
    "colab": {
     "base_uri": "https://localhost:8080/"
    },
    "id": "efdLf1xLk5_y",
    "outputId": "dd7073c3-3026-4d75-eee6-e0425ce35d3e"
   },
   "outputs": [
    {
     "data": {
      "text/plain": [
       "<weakproxy at 0x7f489cf59b88 to Device at 0x7f489cf58a58>"
      ]
     },
     "execution_count": 3,
     "metadata": {},
     "output_type": "execute_result"
    }
   ],
   "source": [
    "from numba import cuda\n",
    "cuda.select_device(6)"
   ]
  },
  {
   "cell_type": "code",
   "execution_count": 4,
   "metadata": {
    "id": "hNiNZttPlHFe"
   },
   "outputs": [],
   "source": [
    "stats= ((0.4914,0.4822,0.4465),(0.2023,0.1994,0.2010)) #mean and std\n",
    "train_tfm= tt.Compose([tt.RandomCrop(32, padding=4, padding_mode='reflect'), # transormation of data together\n",
    "                       tt.RandomHorizontalFlip(),\n",
    "                       tt.ToTensor(),tt.Normalize(*stats,inplace=True)])\n",
    "valid_tfm = tt.Compose([tt.ToTensor(),tt.Normalize(*stats)])"
   ]
  },
  {
   "cell_type": "code",
   "execution_count": 5,
   "metadata": {
    "colab": {
     "base_uri": "https://localhost:8080/",
     "height": 86,
     "referenced_widgets": [
      "c974d31e436a42899adbf2ef969307a4",
      "4c7fbb2405c84d7887d63fd6217cba4a",
      "350d156265104e2296caf536b05d26cc",
      "40b5952c97aa40169739936f0d549d02",
      "50c9aed288f14fcd94009217a59c91ff",
      "a448b41c426a4810a07d5eb92df1bc21",
      "29225a4d667e47f980b33c95c0850d16",
      "9ae1047b1b184d81bde7c14ca6ad72d5",
      "37da94684df543f3a81fe78c389f68dc",
      "0433c9c034b7466a98118f517c9ae2e8",
      "fb9ab6c5d81f48089ac0d9dc03c72e6b"
     ]
    },
    "id": "pxotEy_Al0J4",
    "outputId": "90e7b090-0622-4775-fcfa-39958472aa7c"
   },
   "outputs": [
    {
     "name": "stdout",
     "output_type": "stream",
     "text": [
      "Files already downloaded and verified\n"
     ]
    }
   ],
   "source": [
    "training_data = datasets.CIFAR10(\n",
    "    root=\"data\",\n",
    "    train=True,\n",
    "    download=True,\n",
    "    transform=train_tfm,\n",
    ")"
   ]
  },
  {
   "cell_type": "code",
   "execution_count": 6,
   "metadata": {
    "colab": {
     "base_uri": "https://localhost:8080/"
    },
    "id": "3HUIV5yKmj4F",
    "outputId": "96675fe3-76e5-4e9f-9bc2-14b1d389996f"
   },
   "outputs": [
    {
     "name": "stdout",
     "output_type": "stream",
     "text": [
      "Files already downloaded and verified\n"
     ]
    }
   ],
   "source": [
    "\n",
    "# Download test data from open datasets.\n",
    "test_data = datasets.CIFAR10(\n",
    "    root=\"data\",\n",
    "    train=False,\n",
    "    download=True,\n",
    "    transform=valid_tfm,\n",
    ")"
   ]
  },
  {
   "cell_type": "code",
   "execution_count": 7,
   "metadata": {
    "colab": {
     "base_uri": "https://localhost:8080/"
    },
    "id": "3eOTjMVem_T9",
    "outputId": "c3a532da-260b-4bd9-baef-144d73c92f92"
   },
   "outputs": [
    {
     "data": {
      "text/plain": [
       "Dataset CIFAR10\n",
       "    Number of datapoints: 50000\n",
       "    Root location: data\n",
       "    Split: Train\n",
       "    StandardTransform\n",
       "Transform: Compose(\n",
       "               RandomCrop(size=(32, 32), padding=4)\n",
       "               RandomHorizontalFlip(p=0.5)\n",
       "               ToTensor()\n",
       "               Normalize(mean=(0.4914, 0.4822, 0.4465), std=(0.2023, 0.1994, 0.201))\n",
       "           )"
      ]
     },
     "execution_count": 7,
     "metadata": {},
     "output_type": "execute_result"
    }
   ],
   "source": [
    "valid_ds = test_data\n",
    "train_ds = training_data\n",
    "train_ds"
   ]
  },
  {
   "cell_type": "code",
   "execution_count": 8,
   "metadata": {
    "colab": {
     "base_uri": "https://localhost:8080/"
    },
    "id": "iuMOTM7SrQa9",
    "outputId": "25d6add7-13f0-4ef8-b492-f3915b4aaa70"
   },
   "outputs": [
    {
     "name": "stdout",
     "output_type": "stream",
     "text": [
      "torch.Size([3, 32, 32]) 6\n"
     ]
    },
    {
     "data": {
      "text/plain": [
       "tensor([[[-0.7426, -0.4324, -0.1223,  ..., -1.4598, -1.2854, -0.4518],\n",
       "         [-1.1303, -0.7232, -0.3549,  ..., -1.0527, -0.8007, -0.2967],\n",
       "         [-0.5681, -0.5875, -0.3355,  ..., -0.5487, -0.2773, -0.0447],\n",
       "         ...,\n",
       "         [ 0.6725,  0.2267, -1.4598,  ...,  1.6030,  1.4673,  1.4091],\n",
       "         [ 0.9245,  1.1765, -0.2192,  ...,  1.8356,  1.4673,  1.1765],\n",
       "         [ 1.5642,  1.5061,  0.3430,  ...,  1.7581,  1.3122,  0.8276]],\n",
       "\n",
       "        [[-1.2972, -1.1006, -0.8646,  ..., -1.7889, -1.7889, -1.1399],\n",
       "         [-1.6512, -1.3562, -1.0809,  ..., -1.4742, -1.3759, -0.9826],\n",
       "         [-1.1792, -1.2579, -1.0809,  ..., -1.0612, -0.9432, -0.7466],\n",
       "         ...,\n",
       "         [ 0.1974, -0.3532, -1.9463,  ...,  0.9251,  0.5908,  0.7481],\n",
       "         [ 0.4138,  0.6301, -0.7072,  ...,  1.1611,  0.5318,  0.4924],\n",
       "         [ 0.9841,  0.8661, -0.3139,  ...,  1.0038,  0.2564, -0.0189]],\n",
       "\n",
       "        [[-1.6946, -1.5971, -1.4410,  ..., -1.8117, -2.0068, -1.5580],\n",
       "         [-1.9287, -1.7531, -1.5580,  ..., -1.6556, -1.7531, -1.4995],\n",
       "         [-1.4995, -1.6556, -1.5190,  ..., -1.4410, -1.5190, -1.3825],\n",
       "         ...,\n",
       "         [-0.8557, -1.0508, -2.0068,  ..., -0.3484, -1.5580, -1.7141],\n",
       "         [-0.5240, -0.3094, -1.3239,  ..., -0.4460, -1.7922, -1.7531],\n",
       "         [-0.1728, -0.2313, -1.1093,  ..., -0.5240, -1.9092, -1.8507]]])"
      ]
     },
     "execution_count": 8,
     "metadata": {},
     "output_type": "execute_result"
    }
   ],
   "source": [
    "img, label= train_ds[0]\n",
    "print(img.shape,label)\n",
    "img"
   ]
  },
  {
   "cell_type": "code",
   "execution_count": 9,
   "metadata": {
    "id": "JAFQAJUVr7U2"
   },
   "outputs": [],
   "source": [
    "def show_image(img,label):\n",
    "    print('Label: ', train_ds.classes[label],\"(\"+str(label)+\")\")\n",
    "    plt.imshow(img.permute(1,2,0))"
   ]
  },
  {
   "cell_type": "code",
   "execution_count": 10,
   "metadata": {
    "id": "tj5jXuuBri6o"
   },
   "outputs": [],
   "source": [
    "batch_size=400"
   ]
  },
  {
   "cell_type": "code",
   "execution_count": 11,
   "metadata": {
    "id": "n4kCM-hare00"
   },
   "outputs": [],
   "source": [
    "# Dataloader to load data in batches(mini batch)\n",
    "train_dl= DataLoader(train_ds,batch_size,shuffle=True, num_workers=2, pin_memory=True)\n",
    "valid_dl= DataLoader(valid_ds, batch_size, num_workers=2,pin_memory=True)"
   ]
  },
  {
   "cell_type": "code",
   "execution_count": 12,
   "metadata": {
    "id": "mcfsy3QptG2Y"
   },
   "outputs": [],
   "source": [
    "def show_batch(dl):\n",
    "    for images, labels in dl:\n",
    "        fig,ax= plt.subplots(figsize=(12,12))\n",
    "        ax.set_xticks([]) #hide ticks\n",
    "        ax.set_yticks([])\n",
    "        ax.imshow(make_grid(images[:64],nrow=8).permute(1,2,0))\n",
    "        break # printing only first 64 images from first batch"
   ]
  },
  {
   "cell_type": "code",
   "execution_count": 13,
   "metadata": {
    "id": "lPVFZltRtXt4"
   },
   "outputs": [],
   "source": [
    "def get_default_device():\n",
    "    \"\"\"Pick GPU if available, else CPU\"\"\"\n",
    "    if torch.cuda.is_available():\n",
    "        return torch.device('cuda')\n",
    "    else:\n",
    "        return torch.device('cpu')\n",
    "    \n",
    "def to_device(data, device):\n",
    "    \"\"\"Move tensor(s) to chosen device\"\"\"\n",
    "    if isinstance(data, (list,tuple)):\n",
    "        return [to_device(x, device) for x in data]\n",
    "    return data.to(device, non_blocking=True)\n",
    "\n",
    "class DeviceDataLoader():\n",
    "    \"\"\"Wrap a dataloader to move data to a device\"\"\"\n",
    "    def __init__(self, dl, device):\n",
    "        self.dl = dl\n",
    "        self.device = device\n",
    "        \n",
    "    def __iter__(self):\n",
    "        \"\"\"Yield a batch of data after moving it to device\"\"\"\n",
    "        for b in self.dl: \n",
    "            yield to_device(b, self.device)\n",
    "\n",
    "    def __len__(self):\n",
    "        \"\"\"Number of batches\"\"\"\n",
    "        return len(self.dl)"
   ]
  },
  {
   "cell_type": "code",
   "execution_count": 14,
   "metadata": {
    "colab": {
     "base_uri": "https://localhost:8080/"
    },
    "id": "SOksgE3wtYwZ",
    "outputId": "a9fb69e1-9e00-4139-d791-b7c305a7941a"
   },
   "outputs": [
    {
     "data": {
      "text/plain": [
       "device(type='cuda')"
      ]
     },
     "execution_count": 14,
     "metadata": {},
     "output_type": "execute_result"
    }
   ],
   "source": [
    "device = get_default_device()\n",
    "device"
   ]
  },
  {
   "cell_type": "code",
   "execution_count": 15,
   "metadata": {
    "id": "hfVlteXctb6f"
   },
   "outputs": [],
   "source": [
    "train_dl= DeviceDataLoader(train_dl,device)\n",
    "valid_dl = DeviceDataLoader(valid_dl, device)"
   ]
  },
  {
   "cell_type": "code",
   "execution_count": 16,
   "metadata": {
    "id": "PLmLZHBqtlF_"
   },
   "outputs": [],
   "source": [
    "def accuracy(outputs, labels):\n",
    "    _, preds = torch.max(outputs, dim=1)\n",
    "    return torch.tensor(torch.sum(preds == labels).item() / len(preds))\n",
    "\n",
    "class ImageClassificationBase(nn.Module):\n",
    "    def training_step(self, batch):\n",
    "        images, labels = batch \n",
    "        out = self(images)                  # Generate predictions\n",
    "        loss = F.cross_entropy(out, labels) # Calculate loss\n",
    "        return loss\n",
    "    \n",
    "    def validation_step(self, batch):\n",
    "        images, labels = batch \n",
    "        out = self(images)                    # Generate predictions\n",
    "        loss = F.cross_entropy(out, labels)   # Calculate loss\n",
    "        acc = accuracy(out, labels)           # Calculate accuracy\n",
    "        return {'val_loss': loss.detach(), 'val_acc': acc}\n",
    "        \n",
    "    def validation_epoch_end(self, outputs):\n",
    "        batch_losses = [x['val_loss'] for x in outputs]\n",
    "        epoch_loss = torch.stack(batch_losses).mean()   # Combine losses\n",
    "        batch_accs = [x['val_acc'] for x in outputs]\n",
    "        epoch_acc = torch.stack(batch_accs).mean()      # Combine accuracies\n",
    "        return {'val_loss': epoch_loss.item(), 'val_acc': epoch_acc.item()}\n",
    "    \n",
    "    def epoch_end(self, epoch, result):\n",
    "        print(\"Epoch [{}], train_loss: {:.4f}, val_loss: {:.4f}, val_acc: {:.4f}\".format(\n",
    "            epoch, result['train_loss'], result['val_loss'], result['val_acc']))"
   ]
  },
  {
   "cell_type": "code",
   "execution_count": 17,
   "metadata": {
    "id": "LcaZkKzQtomv"
   },
   "outputs": [],
   "source": [
    "def conv_block(in_channels, out_channels, pool=False):\n",
    "    layers = [nn.Conv2d(in_channels, out_channels, kernel_size=3, padding=1), \n",
    "              nn.BatchNorm2d(out_channels), \n",
    "              nn.ReLU(inplace=True)]\n",
    "    if pool: layers.append(nn.MaxPool2d(2))\n",
    "    return nn.Sequential(*layers)\n",
    "\n",
    "class ResNet9(ImageClassificationBase):\n",
    "    def __init__(self, in_channels, num_classes):\n",
    "        super().__init__()\n",
    "        \n",
    "        self.conv1 = conv_block(in_channels, 64)\n",
    "        self.conv2 = conv_block(64, 128, pool=True)\n",
    "        self.res1 = nn.Sequential(conv_block(128, 128), conv_block(128, 128))\n",
    "        \n",
    "        self.conv3 = conv_block(128, 256)\n",
    "        self.conv4 = conv_block(256, 512, pool=True)\n",
    "        self.res2 = nn.Sequential(conv_block(512, 512), conv_block(512, 512))\n",
    "        \n",
    "        self.conv5 = conv_block(512,1024)\n",
    "        self.conv6 = conv_block(1024,2048, pool=True)\n",
    "        self.res3 = nn.Sequential(conv_block(2048, 2048), conv_block(2048, 2048))\n",
    "        \n",
    "        self.classifier = nn.Sequential(nn.MaxPool2d(4), \n",
    "                                        nn.Flatten(), \n",
    "                                        nn.Linear(2048, num_classes))\n",
    "        \n",
    "    def forward(self, xb):\n",
    "        out = self.conv1(xb)\n",
    "        out = self.conv2(out)\n",
    "        out = self.res1(out) + out\n",
    "        out = self.conv3(out)\n",
    "        out = self.conv4(out)\n",
    "        out = self.res2(out) + out\n",
    "        out = self.conv5(out)\n",
    "        out = self.conv6(out)\n",
    "        out = self.res3(out) + out\n",
    "        out = self.classifier(out)\n",
    "        return out"
   ]
  },
  {
   "cell_type": "code",
   "execution_count": 18,
   "metadata": {
    "colab": {
     "base_uri": "https://localhost:8080/"
    },
    "id": "O8BOig0Otrjz",
    "outputId": "a40ce9a4-8852-4595-9525-9841221a3391"
   },
   "outputs": [
    {
     "data": {
      "text/plain": [
       "ResNet9(\n",
       "  (conv1): Sequential(\n",
       "    (0): Conv2d(3, 64, kernel_size=(3, 3), stride=(1, 1), padding=(1, 1))\n",
       "    (1): BatchNorm2d(64, eps=1e-05, momentum=0.1, affine=True, track_running_stats=True)\n",
       "    (2): ReLU(inplace=True)\n",
       "  )\n",
       "  (conv2): Sequential(\n",
       "    (0): Conv2d(64, 128, kernel_size=(3, 3), stride=(1, 1), padding=(1, 1))\n",
       "    (1): BatchNorm2d(128, eps=1e-05, momentum=0.1, affine=True, track_running_stats=True)\n",
       "    (2): ReLU(inplace=True)\n",
       "    (3): MaxPool2d(kernel_size=2, stride=2, padding=0, dilation=1, ceil_mode=False)\n",
       "  )\n",
       "  (res1): Sequential(\n",
       "    (0): Sequential(\n",
       "      (0): Conv2d(128, 128, kernel_size=(3, 3), stride=(1, 1), padding=(1, 1))\n",
       "      (1): BatchNorm2d(128, eps=1e-05, momentum=0.1, affine=True, track_running_stats=True)\n",
       "      (2): ReLU(inplace=True)\n",
       "    )\n",
       "    (1): Sequential(\n",
       "      (0): Conv2d(128, 128, kernel_size=(3, 3), stride=(1, 1), padding=(1, 1))\n",
       "      (1): BatchNorm2d(128, eps=1e-05, momentum=0.1, affine=True, track_running_stats=True)\n",
       "      (2): ReLU(inplace=True)\n",
       "    )\n",
       "  )\n",
       "  (conv3): Sequential(\n",
       "    (0): Conv2d(128, 256, kernel_size=(3, 3), stride=(1, 1), padding=(1, 1))\n",
       "    (1): BatchNorm2d(256, eps=1e-05, momentum=0.1, affine=True, track_running_stats=True)\n",
       "    (2): ReLU(inplace=True)\n",
       "  )\n",
       "  (conv4): Sequential(\n",
       "    (0): Conv2d(256, 512, kernel_size=(3, 3), stride=(1, 1), padding=(1, 1))\n",
       "    (1): BatchNorm2d(512, eps=1e-05, momentum=0.1, affine=True, track_running_stats=True)\n",
       "    (2): ReLU(inplace=True)\n",
       "    (3): MaxPool2d(kernel_size=2, stride=2, padding=0, dilation=1, ceil_mode=False)\n",
       "  )\n",
       "  (res2): Sequential(\n",
       "    (0): Sequential(\n",
       "      (0): Conv2d(512, 512, kernel_size=(3, 3), stride=(1, 1), padding=(1, 1))\n",
       "      (1): BatchNorm2d(512, eps=1e-05, momentum=0.1, affine=True, track_running_stats=True)\n",
       "      (2): ReLU(inplace=True)\n",
       "    )\n",
       "    (1): Sequential(\n",
       "      (0): Conv2d(512, 512, kernel_size=(3, 3), stride=(1, 1), padding=(1, 1))\n",
       "      (1): BatchNorm2d(512, eps=1e-05, momentum=0.1, affine=True, track_running_stats=True)\n",
       "      (2): ReLU(inplace=True)\n",
       "    )\n",
       "  )\n",
       "  (conv5): Sequential(\n",
       "    (0): Conv2d(512, 1024, kernel_size=(3, 3), stride=(1, 1), padding=(1, 1))\n",
       "    (1): BatchNorm2d(1024, eps=1e-05, momentum=0.1, affine=True, track_running_stats=True)\n",
       "    (2): ReLU(inplace=True)\n",
       "  )\n",
       "  (conv6): Sequential(\n",
       "    (0): Conv2d(1024, 2048, kernel_size=(3, 3), stride=(1, 1), padding=(1, 1))\n",
       "    (1): BatchNorm2d(2048, eps=1e-05, momentum=0.1, affine=True, track_running_stats=True)\n",
       "    (2): ReLU(inplace=True)\n",
       "    (3): MaxPool2d(kernel_size=2, stride=2, padding=0, dilation=1, ceil_mode=False)\n",
       "  )\n",
       "  (res3): Sequential(\n",
       "    (0): Sequential(\n",
       "      (0): Conv2d(2048, 2048, kernel_size=(3, 3), stride=(1, 1), padding=(1, 1))\n",
       "      (1): BatchNorm2d(2048, eps=1e-05, momentum=0.1, affine=True, track_running_stats=True)\n",
       "      (2): ReLU(inplace=True)\n",
       "    )\n",
       "    (1): Sequential(\n",
       "      (0): Conv2d(2048, 2048, kernel_size=(3, 3), stride=(1, 1), padding=(1, 1))\n",
       "      (1): BatchNorm2d(2048, eps=1e-05, momentum=0.1, affine=True, track_running_stats=True)\n",
       "      (2): ReLU(inplace=True)\n",
       "    )\n",
       "  )\n",
       "  (classifier): Sequential(\n",
       "    (0): MaxPool2d(kernel_size=4, stride=4, padding=0, dilation=1, ceil_mode=False)\n",
       "    (1): Flatten(start_dim=1, end_dim=-1)\n",
       "    (2): Linear(in_features=2048, out_features=10, bias=True)\n",
       "  )\n",
       ")"
      ]
     },
     "execution_count": 18,
     "metadata": {},
     "output_type": "execute_result"
    }
   ],
   "source": [
    "model= to_device(ResNet9(3,10), device)\n",
    "model"
   ]
  },
  {
   "cell_type": "code",
   "execution_count": 19,
   "metadata": {
    "id": "hmbJUvR3t0QY"
   },
   "outputs": [],
   "source": [
    "@torch.no_grad()\n",
    "def evaluate(model, val_loader):\n",
    "    model.eval()\n",
    "    outputs = [model.validation_step(batch) for batch in val_loader]\n",
    "    return model.validation_epoch_end(outputs)\n",
    "\n",
    "def get_lr(optimizer):\n",
    "    for param_group in optimizer.param_groups:\n",
    "        return param_group['lr']\n",
    "\n",
    "def fit_one_cycle(epochs, max_lr, model, train_loader, val_loader, \n",
    "                  weight_decay=0, grad_clip=None, opt_func=torch.optim.SGD):\n",
    "    torch.cuda.empty_cache()  # Realsing cuda memory otherwise might get cuda out of memory error\n",
    "    history = []\n",
    "    \n",
    "    #custom optimizer with weight decay\n",
    "    optimizer = opt_func(model.parameters(), max_lr, weight_decay=weight_decay)\n",
    "    # Set up one-cycle learning rate scheduler\n",
    "    sched = torch.optim.lr_scheduler.OneCycleLR(optimizer, max_lr, epochs=epochs, \n",
    "                                                steps_per_epoch=len(train_loader))\n",
    "    \n",
    "    for epoch in range(epochs):\n",
    "        # Training Phase \n",
    "        model.train() #Setting training mode\n",
    "        train_losses = []\n",
    "        lrs = []\n",
    "        for batch in train_loader:\n",
    "            loss = model.training_step(batch)\n",
    "            train_losses.append(loss)\n",
    "            loss.backward()\n",
    "            \n",
    "            # Gradient clipping\n",
    "            if grad_clip: \n",
    "                nn.utils.clip_grad_value_(model.parameters(), grad_clip)\n",
    "            \n",
    "            optimizer.step()\n",
    "            optimizer.zero_grad()\n",
    "            \n",
    "            # Record & update learning rate\n",
    "            lrs.append(get_lr(optimizer))\n",
    "            sched.step()\n",
    "        \n",
    "        # Validation phase\n",
    "        result = evaluate(model, val_loader)\n",
    "        result['train_loss'] = torch.stack(train_losses).mean().item()\n",
    "        result['lrs'] = lrs\n",
    "        model.epoch_end(epoch, result)\n",
    "        history.append(result)\n",
    "    return history"
   ]
  },
  {
   "cell_type": "code",
   "execution_count": 20,
   "metadata": {
    "colab": {
     "base_uri": "https://localhost:8080/"
    },
    "id": "_TPdh3fbt1fH",
    "outputId": "a22ad739-4bd6-459d-f905-64450f06bf4c"
   },
   "outputs": [
    {
     "data": {
      "text/plain": [
       "[{'val_loss': 2.302459478378296, 'val_acc': 0.10010000318288803}]"
      ]
     },
     "execution_count": 20,
     "metadata": {},
     "output_type": "execute_result"
    }
   ],
   "source": [
    "history = [evaluate(model, valid_dl)]\n",
    "history"
   ]
  },
  {
   "cell_type": "code",
   "execution_count": 21,
   "metadata": {
    "id": "fFL3dFDnt6pb"
   },
   "outputs": [],
   "source": [
    "epochs = 140\n",
    "max_lr = 0.01\n",
    "grad_clip = 0.1\n",
    "weight_decay = 1e-4\n",
    "opt_func = torch.optim.Adam"
   ]
  },
  {
   "cell_type": "code",
   "execution_count": 22,
   "metadata": {
    "colab": {
     "base_uri": "https://localhost:8080/"
    },
    "id": "01CAjQi2t8Ub",
    "outputId": "776b2d7d-902f-4f3c-ece0-24ccd16c4d53"
   },
   "outputs": [
    {
     "name": "stdout",
     "output_type": "stream",
     "text": [
      "Epoch [0], train_loss: 1.9274, val_loss: 1.5135, val_acc: 0.4396\n",
      "Epoch [1], train_loss: 1.3522, val_loss: 1.1825, val_acc: 0.5744\n",
      "Epoch [2], train_loss: 1.0629, val_loss: 0.9771, val_acc: 0.6551\n",
      "Epoch [3], train_loss: 0.8672, val_loss: 1.0140, val_acc: 0.6481\n",
      "Epoch [4], train_loss: 0.7149, val_loss: 0.9946, val_acc: 0.6795\n",
      "Epoch [5], train_loss: 0.6112, val_loss: 0.6064, val_acc: 0.7966\n",
      "Epoch [6], train_loss: 0.5549, val_loss: 0.5922, val_acc: 0.7967\n",
      "Epoch [7], train_loss: 0.4692, val_loss: 0.6546, val_acc: 0.7955\n",
      "Epoch [8], train_loss: 0.4673, val_loss: 0.6375, val_acc: 0.8045\n",
      "Epoch [9], train_loss: 0.4326, val_loss: 0.5240, val_acc: 0.8117\n",
      "Epoch [10], train_loss: 0.4299, val_loss: 0.6045, val_acc: 0.7953\n",
      "Epoch [11], train_loss: 0.4234, val_loss: 0.5574, val_acc: 0.8123\n",
      "Epoch [12], train_loss: 0.4207, val_loss: 0.6454, val_acc: 0.7963\n",
      "Epoch [13], train_loss: 0.3735, val_loss: 0.7362, val_acc: 0.7759\n",
      "Epoch [14], train_loss: 0.3849, val_loss: 0.4842, val_acc: 0.8385\n",
      "Epoch [15], train_loss: 0.4571, val_loss: 0.8822, val_acc: 0.7782\n",
      "Epoch [16], train_loss: 0.3761, val_loss: 0.7964, val_acc: 0.7683\n",
      "Epoch [17], train_loss: 0.3577, val_loss: 0.8138, val_acc: 0.7623\n",
      "Epoch [18], train_loss: 0.3630, val_loss: 0.5778, val_acc: 0.8047\n",
      "Epoch [19], train_loss: 0.3604, val_loss: 1.1172, val_acc: 0.7105\n",
      "Epoch [20], train_loss: 0.3650, val_loss: 0.7381, val_acc: 0.7758\n",
      "Epoch [21], train_loss: 0.3494, val_loss: 0.5272, val_acc: 0.8315\n",
      "Epoch [22], train_loss: 0.3619, val_loss: 0.5137, val_acc: 0.8275\n",
      "Epoch [23], train_loss: 0.3641, val_loss: 0.5496, val_acc: 0.8208\n",
      "Epoch [24], train_loss: 0.3676, val_loss: 0.6100, val_acc: 0.7986\n",
      "Epoch [25], train_loss: 0.3745, val_loss: 0.4906, val_acc: 0.8412\n",
      "Epoch [26], train_loss: 0.3630, val_loss: 0.6990, val_acc: 0.7777\n",
      "Epoch [27], train_loss: 0.3620, val_loss: 0.5328, val_acc: 0.8274\n",
      "Epoch [28], train_loss: 0.3678, val_loss: 0.7254, val_acc: 0.7761\n",
      "Epoch [29], train_loss: 0.3694, val_loss: 0.5504, val_acc: 0.8214\n",
      "Epoch [30], train_loss: 0.3645, val_loss: 0.5614, val_acc: 0.8162\n",
      "Epoch [31], train_loss: 0.3654, val_loss: 0.9163, val_acc: 0.7211\n",
      "Epoch [32], train_loss: 0.3722, val_loss: 0.6315, val_acc: 0.7867\n",
      "Epoch [33], train_loss: 0.3745, val_loss: 0.6759, val_acc: 0.7765\n",
      "Epoch [34], train_loss: 0.3790, val_loss: 0.5650, val_acc: 0.8063\n",
      "Epoch [35], train_loss: 0.3834, val_loss: 0.5676, val_acc: 0.8079\n",
      "Epoch [36], train_loss: 0.3746, val_loss: 0.5620, val_acc: 0.8136\n",
      "Epoch [37], train_loss: 0.3819, val_loss: 0.6829, val_acc: 0.7845\n",
      "Epoch [38], train_loss: 0.3761, val_loss: 0.6185, val_acc: 0.7919\n",
      "Epoch [39], train_loss: 0.3798, val_loss: 0.5360, val_acc: 0.8205\n",
      "Epoch [40], train_loss: 0.3756, val_loss: 0.6702, val_acc: 0.7802\n",
      "Epoch [41], train_loss: 0.3838, val_loss: 0.4869, val_acc: 0.8324\n",
      "Epoch [42], train_loss: 0.3780, val_loss: 1.0231, val_acc: 0.7078\n",
      "Epoch [43], train_loss: 0.3791, val_loss: 0.6182, val_acc: 0.7957\n",
      "Epoch [44], train_loss: 0.3804, val_loss: 0.6609, val_acc: 0.7948\n",
      "Epoch [45], train_loss: 0.3731, val_loss: 0.5315, val_acc: 0.8185\n",
      "Epoch [46], train_loss: 0.3712, val_loss: 0.5955, val_acc: 0.8027\n",
      "Epoch [47], train_loss: 0.3693, val_loss: 0.4647, val_acc: 0.8437\n",
      "Epoch [48], train_loss: 0.3696, val_loss: 0.5983, val_acc: 0.7993\n",
      "Epoch [49], train_loss: 0.3665, val_loss: 0.6548, val_acc: 0.7813\n",
      "Epoch [50], train_loss: 0.3702, val_loss: 0.5757, val_acc: 0.8069\n",
      "Epoch [51], train_loss: 0.3612, val_loss: 0.6393, val_acc: 0.7935\n",
      "Epoch [52], train_loss: 0.3568, val_loss: 0.6091, val_acc: 0.8001\n",
      "Epoch [53], train_loss: 0.3583, val_loss: 0.5555, val_acc: 0.8188\n",
      "Epoch [54], train_loss: 0.3563, val_loss: 0.6441, val_acc: 0.7968\n",
      "Epoch [55], train_loss: 0.3621, val_loss: 0.6995, val_acc: 0.7852\n",
      "Epoch [56], train_loss: 0.3488, val_loss: 0.6642, val_acc: 0.7853\n",
      "Epoch [57], train_loss: 0.3502, val_loss: 0.6285, val_acc: 0.7906\n",
      "Epoch [58], train_loss: 0.3452, val_loss: 0.4651, val_acc: 0.8439\n",
      "Epoch [59], train_loss: 0.3456, val_loss: 0.4948, val_acc: 0.8383\n",
      "Epoch [60], train_loss: 0.3487, val_loss: 0.5159, val_acc: 0.8357\n",
      "Epoch [61], train_loss: 0.3400, val_loss: 0.4515, val_acc: 0.8466\n",
      "Epoch [62], train_loss: 0.3410, val_loss: 0.4432, val_acc: 0.8489\n",
      "Epoch [63], train_loss: 0.3357, val_loss: 0.6108, val_acc: 0.7929\n",
      "Epoch [64], train_loss: 0.3333, val_loss: 0.4177, val_acc: 0.8612\n",
      "Epoch [65], train_loss: 0.3215, val_loss: 0.4216, val_acc: 0.8564\n",
      "Epoch [66], train_loss: 0.3236, val_loss: 0.5003, val_acc: 0.8360\n",
      "Epoch [67], train_loss: 0.3227, val_loss: 0.4404, val_acc: 0.8533\n",
      "Epoch [68], train_loss: 0.3194, val_loss: 0.4723, val_acc: 0.8392\n",
      "Epoch [69], train_loss: 0.3092, val_loss: 0.3758, val_acc: 0.8709\n",
      "Epoch [70], train_loss: 0.3079, val_loss: 0.7249, val_acc: 0.7566\n",
      "Epoch [71], train_loss: 0.3091, val_loss: 0.4376, val_acc: 0.8519\n",
      "Epoch [72], train_loss: 0.3036, val_loss: 0.4594, val_acc: 0.8464\n",
      "Epoch [73], train_loss: 0.3040, val_loss: 0.4117, val_acc: 0.8627\n",
      "Epoch [74], train_loss: 0.3021, val_loss: 0.5343, val_acc: 0.8259\n",
      "Epoch [75], train_loss: 0.2937, val_loss: 0.5175, val_acc: 0.8277\n",
      "Epoch [76], train_loss: 0.2864, val_loss: 0.4724, val_acc: 0.8466\n",
      "Epoch [77], train_loss: 0.2876, val_loss: 0.5001, val_acc: 0.8400\n",
      "Epoch [78], train_loss: 0.2833, val_loss: 0.3781, val_acc: 0.8755\n",
      "Epoch [79], train_loss: 0.2773, val_loss: 0.3846, val_acc: 0.8682\n",
      "Epoch [80], train_loss: 0.2724, val_loss: 0.4277, val_acc: 0.8558\n",
      "Epoch [81], train_loss: 0.2709, val_loss: 0.5993, val_acc: 0.8215\n",
      "Epoch [82], train_loss: 0.2668, val_loss: 0.3722, val_acc: 0.8728\n",
      "Epoch [83], train_loss: 0.2606, val_loss: 0.4073, val_acc: 0.8639\n",
      "Epoch [84], train_loss: 0.2552, val_loss: 0.3898, val_acc: 0.8708\n",
      "Epoch [85], train_loss: 0.2478, val_loss: 0.5269, val_acc: 0.8303\n",
      "Epoch [86], train_loss: 0.2433, val_loss: 0.3535, val_acc: 0.8837\n",
      "Epoch [87], train_loss: 0.2437, val_loss: 0.4122, val_acc: 0.8665\n",
      "Epoch [88], train_loss: 0.2374, val_loss: 0.3837, val_acc: 0.8752\n",
      "Epoch [89], train_loss: 0.2344, val_loss: 0.4420, val_acc: 0.8560\n",
      "Epoch [90], train_loss: 0.2230, val_loss: 0.4140, val_acc: 0.8688\n",
      "Epoch [91], train_loss: 0.2224, val_loss: 0.3982, val_acc: 0.8724\n",
      "Epoch [92], train_loss: 0.2156, val_loss: 0.4059, val_acc: 0.8728\n",
      "Epoch [93], train_loss: 0.2123, val_loss: 0.3248, val_acc: 0.8928\n",
      "Epoch [94], train_loss: 0.2057, val_loss: 0.3658, val_acc: 0.8826\n",
      "Epoch [95], train_loss: 0.1977, val_loss: 0.3531, val_acc: 0.8879\n",
      "Epoch [96], train_loss: 0.1944, val_loss: 0.4285, val_acc: 0.8628\n",
      "Epoch [97], train_loss: 0.1878, val_loss: 0.3809, val_acc: 0.8801\n",
      "Epoch [98], train_loss: 0.1836, val_loss: 0.3126, val_acc: 0.8990\n",
      "Epoch [99], train_loss: 0.1795, val_loss: 0.4225, val_acc: 0.8709\n",
      "Epoch [100], train_loss: 0.1736, val_loss: 0.3478, val_acc: 0.8897\n",
      "Epoch [101], train_loss: 0.1648, val_loss: 0.3315, val_acc: 0.8950\n",
      "Epoch [102], train_loss: 0.1623, val_loss: 0.3640, val_acc: 0.8852\n",
      "Epoch [103], train_loss: 0.1547, val_loss: 0.3542, val_acc: 0.8914\n",
      "Epoch [104], train_loss: 0.1471, val_loss: 0.3440, val_acc: 0.8933\n",
      "Epoch [105], train_loss: 0.1364, val_loss: 0.3080, val_acc: 0.9025\n",
      "Epoch [106], train_loss: 0.1332, val_loss: 0.3281, val_acc: 0.8998\n",
      "Epoch [107], train_loss: 0.1313, val_loss: 0.3174, val_acc: 0.9034\n",
      "Epoch [108], train_loss: 0.1219, val_loss: 0.3429, val_acc: 0.9001\n",
      "Epoch [109], train_loss: 0.1160, val_loss: 0.3379, val_acc: 0.9025\n",
      "Epoch [110], train_loss: 0.1096, val_loss: 0.3202, val_acc: 0.9038\n",
      "Epoch [111], train_loss: 0.1066, val_loss: 0.2941, val_acc: 0.9103\n",
      "Epoch [112], train_loss: 0.0982, val_loss: 0.2921, val_acc: 0.9124\n",
      "Epoch [113], train_loss: 0.0916, val_loss: 0.3100, val_acc: 0.9077\n",
      "Epoch [114], train_loss: 0.0861, val_loss: 0.3117, val_acc: 0.9107\n",
      "Epoch [115], train_loss: 0.0788, val_loss: 0.3340, val_acc: 0.9040\n",
      "Epoch [116], train_loss: 0.0737, val_loss: 0.2937, val_acc: 0.9157\n",
      "Epoch [117], train_loss: 0.0648, val_loss: 0.2979, val_acc: 0.9128\n",
      "Epoch [118], train_loss: 0.0633, val_loss: 0.3011, val_acc: 0.9160\n",
      "Epoch [119], train_loss: 0.0605, val_loss: 0.3028, val_acc: 0.9143\n",
      "Epoch [120], train_loss: 0.0562, val_loss: 0.3090, val_acc: 0.9107\n",
      "Epoch [121], train_loss: 0.0492, val_loss: 0.3032, val_acc: 0.9149\n",
      "Epoch [122], train_loss: 0.0467, val_loss: 0.3000, val_acc: 0.9149\n",
      "Epoch [123], train_loss: 0.0390, val_loss: 0.2926, val_acc: 0.9185\n",
      "Epoch [124], train_loss: 0.0404, val_loss: 0.2900, val_acc: 0.9193\n",
      "Epoch [125], train_loss: 0.0361, val_loss: 0.2905, val_acc: 0.9207\n",
      "Epoch [126], train_loss: 0.0314, val_loss: 0.2936, val_acc: 0.9215\n",
      "Epoch [127], train_loss: 0.0303, val_loss: 0.2983, val_acc: 0.9187\n",
      "Epoch [128], train_loss: 0.0282, val_loss: 0.2914, val_acc: 0.9209\n",
      "Epoch [129], train_loss: 0.0271, val_loss: 0.2924, val_acc: 0.9194\n",
      "Epoch [130], train_loss: 0.0243, val_loss: 0.2910, val_acc: 0.9220\n",
      "Epoch [131], train_loss: 0.0228, val_loss: 0.2915, val_acc: 0.9224\n",
      "Epoch [132], train_loss: 0.0214, val_loss: 0.2901, val_acc: 0.9234\n",
      "Epoch [133], train_loss: 0.0217, val_loss: 0.2963, val_acc: 0.9220\n",
      "Epoch [134], train_loss: 0.0208, val_loss: 0.2955, val_acc: 0.9225\n",
      "Epoch [135], train_loss: 0.0198, val_loss: 0.2949, val_acc: 0.9224\n",
      "Epoch [136], train_loss: 0.0195, val_loss: 0.2957, val_acc: 0.9224\n",
      "Epoch [137], train_loss: 0.0189, val_loss: 0.2953, val_acc: 0.9226\n",
      "Epoch [138], train_loss: 0.0185, val_loss: 0.2951, val_acc: 0.9236\n",
      "Epoch [139], train_loss: 0.0181, val_loss: 0.2956, val_acc: 0.9224\n",
      "CPU times: user 1h 27min 52s, sys: 41min 37s, total: 2h 9min 29s\n",
      "Wall time: 2h 7min 22s\n"
     ]
    }
   ],
   "source": [
    "%%time\n",
    "history += fit_one_cycle(epochs, max_lr, model, train_dl, valid_dl, \n",
    "                             grad_clip=grad_clip, \n",
    "                             weight_decay=weight_decay, \n",
    "                             opt_func=opt_func)"
   ]
  },
  {
   "cell_type": "code",
   "execution_count": 23,
   "metadata": {
    "id": "jvJzQAeNjB6Y"
   },
   "outputs": [],
   "source": [
    "def plot_accuracies(history):\n",
    "    accuracies = [x['val_acc'] for x in history]\n",
    "    plt.figure(figsize=(10,6))\n",
    "    plt.plot(accuracies, '-x')\n",
    "    plt.xlabel('epoch')\n",
    "    plt.ylabel('accuracy')\n",
    "    plt.title('Accuracy vs. No. of epochs');"
   ]
  },
  {
   "cell_type": "code",
   "execution_count": 24,
   "metadata": {
    "colab": {
     "base_uri": "https://localhost:8080/",
     "height": 171
    },
    "id": "fYuANPlfjIvt",
    "outputId": "08453f89-0933-4bd9-e02a-d760aad8714f"
   },
   "outputs": [
    {
     "data": {
      "image/png": "[encoded data removed]",
      "text/plain": [
       "<Figure size 720x432 with 1 Axes>"
      ]
     },
     "metadata": {
      "needs_background": "light"
     },
     "output_type": "display_data"
    }
   ],
   "source": [
    "plot_accuracies(history)"
   ]
  },
  {
   "cell_type": "code",
   "execution_count": 25,
   "metadata": {
    "id": "JV6cn39HjTF-"
   },
   "outputs": [],
   "source": [
    "def plot_losses(history):\n",
    "    train_losses = [x.get('train_loss') for x in history]\n",
    "    val_losses = [x['val_loss'] for x in history]\n",
    "    plt.figure(figsize=(10,6))\n",
    "    plt.plot(train_losses, '-bx')\n",
    "    plt.plot(val_losses, '-rx')\n",
    "    plt.xlabel('epoch')\n",
    "    plt.ylabel('loss')\n",
    "    plt.legend(['Training', 'Validation'])\n",
    "    plt.title('Loss vs. No. of epochs');"
   ]
  },
  {
   "cell_type": "code",
   "execution_count": 26,
   "metadata": {
    "colab": {
     "base_uri": "https://localhost:8080/",
     "height": 171
    },
    "id": "kuky-BEDjUw_",
    "outputId": "e33b1eb9-e7c7-483d-829a-75bce6a074ae"
   },
   "outputs": [
    {
     "data": {
      "image/png": "[encoded data removed]",
      "text/plain": [
       "<Figure size 720x432 with 1 Axes>"
      ]
     },
     "metadata": {
      "needs_background": "light"
     },
     "output_type": "display_data"
    }
   ],
   "source": [
    "plot_losses(history)"
   ]
  },
  {
   "cell_type": "code",
   "execution_count": 27,
   "metadata": {
    "id": "ToUcs2S6jZl_"
   },
   "outputs": [],
   "source": [
    "def plot_lrs(history):\n",
    "    lrs = np.concatenate([x.get('lrs', []) for x in history])\n",
    "    plt.figure(figsize=(10,6))\n",
    "    plt.plot(lrs)\n",
    "    plt.xlabel('Batch no.')\n",
    "    plt.ylabel('Learning rate')\n",
    "    plt.title('Learning Rate vs. Batch no.');"
   ]
  },
  {
   "cell_type": "code",
   "execution_count": 28,
   "metadata": {
    "colab": {
     "base_uri": "https://localhost:8080/",
     "height": 171
    },
    "id": "V1ao5oIJjboF",
    "outputId": "23d3a338-12ab-42be-b2de-8a2b3d55ccae"
   },
   "outputs": [
    {
     "data": {
      "image/png": "[encoded data removed]",
      "text/plain": [
       "<Figure size 720x432 with 1 Axes>"
      ]
     },
     "metadata": {
      "needs_background": "light"
     },
     "output_type": "display_data"
    }
   ],
   "source": [
    "plot_lrs(history)"
   ]
  }
 ],
 "metadata": {
  "accelerator": "GPU",
  "colab": {
   "collapsed_sections": [],
   "include_colab_link": true,
   "name": "kaggle94gpu.ipynb",
   "provenance": []
  },
  "kernelspec": {
   "display_name": "Python 3",
   "language": "python",
   "name": "python3"
  },
  "language_info": {
   "codemirror_mode": {
    "name": "ipython",
    "version": 3
   },
   "file_extension": ".py",
   "mimetype": "text/x-python",
   "name": "python",
   "nbconvert_exporter": "python",
   "pygments_lexer": "ipython3",
   "version": "3.6.9"
  },
  "widgets": {
   "application/vnd.jupyter.widget-state+json": {
    "0433c9c034b7466a98118f517c9ae2e8": {
     "model_module": "@jupyter-widgets/base",
     "model_module_version": "1.2.0",
     "model_name": "LayoutModel",
     "state": {
      "_model_module": "@jupyter-widgets/base",
      "_model_module_version": "1.2.0",
      "_model_name": "LayoutModel",
      "_view_count": null,
      "_view_module": "@jupyter-widgets/base",
      "_view_module_version": "1.2.0",
      "_view_name": "LayoutView",
      "align_content": null,
      "align_items": null,
      "align_self": null,
      "border": null,
      "bottom": null,
      "display": null,
      "flex": null,
      "flex_flow": null,
      "grid_area": null,
      "grid_auto_columns": null,
      "grid_auto_flow": null,
      "grid_auto_rows": null,
      "grid_column": null,
      "grid_gap": null,
      "grid_row": null,
      "grid_template_areas": null,
      "grid_template_columns": null,
      "grid_template_rows": null,
      "height": null,
      "justify_content": null,
      "justify_items": null,
      "left": null,
      "margin": null,
      "max_height": null,
      "max_width": null,
      "min_height": null,
      "min_width": null,
      "object_fit": null,
      "object_position": null,
      "order": null,
      "overflow": null,
      "overflow_x": null,
      "overflow_y": null,
      "padding": null,
      "right": null,
      "top": null,
      "visibility": null,
      "width": null
     }
    },
    "29225a4d667e47f980b33c95c0850d16": {
     "model_module": "@jupyter-widgets/controls",
     "model_module_version": "1.5.0",
     "model_name": "DescriptionStyleModel",
     "state": {
      "_model_module": "@jupyter-widgets/controls",
      "_model_module_version": "1.5.0",
      "_model_name": "DescriptionStyleModel",
      "_view_count": null,
      "_view_module": "@jupyter-widgets/base",
      "_view_module_version": "1.2.0",
      "_view_name": "StyleView",
      "description_width": ""
     }
    },
    "350d156265104e2296caf536b05d26cc": {
     "model_module": "@jupyter-widgets/controls",
     "model_module_version": "1.5.0",
     "model_name": "FloatProgressModel",
     "state": {
      "_dom_classes": [],
      "_model_module": "@jupyter-widgets/controls",
      "_model_module_version": "1.5.0",
      "_model_name": "FloatProgressModel",
      "_view_count": null,
      "_view_module": "@jupyter-widgets/controls",
      "_view_module_version": "1.5.0",
      "_view_name": "ProgressView",
      "bar_style": "success",
      "description": "",
      "description_tooltip": null,
      "layout": "IPY_MODEL_9ae1047b1b184d81bde7c14ca6ad72d5",
      "max": 170498071,
      "min": 0,
      "orientation": "horizontal",
      "style": "IPY_MODEL_37da94684df543f3a81fe78c389f68dc",
      "value": 170498071
     }
    },
    "37da94684df543f3a81fe78c389f68dc": {
     "model_module": "@jupyter-widgets/controls",
     "model_module_version": "1.5.0",
     "model_name": "ProgressStyleModel",
     "state": {
      "_model_module": "@jupyter-widgets/controls",
      "_model_module_version": "1.5.0",
      "_model_name": "ProgressStyleModel",
      "_view_count": null,
      "_view_module": "@jupyter-widgets/base",
      "_view_module_version": "1.2.0",
      "_view_name": "StyleView",
      "bar_color": null,
      "description_width": ""
     }
    },
    "40b5952c97aa40169739936f0d549d02": {
     "model_module": "@jupyter-widgets/controls",
     "model_module_version": "1.5.0",
     "model_name": "HTMLModel",
     "state": {
      "_dom_classes": [],
      "_model_module": "@jupyter-widgets/controls",
      "_model_module_version": "1.5.0",
      "_model_name": "HTMLModel",
      "_view_count": null,
      "_view_module": "@jupyter-widgets/controls",
      "_view_module_version": "1.5.0",
      "_view_name": "HTMLView",
      "description": "",
      "description_tooltip": null,
      "layout": "IPY_MODEL_0433c9c034b7466a98118f517c9ae2e8",
      "placeholder": "​",
      "style": "IPY_MODEL_fb9ab6c5d81f48089ac0d9dc03c72e6b",
      "value": " 170499072/? [00:02&lt;00:00, 62626240.17it/s]"
     }
    },
    "4c7fbb2405c84d7887d63fd6217cba4a": {
     "model_module": "@jupyter-widgets/controls",
     "model_module_version": "1.5.0",
     "model_name": "HTMLModel",
     "state": {
      "_dom_classes": [],
      "_model_module": "@jupyter-widgets/controls",
      "_model_module_version": "1.5.0",
      "_model_name": "HTMLModel",
      "_view_count": null,
      "_view_module": "@jupyter-widgets/controls",
      "_view_module_version": "1.5.0",
      "_view_name": "HTMLView",
      "description": "",
      "description_tooltip": null,
      "layout": "IPY_MODEL_a448b41c426a4810a07d5eb92df1bc21",
      "placeholder": "​",
      "style": "IPY_MODEL_29225a4d667e47f980b33c95c0850d16",
      "value": ""
     }
    },
    "50c9aed288f14fcd94009217a59c91ff": {
     "model_module": "@jupyter-widgets/base",
     "model_module_version": "1.2.0",
     "model_name": "LayoutModel",
     "state": {
      "_model_module": "@jupyter-widgets/base",
      "_model_module_version": "1.2.0",
      "_model_name": "LayoutModel",
      "_view_count": null,
      "_view_module": "@jupyter-widgets/base",
      "_view_module_version": "1.2.0",
      "_view_name": "LayoutView",
      "align_content": null,
      "align_items": null,
      "align_self": null,
      "border": null,
      "bottom": null,
      "display": null,
      "flex": null,
      "flex_flow": null,
      "grid_area": null,
      "grid_auto_columns": null,
      "grid_auto_flow": null,
      "grid_auto_rows": null,
      "grid_column": null,
      "grid_gap": null,
      "grid_row": null,
      "grid_template_areas": null,
      "grid_template_columns": null,
      "grid_template_rows": null,
      "height": null,
      "justify_content": null,
      "justify_items": null,
      "left": null,
      "margin": null,
      "max_height": null,
      "max_width": null,
      "min_height": null,
      "min_width": null,
      "object_fit": null,
      "object_position": null,
      "order": null,
      "overflow": null,
      "overflow_x": null,
      "overflow_y": null,
      "padding": null,
      "right": null,
      "top": null,
      "visibility": null,
      "width": null
     }
    },
    "9ae1047b1b184d81bde7c14ca6ad72d5": {
     "model_module": "@jupyter-widgets/base",
     "model_module_version": "1.2.0",
     "model_name": "LayoutModel",
     "state": {
      "_model_module": "@jupyter-widgets/base",
      "_model_module_version": "1.2.0",
      "_model_name": "LayoutModel",
      "_view_count": null,
      "_view_module": "@jupyter-widgets/base",
      "_view_module_version": "1.2.0",
      "_view_name": "LayoutView",
      "align_content": null,
      "align_items": null,
      "align_self": null,
      "border": null,
      "bottom": null,
      "display": null,
      "flex": null,
      "flex_flow": null,
      "grid_area": null,
      "grid_auto_columns": null,
      "grid_auto_flow": null,
      "grid_auto_rows": null,
      "grid_column": null,
      "grid_gap": null,
      "grid_row": null,
      "grid_template_areas": null,
      "grid_template_columns": null,
      "grid_template_rows": null,
      "height": null,
      "justify_content": null,
      "justify_items": null,
      "left": null,
      "margin": null,
      "max_height": null,
      "max_width": null,
      "min_height": null,
      "min_width": null,
      "object_fit": null,
      "object_position": null,
      "order": null,
      "overflow": null,
      "overflow_x": null,
      "overflow_y": null,
      "padding": null,
      "right": null,
      "top": null,
      "visibility": null,
      "width": null
     }
    },
    "a448b41c426a4810a07d5eb92df1bc21": {
     "model_module": "@jupyter-widgets/base",
     "model_module_version": "1.2.0",
     "model_name": "LayoutModel",
     "state": {
      "_model_module": "@jupyter-widgets/base",
      "_model_module_version": "1.2.0",
      "_model_name": "LayoutModel",
      "_view_count": null,
      "_view_module": "@jupyter-widgets/base",
      "_view_module_version": "1.2.0",
      "_view_name": "LayoutView",
      "align_content": null,
      "align_items": null,
      "align_self": null,
      "border": null,
      "bottom": null,
      "display": null,
      "flex": null,
      "flex_flow": null,
      "grid_area": null,
      "grid_auto_columns": null,
      "grid_auto_flow": null,
      "grid_auto_rows": null,
      "grid_column": null,
      "grid_gap": null,
      "grid_row": null,
      "grid_template_areas": null,
      "grid_template_columns": null,
      "grid_template_rows": null,
      "height": null,
      "justify_content": null,
      "justify_items": null,
      "left": null,
      "margin": null,
      "max_height": null,
      "max_width": null,
      "min_height": null,
      "min_width": null,
      "object_fit": null,
      "object_position": null,
      "order": null,
      "overflow": null,
      "overflow_x": null,
      "overflow_y": null,
      "padding": null,
      "right": null,
      "top": null,
      "visibility": null,
      "width": null
     }
    },
    "c974d31e436a42899adbf2ef969307a4": {
     "model_module": "@jupyter-widgets/controls",
     "model_module_version": "1.5.0",
     "model_name": "HBoxModel",
     "state": {
      "_dom_classes": [],
      "_model_module": "@jupyter-widgets/controls",
      "_model_module_version": "1.5.0",
      "_model_name": "HBoxModel",
      "_view_count": null,
      "_view_module": "@jupyter-widgets/controls",
      "_view_module_version": "1.5.0",
      "_view_name": "HBoxView",
      "box_style": "",
      "children": [
       "IPY_MODEL_4c7fbb2405c84d7887d63fd6217cba4a",
       "IPY_MODEL_350d156265104e2296caf536b05d26cc",
       "IPY_MODEL_40b5952c97aa40169739936f0d549d02"
      ],
      "layout": "IPY_MODEL_50c9aed288f14fcd94009217a59c91ff"
     }
    },
    "fb9ab6c5d81f48089ac0d9dc03c72e6b": {
     "model_module": "@jupyter-widgets/controls",
     "model_module_version": "1.5.0",
     "model_name": "DescriptionStyleModel",
     "state": {
      "_model_module": "@jupyter-widgets/controls",
      "_model_module_version": "1.5.0",
      "_model_name": "DescriptionStyleModel",
      "_view_count": null,
      "_view_module": "@jupyter-widgets/base",
      "_view_module_version": "1.2.0",
      "_view_name": "StyleView",
      "description_width": ""
     }
    }
   }
  }
 },
 "nbformat": 4,
 "nbformat_minor": 4
}
