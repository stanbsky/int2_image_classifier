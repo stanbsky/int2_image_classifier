{
 "cells": [
  {
   "cell_type": "markdown",
   "metadata": {
    "colab_type": "text",
    "id": "view-in-github"
   },
   "source": [
    "<a href=\"https://colab.research.google.com/github/stanbsky/int2_image_classifier/blob/main/kaggle94gpu.ipynb\" target=\"_parent\"><img src=\"https://colab.research.google.com/assets/colab-badge.svg\" alt=\"Open In Colab\"/></a>"
   ]
  },
  {
   "cell_type": "code",
   "execution_count": 1,
   "metadata": {
    "id": "OD2wVFLtkbkN"
   },
   "outputs": [
    {
     "name": "stderr",
     "output_type": "stream",
     "text": [
      "Matplotlib created a temporary config/cache directory at /tmp/matplotlib-fumzimvh because the default path (/run/user/141228/cache/matplotlib) is not a writable directory; it is highly recommended to set the MPLCONFIGDIR environment variable to a writable directory, in particular to speed up the import of Matplotlib and to better support multiprocessing.\n"
     ]
    }
   ],
   "source": [
    "# importing libraries\n",
    "import torch\n",
    "import torchvision\n",
    "from torchvision.datasets.utils import download_url\n",
    "from torch.utils.data import random_split\n",
    "from torchvision.datasets import ImageFolder\n",
    "from torchvision.transforms import ToTensor,ToPILImage\n",
    "import matplotlib.pyplot as plt\n",
    "from torchvision.utils import make_grid\n",
    "from torch.utils.data.dataloader import DataLoader\n",
    "from torchvision.utils import make_grid\n",
    "import torch.nn as nn\n",
    "import torch.nn.functional as F\n",
    "import torchvision.transforms as tt\n",
    "import numpy as np"
   ]
  },
  {
   "cell_type": "code",
   "execution_count": 2,
   "metadata": {
    "id": "Cea6yx4amG2c"
   },
   "outputs": [],
   "source": [
    "import torchvision.datasets as datasets"
   ]
  },
  {
   "cell_type": "code",
   "execution_count": 3,
   "metadata": {
    "colab": {
     "base_uri": "https://localhost:8080/"
    },
    "id": "efdLf1xLk5_y",
    "outputId": "dd7073c3-3026-4d75-eee6-e0425ce35d3e"
   },
   "outputs": [
    {
     "data": {
      "text/plain": [
       "<weakproxy at 0x7f2ab3f17bd8 to Device at 0x7f2ab3f827b8>"
      ]
     },
     "execution_count": 3,
     "metadata": {},
     "output_type": "execute_result"
    }
   ],
   "source": [
    "#########################\n",
    "### SELECT THE RIGHT GPU!\n",
    "#########################\n",
    "from numba import cuda\n",
    "cuda.select_device(4)"
   ]
  },
  {
   "cell_type": "code",
   "execution_count": 4,
   "metadata": {
    "id": "hNiNZttPlHFe"
   },
   "outputs": [],
   "source": [
    "stats= ((0.4914,0.4822,0.4465),(0.2023,0.1994,0.2010)) #mean and std\n",
    "train_tfm= tt.Compose([tt.RandomCrop(32, padding=4, padding_mode='reflect'), # transormation of data together\n",
    "                       tt.RandomHorizontalFlip(),\n",
    "                       tt.ToTensor(),tt.Normalize(*stats,inplace=True)])\n",
    "valid_tfm = tt.Compose([tt.ToTensor(),tt.Normalize(*stats)])"
   ]
  },
  {
   "cell_type": "code",
   "execution_count": 5,
   "metadata": {
    "colab": {
     "base_uri": "https://localhost:8080/",
     "height": 86,
     "referenced_widgets": [
      "c974d31e436a42899adbf2ef969307a4",
      "4c7fbb2405c84d7887d63fd6217cba4a",
      "350d156265104e2296caf536b05d26cc",
      "40b5952c97aa40169739936f0d549d02",
      "50c9aed288f14fcd94009217a59c91ff",
      "a448b41c426a4810a07d5eb92df1bc21",
      "29225a4d667e47f980b33c95c0850d16",
      "9ae1047b1b184d81bde7c14ca6ad72d5",
      "37da94684df543f3a81fe78c389f68dc",
      "0433c9c034b7466a98118f517c9ae2e8",
      "fb9ab6c5d81f48089ac0d9dc03c72e6b"
     ]
    },
    "id": "pxotEy_Al0J4",
    "outputId": "90e7b090-0622-4775-fcfa-39958472aa7c"
   },
   "outputs": [
    {
     "name": "stdout",
     "output_type": "stream",
     "text": [
      "Files already downloaded and verified\n"
     ]
    }
   ],
   "source": [
    "training_data = datasets.CIFAR10(\n",
    "    root=\"data\",\n",
    "    train=True,\n",
    "    download=True,\n",
    "    transform=train_tfm,\n",
    ")"
   ]
  },
  {
   "cell_type": "code",
   "execution_count": 6,
   "metadata": {
    "colab": {
     "base_uri": "https://localhost:8080/"
    },
    "id": "3HUIV5yKmj4F",
    "outputId": "96675fe3-76e5-4e9f-9bc2-14b1d389996f"
   },
   "outputs": [
    {
     "name": "stdout",
     "output_type": "stream",
     "text": [
      "Files already downloaded and verified\n"
     ]
    }
   ],
   "source": [
    "\n",
    "# Download test data from open datasets.\n",
    "test_data = datasets.CIFAR10(\n",
    "    root=\"data\",\n",
    "    train=False,\n",
    "    download=True,\n",
    "    transform=valid_tfm,\n",
    ")"
   ]
  },
  {
   "cell_type": "code",
   "execution_count": 7,
   "metadata": {
    "colab": {
     "base_uri": "https://localhost:8080/"
    },
    "id": "3eOTjMVem_T9",
    "outputId": "c3a532da-260b-4bd9-baef-144d73c92f92"
   },
   "outputs": [
    {
     "data": {
      "text/plain": [
       "Dataset CIFAR10\n",
       "    Number of datapoints: 50000\n",
       "    Root location: data\n",
       "    Split: Train\n",
       "    StandardTransform\n",
       "Transform: Compose(\n",
       "               RandomCrop(size=(32, 32), padding=4)\n",
       "               RandomHorizontalFlip(p=0.5)\n",
       "               ToTensor()\n",
       "               Normalize(mean=(0.4914, 0.4822, 0.4465), std=(0.2023, 0.1994, 0.201))\n",
       "           )"
      ]
     },
     "execution_count": 7,
     "metadata": {},
     "output_type": "execute_result"
    }
   ],
   "source": [
    "valid_ds = test_data\n",
    "train_ds = training_data\n",
    "train_ds"
   ]
  },
  {
   "cell_type": "code",
   "execution_count": 8,
   "metadata": {
    "id": "JAFQAJUVr7U2"
   },
   "outputs": [],
   "source": [
    "# Helper functions for exploring the dataset\n",
    "def show_image(img,label):\n",
    "    print('Label: ', train_ds.classes[label],\"(\"+str(label)+\")\")\n",
    "    plt.imshow(img.permute(1,2,0))\n",
    "    \n",
    "def show_batch(dl):\n",
    "    for images, labels in dl:\n",
    "        fig,ax= plt.subplots(figsize=(12,12))\n",
    "        ax.set_xticks([]) #hide ticks\n",
    "        ax.set_yticks([])\n",
    "        ax.imshow(make_grid(images[:64],nrow=8).permute(1,2,0))\n",
    "        break # printing only first 64 images from first batch"
   ]
  },
  {
   "cell_type": "code",
   "execution_count": 9,
   "metadata": {
    "id": "tj5jXuuBri6o"
   },
   "outputs": [],
   "source": [
    "batch_size=400"
   ]
  },
  {
   "cell_type": "code",
   "execution_count": 10,
   "metadata": {
    "id": "n4kCM-hare00"
   },
   "outputs": [],
   "source": [
    "# Dataloader to load data in batches(mini batch)\n",
    "train_dl= DataLoader(train_ds,batch_size,shuffle=True, num_workers=3, pin_memory=True)\n",
    "valid_dl= DataLoader(valid_ds, batch_size, num_workers=3,pin_memory=True)"
   ]
  },
  {
   "cell_type": "code",
   "execution_count": 11,
   "metadata": {
    "id": "lPVFZltRtXt4"
   },
   "outputs": [],
   "source": [
    "def get_default_device():\n",
    "    \"\"\"Pick GPU if available, else CPU\"\"\"\n",
    "    if torch.cuda.is_available():\n",
    "        return torch.device('cuda')\n",
    "    else:\n",
    "        return torch.device('cpu')\n",
    "    \n",
    "def to_device(data, device):\n",
    "    \"\"\"Move tensor(s) to chosen device\"\"\"\n",
    "    if isinstance(data, (list,tuple)):\n",
    "        return [to_device(x, device) for x in data]\n",
    "    return data.to(device, non_blocking=True)\n",
    "\n",
    "class DeviceDataLoader():\n",
    "    \"\"\"Wrap a dataloader to move data to a device\"\"\"\n",
    "    def __init__(self, dl, device):\n",
    "        self.dl = dl\n",
    "        self.device = device\n",
    "        \n",
    "    def __iter__(self):\n",
    "        \"\"\"Yield a batch of data after moving it to device\"\"\"\n",
    "        for b in self.dl: \n",
    "            yield to_device(b, self.device)\n",
    "\n",
    "    def __len__(self):\n",
    "        \"\"\"Number of batches\"\"\"\n",
    "        return len(self.dl)"
   ]
  },
  {
   "cell_type": "code",
   "execution_count": 12,
   "metadata": {
    "colab": {
     "base_uri": "https://localhost:8080/"
    },
    "id": "SOksgE3wtYwZ",
    "outputId": "a9fb69e1-9e00-4139-d791-b7c305a7941a"
   },
   "outputs": [
    {
     "data": {
      "text/plain": [
       "device(type='cuda')"
      ]
     },
     "execution_count": 12,
     "metadata": {},
     "output_type": "execute_result"
    }
   ],
   "source": [
    "device = get_default_device()\n",
    "device"
   ]
  },
  {
   "cell_type": "code",
   "execution_count": 13,
   "metadata": {
    "id": "hfVlteXctb6f"
   },
   "outputs": [],
   "source": [
    "train_dl= DeviceDataLoader(train_dl,device)\n",
    "valid_dl = DeviceDataLoader(valid_dl, device)"
   ]
  },
  {
   "cell_type": "code",
   "execution_count": 14,
   "metadata": {
    "id": "PLmLZHBqtlF_"
   },
   "outputs": [],
   "source": [
    "def accuracy(outputs, labels):\n",
    "    _, preds = torch.max(outputs, dim=1)\n",
    "    return torch.tensor(torch.sum(preds == labels).item() / len(preds))\n",
    "\n",
    "class ImageClassificationBase(nn.Module):\n",
    "    def training_step(self, batch):\n",
    "        images, labels = batch \n",
    "        out = self(images)                  # Generate predictions\n",
    "        loss = F.cross_entropy(out, labels) # Calculate loss\n",
    "        return loss\n",
    "    \n",
    "    def validation_step(self, batch):\n",
    "        images, labels = batch \n",
    "        out = self(images)                    # Generate predictions\n",
    "        loss = F.cross_entropy(out, labels)   # Calculate loss\n",
    "        acc = accuracy(out, labels)           # Calculate accuracy\n",
    "        return {'val_loss': loss.detach(), 'val_acc': acc}\n",
    "        \n",
    "    def validation_epoch_end(self, outputs):\n",
    "        batch_losses = [x['val_loss'] for x in outputs]\n",
    "        epoch_loss = torch.stack(batch_losses).mean()   # Combine losses\n",
    "        batch_accs = [x['val_acc'] for x in outputs]\n",
    "        epoch_acc = torch.stack(batch_accs).mean()      # Combine accuracies\n",
    "        return {'val_loss': epoch_loss.item(), 'val_acc': epoch_acc.item()}\n",
    "    \n",
    "    def epoch_end(self, epoch, result):\n",
    "        print(\"Epoch [{}], train_loss: {:.4f}, val_loss: {:.4f}, val_acc: {:.4f}\".format(\n",
    "            epoch, result['train_loss'], result['val_loss'], result['val_acc']))"
   ]
  },
  {
   "cell_type": "code",
   "execution_count": 15,
   "metadata": {
    "id": "LcaZkKzQtomv"
   },
   "outputs": [],
   "source": [
    "def conv_block(in_channels, out_channels, pool=False):\n",
    "    layers = [nn.Conv2d(in_channels, out_channels, kernel_size=3, padding=1), \n",
    "              nn.BatchNorm2d(out_channels), \n",
    "              nn.ReLU(inplace=True)]\n",
    "    if pool: layers.append(nn.MaxPool2d(2))\n",
    "    return nn.Sequential(*layers)\n",
    "\n",
    "class ResNet9(ImageClassificationBase):\n",
    "    def __init__(self, in_channels, num_classes):\n",
    "        super().__init__()\n",
    "        \n",
    "        self.conv1 = conv_block(in_channels, 64)\n",
    "        self.conv2 = conv_block(64, 128, pool=True)\n",
    "        self.res1 = nn.Sequential(conv_block(128, 128), conv_block(128, 128))\n",
    "        \n",
    "        self.conv3 = conv_block(128, 256, pool=True)\n",
    "        self.conv4 = conv_block(256, 512, pool=True)\n",
    "        self.res2 = nn.Sequential(conv_block(512, 512), conv_block(512, 512))\n",
    "        \n",
    "        self.classifier = nn.Sequential(nn.MaxPool2d(4), \n",
    "                                        nn.Flatten(), \n",
    "                                        nn.Linear(512, num_classes))\n",
    "        \n",
    "    def forward(self, xb):\n",
    "        out = self.conv1(xb)\n",
    "        out = self.conv2(out)\n",
    "        out = self.res1(out) + out\n",
    "        out = self.conv3(out)\n",
    "        out = self.conv4(out)\n",
    "        out = self.res2(out) + out\n",
    "        out = self.classifier(out)\n",
    "        return out"
   ]
  },
  {
   "cell_type": "code",
   "execution_count": 16,
   "metadata": {
    "colab": {
     "base_uri": "https://localhost:8080/"
    },
    "id": "O8BOig0Otrjz",
    "outputId": "a40ce9a4-8852-4595-9525-9841221a3391"
   },
   "outputs": [
    {
     "data": {
      "text/plain": [
       "ResNet9(\n",
       "  (conv1): Sequential(\n",
       "    (0): Conv2d(3, 64, kernel_size=(3, 3), stride=(1, 1), padding=(1, 1))\n",
       "    (1): BatchNorm2d(64, eps=1e-05, momentum=0.1, affine=True, track_running_stats=True)\n",
       "    (2): ReLU(inplace=True)\n",
       "  )\n",
       "  (conv2): Sequential(\n",
       "    (0): Conv2d(64, 128, kernel_size=(3, 3), stride=(1, 1), padding=(1, 1))\n",
       "    (1): BatchNorm2d(128, eps=1e-05, momentum=0.1, affine=True, track_running_stats=True)\n",
       "    (2): ReLU(inplace=True)\n",
       "    (3): MaxPool2d(kernel_size=2, stride=2, padding=0, dilation=1, ceil_mode=False)\n",
       "  )\n",
       "  (res1): Sequential(\n",
       "    (0): Sequential(\n",
       "      (0): Conv2d(128, 128, kernel_size=(3, 3), stride=(1, 1), padding=(1, 1))\n",
       "      (1): BatchNorm2d(128, eps=1e-05, momentum=0.1, affine=True, track_running_stats=True)\n",
       "      (2): ReLU(inplace=True)\n",
       "    )\n",
       "    (1): Sequential(\n",
       "      (0): Conv2d(128, 128, kernel_size=(3, 3), stride=(1, 1), padding=(1, 1))\n",
       "      (1): BatchNorm2d(128, eps=1e-05, momentum=0.1, affine=True, track_running_stats=True)\n",
       "      (2): ReLU(inplace=True)\n",
       "    )\n",
       "  )\n",
       "  (conv3): Sequential(\n",
       "    (0): Conv2d(128, 256, kernel_size=(3, 3), stride=(1, 1), padding=(1, 1))\n",
       "    (1): BatchNorm2d(256, eps=1e-05, momentum=0.1, affine=True, track_running_stats=True)\n",
       "    (2): ReLU(inplace=True)\n",
       "    (3): MaxPool2d(kernel_size=2, stride=2, padding=0, dilation=1, ceil_mode=False)\n",
       "  )\n",
       "  (conv4): Sequential(\n",
       "    (0): Conv2d(256, 512, kernel_size=(3, 3), stride=(1, 1), padding=(1, 1))\n",
       "    (1): BatchNorm2d(512, eps=1e-05, momentum=0.1, affine=True, track_running_stats=True)\n",
       "    (2): ReLU(inplace=True)\n",
       "    (3): MaxPool2d(kernel_size=2, stride=2, padding=0, dilation=1, ceil_mode=False)\n",
       "  )\n",
       "  (res2): Sequential(\n",
       "    (0): Sequential(\n",
       "      (0): Conv2d(512, 512, kernel_size=(3, 3), stride=(1, 1), padding=(1, 1))\n",
       "      (1): BatchNorm2d(512, eps=1e-05, momentum=0.1, affine=True, track_running_stats=True)\n",
       "      (2): ReLU(inplace=True)\n",
       "    )\n",
       "    (1): Sequential(\n",
       "      (0): Conv2d(512, 512, kernel_size=(3, 3), stride=(1, 1), padding=(1, 1))\n",
       "      (1): BatchNorm2d(512, eps=1e-05, momentum=0.1, affine=True, track_running_stats=True)\n",
       "      (2): ReLU(inplace=True)\n",
       "    )\n",
       "  )\n",
       "  (classifier): Sequential(\n",
       "    (0): MaxPool2d(kernel_size=4, stride=4, padding=0, dilation=1, ceil_mode=False)\n",
       "    (1): Flatten(start_dim=1, end_dim=-1)\n",
       "    (2): Linear(in_features=512, out_features=10, bias=True)\n",
       "  )\n",
       ")"
      ]
     },
     "execution_count": 16,
     "metadata": {},
     "output_type": "execute_result"
    }
   ],
   "source": [
    "model= to_device(ResNet9(3,10), device)\n",
    "model"
   ]
  },
  {
   "cell_type": "code",
   "execution_count": 17,
   "metadata": {
    "id": "hmbJUvR3t0QY"
   },
   "outputs": [],
   "source": [
    "@torch.no_grad()\n",
    "def evaluate(model, val_loader):\n",
    "    model.eval()\n",
    "    outputs = [model.validation_step(batch) for batch in val_loader]\n",
    "    return model.validation_epoch_end(outputs)\n",
    "\n",
    "def get_lr(optimizer):\n",
    "    for param_group in optimizer.param_groups:\n",
    "        return param_group['lr']\n",
    "\n",
    "def fit_one_cycle(epochs, max_lr, model, train_loader, val_loader, \n",
    "                  weight_decay=0, grad_clip=None, opt_func=torch.optim.SGD):\n",
    "    torch.cuda.empty_cache()  # Realsing cuda memory otherwise might get cuda out of memory error\n",
    "    history = []\n",
    "    \n",
    "    #custom optimizer with weight decay\n",
    "    optimizer = opt_func(model.parameters(), max_lr, weight_decay=weight_decay)\n",
    "    # Set up one-cycle learning rate scheduler\n",
    "    sched = torch.optim.lr_scheduler.OneCycleLR(optimizer, max_lr, epochs=epochs, \n",
    "                                                steps_per_epoch=len(train_loader),cycle_momentum=False)\n",
    "    \n",
    "    for epoch in range(epochs):\n",
    "        # Training Phase \n",
    "        model.train() #Setting training mode\n",
    "        train_losses = []\n",
    "        lrs = []\n",
    "        for batch in train_loader:\n",
    "            loss = model.training_step(batch)\n",
    "            train_losses.append(loss)\n",
    "            loss.backward()\n",
    "            \n",
    "            # Gradient clipping\n",
    "            if grad_clip: \n",
    "                nn.utils.clip_grad_value_(model.parameters(), grad_clip)\n",
    "            \n",
    "            optimizer.step()\n",
    "            optimizer.zero_grad()\n",
    "            \n",
    "            # Record & update learning rate\n",
    "            lrs.append(get_lr(optimizer))\n",
    "            sched.step()\n",
    "        \n",
    "        # Validation phase\n",
    "        result = evaluate(model, val_loader)\n",
    "        result['train_loss'] = torch.stack(train_losses).mean().item()\n",
    "        result['lrs'] = lrs\n",
    "        model.epoch_end(epoch, result)\n",
    "        history.append(result)\n",
    "    return history"
   ]
  },
  {
   "cell_type": "code",
   "execution_count": 18,
   "metadata": {
    "colab": {
     "base_uri": "https://localhost:8080/"
    },
    "id": "_TPdh3fbt1fH",
    "outputId": "a22ad739-4bd6-459d-f905-64450f06bf4c"
   },
   "outputs": [
    {
     "data": {
      "text/plain": [
       "[{'val_loss': 2.300837993621826, 'val_acc': 0.10000000149011612}]"
      ]
     },
     "execution_count": 18,
     "metadata": {},
     "output_type": "execute_result"
    }
   ],
   "source": [
    "# Smoke test: if something's wrong with how we set up our model, we'll see it now\n",
    "history = [evaluate(model, valid_dl)]\n",
    "history"
   ]
  },
  {
   "cell_type": "code",
   "execution_count": 19,
   "metadata": {
    "id": "fFL3dFDnt6pb"
   },
   "outputs": [],
   "source": [
    "epochs = 160\n",
    "max_lr = 0.05\n",
    "grad_clip = 0.1\n",
    "weight_decay = 1e-4\n",
    "opt_func = torch.optim.Adadelta"
   ]
  },
  {
   "cell_type": "code",
   "execution_count": 20,
   "metadata": {
    "colab": {
     "base_uri": "https://localhost:8080/"
    },
    "id": "01CAjQi2t8Ub",
    "outputId": "776b2d7d-902f-4f3c-ece0-24ccd16c4d53"
   },
   "outputs": [
    {
     "name": "stdout",
     "output_type": "stream",
     "text": [
      "Epoch [0], train_loss: 2.0098, val_loss: 1.6763, val_acc: 0.4088\n",
      "Epoch [1], train_loss: 1.6185, val_loss: 1.4874, val_acc: 0.4718\n",
      "Epoch [2], train_loss: 1.4767, val_loss: 1.3749, val_acc: 0.5092\n",
      "Epoch [3], train_loss: 1.3848, val_loss: 1.2902, val_acc: 0.5421\n",
      "Epoch [4], train_loss: 1.3045, val_loss: 1.2207, val_acc: 0.5661\n",
      "Epoch [5], train_loss: 1.2416, val_loss: 1.1627, val_acc: 0.5885\n",
      "Epoch [6], train_loss: 1.1744, val_loss: 1.1077, val_acc: 0.6080\n",
      "Epoch [7], train_loss: 1.1197, val_loss: 1.0537, val_acc: 0.6283\n",
      "Epoch [8], train_loss: 1.0656, val_loss: 1.0095, val_acc: 0.6522\n",
      "Epoch [9], train_loss: 1.0131, val_loss: 0.9841, val_acc: 0.6531\n",
      "Epoch [10], train_loss: 0.9679, val_loss: 0.9478, val_acc: 0.6669\n",
      "Epoch [11], train_loss: 0.9199, val_loss: 0.9497, val_acc: 0.6648\n",
      "Epoch [12], train_loss: 0.8807, val_loss: 0.9252, val_acc: 0.6679\n",
      "Epoch [13], train_loss: 0.8424, val_loss: 0.8663, val_acc: 0.6928\n",
      "Epoch [14], train_loss: 0.8077, val_loss: 0.8253, val_acc: 0.7101\n",
      "Epoch [15], train_loss: 0.7737, val_loss: 0.7702, val_acc: 0.7292\n",
      "Epoch [16], train_loss: 0.7382, val_loss: 0.7719, val_acc: 0.7265\n",
      "Epoch [17], train_loss: 0.7050, val_loss: 0.7350, val_acc: 0.7478\n",
      "Epoch [18], train_loss: 0.6777, val_loss: 0.7560, val_acc: 0.7383\n",
      "Epoch [19], train_loss: 0.6493, val_loss: 0.8257, val_acc: 0.7167\n",
      "Epoch [20], train_loss: 0.6193, val_loss: 0.7284, val_acc: 0.7480\n",
      "Epoch [21], train_loss: 0.5917, val_loss: 0.6705, val_acc: 0.7695\n",
      "Epoch [22], train_loss: 0.5700, val_loss: 0.6598, val_acc: 0.7696\n",
      "Epoch [23], train_loss: 0.5417, val_loss: 0.6051, val_acc: 0.7930\n",
      "Epoch [24], train_loss: 0.5203, val_loss: 0.6614, val_acc: 0.7643\n",
      "Epoch [25], train_loss: 0.5013, val_loss: 0.6995, val_acc: 0.7596\n",
      "Epoch [26], train_loss: 0.4777, val_loss: 0.5650, val_acc: 0.8072\n",
      "Epoch [27], train_loss: 0.4571, val_loss: 0.7391, val_acc: 0.7562\n",
      "Epoch [28], train_loss: 0.4433, val_loss: 0.5279, val_acc: 0.8189\n",
      "Epoch [29], train_loss: 0.4197, val_loss: 0.5632, val_acc: 0.8100\n",
      "Epoch [30], train_loss: 0.3995, val_loss: 0.7730, val_acc: 0.7545\n",
      "Epoch [31], train_loss: 0.3876, val_loss: 0.6685, val_acc: 0.7855\n",
      "Epoch [32], train_loss: 0.3709, val_loss: 0.7685, val_acc: 0.7528\n",
      "Epoch [33], train_loss: 0.3569, val_loss: 0.6129, val_acc: 0.7973\n",
      "Epoch [34], train_loss: 0.3393, val_loss: 0.5196, val_acc: 0.8254\n",
      "Epoch [35], train_loss: 0.3301, val_loss: 0.5177, val_acc: 0.8239\n",
      "Epoch [36], train_loss: 0.3113, val_loss: 0.5242, val_acc: 0.8267\n",
      "Epoch [37], train_loss: 0.3008, val_loss: 0.5113, val_acc: 0.8303\n",
      "Epoch [38], train_loss: 0.2864, val_loss: 0.7153, val_acc: 0.7712\n",
      "Epoch [39], train_loss: 0.2750, val_loss: 0.4808, val_acc: 0.8429\n",
      "Epoch [40], train_loss: 0.2648, val_loss: 0.7188, val_acc: 0.7792\n",
      "Epoch [41], train_loss: 0.2541, val_loss: 0.4885, val_acc: 0.8386\n",
      "Epoch [42], train_loss: 0.2385, val_loss: 0.7004, val_acc: 0.7707\n",
      "Epoch [43], train_loss: 0.2293, val_loss: 0.4689, val_acc: 0.8485\n",
      "Epoch [44], train_loss: 0.2151, val_loss: 0.4967, val_acc: 0.8308\n",
      "Epoch [45], train_loss: 0.2049, val_loss: 0.5208, val_acc: 0.8299\n",
      "Epoch [46], train_loss: 0.1951, val_loss: 0.4725, val_acc: 0.8483\n",
      "Epoch [47], train_loss: 0.1848, val_loss: 0.4428, val_acc: 0.8556\n",
      "Epoch [48], train_loss: 0.1754, val_loss: 0.4473, val_acc: 0.8537\n",
      "Epoch [49], train_loss: 0.1657, val_loss: 0.5294, val_acc: 0.8294\n",
      "Epoch [50], train_loss: 0.1606, val_loss: 0.4678, val_acc: 0.8533\n",
      "Epoch [51], train_loss: 0.1522, val_loss: 0.3829, val_acc: 0.8712\n",
      "Epoch [52], train_loss: 0.1436, val_loss: 0.6304, val_acc: 0.8136\n",
      "Epoch [53], train_loss: 0.1357, val_loss: 0.7415, val_acc: 0.7821\n",
      "Epoch [54], train_loss: 0.1286, val_loss: 0.4601, val_acc: 0.8517\n",
      "Epoch [55], train_loss: 0.1211, val_loss: 0.5061, val_acc: 0.8451\n",
      "Epoch [56], train_loss: 0.1170, val_loss: 0.4632, val_acc: 0.8568\n",
      "Epoch [57], train_loss: 0.1087, val_loss: 0.4157, val_acc: 0.8720\n",
      "Epoch [58], train_loss: 0.1054, val_loss: 0.4742, val_acc: 0.8576\n",
      "Epoch [59], train_loss: 0.0967, val_loss: 0.4835, val_acc: 0.8568\n",
      "Epoch [60], train_loss: 0.0941, val_loss: 0.3874, val_acc: 0.8781\n",
      "Epoch [61], train_loss: 0.0881, val_loss: 0.4280, val_acc: 0.8690\n",
      "Epoch [62], train_loss: 0.0841, val_loss: 0.3989, val_acc: 0.8789\n",
      "Epoch [63], train_loss: 0.0773, val_loss: 0.4498, val_acc: 0.8692\n",
      "Epoch [64], train_loss: 0.0766, val_loss: 0.4991, val_acc: 0.8553\n",
      "Epoch [65], train_loss: 0.0729, val_loss: 0.5342, val_acc: 0.8452\n",
      "Epoch [66], train_loss: 0.0658, val_loss: 0.4064, val_acc: 0.8778\n",
      "Epoch [67], train_loss: 0.0640, val_loss: 0.4721, val_acc: 0.8612\n",
      "Epoch [68], train_loss: 0.0623, val_loss: 0.4839, val_acc: 0.8623\n",
      "Epoch [69], train_loss: 0.0577, val_loss: 0.4510, val_acc: 0.8640\n",
      "Epoch [70], train_loss: 0.0540, val_loss: 0.6118, val_acc: 0.8381\n",
      "Epoch [71], train_loss: 0.0511, val_loss: 0.4047, val_acc: 0.8834\n",
      "Epoch [72], train_loss: 0.0482, val_loss: 0.4450, val_acc: 0.8759\n",
      "Epoch [73], train_loss: 0.0471, val_loss: 0.4374, val_acc: 0.8722\n",
      "Epoch [74], train_loss: 0.0448, val_loss: 0.4406, val_acc: 0.8767\n",
      "Epoch [75], train_loss: 0.0413, val_loss: 0.5193, val_acc: 0.8675\n",
      "Epoch [76], train_loss: 0.0388, val_loss: 0.4513, val_acc: 0.8763\n",
      "Epoch [77], train_loss: 0.0363, val_loss: 0.3860, val_acc: 0.8906\n",
      "Epoch [78], train_loss: 0.0348, val_loss: 0.4219, val_acc: 0.8854\n",
      "Epoch [79], train_loss: 0.0344, val_loss: 0.5487, val_acc: 0.8531\n",
      "Epoch [80], train_loss: 0.0307, val_loss: 0.5622, val_acc: 0.8523\n",
      "Epoch [81], train_loss: 0.0281, val_loss: 0.3840, val_acc: 0.8933\n",
      "Epoch [82], train_loss: 0.0274, val_loss: 0.3696, val_acc: 0.8931\n",
      "Epoch [83], train_loss: 0.0265, val_loss: 0.3933, val_acc: 0.8918\n",
      "Epoch [84], train_loss: 0.0246, val_loss: 0.4170, val_acc: 0.8862\n",
      "Epoch [85], train_loss: 0.0235, val_loss: 0.4456, val_acc: 0.8824\n",
      "Epoch [86], train_loss: 0.0219, val_loss: 0.4948, val_acc: 0.8748\n",
      "Epoch [87], train_loss: 0.0214, val_loss: 0.4048, val_acc: 0.8932\n",
      "Epoch [88], train_loss: 0.0201, val_loss: 0.3901, val_acc: 0.8951\n",
      "Epoch [89], train_loss: 0.0190, val_loss: 0.4259, val_acc: 0.8910\n",
      "Epoch [90], train_loss: 0.0178, val_loss: 0.3776, val_acc: 0.8970\n",
      "Epoch [91], train_loss: 0.0165, val_loss: 0.4072, val_acc: 0.8932\n",
      "Epoch [92], train_loss: 0.0157, val_loss: 0.3927, val_acc: 0.8949\n",
      "Epoch [93], train_loss: 0.0149, val_loss: 0.3902, val_acc: 0.8991\n",
      "Epoch [94], train_loss: 0.0150, val_loss: 0.4221, val_acc: 0.8932\n",
      "Epoch [95], train_loss: 0.0131, val_loss: 0.3823, val_acc: 0.9002\n",
      "Epoch [96], train_loss: 0.0116, val_loss: 0.3958, val_acc: 0.8978\n",
      "Epoch [97], train_loss: 0.0112, val_loss: 0.3834, val_acc: 0.9027\n",
      "Epoch [98], train_loss: 0.0108, val_loss: 0.4151, val_acc: 0.8929\n",
      "Epoch [99], train_loss: 0.0110, val_loss: 0.3992, val_acc: 0.8982\n",
      "Epoch [100], train_loss: 0.0107, val_loss: 0.3897, val_acc: 0.9007\n",
      "Epoch [101], train_loss: 0.0093, val_loss: 0.3934, val_acc: 0.9011\n",
      "Epoch [102], train_loss: 0.0088, val_loss: 0.3810, val_acc: 0.9029\n",
      "Epoch [103], train_loss: 0.0088, val_loss: 0.3886, val_acc: 0.9034\n",
      "Epoch [104], train_loss: 0.0081, val_loss: 0.3981, val_acc: 0.8985\n",
      "Epoch [105], train_loss: 0.0081, val_loss: 0.3907, val_acc: 0.9019\n",
      "Epoch [106], train_loss: 0.0088, val_loss: 0.3812, val_acc: 0.9058\n",
      "Epoch [107], train_loss: 0.0074, val_loss: 0.3978, val_acc: 0.8999\n",
      "Epoch [108], train_loss: 0.0073, val_loss: 0.3858, val_acc: 0.9020\n",
      "Epoch [109], train_loss: 0.0068, val_loss: 0.3846, val_acc: 0.9019\n",
      "Epoch [110], train_loss: 0.0064, val_loss: 0.4126, val_acc: 0.9017\n",
      "Epoch [111], train_loss: 0.0066, val_loss: 0.3813, val_acc: 0.9046\n",
      "Epoch [112], train_loss: 0.0062, val_loss: 0.4022, val_acc: 0.8987\n",
      "Epoch [113], train_loss: 0.0062, val_loss: 0.4156, val_acc: 0.9000\n",
      "Epoch [114], train_loss: 0.0059, val_loss: 0.3838, val_acc: 0.9039\n",
      "Epoch [115], train_loss: 0.0057, val_loss: 0.3875, val_acc: 0.9025\n",
      "Epoch [116], train_loss: 0.0054, val_loss: 0.3856, val_acc: 0.9018\n",
      "Epoch [117], train_loss: 0.0051, val_loss: 0.3929, val_acc: 0.9026\n",
      "Epoch [118], train_loss: 0.0048, val_loss: 0.3979, val_acc: 0.8998\n",
      "Epoch [119], train_loss: 0.0047, val_loss: 0.3890, val_acc: 0.9041\n",
      "Epoch [120], train_loss: 0.0047, val_loss: 0.3916, val_acc: 0.9046\n",
      "Epoch [121], train_loss: 0.0047, val_loss: 0.3957, val_acc: 0.9019\n",
      "Epoch [122], train_loss: 0.0045, val_loss: 0.3896, val_acc: 0.9045\n",
      "Epoch [123], train_loss: 0.0042, val_loss: 0.3867, val_acc: 0.9036\n",
      "Epoch [124], train_loss: 0.0043, val_loss: 0.3921, val_acc: 0.9050\n",
      "Epoch [125], train_loss: 0.0042, val_loss: 0.3955, val_acc: 0.9018\n",
      "Epoch [126], train_loss: 0.0039, val_loss: 0.3961, val_acc: 0.9031\n",
      "Epoch [127], train_loss: 0.0040, val_loss: 0.3902, val_acc: 0.9040\n",
      "Epoch [128], train_loss: 0.0040, val_loss: 0.3918, val_acc: 0.9032\n",
      "Epoch [129], train_loss: 0.0038, val_loss: 0.3901, val_acc: 0.9027\n",
      "Epoch [130], train_loss: 0.0037, val_loss: 0.3966, val_acc: 0.9040\n",
      "Epoch [131], train_loss: 0.0038, val_loss: 0.3928, val_acc: 0.9040\n",
      "Epoch [132], train_loss: 0.0035, val_loss: 0.3912, val_acc: 0.9061\n",
      "Epoch [133], train_loss: 0.0035, val_loss: 0.3888, val_acc: 0.9062\n",
      "Epoch [134], train_loss: 0.0033, val_loss: 0.3893, val_acc: 0.9044\n",
      "Epoch [135], train_loss: 0.0036, val_loss: 0.3890, val_acc: 0.9062\n",
      "Epoch [136], train_loss: 0.0034, val_loss: 0.3888, val_acc: 0.9056\n",
      "Epoch [137], train_loss: 0.0035, val_loss: 0.3892, val_acc: 0.9055\n",
      "Epoch [138], train_loss: 0.0035, val_loss: 0.3893, val_acc: 0.9055\n",
      "Epoch [139], train_loss: 0.0032, val_loss: 0.3899, val_acc: 0.9060\n",
      "Epoch [140], train_loss: 0.0032, val_loss: 0.3897, val_acc: 0.9058\n",
      "Epoch [141], train_loss: 0.0034, val_loss: 0.3895, val_acc: 0.9054\n",
      "Epoch [142], train_loss: 0.0031, val_loss: 0.3907, val_acc: 0.9057\n",
      "Epoch [143], train_loss: 0.0033, val_loss: 0.3905, val_acc: 0.9051\n",
      "Epoch [144], train_loss: 0.0032, val_loss: 0.3899, val_acc: 0.9063\n",
      "Epoch [145], train_loss: 0.0032, val_loss: 0.3895, val_acc: 0.9057\n",
      "Epoch [146], train_loss: 0.0031, val_loss: 0.3894, val_acc: 0.9062\n",
      "Epoch [147], train_loss: 0.0031, val_loss: 0.3899, val_acc: 0.9063\n",
      "Epoch [148], train_loss: 0.0033, val_loss: 0.3897, val_acc: 0.9053\n",
      "Epoch [149], train_loss: 0.0033, val_loss: 0.3885, val_acc: 0.9060\n",
      "Epoch [150], train_loss: 0.0030, val_loss: 0.3891, val_acc: 0.9059\n",
      "Epoch [151], train_loss: 0.0031, val_loss: 0.3893, val_acc: 0.9067\n",
      "Epoch [152], train_loss: 0.0032, val_loss: 0.3892, val_acc: 0.9061\n",
      "Epoch [153], train_loss: 0.0029, val_loss: 0.3895, val_acc: 0.9053\n",
      "Epoch [154], train_loss: 0.0030, val_loss: 0.3896, val_acc: 0.9053\n",
      "Epoch [155], train_loss: 0.0032, val_loss: 0.3901, val_acc: 0.9057\n",
      "Epoch [156], train_loss: 0.0033, val_loss: 0.3888, val_acc: 0.9066\n",
      "Epoch [157], train_loss: 0.0030, val_loss: 0.3894, val_acc: 0.9060\n",
      "Epoch [158], train_loss: 0.0031, val_loss: 0.3902, val_acc: 0.9060\n",
      "Epoch [159], train_loss: 0.0032, val_loss: 0.3891, val_acc: 0.9058\n",
      "CPU times: user 23min 24s, sys: 9min 46s, total: 33min 11s\n",
      "Wall time: 35min 29s\n"
     ]
    }
   ],
   "source": [
    "%%time\n",
    "history += fit_one_cycle(epochs, max_lr, model, train_dl, valid_dl, \n",
    "                             grad_clip=grad_clip, \n",
    "                             weight_decay=weight_decay, \n",
    "                             opt_func=opt_func)"
   ]
  },
  {
   "cell_type": "code",
   "execution_count": 21,
   "metadata": {
    "id": "jvJzQAeNjB6Y"
   },
   "outputs": [],
   "source": [
    "def plot_accuracies(history):\n",
    "    accuracies = [x['val_acc'] for x in history]\n",
    "    plt.figure(figsize=(10,6))\n",
    "    plt.plot(accuracies, '-x')\n",
    "    plt.xlabel('epoch')\n",
    "    plt.ylabel('accuracy')\n",
    "    plt.title('Accuracy vs. No. of epochs');"
   ]
  },
  {
   "cell_type": "code",
   "execution_count": 22,
   "metadata": {
    "colab": {
     "base_uri": "https://localhost:8080/",
     "height": 171
    },
    "id": "fYuANPlfjIvt",
    "outputId": "08453f89-0933-4bd9-e02a-d760aad8714f"
   },
   "outputs": [
    {
     "data": {
      "image/png": "[encoded data removed]",
      "text/plain": [
       "<Figure size 720x432 with 1 Axes>"
      ]
     },
     "metadata": {
      "needs_background": "light"
     },
     "output_type": "display_data"
    }
   ],
   "source": [
    "plot_accuracies(history)"
   ]
  },
  {
   "cell_type": "code",
   "execution_count": 23,
   "metadata": {
    "id": "JV6cn39HjTF-"
   },
   "outputs": [],
   "source": [
    "def plot_losses(history):\n",
    "    train_losses = [x.get('train_loss') for x in history]\n",
    "    val_losses = [x['val_loss'] for x in history]\n",
    "    plt.figure(figsize=(10,6))\n",
    "    plt.plot(train_losses, '-bx')\n",
    "    plt.plot(val_losses, '-rx')\n",
    "    plt.xlabel('epoch')\n",
    "    plt.ylabel('loss')\n",
    "    plt.legend(['Training', 'Validation'])\n",
    "    plt.title('Loss vs. No. of epochs');"
   ]
  },
  {
   "cell_type": "code",
   "execution_count": 24,
   "metadata": {
    "colab": {
     "base_uri": "https://localhost:8080/",
     "height": 171
    },
    "id": "kuky-BEDjUw_",
    "outputId": "e33b1eb9-e7c7-483d-829a-75bce6a074ae"
   },
   "outputs": [
    {
     "data": {
      "image/png": "[encoded data removed]",
      "text/plain": [
       "<Figure size 720x432 with 1 Axes>"
      ]
     },
     "metadata": {
      "needs_background": "light"
     },
     "output_type": "display_data"
    }
   ],
   "source": [
    "plot_losses(history)"
   ]
  },
  {
   "cell_type": "code",
   "execution_count": 25,
   "metadata": {
    "id": "ToUcs2S6jZl_"
   },
   "outputs": [],
   "source": [
    "def plot_lrs(history):\n",
    "    lrs = np.concatenate([x.get('lrs', []) for x in history])\n",
    "    plt.figure(figsize=(10,6))\n",
    "    plt.plot(lrs)\n",
    "    plt.xlabel('Batch no.')\n",
    "    plt.ylabel('Learning rate')\n",
    "    plt.title('Learning Rate vs. Batch no.');"
   ]
  },
  {
   "cell_type": "code",
   "execution_count": 26,
   "metadata": {
    "colab": {
     "base_uri": "https://localhost:8080/",
     "height": 171
    },
    "id": "V1ao5oIJjboF",
    "outputId": "23d3a338-12ab-42be-b2de-8a2b3d55ccae"
   },
   "outputs": [
    {
     "data": {
      "image/png": "[encoded data removed]",
      "text/plain": [
       "<Figure size 720x432 with 1 Axes>"
      ]
     },
     "metadata": {
      "needs_background": "light"
     },
     "output_type": "display_data"
    }
   ],
   "source": [
    "plot_lrs(history)"
   ]
  }
 ],
 "metadata": {
  "accelerator": "GPU",
  "colab": {
   "collapsed_sections": [],
   "include_colab_link": true,
   "name": "kaggle94gpu.ipynb",
   "provenance": []
  },
  "kernelspec": {
   "display_name": "Python 3",
   "language": "python",
   "name": "python3"
  },
  "language_info": {
   "codemirror_mode": {
    "name": "ipython",
    "version": 3
   },
   "file_extension": ".py",
   "mimetype": "text/x-python",
   "name": "python",
   "nbconvert_exporter": "python",
   "pygments_lexer": "ipython3",
   "version": "3.6.9"
  },
  "widgets": {
   "application/vnd.jupyter.widget-state+json": {
    "0433c9c034b7466a98118f517c9ae2e8": {
     "model_module": "@jupyter-widgets/base",
     "model_module_version": "1.2.0",
     "model_name": "LayoutModel",
     "state": {
      "_model_module": "@jupyter-widgets/base",
      "_model_module_version": "1.2.0",
      "_model_name": "LayoutModel",
      "_view_count": null,
      "_view_module": "@jupyter-widgets/base",
      "_view_module_version": "1.2.0",
      "_view_name": "LayoutView",
      "align_content": null,
      "align_items": null,
      "align_self": null,
      "border": null,
      "bottom": null,
      "display": null,
      "flex": null,
      "flex_flow": null,
      "grid_area": null,
      "grid_auto_columns": null,
      "grid_auto_flow": null,
      "grid_auto_rows": null,
      "grid_column": null,
      "grid_gap": null,
      "grid_row": null,
      "grid_template_areas": null,
      "grid_template_columns": null,
      "grid_template_rows": null,
      "height": null,
      "justify_content": null,
      "justify_items": null,
      "left": null,
      "margin": null,
      "max_height": null,
      "max_width": null,
      "min_height": null,
      "min_width": null,
      "object_fit": null,
      "object_position": null,
      "order": null,
      "overflow": null,
      "overflow_x": null,
      "overflow_y": null,
      "padding": null,
      "right": null,
      "top": null,
      "visibility": null,
      "width": null
     }
    },
    "29225a4d667e47f980b33c95c0850d16": {
     "model_module": "@jupyter-widgets/controls",
     "model_module_version": "1.5.0",
     "model_name": "DescriptionStyleModel",
     "state": {
      "_model_module": "@jupyter-widgets/controls",
      "_model_module_version": "1.5.0",
      "_model_name": "DescriptionStyleModel",
      "_view_count": null,
      "_view_module": "@jupyter-widgets/base",
      "_view_module_version": "1.2.0",
      "_view_name": "StyleView",
      "description_width": ""
     }
    },
    "350d156265104e2296caf536b05d26cc": {
     "model_module": "@jupyter-widgets/controls",
     "model_module_version": "1.5.0",
     "model_name": "FloatProgressModel",
     "state": {
      "_dom_classes": [],
      "_model_module": "@jupyter-widgets/controls",
      "_model_module_version": "1.5.0",
      "_model_name": "FloatProgressModel",
      "_view_count": null,
      "_view_module": "@jupyter-widgets/controls",
      "_view_module_version": "1.5.0",
      "_view_name": "ProgressView",
      "bar_style": "success",
      "description": "",
      "description_tooltip": null,
      "layout": "IPY_MODEL_9ae1047b1b184d81bde7c14ca6ad72d5",
      "max": 170498071,
      "min": 0,
      "orientation": "horizontal",
      "style": "IPY_MODEL_37da94684df543f3a81fe78c389f68dc",
      "value": 170498071
     }
    },
    "37da94684df543f3a81fe78c389f68dc": {
     "model_module": "@jupyter-widgets/controls",
     "model_module_version": "1.5.0",
     "model_name": "ProgressStyleModel",
     "state": {
      "_model_module": "@jupyter-widgets/controls",
      "_model_module_version": "1.5.0",
      "_model_name": "ProgressStyleModel",
      "_view_count": null,
      "_view_module": "@jupyter-widgets/base",
      "_view_module_version": "1.2.0",
      "_view_name": "StyleView",
      "bar_color": null,
      "description_width": ""
     }
    },
    "40b5952c97aa40169739936f0d549d02": {
     "model_module": "@jupyter-widgets/controls",
     "model_module_version": "1.5.0",
     "model_name": "HTMLModel",
     "state": {
      "_dom_classes": [],
      "_model_module": "@jupyter-widgets/controls",
      "_model_module_version": "1.5.0",
      "_model_name": "HTMLModel",
      "_view_count": null,
      "_view_module": "@jupyter-widgets/controls",
      "_view_module_version": "1.5.0",
      "_view_name": "HTMLView",
      "description": "",
      "description_tooltip": null,
      "layout": "IPY_MODEL_0433c9c034b7466a98118f517c9ae2e8",
      "placeholder": "​",
      "style": "IPY_MODEL_fb9ab6c5d81f48089ac0d9dc03c72e6b",
      "value": " 170499072/? [00:02&lt;00:00, 62626240.17it/s]"
     }
    },
    "4c7fbb2405c84d7887d63fd6217cba4a": {
     "model_module": "@jupyter-widgets/controls",
     "model_module_version": "1.5.0",
     "model_name": "HTMLModel",
     "state": {
      "_dom_classes": [],
      "_model_module": "@jupyter-widgets/controls",
      "_model_module_version": "1.5.0",
      "_model_name": "HTMLModel",
      "_view_count": null,
      "_view_module": "@jupyter-widgets/controls",
      "_view_module_version": "1.5.0",
      "_view_name": "HTMLView",
      "description": "",
      "description_tooltip": null,
      "layout": "IPY_MODEL_a448b41c426a4810a07d5eb92df1bc21",
      "placeholder": "​",
      "style": "IPY_MODEL_29225a4d667e47f980b33c95c0850d16",
      "value": ""
     }
    },
    "50c9aed288f14fcd94009217a59c91ff": {
     "model_module": "@jupyter-widgets/base",
     "model_module_version": "1.2.0",
     "model_name": "LayoutModel",
     "state": {
      "_model_module": "@jupyter-widgets/base",
      "_model_module_version": "1.2.0",
      "_model_name": "LayoutModel",
      "_view_count": null,
      "_view_module": "@jupyter-widgets/base",
      "_view_module_version": "1.2.0",
      "_view_name": "LayoutView",
      "align_content": null,
      "align_items": null,
      "align_self": null,
      "border": null,
      "bottom": null,
      "display": null,
      "flex": null,
      "flex_flow": null,
      "grid_area": null,
      "grid_auto_columns": null,
      "grid_auto_flow": null,
      "grid_auto_rows": null,
      "grid_column": null,
      "grid_gap": null,
      "grid_row": null,
      "grid_template_areas": null,
      "grid_template_columns": null,
      "grid_template_rows": null,
      "height": null,
      "justify_content": null,
      "justify_items": null,
      "left": null,
      "margin": null,
      "max_height": null,
      "max_width": null,
      "min_height": null,
      "min_width": null,
      "object_fit": null,
      "object_position": null,
      "order": null,
      "overflow": null,
      "overflow_x": null,
      "overflow_y": null,
      "padding": null,
      "right": null,
      "top": null,
      "visibility": null,
      "width": null
     }
    },
    "9ae1047b1b184d81bde7c14ca6ad72d5": {
     "model_module": "@jupyter-widgets/base",
     "model_module_version": "1.2.0",
     "model_name": "LayoutModel",
     "state": {
      "_model_module": "@jupyter-widgets/base",
      "_model_module_version": "1.2.0",
      "_model_name": "LayoutModel",
      "_view_count": null,
      "_view_module": "@jupyter-widgets/base",
      "_view_module_version": "1.2.0",
      "_view_name": "LayoutView",
      "align_content": null,
      "align_items": null,
      "align_self": null,
      "border": null,
      "bottom": null,
      "display": null,
      "flex": null,
      "flex_flow": null,
      "grid_area": null,
      "grid_auto_columns": null,
      "grid_auto_flow": null,
      "grid_auto_rows": null,
      "grid_column": null,
      "grid_gap": null,
      "grid_row": null,
      "grid_template_areas": null,
      "grid_template_columns": null,
      "grid_template_rows": null,
      "height": null,
      "justify_content": null,
      "justify_items": null,
      "left": null,
      "margin": null,
      "max_height": null,
      "max_width": null,
      "min_height": null,
      "min_width": null,
      "object_fit": null,
      "object_position": null,
      "order": null,
      "overflow": null,
      "overflow_x": null,
      "overflow_y": null,
      "padding": null,
      "right": null,
      "top": null,
      "visibility": null,
      "width": null
     }
    },
    "a448b41c426a4810a07d5eb92df1bc21": {
     "model_module": "@jupyter-widgets/base",
     "model_module_version": "1.2.0",
     "model_name": "LayoutModel",
     "state": {
      "_model_module": "@jupyter-widgets/base",
      "_model_module_version": "1.2.0",
      "_model_name": "LayoutModel",
      "_view_count": null,
      "_view_module": "@jupyter-widgets/base",
      "_view_module_version": "1.2.0",
      "_view_name": "LayoutView",
      "align_content": null,
      "align_items": null,
      "align_self": null,
      "border": null,
      "bottom": null,
      "display": null,
      "flex": null,
      "flex_flow": null,
      "grid_area": null,
      "grid_auto_columns": null,
      "grid_auto_flow": null,
      "grid_auto_rows": null,
      "grid_column": null,
      "grid_gap": null,
      "grid_row": null,
      "grid_template_areas": null,
      "grid_template_columns": null,
      "grid_template_rows": null,
      "height": null,
      "justify_content": null,
      "justify_items": null,
      "left": null,
      "margin": null,
      "max_height": null,
      "max_width": null,
      "min_height": null,
      "min_width": null,
      "object_fit": null,
      "object_position": null,
      "order": null,
      "overflow": null,
      "overflow_x": null,
      "overflow_y": null,
      "padding": null,
      "right": null,
      "top": null,
      "visibility": null,
      "width": null
     }
    },
    "c974d31e436a42899adbf2ef969307a4": {
     "model_module": "@jupyter-widgets/controls",
     "model_module_version": "1.5.0",
     "model_name": "HBoxModel",
     "state": {
      "_dom_classes": [],
      "_model_module": "@jupyter-widgets/controls",
      "_model_module_version": "1.5.0",
      "_model_name": "HBoxModel",
      "_view_count": null,
      "_view_module": "@jupyter-widgets/controls",
      "_view_module_version": "1.5.0",
      "_view_name": "HBoxView",
      "box_style": "",
      "children": [
       "IPY_MODEL_4c7fbb2405c84d7887d63fd6217cba4a",
       "IPY_MODEL_350d156265104e2296caf536b05d26cc",
       "IPY_MODEL_40b5952c97aa40169739936f0d549d02"
      ],
      "layout": "IPY_MODEL_50c9aed288f14fcd94009217a59c91ff"
     }
    },
    "fb9ab6c5d81f48089ac0d9dc03c72e6b": {
     "model_module": "@jupyter-widgets/controls",
     "model_module_version": "1.5.0",
     "model_name": "DescriptionStyleModel",
     "state": {
      "_model_module": "@jupyter-widgets/controls",
      "_model_module_version": "1.5.0",
      "_model_name": "DescriptionStyleModel",
      "_view_count": null,
      "_view_module": "@jupyter-widgets/base",
      "_view_module_version": "1.2.0",
      "_view_name": "StyleView",
      "description_width": ""
     }
    }
   }
  }
 },
 "nbformat": 4,
 "nbformat_minor": 4
}
