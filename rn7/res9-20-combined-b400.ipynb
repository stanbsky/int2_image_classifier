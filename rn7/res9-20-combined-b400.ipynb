{
 "cells": [
  {
   "cell_type": "markdown",
   "id": "applied-hazard",
   "metadata": {},
   "source": [
    "## Importing libraries"
   ]
  },
  {
   "cell_type": "code",
   "execution_count": 1,
   "id": "consecutive-copying",
   "metadata": {},
   "outputs": [
    {
     "name": "stderr",
     "output_type": "stream",
     "text": [
      "Matplotlib created a temporary config/cache directory at /tmp/matplotlib-5yxbh51d because the default path (/run/user/141228/cache/matplotlib) is not a writable directory; it is highly recommended to set the MPLCONFIGDIR environment variable to a writable directory, in particular to speed up the import of Matplotlib and to better support multiprocessing.\n"
     ]
    }
   ],
   "source": [
    "import torch\n",
    "import torchvision\n",
    "from torchvision.datasets.utils import download_url\n",
    "from torch.utils.data import random_split\n",
    "from torchvision.datasets import ImageFolder\n",
    "from torchvision.transforms import ToTensor,ToPILImage\n",
    "import matplotlib.pyplot as plt\n",
    "from torchvision.utils import make_grid\n",
    "from torch.utils.data.dataloader import DataLoader\n",
    "from torchvision.utils import make_grid\n",
    "import torch.nn as nn\n",
    "import torch.nn.functional as F\n",
    "import torchvision.transforms as tt\n",
    "import numpy as np\n",
    "import torchvision.datasets as datasets"
   ]
  },
  {
   "cell_type": "markdown",
   "id": "extended-equity",
   "metadata": {},
   "source": [
    "## Data and device loading"
   ]
  },
  {
   "cell_type": "code",
   "execution_count": 2,
   "id": "satisfactory-share",
   "metadata": {},
   "outputs": [],
   "source": [
    "torch.backends.cudnn.benchmark = True\n",
    "device = torch.device(\"cuda:2\" if torch.cuda.is_available() else \"cpu\")"
   ]
  },
  {
   "cell_type": "code",
   "execution_count": 3,
   "id": "fancy-columbia",
   "metadata": {},
   "outputs": [],
   "source": [
    "stats= ((0.4914,0.4822,0.4465),(0.2023,0.1994,0.2010)) #mean and std\n",
    "train_tfm= tt.Compose([tt.RandomCrop(32, padding=4, padding_mode='reflect'), # transormation of data together\n",
    "                       tt.RandomHorizontalFlip(),\n",
    "                       tt.ToTensor()])\n",
    "valid_tfm = tt.Compose([tt.ToTensor()])"
   ]
  },
  {
   "cell_type": "code",
   "execution_count": 4,
   "id": "contained-singles",
   "metadata": {},
   "outputs": [
    {
     "name": "stdout",
     "output_type": "stream",
     "text": [
      "Files already downloaded and verified\n"
     ]
    }
   ],
   "source": [
    "training_data = datasets.CIFAR10(\n",
    "    root=\"data\",\n",
    "    train=True,\n",
    "    download=True,\n",
    "    transform=train_tfm,\n",
    ")"
   ]
  },
  {
   "cell_type": "code",
   "execution_count": 5,
   "id": "postal-correlation",
   "metadata": {},
   "outputs": [
    {
     "name": "stdout",
     "output_type": "stream",
     "text": [
      "Files already downloaded and verified\n"
     ]
    }
   ],
   "source": [
    "# Download test data from open datasets.\n",
    "test_data = datasets.CIFAR10(\n",
    "    root=\"data\",\n",
    "    train=False,\n",
    "    download=True,\n",
    "    transform=valid_tfm,\n",
    ")"
   ]
  },
  {
   "cell_type": "code",
   "execution_count": 6,
   "id": "communist-cleaners",
   "metadata": {},
   "outputs": [
    {
     "data": {
      "text/plain": [
       "Dataset CIFAR10\n",
       "    Number of datapoints: 50000\n",
       "    Root location: data\n",
       "    Split: Train\n",
       "    StandardTransform\n",
       "Transform: Compose(\n",
       "               RandomCrop(size=(32, 32), padding=4)\n",
       "               RandomHorizontalFlip(p=0.5)\n",
       "               ToTensor()\n",
       "           )"
      ]
     },
     "execution_count": 6,
     "metadata": {},
     "output_type": "execute_result"
    }
   ],
   "source": [
    "valid_ds = test_data\n",
    "train_ds = training_data\n",
    "train_ds"
   ]
  },
  {
   "cell_type": "code",
   "execution_count": 7,
   "id": "dangerous-irish",
   "metadata": {},
   "outputs": [],
   "source": [
    "batch_size_res9=400\n",
    "batch_size_res20=400"
   ]
  },
  {
   "cell_type": "code",
   "execution_count": 8,
   "id": "heavy-surge",
   "metadata": {},
   "outputs": [],
   "source": [
    "# Dataloader to load data in batches(mini batch)\n",
    "train_dl_res9= DataLoader(train_ds,batch_size_res9,shuffle=True, num_workers=3, pin_memory=True) \n",
    "valid_dl_res9= DataLoader(valid_ds, batch_size_res9, num_workers=3,pin_memory=True) \n",
    "\n",
    "train_dl_res20= DataLoader(train_ds,batch_size_res20,shuffle=True, num_workers=3, pin_memory=True) \n",
    "valid_dl_res20= DataLoader(valid_ds, batch_size_res20, num_workers=3,pin_memory=True)"
   ]
  },
  {
   "cell_type": "code",
   "execution_count": 9,
   "id": "typical-contact",
   "metadata": {},
   "outputs": [],
   "source": [
    "def get_default_device():\n",
    "    \"\"\"Pick GPU if available, else CPU\"\"\"\n",
    "    if torch.cuda.is_available():\n",
    "        return torch.device('cuda')\n",
    "    else:\n",
    "        return torch.device('cpu')\n",
    "    \n",
    "def to_device(data, device):\n",
    "    \"\"\"Move tensor(s) to chosen device\"\"\"\n",
    "    if isinstance(data, (list,tuple)):\n",
    "        return [to_device(x, device) for x in data]\n",
    "    return data.to(device, non_blocking=True)\n",
    "\n",
    "class DeviceDataLoader():\n",
    "    \"\"\"Wrap a dataloader to move data to a device\"\"\"\n",
    "    def __init__(self, dl, device):\n",
    "        self.dl = dl\n",
    "        self.device = device\n",
    "        \n",
    "    def __iter__(self):\n",
    "        \"\"\"Yield a batch of data after moving it to device\"\"\"\n",
    "        for b in self.dl: \n",
    "            yield to_device(b, self.device)\n",
    "\n",
    "    def __len__(self):\n",
    "        \"\"\"Number of batches\"\"\"\n",
    "        return len(self.dl)"
   ]
  },
  {
   "cell_type": "code",
   "execution_count": 10,
   "id": "tamil-yacht",
   "metadata": {},
   "outputs": [],
   "source": [
    "train_dl_res9= DeviceDataLoader(train_dl_res9, device)\n",
    "valid_dl_res9 = DeviceDataLoader(valid_dl_res9, device)\n",
    "\n",
    "train_dl_res20= DeviceDataLoader(train_dl_res20, device)\n",
    "valid_dl_res20 = DeviceDataLoader(valid_dl_res20, device)"
   ]
  },
  {
   "cell_type": "markdown",
   "id": "functioning-essence",
   "metadata": {},
   "source": [
    "## Training loop"
   ]
  },
  {
   "cell_type": "code",
   "execution_count": 11,
   "id": "crazy-request",
   "metadata": {},
   "outputs": [],
   "source": [
    "def accuracy(outputs, labels):\n",
    "    _, preds = torch.max(outputs, dim=1)\n",
    "    return torch.tensor(torch.sum(preds == labels).item() / len(preds))\n",
    "\n",
    "class ImageClassificationBase(nn.Module):\n",
    "    def training_step(self, batch):\n",
    "        images, labels = batch \n",
    "        out = self(images)                  # Generate predictions\n",
    "        loss = F.cross_entropy(out, labels) # Calculate loss\n",
    "        return loss\n",
    "    \n",
    "    def validation_step(self, batch):\n",
    "        images, labels = batch \n",
    "        out = self(images)                    # Generate predictions\n",
    "        loss = F.cross_entropy(out, labels)   # Calculate loss\n",
    "        acc = accuracy(out, labels)           # Calculate accuracy\n",
    "        return {'val_loss': loss.detach(), 'val_acc': acc}\n",
    "        \n",
    "    def validation_epoch_end(self, outputs):\n",
    "        batch_losses = [x['val_loss'] for x in outputs]\n",
    "        epoch_loss = torch.stack(batch_losses).mean()   # Combine losses\n",
    "        batch_accs = [x['val_acc'] for x in outputs]\n",
    "        epoch_acc = torch.stack(batch_accs).mean()      # Combine accuracies\n",
    "        return {'val_loss': epoch_loss.item(), 'val_acc': epoch_acc.item()}\n",
    "    \n",
    "    def epoch_end(self, epoch, result):\n",
    "        print(\"Epoch [{}], train_loss: {:.4f}, val_loss: {:.4f}, val_acc: {:.4f}\".format(\n",
    "            epoch, result['train_loss'], result['val_loss'], result['val_acc']))"
   ]
  },
  {
   "cell_type": "markdown",
   "id": "adapted-attempt",
   "metadata": {},
   "source": [
    "## Resnets"
   ]
  },
  {
   "cell_type": "code",
   "execution_count": 12,
   "id": "statistical-twenty",
   "metadata": {},
   "outputs": [],
   "source": [
    "def conv_block_res9(in_channels, out_channels, pool=False):\n",
    "    layers = [nn.Conv2d(in_channels, out_channels, kernel_size=3, padding=1), \n",
    "              nn.BatchNorm2d(out_channels), \n",
    "              nn.ReLU(inplace=True)]\n",
    "    if pool: layers.append(nn.MaxPool2d(2))\n",
    "    return nn.Sequential(*layers)\n",
    "\n",
    "class ResNet9(ImageClassificationBase):\n",
    "    def __init__(self, in_channels, num_classes):\n",
    "        super().__init__()\n",
    "        \n",
    "        self.conv1 = conv_block_res9(in_channels, 64)\n",
    "        self.conv2 = conv_block_res9(64, 128, pool=True)\n",
    "        self.res1 = nn.Sequential(conv_block_res9(128, 128), conv_block_res9(128, 128))\n",
    "        \n",
    "        self.conv3 = conv_block_res9(128, 256, pool=True)\n",
    "        self.conv4 = conv_block_res9(256, 512, pool=True)\n",
    "        self.res2 = nn.Sequential(conv_block_res9(512, 512), conv_block_res9(512, 512))\n",
    "        \n",
    "        self.classifier = nn.Sequential(nn.MaxPool2d(4), \n",
    "                                        nn.Flatten(), \n",
    "                                        nn.Linear(512, num_classes))\n",
    "        \n",
    "    def forward(self, xb):\n",
    "        out = self.conv1(xb)\n",
    "        out = self.conv2(out)\n",
    "        out = self.res1(out) + out\n",
    "        out = self.conv3(out)\n",
    "        out = self.conv4(out)\n",
    "        out = self.res2(out) + out\n",
    "        out = self.classifier(out)\n",
    "        return out"
   ]
  },
  {
   "cell_type": "code",
   "execution_count": 13,
   "id": "alternative-birmingham",
   "metadata": {},
   "outputs": [],
   "source": [
    "def conv_block_res20(in_channels, out_channels, stride=1):\n",
    "    layers = [nn.Conv2d(in_channels, out_channels, kernel_size=3, padding=1, stride=stride), \n",
    "              nn.BatchNorm2d(out_channels), \n",
    "              nn.ReLU(inplace=True)]\n",
    "    return nn.Sequential(*layers)\n",
    "\n",
    "def shortcut(in_channels, out_channels):\n",
    "    return nn.Conv2d(in_channels, out_channels, kernel_size=3, padding=1, stride=2)\n",
    "\n",
    "class ResNet20(ImageClassificationBase):\n",
    "    def __init__(self, in_channels, num_classes, n):\n",
    "        super().__init__()\n",
    "        \n",
    "        self.n = n\n",
    "        \n",
    "        # 32x32 map\n",
    "        self.conv1 = conv_block_res20(in_channels, 16)\n",
    "        self.reg32 = nn.Sequential(conv_block_res20(16,16), conv_block_res20(16,16))\n",
    "        \n",
    "        # 16x16 map\n",
    "        self.entry16 = nn.Sequential(conv_block_res20(16, 32, stride=2), conv_block_res20(32, 32))\n",
    "        self.short16 = shortcut(16, 32)\n",
    "        self.reg16 = nn.Sequential(conv_block_res20(32, 32), conv_block_res20(32, 32))\n",
    "        \n",
    "        # 8x8 map\n",
    "        self.entry8 = nn.Sequential(conv_block_res20(32, 64, stride=2), conv_block_res20(64, 64))\n",
    "        self.short8 = shortcut(32, 64)\n",
    "        self.reg8 = nn.Sequential(conv_block_res20(64, 64), conv_block_res20(64, 64))\n",
    "        \n",
    "        self.classifier = nn.Sequential(nn.AvgPool2d(kernel_size=8, stride=None, padding=0), \n",
    "                                        nn.Linear(64, num_classes),\n",
    "                                       nn.Softmax())\n",
    "        # FOR DEBUGGING\n",
    "        self.avg = nn.AvgPool2d(kernel_size=8, stride=None, padding=0)\n",
    "        self.flat = nn.Flatten()\n",
    "        self.fcl = nn.Linear(64, num_classes)\n",
    "        self.sm = nn.Softmax()\n",
    "        \n",
    "    def forward(self, xb):\n",
    "        out = self.conv1(xb)\n",
    "        \n",
    "        for i in range(self.n):\n",
    "            out = self.reg32(out) + out\n",
    "            \n",
    "        out = self.entry16(out) + self.short16(out)\n",
    "        for i in range(self.n - 1):\n",
    "            out = self.reg16(out) + out\n",
    "            \n",
    "        out = self.entry8(out) + self.short8(out)\n",
    "        for i in range(self.n - 1):\n",
    "            out = self.reg8(out) + out\n",
    "\n",
    "        #out = self.classifier(out)\n",
    "        out = self.avg(out)\n",
    "        out = self.flat(out)\n",
    "        out = self.fcl(out)\n",
    "        out = self.sm(out)\n",
    "        \n",
    "        return out"
   ]
  },
  {
   "cell_type": "markdown",
   "id": "cubic-thought",
   "metadata": {},
   "source": [
    "## Transfer to device"
   ]
  },
  {
   "cell_type": "code",
   "execution_count": 14,
   "id": "acute-schema",
   "metadata": {},
   "outputs": [],
   "source": [
    "# model_res9 = to_device(ResNet9(3,10), device)\n",
    "model_res20 = to_device(ResNet20(3,10,3), device)"
   ]
  },
  {
   "cell_type": "code",
   "execution_count": 15,
   "id": "comparable-israeli",
   "metadata": {},
   "outputs": [],
   "source": [
    "@torch.no_grad()\n",
    "def evaluate(model, val_loader):\n",
    "    model.eval()\n",
    "    outputs = [model.validation_step(batch) for batch in val_loader]\n",
    "    return model.validation_epoch_end(outputs)\n",
    "\n",
    "def get_lr(optimizer):\n",
    "    for param_group in optimizer.param_groups:\n",
    "        return param_group['lr']\n",
    "    \n",
    "def fit_one_cycle(epochs, max_lr, model, train_loader, val_loader, \n",
    "                  weight_decay=0, grad_clip=None, opt_func=torch.optim.SGD):\n",
    "    torch.cuda.empty_cache()  # Realsing cuda memory otherwise might get cuda out of memory error\n",
    "    history = []\n",
    "    \n",
    "    #custom optimizer with weight decay\n",
    "    optimizer = opt_func(model.parameters(), max_lr, weight_decay=weight_decay)\n",
    "    # Set up one-cycle learning rate scheduler\n",
    "    sched = torch.optim.lr_scheduler.OneCycleLR(optimizer, max_lr, epochs=epochs, \n",
    "                                                steps_per_epoch=len(train_loader))\n",
    "    \n",
    "    for epoch in range(epochs):\n",
    "        # Training Phase \n",
    "        model.train() #Setting training mode\n",
    "        train_losses = []\n",
    "        lrs = [] \n",
    "        for batch in train_loader:\n",
    "            loss = model.training_step(batch)\n",
    "            train_losses.append(loss)\n",
    "            loss.backward()\n",
    "            \n",
    "            # Gradient clipping\n",
    "            if grad_clip: \n",
    "                nn.utils.clip_grad_value_(model.parameters(), grad_clip)\n",
    "            \n",
    "            optimizer.step()\n",
    "            optimizer.zero_grad()\n",
    "            \n",
    "            # Record & update learning rate\n",
    "            lrs.append(get_lr(optimizer))\n",
    "            sched.step()\n",
    "        \n",
    "        # Validation phase\n",
    "        result = evaluate(model, val_loader) \n",
    "        result['train_loss'] = torch.stack(train_losses).mean().item()\n",
    "        result['lrs'] = lrs\n",
    "        model.epoch_end(epoch, result)\n",
    "        history.append(result)\n",
    "    return history"
   ]
  },
  {
   "cell_type": "code",
   "execution_count": 16,
   "id": "happy-lover",
   "metadata": {},
   "outputs": [],
   "source": [
    "# # Smoke test: if something's wrong with how we set up our model, we'll see it now\n",
    "# histories = {\"ResNet-9\": [evaluate(model_res9, valid_dl_res9)], \"ResNet-20\": [evaluate(model_res20, valid_dl_res20)]}\n",
    "\n",
    "# print(histories)"
   ]
  },
  {
   "cell_type": "markdown",
   "id": "sticky-humor",
   "metadata": {},
   "source": [
    "## Training"
   ]
  },
  {
   "cell_type": "code",
   "execution_count": 17,
   "id": "analyzed-intake",
   "metadata": {},
   "outputs": [],
   "source": [
    "epochs_res9 = 70\n",
    "epochs_res20 = 100\n",
    "histories = {\"ResNet-20\":[]}\n",
    "max_lr = 0.01\n",
    "grad_clip = 0.1\n",
    "weight_decay = 1e-4\n",
    "opt_func = torch.optim.Adam"
   ]
  },
  {
   "cell_type": "code",
   "execution_count": 18,
   "id": "excess-niger",
   "metadata": {},
   "outputs": [],
   "source": [
    "# %%time\n",
    "# histories[\"ResNet-9\"] += fit_one_cycle(epochs_res9, max_lr, model_res9, train_dl_res9, valid_dl_res9, \n",
    "#                              grad_clip=grad_clip, \n",
    "#                              weight_decay=weight_decay, \n",
    "#                              opt_func=opt_func)"
   ]
  },
  {
   "cell_type": "code",
   "execution_count": 19,
   "id": "norman-andorra",
   "metadata": {},
   "outputs": [
    {
     "name": "stderr",
     "output_type": "stream",
     "text": [
      "/home/userfs/s/sb2444/.local/lib/python3.6/site-packages/ipykernel_launcher.py:57: UserWarning: Implicit dimension choice for softmax has been deprecated. Change the call to include dim=X as an argument.\n"
     ]
    },
    {
     "name": "stdout",
     "output_type": "stream",
     "text": [
      "Epoch [0], train_loss: 2.1319, val_loss: 2.1529, val_acc: 0.2948\n",
      "Epoch [1], train_loss: 2.0031, val_loss: 2.0241, val_acc: 0.4393\n",
      "Epoch [2], train_loss: 1.9311, val_loss: 1.9927, val_acc: 0.4695\n",
      "Epoch [3], train_loss: 1.8943, val_loss: 1.9598, val_acc: 0.4991\n",
      "Epoch [4], train_loss: 1.8681, val_loss: 1.9855, val_acc: 0.4696\n",
      "Epoch [5], train_loss: 1.8507, val_loss: 1.9928, val_acc: 0.4615\n",
      "Epoch [6], train_loss: 1.8338, val_loss: 1.9620, val_acc: 0.4952\n",
      "Epoch [7], train_loss: 1.8178, val_loss: 2.0078, val_acc: 0.4467\n",
      "Epoch [8], train_loss: 1.8167, val_loss: 1.9148, val_acc: 0.5442\n",
      "Epoch [9], train_loss: 1.8069, val_loss: 1.8703, val_acc: 0.5915\n",
      "Epoch [10], train_loss: 1.8038, val_loss: 2.0831, val_acc: 0.3734\n",
      "Epoch [11], train_loss: 1.7905, val_loss: 1.8962, val_acc: 0.5604\n",
      "Epoch [12], train_loss: 1.7859, val_loss: 1.8906, val_acc: 0.5687\n",
      "Epoch [13], train_loss: 1.7800, val_loss: 1.9653, val_acc: 0.4914\n",
      "Epoch [14], train_loss: 1.7779, val_loss: 1.9061, val_acc: 0.5533\n",
      "Epoch [15], train_loss: 1.7760, val_loss: 1.8760, val_acc: 0.5834\n",
      "Epoch [16], train_loss: 1.7709, val_loss: 1.9505, val_acc: 0.5063\n",
      "Epoch [17], train_loss: 1.7654, val_loss: 1.8958, val_acc: 0.5642\n",
      "Epoch [18], train_loss: 1.7678, val_loss: 1.7954, val_acc: 0.6677\n",
      "Epoch [19], train_loss: 1.7570, val_loss: 1.8633, val_acc: 0.5943\n",
      "Epoch [20], train_loss: 1.7702, val_loss: 1.9221, val_acc: 0.5359\n",
      "Epoch [21], train_loss: 1.7675, val_loss: 1.8221, val_acc: 0.6381\n",
      "Epoch [22], train_loss: 1.7614, val_loss: 1.9554, val_acc: 0.5026\n",
      "Epoch [23], train_loss: 1.7639, val_loss: 1.9439, val_acc: 0.5116\n",
      "Epoch [24], train_loss: 1.7615, val_loss: 1.8578, val_acc: 0.6014\n",
      "Epoch [25], train_loss: 1.7595, val_loss: 1.9702, val_acc: 0.4873\n",
      "Epoch [26], train_loss: 1.7671, val_loss: 1.9063, val_acc: 0.5505\n",
      "Epoch [27], train_loss: 1.7686, val_loss: 1.8663, val_acc: 0.5920\n",
      "Epoch [28], train_loss: 1.7672, val_loss: 1.8929, val_acc: 0.5667\n",
      "Epoch [29], train_loss: 1.7647, val_loss: 2.0111, val_acc: 0.4454\n",
      "Epoch [30], train_loss: 1.7705, val_loss: 1.9747, val_acc: 0.4814\n",
      "Epoch [31], train_loss: 1.7628, val_loss: 1.9055, val_acc: 0.5516\n",
      "Epoch [32], train_loss: 1.7601, val_loss: 1.9701, val_acc: 0.4873\n",
      "Epoch [33], train_loss: 1.7532, val_loss: 2.0520, val_acc: 0.4022\n",
      "Epoch [34], train_loss: 1.7614, val_loss: 1.9676, val_acc: 0.4897\n",
      "Epoch [35], train_loss: 1.7480, val_loss: 1.9673, val_acc: 0.4900\n",
      "Epoch [36], train_loss: 1.7501, val_loss: 1.8588, val_acc: 0.6000\n",
      "Epoch [37], train_loss: 1.7542, val_loss: 1.9734, val_acc: 0.4859\n",
      "Epoch [38], train_loss: 1.7462, val_loss: 1.8831, val_acc: 0.5770\n",
      "Epoch [39], train_loss: 1.7424, val_loss: 1.8235, val_acc: 0.6372\n",
      "Epoch [40], train_loss: 1.7488, val_loss: 1.8683, val_acc: 0.5901\n",
      "Epoch [41], train_loss: 1.7455, val_loss: 2.0515, val_acc: 0.4016\n",
      "Epoch [42], train_loss: 1.7372, val_loss: 1.7833, val_acc: 0.6779\n",
      "Epoch [43], train_loss: 1.7347, val_loss: 2.0118, val_acc: 0.4454\n",
      "Epoch [44], train_loss: 1.7261, val_loss: 1.8870, val_acc: 0.5697\n",
      "Epoch [45], train_loss: 1.7279, val_loss: 1.8627, val_acc: 0.5954\n",
      "Epoch [46], train_loss: 1.7325, val_loss: 1.9211, val_acc: 0.5398\n",
      "Epoch [47], train_loss: 1.7301, val_loss: 1.8217, val_acc: 0.6369\n",
      "Epoch [48], train_loss: 1.7240, val_loss: 1.8804, val_acc: 0.5788\n",
      "Epoch [49], train_loss: 1.7196, val_loss: 1.8753, val_acc: 0.5803\n",
      "Epoch [50], train_loss: 1.7196, val_loss: 1.8141, val_acc: 0.6455\n",
      "Epoch [51], train_loss: 1.7144, val_loss: 1.7770, val_acc: 0.6830\n",
      "Epoch [52], train_loss: 1.7104, val_loss: 1.8431, val_acc: 0.6150\n",
      "Epoch [53], train_loss: 1.7070, val_loss: 1.8436, val_acc: 0.6169\n",
      "Epoch [54], train_loss: 1.7049, val_loss: 1.8627, val_acc: 0.5969\n",
      "Epoch [55], train_loss: 1.7046, val_loss: 1.8779, val_acc: 0.5803\n",
      "Epoch [56], train_loss: 1.7027, val_loss: 1.7776, val_acc: 0.6845\n",
      "Epoch [57], train_loss: 1.6991, val_loss: 1.9450, val_acc: 0.5116\n",
      "Epoch [58], train_loss: 1.6939, val_loss: 1.8505, val_acc: 0.6117\n",
      "Epoch [59], train_loss: 1.6942, val_loss: 1.8459, val_acc: 0.6141\n",
      "Epoch [60], train_loss: 1.6880, val_loss: 1.8249, val_acc: 0.6339\n",
      "Epoch [61], train_loss: 1.6842, val_loss: 1.7849, val_acc: 0.6744\n",
      "Epoch [62], train_loss: 1.6829, val_loss: 1.7666, val_acc: 0.6978\n",
      "Epoch [63], train_loss: 1.6803, val_loss: 1.8060, val_acc: 0.6540\n",
      "Epoch [64], train_loss: 1.6735, val_loss: 1.8249, val_acc: 0.6365\n",
      "Epoch [65], train_loss: 1.6717, val_loss: 1.7235, val_acc: 0.7426\n",
      "Epoch [66], train_loss: 1.6658, val_loss: 1.7596, val_acc: 0.7040\n",
      "Epoch [67], train_loss: 1.6677, val_loss: 1.7025, val_acc: 0.7616\n",
      "Epoch [68], train_loss: 1.6637, val_loss: 1.7211, val_acc: 0.7438\n",
      "Epoch [69], train_loss: 1.6585, val_loss: 1.7489, val_acc: 0.7123\n",
      "Epoch [70], train_loss: 1.6544, val_loss: 1.7389, val_acc: 0.7247\n",
      "Epoch [71], train_loss: 1.6495, val_loss: 1.7435, val_acc: 0.7184\n",
      "Epoch [72], train_loss: 1.6475, val_loss: 1.7665, val_acc: 0.6957\n",
      "Epoch [73], train_loss: 1.6447, val_loss: 1.7407, val_acc: 0.7262\n",
      "Epoch [74], train_loss: 1.6393, val_loss: 1.7032, val_acc: 0.7596\n",
      "Epoch [75], train_loss: 1.6383, val_loss: 1.6985, val_acc: 0.7679\n",
      "Epoch [76], train_loss: 1.6316, val_loss: 1.6770, val_acc: 0.7861\n",
      "Epoch [77], train_loss: 1.6285, val_loss: 1.7197, val_acc: 0.7441\n",
      "Epoch [78], train_loss: 1.6254, val_loss: 1.7009, val_acc: 0.7638\n",
      "Epoch [79], train_loss: 1.6199, val_loss: 1.6890, val_acc: 0.7774\n",
      "Epoch [80], train_loss: 1.6164, val_loss: 1.6931, val_acc: 0.7730\n",
      "Epoch [81], train_loss: 1.6174, val_loss: 1.6918, val_acc: 0.7740\n",
      "Epoch [82], train_loss: 1.6127, val_loss: 1.6748, val_acc: 0.7931\n",
      "Epoch [83], train_loss: 1.6076, val_loss: 1.6660, val_acc: 0.8000\n",
      "Epoch [84], train_loss: 1.6036, val_loss: 1.6648, val_acc: 0.8034\n",
      "Epoch [85], train_loss: 1.6014, val_loss: 1.6609, val_acc: 0.8069\n",
      "Epoch [86], train_loss: 1.6001, val_loss: 1.6749, val_acc: 0.7915\n",
      "Epoch [87], train_loss: 1.5934, val_loss: 1.6561, val_acc: 0.8096\n",
      "Epoch [88], train_loss: 1.5915, val_loss: 1.6564, val_acc: 0.8098\n",
      "Epoch [89], train_loss: 1.5898, val_loss: 1.6603, val_acc: 0.8065\n",
      "Epoch [90], train_loss: 1.5886, val_loss: 1.6572, val_acc: 0.8108\n",
      "Epoch [91], train_loss: 1.5868, val_loss: 1.6590, val_acc: 0.8078\n",
      "Epoch [92], train_loss: 1.5848, val_loss: 1.6541, val_acc: 0.8116\n",
      "Epoch [93], train_loss: 1.5817, val_loss: 1.6534, val_acc: 0.8122\n",
      "Epoch [94], train_loss: 1.5801, val_loss: 1.6577, val_acc: 0.8100\n",
      "Epoch [95], train_loss: 1.5786, val_loss: 1.6596, val_acc: 0.8084\n",
      "Epoch [96], train_loss: 1.5774, val_loss: 1.6546, val_acc: 0.8124\n",
      "Epoch [97], train_loss: 1.5776, val_loss: 1.6542, val_acc: 0.8134\n",
      "Epoch [98], train_loss: 1.5785, val_loss: 1.6557, val_acc: 0.8128\n",
      "Epoch [99], train_loss: 1.5783, val_loss: 1.6569, val_acc: 0.8112\n",
      "CPU times: user 8min 18s, sys: 1min 14s, total: 9min 32s\n",
      "Wall time: 15min 46s\n"
     ]
    }
   ],
   "source": [
    "%%time\n",
    "histories[\"ResNet-20\"] += fit_one_cycle(epochs_res20, max_lr, model_res20, train_dl_res20, valid_dl_res20, \n",
    "                             grad_clip=grad_clip, \n",
    "                             weight_decay=weight_decay, \n",
    "                             opt_func=opt_func)"
   ]
  },
  {
   "cell_type": "markdown",
   "id": "active-delhi",
   "metadata": {},
   "source": [
    "## Graphs"
   ]
  },
  {
   "cell_type": "code",
   "execution_count": 20,
   "id": "intermediate-stupid",
   "metadata": {},
   "outputs": [],
   "source": [
    "def plot_accuracies(histories):\n",
    "    for resnet in  histories.keys():\n",
    "        history = histories[resnet]\n",
    "        accuracies = [x['val_acc'] for x in history]\n",
    "        plt.figure(figsize=(10,6))\n",
    "        plt.plot(accuracies, '-x')\n",
    "        plt.xlabel('epoch')\n",
    "        plt.ylabel('accuracy')\n",
    "        plt.title(f'{resnet} Accuracy vs. No. of epochs');\n",
    "    \n",
    "def plot_losses(histories):\n",
    "    for resnet in  histories.keys():\n",
    "        history = histories[resnet]\n",
    "        train_losses = [x.get('train_loss') for x in history]\n",
    "        val_losses = [x['val_loss'] for x in history]\n",
    "        plt.figure(figsize=(10,6))\n",
    "        plt.plot(train_losses, '-bx')\n",
    "        plt.plot(val_losses, '-rx')\n",
    "        plt.xlabel('epoch')\n",
    "        plt.ylabel('loss')\n",
    "        plt.legend(['Training', 'Validation'])\n",
    "        plt.title(f'{resnet} Loss vs. No. of epochs');\n",
    "    \n",
    "def plot_lrs(histories):\n",
    "    for resnet in  histories.keys():\n",
    "        history = histories[resnet]\n",
    "        lrs = np.concatenate([x.get('lrs', []) for x in history])\n",
    "        plt.figure(figsize=(10,6))\n",
    "        plt.plot(lrs)\n",
    "        plt.xlabel('Batch no.')\n",
    "        plt.ylabel('Learning rate')\n",
    "        plt.title(f'{resnet} Learning Rate vs. Batch no.');"
   ]
  },
  {
   "cell_type": "code",
   "execution_count": 21,
   "id": "wicked-friend",
   "metadata": {},
   "outputs": [
    {
     "data": {
      "image/png": "[encoded data removed]",
      "text/plain": [
       "<Figure size 720x432 with 1 Axes>"
      ]
     },
     "metadata": {
      "needs_background": "light"
     },
     "output_type": "display_data"
    }
   ],
   "source": [
    "plot_accuracies(histories)"
   ]
  },
  {
   "cell_type": "code",
   "execution_count": 22,
   "id": "stock-toronto",
   "metadata": {},
   "outputs": [
    {
     "data": {
      "image/png": "[encoded data removed]",
      "text/plain": [
       "<Figure size 720x432 with 1 Axes>"
      ]
     },
     "metadata": {
      "needs_background": "light"
     },
     "output_type": "display_data"
    }
   ],
   "source": [
    "plot_losses(histories)"
   ]
  },
  {
   "cell_type": "code",
   "execution_count": 23,
   "id": "executed-japanese",
   "metadata": {},
   "outputs": [
    {
     "data": {
      "image/png": "[encoded data removed]",
      "text/plain": [
       "<Figure size 720x432 with 1 Axes>"
      ]
     },
     "metadata": {
      "needs_background": "light"
     },
     "output_type": "display_data"
    }
   ],
   "source": [
    "plot_lrs(histories)"
   ]
  }
 ],
 "metadata": {
  "kernelspec": {
   "display_name": "Python 3",
   "language": "python",
   "name": "python3"
  },
  "language_info": {
   "codemirror_mode": {
    "name": "ipython",
    "version": 3
   },
   "file_extension": ".py",
   "mimetype": "text/x-python",
   "name": "python",
   "nbconvert_exporter": "python",
   "pygments_lexer": "ipython3",
   "version": "3.6.9"
  }
 },
 "nbformat": 4,
 "nbformat_minor": 5
}
