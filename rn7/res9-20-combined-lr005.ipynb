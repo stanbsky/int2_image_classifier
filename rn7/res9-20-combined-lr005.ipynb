{
 "cells": [
  {
   "cell_type": "markdown",
   "id": "starting-leone",
   "metadata": {},
   "source": [
    "## Importing libraries"
   ]
  },
  {
   "cell_type": "code",
   "execution_count": 1,
   "id": "swedish-sentence",
   "metadata": {},
   "outputs": [
    {
     "name": "stderr",
     "output_type": "stream",
     "text": [
      "Matplotlib created a temporary config/cache directory at /tmp/matplotlib-epdetxri because the default path (/run/user/141228/cache/matplotlib) is not a writable directory; it is highly recommended to set the MPLCONFIGDIR environment variable to a writable directory, in particular to speed up the import of Matplotlib and to better support multiprocessing.\n"
     ]
    }
   ],
   "source": [
    "import torch\n",
    "import torchvision\n",
    "from torchvision.datasets.utils import download_url\n",
    "from torch.utils.data import random_split\n",
    "from torchvision.datasets import ImageFolder\n",
    "from torchvision.transforms import ToTensor,ToPILImage\n",
    "import matplotlib.pyplot as plt\n",
    "from torchvision.utils import make_grid\n",
    "from torch.utils.data.dataloader import DataLoader\n",
    "from torchvision.utils import make_grid\n",
    "import torch.nn as nn\n",
    "import torch.nn.functional as F\n",
    "import torchvision.transforms as tt\n",
    "import numpy as np\n",
    "import torchvision.datasets as datasets"
   ]
  },
  {
   "cell_type": "markdown",
   "id": "pressed-uzbekistan",
   "metadata": {},
   "source": [
    "## Data and device loading"
   ]
  },
  {
   "cell_type": "code",
   "execution_count": 2,
   "id": "purple-commissioner",
   "metadata": {},
   "outputs": [],
   "source": [
    "torch.backends.cudnn.benchmark = True\n",
    "device = torch.device(\"cuda:7\" if torch.cuda.is_available() else \"cpu\")"
   ]
  },
  {
   "cell_type": "code",
   "execution_count": 3,
   "id": "controlling-material",
   "metadata": {},
   "outputs": [],
   "source": [
    "stats= ((0.4914,0.4822,0.4465),(0.2023,0.1994,0.2010)) #mean and std\n",
    "train_tfm= tt.Compose([tt.RandomCrop(32, padding=4, padding_mode='reflect'), # transormation of data together\n",
    "                       tt.RandomHorizontalFlip(),\n",
    "                       tt.ToTensor()])\n",
    "valid_tfm = tt.Compose([tt.ToTensor()])"
   ]
  },
  {
   "cell_type": "code",
   "execution_count": 4,
   "id": "unnecessary-bahrain",
   "metadata": {},
   "outputs": [
    {
     "name": "stdout",
     "output_type": "stream",
     "text": [
      "Files already downloaded and verified\n"
     ]
    }
   ],
   "source": [
    "training_data = datasets.CIFAR10(\n",
    "    root=\"data\",\n",
    "    train=True,\n",
    "    download=True,\n",
    "    transform=train_tfm,\n",
    ")"
   ]
  },
  {
   "cell_type": "code",
   "execution_count": 5,
   "id": "dying-tampa",
   "metadata": {},
   "outputs": [
    {
     "name": "stdout",
     "output_type": "stream",
     "text": [
      "Files already downloaded and verified\n"
     ]
    }
   ],
   "source": [
    "# Download test data from open datasets.\n",
    "test_data = datasets.CIFAR10(\n",
    "    root=\"data\",\n",
    "    train=False,\n",
    "    download=True,\n",
    "    transform=valid_tfm,\n",
    ")"
   ]
  },
  {
   "cell_type": "code",
   "execution_count": 6,
   "id": "funny-zimbabwe",
   "metadata": {},
   "outputs": [
    {
     "data": {
      "text/plain": [
       "Dataset CIFAR10\n",
       "    Number of datapoints: 50000\n",
       "    Root location: data\n",
       "    Split: Train\n",
       "    StandardTransform\n",
       "Transform: Compose(\n",
       "               RandomCrop(size=(32, 32), padding=4)\n",
       "               RandomHorizontalFlip(p=0.5)\n",
       "               ToTensor()\n",
       "           )"
      ]
     },
     "execution_count": 6,
     "metadata": {},
     "output_type": "execute_result"
    }
   ],
   "source": [
    "valid_ds = test_data\n",
    "train_ds = training_data\n",
    "train_ds"
   ]
  },
  {
   "cell_type": "code",
   "execution_count": 7,
   "id": "serial-found",
   "metadata": {},
   "outputs": [],
   "source": [
    "batch_size_res9=400\n",
    "batch_size_res20=800"
   ]
  },
  {
   "cell_type": "code",
   "execution_count": 8,
   "id": "contrary-violence",
   "metadata": {},
   "outputs": [],
   "source": [
    "# Dataloader to load data in batches(mini batch)\n",
    "train_dl_res9= DataLoader(train_ds,batch_size_res9,shuffle=True, num_workers=3, pin_memory=True) \n",
    "valid_dl_res9= DataLoader(valid_ds, batch_size_res9, num_workers=3,pin_memory=True) \n",
    "\n",
    "train_dl_res20= DataLoader(train_ds,batch_size_res20,shuffle=True, num_workers=3, pin_memory=True) \n",
    "valid_dl_res20= DataLoader(valid_ds, batch_size_res20, num_workers=3,pin_memory=True)"
   ]
  },
  {
   "cell_type": "code",
   "execution_count": 9,
   "id": "extraordinary-nature",
   "metadata": {},
   "outputs": [],
   "source": [
    "def get_default_device():\n",
    "    \"\"\"Pick GPU if available, else CPU\"\"\"\n",
    "    if torch.cuda.is_available():\n",
    "        return torch.device('cuda')\n",
    "    else:\n",
    "        return torch.device('cpu')\n",
    "    \n",
    "def to_device(data, device):\n",
    "    \"\"\"Move tensor(s) to chosen device\"\"\"\n",
    "    if isinstance(data, (list,tuple)):\n",
    "        return [to_device(x, device) for x in data]\n",
    "    return data.to(device, non_blocking=True)\n",
    "\n",
    "class DeviceDataLoader():\n",
    "    \"\"\"Wrap a dataloader to move data to a device\"\"\"\n",
    "    def __init__(self, dl, device):\n",
    "        self.dl = dl\n",
    "        self.device = device\n",
    "        \n",
    "    def __iter__(self):\n",
    "        \"\"\"Yield a batch of data after moving it to device\"\"\"\n",
    "        for b in self.dl: \n",
    "            yield to_device(b, self.device)\n",
    "\n",
    "    def __len__(self):\n",
    "        \"\"\"Number of batches\"\"\"\n",
    "        return len(self.dl)"
   ]
  },
  {
   "cell_type": "code",
   "execution_count": 10,
   "id": "legitimate-supervisor",
   "metadata": {},
   "outputs": [],
   "source": [
    "train_dl_res9= DeviceDataLoader(train_dl_res9, device)\n",
    "valid_dl_res9 = DeviceDataLoader(valid_dl_res9, device)\n",
    "\n",
    "train_dl_res20= DeviceDataLoader(train_dl_res20, device)\n",
    "valid_dl_res20 = DeviceDataLoader(valid_dl_res20, device)"
   ]
  },
  {
   "cell_type": "markdown",
   "id": "innovative-cartridge",
   "metadata": {},
   "source": [
    "## Training loop"
   ]
  },
  {
   "cell_type": "code",
   "execution_count": 11,
   "id": "olympic-basics",
   "metadata": {},
   "outputs": [],
   "source": [
    "def accuracy(outputs, labels):\n",
    "    _, preds = torch.max(outputs, dim=1)\n",
    "    return torch.tensor(torch.sum(preds == labels).item() / len(preds))\n",
    "\n",
    "class ImageClassificationBase(nn.Module):\n",
    "    def training_step(self, batch):\n",
    "        images, labels = batch \n",
    "        out = self(images)                  # Generate predictions\n",
    "        loss = F.cross_entropy(out, labels) # Calculate loss\n",
    "        return loss\n",
    "    \n",
    "    def validation_step(self, batch):\n",
    "        images, labels = batch \n",
    "        out = self(images)                    # Generate predictions\n",
    "        loss = F.cross_entropy(out, labels)   # Calculate loss\n",
    "        acc = accuracy(out, labels)           # Calculate accuracy\n",
    "        return {'val_loss': loss.detach(), 'val_acc': acc}\n",
    "        \n",
    "    def validation_epoch_end(self, outputs):\n",
    "        batch_losses = [x['val_loss'] for x in outputs]\n",
    "        epoch_loss = torch.stack(batch_losses).mean()   # Combine losses\n",
    "        batch_accs = [x['val_acc'] for x in outputs]\n",
    "        epoch_acc = torch.stack(batch_accs).mean()      # Combine accuracies\n",
    "        return {'val_loss': epoch_loss.item(), 'val_acc': epoch_acc.item()}\n",
    "    \n",
    "    def epoch_end(self, epoch, result):\n",
    "        print(\"Epoch [{}], train_loss: {:.4f}, val_loss: {:.4f}, val_acc: {:.4f}\".format(\n",
    "            epoch, result['train_loss'], result['val_loss'], result['val_acc']))"
   ]
  },
  {
   "cell_type": "markdown",
   "id": "unlike-liver",
   "metadata": {},
   "source": [
    "## Resnets"
   ]
  },
  {
   "cell_type": "code",
   "execution_count": 12,
   "id": "operational-ivory",
   "metadata": {},
   "outputs": [],
   "source": [
    "def conv_block_res9(in_channels, out_channels, pool=False):\n",
    "    layers = [nn.Conv2d(in_channels, out_channels, kernel_size=3, padding=1), \n",
    "              nn.BatchNorm2d(out_channels), \n",
    "              nn.ReLU(inplace=True)]\n",
    "    if pool: layers.append(nn.MaxPool2d(2))\n",
    "    return nn.Sequential(*layers)\n",
    "\n",
    "class ResNet9(ImageClassificationBase):\n",
    "    def __init__(self, in_channels, num_classes):\n",
    "        super().__init__()\n",
    "        \n",
    "        self.conv1 = conv_block_res9(in_channels, 64)\n",
    "        self.conv2 = conv_block_res9(64, 128, pool=True)\n",
    "        self.res1 = nn.Sequential(conv_block_res9(128, 128), conv_block_res9(128, 128))\n",
    "        \n",
    "        self.conv3 = conv_block_res9(128, 256, pool=True)\n",
    "        self.conv4 = conv_block_res9(256, 512, pool=True)\n",
    "        self.res2 = nn.Sequential(conv_block_res9(512, 512), conv_block_res9(512, 512))\n",
    "        \n",
    "        self.classifier = nn.Sequential(nn.MaxPool2d(4), \n",
    "                                        nn.Flatten(), \n",
    "                                        nn.Linear(512, num_classes))\n",
    "        \n",
    "    def forward(self, xb):\n",
    "        out = self.conv1(xb)\n",
    "        out = self.conv2(out)\n",
    "        out = self.res1(out) + out\n",
    "        out = self.conv3(out)\n",
    "        out = self.conv4(out)\n",
    "        out = self.res2(out) + out\n",
    "        out = self.classifier(out)\n",
    "        return out"
   ]
  },
  {
   "cell_type": "code",
   "execution_count": 13,
   "id": "asian-barrel",
   "metadata": {},
   "outputs": [],
   "source": [
    "def conv_block_res20(in_channels, out_channels, stride=1):\n",
    "    layers = [nn.Conv2d(in_channels, out_channels, kernel_size=3, padding=1, stride=stride), \n",
    "              nn.BatchNorm2d(out_channels), \n",
    "              nn.ReLU(inplace=True)]\n",
    "    return nn.Sequential(*layers)\n",
    "\n",
    "def shortcut(in_channels, out_channels):\n",
    "    return nn.Conv2d(in_channels, out_channels, kernel_size=3, padding=1, stride=2)\n",
    "\n",
    "class ResNet20(ImageClassificationBase):\n",
    "    def __init__(self, in_channels, num_classes, n):\n",
    "        super().__init__()\n",
    "        \n",
    "        self.n = n\n",
    "        \n",
    "        # 32x32 map\n",
    "        self.conv1 = conv_block_res20(in_channels, 16)\n",
    "        self.reg32 = nn.Sequential(conv_block_res20(16,16), conv_block_res20(16,16))\n",
    "        \n",
    "        # 16x16 map\n",
    "        self.entry16 = nn.Sequential(conv_block_res20(16, 32, stride=2), conv_block_res20(32, 32))\n",
    "        self.short16 = shortcut(16, 32)\n",
    "        self.reg16 = nn.Sequential(conv_block_res20(32, 32), conv_block_res20(32, 32))\n",
    "        \n",
    "        # 8x8 map\n",
    "        self.entry8 = nn.Sequential(conv_block_res20(32, 64, stride=2), conv_block_res20(64, 64))\n",
    "        self.short8 = shortcut(32, 64)\n",
    "        self.reg8 = nn.Sequential(conv_block_res20(64, 64), conv_block_res20(64, 64))\n",
    "        \n",
    "        self.classifier = nn.Sequential(nn.AvgPool2d(kernel_size=8, stride=None, padding=0), \n",
    "                                        nn.Linear(64, num_classes),\n",
    "                                       nn.Softmax())\n",
    "        # FOR DEBUGGING\n",
    "        self.avg = nn.AvgPool2d(kernel_size=8, stride=None, padding=0)\n",
    "        self.flat = nn.Flatten()\n",
    "        self.fcl = nn.Linear(64, num_classes)\n",
    "        self.sm = nn.Softmax()\n",
    "        \n",
    "    def forward(self, xb):\n",
    "        out = self.conv1(xb)\n",
    "        \n",
    "        for i in range(self.n):\n",
    "            out = self.reg32(out) + out\n",
    "            \n",
    "        out = self.entry16(out) + self.short16(out)\n",
    "        for i in range(self.n - 1):\n",
    "            out = self.reg16(out) + out\n",
    "            \n",
    "        out = self.entry8(out) + self.short8(out)\n",
    "        for i in range(self.n - 1):\n",
    "            out = self.reg8(out) + out\n",
    "\n",
    "        #out = self.classifier(out)\n",
    "        out = self.avg(out)\n",
    "        out = self.flat(out)\n",
    "        out = self.fcl(out)\n",
    "        out = self.sm(out)\n",
    "        \n",
    "        return out"
   ]
  },
  {
   "cell_type": "markdown",
   "id": "identified-booking",
   "metadata": {},
   "source": [
    "## Transfer to device"
   ]
  },
  {
   "cell_type": "code",
   "execution_count": 14,
   "id": "informal-louisiana",
   "metadata": {},
   "outputs": [],
   "source": [
    "# model_res9 = to_device(ResNet9(3,10), device)\n",
    "model_res20 = to_device(ResNet20(3,10,3), device)"
   ]
  },
  {
   "cell_type": "code",
   "execution_count": 15,
   "id": "removable-circular",
   "metadata": {},
   "outputs": [],
   "source": [
    "@torch.no_grad()\n",
    "def evaluate(model, val_loader):\n",
    "    model.eval()\n",
    "    outputs = [model.validation_step(batch) for batch in val_loader]\n",
    "    return model.validation_epoch_end(outputs)\n",
    "\n",
    "def get_lr(optimizer):\n",
    "    for param_group in optimizer.param_groups:\n",
    "        return param_group['lr']\n",
    "    \n",
    "def fit_one_cycle(epochs, max_lr, model, train_loader, val_loader, \n",
    "                  weight_decay=0, grad_clip=None, opt_func=torch.optim.SGD):\n",
    "    torch.cuda.empty_cache()  # Realsing cuda memory otherwise might get cuda out of memory error\n",
    "    history = []\n",
    "    \n",
    "    #custom optimizer with weight decay\n",
    "    optimizer = opt_func(model.parameters(), max_lr, weight_decay=weight_decay)\n",
    "    # Set up one-cycle learning rate scheduler\n",
    "    sched = torch.optim.lr_scheduler.OneCycleLR(optimizer, max_lr, epochs=epochs, \n",
    "                                                steps_per_epoch=len(train_loader))\n",
    "    \n",
    "    for epoch in range(epochs):\n",
    "        # Training Phase \n",
    "        model.train() #Setting training mode\n",
    "        train_losses = []\n",
    "        lrs = [] \n",
    "        for batch in train_loader:\n",
    "            loss = model.training_step(batch)\n",
    "            train_losses.append(loss)\n",
    "            loss.backward()\n",
    "            \n",
    "            # Gradient clipping\n",
    "            if grad_clip: \n",
    "                nn.utils.clip_grad_value_(model.parameters(), grad_clip)\n",
    "            \n",
    "            optimizer.step()\n",
    "            optimizer.zero_grad()\n",
    "            \n",
    "            # Record & update learning rate\n",
    "            lrs.append(get_lr(optimizer))\n",
    "            sched.step()\n",
    "        \n",
    "        # Validation phase\n",
    "        result = evaluate(model, val_loader) \n",
    "        result['train_loss'] = torch.stack(train_losses).mean().item()\n",
    "        result['lrs'] = lrs\n",
    "        model.epoch_end(epoch, result)\n",
    "        history.append(result)\n",
    "    return history"
   ]
  },
  {
   "cell_type": "code",
   "execution_count": 16,
   "id": "competitive-seventh",
   "metadata": {},
   "outputs": [],
   "source": [
    "# # Smoke test: if something's wrong with how we set up our model, we'll see it now\n",
    "# histories = {\"ResNet-9\": [evaluate(model_res9, valid_dl_res9)], \"ResNet-20\": [evaluate(model_res20, valid_dl_res20)]}\n",
    "\n",
    "# print(histories)"
   ]
  },
  {
   "cell_type": "markdown",
   "id": "musical-orbit",
   "metadata": {},
   "source": [
    "## Training"
   ]
  },
  {
   "cell_type": "code",
   "execution_count": 17,
   "id": "beginning-enhancement",
   "metadata": {},
   "outputs": [],
   "source": [
    "epochs_res9 = 70\n",
    "epochs_res20 = 100\n",
    "histories = {\"ResNet-20\":[]}\n",
    "max_lr = 0.005\n",
    "grad_clip = 0.1\n",
    "weight_decay = 1e-4\n",
    "opt_func = torch.optim.Adam"
   ]
  },
  {
   "cell_type": "code",
   "execution_count": 18,
   "id": "nasty-coach",
   "metadata": {},
   "outputs": [],
   "source": [
    "# %%time\n",
    "# histories[\"ResNet-9\"] += fit_one_cycle(epochs_res9, max_lr, model_res9, train_dl_res9, valid_dl_res9, \n",
    "#                              grad_clip=grad_clip, \n",
    "#                              weight_decay=weight_decay, \n",
    "#                              opt_func=opt_func)"
   ]
  },
  {
   "cell_type": "code",
   "execution_count": 19,
   "id": "every-subdivision",
   "metadata": {},
   "outputs": [
    {
     "name": "stderr",
     "output_type": "stream",
     "text": [
      "/home/userfs/s/sb2444/.local/lib/python3.6/site-packages/ipykernel_launcher.py:57: UserWarning: Implicit dimension choice for softmax has been deprecated. Change the call to include dim=X as an argument.\n"
     ]
    },
    {
     "name": "stdout",
     "output_type": "stream",
     "text": [
      "Epoch [0], train_loss: 2.1995, val_loss: 2.2096, val_acc: 0.2314\n",
      "Epoch [1], train_loss: 2.0912, val_loss: 2.1776, val_acc: 0.2687\n",
      "Epoch [2], train_loss: 2.0363, val_loss: 2.1815, val_acc: 0.2685\n",
      "Epoch [3], train_loss: 1.9879, val_loss: 2.1490, val_acc: 0.2990\n",
      "Epoch [4], train_loss: 1.9465, val_loss: 2.1709, val_acc: 0.2797\n",
      "Epoch [5], train_loss: 1.9154, val_loss: 2.1654, val_acc: 0.2810\n",
      "Epoch [6], train_loss: 1.8873, val_loss: 2.1378, val_acc: 0.3069\n",
      "Epoch [7], train_loss: 1.8667, val_loss: 2.1128, val_acc: 0.3416\n",
      "Epoch [8], train_loss: 1.8500, val_loss: 2.0408, val_acc: 0.4131\n",
      "Epoch [9], train_loss: 1.8363, val_loss: 2.0142, val_acc: 0.4407\n",
      "Epoch [10], train_loss: 1.8223, val_loss: 1.9391, val_acc: 0.5191\n",
      "Epoch [11], train_loss: 1.8124, val_loss: 2.2468, val_acc: 0.2092\n",
      "Epoch [12], train_loss: 1.7950, val_loss: 1.9104, val_acc: 0.5463\n",
      "Epoch [13], train_loss: 1.7936, val_loss: 1.9642, val_acc: 0.4892\n",
      "Epoch [14], train_loss: 1.7816, val_loss: 2.0601, val_acc: 0.3955\n",
      "Epoch [15], train_loss: 1.7681, val_loss: 1.9434, val_acc: 0.5154\n",
      "Epoch [16], train_loss: 1.7569, val_loss: 1.9508, val_acc: 0.5076\n",
      "Epoch [17], train_loss: 1.7491, val_loss: 1.9286, val_acc: 0.5287\n",
      "Epoch [18], train_loss: 1.7412, val_loss: 1.8598, val_acc: 0.5987\n",
      "Epoch [19], train_loss: 1.7322, val_loss: 2.0132, val_acc: 0.4462\n",
      "Epoch [20], train_loss: 1.7265, val_loss: 1.9358, val_acc: 0.5218\n",
      "Epoch [21], train_loss: 1.7204, val_loss: 1.8675, val_acc: 0.5915\n",
      "Epoch [22], train_loss: 1.7155, val_loss: 1.8568, val_acc: 0.6022\n",
      "Epoch [23], train_loss: 1.7110, val_loss: 1.8676, val_acc: 0.5911\n",
      "Epoch [24], train_loss: 1.7105, val_loss: 1.8689, val_acc: 0.5873\n",
      "Epoch [25], train_loss: 1.7030, val_loss: 1.9947, val_acc: 0.4639\n",
      "Epoch [26], train_loss: 1.6971, val_loss: 1.8632, val_acc: 0.5954\n",
      "Epoch [27], train_loss: 1.6955, val_loss: 1.7603, val_acc: 0.7029\n",
      "Epoch [28], train_loss: 1.6853, val_loss: 1.7618, val_acc: 0.6983\n",
      "Epoch [29], train_loss: 1.6904, val_loss: 1.9278, val_acc: 0.5290\n",
      "Epoch [30], train_loss: 1.6859, val_loss: 1.7715, val_acc: 0.6898\n",
      "Epoch [31], train_loss: 1.6777, val_loss: 1.8906, val_acc: 0.5683\n",
      "Epoch [32], train_loss: 1.6802, val_loss: 1.8049, val_acc: 0.6571\n",
      "Epoch [33], train_loss: 1.6710, val_loss: 1.8356, val_acc: 0.6241\n",
      "Epoch [34], train_loss: 1.6661, val_loss: 1.8711, val_acc: 0.5879\n",
      "Epoch [35], train_loss: 1.6657, val_loss: 1.8223, val_acc: 0.6357\n",
      "Epoch [36], train_loss: 1.6633, val_loss: 1.7446, val_acc: 0.7189\n",
      "Epoch [37], train_loss: 1.6594, val_loss: 1.7271, val_acc: 0.7375\n",
      "Epoch [38], train_loss: 1.6606, val_loss: 1.7225, val_acc: 0.7422\n",
      "Epoch [39], train_loss: 1.6585, val_loss: 1.7577, val_acc: 0.7032\n",
      "Epoch [40], train_loss: 1.6554, val_loss: 1.7688, val_acc: 0.6931\n",
      "Epoch [41], train_loss: 1.6521, val_loss: 1.7819, val_acc: 0.6781\n",
      "Epoch [42], train_loss: 1.6481, val_loss: 1.7682, val_acc: 0.6939\n",
      "Epoch [43], train_loss: 1.6453, val_loss: 1.7178, val_acc: 0.7437\n",
      "Epoch [44], train_loss: 1.6478, val_loss: 1.6997, val_acc: 0.7624\n",
      "Epoch [45], train_loss: 1.6449, val_loss: 1.7712, val_acc: 0.6905\n",
      "Epoch [46], train_loss: 1.6429, val_loss: 1.6917, val_acc: 0.7758\n",
      "Epoch [47], train_loss: 1.6438, val_loss: 1.8766, val_acc: 0.5828\n",
      "Epoch [48], train_loss: 1.6393, val_loss: 1.7095, val_acc: 0.7515\n",
      "Epoch [49], train_loss: 1.6394, val_loss: 1.7210, val_acc: 0.7417\n",
      "Epoch [50], train_loss: 1.6381, val_loss: 1.8175, val_acc: 0.6426\n",
      "Epoch [51], train_loss: 1.6358, val_loss: 1.6930, val_acc: 0.7679\n",
      "Epoch [52], train_loss: 1.6330, val_loss: 1.7406, val_acc: 0.7207\n",
      "Epoch [53], train_loss: 1.6289, val_loss: 1.7101, val_acc: 0.7514\n",
      "Epoch [54], train_loss: 1.6269, val_loss: 1.7341, val_acc: 0.7291\n",
      "Epoch [55], train_loss: 1.6228, val_loss: 1.7053, val_acc: 0.7562\n",
      "Epoch [56], train_loss: 1.6219, val_loss: 1.7409, val_acc: 0.7213\n",
      "Epoch [57], train_loss: 1.6192, val_loss: 1.6699, val_acc: 0.7954\n",
      "Epoch [58], train_loss: 1.6175, val_loss: 1.7980, val_acc: 0.6600\n",
      "Epoch [59], train_loss: 1.6159, val_loss: 1.6884, val_acc: 0.7753\n",
      "Epoch [60], train_loss: 1.6140, val_loss: 1.7328, val_acc: 0.7298\n",
      "Epoch [61], train_loss: 1.6108, val_loss: 1.6667, val_acc: 0.7967\n",
      "Epoch [62], train_loss: 1.6092, val_loss: 1.6749, val_acc: 0.7875\n",
      "Epoch [63], train_loss: 1.6039, val_loss: 1.7095, val_acc: 0.7531\n",
      "Epoch [64], train_loss: 1.6002, val_loss: 1.7080, val_acc: 0.7553\n",
      "Epoch [65], train_loss: 1.5994, val_loss: 1.6714, val_acc: 0.7938\n",
      "Epoch [66], train_loss: 1.6014, val_loss: 1.6683, val_acc: 0.7969\n",
      "Epoch [67], train_loss: 1.5966, val_loss: 1.6423, val_acc: 0.8218\n",
      "Epoch [68], train_loss: 1.5943, val_loss: 1.6406, val_acc: 0.8235\n",
      "Epoch [69], train_loss: 1.5916, val_loss: 1.6779, val_acc: 0.7858\n",
      "Epoch [70], train_loss: 1.5880, val_loss: 1.6625, val_acc: 0.8017\n",
      "Epoch [71], train_loss: 1.5856, val_loss: 1.6499, val_acc: 0.8139\n",
      "Epoch [72], train_loss: 1.5839, val_loss: 1.6414, val_acc: 0.8243\n",
      "Epoch [73], train_loss: 1.5791, val_loss: 1.6559, val_acc: 0.8080\n",
      "Epoch [74], train_loss: 1.5822, val_loss: 1.6558, val_acc: 0.8080\n",
      "Epoch [75], train_loss: 1.5763, val_loss: 1.6535, val_acc: 0.8092\n",
      "Epoch [76], train_loss: 1.5744, val_loss: 1.6670, val_acc: 0.7962\n",
      "Epoch [77], train_loss: 1.5715, val_loss: 1.6559, val_acc: 0.8074\n",
      "Epoch [78], train_loss: 1.5680, val_loss: 1.6366, val_acc: 0.8271\n",
      "Epoch [79], train_loss: 1.5652, val_loss: 1.6278, val_acc: 0.8364\n",
      "Epoch [80], train_loss: 1.5624, val_loss: 1.6458, val_acc: 0.8174\n",
      "Epoch [81], train_loss: 1.5591, val_loss: 1.6328, val_acc: 0.8309\n",
      "Epoch [82], train_loss: 1.5581, val_loss: 1.6373, val_acc: 0.8275\n",
      "Epoch [83], train_loss: 1.5555, val_loss: 1.6290, val_acc: 0.8351\n",
      "Epoch [84], train_loss: 1.5525, val_loss: 1.6465, val_acc: 0.8178\n",
      "Epoch [85], train_loss: 1.5506, val_loss: 1.6311, val_acc: 0.8326\n",
      "Epoch [86], train_loss: 1.5480, val_loss: 1.6387, val_acc: 0.8243\n",
      "Epoch [87], train_loss: 1.5464, val_loss: 1.6244, val_acc: 0.8387\n",
      "Epoch [88], train_loss: 1.5440, val_loss: 1.6159, val_acc: 0.8484\n",
      "Epoch [89], train_loss: 1.5425, val_loss: 1.6194, val_acc: 0.8443\n",
      "Epoch [90], train_loss: 1.5411, val_loss: 1.6210, val_acc: 0.8409\n",
      "Epoch [91], train_loss: 1.5388, val_loss: 1.6249, val_acc: 0.8391\n",
      "Epoch [92], train_loss: 1.5387, val_loss: 1.6266, val_acc: 0.8380\n",
      "Epoch [93], train_loss: 1.5376, val_loss: 1.6229, val_acc: 0.8403\n",
      "Epoch [94], train_loss: 1.5368, val_loss: 1.6229, val_acc: 0.8392\n",
      "Epoch [95], train_loss: 1.5356, val_loss: 1.6237, val_acc: 0.8411\n",
      "Epoch [96], train_loss: 1.5354, val_loss: 1.6237, val_acc: 0.8399\n",
      "Epoch [97], train_loss: 1.5360, val_loss: 1.6235, val_acc: 0.8400\n",
      "Epoch [98], train_loss: 1.5343, val_loss: 1.6241, val_acc: 0.8391\n",
      "Epoch [99], train_loss: 1.5354, val_loss: 1.6229, val_acc: 0.8401\n",
      "CPU times: user 5min 58s, sys: 1min 55s, total: 7min 53s\n",
      "Wall time: 14min 56s\n"
     ]
    }
   ],
   "source": [
    "%%time\n",
    "histories[\"ResNet-20\"] += fit_one_cycle(epochs_res20, max_lr, model_res20, train_dl_res20, valid_dl_res20, \n",
    "                             grad_clip=grad_clip, \n",
    "                             weight_decay=weight_decay, \n",
    "                             opt_func=opt_func)"
   ]
  },
  {
   "cell_type": "markdown",
   "id": "combined-minute",
   "metadata": {},
   "source": [
    "## Graphs"
   ]
  },
  {
   "cell_type": "code",
   "execution_count": 20,
   "id": "declared-hypothetical",
   "metadata": {},
   "outputs": [],
   "source": [
    "def plot_accuracies(histories):\n",
    "    for resnet in  histories.keys():\n",
    "        history = histories[resnet]\n",
    "        accuracies = [x['val_acc'] for x in history]\n",
    "        plt.figure(figsize=(10,6))\n",
    "        plt.plot(accuracies, '-x')\n",
    "        plt.xlabel('epoch')\n",
    "        plt.ylabel('accuracy')\n",
    "        plt.title(f'{resnet} Accuracy vs. No. of epochs');\n",
    "    \n",
    "def plot_losses(histories):\n",
    "    for resnet in  histories.keys():\n",
    "        history = histories[resnet]\n",
    "        train_losses = [x.get('train_loss') for x in history]\n",
    "        val_losses = [x['val_loss'] for x in history]\n",
    "        plt.figure(figsize=(10,6))\n",
    "        plt.plot(train_losses, '-bx')\n",
    "        plt.plot(val_losses, '-rx')\n",
    "        plt.xlabel('epoch')\n",
    "        plt.ylabel('loss')\n",
    "        plt.legend(['Training', 'Validation'])\n",
    "        plt.title(f'{resnet} Loss vs. No. of epochs');\n",
    "    \n",
    "def plot_lrs(histories):\n",
    "    for resnet in  histories.keys():\n",
    "        history = histories[resnet]\n",
    "        lrs = np.concatenate([x.get('lrs', []) for x in history])\n",
    "        plt.figure(figsize=(10,6))\n",
    "        plt.plot(lrs)\n",
    "        plt.xlabel('Batch no.')\n",
    "        plt.ylabel('Learning rate')\n",
    "        plt.title(f'{resnet} Learning Rate vs. Batch no.');"
   ]
  },
  {
   "cell_type": "code",
   "execution_count": 21,
   "id": "interim-thanks",
   "metadata": {},
   "outputs": [
    {
     "data": {
      "image/png": "[encoded data removed]",
      "text/plain": [
       "<Figure size 720x432 with 1 Axes>"
      ]
     },
     "metadata": {
      "needs_background": "light"
     },
     "output_type": "display_data"
    }
   ],
   "source": [
    "plot_accuracies(histories)"
   ]
  },
  {
   "cell_type": "code",
   "execution_count": 22,
   "id": "opposite-skirt",
   "metadata": {},
   "outputs": [
    {
     "data": {
      "image/png": "[encoded data removed]",
      "text/plain": [
       "<Figure size 720x432 with 1 Axes>"
      ]
     },
     "metadata": {
      "needs_background": "light"
     },
     "output_type": "display_data"
    }
   ],
   "source": [
    "plot_losses(histories)"
   ]
  },
  {
   "cell_type": "code",
   "execution_count": 23,
   "id": "contrary-period",
   "metadata": {},
   "outputs": [
    {
     "data": {
      "image/png": "[encoded data removed]",
      "text/plain": [
       "<Figure size 720x432 with 1 Axes>"
      ]
     },
     "metadata": {
      "needs_background": "light"
     },
     "output_type": "display_data"
    }
   ],
   "source": [
    "plot_lrs(histories)"
   ]
  }
 ],
 "metadata": {
  "kernelspec": {
   "display_name": "Python 3",
   "language": "python",
   "name": "python3"
  },
  "language_info": {
   "codemirror_mode": {
    "name": "ipython",
    "version": 3
   },
   "file_extension": ".py",
   "mimetype": "text/x-python",
   "name": "python",
   "nbconvert_exporter": "python",
   "pygments_lexer": "ipython3",
   "version": "3.6.9"
  }
 },
 "nbformat": 4,
 "nbformat_minor": 5
}
