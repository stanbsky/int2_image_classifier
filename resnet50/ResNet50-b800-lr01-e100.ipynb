{
 "cells": [
  {
   "cell_type": "markdown",
   "metadata": {
    "colab_type": "text",
    "id": "view-in-github"
   },
   "source": [
    "<a href=\"https://colab.research.google.com/github/stanbsky/int2_image_classifier/blob/main/kaggle94gpu.ipynb\" target=\"_parent\"><img src=\"https://colab.research.google.com/assets/colab-badge.svg\" alt=\"Open In Colab\"/></a>"
   ]
  },
  {
   "cell_type": "code",
   "execution_count": 1,
   "metadata": {
    "id": "OD2wVFLtkbkN"
   },
   "outputs": [
    {
     "name": "stderr",
     "output_type": "stream",
     "text": [
      "Matplotlib created a temporary config/cache directory at /tmp/matplotlib-s_573nec because the default path (/run/user/141228/cache/matplotlib) is not a writable directory; it is highly recommended to set the MPLCONFIGDIR environment variable to a writable directory, in particular to speed up the import of Matplotlib and to better support multiprocessing.\n"
     ]
    }
   ],
   "source": [
    "# importing libraries\n",
    "import torch\n",
    "import torchvision\n",
    "from torchvision.datasets.utils import download_url\n",
    "from torch.utils.data import random_split\n",
    "from torchvision.datasets import ImageFolder\n",
    "from torchvision.transforms import ToTensor,ToPILImage\n",
    "import matplotlib.pyplot as plt\n",
    "from torchvision.utils import make_grid\n",
    "from torch.utils.data.dataloader import DataLoader\n",
    "from torchvision.utils import make_grid\n",
    "import torch.nn as nn\n",
    "import torch.nn.functional as F\n",
    "import torchvision.transforms as tt\n",
    "import numpy as np"
   ]
  },
  {
   "cell_type": "code",
   "execution_count": 2,
   "metadata": {
    "id": "Cea6yx4amG2c"
   },
   "outputs": [],
   "source": [
    "import torchvision.datasets as datasets"
   ]
  },
  {
   "cell_type": "code",
   "execution_count": 3,
   "metadata": {
    "colab": {
     "base_uri": "https://localhost:8080/"
    },
    "id": "efdLf1xLk5_y",
    "outputId": "dd7073c3-3026-4d75-eee6-e0425ce35d3e"
   },
   "outputs": [
    {
     "data": {
      "text/plain": [
       "<weakproxy at 0x7f06ef2bf368 to Device at 0x7f06ef338a58>"
      ]
     },
     "execution_count": 3,
     "metadata": {},
     "output_type": "execute_result"
    }
   ],
   "source": [
    "from numba import cuda\n",
    "cuda.select_device(6)"
   ]
  },
  {
   "cell_type": "code",
   "execution_count": 4,
   "metadata": {
    "id": "hNiNZttPlHFe"
   },
   "outputs": [],
   "source": [
    "stats= ((0.4914,0.4822,0.4465),(0.2023,0.1994,0.2010)) #mean and std\n",
    "train_tfm= tt.Compose([tt.RandomCrop(32, padding=4, padding_mode='reflect'), # transormation of data together\n",
    "                       tt.RandomHorizontalFlip(),\n",
    "                       tt.ToTensor()])\n",
    "valid_tfm = tt.Compose([tt.ToTensor()])"
   ]
  },
  {
   "cell_type": "code",
   "execution_count": 5,
   "metadata": {
    "colab": {
     "base_uri": "https://localhost:8080/",
     "height": 86,
     "referenced_widgets": [
      "c974d31e436a42899adbf2ef969307a4",
      "4c7fbb2405c84d7887d63fd6217cba4a",
      "350d156265104e2296caf536b05d26cc",
      "40b5952c97aa40169739936f0d549d02",
      "50c9aed288f14fcd94009217a59c91ff",
      "a448b41c426a4810a07d5eb92df1bc21",
      "29225a4d667e47f980b33c95c0850d16",
      "9ae1047b1b184d81bde7c14ca6ad72d5",
      "37da94684df543f3a81fe78c389f68dc",
      "0433c9c034b7466a98118f517c9ae2e8",
      "fb9ab6c5d81f48089ac0d9dc03c72e6b"
     ]
    },
    "id": "pxotEy_Al0J4",
    "outputId": "90e7b090-0622-4775-fcfa-39958472aa7c"
   },
   "outputs": [
    {
     "name": "stdout",
     "output_type": "stream",
     "text": [
      "Files already downloaded and verified\n"
     ]
    }
   ],
   "source": [
    "training_data = datasets.CIFAR10(\n",
    "    root=\"data\",\n",
    "    train=True,\n",
    "    download=True,\n",
    "    transform=train_tfm,\n",
    ")"
   ]
  },
  {
   "cell_type": "code",
   "execution_count": 6,
   "metadata": {
    "colab": {
     "base_uri": "https://localhost:8080/"
    },
    "id": "3HUIV5yKmj4F",
    "outputId": "96675fe3-76e5-4e9f-9bc2-14b1d389996f"
   },
   "outputs": [
    {
     "name": "stdout",
     "output_type": "stream",
     "text": [
      "Files already downloaded and verified\n"
     ]
    }
   ],
   "source": [
    "# Download test data from open datasets.\n",
    "test_data = datasets.CIFAR10(\n",
    "    root=\"data\",\n",
    "    train=False,\n",
    "    download=True,\n",
    "    transform=valid_tfm,\n",
    ")"
   ]
  },
  {
   "cell_type": "code",
   "execution_count": 7,
   "metadata": {
    "colab": {
     "base_uri": "https://localhost:8080/"
    },
    "id": "3eOTjMVem_T9",
    "outputId": "c3a532da-260b-4bd9-baef-144d73c92f92"
   },
   "outputs": [
    {
     "data": {
      "text/plain": [
       "Dataset CIFAR10\n",
       "    Number of datapoints: 50000\n",
       "    Root location: data\n",
       "    Split: Train\n",
       "    StandardTransform\n",
       "Transform: Compose(\n",
       "               RandomCrop(size=(32, 32), padding=4)\n",
       "               RandomHorizontalFlip(p=0.5)\n",
       "               ToTensor()\n",
       "           )"
      ]
     },
     "execution_count": 7,
     "metadata": {},
     "output_type": "execute_result"
    }
   ],
   "source": [
    "valid_ds = test_data\n",
    "train_ds = training_data\n",
    "train_ds"
   ]
  },
  {
   "cell_type": "code",
   "execution_count": 8,
   "metadata": {
    "id": "JAFQAJUVr7U2"
   },
   "outputs": [],
   "source": [
    "def show_image(img,label):\n",
    "    print('Label: ', train_ds.classes[label],\"(\"+str(label)+\")\")\n",
    "    plt.imshow(img.permute(1,2,0))"
   ]
  },
  {
   "cell_type": "code",
   "execution_count": 9,
   "metadata": {
    "id": "tj5jXuuBri6o"
   },
   "outputs": [],
   "source": [
    "batch_size=800"
   ]
  },
  {
   "cell_type": "code",
   "execution_count": 10,
   "metadata": {
    "id": "n4kCM-hare00"
   },
   "outputs": [],
   "source": [
    "# Dataloader to load data in batches(mini batch)\n",
    "train_dl= DataLoader(train_ds,batch_size,shuffle=True, num_workers=2, pin_memory=True)\n",
    "valid_dl= DataLoader(valid_ds, batch_size, num_workers=2,pin_memory=True)"
   ]
  },
  {
   "cell_type": "code",
   "execution_count": 11,
   "metadata": {
    "id": "mcfsy3QptG2Y"
   },
   "outputs": [],
   "source": [
    "def show_batch(dl):\n",
    "    for images, labels in dl:\n",
    "        fig,ax= plt.subplots(figsize=(12,12))\n",
    "        ax.set_xticks([]) #hide ticks\n",
    "        ax.set_yticks([])\n",
    "        ax.imshow(make_grid(images[:64],nrow=8).permute(1,2,0))\n",
    "        break # printing only first 64 images from first batch"
   ]
  },
  {
   "cell_type": "code",
   "execution_count": 12,
   "metadata": {
    "id": "lPVFZltRtXt4"
   },
   "outputs": [],
   "source": [
    "def get_default_device():\n",
    "    \"\"\"Pick GPU if available, else CPU\"\"\"\n",
    "    if torch.cuda.is_available():\n",
    "        return torch.device('cuda')\n",
    "    else:\n",
    "        return torch.device('cpu')\n",
    "    \n",
    "def to_device(data, device):\n",
    "    \"\"\"Move tensor(s) to chosen device\"\"\"\n",
    "    if isinstance(data, (list,tuple)):\n",
    "        return [to_device(x, device) for x in data]\n",
    "    return data.to(device, non_blocking=True)\n",
    "\n",
    "class DeviceDataLoader():\n",
    "    \"\"\"Wrap a dataloader to move data to a device\"\"\"\n",
    "    def __init__(self, dl, device):\n",
    "        self.dl = dl\n",
    "        self.device = device\n",
    "        \n",
    "    def __iter__(self):\n",
    "        \"\"\"Yield a batch of data after moving it to device\"\"\"\n",
    "        for b in self.dl: \n",
    "            yield to_device(b, self.device)\n",
    "\n",
    "    def __len__(self):\n",
    "        \"\"\"Number of batches\"\"\"\n",
    "        return len(self.dl)"
   ]
  },
  {
   "cell_type": "code",
   "execution_count": 13,
   "metadata": {
    "colab": {
     "base_uri": "https://localhost:8080/"
    },
    "id": "SOksgE3wtYwZ",
    "outputId": "a9fb69e1-9e00-4139-d791-b7c305a7941a"
   },
   "outputs": [
    {
     "data": {
      "text/plain": [
       "device(type='cuda')"
      ]
     },
     "execution_count": 13,
     "metadata": {},
     "output_type": "execute_result"
    }
   ],
   "source": [
    "device = get_default_device()\n",
    "device"
   ]
  },
  {
   "cell_type": "code",
   "execution_count": 14,
   "metadata": {
    "id": "hfVlteXctb6f"
   },
   "outputs": [],
   "source": [
    "train_dl= DeviceDataLoader(train_dl,device)\n",
    "valid_dl = DeviceDataLoader(valid_dl, device)"
   ]
  },
  {
   "cell_type": "code",
   "execution_count": 15,
   "metadata": {
    "id": "PLmLZHBqtlF_"
   },
   "outputs": [],
   "source": [
    "def accuracy(outputs, labels):\n",
    "    _, preds = torch.max(outputs, dim=1)\n",
    "    return torch.tensor(torch.sum(preds == labels).item() / len(preds))\n",
    "\n",
    "class ImageClassificationBase(nn.Module):\n",
    "    def training_step(self, batch):\n",
    "        images, labels = batch \n",
    "        out = self(images)                  # Generate predictions\n",
    "        loss = F.cross_entropy(out, labels) # Calculate loss\n",
    "        return loss\n",
    "    \n",
    "    def validation_step(self, batch):\n",
    "        images, labels = batch \n",
    "        out = self(images)                    # Generate predictions\n",
    "        loss = F.cross_entropy(out, labels)   # Calculate loss\n",
    "        acc = accuracy(out, labels)           # Calculate accuracy\n",
    "        return {'val_loss': loss.detach(), 'val_acc': acc}\n",
    "        \n",
    "    def validation_epoch_end(self, outputs):\n",
    "        batch_losses = [x['val_loss'] for x in outputs]\n",
    "        epoch_loss = torch.stack(batch_losses).mean()   # Combine losses\n",
    "        batch_accs = [x['val_acc'] for x in outputs]\n",
    "        epoch_acc = torch.stack(batch_accs).mean()      # Combine accuracies\n",
    "        return {'val_loss': epoch_loss.item(), 'val_acc': epoch_acc.item()}\n",
    "    \n",
    "    def epoch_end(self, epoch, result):\n",
    "        print(\"Epoch [{}], train_loss: {:.4f}, val_loss: {:.4f}, val_acc: {:.4f}\".format(\n",
    "            epoch, result['train_loss'], result['val_loss'], result['val_acc']))"
   ]
  },
  {
   "cell_type": "code",
   "execution_count": 16,
   "metadata": {
    "id": "LcaZkKzQtomv"
   },
   "outputs": [],
   "source": [
    "def conv_block(in_channels, out_channels, stride=1):\n",
    "    layers = [nn.Conv2d(in_channels, out_channels, kernel_size=3, padding=1, stride=stride), \n",
    "              nn.BatchNorm2d(out_channels), \n",
    "              nn.ReLU(inplace=True)]\n",
    "    return nn.Sequential(*layers)\n",
    "\n",
    "def shortcut(in_channels, out_channels):\n",
    "    return nn.Conv2d(in_channels, out_channels, kernel_size=3, padding=1, stride=2)\n",
    "\n",
    "class ResNet(ImageClassificationBase):\n",
    "    def __init__(self, in_channels, num_classes, n):\n",
    "        super().__init__()\n",
    "        \n",
    "        self.n = n\n",
    "        \n",
    "        # 32x32 map\n",
    "        self.conv1 = conv_block(in_channels, 16)\n",
    "        self.reg32 = nn.Sequential(conv_block(16,16), conv_block(16,16))\n",
    "        \n",
    "        # 16x16 map\n",
    "        self.entry16 = nn.Sequential(conv_block(16, 32, stride=2), conv_block(32, 32))\n",
    "        self.short16 = shortcut(16, 32)\n",
    "        self.reg16 = nn.Sequential(conv_block(32, 32), conv_block(32, 32))\n",
    "        \n",
    "        # 8x8 map\n",
    "        self.entry8 = nn.Sequential(conv_block(32, 64, stride=2), conv_block(64, 64))\n",
    "        self.short8 = shortcut(32, 64)\n",
    "        self.reg8 = nn.Sequential(conv_block(64, 64), conv_block(64, 64))\n",
    "        \n",
    "        self.classifier = nn.Sequential(nn.AvgPool2d(kernel_size=8, stride=None, padding=0), \n",
    "                                        nn.Linear(64, num_classes),\n",
    "                                       nn.Softmax())\n",
    "        # FOR DEBUGGING\n",
    "        self.avg = nn.AvgPool2d(kernel_size=8, stride=None, padding=0)\n",
    "        self.flat = nn.Flatten()\n",
    "        self.fcl = nn.Linear(64, num_classes)\n",
    "        self.sm = nn.Softmax()\n",
    "        \n",
    "    def forward(self, xb):\n",
    "        out = self.conv1(xb)\n",
    "        \n",
    "        for i in range(self.n):\n",
    "            out = self.reg32(out) + out\n",
    "            \n",
    "        out = self.entry16(out) + self.short16(out)\n",
    "        for i in range(self.n - 1):\n",
    "            out = self.reg16(out) + out\n",
    "            \n",
    "        out = self.entry8(out) + self.short8(out)\n",
    "        for i in range(self.n - 1):\n",
    "            out = self.reg8(out) + out\n",
    "\n",
    "        #out = self.classifier(out)\n",
    "        out = self.avg(out)\n",
    "        out = self.flat(out)\n",
    "        out = self.fcl(out)\n",
    "        out = self.sm(out)\n",
    "        \n",
    "        return out"
   ]
  },
  {
   "cell_type": "code",
   "execution_count": 17,
   "metadata": {
    "colab": {
     "base_uri": "https://localhost:8080/"
    },
    "id": "O8BOig0Otrjz",
    "outputId": "a40ce9a4-8852-4595-9525-9841221a3391"
   },
   "outputs": [
    {
     "data": {
      "text/plain": [
       "ResNet(\n",
       "  (conv1): Sequential(\n",
       "    (0): Conv2d(3, 16, kernel_size=(3, 3), stride=(1, 1), padding=(1, 1))\n",
       "    (1): BatchNorm2d(16, eps=1e-05, momentum=0.1, affine=True, track_running_stats=True)\n",
       "    (2): ReLU(inplace=True)\n",
       "  )\n",
       "  (reg32): Sequential(\n",
       "    (0): Sequential(\n",
       "      (0): Conv2d(16, 16, kernel_size=(3, 3), stride=(1, 1), padding=(1, 1))\n",
       "      (1): BatchNorm2d(16, eps=1e-05, momentum=0.1, affine=True, track_running_stats=True)\n",
       "      (2): ReLU(inplace=True)\n",
       "    )\n",
       "    (1): Sequential(\n",
       "      (0): Conv2d(16, 16, kernel_size=(3, 3), stride=(1, 1), padding=(1, 1))\n",
       "      (1): BatchNorm2d(16, eps=1e-05, momentum=0.1, affine=True, track_running_stats=True)\n",
       "      (2): ReLU(inplace=True)\n",
       "    )\n",
       "  )\n",
       "  (entry16): Sequential(\n",
       "    (0): Sequential(\n",
       "      (0): Conv2d(16, 32, kernel_size=(3, 3), stride=(2, 2), padding=(1, 1))\n",
       "      (1): BatchNorm2d(32, eps=1e-05, momentum=0.1, affine=True, track_running_stats=True)\n",
       "      (2): ReLU(inplace=True)\n",
       "    )\n",
       "    (1): Sequential(\n",
       "      (0): Conv2d(32, 32, kernel_size=(3, 3), stride=(1, 1), padding=(1, 1))\n",
       "      (1): BatchNorm2d(32, eps=1e-05, momentum=0.1, affine=True, track_running_stats=True)\n",
       "      (2): ReLU(inplace=True)\n",
       "    )\n",
       "  )\n",
       "  (short16): Conv2d(16, 32, kernel_size=(3, 3), stride=(2, 2), padding=(1, 1))\n",
       "  (reg16): Sequential(\n",
       "    (0): Sequential(\n",
       "      (0): Conv2d(32, 32, kernel_size=(3, 3), stride=(1, 1), padding=(1, 1))\n",
       "      (1): BatchNorm2d(32, eps=1e-05, momentum=0.1, affine=True, track_running_stats=True)\n",
       "      (2): ReLU(inplace=True)\n",
       "    )\n",
       "    (1): Sequential(\n",
       "      (0): Conv2d(32, 32, kernel_size=(3, 3), stride=(1, 1), padding=(1, 1))\n",
       "      (1): BatchNorm2d(32, eps=1e-05, momentum=0.1, affine=True, track_running_stats=True)\n",
       "      (2): ReLU(inplace=True)\n",
       "    )\n",
       "  )\n",
       "  (entry8): Sequential(\n",
       "    (0): Sequential(\n",
       "      (0): Conv2d(32, 64, kernel_size=(3, 3), stride=(2, 2), padding=(1, 1))\n",
       "      (1): BatchNorm2d(64, eps=1e-05, momentum=0.1, affine=True, track_running_stats=True)\n",
       "      (2): ReLU(inplace=True)\n",
       "    )\n",
       "    (1): Sequential(\n",
       "      (0): Conv2d(64, 64, kernel_size=(3, 3), stride=(1, 1), padding=(1, 1))\n",
       "      (1): BatchNorm2d(64, eps=1e-05, momentum=0.1, affine=True, track_running_stats=True)\n",
       "      (2): ReLU(inplace=True)\n",
       "    )\n",
       "  )\n",
       "  (short8): Conv2d(32, 64, kernel_size=(3, 3), stride=(2, 2), padding=(1, 1))\n",
       "  (reg8): Sequential(\n",
       "    (0): Sequential(\n",
       "      (0): Conv2d(64, 64, kernel_size=(3, 3), stride=(1, 1), padding=(1, 1))\n",
       "      (1): BatchNorm2d(64, eps=1e-05, momentum=0.1, affine=True, track_running_stats=True)\n",
       "      (2): ReLU(inplace=True)\n",
       "    )\n",
       "    (1): Sequential(\n",
       "      (0): Conv2d(64, 64, kernel_size=(3, 3), stride=(1, 1), padding=(1, 1))\n",
       "      (1): BatchNorm2d(64, eps=1e-05, momentum=0.1, affine=True, track_running_stats=True)\n",
       "      (2): ReLU(inplace=True)\n",
       "    )\n",
       "  )\n",
       "  (classifier): Sequential(\n",
       "    (0): AvgPool2d(kernel_size=8, stride=8, padding=0)\n",
       "    (1): Linear(in_features=64, out_features=10, bias=True)\n",
       "    (2): Softmax(dim=None)\n",
       "  )\n",
       "  (avg): AvgPool2d(kernel_size=8, stride=8, padding=0)\n",
       "  (flat): Flatten(start_dim=1, end_dim=-1)\n",
       "  (fcl): Linear(in_features=64, out_features=10, bias=True)\n",
       "  (sm): Softmax(dim=None)\n",
       ")"
      ]
     },
     "execution_count": 17,
     "metadata": {},
     "output_type": "execute_result"
    }
   ],
   "source": [
    "# n=8 => ResNet50\n",
    "model= to_device(ResNet(3,10,8), device)\n",
    "model"
   ]
  },
  {
   "cell_type": "code",
   "execution_count": 18,
   "metadata": {
    "colab": {
     "base_uri": "https://localhost:8080/"
    },
    "id": "O8BOig0Otrjz",
    "outputId": "a40ce9a4-8852-4595-9525-9841221a3391"
   },
   "outputs": [
    {
     "name": "stdout",
     "output_type": "stream",
     "text": [
      "----------------------------------------------------------------\n",
      "        Layer (type)               Output Shape         Param #\n",
      "================================================================\n",
      "            Conv2d-1           [-1, 16, 32, 32]             448\n",
      "       BatchNorm2d-2           [-1, 16, 32, 32]              32\n",
      "              ReLU-3           [-1, 16, 32, 32]               0\n",
      "            Conv2d-4           [-1, 16, 32, 32]           2,320\n",
      "       BatchNorm2d-5           [-1, 16, 32, 32]              32\n",
      "              ReLU-6           [-1, 16, 32, 32]               0\n",
      "            Conv2d-7           [-1, 16, 32, 32]           2,320\n",
      "       BatchNorm2d-8           [-1, 16, 32, 32]              32\n",
      "              ReLU-9           [-1, 16, 32, 32]               0\n",
      "           Conv2d-10           [-1, 16, 32, 32]           2,320\n",
      "      BatchNorm2d-11           [-1, 16, 32, 32]              32\n",
      "             ReLU-12           [-1, 16, 32, 32]               0\n",
      "           Conv2d-13           [-1, 16, 32, 32]           2,320\n",
      "      BatchNorm2d-14           [-1, 16, 32, 32]              32\n",
      "             ReLU-15           [-1, 16, 32, 32]               0\n",
      "           Conv2d-16           [-1, 16, 32, 32]           2,320\n",
      "      BatchNorm2d-17           [-1, 16, 32, 32]              32\n",
      "             ReLU-18           [-1, 16, 32, 32]               0\n",
      "           Conv2d-19           [-1, 16, 32, 32]           2,320\n",
      "      BatchNorm2d-20           [-1, 16, 32, 32]              32\n",
      "             ReLU-21           [-1, 16, 32, 32]               0\n",
      "           Conv2d-22           [-1, 16, 32, 32]           2,320\n",
      "      BatchNorm2d-23           [-1, 16, 32, 32]              32\n",
      "             ReLU-24           [-1, 16, 32, 32]               0\n",
      "           Conv2d-25           [-1, 16, 32, 32]           2,320\n",
      "      BatchNorm2d-26           [-1, 16, 32, 32]              32\n",
      "             ReLU-27           [-1, 16, 32, 32]               0\n",
      "           Conv2d-28           [-1, 16, 32, 32]           2,320\n",
      "      BatchNorm2d-29           [-1, 16, 32, 32]              32\n",
      "             ReLU-30           [-1, 16, 32, 32]               0\n",
      "           Conv2d-31           [-1, 16, 32, 32]           2,320\n",
      "      BatchNorm2d-32           [-1, 16, 32, 32]              32\n",
      "             ReLU-33           [-1, 16, 32, 32]               0\n",
      "           Conv2d-34           [-1, 16, 32, 32]           2,320\n",
      "      BatchNorm2d-35           [-1, 16, 32, 32]              32\n",
      "             ReLU-36           [-1, 16, 32, 32]               0\n",
      "           Conv2d-37           [-1, 16, 32, 32]           2,320\n",
      "      BatchNorm2d-38           [-1, 16, 32, 32]              32\n",
      "             ReLU-39           [-1, 16, 32, 32]               0\n",
      "           Conv2d-40           [-1, 16, 32, 32]           2,320\n",
      "      BatchNorm2d-41           [-1, 16, 32, 32]              32\n",
      "             ReLU-42           [-1, 16, 32, 32]               0\n",
      "           Conv2d-43           [-1, 16, 32, 32]           2,320\n",
      "      BatchNorm2d-44           [-1, 16, 32, 32]              32\n",
      "             ReLU-45           [-1, 16, 32, 32]               0\n",
      "           Conv2d-46           [-1, 16, 32, 32]           2,320\n",
      "      BatchNorm2d-47           [-1, 16, 32, 32]              32\n",
      "             ReLU-48           [-1, 16, 32, 32]               0\n",
      "           Conv2d-49           [-1, 16, 32, 32]           2,320\n",
      "      BatchNorm2d-50           [-1, 16, 32, 32]              32\n",
      "             ReLU-51           [-1, 16, 32, 32]               0\n",
      "           Conv2d-52           [-1, 32, 16, 16]           4,640\n",
      "      BatchNorm2d-53           [-1, 32, 16, 16]              64\n",
      "             ReLU-54           [-1, 32, 16, 16]               0\n",
      "           Conv2d-55           [-1, 32, 16, 16]           9,248\n",
      "      BatchNorm2d-56           [-1, 32, 16, 16]              64\n",
      "             ReLU-57           [-1, 32, 16, 16]               0\n",
      "           Conv2d-58           [-1, 32, 16, 16]           4,640\n",
      "           Conv2d-59           [-1, 32, 16, 16]           9,248\n",
      "      BatchNorm2d-60           [-1, 32, 16, 16]              64\n",
      "             ReLU-61           [-1, 32, 16, 16]               0\n",
      "           Conv2d-62           [-1, 32, 16, 16]           9,248\n",
      "      BatchNorm2d-63           [-1, 32, 16, 16]              64\n",
      "             ReLU-64           [-1, 32, 16, 16]               0\n",
      "           Conv2d-65           [-1, 32, 16, 16]           9,248\n",
      "      BatchNorm2d-66           [-1, 32, 16, 16]              64\n",
      "             ReLU-67           [-1, 32, 16, 16]               0\n",
      "           Conv2d-68           [-1, 32, 16, 16]           9,248\n",
      "      BatchNorm2d-69           [-1, 32, 16, 16]              64\n",
      "             ReLU-70           [-1, 32, 16, 16]               0\n",
      "           Conv2d-71           [-1, 32, 16, 16]           9,248\n",
      "      BatchNorm2d-72           [-1, 32, 16, 16]              64\n",
      "             ReLU-73           [-1, 32, 16, 16]               0\n",
      "           Conv2d-74           [-1, 32, 16, 16]           9,248\n",
      "      BatchNorm2d-75           [-1, 32, 16, 16]              64\n",
      "             ReLU-76           [-1, 32, 16, 16]               0\n",
      "           Conv2d-77           [-1, 32, 16, 16]           9,248\n",
      "      BatchNorm2d-78           [-1, 32, 16, 16]              64\n",
      "             ReLU-79           [-1, 32, 16, 16]               0\n",
      "           Conv2d-80           [-1, 32, 16, 16]           9,248\n",
      "      BatchNorm2d-81           [-1, 32, 16, 16]              64\n",
      "             ReLU-82           [-1, 32, 16, 16]               0\n",
      "           Conv2d-83           [-1, 32, 16, 16]           9,248\n",
      "      BatchNorm2d-84           [-1, 32, 16, 16]              64\n",
      "             ReLU-85           [-1, 32, 16, 16]               0\n",
      "           Conv2d-86           [-1, 32, 16, 16]           9,248\n",
      "      BatchNorm2d-87           [-1, 32, 16, 16]              64\n",
      "             ReLU-88           [-1, 32, 16, 16]               0\n",
      "           Conv2d-89           [-1, 32, 16, 16]           9,248\n",
      "      BatchNorm2d-90           [-1, 32, 16, 16]              64\n",
      "             ReLU-91           [-1, 32, 16, 16]               0\n",
      "           Conv2d-92           [-1, 32, 16, 16]           9,248\n",
      "      BatchNorm2d-93           [-1, 32, 16, 16]              64\n",
      "             ReLU-94           [-1, 32, 16, 16]               0\n",
      "           Conv2d-95           [-1, 32, 16, 16]           9,248\n",
      "      BatchNorm2d-96           [-1, 32, 16, 16]              64\n",
      "             ReLU-97           [-1, 32, 16, 16]               0\n",
      "           Conv2d-98           [-1, 32, 16, 16]           9,248\n",
      "      BatchNorm2d-99           [-1, 32, 16, 16]              64\n",
      "            ReLU-100           [-1, 32, 16, 16]               0\n",
      "          Conv2d-101             [-1, 64, 8, 8]          18,496\n",
      "     BatchNorm2d-102             [-1, 64, 8, 8]             128\n",
      "            ReLU-103             [-1, 64, 8, 8]               0\n",
      "          Conv2d-104             [-1, 64, 8, 8]          36,928\n",
      "     BatchNorm2d-105             [-1, 64, 8, 8]             128\n",
      "            ReLU-106             [-1, 64, 8, 8]               0\n",
      "          Conv2d-107             [-1, 64, 8, 8]          18,496\n",
      "          Conv2d-108             [-1, 64, 8, 8]          36,928\n",
      "     BatchNorm2d-109             [-1, 64, 8, 8]             128\n",
      "            ReLU-110             [-1, 64, 8, 8]               0\n",
      "          Conv2d-111             [-1, 64, 8, 8]          36,928\n",
      "     BatchNorm2d-112             [-1, 64, 8, 8]             128\n",
      "            ReLU-113             [-1, 64, 8, 8]               0\n",
      "          Conv2d-114             [-1, 64, 8, 8]          36,928\n",
      "     BatchNorm2d-115             [-1, 64, 8, 8]             128\n",
      "            ReLU-116             [-1, 64, 8, 8]               0\n",
      "          Conv2d-117             [-1, 64, 8, 8]          36,928\n",
      "     BatchNorm2d-118             [-1, 64, 8, 8]             128\n",
      "            ReLU-119             [-1, 64, 8, 8]               0\n",
      "          Conv2d-120             [-1, 64, 8, 8]          36,928\n",
      "     BatchNorm2d-121             [-1, 64, 8, 8]             128\n",
      "            ReLU-122             [-1, 64, 8, 8]               0\n",
      "          Conv2d-123             [-1, 64, 8, 8]          36,928\n",
      "     BatchNorm2d-124             [-1, 64, 8, 8]             128\n",
      "            ReLU-125             [-1, 64, 8, 8]               0\n",
      "          Conv2d-126             [-1, 64, 8, 8]          36,928\n",
      "     BatchNorm2d-127             [-1, 64, 8, 8]             128\n",
      "            ReLU-128             [-1, 64, 8, 8]               0\n",
      "          Conv2d-129             [-1, 64, 8, 8]          36,928\n",
      "     BatchNorm2d-130             [-1, 64, 8, 8]             128\n",
      "            ReLU-131             [-1, 64, 8, 8]               0\n",
      "          Conv2d-132             [-1, 64, 8, 8]          36,928\n",
      "     BatchNorm2d-133             [-1, 64, 8, 8]             128\n",
      "            ReLU-134             [-1, 64, 8, 8]               0\n",
      "          Conv2d-135             [-1, 64, 8, 8]          36,928\n",
      "     BatchNorm2d-136             [-1, 64, 8, 8]             128\n",
      "            ReLU-137             [-1, 64, 8, 8]               0\n",
      "          Conv2d-138             [-1, 64, 8, 8]          36,928\n",
      "     BatchNorm2d-139             [-1, 64, 8, 8]             128\n",
      "            ReLU-140             [-1, 64, 8, 8]               0\n",
      "          Conv2d-141             [-1, 64, 8, 8]          36,928\n",
      "     BatchNorm2d-142             [-1, 64, 8, 8]             128\n",
      "            ReLU-143             [-1, 64, 8, 8]               0\n",
      "          Conv2d-144             [-1, 64, 8, 8]          36,928\n",
      "     BatchNorm2d-145             [-1, 64, 8, 8]             128\n",
      "            ReLU-146             [-1, 64, 8, 8]               0\n",
      "          Conv2d-147             [-1, 64, 8, 8]          36,928\n",
      "     BatchNorm2d-148             [-1, 64, 8, 8]             128\n",
      "            ReLU-149             [-1, 64, 8, 8]               0\n",
      "       AvgPool2d-150             [-1, 64, 1, 1]               0\n",
      "         Flatten-151                   [-1, 64]               0\n",
      "          Linear-152                   [-1, 10]             650\n",
      "         Softmax-153                   [-1, 10]               0\n",
      "================================================================\n",
      "Total params: 780,746\n",
      "Trainable params: 780,746\n",
      "Non-trainable params: 0\n",
      "----------------------------------------------------------------\n",
      "Input size (MB): 0.01\n",
      "Forward/backward pass size (MB): 10.97\n",
      "Params size (MB): 2.98\n",
      "Estimated Total Size (MB): 13.96\n",
      "----------------------------------------------------------------\n"
     ]
    },
    {
     "name": "stderr",
     "output_type": "stream",
     "text": [
      "/home/userfs/s/sb2444/.local/lib/python3.6/site-packages/ipykernel_launcher.py:57: UserWarning: Implicit dimension choice for softmax has been deprecated. Change the call to include dim=X as an argument.\n"
     ]
    }
   ],
   "source": [
    "from torchvision import models\n",
    "from torchsummary import summary\n",
    "summary(model, (3, 32, 32))"
   ]
  },
  {
   "cell_type": "code",
   "execution_count": 19,
   "metadata": {
    "id": "hmbJUvR3t0QY"
   },
   "outputs": [],
   "source": [
    "@torch.no_grad()\n",
    "def evaluate(model, val_loader):\n",
    "    model.eval()\n",
    "    outputs = [model.validation_step(batch) for batch in val_loader]\n",
    "    return model.validation_epoch_end(outputs)\n",
    "\n",
    "def get_lr(optimizer):\n",
    "    for param_group in optimizer.param_groups:\n",
    "        return param_group['lr']\n",
    "\n",
    "def fit_one_cycle(epochs, max_lr, model, train_loader, val_loader, \n",
    "                  weight_decay=0, grad_clip=None, opt_func=torch.optim.SGD):\n",
    "    torch.cuda.empty_cache()  # Realsing cuda memory otherwise might get cuda out of memory error\n",
    "    history = []\n",
    "    \n",
    "    #custom optimizer with weight decay\n",
    "    optimizer = opt_func(model.parameters(), max_lr, weight_decay=weight_decay)\n",
    "    # Set up one-cycle learning rate scheduler\n",
    "    sched = torch.optim.lr_scheduler.OneCycleLR(optimizer, max_lr, epochs=epochs, \n",
    "                                                steps_per_epoch=len(train_loader))\n",
    "    \n",
    "    for epoch in range(epochs):\n",
    "        # Training Phase \n",
    "        model.train() #Setting training mode\n",
    "        train_losses = []\n",
    "        lrs = []\n",
    "        for batch in train_loader:\n",
    "            loss = model.training_step(batch)\n",
    "            train_losses.append(loss)\n",
    "            loss.backward()\n",
    "            \n",
    "            # Gradient clipping\n",
    "            if grad_clip: \n",
    "                nn.utils.clip_grad_value_(model.parameters(), grad_clip)\n",
    "            \n",
    "            optimizer.step()\n",
    "            optimizer.zero_grad()\n",
    "            \n",
    "            # Record & update learning rate\n",
    "            lrs.append(get_lr(optimizer))\n",
    "            sched.step()\n",
    "        \n",
    "        # Validation phase\n",
    "        result = evaluate(model, val_loader)\n",
    "        result['train_loss'] = torch.stack(train_losses).mean().item()\n",
    "        result['lrs'] = lrs\n",
    "        model.epoch_end(epoch, result)\n",
    "        history.append(result)\n",
    "    return history"
   ]
  },
  {
   "cell_type": "code",
   "execution_count": 20,
   "metadata": {
    "colab": {
     "base_uri": "https://localhost:8080/"
    },
    "id": "_TPdh3fbt1fH",
    "outputId": "a22ad739-4bd6-459d-f905-64450f06bf4c"
   },
   "outputs": [
    {
     "name": "stderr",
     "output_type": "stream",
     "text": [
      "/home/userfs/s/sb2444/.local/lib/python3.6/site-packages/ipykernel_launcher.py:57: UserWarning: Implicit dimension choice for softmax has been deprecated. Change the call to include dim=X as an argument.\n"
     ]
    },
    {
     "data": {
      "text/plain": [
       "[{'val_loss': 2.303205966949463, 'val_acc': 0.10000000894069672}]"
      ]
     },
     "execution_count": 20,
     "metadata": {},
     "output_type": "execute_result"
    }
   ],
   "source": [
    "history = [evaluate(model, valid_dl)]\n",
    "history"
   ]
  },
  {
   "cell_type": "code",
   "execution_count": 21,
   "metadata": {
    "id": "fFL3dFDnt6pb"
   },
   "outputs": [],
   "source": [
    "epochs = 100\n",
    "max_lr = 0.01\n",
    "grad_clip = 0.1\n",
    "weight_decay = 1e-4\n",
    "opt_func = torch.optim.Adam"
   ]
  },
  {
   "cell_type": "code",
   "execution_count": 22,
   "metadata": {
    "colab": {
     "base_uri": "https://localhost:8080/"
    },
    "id": "01CAjQi2t8Ub",
    "outputId": "776b2d7d-902f-4f3c-ece0-24ccd16c4d53"
   },
   "outputs": [
    {
     "name": "stderr",
     "output_type": "stream",
     "text": [
      "/home/userfs/s/sb2444/.local/lib/python3.6/site-packages/ipykernel_launcher.py:57: UserWarning: Implicit dimension choice for softmax has been deprecated. Change the call to include dim=X as an argument.\n"
     ]
    },
    {
     "name": "stdout",
     "output_type": "stream",
     "text": [
      "Epoch [0], train_loss: 2.1960, val_loss: 2.3209, val_acc: 0.1216\n",
      "Epoch [1], train_loss: 2.1192, val_loss: 2.3227, val_acc: 0.1275\n",
      "Epoch [2], train_loss: 2.0786, val_loss: 2.3164, val_acc: 0.1396\n",
      "Epoch [3], train_loss: 2.0445, val_loss: 2.2672, val_acc: 0.1753\n",
      "Epoch [4], train_loss: 1.9980, val_loss: 2.2958, val_acc: 0.1495\n",
      "Epoch [5], train_loss: 1.9387, val_loss: 2.2525, val_acc: 0.1928\n",
      "Epoch [6], train_loss: 1.8944, val_loss: 2.2748, val_acc: 0.1736\n",
      "Epoch [7], train_loss: 1.8768, val_loss: 2.2518, val_acc: 0.1956\n",
      "Epoch [8], train_loss: 1.8612, val_loss: 2.1783, val_acc: 0.2655\n",
      "Epoch [9], train_loss: 1.8470, val_loss: 2.1944, val_acc: 0.2547\n",
      "Epoch [10], train_loss: 1.8301, val_loss: 2.2194, val_acc: 0.2278\n",
      "Epoch [11], train_loss: 1.8285, val_loss: 2.2238, val_acc: 0.2246\n",
      "Epoch [12], train_loss: 1.8139, val_loss: 2.1614, val_acc: 0.2892\n",
      "Epoch [13], train_loss: 1.8063, val_loss: 2.0991, val_acc: 0.3553\n",
      "Epoch [14], train_loss: 1.7927, val_loss: 2.1897, val_acc: 0.2607\n",
      "Epoch [15], train_loss: 1.7876, val_loss: 2.0744, val_acc: 0.3778\n",
      "Epoch [16], train_loss: 1.7866, val_loss: 1.9012, val_acc: 0.5576\n",
      "Epoch [17], train_loss: 1.7733, val_loss: 1.9104, val_acc: 0.5481\n",
      "Epoch [18], train_loss: 1.7752, val_loss: 1.9243, val_acc: 0.5297\n",
      "Epoch [19], train_loss: 1.7663, val_loss: 1.9228, val_acc: 0.5376\n",
      "Epoch [20], train_loss: 1.7642, val_loss: 1.9428, val_acc: 0.5114\n",
      "Epoch [21], train_loss: 1.7658, val_loss: 2.0039, val_acc: 0.4497\n",
      "Epoch [22], train_loss: 1.7669, val_loss: 1.9332, val_acc: 0.5258\n",
      "Epoch [23], train_loss: 1.7521, val_loss: 1.8364, val_acc: 0.6231\n",
      "Epoch [24], train_loss: 1.7571, val_loss: 1.8870, val_acc: 0.5730\n",
      "Epoch [25], train_loss: 1.7555, val_loss: 1.8620, val_acc: 0.5976\n",
      "Epoch [26], train_loss: 1.7562, val_loss: 1.8731, val_acc: 0.5835\n",
      "Epoch [27], train_loss: 1.7525, val_loss: 1.9730, val_acc: 0.4829\n",
      "Epoch [28], train_loss: 1.7484, val_loss: 1.8459, val_acc: 0.6116\n",
      "Epoch [29], train_loss: 1.7507, val_loss: 1.8409, val_acc: 0.6165\n",
      "Epoch [30], train_loss: 1.7442, val_loss: 1.8486, val_acc: 0.6105\n",
      "Epoch [31], train_loss: 1.7501, val_loss: 1.9359, val_acc: 0.5211\n",
      "Epoch [32], train_loss: 1.7576, val_loss: 1.8396, val_acc: 0.6204\n",
      "Epoch [33], train_loss: 1.7505, val_loss: 1.7884, val_acc: 0.6712\n",
      "Epoch [34], train_loss: 1.7482, val_loss: 1.7972, val_acc: 0.6610\n",
      "Epoch [35], train_loss: 1.7463, val_loss: 1.7745, val_acc: 0.6848\n",
      "Epoch [36], train_loss: 1.7448, val_loss: 1.9074, val_acc: 0.5496\n",
      "Epoch [37], train_loss: 1.7481, val_loss: 1.8493, val_acc: 0.6088\n",
      "Epoch [38], train_loss: 1.7446, val_loss: 1.8497, val_acc: 0.6107\n",
      "Epoch [39], train_loss: 1.7418, val_loss: 1.8039, val_acc: 0.6544\n",
      "Epoch [40], train_loss: 1.7438, val_loss: 1.8927, val_acc: 0.5660\n",
      "Epoch [41], train_loss: 1.7350, val_loss: 1.7459, val_acc: 0.7153\n",
      "Epoch [42], train_loss: 1.7349, val_loss: 1.8051, val_acc: 0.6524\n",
      "Epoch [43], train_loss: 1.7304, val_loss: 1.8019, val_acc: 0.6566\n",
      "Epoch [44], train_loss: 1.7268, val_loss: 1.9084, val_acc: 0.5485\n",
      "Epoch [45], train_loss: 1.7349, val_loss: 1.8593, val_acc: 0.5986\n",
      "Epoch [46], train_loss: 1.7308, val_loss: 1.7435, val_acc: 0.7155\n",
      "Epoch [47], train_loss: 1.7276, val_loss: 1.7441, val_acc: 0.7156\n",
      "Epoch [48], train_loss: 1.7346, val_loss: 1.7892, val_acc: 0.6718\n",
      "Epoch [49], train_loss: 1.7293, val_loss: 1.7884, val_acc: 0.6699\n",
      "Epoch [50], train_loss: 1.7170, val_loss: 1.7454, val_acc: 0.7149\n",
      "Epoch [51], train_loss: 1.7124, val_loss: 1.7395, val_acc: 0.7209\n",
      "Epoch [52], train_loss: 1.7095, val_loss: 1.7711, val_acc: 0.6881\n",
      "Epoch [53], train_loss: 1.7118, val_loss: 1.7818, val_acc: 0.6775\n",
      "Epoch [54], train_loss: 1.7094, val_loss: 1.7535, val_acc: 0.7070\n",
      "Epoch [55], train_loss: 1.7043, val_loss: 1.7262, val_acc: 0.7322\n",
      "Epoch [56], train_loss: 1.6991, val_loss: 1.7584, val_acc: 0.7012\n",
      "Epoch [57], train_loss: 1.7025, val_loss: 1.7531, val_acc: 0.7059\n",
      "Epoch [58], train_loss: 1.6953, val_loss: 1.7476, val_acc: 0.7130\n",
      "Epoch [59], train_loss: 1.6927, val_loss: 1.7499, val_acc: 0.7086\n",
      "Epoch [60], train_loss: 1.6909, val_loss: 1.7634, val_acc: 0.6939\n",
      "Epoch [61], train_loss: 1.6841, val_loss: 1.7465, val_acc: 0.7132\n",
      "Epoch [62], train_loss: 1.6833, val_loss: 1.7090, val_acc: 0.7495\n",
      "Epoch [63], train_loss: 1.6761, val_loss: 1.7050, val_acc: 0.7537\n",
      "Epoch [64], train_loss: 1.6742, val_loss: 1.7034, val_acc: 0.7575\n",
      "Epoch [65], train_loss: 1.6715, val_loss: 1.7350, val_acc: 0.7240\n",
      "Epoch [66], train_loss: 1.6667, val_loss: 1.7023, val_acc: 0.7578\n",
      "Epoch [67], train_loss: 1.6624, val_loss: 1.7250, val_acc: 0.7342\n",
      "Epoch [68], train_loss: 1.6589, val_loss: 1.7139, val_acc: 0.7451\n",
      "Epoch [69], train_loss: 1.6563, val_loss: 1.6788, val_acc: 0.7825\n",
      "Epoch [70], train_loss: 1.6498, val_loss: 1.6920, val_acc: 0.7680\n",
      "Epoch [71], train_loss: 1.6477, val_loss: 1.6998, val_acc: 0.7613\n",
      "Epoch [72], train_loss: 1.6444, val_loss: 1.6820, val_acc: 0.7785\n",
      "Epoch [73], train_loss: 1.6371, val_loss: 1.6829, val_acc: 0.7773\n",
      "Epoch [74], train_loss: 1.6356, val_loss: 1.6704, val_acc: 0.7899\n",
      "Epoch [75], train_loss: 1.6354, val_loss: 1.6686, val_acc: 0.7931\n",
      "Epoch [76], train_loss: 1.6286, val_loss: 1.6696, val_acc: 0.7915\n",
      "Epoch [77], train_loss: 1.6236, val_loss: 1.6749, val_acc: 0.7859\n",
      "Epoch [78], train_loss: 1.6198, val_loss: 1.6823, val_acc: 0.7802\n",
      "Epoch [79], train_loss: 1.6166, val_loss: 1.6540, val_acc: 0.8094\n",
      "Epoch [80], train_loss: 1.6122, val_loss: 1.6505, val_acc: 0.8116\n",
      "Epoch [81], train_loss: 1.6101, val_loss: 1.6528, val_acc: 0.8091\n",
      "Epoch [82], train_loss: 1.6070, val_loss: 1.6586, val_acc: 0.8042\n",
      "Epoch [83], train_loss: 1.6018, val_loss: 1.6501, val_acc: 0.8111\n",
      "Epoch [84], train_loss: 1.5989, val_loss: 1.6408, val_acc: 0.8213\n",
      "Epoch [85], train_loss: 1.5957, val_loss: 1.6439, val_acc: 0.8183\n",
      "Epoch [86], train_loss: 1.5945, val_loss: 1.6325, val_acc: 0.8291\n",
      "Epoch [87], train_loss: 1.5913, val_loss: 1.6319, val_acc: 0.8295\n",
      "Epoch [88], train_loss: 1.5885, val_loss: 1.6359, val_acc: 0.8256\n",
      "Epoch [89], train_loss: 1.5869, val_loss: 1.6305, val_acc: 0.8326\n",
      "Epoch [90], train_loss: 1.5841, val_loss: 1.6354, val_acc: 0.8260\n",
      "Epoch [91], train_loss: 1.5814, val_loss: 1.6213, val_acc: 0.8400\n",
      "Epoch [92], train_loss: 1.5806, val_loss: 1.6297, val_acc: 0.8324\n",
      "Epoch [93], train_loss: 1.5762, val_loss: 1.6287, val_acc: 0.8337\n",
      "Epoch [94], train_loss: 1.5761, val_loss: 1.6326, val_acc: 0.8298\n",
      "Epoch [95], train_loss: 1.5778, val_loss: 1.6264, val_acc: 0.8348\n",
      "Epoch [96], train_loss: 1.5744, val_loss: 1.6269, val_acc: 0.8343\n",
      "Epoch [97], train_loss: 1.5749, val_loss: 1.6285, val_acc: 0.8335\n",
      "Epoch [98], train_loss: 1.5739, val_loss: 1.6279, val_acc: 0.8349\n",
      "Epoch [99], train_loss: 1.5753, val_loss: 1.6267, val_acc: 0.8340\n",
      "CPU times: user 16min 39s, sys: 6min 23s, total: 23min 2s\n",
      "Wall time: 24min 22s\n"
     ]
    }
   ],
   "source": [
    "%%time\n",
    "history += fit_one_cycle(epochs, max_lr, model, train_dl, valid_dl, \n",
    "                             grad_clip=grad_clip, \n",
    "                             weight_decay=weight_decay, \n",
    "                             opt_func=opt_func)"
   ]
  },
  {
   "cell_type": "code",
   "execution_count": 23,
   "metadata": {
    "id": "jvJzQAeNjB6Y"
   },
   "outputs": [],
   "source": [
    "def plot_accuracies(history):\n",
    "    accuracies = [x['val_acc'] for x in history]\n",
    "    plt.figure(figsize=(10,6))\n",
    "    plt.plot(accuracies, '-x')\n",
    "    plt.xlabel('epoch')\n",
    "    plt.ylabel('accuracy')\n",
    "    plt.title('Accuracy vs. No. of epochs');"
   ]
  },
  {
   "cell_type": "code",
   "execution_count": 24,
   "metadata": {
    "colab": {
     "base_uri": "https://localhost:8080/",
     "height": 171
    },
    "id": "fYuANPlfjIvt",
    "outputId": "08453f89-0933-4bd9-e02a-d760aad8714f"
   },
   "outputs": [
    {
     "data": {
      "image/png": "[encoded data removed]",
      "text/plain": [
       "<Figure size 720x432 with 1 Axes>"
      ]
     },
     "metadata": {
      "needs_background": "light"
     },
     "output_type": "display_data"
    }
   ],
   "source": [
    "plot_accuracies(history)"
   ]
  },
  {
   "cell_type": "code",
   "execution_count": 25,
   "metadata": {
    "id": "JV6cn39HjTF-"
   },
   "outputs": [],
   "source": [
    "def plot_losses(history):\n",
    "    train_losses = [x.get('train_loss') for x in history]\n",
    "    val_losses = [x['val_loss'] for x in history]\n",
    "    plt.figure(figsize=(10,6))\n",
    "    plt.plot(train_losses, '-bx')\n",
    "    plt.plot(val_losses, '-rx')\n",
    "    plt.xlabel('epoch')\n",
    "    plt.ylabel('loss')\n",
    "    plt.legend(['Training', 'Validation'])\n",
    "    plt.title('Loss vs. No. of epochs');"
   ]
  },
  {
   "cell_type": "code",
   "execution_count": 26,
   "metadata": {
    "colab": {
     "base_uri": "https://localhost:8080/",
     "height": 171
    },
    "id": "kuky-BEDjUw_",
    "outputId": "e33b1eb9-e7c7-483d-829a-75bce6a074ae"
   },
   "outputs": [
    {
     "data": {
      "image/png": "[encoded data removed]",
      "text/plain": [
       "<Figure size 720x432 with 1 Axes>"
      ]
     },
     "metadata": {
      "needs_background": "light"
     },
     "output_type": "display_data"
    }
   ],
   "source": [
    "plot_losses(history)"
   ]
  },
  {
   "cell_type": "code",
   "execution_count": 27,
   "metadata": {
    "id": "ToUcs2S6jZl_"
   },
   "outputs": [],
   "source": [
    "def plot_lrs(history):\n",
    "    lrs = np.concatenate([x.get('lrs', []) for x in history])\n",
    "    plt.figure(figsize=(10,6))\n",
    "    plt.plot(lrs)\n",
    "    plt.xlabel('Batch no.')\n",
    "    plt.ylabel('Learning rate')\n",
    "    plt.title('Learning Rate vs. Batch no.');"
   ]
  },
  {
   "cell_type": "code",
   "execution_count": 28,
   "metadata": {
    "colab": {
     "base_uri": "https://localhost:8080/",
     "height": 171
    },
    "id": "V1ao5oIJjboF",
    "outputId": "23d3a338-12ab-42be-b2de-8a2b3d55ccae"
   },
   "outputs": [
    {
     "data": {
      "image/png": "[encoded data removed]",
      "text/plain": [
       "<Figure size 720x432 with 1 Axes>"
      ]
     },
     "metadata": {
      "needs_background": "light"
     },
     "output_type": "display_data"
    }
   ],
   "source": [
    "plot_lrs(history)"
   ]
  }
 ],
 "metadata": {
  "accelerator": "GPU",
  "colab": {
   "collapsed_sections": [],
   "include_colab_link": true,
   "name": "kaggle94gpu.ipynb",
   "provenance": []
  },
  "kernelspec": {
   "display_name": "Python 3",
   "language": "python",
   "name": "python3"
  },
  "language_info": {
   "codemirror_mode": {
    "name": "ipython",
    "version": 3
   },
   "file_extension": ".py",
   "mimetype": "text/x-python",
   "name": "python",
   "nbconvert_exporter": "python",
   "pygments_lexer": "ipython3",
   "version": "3.6.9"
  },
  "widgets": {
   "application/vnd.jupyter.widget-state+json": {
    "0433c9c034b7466a98118f517c9ae2e8": {
     "model_module": "@jupyter-widgets/base",
     "model_module_version": "1.2.0",
     "model_name": "LayoutModel",
     "state": {
      "_model_module": "@jupyter-widgets/base",
      "_model_module_version": "1.2.0",
      "_model_name": "LayoutModel",
      "_view_count": null,
      "_view_module": "@jupyter-widgets/base",
      "_view_module_version": "1.2.0",
      "_view_name": "LayoutView",
      "align_content": null,
      "align_items": null,
      "align_self": null,
      "border": null,
      "bottom": null,
      "display": null,
      "flex": null,
      "flex_flow": null,
      "grid_area": null,
      "grid_auto_columns": null,
      "grid_auto_flow": null,
      "grid_auto_rows": null,
      "grid_column": null,
      "grid_gap": null,
      "grid_row": null,
      "grid_template_areas": null,
      "grid_template_columns": null,
      "grid_template_rows": null,
      "height": null,
      "justify_content": null,
      "justify_items": null,
      "left": null,
      "margin": null,
      "max_height": null,
      "max_width": null,
      "min_height": null,
      "min_width": null,
      "object_fit": null,
      "object_position": null,
      "order": null,
      "overflow": null,
      "overflow_x": null,
      "overflow_y": null,
      "padding": null,
      "right": null,
      "top": null,
      "visibility": null,
      "width": null
     }
    },
    "29225a4d667e47f980b33c95c0850d16": {
     "model_module": "@jupyter-widgets/controls",
     "model_module_version": "1.5.0",
     "model_name": "DescriptionStyleModel",
     "state": {
      "_model_module": "@jupyter-widgets/controls",
      "_model_module_version": "1.5.0",
      "_model_name": "DescriptionStyleModel",
      "_view_count": null,
      "_view_module": "@jupyter-widgets/base",
      "_view_module_version": "1.2.0",
      "_view_name": "StyleView",
      "description_width": ""
     }
    },
    "350d156265104e2296caf536b05d26cc": {
     "model_module": "@jupyter-widgets/controls",
     "model_module_version": "1.5.0",
     "model_name": "FloatProgressModel",
     "state": {
      "_dom_classes": [],
      "_model_module": "@jupyter-widgets/controls",
      "_model_module_version": "1.5.0",
      "_model_name": "FloatProgressModel",
      "_view_count": null,
      "_view_module": "@jupyter-widgets/controls",
      "_view_module_version": "1.5.0",
      "_view_name": "ProgressView",
      "bar_style": "success",
      "description": "",
      "description_tooltip": null,
      "layout": "IPY_MODEL_9ae1047b1b184d81bde7c14ca6ad72d5",
      "max": 170498071,
      "min": 0,
      "orientation": "horizontal",
      "style": "IPY_MODEL_37da94684df543f3a81fe78c389f68dc",
      "value": 170498071
     }
    },
    "37da94684df543f3a81fe78c389f68dc": {
     "model_module": "@jupyter-widgets/controls",
     "model_module_version": "1.5.0",
     "model_name": "ProgressStyleModel",
     "state": {
      "_model_module": "@jupyter-widgets/controls",
      "_model_module_version": "1.5.0",
      "_model_name": "ProgressStyleModel",
      "_view_count": null,
      "_view_module": "@jupyter-widgets/base",
      "_view_module_version": "1.2.0",
      "_view_name": "StyleView",
      "bar_color": null,
      "description_width": ""
     }
    },
    "40b5952c97aa40169739936f0d549d02": {
     "model_module": "@jupyter-widgets/controls",
     "model_module_version": "1.5.0",
     "model_name": "HTMLModel",
     "state": {
      "_dom_classes": [],
      "_model_module": "@jupyter-widgets/controls",
      "_model_module_version": "1.5.0",
      "_model_name": "HTMLModel",
      "_view_count": null,
      "_view_module": "@jupyter-widgets/controls",
      "_view_module_version": "1.5.0",
      "_view_name": "HTMLView",
      "description": "",
      "description_tooltip": null,
      "layout": "IPY_MODEL_0433c9c034b7466a98118f517c9ae2e8",
      "placeholder": "​",
      "style": "IPY_MODEL_fb9ab6c5d81f48089ac0d9dc03c72e6b",
      "value": " 170499072/? [00:02&lt;00:00, 62626240.17it/s]"
     }
    },
    "4c7fbb2405c84d7887d63fd6217cba4a": {
     "model_module": "@jupyter-widgets/controls",
     "model_module_version": "1.5.0",
     "model_name": "HTMLModel",
     "state": {
      "_dom_classes": [],
      "_model_module": "@jupyter-widgets/controls",
      "_model_module_version": "1.5.0",
      "_model_name": "HTMLModel",
      "_view_count": null,
      "_view_module": "@jupyter-widgets/controls",
      "_view_module_version": "1.5.0",
      "_view_name": "HTMLView",
      "description": "",
      "description_tooltip": null,
      "layout": "IPY_MODEL_a448b41c426a4810a07d5eb92df1bc21",
      "placeholder": "​",
      "style": "IPY_MODEL_29225a4d667e47f980b33c95c0850d16",
      "value": ""
     }
    },
    "50c9aed288f14fcd94009217a59c91ff": {
     "model_module": "@jupyter-widgets/base",
     "model_module_version": "1.2.0",
     "model_name": "LayoutModel",
     "state": {
      "_model_module": "@jupyter-widgets/base",
      "_model_module_version": "1.2.0",
      "_model_name": "LayoutModel",
      "_view_count": null,
      "_view_module": "@jupyter-widgets/base",
      "_view_module_version": "1.2.0",
      "_view_name": "LayoutView",
      "align_content": null,
      "align_items": null,
      "align_self": null,
      "border": null,
      "bottom": null,
      "display": null,
      "flex": null,
      "flex_flow": null,
      "grid_area": null,
      "grid_auto_columns": null,
      "grid_auto_flow": null,
      "grid_auto_rows": null,
      "grid_column": null,
      "grid_gap": null,
      "grid_row": null,
      "grid_template_areas": null,
      "grid_template_columns": null,
      "grid_template_rows": null,
      "height": null,
      "justify_content": null,
      "justify_items": null,
      "left": null,
      "margin": null,
      "max_height": null,
      "max_width": null,
      "min_height": null,
      "min_width": null,
      "object_fit": null,
      "object_position": null,
      "order": null,
      "overflow": null,
      "overflow_x": null,
      "overflow_y": null,
      "padding": null,
      "right": null,
      "top": null,
      "visibility": null,
      "width": null
     }
    },
    "9ae1047b1b184d81bde7c14ca6ad72d5": {
     "model_module": "@jupyter-widgets/base",
     "model_module_version": "1.2.0",
     "model_name": "LayoutModel",
     "state": {
      "_model_module": "@jupyter-widgets/base",
      "_model_module_version": "1.2.0",
      "_model_name": "LayoutModel",
      "_view_count": null,
      "_view_module": "@jupyter-widgets/base",
      "_view_module_version": "1.2.0",
      "_view_name": "LayoutView",
      "align_content": null,
      "align_items": null,
      "align_self": null,
      "border": null,
      "bottom": null,
      "display": null,
      "flex": null,
      "flex_flow": null,
      "grid_area": null,
      "grid_auto_columns": null,
      "grid_auto_flow": null,
      "grid_auto_rows": null,
      "grid_column": null,
      "grid_gap": null,
      "grid_row": null,
      "grid_template_areas": null,
      "grid_template_columns": null,
      "grid_template_rows": null,
      "height": null,
      "justify_content": null,
      "justify_items": null,
      "left": null,
      "margin": null,
      "max_height": null,
      "max_width": null,
      "min_height": null,
      "min_width": null,
      "object_fit": null,
      "object_position": null,
      "order": null,
      "overflow": null,
      "overflow_x": null,
      "overflow_y": null,
      "padding": null,
      "right": null,
      "top": null,
      "visibility": null,
      "width": null
     }
    },
    "a448b41c426a4810a07d5eb92df1bc21": {
     "model_module": "@jupyter-widgets/base",
     "model_module_version": "1.2.0",
     "model_name": "LayoutModel",
     "state": {
      "_model_module": "@jupyter-widgets/base",
      "_model_module_version": "1.2.0",
      "_model_name": "LayoutModel",
      "_view_count": null,
      "_view_module": "@jupyter-widgets/base",
      "_view_module_version": "1.2.0",
      "_view_name": "LayoutView",
      "align_content": null,
      "align_items": null,
      "align_self": null,
      "border": null,
      "bottom": null,
      "display": null,
      "flex": null,
      "flex_flow": null,
      "grid_area": null,
      "grid_auto_columns": null,
      "grid_auto_flow": null,
      "grid_auto_rows": null,
      "grid_column": null,
      "grid_gap": null,
      "grid_row": null,
      "grid_template_areas": null,
      "grid_template_columns": null,
      "grid_template_rows": null,
      "height": null,
      "justify_content": null,
      "justify_items": null,
      "left": null,
      "margin": null,
      "max_height": null,
      "max_width": null,
      "min_height": null,
      "min_width": null,
      "object_fit": null,
      "object_position": null,
      "order": null,
      "overflow": null,
      "overflow_x": null,
      "overflow_y": null,
      "padding": null,
      "right": null,
      "top": null,
      "visibility": null,
      "width": null
     }
    },
    "c974d31e436a42899adbf2ef969307a4": {
     "model_module": "@jupyter-widgets/controls",
     "model_module_version": "1.5.0",
     "model_name": "HBoxModel",
     "state": {
      "_dom_classes": [],
      "_model_module": "@jupyter-widgets/controls",
      "_model_module_version": "1.5.0",
      "_model_name": "HBoxModel",
      "_view_count": null,
      "_view_module": "@jupyter-widgets/controls",
      "_view_module_version": "1.5.0",
      "_view_name": "HBoxView",
      "box_style": "",
      "children": [
       "IPY_MODEL_4c7fbb2405c84d7887d63fd6217cba4a",
       "IPY_MODEL_350d156265104e2296caf536b05d26cc",
       "IPY_MODEL_40b5952c97aa40169739936f0d549d02"
      ],
      "layout": "IPY_MODEL_50c9aed288f14fcd94009217a59c91ff"
     }
    },
    "fb9ab6c5d81f48089ac0d9dc03c72e6b": {
     "model_module": "@jupyter-widgets/controls",
     "model_module_version": "1.5.0",
     "model_name": "DescriptionStyleModel",
     "state": {
      "_model_module": "@jupyter-widgets/controls",
      "_model_module_version": "1.5.0",
      "_model_name": "DescriptionStyleModel",
      "_view_count": null,
      "_view_module": "@jupyter-widgets/base",
      "_view_module_version": "1.2.0",
      "_view_name": "StyleView",
      "description_width": ""
     }
    }
   }
  }
 },
 "nbformat": 4,
 "nbformat_minor": 4
}
