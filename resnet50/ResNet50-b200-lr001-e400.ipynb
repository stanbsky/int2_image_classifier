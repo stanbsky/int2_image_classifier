{
 "cells": [
  {
   "cell_type": "markdown",
   "metadata": {
    "colab_type": "text",
    "id": "view-in-github"
   },
   "source": [
    "<a href=\"https://colab.research.google.com/github/stanbsky/int2_image_classifier/blob/main/kaggle94gpu.ipynb\" target=\"_parent\"><img src=\"https://colab.research.google.com/assets/colab-badge.svg\" alt=\"Open In Colab\"/></a>"
   ]
  },
  {
   "cell_type": "code",
   "execution_count": 1,
   "metadata": {
    "id": "OD2wVFLtkbkN"
   },
   "outputs": [
    {
     "name": "stderr",
     "output_type": "stream",
     "text": [
      "Matplotlib created a temporary config/cache directory at /tmp/matplotlib-wkxaixd8 because the default path (/run/user/141228/cache/matplotlib) is not a writable directory; it is highly recommended to set the MPLCONFIGDIR environment variable to a writable directory, in particular to speed up the import of Matplotlib and to better support multiprocessing.\n"
     ]
    }
   ],
   "source": [
    "# importing libraries\n",
    "import torch\n",
    "import torchvision\n",
    "from torchvision.datasets.utils import download_url\n",
    "from torch.utils.data import random_split\n",
    "from torchvision.datasets import ImageFolder\n",
    "from torchvision.transforms import ToTensor,ToPILImage\n",
    "import matplotlib.pyplot as plt\n",
    "from torchvision.utils import make_grid\n",
    "from torch.utils.data.dataloader import DataLoader\n",
    "from torchvision.utils import make_grid\n",
    "import torch.nn as nn\n",
    "import torch.nn.functional as F\n",
    "import torchvision.transforms as tt\n",
    "import numpy as np"
   ]
  },
  {
   "cell_type": "code",
   "execution_count": 2,
   "metadata": {
    "id": "Cea6yx4amG2c"
   },
   "outputs": [],
   "source": [
    "import torchvision.datasets as datasets"
   ]
  },
  {
   "cell_type": "code",
   "execution_count": 3,
   "metadata": {
    "colab": {
     "base_uri": "https://localhost:8080/"
    },
    "id": "efdLf1xLk5_y",
    "outputId": "dd7073c3-3026-4d75-eee6-e0425ce35d3e"
   },
   "outputs": [
    {
     "data": {
      "text/plain": [
       "<weakproxy at 0x7f47036de188 to Device at 0x7f47037c1828>"
      ]
     },
     "execution_count": 3,
     "metadata": {},
     "output_type": "execute_result"
    }
   ],
   "source": [
    "from numba import cuda\n",
    "cuda.select_device(4)"
   ]
  },
  {
   "cell_type": "code",
   "execution_count": 4,
   "metadata": {
    "id": "hNiNZttPlHFe"
   },
   "outputs": [],
   "source": [
    "stats= ((0.4914,0.4822,0.4465),(0.2023,0.1994,0.2010)) #mean and std\n",
    "train_tfm= tt.Compose([tt.RandomCrop(32, padding=4, padding_mode='reflect'), # transormation of data together\n",
    "                       tt.RandomHorizontalFlip(),\n",
    "                       tt.ToTensor()])\n",
    "valid_tfm = tt.Compose([tt.ToTensor()])"
   ]
  },
  {
   "cell_type": "code",
   "execution_count": 5,
   "metadata": {
    "colab": {
     "base_uri": "https://localhost:8080/",
     "height": 86,
     "referenced_widgets": [
      "c974d31e436a42899adbf2ef969307a4",
      "4c7fbb2405c84d7887d63fd6217cba4a",
      "350d156265104e2296caf536b05d26cc",
      "40b5952c97aa40169739936f0d549d02",
      "50c9aed288f14fcd94009217a59c91ff",
      "a448b41c426a4810a07d5eb92df1bc21",
      "29225a4d667e47f980b33c95c0850d16",
      "9ae1047b1b184d81bde7c14ca6ad72d5",
      "37da94684df543f3a81fe78c389f68dc",
      "0433c9c034b7466a98118f517c9ae2e8",
      "fb9ab6c5d81f48089ac0d9dc03c72e6b"
     ]
    },
    "id": "pxotEy_Al0J4",
    "outputId": "90e7b090-0622-4775-fcfa-39958472aa7c"
   },
   "outputs": [
    {
     "name": "stdout",
     "output_type": "stream",
     "text": [
      "Files already downloaded and verified\n"
     ]
    }
   ],
   "source": [
    "training_data = datasets.CIFAR10(\n",
    "    root=\"data\",\n",
    "    train=True,\n",
    "    download=True,\n",
    "    transform=train_tfm,\n",
    ")"
   ]
  },
  {
   "cell_type": "code",
   "execution_count": 6,
   "metadata": {
    "colab": {
     "base_uri": "https://localhost:8080/"
    },
    "id": "3HUIV5yKmj4F",
    "outputId": "96675fe3-76e5-4e9f-9bc2-14b1d389996f"
   },
   "outputs": [
    {
     "name": "stdout",
     "output_type": "stream",
     "text": [
      "Files already downloaded and verified\n"
     ]
    }
   ],
   "source": [
    "# Download test data from open datasets.\n",
    "test_data = datasets.CIFAR10(\n",
    "    root=\"data\",\n",
    "    train=False,\n",
    "    download=True,\n",
    "    transform=valid_tfm,\n",
    ")"
   ]
  },
  {
   "cell_type": "code",
   "execution_count": 7,
   "metadata": {
    "colab": {
     "base_uri": "https://localhost:8080/"
    },
    "id": "3eOTjMVem_T9",
    "outputId": "c3a532da-260b-4bd9-baef-144d73c92f92"
   },
   "outputs": [
    {
     "data": {
      "text/plain": [
       "Dataset CIFAR10\n",
       "    Number of datapoints: 50000\n",
       "    Root location: data\n",
       "    Split: Train\n",
       "    StandardTransform\n",
       "Transform: Compose(\n",
       "               RandomCrop(size=(32, 32), padding=4)\n",
       "               RandomHorizontalFlip(p=0.5)\n",
       "               ToTensor()\n",
       "           )"
      ]
     },
     "execution_count": 7,
     "metadata": {},
     "output_type": "execute_result"
    }
   ],
   "source": [
    "valid_ds = test_data\n",
    "train_ds = training_data\n",
    "train_ds"
   ]
  },
  {
   "cell_type": "code",
   "execution_count": 8,
   "metadata": {
    "id": "JAFQAJUVr7U2"
   },
   "outputs": [],
   "source": [
    "def show_image(img,label):\n",
    "    print('Label: ', train_ds.classes[label],\"(\"+str(label)+\")\")\n",
    "    plt.imshow(img.permute(1,2,0))"
   ]
  },
  {
   "cell_type": "code",
   "execution_count": 9,
   "metadata": {
    "id": "tj5jXuuBri6o"
   },
   "outputs": [],
   "source": [
    "batch_size=200"
   ]
  },
  {
   "cell_type": "code",
   "execution_count": 10,
   "metadata": {
    "id": "n4kCM-hare00"
   },
   "outputs": [],
   "source": [
    "# Dataloader to load data in batches(mini batch)\n",
    "train_dl= DataLoader(train_ds,batch_size,shuffle=True, num_workers=2, pin_memory=True)\n",
    "valid_dl= DataLoader(valid_ds, batch_size, num_workers=2,pin_memory=True)"
   ]
  },
  {
   "cell_type": "code",
   "execution_count": 11,
   "metadata": {
    "id": "mcfsy3QptG2Y"
   },
   "outputs": [],
   "source": [
    "def show_batch(dl):\n",
    "    for images, labels in dl:\n",
    "        fig,ax= plt.subplots(figsize=(12,12))\n",
    "        ax.set_xticks([]) #hide ticks\n",
    "        ax.set_yticks([])\n",
    "        ax.imshow(make_grid(images[:64],nrow=8).permute(1,2,0))\n",
    "        break # printing only first 64 images from first batch"
   ]
  },
  {
   "cell_type": "code",
   "execution_count": 12,
   "metadata": {
    "id": "lPVFZltRtXt4"
   },
   "outputs": [],
   "source": [
    "def get_default_device():\n",
    "    \"\"\"Pick GPU if available, else CPU\"\"\"\n",
    "    if torch.cuda.is_available():\n",
    "        return torch.device('cuda')\n",
    "    else:\n",
    "        return torch.device('cpu')\n",
    "    \n",
    "def to_device(data, device):\n",
    "    \"\"\"Move tensor(s) to chosen device\"\"\"\n",
    "    if isinstance(data, (list,tuple)):\n",
    "        return [to_device(x, device) for x in data]\n",
    "    return data.to(device, non_blocking=True)\n",
    "\n",
    "class DeviceDataLoader():\n",
    "    \"\"\"Wrap a dataloader to move data to a device\"\"\"\n",
    "    def __init__(self, dl, device):\n",
    "        self.dl = dl\n",
    "        self.device = device\n",
    "        \n",
    "    def __iter__(self):\n",
    "        \"\"\"Yield a batch of data after moving it to device\"\"\"\n",
    "        for b in self.dl: \n",
    "            yield to_device(b, self.device)\n",
    "\n",
    "    def __len__(self):\n",
    "        \"\"\"Number of batches\"\"\"\n",
    "        return len(self.dl)"
   ]
  },
  {
   "cell_type": "code",
   "execution_count": 13,
   "metadata": {
    "colab": {
     "base_uri": "https://localhost:8080/"
    },
    "id": "SOksgE3wtYwZ",
    "outputId": "a9fb69e1-9e00-4139-d791-b7c305a7941a"
   },
   "outputs": [
    {
     "data": {
      "text/plain": [
       "device(type='cuda')"
      ]
     },
     "execution_count": 13,
     "metadata": {},
     "output_type": "execute_result"
    }
   ],
   "source": [
    "device = get_default_device()\n",
    "device"
   ]
  },
  {
   "cell_type": "code",
   "execution_count": 14,
   "metadata": {
    "id": "hfVlteXctb6f"
   },
   "outputs": [],
   "source": [
    "train_dl= DeviceDataLoader(train_dl,device)\n",
    "valid_dl = DeviceDataLoader(valid_dl, device)"
   ]
  },
  {
   "cell_type": "code",
   "execution_count": 15,
   "metadata": {
    "id": "PLmLZHBqtlF_"
   },
   "outputs": [],
   "source": [
    "def accuracy(outputs, labels):\n",
    "    _, preds = torch.max(outputs, dim=1)\n",
    "    return torch.tensor(torch.sum(preds == labels).item() / len(preds))\n",
    "\n",
    "class ImageClassificationBase(nn.Module):\n",
    "    def training_step(self, batch):\n",
    "        images, labels = batch \n",
    "        out = self(images)                  # Generate predictions\n",
    "        loss = F.cross_entropy(out, labels) # Calculate loss\n",
    "        return loss\n",
    "    \n",
    "    def validation_step(self, batch):\n",
    "        images, labels = batch \n",
    "        out = self(images)                    # Generate predictions\n",
    "        loss = F.cross_entropy(out, labels)   # Calculate loss\n",
    "        acc = accuracy(out, labels)           # Calculate accuracy\n",
    "        return {'val_loss': loss.detach(), 'val_acc': acc}\n",
    "        \n",
    "    def validation_epoch_end(self, outputs):\n",
    "        batch_losses = [x['val_loss'] for x in outputs]\n",
    "        epoch_loss = torch.stack(batch_losses).mean()   # Combine losses\n",
    "        batch_accs = [x['val_acc'] for x in outputs]\n",
    "        epoch_acc = torch.stack(batch_accs).mean()      # Combine accuracies\n",
    "        return {'val_loss': epoch_loss.item(), 'val_acc': epoch_acc.item()}\n",
    "    \n",
    "    def epoch_end(self, epoch, result):\n",
    "        print(\"Epoch [{}], train_loss: {:.4f}, val_loss: {:.4f}, val_acc: {:.4f}\".format(\n",
    "            epoch, result['train_loss'], result['val_loss'], result['val_acc']))"
   ]
  },
  {
   "cell_type": "code",
   "execution_count": 16,
   "metadata": {
    "id": "LcaZkKzQtomv"
   },
   "outputs": [],
   "source": [
    "def conv_block(in_channels, out_channels, stride=1):\n",
    "    layers = [nn.Conv2d(in_channels, out_channels, kernel_size=3, padding=1, stride=stride), \n",
    "              nn.BatchNorm2d(out_channels), \n",
    "              nn.ReLU(inplace=True)]\n",
    "    return nn.Sequential(*layers)\n",
    "\n",
    "def shortcut(in_channels, out_channels):\n",
    "    return nn.Conv2d(in_channels, out_channels, kernel_size=3, padding=1, stride=2)\n",
    "\n",
    "class ResNet(ImageClassificationBase):\n",
    "    def __init__(self, in_channels, num_classes, n):\n",
    "        super().__init__()\n",
    "        \n",
    "        self.n = n\n",
    "        \n",
    "        # 32x32 map\n",
    "        self.conv1 = conv_block(in_channels, 16)\n",
    "        self.reg32 = nn.Sequential(conv_block(16,16), conv_block(16,16))\n",
    "        \n",
    "        # 16x16 map\n",
    "        self.entry16 = nn.Sequential(conv_block(16, 32, stride=2), conv_block(32, 32))\n",
    "        self.short16 = shortcut(16, 32)\n",
    "        self.reg16 = nn.Sequential(conv_block(32, 32), conv_block(32, 32))\n",
    "        \n",
    "        # 8x8 map\n",
    "        self.entry8 = nn.Sequential(conv_block(32, 64, stride=2), conv_block(64, 64))\n",
    "        self.short8 = shortcut(32, 64)\n",
    "        self.reg8 = nn.Sequential(conv_block(64, 64), conv_block(64, 64))\n",
    "        \n",
    "        self.classifier = nn.Sequential(nn.AvgPool2d(kernel_size=8, stride=None, padding=0), \n",
    "                                        nn.Linear(64, num_classes),\n",
    "                                       nn.Softmax())\n",
    "        # FOR DEBUGGING\n",
    "        self.avg = nn.AvgPool2d(kernel_size=8, stride=None, padding=0)\n",
    "        self.flat = nn.Flatten()\n",
    "        self.fcl = nn.Linear(64, num_classes)\n",
    "        self.sm = nn.Softmax()\n",
    "        \n",
    "    def forward(self, xb):\n",
    "        out = self.conv1(xb)\n",
    "        \n",
    "        for i in range(self.n):\n",
    "            out = self.reg32(out) + out\n",
    "            \n",
    "        out = self.entry16(out) + self.short16(out)\n",
    "        for i in range(self.n - 1):\n",
    "            out = self.reg16(out) + out\n",
    "            \n",
    "        out = self.entry8(out) + self.short8(out)\n",
    "        for i in range(self.n - 1):\n",
    "            out = self.reg8(out) + out\n",
    "\n",
    "        #out = self.classifier(out)\n",
    "        out = self.avg(out)\n",
    "        out = self.flat(out)\n",
    "        out = self.fcl(out)\n",
    "        out = self.sm(out)\n",
    "        \n",
    "        return out"
   ]
  },
  {
   "cell_type": "code",
   "execution_count": 17,
   "metadata": {
    "colab": {
     "base_uri": "https://localhost:8080/"
    },
    "id": "O8BOig0Otrjz",
    "outputId": "a40ce9a4-8852-4595-9525-9841221a3391"
   },
   "outputs": [
    {
     "data": {
      "text/plain": [
       "ResNet(\n",
       "  (conv1): Sequential(\n",
       "    (0): Conv2d(3, 16, kernel_size=(3, 3), stride=(1, 1), padding=(1, 1))\n",
       "    (1): BatchNorm2d(16, eps=1e-05, momentum=0.1, affine=True, track_running_stats=True)\n",
       "    (2): ReLU(inplace=True)\n",
       "  )\n",
       "  (reg32): Sequential(\n",
       "    (0): Sequential(\n",
       "      (0): Conv2d(16, 16, kernel_size=(3, 3), stride=(1, 1), padding=(1, 1))\n",
       "      (1): BatchNorm2d(16, eps=1e-05, momentum=0.1, affine=True, track_running_stats=True)\n",
       "      (2): ReLU(inplace=True)\n",
       "    )\n",
       "    (1): Sequential(\n",
       "      (0): Conv2d(16, 16, kernel_size=(3, 3), stride=(1, 1), padding=(1, 1))\n",
       "      (1): BatchNorm2d(16, eps=1e-05, momentum=0.1, affine=True, track_running_stats=True)\n",
       "      (2): ReLU(inplace=True)\n",
       "    )\n",
       "  )\n",
       "  (entry16): Sequential(\n",
       "    (0): Sequential(\n",
       "      (0): Conv2d(16, 32, kernel_size=(3, 3), stride=(2, 2), padding=(1, 1))\n",
       "      (1): BatchNorm2d(32, eps=1e-05, momentum=0.1, affine=True, track_running_stats=True)\n",
       "      (2): ReLU(inplace=True)\n",
       "    )\n",
       "    (1): Sequential(\n",
       "      (0): Conv2d(32, 32, kernel_size=(3, 3), stride=(1, 1), padding=(1, 1))\n",
       "      (1): BatchNorm2d(32, eps=1e-05, momentum=0.1, affine=True, track_running_stats=True)\n",
       "      (2): ReLU(inplace=True)\n",
       "    )\n",
       "  )\n",
       "  (short16): Conv2d(16, 32, kernel_size=(3, 3), stride=(2, 2), padding=(1, 1))\n",
       "  (reg16): Sequential(\n",
       "    (0): Sequential(\n",
       "      (0): Conv2d(32, 32, kernel_size=(3, 3), stride=(1, 1), padding=(1, 1))\n",
       "      (1): BatchNorm2d(32, eps=1e-05, momentum=0.1, affine=True, track_running_stats=True)\n",
       "      (2): ReLU(inplace=True)\n",
       "    )\n",
       "    (1): Sequential(\n",
       "      (0): Conv2d(32, 32, kernel_size=(3, 3), stride=(1, 1), padding=(1, 1))\n",
       "      (1): BatchNorm2d(32, eps=1e-05, momentum=0.1, affine=True, track_running_stats=True)\n",
       "      (2): ReLU(inplace=True)\n",
       "    )\n",
       "  )\n",
       "  (entry8): Sequential(\n",
       "    (0): Sequential(\n",
       "      (0): Conv2d(32, 64, kernel_size=(3, 3), stride=(2, 2), padding=(1, 1))\n",
       "      (1): BatchNorm2d(64, eps=1e-05, momentum=0.1, affine=True, track_running_stats=True)\n",
       "      (2): ReLU(inplace=True)\n",
       "    )\n",
       "    (1): Sequential(\n",
       "      (0): Conv2d(64, 64, kernel_size=(3, 3), stride=(1, 1), padding=(1, 1))\n",
       "      (1): BatchNorm2d(64, eps=1e-05, momentum=0.1, affine=True, track_running_stats=True)\n",
       "      (2): ReLU(inplace=True)\n",
       "    )\n",
       "  )\n",
       "  (short8): Conv2d(32, 64, kernel_size=(3, 3), stride=(2, 2), padding=(1, 1))\n",
       "  (reg8): Sequential(\n",
       "    (0): Sequential(\n",
       "      (0): Conv2d(64, 64, kernel_size=(3, 3), stride=(1, 1), padding=(1, 1))\n",
       "      (1): BatchNorm2d(64, eps=1e-05, momentum=0.1, affine=True, track_running_stats=True)\n",
       "      (2): ReLU(inplace=True)\n",
       "    )\n",
       "    (1): Sequential(\n",
       "      (0): Conv2d(64, 64, kernel_size=(3, 3), stride=(1, 1), padding=(1, 1))\n",
       "      (1): BatchNorm2d(64, eps=1e-05, momentum=0.1, affine=True, track_running_stats=True)\n",
       "      (2): ReLU(inplace=True)\n",
       "    )\n",
       "  )\n",
       "  (classifier): Sequential(\n",
       "    (0): AvgPool2d(kernel_size=8, stride=8, padding=0)\n",
       "    (1): Linear(in_features=64, out_features=10, bias=True)\n",
       "    (2): Softmax(dim=None)\n",
       "  )\n",
       "  (avg): AvgPool2d(kernel_size=8, stride=8, padding=0)\n",
       "  (flat): Flatten(start_dim=1, end_dim=-1)\n",
       "  (fcl): Linear(in_features=64, out_features=10, bias=True)\n",
       "  (sm): Softmax(dim=None)\n",
       ")"
      ]
     },
     "execution_count": 17,
     "metadata": {},
     "output_type": "execute_result"
    }
   ],
   "source": [
    "# n=8 => ResNet50\n",
    "model= to_device(ResNet(3,10,8), device)\n",
    "model"
   ]
  },
  {
   "cell_type": "code",
   "execution_count": 18,
   "metadata": {
    "colab": {
     "base_uri": "https://localhost:8080/"
    },
    "id": "O8BOig0Otrjz",
    "outputId": "a40ce9a4-8852-4595-9525-9841221a3391"
   },
   "outputs": [
    {
     "name": "stdout",
     "output_type": "stream",
     "text": [
      "----------------------------------------------------------------\n",
      "        Layer (type)               Output Shape         Param #\n",
      "================================================================\n",
      "            Conv2d-1           [-1, 16, 32, 32]             448\n",
      "       BatchNorm2d-2           [-1, 16, 32, 32]              32\n",
      "              ReLU-3           [-1, 16, 32, 32]               0\n",
      "            Conv2d-4           [-1, 16, 32, 32]           2,320\n",
      "       BatchNorm2d-5           [-1, 16, 32, 32]              32\n",
      "              ReLU-6           [-1, 16, 32, 32]               0\n",
      "            Conv2d-7           [-1, 16, 32, 32]           2,320\n",
      "       BatchNorm2d-8           [-1, 16, 32, 32]              32\n",
      "              ReLU-9           [-1, 16, 32, 32]               0\n",
      "           Conv2d-10           [-1, 16, 32, 32]           2,320\n",
      "      BatchNorm2d-11           [-1, 16, 32, 32]              32\n",
      "             ReLU-12           [-1, 16, 32, 32]               0\n",
      "           Conv2d-13           [-1, 16, 32, 32]           2,320\n",
      "      BatchNorm2d-14           [-1, 16, 32, 32]              32\n",
      "             ReLU-15           [-1, 16, 32, 32]               0\n",
      "           Conv2d-16           [-1, 16, 32, 32]           2,320\n",
      "      BatchNorm2d-17           [-1, 16, 32, 32]              32\n",
      "             ReLU-18           [-1, 16, 32, 32]               0\n",
      "           Conv2d-19           [-1, 16, 32, 32]           2,320\n",
      "      BatchNorm2d-20           [-1, 16, 32, 32]              32\n",
      "             ReLU-21           [-1, 16, 32, 32]               0\n",
      "           Conv2d-22           [-1, 16, 32, 32]           2,320\n",
      "      BatchNorm2d-23           [-1, 16, 32, 32]              32\n",
      "             ReLU-24           [-1, 16, 32, 32]               0\n",
      "           Conv2d-25           [-1, 16, 32, 32]           2,320\n",
      "      BatchNorm2d-26           [-1, 16, 32, 32]              32\n",
      "             ReLU-27           [-1, 16, 32, 32]               0\n",
      "           Conv2d-28           [-1, 16, 32, 32]           2,320\n",
      "      BatchNorm2d-29           [-1, 16, 32, 32]              32\n",
      "             ReLU-30           [-1, 16, 32, 32]               0\n",
      "           Conv2d-31           [-1, 16, 32, 32]           2,320\n",
      "      BatchNorm2d-32           [-1, 16, 32, 32]              32\n",
      "             ReLU-33           [-1, 16, 32, 32]               0\n",
      "           Conv2d-34           [-1, 16, 32, 32]           2,320\n",
      "      BatchNorm2d-35           [-1, 16, 32, 32]              32\n",
      "             ReLU-36           [-1, 16, 32, 32]               0\n",
      "           Conv2d-37           [-1, 16, 32, 32]           2,320\n",
      "      BatchNorm2d-38           [-1, 16, 32, 32]              32\n",
      "             ReLU-39           [-1, 16, 32, 32]               0\n",
      "           Conv2d-40           [-1, 16, 32, 32]           2,320\n",
      "      BatchNorm2d-41           [-1, 16, 32, 32]              32\n",
      "             ReLU-42           [-1, 16, 32, 32]               0\n",
      "           Conv2d-43           [-1, 16, 32, 32]           2,320\n",
      "      BatchNorm2d-44           [-1, 16, 32, 32]              32\n",
      "             ReLU-45           [-1, 16, 32, 32]               0\n",
      "           Conv2d-46           [-1, 16, 32, 32]           2,320\n",
      "      BatchNorm2d-47           [-1, 16, 32, 32]              32\n",
      "             ReLU-48           [-1, 16, 32, 32]               0\n",
      "           Conv2d-49           [-1, 16, 32, 32]           2,320\n",
      "      BatchNorm2d-50           [-1, 16, 32, 32]              32\n",
      "             ReLU-51           [-1, 16, 32, 32]               0\n",
      "           Conv2d-52           [-1, 32, 16, 16]           4,640\n",
      "      BatchNorm2d-53           [-1, 32, 16, 16]              64\n",
      "             ReLU-54           [-1, 32, 16, 16]               0\n",
      "           Conv2d-55           [-1, 32, 16, 16]           9,248\n",
      "      BatchNorm2d-56           [-1, 32, 16, 16]              64\n",
      "             ReLU-57           [-1, 32, 16, 16]               0\n",
      "           Conv2d-58           [-1, 32, 16, 16]           4,640\n",
      "           Conv2d-59           [-1, 32, 16, 16]           9,248\n",
      "      BatchNorm2d-60           [-1, 32, 16, 16]              64\n",
      "             ReLU-61           [-1, 32, 16, 16]               0\n",
      "           Conv2d-62           [-1, 32, 16, 16]           9,248\n",
      "      BatchNorm2d-63           [-1, 32, 16, 16]              64\n",
      "             ReLU-64           [-1, 32, 16, 16]               0\n",
      "           Conv2d-65           [-1, 32, 16, 16]           9,248\n",
      "      BatchNorm2d-66           [-1, 32, 16, 16]              64\n",
      "             ReLU-67           [-1, 32, 16, 16]               0\n",
      "           Conv2d-68           [-1, 32, 16, 16]           9,248\n",
      "      BatchNorm2d-69           [-1, 32, 16, 16]              64\n",
      "             ReLU-70           [-1, 32, 16, 16]               0\n",
      "           Conv2d-71           [-1, 32, 16, 16]           9,248\n",
      "      BatchNorm2d-72           [-1, 32, 16, 16]              64\n",
      "             ReLU-73           [-1, 32, 16, 16]               0\n",
      "           Conv2d-74           [-1, 32, 16, 16]           9,248\n",
      "      BatchNorm2d-75           [-1, 32, 16, 16]              64\n",
      "             ReLU-76           [-1, 32, 16, 16]               0\n",
      "           Conv2d-77           [-1, 32, 16, 16]           9,248\n",
      "      BatchNorm2d-78           [-1, 32, 16, 16]              64\n",
      "             ReLU-79           [-1, 32, 16, 16]               0\n",
      "           Conv2d-80           [-1, 32, 16, 16]           9,248\n",
      "      BatchNorm2d-81           [-1, 32, 16, 16]              64\n",
      "             ReLU-82           [-1, 32, 16, 16]               0\n",
      "           Conv2d-83           [-1, 32, 16, 16]           9,248\n",
      "      BatchNorm2d-84           [-1, 32, 16, 16]              64\n",
      "             ReLU-85           [-1, 32, 16, 16]               0\n",
      "           Conv2d-86           [-1, 32, 16, 16]           9,248\n",
      "      BatchNorm2d-87           [-1, 32, 16, 16]              64\n",
      "             ReLU-88           [-1, 32, 16, 16]               0\n",
      "           Conv2d-89           [-1, 32, 16, 16]           9,248\n",
      "      BatchNorm2d-90           [-1, 32, 16, 16]              64\n",
      "             ReLU-91           [-1, 32, 16, 16]               0\n",
      "           Conv2d-92           [-1, 32, 16, 16]           9,248\n",
      "      BatchNorm2d-93           [-1, 32, 16, 16]              64\n",
      "             ReLU-94           [-1, 32, 16, 16]               0\n",
      "           Conv2d-95           [-1, 32, 16, 16]           9,248\n",
      "      BatchNorm2d-96           [-1, 32, 16, 16]              64\n",
      "             ReLU-97           [-1, 32, 16, 16]               0\n",
      "           Conv2d-98           [-1, 32, 16, 16]           9,248\n",
      "      BatchNorm2d-99           [-1, 32, 16, 16]              64\n",
      "            ReLU-100           [-1, 32, 16, 16]               0\n",
      "          Conv2d-101             [-1, 64, 8, 8]          18,496\n",
      "     BatchNorm2d-102             [-1, 64, 8, 8]             128\n",
      "            ReLU-103             [-1, 64, 8, 8]               0\n",
      "          Conv2d-104             [-1, 64, 8, 8]          36,928\n",
      "     BatchNorm2d-105             [-1, 64, 8, 8]             128\n",
      "            ReLU-106             [-1, 64, 8, 8]               0\n",
      "          Conv2d-107             [-1, 64, 8, 8]          18,496\n",
      "          Conv2d-108             [-1, 64, 8, 8]          36,928\n",
      "     BatchNorm2d-109             [-1, 64, 8, 8]             128\n",
      "            ReLU-110             [-1, 64, 8, 8]               0\n",
      "          Conv2d-111             [-1, 64, 8, 8]          36,928\n",
      "     BatchNorm2d-112             [-1, 64, 8, 8]             128\n",
      "            ReLU-113             [-1, 64, 8, 8]               0\n",
      "          Conv2d-114             [-1, 64, 8, 8]          36,928\n",
      "     BatchNorm2d-115             [-1, 64, 8, 8]             128\n",
      "            ReLU-116             [-1, 64, 8, 8]               0\n",
      "          Conv2d-117             [-1, 64, 8, 8]          36,928\n",
      "     BatchNorm2d-118             [-1, 64, 8, 8]             128\n",
      "            ReLU-119             [-1, 64, 8, 8]               0\n",
      "          Conv2d-120             [-1, 64, 8, 8]          36,928\n",
      "     BatchNorm2d-121             [-1, 64, 8, 8]             128\n",
      "            ReLU-122             [-1, 64, 8, 8]               0\n",
      "          Conv2d-123             [-1, 64, 8, 8]          36,928\n",
      "     BatchNorm2d-124             [-1, 64, 8, 8]             128\n",
      "            ReLU-125             [-1, 64, 8, 8]               0\n",
      "          Conv2d-126             [-1, 64, 8, 8]          36,928\n",
      "     BatchNorm2d-127             [-1, 64, 8, 8]             128\n",
      "            ReLU-128             [-1, 64, 8, 8]               0\n",
      "          Conv2d-129             [-1, 64, 8, 8]          36,928\n",
      "     BatchNorm2d-130             [-1, 64, 8, 8]             128\n",
      "            ReLU-131             [-1, 64, 8, 8]               0\n",
      "          Conv2d-132             [-1, 64, 8, 8]          36,928\n",
      "     BatchNorm2d-133             [-1, 64, 8, 8]             128\n",
      "            ReLU-134             [-1, 64, 8, 8]               0\n",
      "          Conv2d-135             [-1, 64, 8, 8]          36,928\n",
      "     BatchNorm2d-136             [-1, 64, 8, 8]             128\n",
      "            ReLU-137             [-1, 64, 8, 8]               0\n",
      "          Conv2d-138             [-1, 64, 8, 8]          36,928\n",
      "     BatchNorm2d-139             [-1, 64, 8, 8]             128\n",
      "            ReLU-140             [-1, 64, 8, 8]               0\n",
      "          Conv2d-141             [-1, 64, 8, 8]          36,928\n",
      "     BatchNorm2d-142             [-1, 64, 8, 8]             128\n",
      "            ReLU-143             [-1, 64, 8, 8]               0\n",
      "          Conv2d-144             [-1, 64, 8, 8]          36,928\n",
      "     BatchNorm2d-145             [-1, 64, 8, 8]             128\n",
      "            ReLU-146             [-1, 64, 8, 8]               0\n",
      "          Conv2d-147             [-1, 64, 8, 8]          36,928\n",
      "     BatchNorm2d-148             [-1, 64, 8, 8]             128\n",
      "            ReLU-149             [-1, 64, 8, 8]               0\n",
      "       AvgPool2d-150             [-1, 64, 1, 1]               0\n",
      "         Flatten-151                   [-1, 64]               0\n",
      "          Linear-152                   [-1, 10]             650\n",
      "         Softmax-153                   [-1, 10]               0\n",
      "================================================================\n",
      "Total params: 780,746\n",
      "Trainable params: 780,746\n",
      "Non-trainable params: 0\n",
      "----------------------------------------------------------------\n",
      "Input size (MB): 0.01\n",
      "Forward/backward pass size (MB): 10.97\n",
      "Params size (MB): 2.98\n",
      "Estimated Total Size (MB): 13.96\n",
      "----------------------------------------------------------------\n"
     ]
    },
    {
     "name": "stderr",
     "output_type": "stream",
     "text": [
      "/home/userfs/s/sb2444/.local/lib/python3.6/site-packages/ipykernel_launcher.py:57: UserWarning: Implicit dimension choice for softmax has been deprecated. Change the call to include dim=X as an argument.\n"
     ]
    }
   ],
   "source": [
    "from torchvision import models\n",
    "from torchsummary import summary\n",
    "summary(model, (3, 32, 32))"
   ]
  },
  {
   "cell_type": "code",
   "execution_count": 19,
   "metadata": {
    "id": "hmbJUvR3t0QY"
   },
   "outputs": [],
   "source": [
    "@torch.no_grad()\n",
    "def evaluate(model, val_loader):\n",
    "    model.eval()\n",
    "    outputs = [model.validation_step(batch) for batch in val_loader]\n",
    "    return model.validation_epoch_end(outputs)\n",
    "\n",
    "def get_lr(optimizer):\n",
    "    for param_group in optimizer.param_groups:\n",
    "        return param_group['lr']\n",
    "\n",
    "def fit_one_cycle(epochs, max_lr, model, train_loader, val_loader, \n",
    "                  weight_decay=0, grad_clip=None, opt_func=torch.optim.SGD):\n",
    "    torch.cuda.empty_cache()  # Realsing cuda memory otherwise might get cuda out of memory error\n",
    "    history = []\n",
    "    \n",
    "    #custom optimizer with weight decay\n",
    "    optimizer = opt_func(model.parameters(), max_lr, weight_decay=weight_decay)\n",
    "    # Set up one-cycle learning rate scheduler\n",
    "    sched = torch.optim.lr_scheduler.OneCycleLR(optimizer, max_lr, epochs=epochs, \n",
    "                                                steps_per_epoch=len(train_loader))\n",
    "    \n",
    "    for epoch in range(epochs):\n",
    "        # Training Phase \n",
    "        model.train() #Setting training mode\n",
    "        train_losses = []\n",
    "        lrs = []\n",
    "        for batch in train_loader:\n",
    "            loss = model.training_step(batch)\n",
    "            train_losses.append(loss)\n",
    "            loss.backward()\n",
    "            \n",
    "            # Gradient clipping\n",
    "            if grad_clip: \n",
    "                nn.utils.clip_grad_value_(model.parameters(), grad_clip)\n",
    "            \n",
    "            optimizer.step()\n",
    "            optimizer.zero_grad()\n",
    "            \n",
    "            # Record & update learning rate\n",
    "            lrs.append(get_lr(optimizer))\n",
    "            sched.step()\n",
    "        \n",
    "        # Validation phase\n",
    "        result = evaluate(model, val_loader)\n",
    "        result['train_loss'] = torch.stack(train_losses).mean().item()\n",
    "        result['lrs'] = lrs\n",
    "        model.epoch_end(epoch, result)\n",
    "        history.append(result)\n",
    "    return history"
   ]
  },
  {
   "cell_type": "code",
   "execution_count": 20,
   "metadata": {
    "colab": {
     "base_uri": "https://localhost:8080/"
    },
    "id": "_TPdh3fbt1fH",
    "outputId": "a22ad739-4bd6-459d-f905-64450f06bf4c"
   },
   "outputs": [
    {
     "name": "stderr",
     "output_type": "stream",
     "text": [
      "/home/userfs/s/sb2444/.local/lib/python3.6/site-packages/ipykernel_launcher.py:57: UserWarning: Implicit dimension choice for softmax has been deprecated. Change the call to include dim=X as an argument.\n"
     ]
    },
    {
     "data": {
      "text/plain": [
       "[{'val_loss': 2.304112434387207, 'val_acc': 0.08559999614953995}]"
      ]
     },
     "execution_count": 20,
     "metadata": {},
     "output_type": "execute_result"
    }
   ],
   "source": [
    "history = [evaluate(model, valid_dl)]\n",
    "history"
   ]
  },
  {
   "cell_type": "code",
   "execution_count": 21,
   "metadata": {
    "id": "fFL3dFDnt6pb"
   },
   "outputs": [],
   "source": [
    "epochs = 400\n",
    "max_lr = 0.001\n",
    "grad_clip = 0.1\n",
    "weight_decay = 1e-4\n",
    "opt_func = torch.optim.Adam"
   ]
  },
  {
   "cell_type": "code",
   "execution_count": 22,
   "metadata": {
    "colab": {
     "base_uri": "https://localhost:8080/"
    },
    "id": "01CAjQi2t8Ub",
    "outputId": "776b2d7d-902f-4f3c-ece0-24ccd16c4d53"
   },
   "outputs": [
    {
     "name": "stderr",
     "output_type": "stream",
     "text": [
      "/home/userfs/s/sb2444/.local/lib/python3.6/site-packages/ipykernel_launcher.py:57: UserWarning: Implicit dimension choice for softmax has been deprecated. Change the call to include dim=X as an argument.\n"
     ]
    },
    {
     "name": "stdout",
     "output_type": "stream",
     "text": [
      "Epoch [0], train_loss: 2.2130, val_loss: 2.3258, val_acc: 0.1218\n",
      "Epoch [1], train_loss: 2.0969, val_loss: 2.2905, val_acc: 0.1558\n",
      "Epoch [2], train_loss: 2.0512, val_loss: 2.2910, val_acc: 0.1560\n",
      "Epoch [3], train_loss: 2.0199, val_loss: 2.2882, val_acc: 0.1564\n",
      "Epoch [4], train_loss: 1.9991, val_loss: 2.2658, val_acc: 0.1743\n",
      "Epoch [5], train_loss: 1.9831, val_loss: 2.3285, val_acc: 0.1174\n",
      "Epoch [6], train_loss: 1.9672, val_loss: 2.3423, val_acc: 0.1120\n",
      "Epoch [7], train_loss: 1.9541, val_loss: 2.3339, val_acc: 0.1218\n",
      "Epoch [8], train_loss: 1.9457, val_loss: 2.3243, val_acc: 0.1301\n",
      "Epoch [9], train_loss: 1.9356, val_loss: 2.3164, val_acc: 0.1323\n",
      "Epoch [10], train_loss: 1.9260, val_loss: 2.3176, val_acc: 0.1368\n",
      "Epoch [11], train_loss: 1.9199, val_loss: 2.3307, val_acc: 0.1247\n",
      "Epoch [12], train_loss: 1.9109, val_loss: 2.3341, val_acc: 0.1202\n",
      "Epoch [13], train_loss: 1.9051, val_loss: 2.3139, val_acc: 0.1351\n",
      "Epoch [14], train_loss: 1.8950, val_loss: 2.3261, val_acc: 0.1273\n",
      "Epoch [15], train_loss: 1.8872, val_loss: 2.2764, val_acc: 0.1716\n",
      "Epoch [16], train_loss: 1.8826, val_loss: 2.2911, val_acc: 0.1560\n",
      "Epoch [17], train_loss: 1.8758, val_loss: 2.3136, val_acc: 0.1308\n",
      "Epoch [18], train_loss: 1.8697, val_loss: 2.2884, val_acc: 0.1594\n",
      "Epoch [19], train_loss: 1.8628, val_loss: 2.2834, val_acc: 0.1615\n",
      "Epoch [20], train_loss: 1.8576, val_loss: 2.3113, val_acc: 0.1313\n",
      "Epoch [21], train_loss: 1.8518, val_loss: 2.2891, val_acc: 0.1586\n",
      "Epoch [22], train_loss: 1.8340, val_loss: 2.2989, val_acc: 0.1416\n",
      "Epoch [23], train_loss: 1.8223, val_loss: 2.3280, val_acc: 0.1116\n",
      "Epoch [24], train_loss: 1.8154, val_loss: 2.2903, val_acc: 0.1411\n",
      "Epoch [25], train_loss: 1.8088, val_loss: 2.2582, val_acc: 0.1770\n",
      "Epoch [26], train_loss: 1.8002, val_loss: 2.2565, val_acc: 0.1781\n",
      "Epoch [27], train_loss: 1.7943, val_loss: 2.2452, val_acc: 0.1933\n",
      "Epoch [28], train_loss: 1.7850, val_loss: 2.1978, val_acc: 0.2557\n",
      "Epoch [29], train_loss: 1.7796, val_loss: 2.2330, val_acc: 0.2054\n",
      "Epoch [30], train_loss: 1.7732, val_loss: 2.2190, val_acc: 0.2285\n",
      "Epoch [31], train_loss: 1.7654, val_loss: 2.2311, val_acc: 0.2075\n",
      "Epoch [32], train_loss: 1.7613, val_loss: 2.1984, val_acc: 0.2474\n",
      "Epoch [33], train_loss: 1.7527, val_loss: 2.1960, val_acc: 0.2545\n",
      "Epoch [34], train_loss: 1.7465, val_loss: 2.2282, val_acc: 0.2106\n",
      "Epoch [35], train_loss: 1.7426, val_loss: 2.1755, val_acc: 0.2790\n",
      "Epoch [36], train_loss: 1.7397, val_loss: 2.1930, val_acc: 0.2597\n",
      "Epoch [37], train_loss: 1.7327, val_loss: 2.1583, val_acc: 0.2952\n",
      "Epoch [38], train_loss: 1.7295, val_loss: 2.1978, val_acc: 0.2526\n",
      "Epoch [39], train_loss: 1.7230, val_loss: 2.1659, val_acc: 0.2971\n",
      "Epoch [40], train_loss: 1.7228, val_loss: 2.1454, val_acc: 0.3116\n",
      "Epoch [41], train_loss: 1.7149, val_loss: 2.1795, val_acc: 0.2670\n",
      "Epoch [42], train_loss: 1.7112, val_loss: 2.2120, val_acc: 0.2290\n",
      "Epoch [43], train_loss: 1.7110, val_loss: 2.1896, val_acc: 0.2657\n",
      "Epoch [44], train_loss: 1.7103, val_loss: 2.2456, val_acc: 0.1961\n",
      "Epoch [45], train_loss: 1.7030, val_loss: 2.1607, val_acc: 0.2928\n",
      "Epoch [46], train_loss: 1.6976, val_loss: 2.1930, val_acc: 0.2519\n",
      "Epoch [47], train_loss: 1.6993, val_loss: 2.2100, val_acc: 0.2274\n",
      "Epoch [48], train_loss: 1.6926, val_loss: 2.1923, val_acc: 0.2572\n",
      "Epoch [49], train_loss: 1.6902, val_loss: 2.1527, val_acc: 0.2973\n",
      "Epoch [50], train_loss: 1.6860, val_loss: 2.2179, val_acc: 0.2381\n",
      "Epoch [51], train_loss: 1.6863, val_loss: 2.0809, val_acc: 0.3783\n",
      "Epoch [52], train_loss: 1.6842, val_loss: 2.1026, val_acc: 0.3683\n",
      "Epoch [53], train_loss: 1.6833, val_loss: 2.1894, val_acc: 0.2533\n",
      "Epoch [54], train_loss: 1.6801, val_loss: 2.1437, val_acc: 0.3079\n",
      "Epoch [55], train_loss: 1.6788, val_loss: 2.1221, val_acc: 0.3259\n",
      "Epoch [56], train_loss: 1.6766, val_loss: 2.0799, val_acc: 0.3769\n",
      "Epoch [57], train_loss: 1.6740, val_loss: 2.1712, val_acc: 0.2751\n",
      "Epoch [58], train_loss: 1.6708, val_loss: 2.0981, val_acc: 0.3558\n",
      "Epoch [59], train_loss: 1.6672, val_loss: 2.1065, val_acc: 0.3518\n",
      "Epoch [60], train_loss: 1.6681, val_loss: 1.9832, val_acc: 0.4819\n",
      "Epoch [61], train_loss: 1.6662, val_loss: 2.0096, val_acc: 0.4479\n",
      "Epoch [62], train_loss: 1.6657, val_loss: 2.1227, val_acc: 0.3297\n",
      "Epoch [63], train_loss: 1.6619, val_loss: 2.1050, val_acc: 0.3484\n",
      "Epoch [64], train_loss: 1.6615, val_loss: 2.0940, val_acc: 0.3638\n",
      "Epoch [65], train_loss: 1.6613, val_loss: 2.1128, val_acc: 0.3392\n",
      "Epoch [66], train_loss: 1.6590, val_loss: 2.0404, val_acc: 0.4187\n",
      "Epoch [67], train_loss: 1.6577, val_loss: 2.0752, val_acc: 0.3767\n",
      "Epoch [68], train_loss: 1.6583, val_loss: 1.9991, val_acc: 0.4639\n",
      "Epoch [69], train_loss: 1.6545, val_loss: 2.0159, val_acc: 0.4412\n",
      "Epoch [70], train_loss: 1.6534, val_loss: 1.9953, val_acc: 0.4634\n",
      "Epoch [71], train_loss: 1.6517, val_loss: 2.0542, val_acc: 0.3991\n",
      "Epoch [72], train_loss: 1.6511, val_loss: 1.9333, val_acc: 0.5292\n",
      "Epoch [73], train_loss: 1.6466, val_loss: 2.0324, val_acc: 0.4268\n",
      "Epoch [74], train_loss: 1.6472, val_loss: 1.9542, val_acc: 0.5073\n",
      "Epoch [75], train_loss: 1.6435, val_loss: 2.0119, val_acc: 0.4509\n",
      "Epoch [76], train_loss: 1.6445, val_loss: 1.9890, val_acc: 0.4759\n",
      "Epoch [77], train_loss: 1.6423, val_loss: 1.9051, val_acc: 0.5561\n",
      "Epoch [78], train_loss: 1.6434, val_loss: 1.8717, val_acc: 0.5913\n",
      "Epoch [79], train_loss: 1.6408, val_loss: 1.9596, val_acc: 0.5026\n",
      "Epoch [80], train_loss: 1.6422, val_loss: 1.9340, val_acc: 0.5270\n",
      "Epoch [81], train_loss: 1.6395, val_loss: 1.9699, val_acc: 0.4897\n",
      "Epoch [82], train_loss: 1.6374, val_loss: 1.9073, val_acc: 0.5518\n",
      "Epoch [83], train_loss: 1.6346, val_loss: 1.7994, val_acc: 0.6640\n",
      "Epoch [84], train_loss: 1.6379, val_loss: 1.8771, val_acc: 0.5835\n",
      "Epoch [85], train_loss: 1.6343, val_loss: 1.9151, val_acc: 0.5474\n",
      "Epoch [86], train_loss: 1.6362, val_loss: 1.8915, val_acc: 0.5686\n",
      "Epoch [87], train_loss: 1.6350, val_loss: 1.8708, val_acc: 0.5900\n",
      "Epoch [88], train_loss: 1.6333, val_loss: 1.8598, val_acc: 0.5982\n",
      "Epoch [89], train_loss: 1.6317, val_loss: 1.8774, val_acc: 0.5841\n",
      "Epoch [90], train_loss: 1.6316, val_loss: 1.8618, val_acc: 0.6010\n",
      "Epoch [91], train_loss: 1.6305, val_loss: 1.8644, val_acc: 0.5982\n",
      "Epoch [92], train_loss: 1.6273, val_loss: 1.7222, val_acc: 0.7429\n",
      "Epoch [93], train_loss: 1.6248, val_loss: 1.8038, val_acc: 0.6583\n",
      "Epoch [94], train_loss: 1.6304, val_loss: 1.8946, val_acc: 0.5688\n",
      "Epoch [95], train_loss: 1.6251, val_loss: 1.8050, val_acc: 0.6582\n",
      "Epoch [96], train_loss: 1.6236, val_loss: 1.9149, val_acc: 0.5448\n",
      "Epoch [97], train_loss: 1.6255, val_loss: 1.8600, val_acc: 0.6026\n",
      "Epoch [98], train_loss: 1.6210, val_loss: 1.8568, val_acc: 0.6024\n",
      "Epoch [99], train_loss: 1.6241, val_loss: 1.8078, val_acc: 0.6579\n",
      "Epoch [100], train_loss: 1.6219, val_loss: 1.8310, val_acc: 0.6306\n",
      "Epoch [101], train_loss: 1.6213, val_loss: 1.7597, val_acc: 0.7057\n",
      "Epoch [102], train_loss: 1.6185, val_loss: 1.8835, val_acc: 0.5767\n",
      "Epoch [103], train_loss: 1.6167, val_loss: 1.7792, val_acc: 0.6818\n",
      "Epoch [104], train_loss: 1.6160, val_loss: 1.8102, val_acc: 0.6553\n",
      "Epoch [105], train_loss: 1.6177, val_loss: 1.7818, val_acc: 0.6825\n",
      "Epoch [106], train_loss: 1.6144, val_loss: 1.7550, val_acc: 0.7088\n",
      "Epoch [107], train_loss: 1.6155, val_loss: 1.7304, val_acc: 0.7320\n",
      "Epoch [108], train_loss: 1.6150, val_loss: 1.8388, val_acc: 0.6226\n",
      "Epoch [109], train_loss: 1.6138, val_loss: 1.8028, val_acc: 0.6605\n",
      "Epoch [110], train_loss: 1.6149, val_loss: 1.7888, val_acc: 0.6731\n",
      "Epoch [111], train_loss: 1.6106, val_loss: 1.7529, val_acc: 0.7157\n",
      "Epoch [112], train_loss: 1.6112, val_loss: 1.7962, val_acc: 0.6674\n",
      "Epoch [113], train_loss: 1.6088, val_loss: 1.8635, val_acc: 0.5961\n",
      "Epoch [114], train_loss: 1.6077, val_loss: 1.7430, val_acc: 0.7190\n",
      "Epoch [115], train_loss: 1.6110, val_loss: 1.7968, val_acc: 0.6680\n",
      "Epoch [116], train_loss: 1.6098, val_loss: 1.7625, val_acc: 0.6995\n",
      "Epoch [117], train_loss: 1.6090, val_loss: 1.7500, val_acc: 0.7097\n",
      "Epoch [118], train_loss: 1.6074, val_loss: 1.7710, val_acc: 0.6911\n",
      "Epoch [119], train_loss: 1.6036, val_loss: 1.7207, val_acc: 0.7449\n",
      "Epoch [120], train_loss: 1.6077, val_loss: 1.7147, val_acc: 0.7488\n",
      "Epoch [121], train_loss: 1.6072, val_loss: 1.7754, val_acc: 0.6857\n",
      "Epoch [122], train_loss: 1.6034, val_loss: 1.8216, val_acc: 0.6409\n",
      "Epoch [123], train_loss: 1.6026, val_loss: 1.7535, val_acc: 0.7073\n",
      "Epoch [124], train_loss: 1.6003, val_loss: 1.7949, val_acc: 0.6671\n",
      "Epoch [125], train_loss: 1.6019, val_loss: 1.7213, val_acc: 0.7411\n",
      "Epoch [126], train_loss: 1.6035, val_loss: 1.7451, val_acc: 0.7183\n",
      "Epoch [127], train_loss: 1.6033, val_loss: 1.7190, val_acc: 0.7447\n",
      "Epoch [128], train_loss: 1.5981, val_loss: 1.6995, val_acc: 0.7618\n",
      "Epoch [129], train_loss: 1.6016, val_loss: 1.7172, val_acc: 0.7458\n",
      "Epoch [130], train_loss: 1.6008, val_loss: 1.7472, val_acc: 0.7191\n",
      "Epoch [131], train_loss: 1.5982, val_loss: 1.7646, val_acc: 0.7006\n",
      "Epoch [132], train_loss: 1.5989, val_loss: 1.7403, val_acc: 0.7218\n",
      "Epoch [133], train_loss: 1.5959, val_loss: 1.7381, val_acc: 0.7237\n",
      "Epoch [134], train_loss: 1.5957, val_loss: 1.7006, val_acc: 0.7643\n",
      "Epoch [135], train_loss: 1.5956, val_loss: 1.7322, val_acc: 0.7315\n",
      "Epoch [136], train_loss: 1.5942, val_loss: 1.8039, val_acc: 0.6569\n",
      "Epoch [137], train_loss: 1.5922, val_loss: 1.7337, val_acc: 0.7294\n",
      "Epoch [138], train_loss: 1.5969, val_loss: 1.7916, val_acc: 0.6721\n",
      "Epoch [139], train_loss: 1.5933, val_loss: 1.7873, val_acc: 0.6739\n",
      "Epoch [140], train_loss: 1.5924, val_loss: 1.7609, val_acc: 0.6996\n",
      "Epoch [141], train_loss: 1.5932, val_loss: 1.7188, val_acc: 0.7455\n",
      "Epoch [142], train_loss: 1.5932, val_loss: 1.7384, val_acc: 0.7221\n",
      "Epoch [143], train_loss: 1.5924, val_loss: 1.7144, val_acc: 0.7481\n",
      "Epoch [144], train_loss: 1.5911, val_loss: 1.7293, val_acc: 0.7336\n",
      "Epoch [145], train_loss: 1.5900, val_loss: 1.7671, val_acc: 0.6941\n",
      "Epoch [146], train_loss: 1.5906, val_loss: 1.7310, val_acc: 0.7298\n",
      "Epoch [147], train_loss: 1.5875, val_loss: 1.7738, val_acc: 0.6901\n",
      "Epoch [148], train_loss: 1.5899, val_loss: 1.7161, val_acc: 0.7480\n",
      "Epoch [149], train_loss: 1.5873, val_loss: 1.7320, val_acc: 0.7307\n",
      "Epoch [150], train_loss: 1.5870, val_loss: 1.7208, val_acc: 0.7433\n",
      "Epoch [151], train_loss: 1.5877, val_loss: 1.7205, val_acc: 0.7419\n",
      "Epoch [152], train_loss: 1.5859, val_loss: 1.7103, val_acc: 0.7536\n",
      "Epoch [153], train_loss: 1.5850, val_loss: 1.7638, val_acc: 0.6965\n",
      "Epoch [154], train_loss: 1.5876, val_loss: 1.7209, val_acc: 0.7366\n",
      "Epoch [155], train_loss: 1.5852, val_loss: 1.7274, val_acc: 0.7348\n",
      "Epoch [156], train_loss: 1.5841, val_loss: 1.7129, val_acc: 0.7479\n",
      "Epoch [157], train_loss: 1.5848, val_loss: 1.7047, val_acc: 0.7589\n",
      "Epoch [158], train_loss: 1.5851, val_loss: 1.7365, val_acc: 0.7260\n",
      "Epoch [159], train_loss: 1.5838, val_loss: 1.7177, val_acc: 0.7445\n",
      "Epoch [160], train_loss: 1.5840, val_loss: 1.7402, val_acc: 0.7207\n",
      "Epoch [161], train_loss: 1.5815, val_loss: 1.7041, val_acc: 0.7557\n",
      "Epoch [162], train_loss: 1.5799, val_loss: 1.7061, val_acc: 0.7589\n",
      "Epoch [163], train_loss: 1.5801, val_loss: 1.6653, val_acc: 0.7996\n",
      "Epoch [164], train_loss: 1.5801, val_loss: 1.7075, val_acc: 0.7568\n",
      "Epoch [165], train_loss: 1.5805, val_loss: 1.6989, val_acc: 0.7660\n",
      "Epoch [166], train_loss: 1.5772, val_loss: 1.7087, val_acc: 0.7549\n",
      "Epoch [167], train_loss: 1.5773, val_loss: 1.6576, val_acc: 0.8046\n",
      "Epoch [168], train_loss: 1.5795, val_loss: 1.7012, val_acc: 0.7622\n",
      "Epoch [169], train_loss: 1.5781, val_loss: 1.7104, val_acc: 0.7514\n",
      "Epoch [170], train_loss: 1.5756, val_loss: 1.7218, val_acc: 0.7407\n",
      "Epoch [171], train_loss: 1.5787, val_loss: 1.7413, val_acc: 0.7196\n",
      "Epoch [172], train_loss: 1.5763, val_loss: 1.7458, val_acc: 0.7139\n",
      "Epoch [173], train_loss: 1.5771, val_loss: 1.6971, val_acc: 0.7671\n",
      "Epoch [174], train_loss: 1.5747, val_loss: 1.7008, val_acc: 0.7600\n",
      "Epoch [175], train_loss: 1.5751, val_loss: 1.6937, val_acc: 0.7687\n",
      "Epoch [176], train_loss: 1.5756, val_loss: 1.7202, val_acc: 0.7407\n",
      "Epoch [177], train_loss: 1.5736, val_loss: 1.7070, val_acc: 0.7578\n",
      "Epoch [178], train_loss: 1.5731, val_loss: 1.6850, val_acc: 0.7774\n",
      "Epoch [179], train_loss: 1.5717, val_loss: 1.6946, val_acc: 0.7689\n",
      "Epoch [180], train_loss: 1.5708, val_loss: 1.7047, val_acc: 0.7577\n",
      "Epoch [181], train_loss: 1.5686, val_loss: 1.6991, val_acc: 0.7625\n",
      "Epoch [182], train_loss: 1.5716, val_loss: 1.7119, val_acc: 0.7498\n",
      "Epoch [183], train_loss: 1.5713, val_loss: 1.7025, val_acc: 0.7584\n",
      "Epoch [184], train_loss: 1.5706, val_loss: 1.7284, val_acc: 0.7332\n",
      "Epoch [185], train_loss: 1.5706, val_loss: 1.7318, val_acc: 0.7285\n",
      "Epoch [186], train_loss: 1.5670, val_loss: 1.7393, val_acc: 0.7220\n",
      "Epoch [187], train_loss: 1.5688, val_loss: 1.6846, val_acc: 0.7797\n",
      "Epoch [188], train_loss: 1.5673, val_loss: 1.7355, val_acc: 0.7250\n",
      "Epoch [189], train_loss: 1.5672, val_loss: 1.7066, val_acc: 0.7560\n",
      "Epoch [190], train_loss: 1.5678, val_loss: 1.6901, val_acc: 0.7708\n",
      "Epoch [191], train_loss: 1.5655, val_loss: 1.7181, val_acc: 0.7434\n",
      "Epoch [192], train_loss: 1.5686, val_loss: 1.7174, val_acc: 0.7440\n",
      "Epoch [193], train_loss: 1.5652, val_loss: 1.6917, val_acc: 0.7713\n",
      "Epoch [194], train_loss: 1.5646, val_loss: 1.7204, val_acc: 0.7419\n",
      "Epoch [195], train_loss: 1.5647, val_loss: 1.7003, val_acc: 0.7601\n",
      "Epoch [196], train_loss: 1.5617, val_loss: 1.6767, val_acc: 0.7831\n",
      "Epoch [197], train_loss: 1.5651, val_loss: 1.6634, val_acc: 0.7999\n",
      "Epoch [198], train_loss: 1.5630, val_loss: 1.7056, val_acc: 0.7555\n",
      "Epoch [199], train_loss: 1.5646, val_loss: 1.6819, val_acc: 0.7804\n",
      "Epoch [200], train_loss: 1.5630, val_loss: 1.6987, val_acc: 0.7620\n",
      "Epoch [201], train_loss: 1.5628, val_loss: 1.6915, val_acc: 0.7701\n",
      "Epoch [202], train_loss: 1.5627, val_loss: 1.7024, val_acc: 0.7579\n",
      "Epoch [203], train_loss: 1.5603, val_loss: 1.7293, val_acc: 0.7312\n",
      "Epoch [204], train_loss: 1.5628, val_loss: 1.6993, val_acc: 0.7644\n",
      "Epoch [205], train_loss: 1.5604, val_loss: 1.7048, val_acc: 0.7570\n",
      "Epoch [206], train_loss: 1.5605, val_loss: 1.6915, val_acc: 0.7728\n",
      "Epoch [207], train_loss: 1.5596, val_loss: 1.6894, val_acc: 0.7715\n",
      "Epoch [208], train_loss: 1.5586, val_loss: 1.7031, val_acc: 0.7580\n",
      "Epoch [209], train_loss: 1.5568, val_loss: 1.7231, val_acc: 0.7388\n",
      "Epoch [210], train_loss: 1.5573, val_loss: 1.6618, val_acc: 0.7997\n",
      "Epoch [211], train_loss: 1.5578, val_loss: 1.6840, val_acc: 0.7795\n",
      "Epoch [212], train_loss: 1.5552, val_loss: 1.6858, val_acc: 0.7777\n",
      "Epoch [213], train_loss: 1.5563, val_loss: 1.6950, val_acc: 0.7679\n",
      "Epoch [214], train_loss: 1.5546, val_loss: 1.7293, val_acc: 0.7333\n",
      "Epoch [215], train_loss: 1.5563, val_loss: 1.6992, val_acc: 0.7638\n",
      "Epoch [216], train_loss: 1.5554, val_loss: 1.7103, val_acc: 0.7518\n",
      "Epoch [217], train_loss: 1.5542, val_loss: 1.6962, val_acc: 0.7665\n",
      "Epoch [218], train_loss: 1.5557, val_loss: 1.6720, val_acc: 0.7916\n",
      "Epoch [219], train_loss: 1.5518, val_loss: 1.7190, val_acc: 0.7436\n",
      "Epoch [220], train_loss: 1.5517, val_loss: 1.6696, val_acc: 0.7944\n",
      "Epoch [221], train_loss: 1.5524, val_loss: 1.7188, val_acc: 0.7426\n",
      "Epoch [222], train_loss: 1.5519, val_loss: 1.6771, val_acc: 0.7863\n",
      "Epoch [223], train_loss: 1.5512, val_loss: 1.7089, val_acc: 0.7536\n",
      "Epoch [224], train_loss: 1.5508, val_loss: 1.6821, val_acc: 0.7811\n",
      "Epoch [225], train_loss: 1.5525, val_loss: 1.6834, val_acc: 0.7782\n",
      "Epoch [226], train_loss: 1.5484, val_loss: 1.6969, val_acc: 0.7622\n",
      "Epoch [227], train_loss: 1.5495, val_loss: 1.7040, val_acc: 0.7586\n",
      "Epoch [228], train_loss: 1.5492, val_loss: 1.6869, val_acc: 0.7756\n",
      "Epoch [229], train_loss: 1.5482, val_loss: 1.6793, val_acc: 0.7828\n",
      "Epoch [230], train_loss: 1.5473, val_loss: 1.6890, val_acc: 0.7755\n",
      "Epoch [231], train_loss: 1.5471, val_loss: 1.7166, val_acc: 0.7430\n",
      "Epoch [232], train_loss: 1.5462, val_loss: 1.7057, val_acc: 0.7561\n",
      "Epoch [233], train_loss: 1.5446, val_loss: 1.6722, val_acc: 0.7898\n",
      "Epoch [234], train_loss: 1.5472, val_loss: 1.6859, val_acc: 0.7758\n",
      "Epoch [235], train_loss: 1.5449, val_loss: 1.6858, val_acc: 0.7761\n",
      "Epoch [236], train_loss: 1.5463, val_loss: 1.7155, val_acc: 0.7464\n",
      "Epoch [237], train_loss: 1.5433, val_loss: 1.6988, val_acc: 0.7620\n",
      "Epoch [238], train_loss: 1.5452, val_loss: 1.6937, val_acc: 0.7680\n",
      "Epoch [239], train_loss: 1.5450, val_loss: 1.6432, val_acc: 0.8208\n",
      "Epoch [240], train_loss: 1.5445, val_loss: 1.6951, val_acc: 0.7656\n",
      "Epoch [241], train_loss: 1.5432, val_loss: 1.7061, val_acc: 0.7553\n",
      "Epoch [242], train_loss: 1.5417, val_loss: 1.6836, val_acc: 0.7795\n",
      "Epoch [243], train_loss: 1.5411, val_loss: 1.6782, val_acc: 0.7837\n",
      "Epoch [244], train_loss: 1.5438, val_loss: 1.6956, val_acc: 0.7669\n",
      "Epoch [245], train_loss: 1.5397, val_loss: 1.7183, val_acc: 0.7417\n",
      "Epoch [246], train_loss: 1.5385, val_loss: 1.7229, val_acc: 0.7377\n",
      "Epoch [247], train_loss: 1.5397, val_loss: 1.7022, val_acc: 0.7596\n",
      "Epoch [248], train_loss: 1.5388, val_loss: 1.6940, val_acc: 0.7688\n",
      "Epoch [249], train_loss: 1.5391, val_loss: 1.7076, val_acc: 0.7548\n",
      "Epoch [250], train_loss: 1.5355, val_loss: 1.6760, val_acc: 0.7858\n",
      "Epoch [251], train_loss: 1.5369, val_loss: 1.6862, val_acc: 0.7751\n",
      "Epoch [252], train_loss: 1.5352, val_loss: 1.6924, val_acc: 0.7690\n",
      "Epoch [253], train_loss: 1.5356, val_loss: 1.6937, val_acc: 0.7681\n",
      "Epoch [254], train_loss: 1.5371, val_loss: 1.6905, val_acc: 0.7698\n",
      "Epoch [255], train_loss: 1.5344, val_loss: 1.6961, val_acc: 0.7632\n",
      "Epoch [256], train_loss: 1.5351, val_loss: 1.6730, val_acc: 0.7912\n",
      "Epoch [257], train_loss: 1.5344, val_loss: 1.6591, val_acc: 0.8038\n",
      "Epoch [258], train_loss: 1.5334, val_loss: 1.6721, val_acc: 0.7904\n",
      "Epoch [259], train_loss: 1.5326, val_loss: 1.6636, val_acc: 0.7994\n",
      "Epoch [260], train_loss: 1.5331, val_loss: 1.6839, val_acc: 0.7769\n",
      "Epoch [261], train_loss: 1.5314, val_loss: 1.7198, val_acc: 0.7396\n",
      "Epoch [262], train_loss: 1.5305, val_loss: 1.6713, val_acc: 0.7908\n",
      "Epoch [263], train_loss: 1.5306, val_loss: 1.6743, val_acc: 0.7869\n",
      "Epoch [264], train_loss: 1.5310, val_loss: 1.6716, val_acc: 0.7918\n",
      "Epoch [265], train_loss: 1.5303, val_loss: 1.6786, val_acc: 0.7828\n",
      "Epoch [266], train_loss: 1.5289, val_loss: 1.6528, val_acc: 0.8074\n",
      "Epoch [267], train_loss: 1.5301, val_loss: 1.6599, val_acc: 0.8034\n",
      "Epoch [268], train_loss: 1.5286, val_loss: 1.6691, val_acc: 0.7927\n",
      "Epoch [269], train_loss: 1.5265, val_loss: 1.6728, val_acc: 0.7888\n",
      "Epoch [270], train_loss: 1.5271, val_loss: 1.6742, val_acc: 0.7874\n",
      "Epoch [271], train_loss: 1.5261, val_loss: 1.6695, val_acc: 0.7925\n",
      "Epoch [272], train_loss: 1.5275, val_loss: 1.6749, val_acc: 0.7870\n",
      "Epoch [273], train_loss: 1.5239, val_loss: 1.6835, val_acc: 0.7794\n",
      "Epoch [274], train_loss: 1.5264, val_loss: 1.7005, val_acc: 0.7601\n",
      "Epoch [275], train_loss: 1.5253, val_loss: 1.6668, val_acc: 0.7962\n",
      "Epoch [276], train_loss: 1.5249, val_loss: 1.6897, val_acc: 0.7732\n",
      "Epoch [277], train_loss: 1.5228, val_loss: 1.6831, val_acc: 0.7775\n",
      "Epoch [278], train_loss: 1.5233, val_loss: 1.6631, val_acc: 0.8005\n",
      "Epoch [279], train_loss: 1.5214, val_loss: 1.6857, val_acc: 0.7762\n",
      "Epoch [280], train_loss: 1.5233, val_loss: 1.6992, val_acc: 0.7619\n",
      "Epoch [281], train_loss: 1.5210, val_loss: 1.6880, val_acc: 0.7727\n",
      "Epoch [282], train_loss: 1.5202, val_loss: 1.6831, val_acc: 0.7780\n",
      "Epoch [283], train_loss: 1.5203, val_loss: 1.6639, val_acc: 0.7969\n",
      "Epoch [284], train_loss: 1.5201, val_loss: 1.6659, val_acc: 0.7957\n",
      "Epoch [285], train_loss: 1.5193, val_loss: 1.6809, val_acc: 0.7800\n",
      "Epoch [286], train_loss: 1.5186, val_loss: 1.6980, val_acc: 0.7627\n",
      "Epoch [287], train_loss: 1.5174, val_loss: 1.6733, val_acc: 0.7886\n",
      "Epoch [288], train_loss: 1.5174, val_loss: 1.6713, val_acc: 0.7904\n",
      "Epoch [289], train_loss: 1.5181, val_loss: 1.6759, val_acc: 0.7849\n",
      "Epoch [290], train_loss: 1.5173, val_loss: 1.6889, val_acc: 0.7741\n",
      "Epoch [291], train_loss: 1.5172, val_loss: 1.6980, val_acc: 0.7640\n",
      "Epoch [292], train_loss: 1.5161, val_loss: 1.7173, val_acc: 0.7435\n",
      "Epoch [293], train_loss: 1.5160, val_loss: 1.6853, val_acc: 0.7757\n",
      "Epoch [294], train_loss: 1.5143, val_loss: 1.6690, val_acc: 0.7925\n",
      "Epoch [295], train_loss: 1.5135, val_loss: 1.6670, val_acc: 0.7949\n",
      "Epoch [296], train_loss: 1.5127, val_loss: 1.6877, val_acc: 0.7738\n",
      "Epoch [297], train_loss: 1.5109, val_loss: 1.6893, val_acc: 0.7724\n",
      "Epoch [298], train_loss: 1.5132, val_loss: 1.6790, val_acc: 0.7820\n",
      "Epoch [299], train_loss: 1.5112, val_loss: 1.7023, val_acc: 0.7580\n",
      "Epoch [300], train_loss: 1.5112, val_loss: 1.6591, val_acc: 0.8033\n",
      "Epoch [301], train_loss: 1.5103, val_loss: 1.6854, val_acc: 0.7756\n",
      "Epoch [302], train_loss: 1.5112, val_loss: 1.6811, val_acc: 0.7779\n",
      "Epoch [303], train_loss: 1.5093, val_loss: 1.7108, val_acc: 0.7499\n",
      "Epoch [304], train_loss: 1.5099, val_loss: 1.6863, val_acc: 0.7733\n",
      "Epoch [305], train_loss: 1.5105, val_loss: 1.6816, val_acc: 0.7794\n",
      "Epoch [306], train_loss: 1.5099, val_loss: 1.6777, val_acc: 0.7858\n",
      "Epoch [307], train_loss: 1.5057, val_loss: 1.6651, val_acc: 0.7976\n",
      "Epoch [308], train_loss: 1.5078, val_loss: 1.6797, val_acc: 0.7827\n",
      "Epoch [309], train_loss: 1.5072, val_loss: 1.6831, val_acc: 0.7778\n",
      "Epoch [310], train_loss: 1.5076, val_loss: 1.7022, val_acc: 0.7570\n",
      "Epoch [311], train_loss: 1.5069, val_loss: 1.6619, val_acc: 0.8005\n",
      "Epoch [312], train_loss: 1.5058, val_loss: 1.6705, val_acc: 0.7919\n",
      "Epoch [313], train_loss: 1.5053, val_loss: 1.6935, val_acc: 0.7677\n",
      "Epoch [314], train_loss: 1.5049, val_loss: 1.6947, val_acc: 0.7664\n",
      "Epoch [315], train_loss: 1.5047, val_loss: 1.6929, val_acc: 0.7681\n",
      "Epoch [316], train_loss: 1.5034, val_loss: 1.6982, val_acc: 0.7625\n",
      "Epoch [317], train_loss: 1.5042, val_loss: 1.6718, val_acc: 0.7906\n",
      "Epoch [318], train_loss: 1.5032, val_loss: 1.6955, val_acc: 0.7660\n",
      "Epoch [319], train_loss: 1.5016, val_loss: 1.6924, val_acc: 0.7682\n",
      "Epoch [320], train_loss: 1.5024, val_loss: 1.7004, val_acc: 0.7600\n",
      "Epoch [321], train_loss: 1.5016, val_loss: 1.6946, val_acc: 0.7679\n",
      "Epoch [322], train_loss: 1.5005, val_loss: 1.6809, val_acc: 0.7817\n",
      "Epoch [323], train_loss: 1.5006, val_loss: 1.6940, val_acc: 0.7672\n",
      "Epoch [324], train_loss: 1.4997, val_loss: 1.6831, val_acc: 0.7791\n",
      "Epoch [325], train_loss: 1.5005, val_loss: 1.6852, val_acc: 0.7769\n",
      "Epoch [326], train_loss: 1.4989, val_loss: 1.6907, val_acc: 0.7718\n",
      "Epoch [327], train_loss: 1.4994, val_loss: 1.7004, val_acc: 0.7614\n",
      "Epoch [328], train_loss: 1.4998, val_loss: 1.6842, val_acc: 0.7775\n",
      "Epoch [329], train_loss: 1.4986, val_loss: 1.6996, val_acc: 0.7614\n",
      "Epoch [330], train_loss: 1.4983, val_loss: 1.6907, val_acc: 0.7711\n",
      "Epoch [331], train_loss: 1.4968, val_loss: 1.6777, val_acc: 0.7845\n",
      "Epoch [332], train_loss: 1.4978, val_loss: 1.6921, val_acc: 0.7694\n",
      "Epoch [333], train_loss: 1.4959, val_loss: 1.7051, val_acc: 0.7550\n",
      "Epoch [334], train_loss: 1.4970, val_loss: 1.6959, val_acc: 0.7653\n",
      "Epoch [335], train_loss: 1.4959, val_loss: 1.6975, val_acc: 0.7652\n",
      "Epoch [336], train_loss: 1.4966, val_loss: 1.7038, val_acc: 0.7568\n",
      "Epoch [337], train_loss: 1.4955, val_loss: 1.6987, val_acc: 0.7616\n",
      "Epoch [338], train_loss: 1.4951, val_loss: 1.7217, val_acc: 0.7397\n",
      "Epoch [339], train_loss: 1.4947, val_loss: 1.6893, val_acc: 0.7739\n",
      "Epoch [340], train_loss: 1.4952, val_loss: 1.7073, val_acc: 0.7526\n",
      "Epoch [341], train_loss: 1.4949, val_loss: 1.6999, val_acc: 0.7611\n",
      "Epoch [342], train_loss: 1.4942, val_loss: 1.7010, val_acc: 0.7612\n",
      "Epoch [343], train_loss: 1.4933, val_loss: 1.6948, val_acc: 0.7678\n",
      "Epoch [344], train_loss: 1.4940, val_loss: 1.6955, val_acc: 0.7660\n",
      "Epoch [345], train_loss: 1.4928, val_loss: 1.7122, val_acc: 0.7484\n",
      "Epoch [346], train_loss: 1.4935, val_loss: 1.7190, val_acc: 0.7417\n",
      "Epoch [347], train_loss: 1.4919, val_loss: 1.6944, val_acc: 0.7678\n",
      "Epoch [348], train_loss: 1.4924, val_loss: 1.6800, val_acc: 0.7807\n",
      "Epoch [349], train_loss: 1.4925, val_loss: 1.6909, val_acc: 0.7693\n",
      "Epoch [350], train_loss: 1.4916, val_loss: 1.6839, val_acc: 0.7775\n",
      "Epoch [351], train_loss: 1.4911, val_loss: 1.6986, val_acc: 0.7629\n",
      "Epoch [352], train_loss: 1.4914, val_loss: 1.6844, val_acc: 0.7770\n",
      "Epoch [353], train_loss: 1.4909, val_loss: 1.6792, val_acc: 0.7837\n",
      "Epoch [354], train_loss: 1.4908, val_loss: 1.7076, val_acc: 0.7541\n",
      "Epoch [355], train_loss: 1.4905, val_loss: 1.7194, val_acc: 0.7422\n",
      "Epoch [356], train_loss: 1.4898, val_loss: 1.7060, val_acc: 0.7536\n",
      "Epoch [357], train_loss: 1.4897, val_loss: 1.7113, val_acc: 0.7488\n",
      "Epoch [358], train_loss: 1.4897, val_loss: 1.7075, val_acc: 0.7500\n",
      "Epoch [359], train_loss: 1.4900, val_loss: 1.6957, val_acc: 0.7660\n",
      "Epoch [360], train_loss: 1.4892, val_loss: 1.6980, val_acc: 0.7617\n",
      "Epoch [361], train_loss: 1.4888, val_loss: 1.6994, val_acc: 0.7616\n",
      "Epoch [362], train_loss: 1.4879, val_loss: 1.6988, val_acc: 0.7617\n",
      "Epoch [363], train_loss: 1.4879, val_loss: 1.6739, val_acc: 0.7862\n",
      "Epoch [364], train_loss: 1.4887, val_loss: 1.6885, val_acc: 0.7718\n",
      "Epoch [365], train_loss: 1.4885, val_loss: 1.7001, val_acc: 0.7613\n",
      "Epoch [366], train_loss: 1.4887, val_loss: 1.7152, val_acc: 0.7438\n",
      "Epoch [367], train_loss: 1.4871, val_loss: 1.7036, val_acc: 0.7574\n",
      "Epoch [368], train_loss: 1.4878, val_loss: 1.6841, val_acc: 0.7768\n",
      "Epoch [369], train_loss: 1.4883, val_loss: 1.6908, val_acc: 0.7695\n",
      "Epoch [370], train_loss: 1.4869, val_loss: 1.7008, val_acc: 0.7606\n",
      "Epoch [371], train_loss: 1.4883, val_loss: 1.6903, val_acc: 0.7701\n",
      "Epoch [372], train_loss: 1.4875, val_loss: 1.6834, val_acc: 0.7767\n",
      "Epoch [373], train_loss: 1.4873, val_loss: 1.6876, val_acc: 0.7732\n",
      "Epoch [374], train_loss: 1.4879, val_loss: 1.6950, val_acc: 0.7659\n",
      "Epoch [375], train_loss: 1.4871, val_loss: 1.6953, val_acc: 0.7657\n",
      "Epoch [376], train_loss: 1.4865, val_loss: 1.6875, val_acc: 0.7739\n",
      "Epoch [377], train_loss: 1.4871, val_loss: 1.6859, val_acc: 0.7738\n",
      "Epoch [378], train_loss: 1.4874, val_loss: 1.6846, val_acc: 0.7765\n",
      "Epoch [379], train_loss: 1.4866, val_loss: 1.6923, val_acc: 0.7684\n",
      "Epoch [380], train_loss: 1.4867, val_loss: 1.6796, val_acc: 0.7816\n",
      "Epoch [381], train_loss: 1.4865, val_loss: 1.6795, val_acc: 0.7818\n",
      "Epoch [382], train_loss: 1.4870, val_loss: 1.6889, val_acc: 0.7717\n",
      "Epoch [383], train_loss: 1.4857, val_loss: 1.6973, val_acc: 0.7636\n",
      "Epoch [384], train_loss: 1.4860, val_loss: 1.6876, val_acc: 0.7739\n",
      "Epoch [385], train_loss: 1.4859, val_loss: 1.6936, val_acc: 0.7667\n",
      "Epoch [386], train_loss: 1.4854, val_loss: 1.6869, val_acc: 0.7735\n",
      "Epoch [387], train_loss: 1.4869, val_loss: 1.6974, val_acc: 0.7646\n",
      "Epoch [388], train_loss: 1.4866, val_loss: 1.6849, val_acc: 0.7760\n",
      "Epoch [389], train_loss: 1.4863, val_loss: 1.6929, val_acc: 0.7683\n",
      "Epoch [390], train_loss: 1.4857, val_loss: 1.6957, val_acc: 0.7658\n",
      "Epoch [391], train_loss: 1.4864, val_loss: 1.7035, val_acc: 0.7565\n",
      "Epoch [392], train_loss: 1.4864, val_loss: 1.7069, val_acc: 0.7548\n",
      "Epoch [393], train_loss: 1.4857, val_loss: 1.7048, val_acc: 0.7554\n",
      "Epoch [394], train_loss: 1.4867, val_loss: 1.6831, val_acc: 0.7789\n",
      "Epoch [395], train_loss: 1.4865, val_loss: 1.6881, val_acc: 0.7732\n",
      "Epoch [396], train_loss: 1.4862, val_loss: 1.6961, val_acc: 0.7629\n",
      "Epoch [397], train_loss: 1.4863, val_loss: 1.6984, val_acc: 0.7636\n",
      "Epoch [398], train_loss: 1.4861, val_loss: 1.6897, val_acc: 0.7701\n",
      "Epoch [399], train_loss: 1.4856, val_loss: 1.7173, val_acc: 0.7442\n",
      "CPU times: user 1h 40min 34s, sys: 9min 44s, total: 1h 50min 18s\n",
      "Wall time: 1h 47min 41s\n"
     ]
    }
   ],
   "source": [
    "%%time\n",
    "history += fit_one_cycle(epochs, max_lr, model, train_dl, valid_dl, \n",
    "                             grad_clip=grad_clip, \n",
    "                             weight_decay=weight_decay, \n",
    "                             opt_func=opt_func)"
   ]
  },
  {
   "cell_type": "code",
   "execution_count": 23,
   "metadata": {
    "id": "jvJzQAeNjB6Y"
   },
   "outputs": [],
   "source": [
    "def plot_accuracies(history):\n",
    "    accuracies = [x['val_acc'] for x in history]\n",
    "    plt.figure(figsize=(10,6))\n",
    "    plt.plot(accuracies, '-x')\n",
    "    plt.xlabel('epoch')\n",
    "    plt.ylabel('accuracy')\n",
    "    plt.title('Accuracy vs. No. of epochs');"
   ]
  },
  {
   "cell_type": "code",
   "execution_count": 24,
   "metadata": {
    "colab": {
     "base_uri": "https://localhost:8080/",
     "height": 171
    },
    "id": "fYuANPlfjIvt",
    "outputId": "08453f89-0933-4bd9-e02a-d760aad8714f"
   },
   "outputs": [
    {
     "data": {
      "image/png": "[encoded data removed]",
      "text/plain": [
       "<Figure size 720x432 with 1 Axes>"
      ]
     },
     "metadata": {
      "needs_background": "light"
     },
     "output_type": "display_data"
    }
   ],
   "source": [
    "plot_accuracies(history)"
   ]
  },
  {
   "cell_type": "code",
   "execution_count": 25,
   "metadata": {
    "id": "JV6cn39HjTF-"
   },
   "outputs": [],
   "source": [
    "def plot_losses(history):\n",
    "    train_losses = [x.get('train_loss') for x in history]\n",
    "    val_losses = [x['val_loss'] for x in history]\n",
    "    plt.figure(figsize=(10,6))\n",
    "    plt.plot(train_losses, '-bx')\n",
    "    plt.plot(val_losses, '-rx')\n",
    "    plt.xlabel('epoch')\n",
    "    plt.ylabel('loss')\n",
    "    plt.legend(['Training', 'Validation'])\n",
    "    plt.title('Loss vs. No. of epochs');"
   ]
  },
  {
   "cell_type": "code",
   "execution_count": 26,
   "metadata": {
    "colab": {
     "base_uri": "https://localhost:8080/",
     "height": 171
    },
    "id": "kuky-BEDjUw_",
    "outputId": "e33b1eb9-e7c7-483d-829a-75bce6a074ae"
   },
   "outputs": [
    {
     "data": {
      "image/png": "[encoded data removed]",
      "text/plain": [
       "<Figure size 720x432 with 1 Axes>"
      ]
     },
     "metadata": {
      "needs_background": "light"
     },
     "output_type": "display_data"
    }
   ],
   "source": [
    "plot_losses(history)"
   ]
  },
  {
   "cell_type": "code",
   "execution_count": 27,
   "metadata": {
    "id": "ToUcs2S6jZl_"
   },
   "outputs": [],
   "source": [
    "def plot_lrs(history):\n",
    "    lrs = np.concatenate([x.get('lrs', []) for x in history])\n",
    "    plt.figure(figsize=(10,6))\n",
    "    plt.plot(lrs)\n",
    "    plt.xlabel('Batch no.')\n",
    "    plt.ylabel('Learning rate')\n",
    "    plt.title('Learning Rate vs. Batch no.');"
   ]
  },
  {
   "cell_type": "code",
   "execution_count": 28,
   "metadata": {
    "colab": {
     "base_uri": "https://localhost:8080/",
     "height": 171
    },
    "id": "V1ao5oIJjboF",
    "outputId": "23d3a338-12ab-42be-b2de-8a2b3d55ccae"
   },
   "outputs": [
    {
     "data": {
      "image/png": "[encoded data removed]",
      "text/plain": [
       "<Figure size 720x432 with 1 Axes>"
      ]
     },
     "metadata": {
      "needs_background": "light"
     },
     "output_type": "display_data"
    }
   ],
   "source": [
    "plot_lrs(history)"
   ]
  }
 ],
 "metadata": {
  "accelerator": "GPU",
  "colab": {
   "collapsed_sections": [],
   "include_colab_link": true,
   "name": "kaggle94gpu.ipynb",
   "provenance": []
  },
  "kernelspec": {
   "display_name": "Python 3",
   "language": "python",
   "name": "python3"
  },
  "language_info": {
   "codemirror_mode": {
    "name": "ipython",
    "version": 3
   },
   "file_extension": ".py",
   "mimetype": "text/x-python",
   "name": "python",
   "nbconvert_exporter": "python",
   "pygments_lexer": "ipython3",
   "version": "3.6.9"
  },
  "widgets": {
   "application/vnd.jupyter.widget-state+json": {
    "0433c9c034b7466a98118f517c9ae2e8": {
     "model_module": "@jupyter-widgets/base",
     "model_module_version": "1.2.0",
     "model_name": "LayoutModel",
     "state": {
      "_model_module": "@jupyter-widgets/base",
      "_model_module_version": "1.2.0",
      "_model_name": "LayoutModel",
      "_view_count": null,
      "_view_module": "@jupyter-widgets/base",
      "_view_module_version": "1.2.0",
      "_view_name": "LayoutView",
      "align_content": null,
      "align_items": null,
      "align_self": null,
      "border": null,
      "bottom": null,
      "display": null,
      "flex": null,
      "flex_flow": null,
      "grid_area": null,
      "grid_auto_columns": null,
      "grid_auto_flow": null,
      "grid_auto_rows": null,
      "grid_column": null,
      "grid_gap": null,
      "grid_row": null,
      "grid_template_areas": null,
      "grid_template_columns": null,
      "grid_template_rows": null,
      "height": null,
      "justify_content": null,
      "justify_items": null,
      "left": null,
      "margin": null,
      "max_height": null,
      "max_width": null,
      "min_height": null,
      "min_width": null,
      "object_fit": null,
      "object_position": null,
      "order": null,
      "overflow": null,
      "overflow_x": null,
      "overflow_y": null,
      "padding": null,
      "right": null,
      "top": null,
      "visibility": null,
      "width": null
     }
    },
    "29225a4d667e47f980b33c95c0850d16": {
     "model_module": "@jupyter-widgets/controls",
     "model_module_version": "1.5.0",
     "model_name": "DescriptionStyleModel",
     "state": {
      "_model_module": "@jupyter-widgets/controls",
      "_model_module_version": "1.5.0",
      "_model_name": "DescriptionStyleModel",
      "_view_count": null,
      "_view_module": "@jupyter-widgets/base",
      "_view_module_version": "1.2.0",
      "_view_name": "StyleView",
      "description_width": ""
     }
    },
    "350d156265104e2296caf536b05d26cc": {
     "model_module": "@jupyter-widgets/controls",
     "model_module_version": "1.5.0",
     "model_name": "FloatProgressModel",
     "state": {
      "_dom_classes": [],
      "_model_module": "@jupyter-widgets/controls",
      "_model_module_version": "1.5.0",
      "_model_name": "FloatProgressModel",
      "_view_count": null,
      "_view_module": "@jupyter-widgets/controls",
      "_view_module_version": "1.5.0",
      "_view_name": "ProgressView",
      "bar_style": "success",
      "description": "",
      "description_tooltip": null,
      "layout": "IPY_MODEL_9ae1047b1b184d81bde7c14ca6ad72d5",
      "max": 170498071,
      "min": 0,
      "orientation": "horizontal",
      "style": "IPY_MODEL_37da94684df543f3a81fe78c389f68dc",
      "value": 170498071
     }
    },
    "37da94684df543f3a81fe78c389f68dc": {
     "model_module": "@jupyter-widgets/controls",
     "model_module_version": "1.5.0",
     "model_name": "ProgressStyleModel",
     "state": {
      "_model_module": "@jupyter-widgets/controls",
      "_model_module_version": "1.5.0",
      "_model_name": "ProgressStyleModel",
      "_view_count": null,
      "_view_module": "@jupyter-widgets/base",
      "_view_module_version": "1.2.0",
      "_view_name": "StyleView",
      "bar_color": null,
      "description_width": ""
     }
    },
    "40b5952c97aa40169739936f0d549d02": {
     "model_module": "@jupyter-widgets/controls",
     "model_module_version": "1.5.0",
     "model_name": "HTMLModel",
     "state": {
      "_dom_classes": [],
      "_model_module": "@jupyter-widgets/controls",
      "_model_module_version": "1.5.0",
      "_model_name": "HTMLModel",
      "_view_count": null,
      "_view_module": "@jupyter-widgets/controls",
      "_view_module_version": "1.5.0",
      "_view_name": "HTMLView",
      "description": "",
      "description_tooltip": null,
      "layout": "IPY_MODEL_0433c9c034b7466a98118f517c9ae2e8",
      "placeholder": "​",
      "style": "IPY_MODEL_fb9ab6c5d81f48089ac0d9dc03c72e6b",
      "value": " 170499072/? [00:02&lt;00:00, 62626240.17it/s]"
     }
    },
    "4c7fbb2405c84d7887d63fd6217cba4a": {
     "model_module": "@jupyter-widgets/controls",
     "model_module_version": "1.5.0",
     "model_name": "HTMLModel",
     "state": {
      "_dom_classes": [],
      "_model_module": "@jupyter-widgets/controls",
      "_model_module_version": "1.5.0",
      "_model_name": "HTMLModel",
      "_view_count": null,
      "_view_module": "@jupyter-widgets/controls",
      "_view_module_version": "1.5.0",
      "_view_name": "HTMLView",
      "description": "",
      "description_tooltip": null,
      "layout": "IPY_MODEL_a448b41c426a4810a07d5eb92df1bc21",
      "placeholder": "​",
      "style": "IPY_MODEL_29225a4d667e47f980b33c95c0850d16",
      "value": ""
     }
    },
    "50c9aed288f14fcd94009217a59c91ff": {
     "model_module": "@jupyter-widgets/base",
     "model_module_version": "1.2.0",
     "model_name": "LayoutModel",
     "state": {
      "_model_module": "@jupyter-widgets/base",
      "_model_module_version": "1.2.0",
      "_model_name": "LayoutModel",
      "_view_count": null,
      "_view_module": "@jupyter-widgets/base",
      "_view_module_version": "1.2.0",
      "_view_name": "LayoutView",
      "align_content": null,
      "align_items": null,
      "align_self": null,
      "border": null,
      "bottom": null,
      "display": null,
      "flex": null,
      "flex_flow": null,
      "grid_area": null,
      "grid_auto_columns": null,
      "grid_auto_flow": null,
      "grid_auto_rows": null,
      "grid_column": null,
      "grid_gap": null,
      "grid_row": null,
      "grid_template_areas": null,
      "grid_template_columns": null,
      "grid_template_rows": null,
      "height": null,
      "justify_content": null,
      "justify_items": null,
      "left": null,
      "margin": null,
      "max_height": null,
      "max_width": null,
      "min_height": null,
      "min_width": null,
      "object_fit": null,
      "object_position": null,
      "order": null,
      "overflow": null,
      "overflow_x": null,
      "overflow_y": null,
      "padding": null,
      "right": null,
      "top": null,
      "visibility": null,
      "width": null
     }
    },
    "9ae1047b1b184d81bde7c14ca6ad72d5": {
     "model_module": "@jupyter-widgets/base",
     "model_module_version": "1.2.0",
     "model_name": "LayoutModel",
     "state": {
      "_model_module": "@jupyter-widgets/base",
      "_model_module_version": "1.2.0",
      "_model_name": "LayoutModel",
      "_view_count": null,
      "_view_module": "@jupyter-widgets/base",
      "_view_module_version": "1.2.0",
      "_view_name": "LayoutView",
      "align_content": null,
      "align_items": null,
      "align_self": null,
      "border": null,
      "bottom": null,
      "display": null,
      "flex": null,
      "flex_flow": null,
      "grid_area": null,
      "grid_auto_columns": null,
      "grid_auto_flow": null,
      "grid_auto_rows": null,
      "grid_column": null,
      "grid_gap": null,
      "grid_row": null,
      "grid_template_areas": null,
      "grid_template_columns": null,
      "grid_template_rows": null,
      "height": null,
      "justify_content": null,
      "justify_items": null,
      "left": null,
      "margin": null,
      "max_height": null,
      "max_width": null,
      "min_height": null,
      "min_width": null,
      "object_fit": null,
      "object_position": null,
      "order": null,
      "overflow": null,
      "overflow_x": null,
      "overflow_y": null,
      "padding": null,
      "right": null,
      "top": null,
      "visibility": null,
      "width": null
     }
    },
    "a448b41c426a4810a07d5eb92df1bc21": {
     "model_module": "@jupyter-widgets/base",
     "model_module_version": "1.2.0",
     "model_name": "LayoutModel",
     "state": {
      "_model_module": "@jupyter-widgets/base",
      "_model_module_version": "1.2.0",
      "_model_name": "LayoutModel",
      "_view_count": null,
      "_view_module": "@jupyter-widgets/base",
      "_view_module_version": "1.2.0",
      "_view_name": "LayoutView",
      "align_content": null,
      "align_items": null,
      "align_self": null,
      "border": null,
      "bottom": null,
      "display": null,
      "flex": null,
      "flex_flow": null,
      "grid_area": null,
      "grid_auto_columns": null,
      "grid_auto_flow": null,
      "grid_auto_rows": null,
      "grid_column": null,
      "grid_gap": null,
      "grid_row": null,
      "grid_template_areas": null,
      "grid_template_columns": null,
      "grid_template_rows": null,
      "height": null,
      "justify_content": null,
      "justify_items": null,
      "left": null,
      "margin": null,
      "max_height": null,
      "max_width": null,
      "min_height": null,
      "min_width": null,
      "object_fit": null,
      "object_position": null,
      "order": null,
      "overflow": null,
      "overflow_x": null,
      "overflow_y": null,
      "padding": null,
      "right": null,
      "top": null,
      "visibility": null,
      "width": null
     }
    },
    "c974d31e436a42899adbf2ef969307a4": {
     "model_module": "@jupyter-widgets/controls",
     "model_module_version": "1.5.0",
     "model_name": "HBoxModel",
     "state": {
      "_dom_classes": [],
      "_model_module": "@jupyter-widgets/controls",
      "_model_module_version": "1.5.0",
      "_model_name": "HBoxModel",
      "_view_count": null,
      "_view_module": "@jupyter-widgets/controls",
      "_view_module_version": "1.5.0",
      "_view_name": "HBoxView",
      "box_style": "",
      "children": [
       "IPY_MODEL_4c7fbb2405c84d7887d63fd6217cba4a",
       "IPY_MODEL_350d156265104e2296caf536b05d26cc",
       "IPY_MODEL_40b5952c97aa40169739936f0d549d02"
      ],
      "layout": "IPY_MODEL_50c9aed288f14fcd94009217a59c91ff"
     }
    },
    "fb9ab6c5d81f48089ac0d9dc03c72e6b": {
     "model_module": "@jupyter-widgets/controls",
     "model_module_version": "1.5.0",
     "model_name": "DescriptionStyleModel",
     "state": {
      "_model_module": "@jupyter-widgets/controls",
      "_model_module_version": "1.5.0",
      "_model_name": "DescriptionStyleModel",
      "_view_count": null,
      "_view_module": "@jupyter-widgets/base",
      "_view_module_version": "1.2.0",
      "_view_name": "StyleView",
      "description_width": ""
     }
    }
   }
  }
 },
 "nbformat": 4,
 "nbformat_minor": 4
}
