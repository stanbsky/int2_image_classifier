{
 "cells": [
  {
   "cell_type": "markdown",
   "metadata": {
    "colab_type": "text",
    "id": "view-in-github"
   },
   "source": [
    "<a href=\"https://colab.research.google.com/github/stanbsky/int2_image_classifier/blob/main/kaggle94gpu.ipynb\" target=\"_parent\"><img src=\"https://colab.research.google.com/assets/colab-badge.svg\" alt=\"Open In Colab\"/></a>"
   ]
  },
  {
   "cell_type": "code",
   "execution_count": 1,
   "metadata": {
    "id": "OD2wVFLtkbkN"
   },
   "outputs": [
    {
     "name": "stderr",
     "output_type": "stream",
     "text": [
      "Matplotlib created a temporary config/cache directory at /tmp/matplotlib-3y8r5nz9 because the default path (/run/user/141228/cache/matplotlib) is not a writable directory; it is highly recommended to set the MPLCONFIGDIR environment variable to a writable directory, in particular to speed up the import of Matplotlib and to better support multiprocessing.\n"
     ]
    }
   ],
   "source": [
    "# importing libraries\n",
    "import torch\n",
    "import torchvision\n",
    "from torchvision.datasets.utils import download_url\n",
    "from torch.utils.data import random_split\n",
    "from torchvision.datasets import ImageFolder\n",
    "from torchvision.transforms import ToTensor,ToPILImage\n",
    "import matplotlib.pyplot as plt\n",
    "from torchvision.utils import make_grid\n",
    "from torch.utils.data.dataloader import DataLoader\n",
    "from torchvision.utils import make_grid\n",
    "import torch.nn as nn\n",
    "import torch.nn.functional as F\n",
    "import torchvision.transforms as tt\n",
    "import numpy as np"
   ]
  },
  {
   "cell_type": "code",
   "execution_count": 2,
   "metadata": {
    "id": "Cea6yx4amG2c"
   },
   "outputs": [],
   "source": [
    "import torchvision.datasets as datasets"
   ]
  },
  {
   "cell_type": "code",
   "execution_count": 3,
   "metadata": {
    "colab": {
     "base_uri": "https://localhost:8080/"
    },
    "id": "efdLf1xLk5_y",
    "outputId": "dd7073c3-3026-4d75-eee6-e0425ce35d3e"
   },
   "outputs": [
    {
     "data": {
      "text/plain": [
       "<weakproxy at 0x7efff3540e08 to Device at 0x7efff3a65e80>"
      ]
     },
     "execution_count": 3,
     "metadata": {},
     "output_type": "execute_result"
    }
   ],
   "source": [
    "from numba import cuda\n",
    "cuda.select_device(3)"
   ]
  },
  {
   "cell_type": "code",
   "execution_count": 4,
   "metadata": {
    "id": "hNiNZttPlHFe"
   },
   "outputs": [],
   "source": [
    "stats= ((0.4914,0.4822,0.4465),(0.2023,0.1994,0.2010)) #mean and std\n",
    "train_tfm= tt.Compose([tt.RandomCrop(32, padding=4, padding_mode='reflect'), # transormation of data together\n",
    "                       tt.RandomHorizontalFlip(),\n",
    "                       tt.ToTensor()])\n",
    "valid_tfm = tt.Compose([tt.ToTensor()])"
   ]
  },
  {
   "cell_type": "code",
   "execution_count": 5,
   "metadata": {
    "colab": {
     "base_uri": "https://localhost:8080/",
     "height": 86,
     "referenced_widgets": [
      "c974d31e436a42899adbf2ef969307a4",
      "4c7fbb2405c84d7887d63fd6217cba4a",
      "350d156265104e2296caf536b05d26cc",
      "40b5952c97aa40169739936f0d549d02",
      "50c9aed288f14fcd94009217a59c91ff",
      "a448b41c426a4810a07d5eb92df1bc21",
      "29225a4d667e47f980b33c95c0850d16",
      "9ae1047b1b184d81bde7c14ca6ad72d5",
      "37da94684df543f3a81fe78c389f68dc",
      "0433c9c034b7466a98118f517c9ae2e8",
      "fb9ab6c5d81f48089ac0d9dc03c72e6b"
     ]
    },
    "id": "pxotEy_Al0J4",
    "outputId": "90e7b090-0622-4775-fcfa-39958472aa7c"
   },
   "outputs": [
    {
     "name": "stdout",
     "output_type": "stream",
     "text": [
      "Files already downloaded and verified\n"
     ]
    }
   ],
   "source": [
    "training_data = datasets.CIFAR10(\n",
    "    root=\"data\",\n",
    "    train=True,\n",
    "    download=True,\n",
    "    transform=train_tfm,\n",
    ")"
   ]
  },
  {
   "cell_type": "code",
   "execution_count": 6,
   "metadata": {
    "colab": {
     "base_uri": "https://localhost:8080/"
    },
    "id": "3HUIV5yKmj4F",
    "outputId": "96675fe3-76e5-4e9f-9bc2-14b1d389996f"
   },
   "outputs": [
    {
     "name": "stdout",
     "output_type": "stream",
     "text": [
      "Files already downloaded and verified\n"
     ]
    }
   ],
   "source": [
    "# Download test data from open datasets.\n",
    "test_data = datasets.CIFAR10(\n",
    "    root=\"data\",\n",
    "    train=False,\n",
    "    download=True,\n",
    "    transform=valid_tfm,\n",
    ")"
   ]
  },
  {
   "cell_type": "code",
   "execution_count": 7,
   "metadata": {
    "colab": {
     "base_uri": "https://localhost:8080/"
    },
    "id": "3eOTjMVem_T9",
    "outputId": "c3a532da-260b-4bd9-baef-144d73c92f92"
   },
   "outputs": [
    {
     "data": {
      "text/plain": [
       "Dataset CIFAR10\n",
       "    Number of datapoints: 50000\n",
       "    Root location: data\n",
       "    Split: Train\n",
       "    StandardTransform\n",
       "Transform: Compose(\n",
       "               RandomCrop(size=(32, 32), padding=4)\n",
       "               RandomHorizontalFlip(p=0.5)\n",
       "               ToTensor()\n",
       "           )"
      ]
     },
     "execution_count": 7,
     "metadata": {},
     "output_type": "execute_result"
    }
   ],
   "source": [
    "valid_ds = test_data\n",
    "train_ds = training_data\n",
    "train_ds"
   ]
  },
  {
   "cell_type": "code",
   "execution_count": 8,
   "metadata": {
    "id": "JAFQAJUVr7U2"
   },
   "outputs": [],
   "source": [
    "def show_image(img,label):\n",
    "    print('Label: ', train_ds.classes[label],\"(\"+str(label)+\")\")\n",
    "    plt.imshow(img.permute(1,2,0))"
   ]
  },
  {
   "cell_type": "code",
   "execution_count": 9,
   "metadata": {
    "id": "tj5jXuuBri6o"
   },
   "outputs": [],
   "source": [
    "batch_size=100"
   ]
  },
  {
   "cell_type": "code",
   "execution_count": 10,
   "metadata": {
    "id": "n4kCM-hare00"
   },
   "outputs": [],
   "source": [
    "# Dataloader to load data in batches(mini batch)\n",
    "train_dl= DataLoader(train_ds,batch_size,shuffle=True, num_workers=2, pin_memory=True)\n",
    "valid_dl= DataLoader(valid_ds, batch_size, num_workers=2,pin_memory=True)"
   ]
  },
  {
   "cell_type": "code",
   "execution_count": 11,
   "metadata": {
    "id": "mcfsy3QptG2Y"
   },
   "outputs": [],
   "source": [
    "def show_batch(dl):\n",
    "    for images, labels in dl:\n",
    "        fig,ax= plt.subplots(figsize=(12,12))\n",
    "        ax.set_xticks([]) #hide ticks\n",
    "        ax.set_yticks([])\n",
    "        ax.imshow(make_grid(images[:64],nrow=8).permute(1,2,0))\n",
    "        break # printing only first 64 images from first batch"
   ]
  },
  {
   "cell_type": "code",
   "execution_count": 12,
   "metadata": {
    "id": "lPVFZltRtXt4"
   },
   "outputs": [],
   "source": [
    "def get_default_device():\n",
    "    \"\"\"Pick GPU if available, else CPU\"\"\"\n",
    "    if torch.cuda.is_available():\n",
    "        return torch.device('cuda')\n",
    "    else:\n",
    "        return torch.device('cpu')\n",
    "    \n",
    "def to_device(data, device):\n",
    "    \"\"\"Move tensor(s) to chosen device\"\"\"\n",
    "    if isinstance(data, (list,tuple)):\n",
    "        return [to_device(x, device) for x in data]\n",
    "    return data.to(device, non_blocking=True)\n",
    "\n",
    "class DeviceDataLoader():\n",
    "    \"\"\"Wrap a dataloader to move data to a device\"\"\"\n",
    "    def __init__(self, dl, device):\n",
    "        self.dl = dl\n",
    "        self.device = device\n",
    "        \n",
    "    def __iter__(self):\n",
    "        \"\"\"Yield a batch of data after moving it to device\"\"\"\n",
    "        for b in self.dl: \n",
    "            yield to_device(b, self.device)\n",
    "\n",
    "    def __len__(self):\n",
    "        \"\"\"Number of batches\"\"\"\n",
    "        return len(self.dl)"
   ]
  },
  {
   "cell_type": "code",
   "execution_count": 13,
   "metadata": {
    "colab": {
     "base_uri": "https://localhost:8080/"
    },
    "id": "SOksgE3wtYwZ",
    "outputId": "a9fb69e1-9e00-4139-d791-b7c305a7941a"
   },
   "outputs": [
    {
     "data": {
      "text/plain": [
       "device(type='cuda')"
      ]
     },
     "execution_count": 13,
     "metadata": {},
     "output_type": "execute_result"
    }
   ],
   "source": [
    "device = get_default_device()\n",
    "device"
   ]
  },
  {
   "cell_type": "code",
   "execution_count": 14,
   "metadata": {
    "id": "hfVlteXctb6f"
   },
   "outputs": [],
   "source": [
    "train_dl= DeviceDataLoader(train_dl,device)\n",
    "valid_dl = DeviceDataLoader(valid_dl, device)"
   ]
  },
  {
   "cell_type": "code",
   "execution_count": 15,
   "metadata": {
    "id": "PLmLZHBqtlF_"
   },
   "outputs": [],
   "source": [
    "def accuracy(outputs, labels):\n",
    "    _, preds = torch.max(outputs, dim=1)\n",
    "    return torch.tensor(torch.sum(preds == labels).item() / len(preds))\n",
    "\n",
    "class ImageClassificationBase(nn.Module):\n",
    "    def training_step(self, batch):\n",
    "        images, labels = batch \n",
    "        out = self(images)                  # Generate predictions\n",
    "        loss = F.cross_entropy(out, labels) # Calculate loss\n",
    "        return loss\n",
    "    \n",
    "    def validation_step(self, batch):\n",
    "        images, labels = batch \n",
    "        out = self(images)                    # Generate predictions\n",
    "        loss = F.cross_entropy(out, labels)   # Calculate loss\n",
    "        acc = accuracy(out, labels)           # Calculate accuracy\n",
    "        return {'val_loss': loss.detach(), 'val_acc': acc}\n",
    "        \n",
    "    def validation_epoch_end(self, outputs):\n",
    "        batch_losses = [x['val_loss'] for x in outputs]\n",
    "        epoch_loss = torch.stack(batch_losses).mean()   # Combine losses\n",
    "        batch_accs = [x['val_acc'] for x in outputs]\n",
    "        epoch_acc = torch.stack(batch_accs).mean()      # Combine accuracies\n",
    "        return {'val_loss': epoch_loss.item(), 'val_acc': epoch_acc.item()}\n",
    "    \n",
    "    def epoch_end(self, epoch, result):\n",
    "        print(\"Epoch [{}], train_loss: {:.4f}, val_loss: {:.4f}, val_acc: {:.4f}\".format(\n",
    "            epoch, result['train_loss'], result['val_loss'], result['val_acc']))"
   ]
  },
  {
   "cell_type": "code",
   "execution_count": 16,
   "metadata": {
    "id": "LcaZkKzQtomv"
   },
   "outputs": [],
   "source": [
    "def conv_block(in_channels, out_channels, stride=1):\n",
    "    layers = [nn.Conv2d(in_channels, out_channels, kernel_size=3, padding=1, stride=stride), \n",
    "              nn.BatchNorm2d(out_channels), \n",
    "              nn.ReLU(inplace=True)]\n",
    "    return nn.Sequential(*layers)\n",
    "\n",
    "def shortcut(in_channels, out_channels):\n",
    "    return nn.Conv2d(in_channels, out_channels, kernel_size=3, padding=1, stride=2)\n",
    "\n",
    "class ResNet(ImageClassificationBase):\n",
    "    def __init__(self, in_channels, num_classes, n):\n",
    "        super().__init__()\n",
    "        \n",
    "        self.n = n\n",
    "        \n",
    "        # 32x32 map\n",
    "        self.conv1 = conv_block(in_channels, 16)\n",
    "        self.reg32 = nn.Sequential(conv_block(16,16), conv_block(16,16))\n",
    "        \n",
    "        # 16x16 map\n",
    "        self.entry16 = nn.Sequential(conv_block(16, 32, stride=2), conv_block(32, 32))\n",
    "        self.short16 = shortcut(16, 32)\n",
    "        self.reg16 = nn.Sequential(conv_block(32, 32), conv_block(32, 32))\n",
    "        \n",
    "        # 8x8 map\n",
    "        self.entry8 = nn.Sequential(conv_block(32, 64, stride=2), conv_block(64, 64))\n",
    "        self.short8 = shortcut(32, 64)\n",
    "        self.reg8 = nn.Sequential(conv_block(64, 64), conv_block(64, 64))\n",
    "        \n",
    "        self.classifier = nn.Sequential(nn.AvgPool2d(kernel_size=8, stride=None, padding=0), \n",
    "                                        nn.Linear(64, num_classes),\n",
    "                                       nn.Softmax())\n",
    "        # FOR DEBUGGING\n",
    "        self.avg = nn.AvgPool2d(kernel_size=8, stride=None, padding=0)\n",
    "        self.flat = nn.Flatten()\n",
    "        self.fcl = nn.Linear(64, num_classes)\n",
    "        self.sm = nn.Softmax()\n",
    "        \n",
    "    def forward(self, xb):\n",
    "        out = self.conv1(xb)\n",
    "        \n",
    "        for i in range(self.n):\n",
    "            out = self.reg32(out) + out\n",
    "            \n",
    "        out = self.entry16(out) + self.short16(out)\n",
    "        for i in range(self.n - 1):\n",
    "            out = self.reg16(out) + out\n",
    "            \n",
    "        out = self.entry8(out) + self.short8(out)\n",
    "        for i in range(self.n - 1):\n",
    "            out = self.reg8(out) + out\n",
    "\n",
    "        #out = self.classifier(out)\n",
    "        out = self.avg(out)\n",
    "        out = self.flat(out)\n",
    "        out = self.fcl(out)\n",
    "        out = self.sm(out)\n",
    "        \n",
    "        return out"
   ]
  },
  {
   "cell_type": "code",
   "execution_count": 17,
   "metadata": {
    "colab": {
     "base_uri": "https://localhost:8080/"
    },
    "id": "O8BOig0Otrjz",
    "outputId": "a40ce9a4-8852-4595-9525-9841221a3391"
   },
   "outputs": [
    {
     "data": {
      "text/plain": [
       "ResNet(\n",
       "  (conv1): Sequential(\n",
       "    (0): Conv2d(3, 16, kernel_size=(3, 3), stride=(1, 1), padding=(1, 1))\n",
       "    (1): BatchNorm2d(16, eps=1e-05, momentum=0.1, affine=True, track_running_stats=True)\n",
       "    (2): ReLU(inplace=True)\n",
       "  )\n",
       "  (reg32): Sequential(\n",
       "    (0): Sequential(\n",
       "      (0): Conv2d(16, 16, kernel_size=(3, 3), stride=(1, 1), padding=(1, 1))\n",
       "      (1): BatchNorm2d(16, eps=1e-05, momentum=0.1, affine=True, track_running_stats=True)\n",
       "      (2): ReLU(inplace=True)\n",
       "    )\n",
       "    (1): Sequential(\n",
       "      (0): Conv2d(16, 16, kernel_size=(3, 3), stride=(1, 1), padding=(1, 1))\n",
       "      (1): BatchNorm2d(16, eps=1e-05, momentum=0.1, affine=True, track_running_stats=True)\n",
       "      (2): ReLU(inplace=True)\n",
       "    )\n",
       "  )\n",
       "  (entry16): Sequential(\n",
       "    (0): Sequential(\n",
       "      (0): Conv2d(16, 32, kernel_size=(3, 3), stride=(2, 2), padding=(1, 1))\n",
       "      (1): BatchNorm2d(32, eps=1e-05, momentum=0.1, affine=True, track_running_stats=True)\n",
       "      (2): ReLU(inplace=True)\n",
       "    )\n",
       "    (1): Sequential(\n",
       "      (0): Conv2d(32, 32, kernel_size=(3, 3), stride=(1, 1), padding=(1, 1))\n",
       "      (1): BatchNorm2d(32, eps=1e-05, momentum=0.1, affine=True, track_running_stats=True)\n",
       "      (2): ReLU(inplace=True)\n",
       "    )\n",
       "  )\n",
       "  (short16): Conv2d(16, 32, kernel_size=(3, 3), stride=(2, 2), padding=(1, 1))\n",
       "  (reg16): Sequential(\n",
       "    (0): Sequential(\n",
       "      (0): Conv2d(32, 32, kernel_size=(3, 3), stride=(1, 1), padding=(1, 1))\n",
       "      (1): BatchNorm2d(32, eps=1e-05, momentum=0.1, affine=True, track_running_stats=True)\n",
       "      (2): ReLU(inplace=True)\n",
       "    )\n",
       "    (1): Sequential(\n",
       "      (0): Conv2d(32, 32, kernel_size=(3, 3), stride=(1, 1), padding=(1, 1))\n",
       "      (1): BatchNorm2d(32, eps=1e-05, momentum=0.1, affine=True, track_running_stats=True)\n",
       "      (2): ReLU(inplace=True)\n",
       "    )\n",
       "  )\n",
       "  (entry8): Sequential(\n",
       "    (0): Sequential(\n",
       "      (0): Conv2d(32, 64, kernel_size=(3, 3), stride=(2, 2), padding=(1, 1))\n",
       "      (1): BatchNorm2d(64, eps=1e-05, momentum=0.1, affine=True, track_running_stats=True)\n",
       "      (2): ReLU(inplace=True)\n",
       "    )\n",
       "    (1): Sequential(\n",
       "      (0): Conv2d(64, 64, kernel_size=(3, 3), stride=(1, 1), padding=(1, 1))\n",
       "      (1): BatchNorm2d(64, eps=1e-05, momentum=0.1, affine=True, track_running_stats=True)\n",
       "      (2): ReLU(inplace=True)\n",
       "    )\n",
       "  )\n",
       "  (short8): Conv2d(32, 64, kernel_size=(3, 3), stride=(2, 2), padding=(1, 1))\n",
       "  (reg8): Sequential(\n",
       "    (0): Sequential(\n",
       "      (0): Conv2d(64, 64, kernel_size=(3, 3), stride=(1, 1), padding=(1, 1))\n",
       "      (1): BatchNorm2d(64, eps=1e-05, momentum=0.1, affine=True, track_running_stats=True)\n",
       "      (2): ReLU(inplace=True)\n",
       "    )\n",
       "    (1): Sequential(\n",
       "      (0): Conv2d(64, 64, kernel_size=(3, 3), stride=(1, 1), padding=(1, 1))\n",
       "      (1): BatchNorm2d(64, eps=1e-05, momentum=0.1, affine=True, track_running_stats=True)\n",
       "      (2): ReLU(inplace=True)\n",
       "    )\n",
       "  )\n",
       "  (classifier): Sequential(\n",
       "    (0): AvgPool2d(kernel_size=8, stride=8, padding=0)\n",
       "    (1): Linear(in_features=64, out_features=10, bias=True)\n",
       "    (2): Softmax(dim=None)\n",
       "  )\n",
       "  (avg): AvgPool2d(kernel_size=8, stride=8, padding=0)\n",
       "  (flat): Flatten(start_dim=1, end_dim=-1)\n",
       "  (fcl): Linear(in_features=64, out_features=10, bias=True)\n",
       "  (sm): Softmax(dim=None)\n",
       ")"
      ]
     },
     "execution_count": 17,
     "metadata": {},
     "output_type": "execute_result"
    }
   ],
   "source": [
    "# n=8 => ResNet50\n",
    "model= to_device(ResNet(3,10,8), device)\n",
    "model"
   ]
  },
  {
   "cell_type": "code",
   "execution_count": 18,
   "metadata": {
    "colab": {
     "base_uri": "https://localhost:8080/"
    },
    "id": "O8BOig0Otrjz",
    "outputId": "a40ce9a4-8852-4595-9525-9841221a3391"
   },
   "outputs": [
    {
     "name": "stdout",
     "output_type": "stream",
     "text": [
      "----------------------------------------------------------------\n",
      "        Layer (type)               Output Shape         Param #\n",
      "================================================================\n",
      "            Conv2d-1           [-1, 16, 32, 32]             448\n",
      "       BatchNorm2d-2           [-1, 16, 32, 32]              32\n",
      "              ReLU-3           [-1, 16, 32, 32]               0\n",
      "            Conv2d-4           [-1, 16, 32, 32]           2,320\n",
      "       BatchNorm2d-5           [-1, 16, 32, 32]              32\n",
      "              ReLU-6           [-1, 16, 32, 32]               0\n",
      "            Conv2d-7           [-1, 16, 32, 32]           2,320\n",
      "       BatchNorm2d-8           [-1, 16, 32, 32]              32\n",
      "              ReLU-9           [-1, 16, 32, 32]               0\n",
      "           Conv2d-10           [-1, 16, 32, 32]           2,320\n",
      "      BatchNorm2d-11           [-1, 16, 32, 32]              32\n",
      "             ReLU-12           [-1, 16, 32, 32]               0\n",
      "           Conv2d-13           [-1, 16, 32, 32]           2,320\n",
      "      BatchNorm2d-14           [-1, 16, 32, 32]              32\n",
      "             ReLU-15           [-1, 16, 32, 32]               0\n",
      "           Conv2d-16           [-1, 16, 32, 32]           2,320\n",
      "      BatchNorm2d-17           [-1, 16, 32, 32]              32\n",
      "             ReLU-18           [-1, 16, 32, 32]               0\n",
      "           Conv2d-19           [-1, 16, 32, 32]           2,320\n",
      "      BatchNorm2d-20           [-1, 16, 32, 32]              32\n",
      "             ReLU-21           [-1, 16, 32, 32]               0\n",
      "           Conv2d-22           [-1, 16, 32, 32]           2,320\n",
      "      BatchNorm2d-23           [-1, 16, 32, 32]              32\n",
      "             ReLU-24           [-1, 16, 32, 32]               0\n",
      "           Conv2d-25           [-1, 16, 32, 32]           2,320\n",
      "      BatchNorm2d-26           [-1, 16, 32, 32]              32\n",
      "             ReLU-27           [-1, 16, 32, 32]               0\n",
      "           Conv2d-28           [-1, 16, 32, 32]           2,320\n",
      "      BatchNorm2d-29           [-1, 16, 32, 32]              32\n",
      "             ReLU-30           [-1, 16, 32, 32]               0\n",
      "           Conv2d-31           [-1, 16, 32, 32]           2,320\n",
      "      BatchNorm2d-32           [-1, 16, 32, 32]              32\n",
      "             ReLU-33           [-1, 16, 32, 32]               0\n",
      "           Conv2d-34           [-1, 16, 32, 32]           2,320\n",
      "      BatchNorm2d-35           [-1, 16, 32, 32]              32\n",
      "             ReLU-36           [-1, 16, 32, 32]               0\n",
      "           Conv2d-37           [-1, 16, 32, 32]           2,320\n",
      "      BatchNorm2d-38           [-1, 16, 32, 32]              32\n",
      "             ReLU-39           [-1, 16, 32, 32]               0\n",
      "           Conv2d-40           [-1, 16, 32, 32]           2,320\n",
      "      BatchNorm2d-41           [-1, 16, 32, 32]              32\n",
      "             ReLU-42           [-1, 16, 32, 32]               0\n",
      "           Conv2d-43           [-1, 16, 32, 32]           2,320\n",
      "      BatchNorm2d-44           [-1, 16, 32, 32]              32\n",
      "             ReLU-45           [-1, 16, 32, 32]               0\n",
      "           Conv2d-46           [-1, 16, 32, 32]           2,320\n",
      "      BatchNorm2d-47           [-1, 16, 32, 32]              32\n",
      "             ReLU-48           [-1, 16, 32, 32]               0\n",
      "           Conv2d-49           [-1, 16, 32, 32]           2,320\n",
      "      BatchNorm2d-50           [-1, 16, 32, 32]              32\n",
      "             ReLU-51           [-1, 16, 32, 32]               0\n",
      "           Conv2d-52           [-1, 32, 16, 16]           4,640\n",
      "      BatchNorm2d-53           [-1, 32, 16, 16]              64\n",
      "             ReLU-54           [-1, 32, 16, 16]               0\n",
      "           Conv2d-55           [-1, 32, 16, 16]           9,248\n",
      "      BatchNorm2d-56           [-1, 32, 16, 16]              64\n",
      "             ReLU-57           [-1, 32, 16, 16]               0\n",
      "           Conv2d-58           [-1, 32, 16, 16]           4,640\n",
      "           Conv2d-59           [-1, 32, 16, 16]           9,248\n",
      "      BatchNorm2d-60           [-1, 32, 16, 16]              64\n",
      "             ReLU-61           [-1, 32, 16, 16]               0\n",
      "           Conv2d-62           [-1, 32, 16, 16]           9,248\n",
      "      BatchNorm2d-63           [-1, 32, 16, 16]              64\n",
      "             ReLU-64           [-1, 32, 16, 16]               0\n",
      "           Conv2d-65           [-1, 32, 16, 16]           9,248\n",
      "      BatchNorm2d-66           [-1, 32, 16, 16]              64\n",
      "             ReLU-67           [-1, 32, 16, 16]               0\n",
      "           Conv2d-68           [-1, 32, 16, 16]           9,248\n",
      "      BatchNorm2d-69           [-1, 32, 16, 16]              64\n",
      "             ReLU-70           [-1, 32, 16, 16]               0\n",
      "           Conv2d-71           [-1, 32, 16, 16]           9,248\n",
      "      BatchNorm2d-72           [-1, 32, 16, 16]              64\n",
      "             ReLU-73           [-1, 32, 16, 16]               0\n",
      "           Conv2d-74           [-1, 32, 16, 16]           9,248\n",
      "      BatchNorm2d-75           [-1, 32, 16, 16]              64\n",
      "             ReLU-76           [-1, 32, 16, 16]               0\n",
      "           Conv2d-77           [-1, 32, 16, 16]           9,248\n",
      "      BatchNorm2d-78           [-1, 32, 16, 16]              64\n",
      "             ReLU-79           [-1, 32, 16, 16]               0\n",
      "           Conv2d-80           [-1, 32, 16, 16]           9,248\n",
      "      BatchNorm2d-81           [-1, 32, 16, 16]              64\n",
      "             ReLU-82           [-1, 32, 16, 16]               0\n",
      "           Conv2d-83           [-1, 32, 16, 16]           9,248\n",
      "      BatchNorm2d-84           [-1, 32, 16, 16]              64\n",
      "             ReLU-85           [-1, 32, 16, 16]               0\n",
      "           Conv2d-86           [-1, 32, 16, 16]           9,248\n",
      "      BatchNorm2d-87           [-1, 32, 16, 16]              64\n",
      "             ReLU-88           [-1, 32, 16, 16]               0\n",
      "           Conv2d-89           [-1, 32, 16, 16]           9,248\n",
      "      BatchNorm2d-90           [-1, 32, 16, 16]              64\n",
      "             ReLU-91           [-1, 32, 16, 16]               0\n",
      "           Conv2d-92           [-1, 32, 16, 16]           9,248\n",
      "      BatchNorm2d-93           [-1, 32, 16, 16]              64\n",
      "             ReLU-94           [-1, 32, 16, 16]               0\n",
      "           Conv2d-95           [-1, 32, 16, 16]           9,248\n",
      "      BatchNorm2d-96           [-1, 32, 16, 16]              64\n",
      "             ReLU-97           [-1, 32, 16, 16]               0\n",
      "           Conv2d-98           [-1, 32, 16, 16]           9,248\n",
      "      BatchNorm2d-99           [-1, 32, 16, 16]              64\n",
      "            ReLU-100           [-1, 32, 16, 16]               0\n",
      "          Conv2d-101             [-1, 64, 8, 8]          18,496\n",
      "     BatchNorm2d-102             [-1, 64, 8, 8]             128\n",
      "            ReLU-103             [-1, 64, 8, 8]               0\n",
      "          Conv2d-104             [-1, 64, 8, 8]          36,928\n",
      "     BatchNorm2d-105             [-1, 64, 8, 8]             128\n",
      "            ReLU-106             [-1, 64, 8, 8]               0\n",
      "          Conv2d-107             [-1, 64, 8, 8]          18,496\n",
      "          Conv2d-108             [-1, 64, 8, 8]          36,928\n",
      "     BatchNorm2d-109             [-1, 64, 8, 8]             128\n",
      "            ReLU-110             [-1, 64, 8, 8]               0\n",
      "          Conv2d-111             [-1, 64, 8, 8]          36,928\n",
      "     BatchNorm2d-112             [-1, 64, 8, 8]             128\n",
      "            ReLU-113             [-1, 64, 8, 8]               0\n",
      "          Conv2d-114             [-1, 64, 8, 8]          36,928\n",
      "     BatchNorm2d-115             [-1, 64, 8, 8]             128\n",
      "            ReLU-116             [-1, 64, 8, 8]               0\n",
      "          Conv2d-117             [-1, 64, 8, 8]          36,928\n",
      "     BatchNorm2d-118             [-1, 64, 8, 8]             128\n",
      "            ReLU-119             [-1, 64, 8, 8]               0\n",
      "          Conv2d-120             [-1, 64, 8, 8]          36,928\n",
      "     BatchNorm2d-121             [-1, 64, 8, 8]             128\n",
      "            ReLU-122             [-1, 64, 8, 8]               0\n",
      "          Conv2d-123             [-1, 64, 8, 8]          36,928\n",
      "     BatchNorm2d-124             [-1, 64, 8, 8]             128\n",
      "            ReLU-125             [-1, 64, 8, 8]               0\n",
      "          Conv2d-126             [-1, 64, 8, 8]          36,928\n",
      "     BatchNorm2d-127             [-1, 64, 8, 8]             128\n",
      "            ReLU-128             [-1, 64, 8, 8]               0\n",
      "          Conv2d-129             [-1, 64, 8, 8]          36,928\n",
      "     BatchNorm2d-130             [-1, 64, 8, 8]             128\n",
      "            ReLU-131             [-1, 64, 8, 8]               0\n",
      "          Conv2d-132             [-1, 64, 8, 8]          36,928\n",
      "     BatchNorm2d-133             [-1, 64, 8, 8]             128\n",
      "            ReLU-134             [-1, 64, 8, 8]               0\n",
      "          Conv2d-135             [-1, 64, 8, 8]          36,928\n",
      "     BatchNorm2d-136             [-1, 64, 8, 8]             128\n",
      "            ReLU-137             [-1, 64, 8, 8]               0\n",
      "          Conv2d-138             [-1, 64, 8, 8]          36,928\n",
      "     BatchNorm2d-139             [-1, 64, 8, 8]             128\n",
      "            ReLU-140             [-1, 64, 8, 8]               0\n",
      "          Conv2d-141             [-1, 64, 8, 8]          36,928\n",
      "     BatchNorm2d-142             [-1, 64, 8, 8]             128\n",
      "            ReLU-143             [-1, 64, 8, 8]               0\n",
      "          Conv2d-144             [-1, 64, 8, 8]          36,928\n",
      "     BatchNorm2d-145             [-1, 64, 8, 8]             128\n",
      "            ReLU-146             [-1, 64, 8, 8]               0\n",
      "          Conv2d-147             [-1, 64, 8, 8]          36,928\n",
      "     BatchNorm2d-148             [-1, 64, 8, 8]             128\n",
      "            ReLU-149             [-1, 64, 8, 8]               0\n",
      "       AvgPool2d-150             [-1, 64, 1, 1]               0\n",
      "         Flatten-151                   [-1, 64]               0\n",
      "          Linear-152                   [-1, 10]             650\n",
      "         Softmax-153                   [-1, 10]               0\n",
      "================================================================\n",
      "Total params: 780,746\n",
      "Trainable params: 780,746\n",
      "Non-trainable params: 0\n",
      "----------------------------------------------------------------\n",
      "Input size (MB): 0.01\n",
      "Forward/backward pass size (MB): 10.97\n",
      "Params size (MB): 2.98\n",
      "Estimated Total Size (MB): 13.96\n",
      "----------------------------------------------------------------\n"
     ]
    },
    {
     "name": "stderr",
     "output_type": "stream",
     "text": [
      "/home/userfs/s/sb2444/.local/lib/python3.6/site-packages/ipykernel_launcher.py:57: UserWarning: Implicit dimension choice for softmax has been deprecated. Change the call to include dim=X as an argument.\n"
     ]
    }
   ],
   "source": [
    "from torchvision import models\n",
    "from torchsummary import summary\n",
    "summary(model, (3, 32, 32))"
   ]
  },
  {
   "cell_type": "code",
   "execution_count": 19,
   "metadata": {
    "id": "hmbJUvR3t0QY"
   },
   "outputs": [],
   "source": [
    "@torch.no_grad()\n",
    "def evaluate(model, val_loader):\n",
    "    model.eval()\n",
    "    outputs = [model.validation_step(batch) for batch in val_loader]\n",
    "    return model.validation_epoch_end(outputs)\n",
    "\n",
    "def get_lr(optimizer):\n",
    "    for param_group in optimizer.param_groups:\n",
    "        return param_group['lr']\n",
    "\n",
    "def fit_one_cycle(epochs, max_lr, model, train_loader, val_loader, \n",
    "                  weight_decay=0, grad_clip=None, opt_func=torch.optim.SGD):\n",
    "    torch.cuda.empty_cache()  # Realsing cuda memory otherwise might get cuda out of memory error\n",
    "    history = []\n",
    "    \n",
    "    #custom optimizer with weight decay\n",
    "    optimizer = opt_func(model.parameters(), max_lr, weight_decay=weight_decay)\n",
    "    # Set up one-cycle learning rate scheduler\n",
    "    sched = torch.optim.lr_scheduler.OneCycleLR(optimizer, max_lr, epochs=epochs, \n",
    "                                                steps_per_epoch=len(train_loader))\n",
    "    \n",
    "    for epoch in range(epochs):\n",
    "        # Training Phase \n",
    "        model.train() #Setting training mode\n",
    "        train_losses = []\n",
    "        lrs = []\n",
    "        for batch in train_loader:\n",
    "            loss = model.training_step(batch)\n",
    "            train_losses.append(loss)\n",
    "            loss.backward()\n",
    "            \n",
    "            # Gradient clipping\n",
    "            if grad_clip: \n",
    "                nn.utils.clip_grad_value_(model.parameters(), grad_clip)\n",
    "            \n",
    "            optimizer.step()\n",
    "            optimizer.zero_grad()\n",
    "            \n",
    "            # Record & update learning rate\n",
    "            lrs.append(get_lr(optimizer))\n",
    "            sched.step()\n",
    "        \n",
    "        # Validation phase\n",
    "        result = evaluate(model, val_loader)\n",
    "        result['train_loss'] = torch.stack(train_losses).mean().item()\n",
    "        result['lrs'] = lrs\n",
    "        model.epoch_end(epoch, result)\n",
    "        history.append(result)\n",
    "    return history"
   ]
  },
  {
   "cell_type": "code",
   "execution_count": 20,
   "metadata": {
    "colab": {
     "base_uri": "https://localhost:8080/"
    },
    "id": "_TPdh3fbt1fH",
    "outputId": "a22ad739-4bd6-459d-f905-64450f06bf4c"
   },
   "outputs": [
    {
     "name": "stderr",
     "output_type": "stream",
     "text": [
      "/home/userfs/s/sb2444/.local/lib/python3.6/site-packages/ipykernel_launcher.py:57: UserWarning: Implicit dimension choice for softmax has been deprecated. Change the call to include dim=X as an argument.\n"
     ]
    },
    {
     "data": {
      "text/plain": [
       "[{'val_loss': 2.303147315979004, 'val_acc': 0.1071000024676323}]"
      ]
     },
     "execution_count": 20,
     "metadata": {},
     "output_type": "execute_result"
    }
   ],
   "source": [
    "history = [evaluate(model, valid_dl)]\n",
    "history"
   ]
  },
  {
   "cell_type": "code",
   "execution_count": 21,
   "metadata": {
    "id": "fFL3dFDnt6pb"
   },
   "outputs": [],
   "source": [
    "epochs = 200\n",
    "max_lr = 0.005\n",
    "grad_clip = 0.1\n",
    "weight_decay = 1e-4\n",
    "opt_func = torch.optim.Adam"
   ]
  },
  {
   "cell_type": "code",
   "execution_count": 22,
   "metadata": {
    "colab": {
     "base_uri": "https://localhost:8080/"
    },
    "id": "01CAjQi2t8Ub",
    "outputId": "776b2d7d-902f-4f3c-ece0-24ccd16c4d53"
   },
   "outputs": [
    {
     "name": "stderr",
     "output_type": "stream",
     "text": [
      "/home/userfs/s/sb2444/.local/lib/python3.6/site-packages/ipykernel_launcher.py:57: UserWarning: Implicit dimension choice for softmax has been deprecated. Change the call to include dim=X as an argument.\n"
     ]
    },
    {
     "name": "stdout",
     "output_type": "stream",
     "text": [
      "Epoch [0], train_loss: 2.1224, val_loss: 2.3052, val_acc: 0.1291\n",
      "Epoch [1], train_loss: 2.0301, val_loss: 2.2715, val_acc: 0.1663\n",
      "Epoch [2], train_loss: 1.9761, val_loss: 2.2461, val_acc: 0.1899\n",
      "Epoch [3], train_loss: 1.9154, val_loss: 2.1633, val_acc: 0.2872\n",
      "Epoch [4], train_loss: 1.8773, val_loss: 2.1624, val_acc: 0.2875\n",
      "Epoch [5], train_loss: 1.8560, val_loss: 2.1704, val_acc: 0.2813\n",
      "Epoch [6], train_loss: 1.8384, val_loss: 2.2310, val_acc: 0.2186\n",
      "Epoch [7], train_loss: 1.8247, val_loss: 2.1698, val_acc: 0.2800\n",
      "Epoch [8], train_loss: 1.8098, val_loss: 2.1867, val_acc: 0.2574\n",
      "Epoch [9], train_loss: 1.7967, val_loss: 2.1198, val_acc: 0.3326\n",
      "Epoch [10], train_loss: 1.7839, val_loss: 2.1510, val_acc: 0.3012\n",
      "Epoch [11], train_loss: 1.7783, val_loss: 2.2167, val_acc: 0.2276\n",
      "Epoch [12], train_loss: 1.7725, val_loss: 2.1874, val_acc: 0.2631\n",
      "Epoch [13], train_loss: 1.7651, val_loss: 2.1874, val_acc: 0.2625\n",
      "Epoch [14], train_loss: 1.7586, val_loss: 2.1807, val_acc: 0.2718\n",
      "Epoch [15], train_loss: 1.7549, val_loss: 2.1698, val_acc: 0.2806\n",
      "Epoch [16], train_loss: 1.7499, val_loss: 2.2543, val_acc: 0.1841\n",
      "Epoch [17], train_loss: 1.7470, val_loss: 2.2771, val_acc: 0.1749\n",
      "Epoch [18], train_loss: 1.7414, val_loss: 2.2450, val_acc: 0.2012\n",
      "Epoch [19], train_loss: 1.7388, val_loss: 2.1294, val_acc: 0.3160\n",
      "Epoch [20], train_loss: 1.7385, val_loss: 2.1266, val_acc: 0.3225\n",
      "Epoch [21], train_loss: 1.7355, val_loss: 2.0288, val_acc: 0.4249\n",
      "Epoch [22], train_loss: 1.7374, val_loss: 1.8264, val_acc: 0.6393\n",
      "Epoch [23], train_loss: 1.7427, val_loss: 1.9307, val_acc: 0.5270\n",
      "Epoch [24], train_loss: 1.7390, val_loss: 1.9770, val_acc: 0.4779\n",
      "Epoch [25], train_loss: 1.7362, val_loss: 1.9119, val_acc: 0.5455\n",
      "Epoch [26], train_loss: 1.7421, val_loss: 1.8544, val_acc: 0.6055\n",
      "Epoch [27], train_loss: 1.7454, val_loss: 1.8762, val_acc: 0.5813\n",
      "Epoch [28], train_loss: 1.7445, val_loss: 1.8824, val_acc: 0.5754\n",
      "Epoch [29], train_loss: 1.7466, val_loss: 1.8436, val_acc: 0.6152\n",
      "Epoch [30], train_loss: 1.7464, val_loss: 1.9351, val_acc: 0.5214\n",
      "Epoch [31], train_loss: 1.7562, val_loss: 1.9441, val_acc: 0.5113\n",
      "Epoch [32], train_loss: 1.7601, val_loss: 1.8269, val_acc: 0.6311\n",
      "Epoch [33], train_loss: 1.7682, val_loss: 1.9826, val_acc: 0.4734\n",
      "Epoch [34], train_loss: 1.7721, val_loss: 1.9149, val_acc: 0.5421\n",
      "Epoch [35], train_loss: 1.7848, val_loss: 1.8912, val_acc: 0.5656\n",
      "Epoch [36], train_loss: 1.7901, val_loss: 1.8912, val_acc: 0.5646\n",
      "Epoch [37], train_loss: 1.7870, val_loss: 1.9258, val_acc: 0.5319\n",
      "Epoch [38], train_loss: 1.7895, val_loss: 1.8994, val_acc: 0.5582\n",
      "Epoch [39], train_loss: 1.7992, val_loss: 1.9105, val_acc: 0.5478\n",
      "Epoch [40], train_loss: 1.8053, val_loss: 1.9304, val_acc: 0.5266\n",
      "Epoch [41], train_loss: 1.7998, val_loss: 1.8724, val_acc: 0.5850\n",
      "Epoch [42], train_loss: 1.8110, val_loss: 1.8923, val_acc: 0.5651\n",
      "Epoch [43], train_loss: 1.8191, val_loss: 1.9440, val_acc: 0.5138\n",
      "Epoch [44], train_loss: 1.8271, val_loss: 1.9884, val_acc: 0.4698\n",
      "Epoch [45], train_loss: 1.8349, val_loss: 2.0360, val_acc: 0.4210\n",
      "Epoch [46], train_loss: 1.8372, val_loss: 1.9154, val_acc: 0.5422\n",
      "Epoch [47], train_loss: 1.8409, val_loss: 1.9918, val_acc: 0.4674\n",
      "Epoch [48], train_loss: 1.8426, val_loss: 1.9324, val_acc: 0.5264\n",
      "Epoch [49], train_loss: 1.8461, val_loss: 1.9202, val_acc: 0.5381\n",
      "Epoch [50], train_loss: 1.8448, val_loss: 1.8625, val_acc: 0.5964\n",
      "Epoch [51], train_loss: 1.8470, val_loss: 1.9360, val_acc: 0.5230\n",
      "Epoch [52], train_loss: 1.8675, val_loss: 1.9037, val_acc: 0.5548\n",
      "Epoch [53], train_loss: 1.8692, val_loss: 1.9690, val_acc: 0.4904\n",
      "Epoch [54], train_loss: 1.8772, val_loss: 1.9240, val_acc: 0.5357\n",
      "Epoch [55], train_loss: 1.8767, val_loss: 1.9208, val_acc: 0.5378\n",
      "Epoch [56], train_loss: 1.8784, val_loss: 1.9147, val_acc: 0.5447\n",
      "Epoch [57], train_loss: 1.8697, val_loss: 1.8934, val_acc: 0.5668\n",
      "Epoch [58], train_loss: 1.8731, val_loss: 1.9114, val_acc: 0.5482\n",
      "Epoch [59], train_loss: 1.8712, val_loss: 1.8718, val_acc: 0.5873\n",
      "Epoch [60], train_loss: 1.8650, val_loss: 1.9310, val_acc: 0.5275\n",
      "Epoch [61], train_loss: 1.8714, val_loss: 1.9186, val_acc: 0.5407\n",
      "Epoch [62], train_loss: 1.8699, val_loss: 1.9075, val_acc: 0.5518\n",
      "Epoch [63], train_loss: 1.8663, val_loss: 1.9242, val_acc: 0.5360\n",
      "Epoch [64], train_loss: 1.8649, val_loss: 1.8985, val_acc: 0.5607\n",
      "Epoch [65], train_loss: 1.8727, val_loss: 1.9250, val_acc: 0.5345\n",
      "Epoch [66], train_loss: 1.8754, val_loss: 1.8949, val_acc: 0.5655\n",
      "Epoch [67], train_loss: 1.8801, val_loss: 1.9175, val_acc: 0.5422\n",
      "Epoch [68], train_loss: 1.8741, val_loss: 1.9660, val_acc: 0.4938\n",
      "Epoch [69], train_loss: 1.8749, val_loss: 1.8890, val_acc: 0.5712\n",
      "Epoch [70], train_loss: 1.8728, val_loss: 1.8579, val_acc: 0.6021\n",
      "Epoch [71], train_loss: 1.8687, val_loss: 1.8749, val_acc: 0.5848\n",
      "Epoch [72], train_loss: 1.8731, val_loss: 1.8989, val_acc: 0.5602\n",
      "Epoch [73], train_loss: 1.8542, val_loss: 1.8384, val_acc: 0.6210\n",
      "Epoch [74], train_loss: 1.8580, val_loss: 1.8590, val_acc: 0.6005\n",
      "Epoch [75], train_loss: 1.8622, val_loss: 1.9169, val_acc: 0.5426\n",
      "Epoch [76], train_loss: 1.8647, val_loss: 1.9136, val_acc: 0.5466\n",
      "Epoch [77], train_loss: 1.8556, val_loss: 1.8625, val_acc: 0.5969\n",
      "Epoch [78], train_loss: 1.8628, val_loss: 1.9399, val_acc: 0.5205\n",
      "Epoch [79], train_loss: 1.8609, val_loss: 1.8871, val_acc: 0.5719\n",
      "Epoch [80], train_loss: 1.8552, val_loss: 1.8675, val_acc: 0.5912\n",
      "Epoch [81], train_loss: 1.8552, val_loss: 1.8575, val_acc: 0.6016\n",
      "Epoch [82], train_loss: 1.8556, val_loss: 1.8491, val_acc: 0.6109\n",
      "Epoch [83], train_loss: 1.8435, val_loss: 1.8934, val_acc: 0.5655\n",
      "Epoch [84], train_loss: 1.8416, val_loss: 1.8642, val_acc: 0.5959\n",
      "Epoch [85], train_loss: 1.8444, val_loss: 1.8426, val_acc: 0.6166\n",
      "Epoch [86], train_loss: 1.8410, val_loss: 1.8526, val_acc: 0.6070\n",
      "Epoch [87], train_loss: 1.8413, val_loss: 1.8627, val_acc: 0.5974\n",
      "Epoch [88], train_loss: 1.8415, val_loss: 1.8163, val_acc: 0.6431\n",
      "Epoch [89], train_loss: 1.8312, val_loss: 1.8291, val_acc: 0.6311\n",
      "Epoch [90], train_loss: 1.8317, val_loss: 1.8275, val_acc: 0.6328\n",
      "Epoch [91], train_loss: 1.8273, val_loss: 1.8184, val_acc: 0.6410\n",
      "Epoch [92], train_loss: 1.8275, val_loss: 1.8358, val_acc: 0.6232\n",
      "Epoch [93], train_loss: 1.8263, val_loss: 1.8438, val_acc: 0.6157\n",
      "Epoch [94], train_loss: 1.8268, val_loss: 1.8596, val_acc: 0.6007\n",
      "Epoch [95], train_loss: 1.8177, val_loss: 1.8322, val_acc: 0.6278\n",
      "Epoch [96], train_loss: 1.8142, val_loss: 1.8177, val_acc: 0.6417\n",
      "Epoch [97], train_loss: 1.8144, val_loss: 1.8382, val_acc: 0.6228\n",
      "Epoch [98], train_loss: 1.8219, val_loss: 1.7947, val_acc: 0.6640\n",
      "Epoch [99], train_loss: 1.8125, val_loss: 1.9255, val_acc: 0.5342\n",
      "Epoch [100], train_loss: 1.8109, val_loss: 1.7901, val_acc: 0.6696\n",
      "Epoch [101], train_loss: 1.8111, val_loss: 1.8014, val_acc: 0.6594\n",
      "Epoch [102], train_loss: 1.8126, val_loss: 1.8003, val_acc: 0.6594\n",
      "Epoch [103], train_loss: 1.8024, val_loss: 1.8301, val_acc: 0.6299\n",
      "Epoch [104], train_loss: 1.8087, val_loss: 1.8097, val_acc: 0.6505\n",
      "Epoch [105], train_loss: 1.8011, val_loss: 1.8687, val_acc: 0.5913\n",
      "Epoch [106], train_loss: 1.7969, val_loss: 1.8000, val_acc: 0.6594\n",
      "Epoch [107], train_loss: 1.7934, val_loss: 1.8228, val_acc: 0.6365\n",
      "Epoch [108], train_loss: 1.8045, val_loss: 1.8055, val_acc: 0.6547\n",
      "Epoch [109], train_loss: 1.7880, val_loss: 1.8067, val_acc: 0.6536\n",
      "Epoch [110], train_loss: 1.7824, val_loss: 1.8188, val_acc: 0.6423\n",
      "Epoch [111], train_loss: 1.7850, val_loss: 1.8132, val_acc: 0.6461\n",
      "Epoch [112], train_loss: 1.7805, val_loss: 1.7914, val_acc: 0.6685\n",
      "Epoch [113], train_loss: 1.7787, val_loss: 1.7759, val_acc: 0.6840\n",
      "Epoch [114], train_loss: 1.7749, val_loss: 1.7911, val_acc: 0.6686\n",
      "Epoch [115], train_loss: 1.7704, val_loss: 1.8006, val_acc: 0.6588\n",
      "Epoch [116], train_loss: 1.7731, val_loss: 1.7810, val_acc: 0.6785\n",
      "Epoch [117], train_loss: 1.7685, val_loss: 1.7651, val_acc: 0.6946\n",
      "Epoch [118], train_loss: 1.7653, val_loss: 1.7607, val_acc: 0.6989\n",
      "Epoch [119], train_loss: 1.7665, val_loss: 1.7854, val_acc: 0.6737\n",
      "Epoch [120], train_loss: 1.7658, val_loss: 1.7511, val_acc: 0.7087\n",
      "Epoch [121], train_loss: 1.7586, val_loss: 1.7657, val_acc: 0.6941\n",
      "Epoch [122], train_loss: 1.7562, val_loss: 1.7771, val_acc: 0.6824\n",
      "Epoch [123], train_loss: 1.7526, val_loss: 1.7563, val_acc: 0.7026\n",
      "Epoch [124], train_loss: 1.7460, val_loss: 1.7276, val_acc: 0.7324\n",
      "Epoch [125], train_loss: 1.7488, val_loss: 1.8021, val_acc: 0.6564\n",
      "Epoch [126], train_loss: 1.7458, val_loss: 1.7236, val_acc: 0.7358\n",
      "Epoch [127], train_loss: 1.7398, val_loss: 1.7589, val_acc: 0.7000\n",
      "Epoch [128], train_loss: 1.7386, val_loss: 1.7489, val_acc: 0.7115\n",
      "Epoch [129], train_loss: 1.7357, val_loss: 1.7482, val_acc: 0.7112\n",
      "Epoch [130], train_loss: 1.7328, val_loss: 1.7463, val_acc: 0.7138\n",
      "Epoch [131], train_loss: 1.7299, val_loss: 1.7648, val_acc: 0.6952\n",
      "Epoch [132], train_loss: 1.7244, val_loss: 1.7276, val_acc: 0.7320\n",
      "Epoch [133], train_loss: 1.7214, val_loss: 1.7308, val_acc: 0.7287\n",
      "Epoch [134], train_loss: 1.7226, val_loss: 1.7244, val_acc: 0.7343\n",
      "Epoch [135], train_loss: 1.7217, val_loss: 1.7097, val_acc: 0.7508\n",
      "Epoch [136], train_loss: 1.7164, val_loss: 1.7167, val_acc: 0.7431\n",
      "Epoch [137], train_loss: 1.7178, val_loss: 1.7045, val_acc: 0.7560\n",
      "Epoch [138], train_loss: 1.7108, val_loss: 1.7245, val_acc: 0.7331\n",
      "Epoch [139], train_loss: 1.7112, val_loss: 1.7008, val_acc: 0.7584\n",
      "Epoch [140], train_loss: 1.7060, val_loss: 1.6985, val_acc: 0.7606\n",
      "Epoch [141], train_loss: 1.7043, val_loss: 1.7214, val_acc: 0.7387\n",
      "Epoch [142], train_loss: 1.7009, val_loss: 1.7037, val_acc: 0.7549\n",
      "Epoch [143], train_loss: 1.6981, val_loss: 1.6961, val_acc: 0.7630\n",
      "Epoch [144], train_loss: 1.6965, val_loss: 1.6954, val_acc: 0.7651\n",
      "Epoch [145], train_loss: 1.6927, val_loss: 1.6915, val_acc: 0.7693\n",
      "Epoch [146], train_loss: 1.6929, val_loss: 1.7083, val_acc: 0.7515\n",
      "Epoch [147], train_loss: 1.6914, val_loss: 1.6931, val_acc: 0.7680\n",
      "Epoch [148], train_loss: 1.6923, val_loss: 1.6864, val_acc: 0.7735\n",
      "Epoch [149], train_loss: 1.6842, val_loss: 1.6825, val_acc: 0.7762\n",
      "Epoch [150], train_loss: 1.6831, val_loss: 1.7013, val_acc: 0.7573\n",
      "Epoch [151], train_loss: 1.6776, val_loss: 1.6846, val_acc: 0.7765\n",
      "Epoch [152], train_loss: 1.6773, val_loss: 1.6797, val_acc: 0.7813\n",
      "Epoch [153], train_loss: 1.6738, val_loss: 1.6793, val_acc: 0.7804\n",
      "Epoch [154], train_loss: 1.6740, val_loss: 1.6772, val_acc: 0.7825\n",
      "Epoch [155], train_loss: 1.6699, val_loss: 1.6778, val_acc: 0.7818\n",
      "Epoch [156], train_loss: 1.6712, val_loss: 1.6770, val_acc: 0.7840\n",
      "Epoch [157], train_loss: 1.6703, val_loss: 1.6757, val_acc: 0.7845\n",
      "Epoch [158], train_loss: 1.6647, val_loss: 1.6814, val_acc: 0.7774\n",
      "Epoch [159], train_loss: 1.6628, val_loss: 1.6805, val_acc: 0.7801\n",
      "Epoch [160], train_loss: 1.6597, val_loss: 1.6668, val_acc: 0.7944\n",
      "Epoch [161], train_loss: 1.6590, val_loss: 1.6727, val_acc: 0.7870\n",
      "Epoch [162], train_loss: 1.6568, val_loss: 1.6692, val_acc: 0.7910\n",
      "Epoch [163], train_loss: 1.6548, val_loss: 1.6604, val_acc: 0.8007\n",
      "Epoch [164], train_loss: 1.6537, val_loss: 1.6619, val_acc: 0.7975\n",
      "Epoch [165], train_loss: 1.6498, val_loss: 1.6566, val_acc: 0.8055\n",
      "Epoch [166], train_loss: 1.6502, val_loss: 1.6607, val_acc: 0.8006\n",
      "Epoch [167], train_loss: 1.6493, val_loss: 1.6659, val_acc: 0.7946\n",
      "Epoch [168], train_loss: 1.6459, val_loss: 1.6624, val_acc: 0.7994\n",
      "Epoch [169], train_loss: 1.6449, val_loss: 1.6600, val_acc: 0.8000\n",
      "Epoch [170], train_loss: 1.6422, val_loss: 1.6536, val_acc: 0.8068\n",
      "Epoch [171], train_loss: 1.6405, val_loss: 1.6498, val_acc: 0.8118\n",
      "Epoch [172], train_loss: 1.6403, val_loss: 1.6528, val_acc: 0.8083\n",
      "Epoch [173], train_loss: 1.6385, val_loss: 1.6539, val_acc: 0.8064\n",
      "Epoch [174], train_loss: 1.6380, val_loss: 1.6557, val_acc: 0.8047\n",
      "Epoch [175], train_loss: 1.6375, val_loss: 1.6486, val_acc: 0.8137\n",
      "Epoch [176], train_loss: 1.6347, val_loss: 1.6559, val_acc: 0.8054\n",
      "Epoch [177], train_loss: 1.6335, val_loss: 1.6501, val_acc: 0.8106\n",
      "Epoch [178], train_loss: 1.6330, val_loss: 1.6532, val_acc: 0.8082\n",
      "Epoch [179], train_loss: 1.6326, val_loss: 1.6517, val_acc: 0.8097\n",
      "Epoch [180], train_loss: 1.6301, val_loss: 1.6498, val_acc: 0.8100\n",
      "Epoch [181], train_loss: 1.6296, val_loss: 1.6517, val_acc: 0.8086\n",
      "Epoch [182], train_loss: 1.6288, val_loss: 1.6573, val_acc: 0.8032\n",
      "Epoch [183], train_loss: 1.6266, val_loss: 1.6514, val_acc: 0.8097\n",
      "Epoch [184], train_loss: 1.6269, val_loss: 1.6487, val_acc: 0.8129\n",
      "Epoch [185], train_loss: 1.6282, val_loss: 1.6480, val_acc: 0.8142\n",
      "Epoch [186], train_loss: 1.6265, val_loss: 1.6463, val_acc: 0.8158\n",
      "Epoch [187], train_loss: 1.6257, val_loss: 1.6488, val_acc: 0.8128\n",
      "Epoch [188], train_loss: 1.6231, val_loss: 1.6476, val_acc: 0.8135\n",
      "Epoch [189], train_loss: 1.6242, val_loss: 1.6456, val_acc: 0.8158\n",
      "Epoch [190], train_loss: 1.6225, val_loss: 1.6466, val_acc: 0.8147\n",
      "Epoch [191], train_loss: 1.6227, val_loss: 1.6439, val_acc: 0.8176\n",
      "Epoch [192], train_loss: 1.6231, val_loss: 1.6457, val_acc: 0.8159\n",
      "Epoch [193], train_loss: 1.6229, val_loss: 1.6492, val_acc: 0.8104\n",
      "Epoch [194], train_loss: 1.6226, val_loss: 1.6459, val_acc: 0.8165\n",
      "Epoch [195], train_loss: 1.6227, val_loss: 1.6440, val_acc: 0.8173\n",
      "Epoch [196], train_loss: 1.6213, val_loss: 1.6422, val_acc: 0.8197\n",
      "Epoch [197], train_loss: 1.6218, val_loss: 1.6424, val_acc: 0.8184\n",
      "Epoch [198], train_loss: 1.6229, val_loss: 1.6464, val_acc: 0.8156\n",
      "Epoch [199], train_loss: 1.6220, val_loss: 1.6417, val_acc: 0.8199\n",
      "CPU times: user 1h 29min 19s, sys: 3min 3s, total: 1h 32min 22s\n",
      "Wall time: 1h 29min 24s\n"
     ]
    }
   ],
   "source": [
    "%%time\n",
    "history += fit_one_cycle(epochs, max_lr, model, train_dl, valid_dl, \n",
    "                             grad_clip=grad_clip, \n",
    "                             weight_decay=weight_decay, \n",
    "                             opt_func=opt_func)"
   ]
  },
  {
   "cell_type": "code",
   "execution_count": 23,
   "metadata": {
    "id": "jvJzQAeNjB6Y"
   },
   "outputs": [],
   "source": [
    "def plot_accuracies(history):\n",
    "    accuracies = [x['val_acc'] for x in history]\n",
    "    plt.figure(figsize=(10,6))\n",
    "    plt.plot(accuracies, '-x')\n",
    "    plt.xlabel('epoch')\n",
    "    plt.ylabel('accuracy')\n",
    "    plt.title('Accuracy vs. No. of epochs');"
   ]
  },
  {
   "cell_type": "code",
   "execution_count": 24,
   "metadata": {
    "colab": {
     "base_uri": "https://localhost:8080/",
     "height": 171
    },
    "id": "fYuANPlfjIvt",
    "outputId": "08453f89-0933-4bd9-e02a-d760aad8714f"
   },
   "outputs": [
    {
     "data": {
      "image/png": "[encoded data removed]",
      "text/plain": [
       "<Figure size 720x432 with 1 Axes>"
      ]
     },
     "metadata": {
      "needs_background": "light"
     },
     "output_type": "display_data"
    }
   ],
   "source": [
    "plot_accuracies(history)"
   ]
  },
  {
   "cell_type": "code",
   "execution_count": 25,
   "metadata": {
    "id": "JV6cn39HjTF-"
   },
   "outputs": [],
   "source": [
    "def plot_losses(history):\n",
    "    train_losses = [x.get('train_loss') for x in history]\n",
    "    val_losses = [x['val_loss'] for x in history]\n",
    "    plt.figure(figsize=(10,6))\n",
    "    plt.plot(train_losses, '-bx')\n",
    "    plt.plot(val_losses, '-rx')\n",
    "    plt.xlabel('epoch')\n",
    "    plt.ylabel('loss')\n",
    "    plt.legend(['Training', 'Validation'])\n",
    "    plt.title('Loss vs. No. of epochs');"
   ]
  },
  {
   "cell_type": "code",
   "execution_count": 26,
   "metadata": {
    "colab": {
     "base_uri": "https://localhost:8080/",
     "height": 171
    },
    "id": "kuky-BEDjUw_",
    "outputId": "e33b1eb9-e7c7-483d-829a-75bce6a074ae"
   },
   "outputs": [
    {
     "data": {
      "image/png": "[encoded data removed]",
      "text/plain": [
       "<Figure size 720x432 with 1 Axes>"
      ]
     },
     "metadata": {
      "needs_background": "light"
     },
     "output_type": "display_data"
    }
   ],
   "source": [
    "plot_losses(history)"
   ]
  },
  {
   "cell_type": "code",
   "execution_count": 27,
   "metadata": {
    "id": "ToUcs2S6jZl_"
   },
   "outputs": [],
   "source": [
    "def plot_lrs(history):\n",
    "    lrs = np.concatenate([x.get('lrs', []) for x in history])\n",
    "    plt.figure(figsize=(10,6))\n",
    "    plt.plot(lrs)\n",
    "    plt.xlabel('Batch no.')\n",
    "    plt.ylabel('Learning rate')\n",
    "    plt.title('Learning Rate vs. Batch no.');"
   ]
  },
  {
   "cell_type": "code",
   "execution_count": 28,
   "metadata": {
    "colab": {
     "base_uri": "https://localhost:8080/",
     "height": 171
    },
    "id": "V1ao5oIJjboF",
    "outputId": "23d3a338-12ab-42be-b2de-8a2b3d55ccae"
   },
   "outputs": [
    {
     "data": {
      "image/png": "[encoded data removed]",
      "text/plain": [
       "<Figure size 720x432 with 1 Axes>"
      ]
     },
     "metadata": {
      "needs_background": "light"
     },
     "output_type": "display_data"
    }
   ],
   "source": [
    "plot_lrs(history)"
   ]
  }
 ],
 "metadata": {
  "accelerator": "GPU",
  "colab": {
   "collapsed_sections": [],
   "include_colab_link": true,
   "name": "kaggle94gpu.ipynb",
   "provenance": []
  },
  "kernelspec": {
   "display_name": "Python 3",
   "language": "python",
   "name": "python3"
  },
  "language_info": {
   "codemirror_mode": {
    "name": "ipython",
    "version": 3
   },
   "file_extension": ".py",
   "mimetype": "text/x-python",
   "name": "python",
   "nbconvert_exporter": "python",
   "pygments_lexer": "ipython3",
   "version": "3.6.9"
  },
  "widgets": {
   "application/vnd.jupyter.widget-state+json": {
    "0433c9c034b7466a98118f517c9ae2e8": {
     "model_module": "@jupyter-widgets/base",
     "model_module_version": "1.2.0",
     "model_name": "LayoutModel",
     "state": {
      "_model_module": "@jupyter-widgets/base",
      "_model_module_version": "1.2.0",
      "_model_name": "LayoutModel",
      "_view_count": null,
      "_view_module": "@jupyter-widgets/base",
      "_view_module_version": "1.2.0",
      "_view_name": "LayoutView",
      "align_content": null,
      "align_items": null,
      "align_self": null,
      "border": null,
      "bottom": null,
      "display": null,
      "flex": null,
      "flex_flow": null,
      "grid_area": null,
      "grid_auto_columns": null,
      "grid_auto_flow": null,
      "grid_auto_rows": null,
      "grid_column": null,
      "grid_gap": null,
      "grid_row": null,
      "grid_template_areas": null,
      "grid_template_columns": null,
      "grid_template_rows": null,
      "height": null,
      "justify_content": null,
      "justify_items": null,
      "left": null,
      "margin": null,
      "max_height": null,
      "max_width": null,
      "min_height": null,
      "min_width": null,
      "object_fit": null,
      "object_position": null,
      "order": null,
      "overflow": null,
      "overflow_x": null,
      "overflow_y": null,
      "padding": null,
      "right": null,
      "top": null,
      "visibility": null,
      "width": null
     }
    },
    "29225a4d667e47f980b33c95c0850d16": {
     "model_module": "@jupyter-widgets/controls",
     "model_module_version": "1.5.0",
     "model_name": "DescriptionStyleModel",
     "state": {
      "_model_module": "@jupyter-widgets/controls",
      "_model_module_version": "1.5.0",
      "_model_name": "DescriptionStyleModel",
      "_view_count": null,
      "_view_module": "@jupyter-widgets/base",
      "_view_module_version": "1.2.0",
      "_view_name": "StyleView",
      "description_width": ""
     }
    },
    "350d156265104e2296caf536b05d26cc": {
     "model_module": "@jupyter-widgets/controls",
     "model_module_version": "1.5.0",
     "model_name": "FloatProgressModel",
     "state": {
      "_dom_classes": [],
      "_model_module": "@jupyter-widgets/controls",
      "_model_module_version": "1.5.0",
      "_model_name": "FloatProgressModel",
      "_view_count": null,
      "_view_module": "@jupyter-widgets/controls",
      "_view_module_version": "1.5.0",
      "_view_name": "ProgressView",
      "bar_style": "success",
      "description": "",
      "description_tooltip": null,
      "layout": "IPY_MODEL_9ae1047b1b184d81bde7c14ca6ad72d5",
      "max": 170498071,
      "min": 0,
      "orientation": "horizontal",
      "style": "IPY_MODEL_37da94684df543f3a81fe78c389f68dc",
      "value": 170498071
     }
    },
    "37da94684df543f3a81fe78c389f68dc": {
     "model_module": "@jupyter-widgets/controls",
     "model_module_version": "1.5.0",
     "model_name": "ProgressStyleModel",
     "state": {
      "_model_module": "@jupyter-widgets/controls",
      "_model_module_version": "1.5.0",
      "_model_name": "ProgressStyleModel",
      "_view_count": null,
      "_view_module": "@jupyter-widgets/base",
      "_view_module_version": "1.2.0",
      "_view_name": "StyleView",
      "bar_color": null,
      "description_width": ""
     }
    },
    "40b5952c97aa40169739936f0d549d02": {
     "model_module": "@jupyter-widgets/controls",
     "model_module_version": "1.5.0",
     "model_name": "HTMLModel",
     "state": {
      "_dom_classes": [],
      "_model_module": "@jupyter-widgets/controls",
      "_model_module_version": "1.5.0",
      "_model_name": "HTMLModel",
      "_view_count": null,
      "_view_module": "@jupyter-widgets/controls",
      "_view_module_version": "1.5.0",
      "_view_name": "HTMLView",
      "description": "",
      "description_tooltip": null,
      "layout": "IPY_MODEL_0433c9c034b7466a98118f517c9ae2e8",
      "placeholder": "​",
      "style": "IPY_MODEL_fb9ab6c5d81f48089ac0d9dc03c72e6b",
      "value": " 170499072/? [00:02&lt;00:00, 62626240.17it/s]"
     }
    },
    "4c7fbb2405c84d7887d63fd6217cba4a": {
     "model_module": "@jupyter-widgets/controls",
     "model_module_version": "1.5.0",
     "model_name": "HTMLModel",
     "state": {
      "_dom_classes": [],
      "_model_module": "@jupyter-widgets/controls",
      "_model_module_version": "1.5.0",
      "_model_name": "HTMLModel",
      "_view_count": null,
      "_view_module": "@jupyter-widgets/controls",
      "_view_module_version": "1.5.0",
      "_view_name": "HTMLView",
      "description": "",
      "description_tooltip": null,
      "layout": "IPY_MODEL_a448b41c426a4810a07d5eb92df1bc21",
      "placeholder": "​",
      "style": "IPY_MODEL_29225a4d667e47f980b33c95c0850d16",
      "value": ""
     }
    },
    "50c9aed288f14fcd94009217a59c91ff": {
     "model_module": "@jupyter-widgets/base",
     "model_module_version": "1.2.0",
     "model_name": "LayoutModel",
     "state": {
      "_model_module": "@jupyter-widgets/base",
      "_model_module_version": "1.2.0",
      "_model_name": "LayoutModel",
      "_view_count": null,
      "_view_module": "@jupyter-widgets/base",
      "_view_module_version": "1.2.0",
      "_view_name": "LayoutView",
      "align_content": null,
      "align_items": null,
      "align_self": null,
      "border": null,
      "bottom": null,
      "display": null,
      "flex": null,
      "flex_flow": null,
      "grid_area": null,
      "grid_auto_columns": null,
      "grid_auto_flow": null,
      "grid_auto_rows": null,
      "grid_column": null,
      "grid_gap": null,
      "grid_row": null,
      "grid_template_areas": null,
      "grid_template_columns": null,
      "grid_template_rows": null,
      "height": null,
      "justify_content": null,
      "justify_items": null,
      "left": null,
      "margin": null,
      "max_height": null,
      "max_width": null,
      "min_height": null,
      "min_width": null,
      "object_fit": null,
      "object_position": null,
      "order": null,
      "overflow": null,
      "overflow_x": null,
      "overflow_y": null,
      "padding": null,
      "right": null,
      "top": null,
      "visibility": null,
      "width": null
     }
    },
    "9ae1047b1b184d81bde7c14ca6ad72d5": {
     "model_module": "@jupyter-widgets/base",
     "model_module_version": "1.2.0",
     "model_name": "LayoutModel",
     "state": {
      "_model_module": "@jupyter-widgets/base",
      "_model_module_version": "1.2.0",
      "_model_name": "LayoutModel",
      "_view_count": null,
      "_view_module": "@jupyter-widgets/base",
      "_view_module_version": "1.2.0",
      "_view_name": "LayoutView",
      "align_content": null,
      "align_items": null,
      "align_self": null,
      "border": null,
      "bottom": null,
      "display": null,
      "flex": null,
      "flex_flow": null,
      "grid_area": null,
      "grid_auto_columns": null,
      "grid_auto_flow": null,
      "grid_auto_rows": null,
      "grid_column": null,
      "grid_gap": null,
      "grid_row": null,
      "grid_template_areas": null,
      "grid_template_columns": null,
      "grid_template_rows": null,
      "height": null,
      "justify_content": null,
      "justify_items": null,
      "left": null,
      "margin": null,
      "max_height": null,
      "max_width": null,
      "min_height": null,
      "min_width": null,
      "object_fit": null,
      "object_position": null,
      "order": null,
      "overflow": null,
      "overflow_x": null,
      "overflow_y": null,
      "padding": null,
      "right": null,
      "top": null,
      "visibility": null,
      "width": null
     }
    },
    "a448b41c426a4810a07d5eb92df1bc21": {
     "model_module": "@jupyter-widgets/base",
     "model_module_version": "1.2.0",
     "model_name": "LayoutModel",
     "state": {
      "_model_module": "@jupyter-widgets/base",
      "_model_module_version": "1.2.0",
      "_model_name": "LayoutModel",
      "_view_count": null,
      "_view_module": "@jupyter-widgets/base",
      "_view_module_version": "1.2.0",
      "_view_name": "LayoutView",
      "align_content": null,
      "align_items": null,
      "align_self": null,
      "border": null,
      "bottom": null,
      "display": null,
      "flex": null,
      "flex_flow": null,
      "grid_area": null,
      "grid_auto_columns": null,
      "grid_auto_flow": null,
      "grid_auto_rows": null,
      "grid_column": null,
      "grid_gap": null,
      "grid_row": null,
      "grid_template_areas": null,
      "grid_template_columns": null,
      "grid_template_rows": null,
      "height": null,
      "justify_content": null,
      "justify_items": null,
      "left": null,
      "margin": null,
      "max_height": null,
      "max_width": null,
      "min_height": null,
      "min_width": null,
      "object_fit": null,
      "object_position": null,
      "order": null,
      "overflow": null,
      "overflow_x": null,
      "overflow_y": null,
      "padding": null,
      "right": null,
      "top": null,
      "visibility": null,
      "width": null
     }
    },
    "c974d31e436a42899adbf2ef969307a4": {
     "model_module": "@jupyter-widgets/controls",
     "model_module_version": "1.5.0",
     "model_name": "HBoxModel",
     "state": {
      "_dom_classes": [],
      "_model_module": "@jupyter-widgets/controls",
      "_model_module_version": "1.5.0",
      "_model_name": "HBoxModel",
      "_view_count": null,
      "_view_module": "@jupyter-widgets/controls",
      "_view_module_version": "1.5.0",
      "_view_name": "HBoxView",
      "box_style": "",
      "children": [
       "IPY_MODEL_4c7fbb2405c84d7887d63fd6217cba4a",
       "IPY_MODEL_350d156265104e2296caf536b05d26cc",
       "IPY_MODEL_40b5952c97aa40169739936f0d549d02"
      ],
      "layout": "IPY_MODEL_50c9aed288f14fcd94009217a59c91ff"
     }
    },
    "fb9ab6c5d81f48089ac0d9dc03c72e6b": {
     "model_module": "@jupyter-widgets/controls",
     "model_module_version": "1.5.0",
     "model_name": "DescriptionStyleModel",
     "state": {
      "_model_module": "@jupyter-widgets/controls",
      "_model_module_version": "1.5.0",
      "_model_name": "DescriptionStyleModel",
      "_view_count": null,
      "_view_module": "@jupyter-widgets/base",
      "_view_module_version": "1.2.0",
      "_view_name": "StyleView",
      "description_width": ""
     }
    }
   }
  }
 },
 "nbformat": 4,
 "nbformat_minor": 4
}
