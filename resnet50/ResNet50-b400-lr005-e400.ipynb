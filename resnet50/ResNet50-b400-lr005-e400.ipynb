{
 "cells": [
  {
   "cell_type": "markdown",
   "metadata": {
    "colab_type": "text",
    "id": "view-in-github"
   },
   "source": [
    "<a href=\"https://colab.research.google.com/github/stanbsky/int2_image_classifier/blob/main/kaggle94gpu.ipynb\" target=\"_parent\"><img src=\"https://colab.research.google.com/assets/colab-badge.svg\" alt=\"Open In Colab\"/></a>"
   ]
  },
  {
   "cell_type": "code",
   "execution_count": 1,
   "metadata": {
    "id": "OD2wVFLtkbkN"
   },
   "outputs": [
    {
     "name": "stderr",
     "output_type": "stream",
     "text": [
      "Matplotlib created a temporary config/cache directory at /tmp/matplotlib-tix97afm because the default path (/run/user/141228/cache/matplotlib) is not a writable directory; it is highly recommended to set the MPLCONFIGDIR environment variable to a writable directory, in particular to speed up the import of Matplotlib and to better support multiprocessing.\n"
     ]
    }
   ],
   "source": [
    "# importing libraries\n",
    "import torch\n",
    "import torchvision\n",
    "from torchvision.datasets.utils import download_url\n",
    "from torch.utils.data import random_split\n",
    "from torchvision.datasets import ImageFolder\n",
    "from torchvision.transforms import ToTensor,ToPILImage\n",
    "import matplotlib.pyplot as plt\n",
    "from torchvision.utils import make_grid\n",
    "from torch.utils.data.dataloader import DataLoader\n",
    "from torchvision.utils import make_grid\n",
    "import torch.nn as nn\n",
    "import torch.nn.functional as F\n",
    "import torchvision.transforms as tt\n",
    "import numpy as np"
   ]
  },
  {
   "cell_type": "code",
   "execution_count": 2,
   "metadata": {
    "id": "Cea6yx4amG2c"
   },
   "outputs": [],
   "source": [
    "import torchvision.datasets as datasets"
   ]
  },
  {
   "cell_type": "code",
   "execution_count": 3,
   "metadata": {
    "colab": {
     "base_uri": "https://localhost:8080/"
    },
    "id": "efdLf1xLk5_y",
    "outputId": "dd7073c3-3026-4d75-eee6-e0425ce35d3e"
   },
   "outputs": [
    {
     "data": {
      "text/plain": [
       "<weakproxy at 0x7f669a120228 to Device at 0x7f669a197a58>"
      ]
     },
     "execution_count": 3,
     "metadata": {},
     "output_type": "execute_result"
    }
   ],
   "source": [
    "from numba import cuda\n",
    "cuda.select_device(6)"
   ]
  },
  {
   "cell_type": "code",
   "execution_count": 4,
   "metadata": {
    "id": "hNiNZttPlHFe"
   },
   "outputs": [],
   "source": [
    "stats= ((0.4914,0.4822,0.4465),(0.2023,0.1994,0.2010)) #mean and std\n",
    "train_tfm= tt.Compose([tt.RandomCrop(32, padding=4, padding_mode='reflect'), # transormation of data together\n",
    "                       tt.RandomHorizontalFlip(),\n",
    "                       tt.ToTensor()])\n",
    "valid_tfm = tt.Compose([tt.ToTensor()])"
   ]
  },
  {
   "cell_type": "code",
   "execution_count": 5,
   "metadata": {
    "colab": {
     "base_uri": "https://localhost:8080/",
     "height": 86,
     "referenced_widgets": [
      "c974d31e436a42899adbf2ef969307a4",
      "4c7fbb2405c84d7887d63fd6217cba4a",
      "350d156265104e2296caf536b05d26cc",
      "40b5952c97aa40169739936f0d549d02",
      "50c9aed288f14fcd94009217a59c91ff",
      "a448b41c426a4810a07d5eb92df1bc21",
      "29225a4d667e47f980b33c95c0850d16",
      "9ae1047b1b184d81bde7c14ca6ad72d5",
      "37da94684df543f3a81fe78c389f68dc",
      "0433c9c034b7466a98118f517c9ae2e8",
      "fb9ab6c5d81f48089ac0d9dc03c72e6b"
     ]
    },
    "id": "pxotEy_Al0J4",
    "outputId": "90e7b090-0622-4775-fcfa-39958472aa7c"
   },
   "outputs": [
    {
     "name": "stdout",
     "output_type": "stream",
     "text": [
      "Files already downloaded and verified\n"
     ]
    }
   ],
   "source": [
    "training_data = datasets.CIFAR10(\n",
    "    root=\"data\",\n",
    "    train=True,\n",
    "    download=True,\n",
    "    transform=train_tfm,\n",
    ")"
   ]
  },
  {
   "cell_type": "code",
   "execution_count": 6,
   "metadata": {
    "colab": {
     "base_uri": "https://localhost:8080/"
    },
    "id": "3HUIV5yKmj4F",
    "outputId": "96675fe3-76e5-4e9f-9bc2-14b1d389996f"
   },
   "outputs": [
    {
     "name": "stdout",
     "output_type": "stream",
     "text": [
      "Files already downloaded and verified\n"
     ]
    }
   ],
   "source": [
    "# Download test data from open datasets.\n",
    "test_data = datasets.CIFAR10(\n",
    "    root=\"data\",\n",
    "    train=False,\n",
    "    download=True,\n",
    "    transform=valid_tfm,\n",
    ")"
   ]
  },
  {
   "cell_type": "code",
   "execution_count": 7,
   "metadata": {
    "colab": {
     "base_uri": "https://localhost:8080/"
    },
    "id": "3eOTjMVem_T9",
    "outputId": "c3a532da-260b-4bd9-baef-144d73c92f92"
   },
   "outputs": [
    {
     "data": {
      "text/plain": [
       "Dataset CIFAR10\n",
       "    Number of datapoints: 50000\n",
       "    Root location: data\n",
       "    Split: Train\n",
       "    StandardTransform\n",
       "Transform: Compose(\n",
       "               RandomCrop(size=(32, 32), padding=4)\n",
       "               RandomHorizontalFlip(p=0.5)\n",
       "               ToTensor()\n",
       "           )"
      ]
     },
     "execution_count": 7,
     "metadata": {},
     "output_type": "execute_result"
    }
   ],
   "source": [
    "valid_ds = test_data\n",
    "train_ds = training_data\n",
    "train_ds"
   ]
  },
  {
   "cell_type": "code",
   "execution_count": 8,
   "metadata": {
    "id": "JAFQAJUVr7U2"
   },
   "outputs": [],
   "source": [
    "def show_image(img,label):\n",
    "    print('Label: ', train_ds.classes[label],\"(\"+str(label)+\")\")\n",
    "    plt.imshow(img.permute(1,2,0))"
   ]
  },
  {
   "cell_type": "code",
   "execution_count": 9,
   "metadata": {
    "id": "tj5jXuuBri6o"
   },
   "outputs": [],
   "source": [
    "batch_size=400"
   ]
  },
  {
   "cell_type": "code",
   "execution_count": 10,
   "metadata": {
    "id": "n4kCM-hare00"
   },
   "outputs": [],
   "source": [
    "# Dataloader to load data in batches(mini batch)\n",
    "train_dl= DataLoader(train_ds,batch_size,shuffle=True, num_workers=2, pin_memory=True)\n",
    "valid_dl= DataLoader(valid_ds, batch_size, num_workers=2,pin_memory=True)"
   ]
  },
  {
   "cell_type": "code",
   "execution_count": 11,
   "metadata": {
    "id": "mcfsy3QptG2Y"
   },
   "outputs": [],
   "source": [
    "def show_batch(dl):\n",
    "    for images, labels in dl:\n",
    "        fig,ax= plt.subplots(figsize=(12,12))\n",
    "        ax.set_xticks([]) #hide ticks\n",
    "        ax.set_yticks([])\n",
    "        ax.imshow(make_grid(images[:64],nrow=8).permute(1,2,0))\n",
    "        break # printing only first 64 images from first batch"
   ]
  },
  {
   "cell_type": "code",
   "execution_count": 12,
   "metadata": {
    "id": "lPVFZltRtXt4"
   },
   "outputs": [],
   "source": [
    "def get_default_device():\n",
    "    \"\"\"Pick GPU if available, else CPU\"\"\"\n",
    "    if torch.cuda.is_available():\n",
    "        return torch.device('cuda')\n",
    "    else:\n",
    "        return torch.device('cpu')\n",
    "    \n",
    "def to_device(data, device):\n",
    "    \"\"\"Move tensor(s) to chosen device\"\"\"\n",
    "    if isinstance(data, (list,tuple)):\n",
    "        return [to_device(x, device) for x in data]\n",
    "    return data.to(device, non_blocking=True)\n",
    "\n",
    "class DeviceDataLoader():\n",
    "    \"\"\"Wrap a dataloader to move data to a device\"\"\"\n",
    "    def __init__(self, dl, device):\n",
    "        self.dl = dl\n",
    "        self.device = device\n",
    "        \n",
    "    def __iter__(self):\n",
    "        \"\"\"Yield a batch of data after moving it to device\"\"\"\n",
    "        for b in self.dl: \n",
    "            yield to_device(b, self.device)\n",
    "\n",
    "    def __len__(self):\n",
    "        \"\"\"Number of batches\"\"\"\n",
    "        return len(self.dl)"
   ]
  },
  {
   "cell_type": "code",
   "execution_count": 13,
   "metadata": {
    "colab": {
     "base_uri": "https://localhost:8080/"
    },
    "id": "SOksgE3wtYwZ",
    "outputId": "a9fb69e1-9e00-4139-d791-b7c305a7941a"
   },
   "outputs": [
    {
     "data": {
      "text/plain": [
       "device(type='cuda')"
      ]
     },
     "execution_count": 13,
     "metadata": {},
     "output_type": "execute_result"
    }
   ],
   "source": [
    "device = get_default_device()\n",
    "device"
   ]
  },
  {
   "cell_type": "code",
   "execution_count": 14,
   "metadata": {
    "id": "hfVlteXctb6f"
   },
   "outputs": [],
   "source": [
    "train_dl= DeviceDataLoader(train_dl,device)\n",
    "valid_dl = DeviceDataLoader(valid_dl, device)"
   ]
  },
  {
   "cell_type": "code",
   "execution_count": 15,
   "metadata": {
    "id": "PLmLZHBqtlF_"
   },
   "outputs": [],
   "source": [
    "def accuracy(outputs, labels):\n",
    "    _, preds = torch.max(outputs, dim=1)\n",
    "    return torch.tensor(torch.sum(preds == labels).item() / len(preds))\n",
    "\n",
    "class ImageClassificationBase(nn.Module):\n",
    "    def training_step(self, batch):\n",
    "        images, labels = batch \n",
    "        out = self(images)                  # Generate predictions\n",
    "        loss = F.cross_entropy(out, labels) # Calculate loss\n",
    "        return loss\n",
    "    \n",
    "    def validation_step(self, batch):\n",
    "        images, labels = batch \n",
    "        out = self(images)                    # Generate predictions\n",
    "        loss = F.cross_entropy(out, labels)   # Calculate loss\n",
    "        acc = accuracy(out, labels)           # Calculate accuracy\n",
    "        return {'val_loss': loss.detach(), 'val_acc': acc}\n",
    "        \n",
    "    def validation_epoch_end(self, outputs):\n",
    "        batch_losses = [x['val_loss'] for x in outputs]\n",
    "        epoch_loss = torch.stack(batch_losses).mean()   # Combine losses\n",
    "        batch_accs = [x['val_acc'] for x in outputs]\n",
    "        epoch_acc = torch.stack(batch_accs).mean()      # Combine accuracies\n",
    "        return {'val_loss': epoch_loss.item(), 'val_acc': epoch_acc.item()}\n",
    "    \n",
    "    def epoch_end(self, epoch, result):\n",
    "        print(\"Epoch [{}], train_loss: {:.4f}, val_loss: {:.4f}, val_acc: {:.4f}\".format(\n",
    "            epoch, result['train_loss'], result['val_loss'], result['val_acc']))"
   ]
  },
  {
   "cell_type": "code",
   "execution_count": 16,
   "metadata": {
    "id": "LcaZkKzQtomv"
   },
   "outputs": [],
   "source": [
    "def conv_block(in_channels, out_channels, stride=1):\n",
    "    layers = [nn.Conv2d(in_channels, out_channels, kernel_size=3, padding=1, stride=stride), \n",
    "              nn.BatchNorm2d(out_channels), \n",
    "              nn.ReLU(inplace=True)]\n",
    "    return nn.Sequential(*layers)\n",
    "\n",
    "def shortcut(in_channels, out_channels):\n",
    "    return nn.Conv2d(in_channels, out_channels, kernel_size=3, padding=1, stride=2)\n",
    "\n",
    "class ResNet(ImageClassificationBase):\n",
    "    def __init__(self, in_channels, num_classes, n):\n",
    "        super().__init__()\n",
    "        \n",
    "        self.n = n\n",
    "        \n",
    "        # 32x32 map\n",
    "        self.conv1 = conv_block(in_channels, 16)\n",
    "        self.reg32 = nn.Sequential(conv_block(16,16), conv_block(16,16))\n",
    "        \n",
    "        # 16x16 map\n",
    "        self.entry16 = nn.Sequential(conv_block(16, 32, stride=2), conv_block(32, 32))\n",
    "        self.short16 = shortcut(16, 32)\n",
    "        self.reg16 = nn.Sequential(conv_block(32, 32), conv_block(32, 32))\n",
    "        \n",
    "        # 8x8 map\n",
    "        self.entry8 = nn.Sequential(conv_block(32, 64, stride=2), conv_block(64, 64))\n",
    "        self.short8 = shortcut(32, 64)\n",
    "        self.reg8 = nn.Sequential(conv_block(64, 64), conv_block(64, 64))\n",
    "        \n",
    "        self.classifier = nn.Sequential(nn.AvgPool2d(kernel_size=8, stride=None, padding=0), \n",
    "                                        nn.Linear(64, num_classes),\n",
    "                                       nn.Softmax())\n",
    "        # FOR DEBUGGING\n",
    "        self.avg = nn.AvgPool2d(kernel_size=8, stride=None, padding=0)\n",
    "        self.flat = nn.Flatten()\n",
    "        self.fcl = nn.Linear(64, num_classes)\n",
    "        self.sm = nn.Softmax()\n",
    "        \n",
    "    def forward(self, xb):\n",
    "        out = self.conv1(xb)\n",
    "        \n",
    "        for i in range(self.n):\n",
    "            out = self.reg32(out) + out\n",
    "            \n",
    "        out = self.entry16(out) + self.short16(out)\n",
    "        for i in range(self.n - 1):\n",
    "            out = self.reg16(out) + out\n",
    "            \n",
    "        out = self.entry8(out) + self.short8(out)\n",
    "        for i in range(self.n - 1):\n",
    "            out = self.reg8(out) + out\n",
    "\n",
    "        #out = self.classifier(out)\n",
    "        out = self.avg(out)\n",
    "        out = self.flat(out)\n",
    "        out = self.fcl(out)\n",
    "        out = self.sm(out)\n",
    "        \n",
    "        return out"
   ]
  },
  {
   "cell_type": "code",
   "execution_count": 17,
   "metadata": {
    "colab": {
     "base_uri": "https://localhost:8080/"
    },
    "id": "O8BOig0Otrjz",
    "outputId": "a40ce9a4-8852-4595-9525-9841221a3391"
   },
   "outputs": [
    {
     "data": {
      "text/plain": [
       "ResNet(\n",
       "  (conv1): Sequential(\n",
       "    (0): Conv2d(3, 16, kernel_size=(3, 3), stride=(1, 1), padding=(1, 1))\n",
       "    (1): BatchNorm2d(16, eps=1e-05, momentum=0.1, affine=True, track_running_stats=True)\n",
       "    (2): ReLU(inplace=True)\n",
       "  )\n",
       "  (reg32): Sequential(\n",
       "    (0): Sequential(\n",
       "      (0): Conv2d(16, 16, kernel_size=(3, 3), stride=(1, 1), padding=(1, 1))\n",
       "      (1): BatchNorm2d(16, eps=1e-05, momentum=0.1, affine=True, track_running_stats=True)\n",
       "      (2): ReLU(inplace=True)\n",
       "    )\n",
       "    (1): Sequential(\n",
       "      (0): Conv2d(16, 16, kernel_size=(3, 3), stride=(1, 1), padding=(1, 1))\n",
       "      (1): BatchNorm2d(16, eps=1e-05, momentum=0.1, affine=True, track_running_stats=True)\n",
       "      (2): ReLU(inplace=True)\n",
       "    )\n",
       "  )\n",
       "  (entry16): Sequential(\n",
       "    (0): Sequential(\n",
       "      (0): Conv2d(16, 32, kernel_size=(3, 3), stride=(2, 2), padding=(1, 1))\n",
       "      (1): BatchNorm2d(32, eps=1e-05, momentum=0.1, affine=True, track_running_stats=True)\n",
       "      (2): ReLU(inplace=True)\n",
       "    )\n",
       "    (1): Sequential(\n",
       "      (0): Conv2d(32, 32, kernel_size=(3, 3), stride=(1, 1), padding=(1, 1))\n",
       "      (1): BatchNorm2d(32, eps=1e-05, momentum=0.1, affine=True, track_running_stats=True)\n",
       "      (2): ReLU(inplace=True)\n",
       "    )\n",
       "  )\n",
       "  (short16): Conv2d(16, 32, kernel_size=(3, 3), stride=(2, 2), padding=(1, 1))\n",
       "  (reg16): Sequential(\n",
       "    (0): Sequential(\n",
       "      (0): Conv2d(32, 32, kernel_size=(3, 3), stride=(1, 1), padding=(1, 1))\n",
       "      (1): BatchNorm2d(32, eps=1e-05, momentum=0.1, affine=True, track_running_stats=True)\n",
       "      (2): ReLU(inplace=True)\n",
       "    )\n",
       "    (1): Sequential(\n",
       "      (0): Conv2d(32, 32, kernel_size=(3, 3), stride=(1, 1), padding=(1, 1))\n",
       "      (1): BatchNorm2d(32, eps=1e-05, momentum=0.1, affine=True, track_running_stats=True)\n",
       "      (2): ReLU(inplace=True)\n",
       "    )\n",
       "  )\n",
       "  (entry8): Sequential(\n",
       "    (0): Sequential(\n",
       "      (0): Conv2d(32, 64, kernel_size=(3, 3), stride=(2, 2), padding=(1, 1))\n",
       "      (1): BatchNorm2d(64, eps=1e-05, momentum=0.1, affine=True, track_running_stats=True)\n",
       "      (2): ReLU(inplace=True)\n",
       "    )\n",
       "    (1): Sequential(\n",
       "      (0): Conv2d(64, 64, kernel_size=(3, 3), stride=(1, 1), padding=(1, 1))\n",
       "      (1): BatchNorm2d(64, eps=1e-05, momentum=0.1, affine=True, track_running_stats=True)\n",
       "      (2): ReLU(inplace=True)\n",
       "    )\n",
       "  )\n",
       "  (short8): Conv2d(32, 64, kernel_size=(3, 3), stride=(2, 2), padding=(1, 1))\n",
       "  (reg8): Sequential(\n",
       "    (0): Sequential(\n",
       "      (0): Conv2d(64, 64, kernel_size=(3, 3), stride=(1, 1), padding=(1, 1))\n",
       "      (1): BatchNorm2d(64, eps=1e-05, momentum=0.1, affine=True, track_running_stats=True)\n",
       "      (2): ReLU(inplace=True)\n",
       "    )\n",
       "    (1): Sequential(\n",
       "      (0): Conv2d(64, 64, kernel_size=(3, 3), stride=(1, 1), padding=(1, 1))\n",
       "      (1): BatchNorm2d(64, eps=1e-05, momentum=0.1, affine=True, track_running_stats=True)\n",
       "      (2): ReLU(inplace=True)\n",
       "    )\n",
       "  )\n",
       "  (classifier): Sequential(\n",
       "    (0): AvgPool2d(kernel_size=8, stride=8, padding=0)\n",
       "    (1): Linear(in_features=64, out_features=10, bias=True)\n",
       "    (2): Softmax(dim=None)\n",
       "  )\n",
       "  (avg): AvgPool2d(kernel_size=8, stride=8, padding=0)\n",
       "  (flat): Flatten(start_dim=1, end_dim=-1)\n",
       "  (fcl): Linear(in_features=64, out_features=10, bias=True)\n",
       "  (sm): Softmax(dim=None)\n",
       ")"
      ]
     },
     "execution_count": 17,
     "metadata": {},
     "output_type": "execute_result"
    }
   ],
   "source": [
    "# n=8 => ResNet50\n",
    "model= to_device(ResNet(3,10,8), device)\n",
    "model"
   ]
  },
  {
   "cell_type": "code",
   "execution_count": 18,
   "metadata": {
    "colab": {
     "base_uri": "https://localhost:8080/"
    },
    "id": "O8BOig0Otrjz",
    "outputId": "a40ce9a4-8852-4595-9525-9841221a3391"
   },
   "outputs": [
    {
     "name": "stdout",
     "output_type": "stream",
     "text": [
      "----------------------------------------------------------------\n",
      "        Layer (type)               Output Shape         Param #\n",
      "================================================================\n",
      "            Conv2d-1           [-1, 16, 32, 32]             448\n",
      "       BatchNorm2d-2           [-1, 16, 32, 32]              32\n",
      "              ReLU-3           [-1, 16, 32, 32]               0\n",
      "            Conv2d-4           [-1, 16, 32, 32]           2,320\n",
      "       BatchNorm2d-5           [-1, 16, 32, 32]              32\n",
      "              ReLU-6           [-1, 16, 32, 32]               0\n",
      "            Conv2d-7           [-1, 16, 32, 32]           2,320\n",
      "       BatchNorm2d-8           [-1, 16, 32, 32]              32\n",
      "              ReLU-9           [-1, 16, 32, 32]               0\n",
      "           Conv2d-10           [-1, 16, 32, 32]           2,320\n",
      "      BatchNorm2d-11           [-1, 16, 32, 32]              32\n",
      "             ReLU-12           [-1, 16, 32, 32]               0\n",
      "           Conv2d-13           [-1, 16, 32, 32]           2,320\n",
      "      BatchNorm2d-14           [-1, 16, 32, 32]              32\n",
      "             ReLU-15           [-1, 16, 32, 32]               0\n",
      "           Conv2d-16           [-1, 16, 32, 32]           2,320\n",
      "      BatchNorm2d-17           [-1, 16, 32, 32]              32\n",
      "             ReLU-18           [-1, 16, 32, 32]               0\n",
      "           Conv2d-19           [-1, 16, 32, 32]           2,320\n",
      "      BatchNorm2d-20           [-1, 16, 32, 32]              32\n",
      "             ReLU-21           [-1, 16, 32, 32]               0\n",
      "           Conv2d-22           [-1, 16, 32, 32]           2,320\n",
      "      BatchNorm2d-23           [-1, 16, 32, 32]              32\n",
      "             ReLU-24           [-1, 16, 32, 32]               0\n",
      "           Conv2d-25           [-1, 16, 32, 32]           2,320\n",
      "      BatchNorm2d-26           [-1, 16, 32, 32]              32\n",
      "             ReLU-27           [-1, 16, 32, 32]               0\n",
      "           Conv2d-28           [-1, 16, 32, 32]           2,320\n",
      "      BatchNorm2d-29           [-1, 16, 32, 32]              32\n",
      "             ReLU-30           [-1, 16, 32, 32]               0\n",
      "           Conv2d-31           [-1, 16, 32, 32]           2,320\n",
      "      BatchNorm2d-32           [-1, 16, 32, 32]              32\n",
      "             ReLU-33           [-1, 16, 32, 32]               0\n",
      "           Conv2d-34           [-1, 16, 32, 32]           2,320\n",
      "      BatchNorm2d-35           [-1, 16, 32, 32]              32\n",
      "             ReLU-36           [-1, 16, 32, 32]               0\n",
      "           Conv2d-37           [-1, 16, 32, 32]           2,320\n",
      "      BatchNorm2d-38           [-1, 16, 32, 32]              32\n",
      "             ReLU-39           [-1, 16, 32, 32]               0\n",
      "           Conv2d-40           [-1, 16, 32, 32]           2,320\n",
      "      BatchNorm2d-41           [-1, 16, 32, 32]              32\n",
      "             ReLU-42           [-1, 16, 32, 32]               0\n",
      "           Conv2d-43           [-1, 16, 32, 32]           2,320\n",
      "      BatchNorm2d-44           [-1, 16, 32, 32]              32\n",
      "             ReLU-45           [-1, 16, 32, 32]               0\n",
      "           Conv2d-46           [-1, 16, 32, 32]           2,320\n",
      "      BatchNorm2d-47           [-1, 16, 32, 32]              32\n",
      "             ReLU-48           [-1, 16, 32, 32]               0\n",
      "           Conv2d-49           [-1, 16, 32, 32]           2,320\n",
      "      BatchNorm2d-50           [-1, 16, 32, 32]              32\n",
      "             ReLU-51           [-1, 16, 32, 32]               0\n",
      "           Conv2d-52           [-1, 32, 16, 16]           4,640\n",
      "      BatchNorm2d-53           [-1, 32, 16, 16]              64\n",
      "             ReLU-54           [-1, 32, 16, 16]               0\n",
      "           Conv2d-55           [-1, 32, 16, 16]           9,248\n",
      "      BatchNorm2d-56           [-1, 32, 16, 16]              64\n",
      "             ReLU-57           [-1, 32, 16, 16]               0\n",
      "           Conv2d-58           [-1, 32, 16, 16]           4,640\n",
      "           Conv2d-59           [-1, 32, 16, 16]           9,248\n",
      "      BatchNorm2d-60           [-1, 32, 16, 16]              64\n",
      "             ReLU-61           [-1, 32, 16, 16]               0\n",
      "           Conv2d-62           [-1, 32, 16, 16]           9,248\n",
      "      BatchNorm2d-63           [-1, 32, 16, 16]              64\n",
      "             ReLU-64           [-1, 32, 16, 16]               0\n",
      "           Conv2d-65           [-1, 32, 16, 16]           9,248\n",
      "      BatchNorm2d-66           [-1, 32, 16, 16]              64\n",
      "             ReLU-67           [-1, 32, 16, 16]               0\n",
      "           Conv2d-68           [-1, 32, 16, 16]           9,248\n",
      "      BatchNorm2d-69           [-1, 32, 16, 16]              64\n",
      "             ReLU-70           [-1, 32, 16, 16]               0\n",
      "           Conv2d-71           [-1, 32, 16, 16]           9,248\n",
      "      BatchNorm2d-72           [-1, 32, 16, 16]              64\n",
      "             ReLU-73           [-1, 32, 16, 16]               0\n",
      "           Conv2d-74           [-1, 32, 16, 16]           9,248\n",
      "      BatchNorm2d-75           [-1, 32, 16, 16]              64\n",
      "             ReLU-76           [-1, 32, 16, 16]               0\n",
      "           Conv2d-77           [-1, 32, 16, 16]           9,248\n",
      "      BatchNorm2d-78           [-1, 32, 16, 16]              64\n",
      "             ReLU-79           [-1, 32, 16, 16]               0\n",
      "           Conv2d-80           [-1, 32, 16, 16]           9,248\n",
      "      BatchNorm2d-81           [-1, 32, 16, 16]              64\n",
      "             ReLU-82           [-1, 32, 16, 16]               0\n",
      "           Conv2d-83           [-1, 32, 16, 16]           9,248\n",
      "      BatchNorm2d-84           [-1, 32, 16, 16]              64\n",
      "             ReLU-85           [-1, 32, 16, 16]               0\n",
      "           Conv2d-86           [-1, 32, 16, 16]           9,248\n",
      "      BatchNorm2d-87           [-1, 32, 16, 16]              64\n",
      "             ReLU-88           [-1, 32, 16, 16]               0\n",
      "           Conv2d-89           [-1, 32, 16, 16]           9,248\n",
      "      BatchNorm2d-90           [-1, 32, 16, 16]              64\n",
      "             ReLU-91           [-1, 32, 16, 16]               0\n",
      "           Conv2d-92           [-1, 32, 16, 16]           9,248\n",
      "      BatchNorm2d-93           [-1, 32, 16, 16]              64\n",
      "             ReLU-94           [-1, 32, 16, 16]               0\n",
      "           Conv2d-95           [-1, 32, 16, 16]           9,248\n",
      "      BatchNorm2d-96           [-1, 32, 16, 16]              64\n",
      "             ReLU-97           [-1, 32, 16, 16]               0\n",
      "           Conv2d-98           [-1, 32, 16, 16]           9,248\n",
      "      BatchNorm2d-99           [-1, 32, 16, 16]              64\n",
      "            ReLU-100           [-1, 32, 16, 16]               0\n",
      "          Conv2d-101             [-1, 64, 8, 8]          18,496\n",
      "     BatchNorm2d-102             [-1, 64, 8, 8]             128\n",
      "            ReLU-103             [-1, 64, 8, 8]               0\n",
      "          Conv2d-104             [-1, 64, 8, 8]          36,928\n",
      "     BatchNorm2d-105             [-1, 64, 8, 8]             128\n",
      "            ReLU-106             [-1, 64, 8, 8]               0\n",
      "          Conv2d-107             [-1, 64, 8, 8]          18,496\n",
      "          Conv2d-108             [-1, 64, 8, 8]          36,928\n",
      "     BatchNorm2d-109             [-1, 64, 8, 8]             128\n",
      "            ReLU-110             [-1, 64, 8, 8]               0\n",
      "          Conv2d-111             [-1, 64, 8, 8]          36,928\n",
      "     BatchNorm2d-112             [-1, 64, 8, 8]             128\n",
      "            ReLU-113             [-1, 64, 8, 8]               0\n",
      "          Conv2d-114             [-1, 64, 8, 8]          36,928\n",
      "     BatchNorm2d-115             [-1, 64, 8, 8]             128\n",
      "            ReLU-116             [-1, 64, 8, 8]               0\n",
      "          Conv2d-117             [-1, 64, 8, 8]          36,928\n",
      "     BatchNorm2d-118             [-1, 64, 8, 8]             128\n",
      "            ReLU-119             [-1, 64, 8, 8]               0\n",
      "          Conv2d-120             [-1, 64, 8, 8]          36,928\n",
      "     BatchNorm2d-121             [-1, 64, 8, 8]             128\n",
      "            ReLU-122             [-1, 64, 8, 8]               0\n",
      "          Conv2d-123             [-1, 64, 8, 8]          36,928\n",
      "     BatchNorm2d-124             [-1, 64, 8, 8]             128\n",
      "            ReLU-125             [-1, 64, 8, 8]               0\n",
      "          Conv2d-126             [-1, 64, 8, 8]          36,928\n",
      "     BatchNorm2d-127             [-1, 64, 8, 8]             128\n",
      "            ReLU-128             [-1, 64, 8, 8]               0\n",
      "          Conv2d-129             [-1, 64, 8, 8]          36,928\n",
      "     BatchNorm2d-130             [-1, 64, 8, 8]             128\n",
      "            ReLU-131             [-1, 64, 8, 8]               0\n",
      "          Conv2d-132             [-1, 64, 8, 8]          36,928\n",
      "     BatchNorm2d-133             [-1, 64, 8, 8]             128\n",
      "            ReLU-134             [-1, 64, 8, 8]               0\n",
      "          Conv2d-135             [-1, 64, 8, 8]          36,928\n",
      "     BatchNorm2d-136             [-1, 64, 8, 8]             128\n",
      "            ReLU-137             [-1, 64, 8, 8]               0\n",
      "          Conv2d-138             [-1, 64, 8, 8]          36,928\n",
      "     BatchNorm2d-139             [-1, 64, 8, 8]             128\n",
      "            ReLU-140             [-1, 64, 8, 8]               0\n",
      "          Conv2d-141             [-1, 64, 8, 8]          36,928\n",
      "     BatchNorm2d-142             [-1, 64, 8, 8]             128\n",
      "            ReLU-143             [-1, 64, 8, 8]               0\n",
      "          Conv2d-144             [-1, 64, 8, 8]          36,928\n",
      "     BatchNorm2d-145             [-1, 64, 8, 8]             128\n",
      "            ReLU-146             [-1, 64, 8, 8]               0\n",
      "          Conv2d-147             [-1, 64, 8, 8]          36,928\n",
      "     BatchNorm2d-148             [-1, 64, 8, 8]             128\n",
      "            ReLU-149             [-1, 64, 8, 8]               0\n",
      "       AvgPool2d-150             [-1, 64, 1, 1]               0\n",
      "         Flatten-151                   [-1, 64]               0\n",
      "          Linear-152                   [-1, 10]             650\n",
      "         Softmax-153                   [-1, 10]               0\n",
      "================================================================\n",
      "Total params: 780,746\n",
      "Trainable params: 780,746\n",
      "Non-trainable params: 0\n",
      "----------------------------------------------------------------\n",
      "Input size (MB): 0.01\n",
      "Forward/backward pass size (MB): 10.97\n",
      "Params size (MB): 2.98\n",
      "Estimated Total Size (MB): 13.96\n",
      "----------------------------------------------------------------\n"
     ]
    },
    {
     "name": "stderr",
     "output_type": "stream",
     "text": [
      "/home/userfs/s/sb2444/.local/lib/python3.6/site-packages/ipykernel_launcher.py:57: UserWarning: Implicit dimension choice for softmax has been deprecated. Change the call to include dim=X as an argument.\n"
     ]
    }
   ],
   "source": [
    "from torchvision import models\n",
    "from torchsummary import summary\n",
    "summary(model, (3, 32, 32))"
   ]
  },
  {
   "cell_type": "code",
   "execution_count": 19,
   "metadata": {
    "id": "hmbJUvR3t0QY"
   },
   "outputs": [],
   "source": [
    "@torch.no_grad()\n",
    "def evaluate(model, val_loader):\n",
    "    model.eval()\n",
    "    outputs = [model.validation_step(batch) for batch in val_loader]\n",
    "    return model.validation_epoch_end(outputs)\n",
    "\n",
    "def get_lr(optimizer):\n",
    "    for param_group in optimizer.param_groups:\n",
    "        return param_group['lr']\n",
    "\n",
    "def fit_one_cycle(epochs, max_lr, model, train_loader, val_loader, \n",
    "                  weight_decay=0, grad_clip=None, opt_func=torch.optim.SGD):\n",
    "    torch.cuda.empty_cache()  # Realsing cuda memory otherwise might get cuda out of memory error\n",
    "    history = []\n",
    "    \n",
    "    #custom optimizer with weight decay\n",
    "    optimizer = opt_func(model.parameters(), max_lr, weight_decay=weight_decay)\n",
    "    # Set up one-cycle learning rate scheduler\n",
    "    sched = torch.optim.lr_scheduler.OneCycleLR(optimizer, max_lr, epochs=epochs, \n",
    "                                                steps_per_epoch=len(train_loader))\n",
    "    \n",
    "    for epoch in range(epochs):\n",
    "        # Training Phase \n",
    "        model.train() #Setting training mode\n",
    "        train_losses = []\n",
    "        lrs = []\n",
    "        for batch in train_loader:\n",
    "            loss = model.training_step(batch)\n",
    "            train_losses.append(loss)\n",
    "            loss.backward()\n",
    "            \n",
    "            # Gradient clipping\n",
    "            if grad_clip: \n",
    "                nn.utils.clip_grad_value_(model.parameters(), grad_clip)\n",
    "            \n",
    "            optimizer.step()\n",
    "            optimizer.zero_grad()\n",
    "            \n",
    "            # Record & update learning rate\n",
    "            lrs.append(get_lr(optimizer))\n",
    "            sched.step()\n",
    "        \n",
    "        # Validation phase\n",
    "        result = evaluate(model, val_loader)\n",
    "        result['train_loss'] = torch.stack(train_losses).mean().item()\n",
    "        result['lrs'] = lrs\n",
    "        model.epoch_end(epoch, result)\n",
    "        history.append(result)\n",
    "    return history"
   ]
  },
  {
   "cell_type": "code",
   "execution_count": 20,
   "metadata": {
    "colab": {
     "base_uri": "https://localhost:8080/"
    },
    "id": "_TPdh3fbt1fH",
    "outputId": "a22ad739-4bd6-459d-f905-64450f06bf4c"
   },
   "outputs": [
    {
     "name": "stderr",
     "output_type": "stream",
     "text": [
      "/home/userfs/s/sb2444/.local/lib/python3.6/site-packages/ipykernel_launcher.py:57: UserWarning: Implicit dimension choice for softmax has been deprecated. Change the call to include dim=X as an argument.\n"
     ]
    },
    {
     "data": {
      "text/plain": [
       "[{'val_loss': 2.303821325302124, 'val_acc': 0.10000000149011612}]"
      ]
     },
     "execution_count": 20,
     "metadata": {},
     "output_type": "execute_result"
    }
   ],
   "source": [
    "history = [evaluate(model, valid_dl)]\n",
    "history"
   ]
  },
  {
   "cell_type": "code",
   "execution_count": 21,
   "metadata": {
    "id": "fFL3dFDnt6pb"
   },
   "outputs": [],
   "source": [
    "epochs = 400\n",
    "max_lr = 0.005\n",
    "grad_clip = 0.1\n",
    "weight_decay = 1e-4\n",
    "opt_func = torch.optim.Adam"
   ]
  },
  {
   "cell_type": "code",
   "execution_count": 22,
   "metadata": {
    "colab": {
     "base_uri": "https://localhost:8080/"
    },
    "id": "01CAjQi2t8Ub",
    "outputId": "776b2d7d-902f-4f3c-ece0-24ccd16c4d53"
   },
   "outputs": [
    {
     "name": "stderr",
     "output_type": "stream",
     "text": [
      "/home/userfs/s/sb2444/.local/lib/python3.6/site-packages/ipykernel_launcher.py:57: UserWarning: Implicit dimension choice for softmax has been deprecated. Change the call to include dim=X as an argument.\n"
     ]
    },
    {
     "name": "stdout",
     "output_type": "stream",
     "text": [
      "Epoch [0], train_loss: 2.1503, val_loss: 2.3266, val_acc: 0.1167\n",
      "Epoch [1], train_loss: 2.0714, val_loss: 2.3553, val_acc: 0.1004\n",
      "Epoch [2], train_loss: 2.0166, val_loss: 2.3103, val_acc: 0.1264\n",
      "Epoch [3], train_loss: 1.9672, val_loss: 2.3567, val_acc: 0.1009\n",
      "Epoch [4], train_loss: 1.9229, val_loss: 2.3315, val_acc: 0.1078\n",
      "Epoch [5], train_loss: 1.8968, val_loss: 2.3098, val_acc: 0.1331\n",
      "Epoch [6], train_loss: 1.8766, val_loss: 2.3363, val_acc: 0.1111\n",
      "Epoch [7], train_loss: 1.8567, val_loss: 2.3029, val_acc: 0.1402\n",
      "Epoch [8], train_loss: 1.8444, val_loss: 2.3149, val_acc: 0.1327\n",
      "Epoch [9], train_loss: 1.8305, val_loss: 2.3217, val_acc: 0.1218\n",
      "Epoch [10], train_loss: 1.8177, val_loss: 2.2459, val_acc: 0.1924\n",
      "Epoch [11], train_loss: 1.8117, val_loss: 2.2436, val_acc: 0.2049\n",
      "Epoch [12], train_loss: 1.8061, val_loss: 2.2636, val_acc: 0.1806\n",
      "Epoch [13], train_loss: 1.7945, val_loss: 2.2437, val_acc: 0.1974\n",
      "Epoch [14], train_loss: 1.7850, val_loss: 2.2355, val_acc: 0.2046\n",
      "Epoch [15], train_loss: 1.7825, val_loss: 2.2064, val_acc: 0.2473\n",
      "Epoch [16], train_loss: 1.7727, val_loss: 2.3235, val_acc: 0.1289\n",
      "Epoch [17], train_loss: 1.7690, val_loss: 2.2041, val_acc: 0.2509\n",
      "Epoch [18], train_loss: 1.7606, val_loss: 2.2246, val_acc: 0.2233\n",
      "Epoch [19], train_loss: 1.7514, val_loss: 2.1669, val_acc: 0.2783\n",
      "Epoch [20], train_loss: 1.7504, val_loss: 2.1819, val_acc: 0.2705\n",
      "Epoch [21], train_loss: 1.7427, val_loss: 2.1477, val_acc: 0.3026\n",
      "Epoch [22], train_loss: 1.7395, val_loss: 2.2442, val_acc: 0.1994\n",
      "Epoch [23], train_loss: 1.7283, val_loss: 2.2617, val_acc: 0.1705\n",
      "Epoch [24], train_loss: 1.7273, val_loss: 2.1695, val_acc: 0.2720\n",
      "Epoch [25], train_loss: 1.7205, val_loss: 2.1902, val_acc: 0.2537\n",
      "Epoch [26], train_loss: 1.7166, val_loss: 2.1777, val_acc: 0.2664\n",
      "Epoch [27], train_loss: 1.7150, val_loss: 2.1308, val_acc: 0.3270\n",
      "Epoch [28], train_loss: 1.7111, val_loss: 2.2148, val_acc: 0.2311\n",
      "Epoch [29], train_loss: 1.7106, val_loss: 2.1736, val_acc: 0.2709\n",
      "Epoch [30], train_loss: 1.7079, val_loss: 2.1111, val_acc: 0.3543\n",
      "Epoch [31], train_loss: 1.7046, val_loss: 2.1304, val_acc: 0.3192\n",
      "Epoch [32], train_loss: 1.6985, val_loss: 2.1694, val_acc: 0.2716\n",
      "Epoch [33], train_loss: 1.6947, val_loss: 2.2096, val_acc: 0.2277\n",
      "Epoch [34], train_loss: 1.6941, val_loss: 2.1732, val_acc: 0.2685\n",
      "Epoch [35], train_loss: 1.6943, val_loss: 2.2539, val_acc: 0.1917\n",
      "Epoch [36], train_loss: 1.6900, val_loss: 2.2115, val_acc: 0.2299\n",
      "Epoch [37], train_loss: 1.6922, val_loss: 2.1905, val_acc: 0.2569\n",
      "Epoch [38], train_loss: 1.6838, val_loss: 2.2368, val_acc: 0.2099\n",
      "Epoch [39], train_loss: 1.6864, val_loss: 2.1117, val_acc: 0.3449\n",
      "Epoch [40], train_loss: 1.6852, val_loss: 2.0845, val_acc: 0.3750\n",
      "Epoch [41], train_loss: 1.6817, val_loss: 2.1544, val_acc: 0.2945\n",
      "Epoch [42], train_loss: 1.6796, val_loss: 2.2307, val_acc: 0.2122\n",
      "Epoch [43], train_loss: 1.6784, val_loss: 2.0260, val_acc: 0.4343\n",
      "Epoch [44], train_loss: 1.6789, val_loss: 2.0091, val_acc: 0.4515\n",
      "Epoch [45], train_loss: 1.6715, val_loss: 2.0498, val_acc: 0.4023\n",
      "Epoch [46], train_loss: 1.6746, val_loss: 1.9407, val_acc: 0.5234\n",
      "Epoch [47], train_loss: 1.6745, val_loss: 2.0080, val_acc: 0.4482\n",
      "Epoch [48], train_loss: 1.6735, val_loss: 1.9905, val_acc: 0.4602\n",
      "Epoch [49], train_loss: 1.6705, val_loss: 1.9422, val_acc: 0.5168\n",
      "Epoch [50], train_loss: 1.6720, val_loss: 1.8843, val_acc: 0.5786\n",
      "Epoch [51], train_loss: 1.6683, val_loss: 2.0453, val_acc: 0.4082\n",
      "Epoch [52], train_loss: 1.6680, val_loss: 1.9543, val_acc: 0.5081\n",
      "Epoch [53], train_loss: 1.6656, val_loss: 1.8736, val_acc: 0.5888\n",
      "Epoch [54], train_loss: 1.6678, val_loss: 1.9873, val_acc: 0.4703\n",
      "Epoch [55], train_loss: 1.6691, val_loss: 1.9084, val_acc: 0.5492\n",
      "Epoch [56], train_loss: 1.6667, val_loss: 1.9622, val_acc: 0.5007\n",
      "Epoch [57], train_loss: 1.6682, val_loss: 2.0113, val_acc: 0.4454\n",
      "Epoch [58], train_loss: 1.6704, val_loss: 1.9421, val_acc: 0.5162\n",
      "Epoch [59], train_loss: 1.6688, val_loss: 1.8054, val_acc: 0.6548\n",
      "Epoch [60], train_loss: 1.6683, val_loss: 1.8163, val_acc: 0.6460\n",
      "Epoch [61], train_loss: 1.6706, val_loss: 1.8196, val_acc: 0.6429\n",
      "Epoch [62], train_loss: 1.6628, val_loss: 1.8589, val_acc: 0.6000\n",
      "Epoch [63], train_loss: 1.6670, val_loss: 1.8233, val_acc: 0.6361\n",
      "Epoch [64], train_loss: 1.6655, val_loss: 1.7739, val_acc: 0.6898\n",
      "Epoch [65], train_loss: 1.6651, val_loss: 1.8119, val_acc: 0.6486\n",
      "Epoch [66], train_loss: 1.6675, val_loss: 1.8968, val_acc: 0.5591\n",
      "Epoch [67], train_loss: 1.6676, val_loss: 1.8342, val_acc: 0.6245\n",
      "Epoch [68], train_loss: 1.6683, val_loss: 1.7989, val_acc: 0.6622\n",
      "Epoch [69], train_loss: 1.6679, val_loss: 1.7736, val_acc: 0.6891\n",
      "Epoch [70], train_loss: 1.6698, val_loss: 1.7443, val_acc: 0.7172\n",
      "Epoch [71], train_loss: 1.6671, val_loss: 1.7264, val_acc: 0.7355\n",
      "Epoch [72], train_loss: 1.6677, val_loss: 1.7120, val_acc: 0.7514\n",
      "Epoch [73], train_loss: 1.6709, val_loss: 1.7210, val_acc: 0.7423\n",
      "Epoch [74], train_loss: 1.6699, val_loss: 1.7397, val_acc: 0.7234\n",
      "Epoch [75], train_loss: 1.6649, val_loss: 1.7559, val_acc: 0.7043\n",
      "Epoch [76], train_loss: 1.6673, val_loss: 1.7654, val_acc: 0.6955\n",
      "Epoch [77], train_loss: 1.6707, val_loss: 1.7165, val_acc: 0.7427\n",
      "Epoch [78], train_loss: 1.6688, val_loss: 1.7508, val_acc: 0.7104\n",
      "Epoch [79], train_loss: 1.6684, val_loss: 1.7107, val_acc: 0.7497\n",
      "Epoch [80], train_loss: 1.6694, val_loss: 1.7422, val_acc: 0.7170\n",
      "Epoch [81], train_loss: 1.6683, val_loss: 1.7255, val_acc: 0.7351\n",
      "Epoch [82], train_loss: 1.6700, val_loss: 1.7435, val_acc: 0.7182\n",
      "Epoch [83], train_loss: 1.6704, val_loss: 1.7123, val_acc: 0.7487\n",
      "Epoch [84], train_loss: 1.6733, val_loss: 1.7479, val_acc: 0.7125\n",
      "Epoch [85], train_loss: 1.6757, val_loss: 1.7218, val_acc: 0.7369\n",
      "Epoch [86], train_loss: 1.6771, val_loss: 1.7261, val_acc: 0.7350\n",
      "Epoch [87], train_loss: 1.6800, val_loss: 1.7350, val_acc: 0.7250\n",
      "Epoch [88], train_loss: 1.6748, val_loss: 1.8078, val_acc: 0.6513\n",
      "Epoch [89], train_loss: 1.6783, val_loss: 1.7052, val_acc: 0.7558\n",
      "Epoch [90], train_loss: 1.6779, val_loss: 1.7081, val_acc: 0.7522\n",
      "Epoch [91], train_loss: 1.6769, val_loss: 1.6954, val_acc: 0.7663\n",
      "Epoch [92], train_loss: 1.6744, val_loss: 1.7246, val_acc: 0.7356\n",
      "Epoch [93], train_loss: 1.6836, val_loss: 1.7290, val_acc: 0.7298\n",
      "Epoch [94], train_loss: 1.6808, val_loss: 1.7152, val_acc: 0.7459\n",
      "Epoch [95], train_loss: 1.6765, val_loss: 1.7170, val_acc: 0.7435\n",
      "Epoch [96], train_loss: 1.6818, val_loss: 1.7335, val_acc: 0.7257\n",
      "Epoch [97], train_loss: 1.6817, val_loss: 1.7657, val_acc: 0.6920\n",
      "Epoch [98], train_loss: 1.6828, val_loss: 1.7732, val_acc: 0.6867\n",
      "Epoch [99], train_loss: 1.6825, val_loss: 1.7250, val_acc: 0.7343\n",
      "Epoch [100], train_loss: 1.6858, val_loss: 1.7424, val_acc: 0.7166\n",
      "Epoch [101], train_loss: 1.6799, val_loss: 1.7088, val_acc: 0.7522\n",
      "Epoch [102], train_loss: 1.6794, val_loss: 1.7245, val_acc: 0.7366\n",
      "Epoch [103], train_loss: 1.6842, val_loss: 1.7834, val_acc: 0.6762\n",
      "Epoch [104], train_loss: 1.6774, val_loss: 1.7276, val_acc: 0.7329\n",
      "Epoch [105], train_loss: 1.6838, val_loss: 1.7817, val_acc: 0.6779\n",
      "Epoch [106], train_loss: 1.6883, val_loss: 1.7416, val_acc: 0.7181\n",
      "Epoch [107], train_loss: 1.6882, val_loss: 1.7728, val_acc: 0.6876\n",
      "Epoch [108], train_loss: 1.6832, val_loss: 1.7275, val_acc: 0.7325\n",
      "Epoch [109], train_loss: 1.6894, val_loss: 1.7831, val_acc: 0.6757\n",
      "Epoch [110], train_loss: 1.6871, val_loss: 1.8063, val_acc: 0.6531\n",
      "Epoch [111], train_loss: 1.6933, val_loss: 1.7280, val_acc: 0.7322\n",
      "Epoch [112], train_loss: 1.6912, val_loss: 1.7299, val_acc: 0.7293\n",
      "Epoch [113], train_loss: 1.6918, val_loss: 1.7402, val_acc: 0.7202\n",
      "Epoch [114], train_loss: 1.6927, val_loss: 1.7103, val_acc: 0.7491\n",
      "Epoch [115], train_loss: 1.6906, val_loss: 1.7632, val_acc: 0.6977\n",
      "Epoch [116], train_loss: 1.6889, val_loss: 1.7473, val_acc: 0.7127\n",
      "Epoch [117], train_loss: 1.6816, val_loss: 1.7482, val_acc: 0.7103\n",
      "Epoch [118], train_loss: 1.6918, val_loss: 1.7632, val_acc: 0.6955\n",
      "Epoch [119], train_loss: 1.6860, val_loss: 1.7490, val_acc: 0.7082\n",
      "Epoch [120], train_loss: 1.6845, val_loss: 1.7517, val_acc: 0.7079\n",
      "Epoch [121], train_loss: 1.6867, val_loss: 1.7646, val_acc: 0.6971\n",
      "Epoch [122], train_loss: 1.6814, val_loss: 1.7460, val_acc: 0.7124\n",
      "Epoch [123], train_loss: 1.6892, val_loss: 1.7137, val_acc: 0.7460\n",
      "Epoch [124], train_loss: 1.6850, val_loss: 1.7236, val_acc: 0.7365\n",
      "Epoch [125], train_loss: 1.6867, val_loss: 1.6960, val_acc: 0.7630\n",
      "Epoch [126], train_loss: 1.6870, val_loss: 1.7487, val_acc: 0.7107\n",
      "Epoch [127], train_loss: 1.6835, val_loss: 1.7826, val_acc: 0.6753\n",
      "Epoch [128], train_loss: 1.6885, val_loss: 1.7556, val_acc: 0.7053\n",
      "Epoch [129], train_loss: 1.6845, val_loss: 1.7213, val_acc: 0.7376\n",
      "Epoch [130], train_loss: 1.6819, val_loss: 1.7429, val_acc: 0.7173\n",
      "Epoch [131], train_loss: 1.6854, val_loss: 1.7676, val_acc: 0.6922\n",
      "Epoch [132], train_loss: 1.6841, val_loss: 1.8215, val_acc: 0.6390\n",
      "Epoch [133], train_loss: 1.6841, val_loss: 1.7105, val_acc: 0.7487\n",
      "Epoch [134], train_loss: 1.6787, val_loss: 1.7134, val_acc: 0.7455\n",
      "Epoch [135], train_loss: 1.6771, val_loss: 1.7764, val_acc: 0.6822\n",
      "Epoch [136], train_loss: 1.6811, val_loss: 1.7442, val_acc: 0.7156\n",
      "Epoch [137], train_loss: 1.6788, val_loss: 1.7558, val_acc: 0.7043\n",
      "Epoch [138], train_loss: 1.6804, val_loss: 1.7590, val_acc: 0.6992\n",
      "Epoch [139], train_loss: 1.6789, val_loss: 1.7315, val_acc: 0.7285\n",
      "Epoch [140], train_loss: 1.6759, val_loss: 1.7480, val_acc: 0.7117\n",
      "Epoch [141], train_loss: 1.6788, val_loss: 1.7133, val_acc: 0.7453\n",
      "Epoch [142], train_loss: 1.6877, val_loss: 1.7305, val_acc: 0.7309\n",
      "Epoch [143], train_loss: 1.6789, val_loss: 1.7265, val_acc: 0.7333\n",
      "Epoch [144], train_loss: 1.6740, val_loss: 1.7868, val_acc: 0.6707\n",
      "Epoch [145], train_loss: 1.6782, val_loss: 1.7601, val_acc: 0.6980\n",
      "Epoch [146], train_loss: 1.6758, val_loss: 1.7322, val_acc: 0.7276\n",
      "Epoch [147], train_loss: 1.6734, val_loss: 1.7149, val_acc: 0.7460\n",
      "Epoch [148], train_loss: 1.6709, val_loss: 1.7382, val_acc: 0.7206\n",
      "Epoch [149], train_loss: 1.6774, val_loss: 1.7369, val_acc: 0.7219\n",
      "Epoch [150], train_loss: 1.6737, val_loss: 1.7477, val_acc: 0.7110\n",
      "Epoch [151], train_loss: 1.6726, val_loss: 1.7673, val_acc: 0.6916\n",
      "Epoch [152], train_loss: 1.6733, val_loss: 1.6917, val_acc: 0.7675\n",
      "Epoch [153], train_loss: 1.6689, val_loss: 1.6850, val_acc: 0.7752\n",
      "Epoch [154], train_loss: 1.6651, val_loss: 1.7557, val_acc: 0.7050\n",
      "Epoch [155], train_loss: 1.6707, val_loss: 1.7506, val_acc: 0.7091\n",
      "Epoch [156], train_loss: 1.6691, val_loss: 1.7354, val_acc: 0.7241\n",
      "Epoch [157], train_loss: 1.6689, val_loss: 1.6807, val_acc: 0.7807\n",
      "Epoch [158], train_loss: 1.6678, val_loss: 1.8039, val_acc: 0.6551\n",
      "Epoch [159], train_loss: 1.6667, val_loss: 1.7475, val_acc: 0.7121\n",
      "Epoch [160], train_loss: 1.6646, val_loss: 1.7150, val_acc: 0.7455\n",
      "Epoch [161], train_loss: 1.6698, val_loss: 1.7230, val_acc: 0.7365\n",
      "Epoch [162], train_loss: 1.6664, val_loss: 1.7072, val_acc: 0.7538\n",
      "Epoch [163], train_loss: 1.6667, val_loss: 1.6952, val_acc: 0.7645\n",
      "Epoch [164], train_loss: 1.6648, val_loss: 1.7397, val_acc: 0.7201\n",
      "Epoch [165], train_loss: 1.6684, val_loss: 1.6859, val_acc: 0.7748\n",
      "Epoch [166], train_loss: 1.6649, val_loss: 1.7151, val_acc: 0.7463\n",
      "Epoch [167], train_loss: 1.6644, val_loss: 1.6920, val_acc: 0.7686\n",
      "Epoch [168], train_loss: 1.6643, val_loss: 1.7447, val_acc: 0.7152\n",
      "Epoch [169], train_loss: 1.6618, val_loss: 1.7209, val_acc: 0.7392\n",
      "Epoch [170], train_loss: 1.6621, val_loss: 1.7447, val_acc: 0.7156\n",
      "Epoch [171], train_loss: 1.6616, val_loss: 1.7091, val_acc: 0.7506\n",
      "Epoch [172], train_loss: 1.6622, val_loss: 1.6963, val_acc: 0.7635\n",
      "Epoch [173], train_loss: 1.6590, val_loss: 1.6867, val_acc: 0.7736\n",
      "Epoch [174], train_loss: 1.6597, val_loss: 1.7133, val_acc: 0.7485\n",
      "Epoch [175], train_loss: 1.6629, val_loss: 1.6802, val_acc: 0.7790\n",
      "Epoch [176], train_loss: 1.6613, val_loss: 1.7007, val_acc: 0.7605\n",
      "Epoch [177], train_loss: 1.6606, val_loss: 1.7327, val_acc: 0.7269\n",
      "Epoch [178], train_loss: 1.6614, val_loss: 1.8063, val_acc: 0.6530\n",
      "Epoch [179], train_loss: 1.6596, val_loss: 1.6914, val_acc: 0.7692\n",
      "Epoch [180], train_loss: 1.6504, val_loss: 1.7009, val_acc: 0.7564\n",
      "Epoch [181], train_loss: 1.6537, val_loss: 1.7200, val_acc: 0.7403\n",
      "Epoch [182], train_loss: 1.6543, val_loss: 1.6867, val_acc: 0.7731\n",
      "Epoch [183], train_loss: 1.6523, val_loss: 1.7422, val_acc: 0.7179\n",
      "Epoch [184], train_loss: 1.6535, val_loss: 1.7336, val_acc: 0.7262\n",
      "Epoch [185], train_loss: 1.6502, val_loss: 1.6920, val_acc: 0.7678\n",
      "Epoch [186], train_loss: 1.6487, val_loss: 1.7466, val_acc: 0.7138\n",
      "Epoch [187], train_loss: 1.6482, val_loss: 1.7210, val_acc: 0.7396\n",
      "Epoch [188], train_loss: 1.6505, val_loss: 1.7154, val_acc: 0.7447\n",
      "Epoch [189], train_loss: 1.6490, val_loss: 1.6790, val_acc: 0.7823\n",
      "Epoch [190], train_loss: 1.6482, val_loss: 1.6755, val_acc: 0.7835\n",
      "Epoch [191], train_loss: 1.6447, val_loss: 1.7008, val_acc: 0.7611\n",
      "Epoch [192], train_loss: 1.6508, val_loss: 1.6664, val_acc: 0.7944\n",
      "Epoch [193], train_loss: 1.6511, val_loss: 1.6690, val_acc: 0.7909\n",
      "Epoch [194], train_loss: 1.6463, val_loss: 1.6920, val_acc: 0.7689\n",
      "Epoch [195], train_loss: 1.6447, val_loss: 1.6681, val_acc: 0.7929\n",
      "Epoch [196], train_loss: 1.6457, val_loss: 1.6908, val_acc: 0.7694\n",
      "Epoch [197], train_loss: 1.6405, val_loss: 1.6791, val_acc: 0.7799\n",
      "Epoch [198], train_loss: 1.6493, val_loss: 1.6822, val_acc: 0.7780\n",
      "Epoch [199], train_loss: 1.6440, val_loss: 1.6769, val_acc: 0.7834\n",
      "Epoch [200], train_loss: 1.6450, val_loss: 1.6965, val_acc: 0.7642\n",
      "Epoch [201], train_loss: 1.6501, val_loss: 1.6849, val_acc: 0.7752\n",
      "Epoch [202], train_loss: 1.6432, val_loss: 1.6670, val_acc: 0.7935\n",
      "Epoch [203], train_loss: 1.6419, val_loss: 1.6914, val_acc: 0.7686\n",
      "Epoch [204], train_loss: 1.6454, val_loss: 1.6735, val_acc: 0.7864\n",
      "Epoch [205], train_loss: 1.6435, val_loss: 1.6620, val_acc: 0.7993\n",
      "Epoch [206], train_loss: 1.6393, val_loss: 1.6608, val_acc: 0.8004\n",
      "Epoch [207], train_loss: 1.6409, val_loss: 1.6635, val_acc: 0.7980\n",
      "Epoch [208], train_loss: 1.6369, val_loss: 1.6855, val_acc: 0.7760\n",
      "Epoch [209], train_loss: 1.6396, val_loss: 1.6975, val_acc: 0.7626\n",
      "Epoch [210], train_loss: 1.6350, val_loss: 1.6816, val_acc: 0.7800\n",
      "Epoch [211], train_loss: 1.6397, val_loss: 1.6772, val_acc: 0.7845\n",
      "Epoch [212], train_loss: 1.6372, val_loss: 1.6744, val_acc: 0.7868\n",
      "Epoch [213], train_loss: 1.6384, val_loss: 1.6748, val_acc: 0.7853\n",
      "Epoch [214], train_loss: 1.6341, val_loss: 1.7110, val_acc: 0.7478\n",
      "Epoch [215], train_loss: 1.6368, val_loss: 1.6560, val_acc: 0.8050\n",
      "Epoch [216], train_loss: 1.6354, val_loss: 1.6518, val_acc: 0.8102\n",
      "Epoch [217], train_loss: 1.6339, val_loss: 1.6673, val_acc: 0.7929\n",
      "Epoch [218], train_loss: 1.6312, val_loss: 1.6849, val_acc: 0.7751\n",
      "Epoch [219], train_loss: 1.6305, val_loss: 1.6456, val_acc: 0.8147\n",
      "Epoch [220], train_loss: 1.6296, val_loss: 1.6509, val_acc: 0.8086\n",
      "Epoch [221], train_loss: 1.6348, val_loss: 1.6778, val_acc: 0.7827\n",
      "Epoch [222], train_loss: 1.6318, val_loss: 1.6814, val_acc: 0.7787\n",
      "Epoch [223], train_loss: 1.6306, val_loss: 1.6541, val_acc: 0.8065\n",
      "Epoch [224], train_loss: 1.6272, val_loss: 1.7377, val_acc: 0.7207\n",
      "Epoch [225], train_loss: 1.6278, val_loss: 1.6582, val_acc: 0.8033\n",
      "Epoch [226], train_loss: 1.6273, val_loss: 1.6715, val_acc: 0.7906\n",
      "Epoch [227], train_loss: 1.6231, val_loss: 1.6553, val_acc: 0.8063\n",
      "Epoch [228], train_loss: 1.6282, val_loss: 1.6535, val_acc: 0.8077\n",
      "Epoch [229], train_loss: 1.6250, val_loss: 1.6806, val_acc: 0.7792\n",
      "Epoch [230], train_loss: 1.6208, val_loss: 1.6484, val_acc: 0.8129\n",
      "Epoch [231], train_loss: 1.6254, val_loss: 1.6560, val_acc: 0.8048\n",
      "Epoch [232], train_loss: 1.6247, val_loss: 1.6494, val_acc: 0.8127\n",
      "Epoch [233], train_loss: 1.6191, val_loss: 1.6701, val_acc: 0.7908\n",
      "Epoch [234], train_loss: 1.6240, val_loss: 1.6667, val_acc: 0.7931\n",
      "Epoch [235], train_loss: 1.6193, val_loss: 1.6574, val_acc: 0.8037\n",
      "Epoch [236], train_loss: 1.6227, val_loss: 1.6704, val_acc: 0.7893\n",
      "Epoch [237], train_loss: 1.6177, val_loss: 1.6714, val_acc: 0.7891\n",
      "Epoch [238], train_loss: 1.6163, val_loss: 1.6445, val_acc: 0.8156\n",
      "Epoch [239], train_loss: 1.6151, val_loss: 1.6503, val_acc: 0.8112\n",
      "Epoch [240], train_loss: 1.6197, val_loss: 1.6491, val_acc: 0.8132\n",
      "Epoch [241], train_loss: 1.6163, val_loss: 1.6460, val_acc: 0.8157\n",
      "Epoch [242], train_loss: 1.6169, val_loss: 1.6503, val_acc: 0.8100\n",
      "Epoch [243], train_loss: 1.6169, val_loss: 1.6810, val_acc: 0.7804\n",
      "Epoch [244], train_loss: 1.6140, val_loss: 1.6507, val_acc: 0.8095\n",
      "Epoch [245], train_loss: 1.6135, val_loss: 1.6472, val_acc: 0.8122\n",
      "Epoch [246], train_loss: 1.6115, val_loss: 1.6265, val_acc: 0.8349\n",
      "Epoch [247], train_loss: 1.6123, val_loss: 1.6260, val_acc: 0.8364\n",
      "Epoch [248], train_loss: 1.6100, val_loss: 1.6378, val_acc: 0.8250\n",
      "Epoch [249], train_loss: 1.6119, val_loss: 1.6415, val_acc: 0.8224\n",
      "Epoch [250], train_loss: 1.6103, val_loss: 1.6496, val_acc: 0.8111\n",
      "Epoch [251], train_loss: 1.6083, val_loss: 1.6499, val_acc: 0.8118\n",
      "Epoch [252], train_loss: 1.6069, val_loss: 1.6521, val_acc: 0.8090\n",
      "Epoch [253], train_loss: 1.6077, val_loss: 1.6382, val_acc: 0.8230\n",
      "Epoch [254], train_loss: 1.6115, val_loss: 1.6436, val_acc: 0.8167\n",
      "Epoch [255], train_loss: 1.6058, val_loss: 1.6458, val_acc: 0.8155\n",
      "Epoch [256], train_loss: 1.6048, val_loss: 1.6232, val_acc: 0.8394\n",
      "Epoch [257], train_loss: 1.6048, val_loss: 1.6393, val_acc: 0.8220\n",
      "Epoch [258], train_loss: 1.6066, val_loss: 1.6393, val_acc: 0.8233\n",
      "Epoch [259], train_loss: 1.6003, val_loss: 1.6483, val_acc: 0.8140\n",
      "Epoch [260], train_loss: 1.6027, val_loss: 1.6510, val_acc: 0.8093\n",
      "Epoch [261], train_loss: 1.6028, val_loss: 1.6776, val_acc: 0.7818\n",
      "Epoch [262], train_loss: 1.6028, val_loss: 1.6294, val_acc: 0.8314\n",
      "Epoch [263], train_loss: 1.5987, val_loss: 1.6769, val_acc: 0.7860\n",
      "Epoch [264], train_loss: 1.5998, val_loss: 1.6572, val_acc: 0.8042\n",
      "Epoch [265], train_loss: 1.5981, val_loss: 1.6272, val_acc: 0.8348\n",
      "Epoch [266], train_loss: 1.5971, val_loss: 1.6253, val_acc: 0.8368\n",
      "Epoch [267], train_loss: 1.5973, val_loss: 1.6289, val_acc: 0.8328\n",
      "Epoch [268], train_loss: 1.5987, val_loss: 1.6562, val_acc: 0.8054\n",
      "Epoch [269], train_loss: 1.5923, val_loss: 1.6426, val_acc: 0.8191\n",
      "Epoch [270], train_loss: 1.5916, val_loss: 1.6281, val_acc: 0.8353\n",
      "Epoch [271], train_loss: 1.5940, val_loss: 1.6458, val_acc: 0.8141\n",
      "Epoch [272], train_loss: 1.5913, val_loss: 1.6435, val_acc: 0.8178\n",
      "Epoch [273], train_loss: 1.5887, val_loss: 1.6449, val_acc: 0.8154\n",
      "Epoch [274], train_loss: 1.5883, val_loss: 1.6151, val_acc: 0.8473\n",
      "Epoch [275], train_loss: 1.5903, val_loss: 1.6245, val_acc: 0.8365\n",
      "Epoch [276], train_loss: 1.5878, val_loss: 1.6271, val_acc: 0.8334\n",
      "Epoch [277], train_loss: 1.5909, val_loss: 1.6437, val_acc: 0.8184\n",
      "Epoch [278], train_loss: 1.5866, val_loss: 1.6415, val_acc: 0.8190\n",
      "Epoch [279], train_loss: 1.5871, val_loss: 1.6255, val_acc: 0.8380\n",
      "Epoch [280], train_loss: 1.5848, val_loss: 1.6189, val_acc: 0.8425\n",
      "Epoch [281], train_loss: 1.5849, val_loss: 1.6153, val_acc: 0.8486\n",
      "Epoch [282], train_loss: 1.5830, val_loss: 1.6306, val_acc: 0.8315\n",
      "Epoch [283], train_loss: 1.5835, val_loss: 1.6176, val_acc: 0.8431\n",
      "Epoch [284], train_loss: 1.5809, val_loss: 1.6161, val_acc: 0.8464\n",
      "Epoch [285], train_loss: 1.5806, val_loss: 1.6163, val_acc: 0.8456\n",
      "Epoch [286], train_loss: 1.5792, val_loss: 1.6241, val_acc: 0.8388\n",
      "Epoch [287], train_loss: 1.5804, val_loss: 1.6329, val_acc: 0.8294\n",
      "Epoch [288], train_loss: 1.5795, val_loss: 1.6152, val_acc: 0.8465\n",
      "Epoch [289], train_loss: 1.5764, val_loss: 1.6194, val_acc: 0.8420\n",
      "Epoch [290], train_loss: 1.5803, val_loss: 1.6180, val_acc: 0.8445\n",
      "Epoch [291], train_loss: 1.5788, val_loss: 1.6363, val_acc: 0.8242\n",
      "Epoch [292], train_loss: 1.5739, val_loss: 1.6166, val_acc: 0.8451\n",
      "Epoch [293], train_loss: 1.5754, val_loss: 1.6321, val_acc: 0.8298\n",
      "Epoch [294], train_loss: 1.5729, val_loss: 1.6390, val_acc: 0.8212\n",
      "Epoch [295], train_loss: 1.5725, val_loss: 1.6085, val_acc: 0.8533\n",
      "Epoch [296], train_loss: 1.5724, val_loss: 1.6128, val_acc: 0.8483\n",
      "Epoch [297], train_loss: 1.5727, val_loss: 1.6163, val_acc: 0.8470\n",
      "Epoch [298], train_loss: 1.5689, val_loss: 1.6122, val_acc: 0.8501\n",
      "Epoch [299], train_loss: 1.5699, val_loss: 1.6109, val_acc: 0.8505\n",
      "Epoch [300], train_loss: 1.5678, val_loss: 1.6206, val_acc: 0.8417\n",
      "Epoch [301], train_loss: 1.5675, val_loss: 1.6110, val_acc: 0.8503\n",
      "Epoch [302], train_loss: 1.5681, val_loss: 1.6105, val_acc: 0.8502\n",
      "Epoch [303], train_loss: 1.5679, val_loss: 1.6170, val_acc: 0.8446\n",
      "Epoch [304], train_loss: 1.5659, val_loss: 1.6187, val_acc: 0.8420\n",
      "Epoch [305], train_loss: 1.5642, val_loss: 1.6169, val_acc: 0.8448\n",
      "Epoch [306], train_loss: 1.5644, val_loss: 1.6167, val_acc: 0.8432\n",
      "Epoch [307], train_loss: 1.5627, val_loss: 1.6161, val_acc: 0.8460\n",
      "Epoch [308], train_loss: 1.5626, val_loss: 1.6133, val_acc: 0.8495\n",
      "Epoch [309], train_loss: 1.5614, val_loss: 1.6005, val_acc: 0.8608\n",
      "Epoch [310], train_loss: 1.5606, val_loss: 1.6175, val_acc: 0.8437\n",
      "Epoch [311], train_loss: 1.5595, val_loss: 1.6169, val_acc: 0.8436\n",
      "Epoch [312], train_loss: 1.5568, val_loss: 1.6129, val_acc: 0.8482\n",
      "Epoch [313], train_loss: 1.5579, val_loss: 1.6017, val_acc: 0.8592\n",
      "Epoch [314], train_loss: 1.5576, val_loss: 1.6182, val_acc: 0.8443\n",
      "Epoch [315], train_loss: 1.5559, val_loss: 1.6064, val_acc: 0.8555\n",
      "Epoch [316], train_loss: 1.5558, val_loss: 1.6080, val_acc: 0.8538\n",
      "Epoch [317], train_loss: 1.5539, val_loss: 1.6030, val_acc: 0.8579\n",
      "Epoch [318], train_loss: 1.5534, val_loss: 1.6159, val_acc: 0.8456\n",
      "Epoch [319], train_loss: 1.5514, val_loss: 1.6095, val_acc: 0.8528\n",
      "Epoch [320], train_loss: 1.5513, val_loss: 1.6168, val_acc: 0.8457\n",
      "Epoch [321], train_loss: 1.5517, val_loss: 1.5989, val_acc: 0.8626\n",
      "Epoch [322], train_loss: 1.5481, val_loss: 1.6037, val_acc: 0.8572\n",
      "Epoch [323], train_loss: 1.5506, val_loss: 1.6067, val_acc: 0.8552\n",
      "Epoch [324], train_loss: 1.5497, val_loss: 1.6017, val_acc: 0.8613\n",
      "Epoch [325], train_loss: 1.5480, val_loss: 1.6013, val_acc: 0.8606\n",
      "Epoch [326], train_loss: 1.5461, val_loss: 1.6243, val_acc: 0.8374\n",
      "Epoch [327], train_loss: 1.5461, val_loss: 1.6043, val_acc: 0.8583\n",
      "Epoch [328], train_loss: 1.5453, val_loss: 1.6064, val_acc: 0.8556\n",
      "Epoch [329], train_loss: 1.5456, val_loss: 1.6022, val_acc: 0.8596\n",
      "Epoch [330], train_loss: 1.5428, val_loss: 1.5981, val_acc: 0.8621\n",
      "Epoch [331], train_loss: 1.5419, val_loss: 1.6011, val_acc: 0.8597\n",
      "Epoch [332], train_loss: 1.5420, val_loss: 1.6091, val_acc: 0.8517\n",
      "Epoch [333], train_loss: 1.5407, val_loss: 1.6000, val_acc: 0.8616\n",
      "Epoch [334], train_loss: 1.5404, val_loss: 1.5986, val_acc: 0.8646\n",
      "Epoch [335], train_loss: 1.5404, val_loss: 1.6022, val_acc: 0.8586\n",
      "Epoch [336], train_loss: 1.5391, val_loss: 1.6268, val_acc: 0.8338\n",
      "Epoch [337], train_loss: 1.5381, val_loss: 1.6077, val_acc: 0.8533\n",
      "Epoch [338], train_loss: 1.5377, val_loss: 1.6012, val_acc: 0.8608\n",
      "Epoch [339], train_loss: 1.5373, val_loss: 1.6101, val_acc: 0.8523\n",
      "Epoch [340], train_loss: 1.5367, val_loss: 1.5975, val_acc: 0.8637\n",
      "Epoch [341], train_loss: 1.5366, val_loss: 1.6057, val_acc: 0.8545\n",
      "Epoch [342], train_loss: 1.5339, val_loss: 1.5957, val_acc: 0.8662\n",
      "Epoch [343], train_loss: 1.5339, val_loss: 1.6055, val_acc: 0.8560\n",
      "Epoch [344], train_loss: 1.5327, val_loss: 1.6113, val_acc: 0.8484\n",
      "Epoch [345], train_loss: 1.5322, val_loss: 1.5982, val_acc: 0.8638\n",
      "Epoch [346], train_loss: 1.5320, val_loss: 1.6169, val_acc: 0.8453\n",
      "Epoch [347], train_loss: 1.5310, val_loss: 1.6218, val_acc: 0.8395\n",
      "Epoch [348], train_loss: 1.5300, val_loss: 1.6185, val_acc: 0.8417\n",
      "Epoch [349], train_loss: 1.5300, val_loss: 1.6122, val_acc: 0.8495\n",
      "Epoch [350], train_loss: 1.5296, val_loss: 1.6067, val_acc: 0.8551\n",
      "Epoch [351], train_loss: 1.5272, val_loss: 1.6100, val_acc: 0.8513\n",
      "Epoch [352], train_loss: 1.5278, val_loss: 1.6099, val_acc: 0.8524\n",
      "Epoch [353], train_loss: 1.5272, val_loss: 1.6111, val_acc: 0.8505\n",
      "Epoch [354], train_loss: 1.5262, val_loss: 1.6010, val_acc: 0.8617\n",
      "Epoch [355], train_loss: 1.5251, val_loss: 1.6060, val_acc: 0.8569\n",
      "Epoch [356], train_loss: 1.5246, val_loss: 1.6120, val_acc: 0.8498\n",
      "Epoch [357], train_loss: 1.5252, val_loss: 1.6052, val_acc: 0.8564\n",
      "Epoch [358], train_loss: 1.5232, val_loss: 1.6054, val_acc: 0.8575\n",
      "Epoch [359], train_loss: 1.5235, val_loss: 1.6016, val_acc: 0.8599\n",
      "Epoch [360], train_loss: 1.5231, val_loss: 1.6029, val_acc: 0.8582\n",
      "Epoch [361], train_loss: 1.5227, val_loss: 1.6011, val_acc: 0.8599\n",
      "Epoch [362], train_loss: 1.5233, val_loss: 1.6025, val_acc: 0.8585\n",
      "Epoch [363], train_loss: 1.5211, val_loss: 1.6099, val_acc: 0.8502\n",
      "Epoch [364], train_loss: 1.5219, val_loss: 1.6089, val_acc: 0.8543\n",
      "Epoch [365], train_loss: 1.5220, val_loss: 1.6032, val_acc: 0.8587\n",
      "Epoch [366], train_loss: 1.5217, val_loss: 1.6028, val_acc: 0.8589\n",
      "Epoch [367], train_loss: 1.5201, val_loss: 1.6020, val_acc: 0.8600\n",
      "Epoch [368], train_loss: 1.5195, val_loss: 1.6032, val_acc: 0.8599\n",
      "Epoch [369], train_loss: 1.5201, val_loss: 1.6030, val_acc: 0.8585\n",
      "Epoch [370], train_loss: 1.5198, val_loss: 1.6029, val_acc: 0.8597\n",
      "Epoch [371], train_loss: 1.5192, val_loss: 1.6026, val_acc: 0.8609\n",
      "Epoch [372], train_loss: 1.5185, val_loss: 1.5981, val_acc: 0.8643\n",
      "Epoch [373], train_loss: 1.5187, val_loss: 1.6030, val_acc: 0.8600\n",
      "Epoch [374], train_loss: 1.5182, val_loss: 1.6105, val_acc: 0.8511\n",
      "Epoch [375], train_loss: 1.5169, val_loss: 1.6035, val_acc: 0.8591\n",
      "Epoch [376], train_loss: 1.5177, val_loss: 1.6063, val_acc: 0.8560\n",
      "Epoch [377], train_loss: 1.5160, val_loss: 1.6121, val_acc: 0.8490\n",
      "Epoch [378], train_loss: 1.5167, val_loss: 1.6026, val_acc: 0.8595\n",
      "Epoch [379], train_loss: 1.5168, val_loss: 1.6040, val_acc: 0.8592\n",
      "Epoch [380], train_loss: 1.5173, val_loss: 1.6006, val_acc: 0.8620\n",
      "Epoch [381], train_loss: 1.5157, val_loss: 1.6057, val_acc: 0.8554\n",
      "Epoch [382], train_loss: 1.5157, val_loss: 1.6107, val_acc: 0.8505\n",
      "Epoch [383], train_loss: 1.5156, val_loss: 1.6007, val_acc: 0.8609\n",
      "Epoch [384], train_loss: 1.5167, val_loss: 1.6052, val_acc: 0.8569\n",
      "Epoch [385], train_loss: 1.5156, val_loss: 1.6077, val_acc: 0.8546\n",
      "Epoch [386], train_loss: 1.5155, val_loss: 1.6023, val_acc: 0.8607\n",
      "Epoch [387], train_loss: 1.5150, val_loss: 1.6013, val_acc: 0.8614\n",
      "Epoch [388], train_loss: 1.5146, val_loss: 1.6030, val_acc: 0.8596\n",
      "Epoch [389], train_loss: 1.5155, val_loss: 1.6043, val_acc: 0.8572\n",
      "Epoch [390], train_loss: 1.5152, val_loss: 1.6085, val_acc: 0.8545\n",
      "Epoch [391], train_loss: 1.5150, val_loss: 1.6084, val_acc: 0.8548\n",
      "Epoch [392], train_loss: 1.5151, val_loss: 1.6073, val_acc: 0.8535\n",
      "Epoch [393], train_loss: 1.5146, val_loss: 1.6038, val_acc: 0.8576\n",
      "Epoch [394], train_loss: 1.5147, val_loss: 1.6033, val_acc: 0.8588\n",
      "Epoch [395], train_loss: 1.5159, val_loss: 1.6068, val_acc: 0.8555\n",
      "Epoch [396], train_loss: 1.5145, val_loss: 1.6057, val_acc: 0.8568\n",
      "Epoch [397], train_loss: 1.5148, val_loss: 1.6121, val_acc: 0.8508\n",
      "Epoch [398], train_loss: 1.5141, val_loss: 1.6039, val_acc: 0.8586\n",
      "Epoch [399], train_loss: 1.5147, val_loss: 1.6060, val_acc: 0.8563\n",
      "CPU times: user 1h 16min 31s, sys: 18min 52s, total: 1h 35min 24s\n",
      "Wall time: 1h 40min 33s\n"
     ]
    }
   ],
   "source": [
    "%%time\n",
    "history += fit_one_cycle(epochs, max_lr, model, train_dl, valid_dl, \n",
    "                             grad_clip=grad_clip, \n",
    "                             weight_decay=weight_decay, \n",
    "                             opt_func=opt_func)"
   ]
  },
  {
   "cell_type": "code",
   "execution_count": 23,
   "metadata": {
    "id": "jvJzQAeNjB6Y"
   },
   "outputs": [],
   "source": [
    "def plot_accuracies(history):\n",
    "    accuracies = [x['val_acc'] for x in history]\n",
    "    plt.figure(figsize=(10,6))\n",
    "    plt.plot(accuracies, '-x')\n",
    "    plt.xlabel('epoch')\n",
    "    plt.ylabel('accuracy')\n",
    "    plt.title('Accuracy vs. No. of epochs');"
   ]
  },
  {
   "cell_type": "code",
   "execution_count": 24,
   "metadata": {
    "colab": {
     "base_uri": "https://localhost:8080/",
     "height": 171
    },
    "id": "fYuANPlfjIvt",
    "outputId": "08453f89-0933-4bd9-e02a-d760aad8714f"
   },
   "outputs": [
    {
     "data": {
      "image/png": "[encoded data removed]",
      "text/plain": [
       "<Figure size 720x432 with 1 Axes>"
      ]
     },
     "metadata": {
      "needs_background": "light"
     },
     "output_type": "display_data"
    }
   ],
   "source": [
    "plot_accuracies(history)"
   ]
  },
  {
   "cell_type": "code",
   "execution_count": 25,
   "metadata": {
    "id": "JV6cn39HjTF-"
   },
   "outputs": [],
   "source": [
    "def plot_losses(history):\n",
    "    train_losses = [x.get('train_loss') for x in history]\n",
    "    val_losses = [x['val_loss'] for x in history]\n",
    "    plt.figure(figsize=(10,6))\n",
    "    plt.plot(train_losses, '-bx')\n",
    "    plt.plot(val_losses, '-rx')\n",
    "    plt.xlabel('epoch')\n",
    "    plt.ylabel('loss')\n",
    "    plt.legend(['Training', 'Validation'])\n",
    "    plt.title('Loss vs. No. of epochs');"
   ]
  },
  {
   "cell_type": "code",
   "execution_count": 26,
   "metadata": {
    "colab": {
     "base_uri": "https://localhost:8080/",
     "height": 171
    },
    "id": "kuky-BEDjUw_",
    "outputId": "e33b1eb9-e7c7-483d-829a-75bce6a074ae"
   },
   "outputs": [
    {
     "data": {
      "image/png": "[encoded data removed]",
      "text/plain": [
       "<Figure size 720x432 with 1 Axes>"
      ]
     },
     "metadata": {
      "needs_background": "light"
     },
     "output_type": "display_data"
    }
   ],
   "source": [
    "plot_losses(history)"
   ]
  },
  {
   "cell_type": "code",
   "execution_count": 27,
   "metadata": {
    "id": "ToUcs2S6jZl_"
   },
   "outputs": [],
   "source": [
    "def plot_lrs(history):\n",
    "    lrs = np.concatenate([x.get('lrs', []) for x in history])\n",
    "    plt.figure(figsize=(10,6))\n",
    "    plt.plot(lrs)\n",
    "    plt.xlabel('Batch no.')\n",
    "    plt.ylabel('Learning rate')\n",
    "    plt.title('Learning Rate vs. Batch no.');"
   ]
  },
  {
   "cell_type": "code",
   "execution_count": 28,
   "metadata": {
    "colab": {
     "base_uri": "https://localhost:8080/",
     "height": 171
    },
    "id": "V1ao5oIJjboF",
    "outputId": "23d3a338-12ab-42be-b2de-8a2b3d55ccae"
   },
   "outputs": [
    {
     "data": {
      "image/png": "[encoded data removed]",
      "text/plain": [
       "<Figure size 720x432 with 1 Axes>"
      ]
     },
     "metadata": {
      "needs_background": "light"
     },
     "output_type": "display_data"
    }
   ],
   "source": [
    "plot_lrs(history)"
   ]
  }
 ],
 "metadata": {
  "accelerator": "GPU",
  "colab": {
   "collapsed_sections": [],
   "include_colab_link": true,
   "name": "kaggle94gpu.ipynb",
   "provenance": []
  },
  "kernelspec": {
   "display_name": "Python 3",
   "language": "python",
   "name": "python3"
  },
  "language_info": {
   "codemirror_mode": {
    "name": "ipython",
    "version": 3
   },
   "file_extension": ".py",
   "mimetype": "text/x-python",
   "name": "python",
   "nbconvert_exporter": "python",
   "pygments_lexer": "ipython3",
   "version": "3.6.9"
  },
  "widgets": {
   "application/vnd.jupyter.widget-state+json": {
    "0433c9c034b7466a98118f517c9ae2e8": {
     "model_module": "@jupyter-widgets/base",
     "model_module_version": "1.2.0",
     "model_name": "LayoutModel",
     "state": {
      "_model_module": "@jupyter-widgets/base",
      "_model_module_version": "1.2.0",
      "_model_name": "LayoutModel",
      "_view_count": null,
      "_view_module": "@jupyter-widgets/base",
      "_view_module_version": "1.2.0",
      "_view_name": "LayoutView",
      "align_content": null,
      "align_items": null,
      "align_self": null,
      "border": null,
      "bottom": null,
      "display": null,
      "flex": null,
      "flex_flow": null,
      "grid_area": null,
      "grid_auto_columns": null,
      "grid_auto_flow": null,
      "grid_auto_rows": null,
      "grid_column": null,
      "grid_gap": null,
      "grid_row": null,
      "grid_template_areas": null,
      "grid_template_columns": null,
      "grid_template_rows": null,
      "height": null,
      "justify_content": null,
      "justify_items": null,
      "left": null,
      "margin": null,
      "max_height": null,
      "max_width": null,
      "min_height": null,
      "min_width": null,
      "object_fit": null,
      "object_position": null,
      "order": null,
      "overflow": null,
      "overflow_x": null,
      "overflow_y": null,
      "padding": null,
      "right": null,
      "top": null,
      "visibility": null,
      "width": null
     }
    },
    "29225a4d667e47f980b33c95c0850d16": {
     "model_module": "@jupyter-widgets/controls",
     "model_module_version": "1.5.0",
     "model_name": "DescriptionStyleModel",
     "state": {
      "_model_module": "@jupyter-widgets/controls",
      "_model_module_version": "1.5.0",
      "_model_name": "DescriptionStyleModel",
      "_view_count": null,
      "_view_module": "@jupyter-widgets/base",
      "_view_module_version": "1.2.0",
      "_view_name": "StyleView",
      "description_width": ""
     }
    },
    "350d156265104e2296caf536b05d26cc": {
     "model_module": "@jupyter-widgets/controls",
     "model_module_version": "1.5.0",
     "model_name": "FloatProgressModel",
     "state": {
      "_dom_classes": [],
      "_model_module": "@jupyter-widgets/controls",
      "_model_module_version": "1.5.0",
      "_model_name": "FloatProgressModel",
      "_view_count": null,
      "_view_module": "@jupyter-widgets/controls",
      "_view_module_version": "1.5.0",
      "_view_name": "ProgressView",
      "bar_style": "success",
      "description": "",
      "description_tooltip": null,
      "layout": "IPY_MODEL_9ae1047b1b184d81bde7c14ca6ad72d5",
      "max": 170498071,
      "min": 0,
      "orientation": "horizontal",
      "style": "IPY_MODEL_37da94684df543f3a81fe78c389f68dc",
      "value": 170498071
     }
    },
    "37da94684df543f3a81fe78c389f68dc": {
     "model_module": "@jupyter-widgets/controls",
     "model_module_version": "1.5.0",
     "model_name": "ProgressStyleModel",
     "state": {
      "_model_module": "@jupyter-widgets/controls",
      "_model_module_version": "1.5.0",
      "_model_name": "ProgressStyleModel",
      "_view_count": null,
      "_view_module": "@jupyter-widgets/base",
      "_view_module_version": "1.2.0",
      "_view_name": "StyleView",
      "bar_color": null,
      "description_width": ""
     }
    },
    "40b5952c97aa40169739936f0d549d02": {
     "model_module": "@jupyter-widgets/controls",
     "model_module_version": "1.5.0",
     "model_name": "HTMLModel",
     "state": {
      "_dom_classes": [],
      "_model_module": "@jupyter-widgets/controls",
      "_model_module_version": "1.5.0",
      "_model_name": "HTMLModel",
      "_view_count": null,
      "_view_module": "@jupyter-widgets/controls",
      "_view_module_version": "1.5.0",
      "_view_name": "HTMLView",
      "description": "",
      "description_tooltip": null,
      "layout": "IPY_MODEL_0433c9c034b7466a98118f517c9ae2e8",
      "placeholder": "​",
      "style": "IPY_MODEL_fb9ab6c5d81f48089ac0d9dc03c72e6b",
      "value": " 170499072/? [00:02&lt;00:00, 62626240.17it/s]"
     }
    },
    "4c7fbb2405c84d7887d63fd6217cba4a": {
     "model_module": "@jupyter-widgets/controls",
     "model_module_version": "1.5.0",
     "model_name": "HTMLModel",
     "state": {
      "_dom_classes": [],
      "_model_module": "@jupyter-widgets/controls",
      "_model_module_version": "1.5.0",
      "_model_name": "HTMLModel",
      "_view_count": null,
      "_view_module": "@jupyter-widgets/controls",
      "_view_module_version": "1.5.0",
      "_view_name": "HTMLView",
      "description": "",
      "description_tooltip": null,
      "layout": "IPY_MODEL_a448b41c426a4810a07d5eb92df1bc21",
      "placeholder": "​",
      "style": "IPY_MODEL_29225a4d667e47f980b33c95c0850d16",
      "value": ""
     }
    },
    "50c9aed288f14fcd94009217a59c91ff": {
     "model_module": "@jupyter-widgets/base",
     "model_module_version": "1.2.0",
     "model_name": "LayoutModel",
     "state": {
      "_model_module": "@jupyter-widgets/base",
      "_model_module_version": "1.2.0",
      "_model_name": "LayoutModel",
      "_view_count": null,
      "_view_module": "@jupyter-widgets/base",
      "_view_module_version": "1.2.0",
      "_view_name": "LayoutView",
      "align_content": null,
      "align_items": null,
      "align_self": null,
      "border": null,
      "bottom": null,
      "display": null,
      "flex": null,
      "flex_flow": null,
      "grid_area": null,
      "grid_auto_columns": null,
      "grid_auto_flow": null,
      "grid_auto_rows": null,
      "grid_column": null,
      "grid_gap": null,
      "grid_row": null,
      "grid_template_areas": null,
      "grid_template_columns": null,
      "grid_template_rows": null,
      "height": null,
      "justify_content": null,
      "justify_items": null,
      "left": null,
      "margin": null,
      "max_height": null,
      "max_width": null,
      "min_height": null,
      "min_width": null,
      "object_fit": null,
      "object_position": null,
      "order": null,
      "overflow": null,
      "overflow_x": null,
      "overflow_y": null,
      "padding": null,
      "right": null,
      "top": null,
      "visibility": null,
      "width": null
     }
    },
    "9ae1047b1b184d81bde7c14ca6ad72d5": {
     "model_module": "@jupyter-widgets/base",
     "model_module_version": "1.2.0",
     "model_name": "LayoutModel",
     "state": {
      "_model_module": "@jupyter-widgets/base",
      "_model_module_version": "1.2.0",
      "_model_name": "LayoutModel",
      "_view_count": null,
      "_view_module": "@jupyter-widgets/base",
      "_view_module_version": "1.2.0",
      "_view_name": "LayoutView",
      "align_content": null,
      "align_items": null,
      "align_self": null,
      "border": null,
      "bottom": null,
      "display": null,
      "flex": null,
      "flex_flow": null,
      "grid_area": null,
      "grid_auto_columns": null,
      "grid_auto_flow": null,
      "grid_auto_rows": null,
      "grid_column": null,
      "grid_gap": null,
      "grid_row": null,
      "grid_template_areas": null,
      "grid_template_columns": null,
      "grid_template_rows": null,
      "height": null,
      "justify_content": null,
      "justify_items": null,
      "left": null,
      "margin": null,
      "max_height": null,
      "max_width": null,
      "min_height": null,
      "min_width": null,
      "object_fit": null,
      "object_position": null,
      "order": null,
      "overflow": null,
      "overflow_x": null,
      "overflow_y": null,
      "padding": null,
      "right": null,
      "top": null,
      "visibility": null,
      "width": null
     }
    },
    "a448b41c426a4810a07d5eb92df1bc21": {
     "model_module": "@jupyter-widgets/base",
     "model_module_version": "1.2.0",
     "model_name": "LayoutModel",
     "state": {
      "_model_module": "@jupyter-widgets/base",
      "_model_module_version": "1.2.0",
      "_model_name": "LayoutModel",
      "_view_count": null,
      "_view_module": "@jupyter-widgets/base",
      "_view_module_version": "1.2.0",
      "_view_name": "LayoutView",
      "align_content": null,
      "align_items": null,
      "align_self": null,
      "border": null,
      "bottom": null,
      "display": null,
      "flex": null,
      "flex_flow": null,
      "grid_area": null,
      "grid_auto_columns": null,
      "grid_auto_flow": null,
      "grid_auto_rows": null,
      "grid_column": null,
      "grid_gap": null,
      "grid_row": null,
      "grid_template_areas": null,
      "grid_template_columns": null,
      "grid_template_rows": null,
      "height": null,
      "justify_content": null,
      "justify_items": null,
      "left": null,
      "margin": null,
      "max_height": null,
      "max_width": null,
      "min_height": null,
      "min_width": null,
      "object_fit": null,
      "object_position": null,
      "order": null,
      "overflow": null,
      "overflow_x": null,
      "overflow_y": null,
      "padding": null,
      "right": null,
      "top": null,
      "visibility": null,
      "width": null
     }
    },
    "c974d31e436a42899adbf2ef969307a4": {
     "model_module": "@jupyter-widgets/controls",
     "model_module_version": "1.5.0",
     "model_name": "HBoxModel",
     "state": {
      "_dom_classes": [],
      "_model_module": "@jupyter-widgets/controls",
      "_model_module_version": "1.5.0",
      "_model_name": "HBoxModel",
      "_view_count": null,
      "_view_module": "@jupyter-widgets/controls",
      "_view_module_version": "1.5.0",
      "_view_name": "HBoxView",
      "box_style": "",
      "children": [
       "IPY_MODEL_4c7fbb2405c84d7887d63fd6217cba4a",
       "IPY_MODEL_350d156265104e2296caf536b05d26cc",
       "IPY_MODEL_40b5952c97aa40169739936f0d549d02"
      ],
      "layout": "IPY_MODEL_50c9aed288f14fcd94009217a59c91ff"
     }
    },
    "fb9ab6c5d81f48089ac0d9dc03c72e6b": {
     "model_module": "@jupyter-widgets/controls",
     "model_module_version": "1.5.0",
     "model_name": "DescriptionStyleModel",
     "state": {
      "_model_module": "@jupyter-widgets/controls",
      "_model_module_version": "1.5.0",
      "_model_name": "DescriptionStyleModel",
      "_view_count": null,
      "_view_module": "@jupyter-widgets/base",
      "_view_module_version": "1.2.0",
      "_view_name": "StyleView",
      "description_width": ""
     }
    }
   }
  }
 },
 "nbformat": 4,
 "nbformat_minor": 4
}
