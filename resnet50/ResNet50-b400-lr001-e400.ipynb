{
 "cells": [
  {
   "cell_type": "markdown",
   "metadata": {
    "colab_type": "text",
    "id": "view-in-github"
   },
   "source": [
    "<a href=\"https://colab.research.google.com/github/stanbsky/int2_image_classifier/blob/main/kaggle94gpu.ipynb\" target=\"_parent\"><img src=\"https://colab.research.google.com/assets/colab-badge.svg\" alt=\"Open In Colab\"/></a>"
   ]
  },
  {
   "cell_type": "code",
   "execution_count": 1,
   "metadata": {
    "id": "OD2wVFLtkbkN"
   },
   "outputs": [
    {
     "name": "stderr",
     "output_type": "stream",
     "text": [
      "Matplotlib created a temporary config/cache directory at /tmp/matplotlib-abxcwt8m because the default path (/run/user/141228/cache/matplotlib) is not a writable directory; it is highly recommended to set the MPLCONFIGDIR environment variable to a writable directory, in particular to speed up the import of Matplotlib and to better support multiprocessing.\n"
     ]
    }
   ],
   "source": [
    "# importing libraries\n",
    "import torch\n",
    "import torchvision\n",
    "from torchvision.datasets.utils import download_url\n",
    "from torch.utils.data import random_split\n",
    "from torchvision.datasets import ImageFolder\n",
    "from torchvision.transforms import ToTensor,ToPILImage\n",
    "import matplotlib.pyplot as plt\n",
    "from torchvision.utils import make_grid\n",
    "from torch.utils.data.dataloader import DataLoader\n",
    "from torchvision.utils import make_grid\n",
    "import torch.nn as nn\n",
    "import torch.nn.functional as F\n",
    "import torchvision.transforms as tt\n",
    "import numpy as np"
   ]
  },
  {
   "cell_type": "code",
   "execution_count": 2,
   "metadata": {
    "id": "Cea6yx4amG2c"
   },
   "outputs": [],
   "source": [
    "import torchvision.datasets as datasets"
   ]
  },
  {
   "cell_type": "code",
   "execution_count": 3,
   "metadata": {
    "colab": {
     "base_uri": "https://localhost:8080/"
    },
    "id": "efdLf1xLk5_y",
    "outputId": "dd7073c3-3026-4d75-eee6-e0425ce35d3e"
   },
   "outputs": [
    {
     "data": {
      "text/plain": [
       "<weakproxy at 0x7f9bc0ee4228 to Device at 0x7f9bc0f5ab00>"
      ]
     },
     "execution_count": 3,
     "metadata": {},
     "output_type": "execute_result"
    }
   ],
   "source": [
    "from numba import cuda\n",
    "cuda.select_device(7)"
   ]
  },
  {
   "cell_type": "code",
   "execution_count": 4,
   "metadata": {
    "id": "hNiNZttPlHFe"
   },
   "outputs": [],
   "source": [
    "stats= ((0.4914,0.4822,0.4465),(0.2023,0.1994,0.2010)) #mean and std\n",
    "train_tfm= tt.Compose([tt.RandomCrop(32, padding=4, padding_mode='reflect'), # transormation of data together\n",
    "                       tt.RandomHorizontalFlip(),\n",
    "                       tt.ToTensor()])\n",
    "valid_tfm = tt.Compose([tt.ToTensor()])"
   ]
  },
  {
   "cell_type": "code",
   "execution_count": 5,
   "metadata": {
    "colab": {
     "base_uri": "https://localhost:8080/",
     "height": 86,
     "referenced_widgets": [
      "c974d31e436a42899adbf2ef969307a4",
      "4c7fbb2405c84d7887d63fd6217cba4a",
      "350d156265104e2296caf536b05d26cc",
      "40b5952c97aa40169739936f0d549d02",
      "50c9aed288f14fcd94009217a59c91ff",
      "a448b41c426a4810a07d5eb92df1bc21",
      "29225a4d667e47f980b33c95c0850d16",
      "9ae1047b1b184d81bde7c14ca6ad72d5",
      "37da94684df543f3a81fe78c389f68dc",
      "0433c9c034b7466a98118f517c9ae2e8",
      "fb9ab6c5d81f48089ac0d9dc03c72e6b"
     ]
    },
    "id": "pxotEy_Al0J4",
    "outputId": "90e7b090-0622-4775-fcfa-39958472aa7c"
   },
   "outputs": [
    {
     "name": "stdout",
     "output_type": "stream",
     "text": [
      "Files already downloaded and verified\n"
     ]
    }
   ],
   "source": [
    "training_data = datasets.CIFAR10(\n",
    "    root=\"data\",\n",
    "    train=True,\n",
    "    download=True,\n",
    "    transform=train_tfm,\n",
    ")"
   ]
  },
  {
   "cell_type": "code",
   "execution_count": 6,
   "metadata": {
    "colab": {
     "base_uri": "https://localhost:8080/"
    },
    "id": "3HUIV5yKmj4F",
    "outputId": "96675fe3-76e5-4e9f-9bc2-14b1d389996f"
   },
   "outputs": [
    {
     "name": "stdout",
     "output_type": "stream",
     "text": [
      "Files already downloaded and verified\n"
     ]
    }
   ],
   "source": [
    "# Download test data from open datasets.\n",
    "test_data = datasets.CIFAR10(\n",
    "    root=\"data\",\n",
    "    train=False,\n",
    "    download=True,\n",
    "    transform=valid_tfm,\n",
    ")"
   ]
  },
  {
   "cell_type": "code",
   "execution_count": 7,
   "metadata": {
    "colab": {
     "base_uri": "https://localhost:8080/"
    },
    "id": "3eOTjMVem_T9",
    "outputId": "c3a532da-260b-4bd9-baef-144d73c92f92"
   },
   "outputs": [
    {
     "data": {
      "text/plain": [
       "Dataset CIFAR10\n",
       "    Number of datapoints: 50000\n",
       "    Root location: data\n",
       "    Split: Train\n",
       "    StandardTransform\n",
       "Transform: Compose(\n",
       "               RandomCrop(size=(32, 32), padding=4)\n",
       "               RandomHorizontalFlip(p=0.5)\n",
       "               ToTensor()\n",
       "           )"
      ]
     },
     "execution_count": 7,
     "metadata": {},
     "output_type": "execute_result"
    }
   ],
   "source": [
    "valid_ds = test_data\n",
    "train_ds = training_data\n",
    "train_ds"
   ]
  },
  {
   "cell_type": "code",
   "execution_count": 8,
   "metadata": {
    "id": "JAFQAJUVr7U2"
   },
   "outputs": [],
   "source": [
    "def show_image(img,label):\n",
    "    print('Label: ', train_ds.classes[label],\"(\"+str(label)+\")\")\n",
    "    plt.imshow(img.permute(1,2,0))"
   ]
  },
  {
   "cell_type": "code",
   "execution_count": 9,
   "metadata": {
    "id": "tj5jXuuBri6o"
   },
   "outputs": [],
   "source": [
    "batch_size=400"
   ]
  },
  {
   "cell_type": "code",
   "execution_count": 10,
   "metadata": {
    "id": "n4kCM-hare00"
   },
   "outputs": [],
   "source": [
    "# Dataloader to load data in batches(mini batch)\n",
    "train_dl= DataLoader(train_ds,batch_size,shuffle=True, num_workers=2, pin_memory=True)\n",
    "valid_dl= DataLoader(valid_ds, batch_size, num_workers=2,pin_memory=True)"
   ]
  },
  {
   "cell_type": "code",
   "execution_count": 11,
   "metadata": {
    "id": "mcfsy3QptG2Y"
   },
   "outputs": [],
   "source": [
    "def show_batch(dl):\n",
    "    for images, labels in dl:\n",
    "        fig,ax= plt.subplots(figsize=(12,12))\n",
    "        ax.set_xticks([]) #hide ticks\n",
    "        ax.set_yticks([])\n",
    "        ax.imshow(make_grid(images[:64],nrow=8).permute(1,2,0))\n",
    "        break # printing only first 64 images from first batch"
   ]
  },
  {
   "cell_type": "code",
   "execution_count": 12,
   "metadata": {
    "id": "lPVFZltRtXt4"
   },
   "outputs": [],
   "source": [
    "def get_default_device():\n",
    "    \"\"\"Pick GPU if available, else CPU\"\"\"\n",
    "    if torch.cuda.is_available():\n",
    "        return torch.device('cuda')\n",
    "    else:\n",
    "        return torch.device('cpu')\n",
    "    \n",
    "def to_device(data, device):\n",
    "    \"\"\"Move tensor(s) to chosen device\"\"\"\n",
    "    if isinstance(data, (list,tuple)):\n",
    "        return [to_device(x, device) for x in data]\n",
    "    return data.to(device, non_blocking=True)\n",
    "\n",
    "class DeviceDataLoader():\n",
    "    \"\"\"Wrap a dataloader to move data to a device\"\"\"\n",
    "    def __init__(self, dl, device):\n",
    "        self.dl = dl\n",
    "        self.device = device\n",
    "        \n",
    "    def __iter__(self):\n",
    "        \"\"\"Yield a batch of data after moving it to device\"\"\"\n",
    "        for b in self.dl: \n",
    "            yield to_device(b, self.device)\n",
    "\n",
    "    def __len__(self):\n",
    "        \"\"\"Number of batches\"\"\"\n",
    "        return len(self.dl)"
   ]
  },
  {
   "cell_type": "code",
   "execution_count": 13,
   "metadata": {
    "colab": {
     "base_uri": "https://localhost:8080/"
    },
    "id": "SOksgE3wtYwZ",
    "outputId": "a9fb69e1-9e00-4139-d791-b7c305a7941a"
   },
   "outputs": [
    {
     "data": {
      "text/plain": [
       "device(type='cuda')"
      ]
     },
     "execution_count": 13,
     "metadata": {},
     "output_type": "execute_result"
    }
   ],
   "source": [
    "device = get_default_device()\n",
    "device"
   ]
  },
  {
   "cell_type": "code",
   "execution_count": 14,
   "metadata": {
    "id": "hfVlteXctb6f"
   },
   "outputs": [],
   "source": [
    "train_dl= DeviceDataLoader(train_dl,device)\n",
    "valid_dl = DeviceDataLoader(valid_dl, device)"
   ]
  },
  {
   "cell_type": "code",
   "execution_count": 15,
   "metadata": {
    "id": "PLmLZHBqtlF_"
   },
   "outputs": [],
   "source": [
    "def accuracy(outputs, labels):\n",
    "    _, preds = torch.max(outputs, dim=1)\n",
    "    return torch.tensor(torch.sum(preds == labels).item() / len(preds))\n",
    "\n",
    "class ImageClassificationBase(nn.Module):\n",
    "    def training_step(self, batch):\n",
    "        images, labels = batch \n",
    "        out = self(images)                  # Generate predictions\n",
    "        loss = F.cross_entropy(out, labels) # Calculate loss\n",
    "        return loss\n",
    "    \n",
    "    def validation_step(self, batch):\n",
    "        images, labels = batch \n",
    "        out = self(images)                    # Generate predictions\n",
    "        loss = F.cross_entropy(out, labels)   # Calculate loss\n",
    "        acc = accuracy(out, labels)           # Calculate accuracy\n",
    "        return {'val_loss': loss.detach(), 'val_acc': acc}\n",
    "        \n",
    "    def validation_epoch_end(self, outputs):\n",
    "        batch_losses = [x['val_loss'] for x in outputs]\n",
    "        epoch_loss = torch.stack(batch_losses).mean()   # Combine losses\n",
    "        batch_accs = [x['val_acc'] for x in outputs]\n",
    "        epoch_acc = torch.stack(batch_accs).mean()      # Combine accuracies\n",
    "        return {'val_loss': epoch_loss.item(), 'val_acc': epoch_acc.item()}\n",
    "    \n",
    "    def epoch_end(self, epoch, result):\n",
    "        print(\"Epoch [{}], train_loss: {:.4f}, val_loss: {:.4f}, val_acc: {:.4f}\".format(\n",
    "            epoch, result['train_loss'], result['val_loss'], result['val_acc']))"
   ]
  },
  {
   "cell_type": "code",
   "execution_count": 16,
   "metadata": {
    "id": "LcaZkKzQtomv"
   },
   "outputs": [],
   "source": [
    "def conv_block(in_channels, out_channels, stride=1):\n",
    "    layers = [nn.Conv2d(in_channels, out_channels, kernel_size=3, padding=1, stride=stride), \n",
    "              nn.BatchNorm2d(out_channels), \n",
    "              nn.ReLU(inplace=True)]\n",
    "    return nn.Sequential(*layers)\n",
    "\n",
    "def shortcut(in_channels, out_channels):\n",
    "    return nn.Conv2d(in_channels, out_channels, kernel_size=3, padding=1, stride=2)\n",
    "\n",
    "class ResNet(ImageClassificationBase):\n",
    "    def __init__(self, in_channels, num_classes, n):\n",
    "        super().__init__()\n",
    "        \n",
    "        self.n = n\n",
    "        \n",
    "        # 32x32 map\n",
    "        self.conv1 = conv_block(in_channels, 16)\n",
    "        self.reg32 = nn.Sequential(conv_block(16,16), conv_block(16,16))\n",
    "        \n",
    "        # 16x16 map\n",
    "        self.entry16 = nn.Sequential(conv_block(16, 32, stride=2), conv_block(32, 32))\n",
    "        self.short16 = shortcut(16, 32)\n",
    "        self.reg16 = nn.Sequential(conv_block(32, 32), conv_block(32, 32))\n",
    "        \n",
    "        # 8x8 map\n",
    "        self.entry8 = nn.Sequential(conv_block(32, 64, stride=2), conv_block(64, 64))\n",
    "        self.short8 = shortcut(32, 64)\n",
    "        self.reg8 = nn.Sequential(conv_block(64, 64), conv_block(64, 64))\n",
    "        \n",
    "        self.classifier = nn.Sequential(nn.AvgPool2d(kernel_size=8, stride=None, padding=0), \n",
    "                                        nn.Linear(64, num_classes),\n",
    "                                       nn.Softmax())\n",
    "        # FOR DEBUGGING\n",
    "        self.avg = nn.AvgPool2d(kernel_size=8, stride=None, padding=0)\n",
    "        self.flat = nn.Flatten()\n",
    "        self.fcl = nn.Linear(64, num_classes)\n",
    "        self.sm = nn.Softmax()\n",
    "        \n",
    "    def forward(self, xb):\n",
    "        out = self.conv1(xb)\n",
    "        \n",
    "        for i in range(self.n):\n",
    "            out = self.reg32(out) + out\n",
    "            \n",
    "        out = self.entry16(out) + self.short16(out)\n",
    "        for i in range(self.n - 1):\n",
    "            out = self.reg16(out) + out\n",
    "            \n",
    "        out = self.entry8(out) + self.short8(out)\n",
    "        for i in range(self.n - 1):\n",
    "            out = self.reg8(out) + out\n",
    "\n",
    "        #out = self.classifier(out)\n",
    "        out = self.avg(out)\n",
    "        out = self.flat(out)\n",
    "        out = self.fcl(out)\n",
    "        out = self.sm(out)\n",
    "        \n",
    "        return out"
   ]
  },
  {
   "cell_type": "code",
   "execution_count": 17,
   "metadata": {
    "colab": {
     "base_uri": "https://localhost:8080/"
    },
    "id": "O8BOig0Otrjz",
    "outputId": "a40ce9a4-8852-4595-9525-9841221a3391"
   },
   "outputs": [
    {
     "data": {
      "text/plain": [
       "ResNet(\n",
       "  (conv1): Sequential(\n",
       "    (0): Conv2d(3, 16, kernel_size=(3, 3), stride=(1, 1), padding=(1, 1))\n",
       "    (1): BatchNorm2d(16, eps=1e-05, momentum=0.1, affine=True, track_running_stats=True)\n",
       "    (2): ReLU(inplace=True)\n",
       "  )\n",
       "  (reg32): Sequential(\n",
       "    (0): Sequential(\n",
       "      (0): Conv2d(16, 16, kernel_size=(3, 3), stride=(1, 1), padding=(1, 1))\n",
       "      (1): BatchNorm2d(16, eps=1e-05, momentum=0.1, affine=True, track_running_stats=True)\n",
       "      (2): ReLU(inplace=True)\n",
       "    )\n",
       "    (1): Sequential(\n",
       "      (0): Conv2d(16, 16, kernel_size=(3, 3), stride=(1, 1), padding=(1, 1))\n",
       "      (1): BatchNorm2d(16, eps=1e-05, momentum=0.1, affine=True, track_running_stats=True)\n",
       "      (2): ReLU(inplace=True)\n",
       "    )\n",
       "  )\n",
       "  (entry16): Sequential(\n",
       "    (0): Sequential(\n",
       "      (0): Conv2d(16, 32, kernel_size=(3, 3), stride=(2, 2), padding=(1, 1))\n",
       "      (1): BatchNorm2d(32, eps=1e-05, momentum=0.1, affine=True, track_running_stats=True)\n",
       "      (2): ReLU(inplace=True)\n",
       "    )\n",
       "    (1): Sequential(\n",
       "      (0): Conv2d(32, 32, kernel_size=(3, 3), stride=(1, 1), padding=(1, 1))\n",
       "      (1): BatchNorm2d(32, eps=1e-05, momentum=0.1, affine=True, track_running_stats=True)\n",
       "      (2): ReLU(inplace=True)\n",
       "    )\n",
       "  )\n",
       "  (short16): Conv2d(16, 32, kernel_size=(3, 3), stride=(2, 2), padding=(1, 1))\n",
       "  (reg16): Sequential(\n",
       "    (0): Sequential(\n",
       "      (0): Conv2d(32, 32, kernel_size=(3, 3), stride=(1, 1), padding=(1, 1))\n",
       "      (1): BatchNorm2d(32, eps=1e-05, momentum=0.1, affine=True, track_running_stats=True)\n",
       "      (2): ReLU(inplace=True)\n",
       "    )\n",
       "    (1): Sequential(\n",
       "      (0): Conv2d(32, 32, kernel_size=(3, 3), stride=(1, 1), padding=(1, 1))\n",
       "      (1): BatchNorm2d(32, eps=1e-05, momentum=0.1, affine=True, track_running_stats=True)\n",
       "      (2): ReLU(inplace=True)\n",
       "    )\n",
       "  )\n",
       "  (entry8): Sequential(\n",
       "    (0): Sequential(\n",
       "      (0): Conv2d(32, 64, kernel_size=(3, 3), stride=(2, 2), padding=(1, 1))\n",
       "      (1): BatchNorm2d(64, eps=1e-05, momentum=0.1, affine=True, track_running_stats=True)\n",
       "      (2): ReLU(inplace=True)\n",
       "    )\n",
       "    (1): Sequential(\n",
       "      (0): Conv2d(64, 64, kernel_size=(3, 3), stride=(1, 1), padding=(1, 1))\n",
       "      (1): BatchNorm2d(64, eps=1e-05, momentum=0.1, affine=True, track_running_stats=True)\n",
       "      (2): ReLU(inplace=True)\n",
       "    )\n",
       "  )\n",
       "  (short8): Conv2d(32, 64, kernel_size=(3, 3), stride=(2, 2), padding=(1, 1))\n",
       "  (reg8): Sequential(\n",
       "    (0): Sequential(\n",
       "      (0): Conv2d(64, 64, kernel_size=(3, 3), stride=(1, 1), padding=(1, 1))\n",
       "      (1): BatchNorm2d(64, eps=1e-05, momentum=0.1, affine=True, track_running_stats=True)\n",
       "      (2): ReLU(inplace=True)\n",
       "    )\n",
       "    (1): Sequential(\n",
       "      (0): Conv2d(64, 64, kernel_size=(3, 3), stride=(1, 1), padding=(1, 1))\n",
       "      (1): BatchNorm2d(64, eps=1e-05, momentum=0.1, affine=True, track_running_stats=True)\n",
       "      (2): ReLU(inplace=True)\n",
       "    )\n",
       "  )\n",
       "  (classifier): Sequential(\n",
       "    (0): AvgPool2d(kernel_size=8, stride=8, padding=0)\n",
       "    (1): Linear(in_features=64, out_features=10, bias=True)\n",
       "    (2): Softmax(dim=None)\n",
       "  )\n",
       "  (avg): AvgPool2d(kernel_size=8, stride=8, padding=0)\n",
       "  (flat): Flatten(start_dim=1, end_dim=-1)\n",
       "  (fcl): Linear(in_features=64, out_features=10, bias=True)\n",
       "  (sm): Softmax(dim=None)\n",
       ")"
      ]
     },
     "execution_count": 17,
     "metadata": {},
     "output_type": "execute_result"
    }
   ],
   "source": [
    "# n=8 => ResNet50\n",
    "model= to_device(ResNet(3,10,8), device)\n",
    "model"
   ]
  },
  {
   "cell_type": "code",
   "execution_count": 18,
   "metadata": {
    "colab": {
     "base_uri": "https://localhost:8080/"
    },
    "id": "O8BOig0Otrjz",
    "outputId": "a40ce9a4-8852-4595-9525-9841221a3391"
   },
   "outputs": [
    {
     "name": "stdout",
     "output_type": "stream",
     "text": [
      "----------------------------------------------------------------\n",
      "        Layer (type)               Output Shape         Param #\n",
      "================================================================\n",
      "            Conv2d-1           [-1, 16, 32, 32]             448\n",
      "       BatchNorm2d-2           [-1, 16, 32, 32]              32\n",
      "              ReLU-3           [-1, 16, 32, 32]               0\n",
      "            Conv2d-4           [-1, 16, 32, 32]           2,320\n",
      "       BatchNorm2d-5           [-1, 16, 32, 32]              32\n",
      "              ReLU-6           [-1, 16, 32, 32]               0\n",
      "            Conv2d-7           [-1, 16, 32, 32]           2,320\n",
      "       BatchNorm2d-8           [-1, 16, 32, 32]              32\n",
      "              ReLU-9           [-1, 16, 32, 32]               0\n",
      "           Conv2d-10           [-1, 16, 32, 32]           2,320\n",
      "      BatchNorm2d-11           [-1, 16, 32, 32]              32\n",
      "             ReLU-12           [-1, 16, 32, 32]               0\n",
      "           Conv2d-13           [-1, 16, 32, 32]           2,320\n",
      "      BatchNorm2d-14           [-1, 16, 32, 32]              32\n",
      "             ReLU-15           [-1, 16, 32, 32]               0\n",
      "           Conv2d-16           [-1, 16, 32, 32]           2,320\n",
      "      BatchNorm2d-17           [-1, 16, 32, 32]              32\n",
      "             ReLU-18           [-1, 16, 32, 32]               0\n",
      "           Conv2d-19           [-1, 16, 32, 32]           2,320\n",
      "      BatchNorm2d-20           [-1, 16, 32, 32]              32\n",
      "             ReLU-21           [-1, 16, 32, 32]               0\n",
      "           Conv2d-22           [-1, 16, 32, 32]           2,320\n",
      "      BatchNorm2d-23           [-1, 16, 32, 32]              32\n",
      "             ReLU-24           [-1, 16, 32, 32]               0\n",
      "           Conv2d-25           [-1, 16, 32, 32]           2,320\n",
      "      BatchNorm2d-26           [-1, 16, 32, 32]              32\n",
      "             ReLU-27           [-1, 16, 32, 32]               0\n",
      "           Conv2d-28           [-1, 16, 32, 32]           2,320\n",
      "      BatchNorm2d-29           [-1, 16, 32, 32]              32\n",
      "             ReLU-30           [-1, 16, 32, 32]               0\n",
      "           Conv2d-31           [-1, 16, 32, 32]           2,320\n",
      "      BatchNorm2d-32           [-1, 16, 32, 32]              32\n",
      "             ReLU-33           [-1, 16, 32, 32]               0\n",
      "           Conv2d-34           [-1, 16, 32, 32]           2,320\n",
      "      BatchNorm2d-35           [-1, 16, 32, 32]              32\n",
      "             ReLU-36           [-1, 16, 32, 32]               0\n",
      "           Conv2d-37           [-1, 16, 32, 32]           2,320\n",
      "      BatchNorm2d-38           [-1, 16, 32, 32]              32\n",
      "             ReLU-39           [-1, 16, 32, 32]               0\n",
      "           Conv2d-40           [-1, 16, 32, 32]           2,320\n",
      "      BatchNorm2d-41           [-1, 16, 32, 32]              32\n",
      "             ReLU-42           [-1, 16, 32, 32]               0\n",
      "           Conv2d-43           [-1, 16, 32, 32]           2,320\n",
      "      BatchNorm2d-44           [-1, 16, 32, 32]              32\n",
      "             ReLU-45           [-1, 16, 32, 32]               0\n",
      "           Conv2d-46           [-1, 16, 32, 32]           2,320\n",
      "      BatchNorm2d-47           [-1, 16, 32, 32]              32\n",
      "             ReLU-48           [-1, 16, 32, 32]               0\n",
      "           Conv2d-49           [-1, 16, 32, 32]           2,320\n",
      "      BatchNorm2d-50           [-1, 16, 32, 32]              32\n",
      "             ReLU-51           [-1, 16, 32, 32]               0\n",
      "           Conv2d-52           [-1, 32, 16, 16]           4,640\n",
      "      BatchNorm2d-53           [-1, 32, 16, 16]              64\n",
      "             ReLU-54           [-1, 32, 16, 16]               0\n",
      "           Conv2d-55           [-1, 32, 16, 16]           9,248\n",
      "      BatchNorm2d-56           [-1, 32, 16, 16]              64\n",
      "             ReLU-57           [-1, 32, 16, 16]               0\n",
      "           Conv2d-58           [-1, 32, 16, 16]           4,640\n",
      "           Conv2d-59           [-1, 32, 16, 16]           9,248\n",
      "      BatchNorm2d-60           [-1, 32, 16, 16]              64\n",
      "             ReLU-61           [-1, 32, 16, 16]               0\n",
      "           Conv2d-62           [-1, 32, 16, 16]           9,248\n",
      "      BatchNorm2d-63           [-1, 32, 16, 16]              64\n",
      "             ReLU-64           [-1, 32, 16, 16]               0\n",
      "           Conv2d-65           [-1, 32, 16, 16]           9,248\n",
      "      BatchNorm2d-66           [-1, 32, 16, 16]              64\n",
      "             ReLU-67           [-1, 32, 16, 16]               0\n",
      "           Conv2d-68           [-1, 32, 16, 16]           9,248\n",
      "      BatchNorm2d-69           [-1, 32, 16, 16]              64\n",
      "             ReLU-70           [-1, 32, 16, 16]               0\n",
      "           Conv2d-71           [-1, 32, 16, 16]           9,248\n",
      "      BatchNorm2d-72           [-1, 32, 16, 16]              64\n",
      "             ReLU-73           [-1, 32, 16, 16]               0\n",
      "           Conv2d-74           [-1, 32, 16, 16]           9,248\n",
      "      BatchNorm2d-75           [-1, 32, 16, 16]              64\n",
      "             ReLU-76           [-1, 32, 16, 16]               0\n",
      "           Conv2d-77           [-1, 32, 16, 16]           9,248\n",
      "      BatchNorm2d-78           [-1, 32, 16, 16]              64\n",
      "             ReLU-79           [-1, 32, 16, 16]               0\n",
      "           Conv2d-80           [-1, 32, 16, 16]           9,248\n",
      "      BatchNorm2d-81           [-1, 32, 16, 16]              64\n",
      "             ReLU-82           [-1, 32, 16, 16]               0\n",
      "           Conv2d-83           [-1, 32, 16, 16]           9,248\n",
      "      BatchNorm2d-84           [-1, 32, 16, 16]              64\n",
      "             ReLU-85           [-1, 32, 16, 16]               0\n",
      "           Conv2d-86           [-1, 32, 16, 16]           9,248\n",
      "      BatchNorm2d-87           [-1, 32, 16, 16]              64\n",
      "             ReLU-88           [-1, 32, 16, 16]               0\n",
      "           Conv2d-89           [-1, 32, 16, 16]           9,248\n",
      "      BatchNorm2d-90           [-1, 32, 16, 16]              64\n",
      "             ReLU-91           [-1, 32, 16, 16]               0\n",
      "           Conv2d-92           [-1, 32, 16, 16]           9,248\n",
      "      BatchNorm2d-93           [-1, 32, 16, 16]              64\n",
      "             ReLU-94           [-1, 32, 16, 16]               0\n",
      "           Conv2d-95           [-1, 32, 16, 16]           9,248\n",
      "      BatchNorm2d-96           [-1, 32, 16, 16]              64\n",
      "             ReLU-97           [-1, 32, 16, 16]               0\n",
      "           Conv2d-98           [-1, 32, 16, 16]           9,248\n",
      "      BatchNorm2d-99           [-1, 32, 16, 16]              64\n",
      "            ReLU-100           [-1, 32, 16, 16]               0\n",
      "          Conv2d-101             [-1, 64, 8, 8]          18,496\n",
      "     BatchNorm2d-102             [-1, 64, 8, 8]             128\n",
      "            ReLU-103             [-1, 64, 8, 8]               0\n",
      "          Conv2d-104             [-1, 64, 8, 8]          36,928\n",
      "     BatchNorm2d-105             [-1, 64, 8, 8]             128\n",
      "            ReLU-106             [-1, 64, 8, 8]               0\n",
      "          Conv2d-107             [-1, 64, 8, 8]          18,496\n",
      "          Conv2d-108             [-1, 64, 8, 8]          36,928\n",
      "     BatchNorm2d-109             [-1, 64, 8, 8]             128\n",
      "            ReLU-110             [-1, 64, 8, 8]               0\n",
      "          Conv2d-111             [-1, 64, 8, 8]          36,928\n",
      "     BatchNorm2d-112             [-1, 64, 8, 8]             128\n",
      "            ReLU-113             [-1, 64, 8, 8]               0\n",
      "          Conv2d-114             [-1, 64, 8, 8]          36,928\n",
      "     BatchNorm2d-115             [-1, 64, 8, 8]             128\n",
      "            ReLU-116             [-1, 64, 8, 8]               0\n",
      "          Conv2d-117             [-1, 64, 8, 8]          36,928\n",
      "     BatchNorm2d-118             [-1, 64, 8, 8]             128\n",
      "            ReLU-119             [-1, 64, 8, 8]               0\n",
      "          Conv2d-120             [-1, 64, 8, 8]          36,928\n",
      "     BatchNorm2d-121             [-1, 64, 8, 8]             128\n",
      "            ReLU-122             [-1, 64, 8, 8]               0\n",
      "          Conv2d-123             [-1, 64, 8, 8]          36,928\n",
      "     BatchNorm2d-124             [-1, 64, 8, 8]             128\n",
      "            ReLU-125             [-1, 64, 8, 8]               0\n",
      "          Conv2d-126             [-1, 64, 8, 8]          36,928\n",
      "     BatchNorm2d-127             [-1, 64, 8, 8]             128\n",
      "            ReLU-128             [-1, 64, 8, 8]               0\n",
      "          Conv2d-129             [-1, 64, 8, 8]          36,928\n",
      "     BatchNorm2d-130             [-1, 64, 8, 8]             128\n",
      "            ReLU-131             [-1, 64, 8, 8]               0\n",
      "          Conv2d-132             [-1, 64, 8, 8]          36,928\n",
      "     BatchNorm2d-133             [-1, 64, 8, 8]             128\n",
      "            ReLU-134             [-1, 64, 8, 8]               0\n",
      "          Conv2d-135             [-1, 64, 8, 8]          36,928\n",
      "     BatchNorm2d-136             [-1, 64, 8, 8]             128\n",
      "            ReLU-137             [-1, 64, 8, 8]               0\n",
      "          Conv2d-138             [-1, 64, 8, 8]          36,928\n",
      "     BatchNorm2d-139             [-1, 64, 8, 8]             128\n",
      "            ReLU-140             [-1, 64, 8, 8]               0\n",
      "          Conv2d-141             [-1, 64, 8, 8]          36,928\n",
      "     BatchNorm2d-142             [-1, 64, 8, 8]             128\n",
      "            ReLU-143             [-1, 64, 8, 8]               0\n",
      "          Conv2d-144             [-1, 64, 8, 8]          36,928\n",
      "     BatchNorm2d-145             [-1, 64, 8, 8]             128\n",
      "            ReLU-146             [-1, 64, 8, 8]               0\n",
      "          Conv2d-147             [-1, 64, 8, 8]          36,928\n",
      "     BatchNorm2d-148             [-1, 64, 8, 8]             128\n",
      "            ReLU-149             [-1, 64, 8, 8]               0\n",
      "       AvgPool2d-150             [-1, 64, 1, 1]               0\n",
      "         Flatten-151                   [-1, 64]               0\n",
      "          Linear-152                   [-1, 10]             650\n",
      "         Softmax-153                   [-1, 10]               0\n",
      "================================================================\n",
      "Total params: 780,746\n",
      "Trainable params: 780,746\n",
      "Non-trainable params: 0\n",
      "----------------------------------------------------------------\n",
      "Input size (MB): 0.01\n",
      "Forward/backward pass size (MB): 10.97\n",
      "Params size (MB): 2.98\n",
      "Estimated Total Size (MB): 13.96\n",
      "----------------------------------------------------------------\n"
     ]
    },
    {
     "name": "stderr",
     "output_type": "stream",
     "text": [
      "/home/userfs/s/sb2444/.local/lib/python3.6/site-packages/ipykernel_launcher.py:57: UserWarning: Implicit dimension choice for softmax has been deprecated. Change the call to include dim=X as an argument.\n"
     ]
    }
   ],
   "source": [
    "from torchvision import models\n",
    "from torchsummary import summary\n",
    "summary(model, (3, 32, 32))"
   ]
  },
  {
   "cell_type": "code",
   "execution_count": 19,
   "metadata": {
    "id": "hmbJUvR3t0QY"
   },
   "outputs": [],
   "source": [
    "@torch.no_grad()\n",
    "def evaluate(model, val_loader):\n",
    "    model.eval()\n",
    "    outputs = [model.validation_step(batch) for batch in val_loader]\n",
    "    return model.validation_epoch_end(outputs)\n",
    "\n",
    "def get_lr(optimizer):\n",
    "    for param_group in optimizer.param_groups:\n",
    "        return param_group['lr']\n",
    "\n",
    "def fit_one_cycle(epochs, max_lr, model, train_loader, val_loader, \n",
    "                  weight_decay=0, grad_clip=None, opt_func=torch.optim.SGD):\n",
    "    torch.cuda.empty_cache()  # Realsing cuda memory otherwise might get cuda out of memory error\n",
    "    history = []\n",
    "    \n",
    "    #custom optimizer with weight decay\n",
    "    optimizer = opt_func(model.parameters(), max_lr, weight_decay=weight_decay)\n",
    "    # Set up one-cycle learning rate scheduler\n",
    "    sched = torch.optim.lr_scheduler.OneCycleLR(optimizer, max_lr, epochs=epochs, \n",
    "                                                steps_per_epoch=len(train_loader))\n",
    "    \n",
    "    for epoch in range(epochs):\n",
    "        # Training Phase \n",
    "        model.train() #Setting training mode\n",
    "        train_losses = []\n",
    "        lrs = []\n",
    "        for batch in train_loader:\n",
    "            loss = model.training_step(batch)\n",
    "            train_losses.append(loss)\n",
    "            loss.backward()\n",
    "            \n",
    "            # Gradient clipping\n",
    "            if grad_clip: \n",
    "                nn.utils.clip_grad_value_(model.parameters(), grad_clip)\n",
    "            \n",
    "            optimizer.step()\n",
    "            optimizer.zero_grad()\n",
    "            \n",
    "            # Record & update learning rate\n",
    "            lrs.append(get_lr(optimizer))\n",
    "            sched.step()\n",
    "        \n",
    "        # Validation phase\n",
    "        result = evaluate(model, val_loader)\n",
    "        result['train_loss'] = torch.stack(train_losses).mean().item()\n",
    "        result['lrs'] = lrs\n",
    "        model.epoch_end(epoch, result)\n",
    "        history.append(result)\n",
    "    return history"
   ]
  },
  {
   "cell_type": "code",
   "execution_count": 20,
   "metadata": {
    "colab": {
     "base_uri": "https://localhost:8080/"
    },
    "id": "_TPdh3fbt1fH",
    "outputId": "a22ad739-4bd6-459d-f905-64450f06bf4c"
   },
   "outputs": [
    {
     "name": "stderr",
     "output_type": "stream",
     "text": [
      "/home/userfs/s/sb2444/.local/lib/python3.6/site-packages/ipykernel_launcher.py:57: UserWarning: Implicit dimension choice for softmax has been deprecated. Change the call to include dim=X as an argument.\n"
     ]
    },
    {
     "data": {
      "text/plain": [
       "[{'val_loss': 2.3052215576171875, 'val_acc': 0.09400000423192978}]"
      ]
     },
     "execution_count": 20,
     "metadata": {},
     "output_type": "execute_result"
    }
   ],
   "source": [
    "history = [evaluate(model, valid_dl)]\n",
    "history"
   ]
  },
  {
   "cell_type": "code",
   "execution_count": 21,
   "metadata": {
    "id": "fFL3dFDnt6pb"
   },
   "outputs": [],
   "source": [
    "epochs = 400\n",
    "max_lr = 0.001\n",
    "grad_clip = 0.1\n",
    "weight_decay = 1e-4\n",
    "opt_func = torch.optim.Adam"
   ]
  },
  {
   "cell_type": "code",
   "execution_count": 22,
   "metadata": {
    "colab": {
     "base_uri": "https://localhost:8080/"
    },
    "id": "01CAjQi2t8Ub",
    "outputId": "776b2d7d-902f-4f3c-ece0-24ccd16c4d53"
   },
   "outputs": [
    {
     "name": "stderr",
     "output_type": "stream",
     "text": [
      "/home/userfs/s/sb2444/.local/lib/python3.6/site-packages/ipykernel_launcher.py:57: UserWarning: Implicit dimension choice for softmax has been deprecated. Change the call to include dim=X as an argument.\n"
     ]
    },
    {
     "name": "stdout",
     "output_type": "stream",
     "text": [
      "Epoch [0], train_loss: 2.2415, val_loss: 2.2940, val_acc: 0.1456\n",
      "Epoch [1], train_loss: 2.1581, val_loss: 2.2904, val_acc: 0.1511\n",
      "Epoch [2], train_loss: 2.1289, val_loss: 2.3128, val_acc: 0.1365\n",
      "Epoch [3], train_loss: 2.1122, val_loss: 2.3199, val_acc: 0.1078\n",
      "Epoch [4], train_loss: 2.0920, val_loss: 2.3112, val_acc: 0.1195\n",
      "Epoch [5], train_loss: 2.0799, val_loss: 2.3295, val_acc: 0.1101\n",
      "Epoch [6], train_loss: 2.0703, val_loss: 2.3408, val_acc: 0.1075\n",
      "Epoch [7], train_loss: 2.0548, val_loss: 2.3279, val_acc: 0.1147\n",
      "Epoch [8], train_loss: 2.0357, val_loss: 2.3230, val_acc: 0.1166\n",
      "Epoch [9], train_loss: 2.0224, val_loss: 2.3279, val_acc: 0.1117\n",
      "Epoch [10], train_loss: 2.0128, val_loss: 2.3177, val_acc: 0.1205\n",
      "Epoch [11], train_loss: 2.0033, val_loss: 2.3292, val_acc: 0.1128\n",
      "Epoch [12], train_loss: 1.9920, val_loss: 2.3232, val_acc: 0.1221\n",
      "Epoch [13], train_loss: 1.9822, val_loss: 2.3170, val_acc: 0.1243\n",
      "Epoch [14], train_loss: 1.9531, val_loss: 2.3080, val_acc: 0.1327\n",
      "Epoch [15], train_loss: 1.9399, val_loss: 2.3061, val_acc: 0.1368\n",
      "Epoch [16], train_loss: 1.9313, val_loss: 2.3019, val_acc: 0.1467\n",
      "Epoch [17], train_loss: 1.9219, val_loss: 2.2982, val_acc: 0.1486\n",
      "Epoch [18], train_loss: 1.9146, val_loss: 2.2904, val_acc: 0.1550\n",
      "Epoch [19], train_loss: 1.9044, val_loss: 2.3111, val_acc: 0.1374\n",
      "Epoch [20], train_loss: 1.8857, val_loss: 2.2915, val_acc: 0.1543\n",
      "Epoch [21], train_loss: 1.8761, val_loss: 2.2689, val_acc: 0.1766\n",
      "Epoch [22], train_loss: 1.8680, val_loss: 2.2557, val_acc: 0.1879\n",
      "Epoch [23], train_loss: 1.8599, val_loss: 2.2580, val_acc: 0.1859\n",
      "Epoch [24], train_loss: 1.8550, val_loss: 2.2510, val_acc: 0.1960\n",
      "Epoch [25], train_loss: 1.8473, val_loss: 2.2863, val_acc: 0.1607\n",
      "Epoch [26], train_loss: 1.8399, val_loss: 2.2470, val_acc: 0.1981\n",
      "Epoch [27], train_loss: 1.8338, val_loss: 2.2469, val_acc: 0.2004\n",
      "Epoch [28], train_loss: 1.8267, val_loss: 2.2372, val_acc: 0.2117\n",
      "Epoch [29], train_loss: 1.8230, val_loss: 2.2886, val_acc: 0.1605\n",
      "Epoch [30], train_loss: 1.8136, val_loss: 2.2200, val_acc: 0.2259\n",
      "Epoch [31], train_loss: 1.8103, val_loss: 2.2301, val_acc: 0.2163\n",
      "Epoch [32], train_loss: 1.8036, val_loss: 2.2501, val_acc: 0.1976\n",
      "Epoch [33], train_loss: 1.8010, val_loss: 2.2692, val_acc: 0.1745\n",
      "Epoch [34], train_loss: 1.7933, val_loss: 2.2410, val_acc: 0.2049\n",
      "Epoch [35], train_loss: 1.7868, val_loss: 2.2617, val_acc: 0.1895\n",
      "Epoch [36], train_loss: 1.7820, val_loss: 2.2141, val_acc: 0.2350\n",
      "Epoch [37], train_loss: 1.7762, val_loss: 2.1814, val_acc: 0.2693\n",
      "Epoch [38], train_loss: 1.7753, val_loss: 2.1757, val_acc: 0.2752\n",
      "Epoch [39], train_loss: 1.7682, val_loss: 2.2616, val_acc: 0.1832\n",
      "Epoch [40], train_loss: 1.7584, val_loss: 2.2022, val_acc: 0.2465\n",
      "Epoch [41], train_loss: 1.7571, val_loss: 2.1829, val_acc: 0.2646\n",
      "Epoch [42], train_loss: 1.7535, val_loss: 2.2731, val_acc: 0.1746\n",
      "Epoch [43], train_loss: 1.7487, val_loss: 2.2464, val_acc: 0.2019\n",
      "Epoch [44], train_loss: 1.7473, val_loss: 2.1831, val_acc: 0.2689\n",
      "Epoch [45], train_loss: 1.7409, val_loss: 2.1996, val_acc: 0.2502\n",
      "Epoch [46], train_loss: 1.7357, val_loss: 2.2024, val_acc: 0.2421\n",
      "Epoch [47], train_loss: 1.7320, val_loss: 2.1726, val_acc: 0.2704\n",
      "Epoch [48], train_loss: 1.7297, val_loss: 2.1699, val_acc: 0.2773\n",
      "Epoch [49], train_loss: 1.7282, val_loss: 2.1516, val_acc: 0.3075\n",
      "Epoch [50], train_loss: 1.7205, val_loss: 2.1673, val_acc: 0.2893\n",
      "Epoch [51], train_loss: 1.7168, val_loss: 2.2043, val_acc: 0.2407\n",
      "Epoch [52], train_loss: 1.7132, val_loss: 2.1711, val_acc: 0.2762\n",
      "Epoch [53], train_loss: 1.7080, val_loss: 2.2151, val_acc: 0.2392\n",
      "Epoch [54], train_loss: 1.7046, val_loss: 2.1656, val_acc: 0.2771\n",
      "Epoch [55], train_loss: 1.7010, val_loss: 2.1890, val_acc: 0.2564\n",
      "Epoch [56], train_loss: 1.6980, val_loss: 2.1506, val_acc: 0.3072\n",
      "Epoch [57], train_loss: 1.6937, val_loss: 2.1414, val_acc: 0.3216\n",
      "Epoch [58], train_loss: 1.6948, val_loss: 2.2035, val_acc: 0.2498\n",
      "Epoch [59], train_loss: 1.6893, val_loss: 2.1659, val_acc: 0.2856\n",
      "Epoch [60], train_loss: 1.6882, val_loss: 2.1792, val_acc: 0.2809\n",
      "Epoch [61], train_loss: 1.6854, val_loss: 2.1505, val_acc: 0.3032\n",
      "Epoch [62], train_loss: 1.6808, val_loss: 2.1759, val_acc: 0.2760\n",
      "Epoch [63], train_loss: 1.6801, val_loss: 2.0842, val_acc: 0.3817\n",
      "Epoch [64], train_loss: 1.6726, val_loss: 2.1259, val_acc: 0.3318\n",
      "Epoch [65], train_loss: 1.6723, val_loss: 2.2456, val_acc: 0.1962\n",
      "Epoch [66], train_loss: 1.6699, val_loss: 2.1729, val_acc: 0.2770\n",
      "Epoch [67], train_loss: 1.6692, val_loss: 2.1546, val_acc: 0.2887\n",
      "Epoch [68], train_loss: 1.6690, val_loss: 2.1438, val_acc: 0.3197\n",
      "Epoch [69], train_loss: 1.6665, val_loss: 2.1623, val_acc: 0.2755\n",
      "Epoch [70], train_loss: 1.6638, val_loss: 2.0941, val_acc: 0.3689\n",
      "Epoch [71], train_loss: 1.6610, val_loss: 2.1141, val_acc: 0.3378\n",
      "Epoch [72], train_loss: 1.6591, val_loss: 2.1087, val_acc: 0.3452\n",
      "Epoch [73], train_loss: 1.6619, val_loss: 2.2249, val_acc: 0.2044\n",
      "Epoch [74], train_loss: 1.6566, val_loss: 2.1477, val_acc: 0.3239\n",
      "Epoch [75], train_loss: 1.6533, val_loss: 2.1188, val_acc: 0.3351\n",
      "Epoch [76], train_loss: 1.6520, val_loss: 2.0954, val_acc: 0.3620\n",
      "Epoch [77], train_loss: 1.6542, val_loss: 2.1428, val_acc: 0.3137\n",
      "Epoch [78], train_loss: 1.6506, val_loss: 2.2335, val_acc: 0.2090\n",
      "Epoch [79], train_loss: 1.6500, val_loss: 2.1201, val_acc: 0.3222\n",
      "Epoch [80], train_loss: 1.6495, val_loss: 2.1083, val_acc: 0.3474\n",
      "Epoch [81], train_loss: 1.6432, val_loss: 2.1977, val_acc: 0.2402\n",
      "Epoch [82], train_loss: 1.6441, val_loss: 2.1281, val_acc: 0.3245\n",
      "Epoch [83], train_loss: 1.6405, val_loss: 2.1482, val_acc: 0.2953\n",
      "Epoch [84], train_loss: 1.6420, val_loss: 2.1487, val_acc: 0.2965\n",
      "Epoch [85], train_loss: 1.6394, val_loss: 2.0748, val_acc: 0.3783\n",
      "Epoch [86], train_loss: 1.6377, val_loss: 2.1908, val_acc: 0.2467\n",
      "Epoch [87], train_loss: 1.6361, val_loss: 2.0980, val_acc: 0.3459\n",
      "Epoch [88], train_loss: 1.6381, val_loss: 2.0873, val_acc: 0.3730\n",
      "Epoch [89], train_loss: 1.6358, val_loss: 2.1098, val_acc: 0.3420\n",
      "Epoch [90], train_loss: 1.6353, val_loss: 2.0569, val_acc: 0.4027\n",
      "Epoch [91], train_loss: 1.6323, val_loss: 2.0944, val_acc: 0.3648\n",
      "Epoch [92], train_loss: 1.6297, val_loss: 2.0292, val_acc: 0.4260\n",
      "Epoch [93], train_loss: 1.6304, val_loss: 1.9428, val_acc: 0.5200\n",
      "Epoch [94], train_loss: 1.6330, val_loss: 2.0257, val_acc: 0.4380\n",
      "Epoch [95], train_loss: 1.6293, val_loss: 2.0621, val_acc: 0.3836\n",
      "Epoch [96], train_loss: 1.6266, val_loss: 2.0083, val_acc: 0.4519\n",
      "Epoch [97], train_loss: 1.6233, val_loss: 2.0577, val_acc: 0.3973\n",
      "Epoch [98], train_loss: 1.6215, val_loss: 1.9739, val_acc: 0.4927\n",
      "Epoch [99], train_loss: 1.6240, val_loss: 2.0142, val_acc: 0.4462\n",
      "Epoch [100], train_loss: 1.6237, val_loss: 1.9893, val_acc: 0.4718\n",
      "Epoch [101], train_loss: 1.6228, val_loss: 1.9135, val_acc: 0.5491\n",
      "Epoch [102], train_loss: 1.6207, val_loss: 1.9859, val_acc: 0.4704\n",
      "Epoch [103], train_loss: 1.6191, val_loss: 1.9234, val_acc: 0.5345\n",
      "Epoch [104], train_loss: 1.6155, val_loss: 1.9520, val_acc: 0.5108\n",
      "Epoch [105], train_loss: 1.6159, val_loss: 1.9558, val_acc: 0.5041\n",
      "Epoch [106], train_loss: 1.6153, val_loss: 2.0302, val_acc: 0.4281\n",
      "Epoch [107], train_loss: 1.6157, val_loss: 1.8772, val_acc: 0.5914\n",
      "Epoch [108], train_loss: 1.6156, val_loss: 1.9666, val_acc: 0.4943\n",
      "Epoch [109], train_loss: 1.6121, val_loss: 1.8790, val_acc: 0.5813\n",
      "Epoch [110], train_loss: 1.6115, val_loss: 1.8175, val_acc: 0.6458\n",
      "Epoch [111], train_loss: 1.6116, val_loss: 1.9762, val_acc: 0.4793\n",
      "Epoch [112], train_loss: 1.6115, val_loss: 1.9111, val_acc: 0.5444\n",
      "Epoch [113], train_loss: 1.6088, val_loss: 1.7763, val_acc: 0.6881\n",
      "Epoch [114], train_loss: 1.6074, val_loss: 1.8928, val_acc: 0.5656\n",
      "Epoch [115], train_loss: 1.6093, val_loss: 1.8975, val_acc: 0.5655\n",
      "Epoch [116], train_loss: 1.6080, val_loss: 1.8864, val_acc: 0.5753\n",
      "Epoch [117], train_loss: 1.6078, val_loss: 1.7928, val_acc: 0.6733\n",
      "Epoch [118], train_loss: 1.6059, val_loss: 1.8320, val_acc: 0.6336\n",
      "Epoch [119], train_loss: 1.6085, val_loss: 1.8736, val_acc: 0.5860\n",
      "Epoch [120], train_loss: 1.6019, val_loss: 1.9124, val_acc: 0.5495\n",
      "Epoch [121], train_loss: 1.6015, val_loss: 1.9393, val_acc: 0.5176\n",
      "Epoch [122], train_loss: 1.6007, val_loss: 1.7974, val_acc: 0.6637\n",
      "Epoch [123], train_loss: 1.6015, val_loss: 1.7943, val_acc: 0.6744\n",
      "Epoch [124], train_loss: 1.6014, val_loss: 1.8489, val_acc: 0.6132\n",
      "Epoch [125], train_loss: 1.5996, val_loss: 1.7875, val_acc: 0.6756\n",
      "Epoch [126], train_loss: 1.5965, val_loss: 1.7532, val_acc: 0.7087\n",
      "Epoch [127], train_loss: 1.5977, val_loss: 1.8114, val_acc: 0.6490\n",
      "Epoch [128], train_loss: 1.5965, val_loss: 1.8498, val_acc: 0.6095\n",
      "Epoch [129], train_loss: 1.5952, val_loss: 1.7828, val_acc: 0.6815\n",
      "Epoch [130], train_loss: 1.5934, val_loss: 1.7766, val_acc: 0.6857\n",
      "Epoch [131], train_loss: 1.5943, val_loss: 1.8770, val_acc: 0.5817\n",
      "Epoch [132], train_loss: 1.5922, val_loss: 1.8303, val_acc: 0.6281\n",
      "Epoch [133], train_loss: 1.5912, val_loss: 1.7736, val_acc: 0.6893\n",
      "Epoch [134], train_loss: 1.5927, val_loss: 1.7498, val_acc: 0.7139\n",
      "Epoch [135], train_loss: 1.5880, val_loss: 1.7637, val_acc: 0.7001\n",
      "Epoch [136], train_loss: 1.5914, val_loss: 1.8512, val_acc: 0.6085\n",
      "Epoch [137], train_loss: 1.5903, val_loss: 1.7722, val_acc: 0.6925\n",
      "Epoch [138], train_loss: 1.5862, val_loss: 1.7764, val_acc: 0.6886\n",
      "Epoch [139], train_loss: 1.5866, val_loss: 1.8113, val_acc: 0.6493\n",
      "Epoch [140], train_loss: 1.5873, val_loss: 1.7393, val_acc: 0.7228\n",
      "Epoch [141], train_loss: 1.5882, val_loss: 1.7406, val_acc: 0.7237\n",
      "Epoch [142], train_loss: 1.5869, val_loss: 1.8452, val_acc: 0.6172\n",
      "Epoch [143], train_loss: 1.5838, val_loss: 1.7658, val_acc: 0.6968\n",
      "Epoch [144], train_loss: 1.5814, val_loss: 1.7839, val_acc: 0.6778\n",
      "Epoch [145], train_loss: 1.5829, val_loss: 1.8146, val_acc: 0.6453\n",
      "Epoch [146], train_loss: 1.5851, val_loss: 1.7127, val_acc: 0.7499\n",
      "Epoch [147], train_loss: 1.5847, val_loss: 1.7233, val_acc: 0.7400\n",
      "Epoch [148], train_loss: 1.5813, val_loss: 1.7330, val_acc: 0.7311\n",
      "Epoch [149], train_loss: 1.5799, val_loss: 1.7869, val_acc: 0.6759\n",
      "Epoch [150], train_loss: 1.5813, val_loss: 1.7188, val_acc: 0.7454\n",
      "Epoch [151], train_loss: 1.5834, val_loss: 1.7830, val_acc: 0.6810\n",
      "Epoch [152], train_loss: 1.5808, val_loss: 1.7851, val_acc: 0.6773\n",
      "Epoch [153], train_loss: 1.5794, val_loss: 1.7668, val_acc: 0.6936\n",
      "Epoch [154], train_loss: 1.5776, val_loss: 1.7867, val_acc: 0.6728\n",
      "Epoch [155], train_loss: 1.5794, val_loss: 1.7346, val_acc: 0.7273\n",
      "Epoch [156], train_loss: 1.5781, val_loss: 1.7376, val_acc: 0.7242\n",
      "Epoch [157], train_loss: 1.5758, val_loss: 1.8015, val_acc: 0.6608\n",
      "Epoch [158], train_loss: 1.5756, val_loss: 1.7897, val_acc: 0.6730\n",
      "Epoch [159], train_loss: 1.5745, val_loss: 1.7237, val_acc: 0.7398\n",
      "Epoch [160], train_loss: 1.5729, val_loss: 1.7074, val_acc: 0.7564\n",
      "Epoch [161], train_loss: 1.5760, val_loss: 1.7294, val_acc: 0.7366\n",
      "Epoch [162], train_loss: 1.5740, val_loss: 1.7427, val_acc: 0.7186\n",
      "Epoch [163], train_loss: 1.5733, val_loss: 1.7120, val_acc: 0.7517\n",
      "Epoch [164], train_loss: 1.5715, val_loss: 1.6999, val_acc: 0.7659\n",
      "Epoch [165], train_loss: 1.5707, val_loss: 1.7726, val_acc: 0.6910\n",
      "Epoch [166], train_loss: 1.5709, val_loss: 1.7115, val_acc: 0.7526\n",
      "Epoch [167], train_loss: 1.5702, val_loss: 1.6925, val_acc: 0.7690\n",
      "Epoch [168], train_loss: 1.5682, val_loss: 1.6962, val_acc: 0.7695\n",
      "Epoch [169], train_loss: 1.5691, val_loss: 1.7124, val_acc: 0.7533\n",
      "Epoch [170], train_loss: 1.5709, val_loss: 1.7820, val_acc: 0.6782\n",
      "Epoch [171], train_loss: 1.5683, val_loss: 1.7197, val_acc: 0.7437\n",
      "Epoch [172], train_loss: 1.5683, val_loss: 1.7105, val_acc: 0.7512\n",
      "Epoch [173], train_loss: 1.5691, val_loss: 1.7355, val_acc: 0.7308\n",
      "Epoch [174], train_loss: 1.5678, val_loss: 1.7030, val_acc: 0.7595\n",
      "Epoch [175], train_loss: 1.5669, val_loss: 1.8182, val_acc: 0.6398\n",
      "Epoch [176], train_loss: 1.5670, val_loss: 1.7501, val_acc: 0.7127\n",
      "Epoch [177], train_loss: 1.5651, val_loss: 1.7628, val_acc: 0.7008\n",
      "Epoch [178], train_loss: 1.5644, val_loss: 1.7453, val_acc: 0.7184\n",
      "Epoch [179], train_loss: 1.5636, val_loss: 1.7562, val_acc: 0.7042\n",
      "Epoch [180], train_loss: 1.5645, val_loss: 1.7018, val_acc: 0.7627\n",
      "Epoch [181], train_loss: 1.5640, val_loss: 1.7472, val_acc: 0.7141\n",
      "Epoch [182], train_loss: 1.5622, val_loss: 1.6637, val_acc: 0.8007\n",
      "Epoch [183], train_loss: 1.5620, val_loss: 1.7014, val_acc: 0.7621\n",
      "Epoch [184], train_loss: 1.5623, val_loss: 1.6819, val_acc: 0.7836\n",
      "Epoch [185], train_loss: 1.5624, val_loss: 1.7053, val_acc: 0.7572\n",
      "Epoch [186], train_loss: 1.5621, val_loss: 1.6756, val_acc: 0.7875\n",
      "Epoch [187], train_loss: 1.5600, val_loss: 1.6956, val_acc: 0.7667\n",
      "Epoch [188], train_loss: 1.5587, val_loss: 1.7409, val_acc: 0.7190\n",
      "Epoch [189], train_loss: 1.5587, val_loss: 1.7092, val_acc: 0.7508\n",
      "Epoch [190], train_loss: 1.5608, val_loss: 1.7004, val_acc: 0.7650\n",
      "Epoch [191], train_loss: 1.5592, val_loss: 1.7001, val_acc: 0.7638\n",
      "Epoch [192], train_loss: 1.5578, val_loss: 1.7102, val_acc: 0.7503\n",
      "Epoch [193], train_loss: 1.5577, val_loss: 1.6733, val_acc: 0.7904\n",
      "Epoch [194], train_loss: 1.5568, val_loss: 1.7240, val_acc: 0.7373\n",
      "Epoch [195], train_loss: 1.5570, val_loss: 1.7404, val_acc: 0.7213\n",
      "Epoch [196], train_loss: 1.5536, val_loss: 1.6781, val_acc: 0.7831\n",
      "Epoch [197], train_loss: 1.5579, val_loss: 1.6735, val_acc: 0.7907\n",
      "Epoch [198], train_loss: 1.5547, val_loss: 1.6701, val_acc: 0.7920\n",
      "Epoch [199], train_loss: 1.5537, val_loss: 1.6742, val_acc: 0.7886\n",
      "Epoch [200], train_loss: 1.5552, val_loss: 1.6531, val_acc: 0.8076\n",
      "Epoch [201], train_loss: 1.5524, val_loss: 1.6851, val_acc: 0.7787\n",
      "Epoch [202], train_loss: 1.5532, val_loss: 1.7190, val_acc: 0.7410\n",
      "Epoch [203], train_loss: 1.5506, val_loss: 1.6804, val_acc: 0.7815\n",
      "Epoch [204], train_loss: 1.5516, val_loss: 1.6792, val_acc: 0.7836\n",
      "Epoch [205], train_loss: 1.5505, val_loss: 1.7027, val_acc: 0.7595\n",
      "Epoch [206], train_loss: 1.5523, val_loss: 1.6646, val_acc: 0.7983\n",
      "Epoch [207], train_loss: 1.5516, val_loss: 1.6969, val_acc: 0.7641\n",
      "Epoch [208], train_loss: 1.5518, val_loss: 1.6731, val_acc: 0.7896\n",
      "Epoch [209], train_loss: 1.5502, val_loss: 1.7089, val_acc: 0.7543\n",
      "Epoch [210], train_loss: 1.5515, val_loss: 1.6817, val_acc: 0.7796\n",
      "Epoch [211], train_loss: 1.5487, val_loss: 1.6771, val_acc: 0.7879\n",
      "Epoch [212], train_loss: 1.5492, val_loss: 1.6776, val_acc: 0.7845\n",
      "Epoch [213], train_loss: 1.5457, val_loss: 1.7123, val_acc: 0.7514\n",
      "Epoch [214], train_loss: 1.5473, val_loss: 1.6954, val_acc: 0.7657\n",
      "Epoch [215], train_loss: 1.5482, val_loss: 1.6742, val_acc: 0.7873\n",
      "Epoch [216], train_loss: 1.5452, val_loss: 1.6631, val_acc: 0.7993\n",
      "Epoch [217], train_loss: 1.5436, val_loss: 1.6660, val_acc: 0.7959\n",
      "Epoch [218], train_loss: 1.5470, val_loss: 1.6754, val_acc: 0.7865\n",
      "Epoch [219], train_loss: 1.5459, val_loss: 1.6599, val_acc: 0.8028\n",
      "Epoch [220], train_loss: 1.5428, val_loss: 1.6854, val_acc: 0.7780\n",
      "Epoch [221], train_loss: 1.5425, val_loss: 1.6639, val_acc: 0.8001\n",
      "Epoch [222], train_loss: 1.5442, val_loss: 1.6681, val_acc: 0.7955\n",
      "Epoch [223], train_loss: 1.5427, val_loss: 1.6872, val_acc: 0.7738\n",
      "Epoch [224], train_loss: 1.5413, val_loss: 1.6781, val_acc: 0.7848\n",
      "Epoch [225], train_loss: 1.5416, val_loss: 1.6712, val_acc: 0.7897\n",
      "Epoch [226], train_loss: 1.5427, val_loss: 1.7100, val_acc: 0.7519\n",
      "Epoch [227], train_loss: 1.5418, val_loss: 1.6664, val_acc: 0.7979\n",
      "Epoch [228], train_loss: 1.5408, val_loss: 1.6603, val_acc: 0.8028\n",
      "Epoch [229], train_loss: 1.5398, val_loss: 1.6896, val_acc: 0.7747\n",
      "Epoch [230], train_loss: 1.5383, val_loss: 1.6953, val_acc: 0.7680\n",
      "Epoch [231], train_loss: 1.5379, val_loss: 1.6931, val_acc: 0.7712\n",
      "Epoch [232], train_loss: 1.5375, val_loss: 1.6659, val_acc: 0.7965\n",
      "Epoch [233], train_loss: 1.5385, val_loss: 1.6690, val_acc: 0.7952\n",
      "Epoch [234], train_loss: 1.5386, val_loss: 1.6623, val_acc: 0.7993\n",
      "Epoch [235], train_loss: 1.5381, val_loss: 1.6677, val_acc: 0.7963\n",
      "Epoch [236], train_loss: 1.5374, val_loss: 1.6717, val_acc: 0.7930\n",
      "Epoch [237], train_loss: 1.5341, val_loss: 1.6611, val_acc: 0.8018\n",
      "Epoch [238], train_loss: 1.5361, val_loss: 1.6619, val_acc: 0.8019\n",
      "Epoch [239], train_loss: 1.5349, val_loss: 1.6549, val_acc: 0.8083\n",
      "Epoch [240], train_loss: 1.5348, val_loss: 1.6911, val_acc: 0.7703\n",
      "Epoch [241], train_loss: 1.5312, val_loss: 1.6474, val_acc: 0.8156\n",
      "Epoch [242], train_loss: 1.5337, val_loss: 1.6729, val_acc: 0.7898\n",
      "Epoch [243], train_loss: 1.5320, val_loss: 1.6464, val_acc: 0.8132\n",
      "Epoch [244], train_loss: 1.5322, val_loss: 1.6719, val_acc: 0.7903\n",
      "Epoch [245], train_loss: 1.5337, val_loss: 1.6799, val_acc: 0.7822\n",
      "Epoch [246], train_loss: 1.5323, val_loss: 1.6954, val_acc: 0.7658\n",
      "Epoch [247], train_loss: 1.5320, val_loss: 1.6829, val_acc: 0.7793\n",
      "Epoch [248], train_loss: 1.5298, val_loss: 1.6603, val_acc: 0.8035\n",
      "Epoch [249], train_loss: 1.5276, val_loss: 1.6955, val_acc: 0.7662\n",
      "Epoch [250], train_loss: 1.5304, val_loss: 1.6552, val_acc: 0.8082\n",
      "Epoch [251], train_loss: 1.5283, val_loss: 1.6790, val_acc: 0.7818\n",
      "Epoch [252], train_loss: 1.5287, val_loss: 1.6688, val_acc: 0.7939\n",
      "Epoch [253], train_loss: 1.5267, val_loss: 1.6826, val_acc: 0.7790\n",
      "Epoch [254], train_loss: 1.5277, val_loss: 1.6445, val_acc: 0.8176\n",
      "Epoch [255], train_loss: 1.5261, val_loss: 1.6526, val_acc: 0.8098\n",
      "Epoch [256], train_loss: 1.5262, val_loss: 1.6601, val_acc: 0.8035\n",
      "Epoch [257], train_loss: 1.5261, val_loss: 1.6801, val_acc: 0.7819\n",
      "Epoch [258], train_loss: 1.5259, val_loss: 1.6558, val_acc: 0.8056\n",
      "Epoch [259], train_loss: 1.5229, val_loss: 1.6592, val_acc: 0.8022\n",
      "Epoch [260], train_loss: 1.5235, val_loss: 1.6512, val_acc: 0.8108\n",
      "Epoch [261], train_loss: 1.5245, val_loss: 1.6794, val_acc: 0.7827\n",
      "Epoch [262], train_loss: 1.5239, val_loss: 1.6343, val_acc: 0.8290\n",
      "Epoch [263], train_loss: 1.5205, val_loss: 1.6502, val_acc: 0.8123\n",
      "Epoch [264], train_loss: 1.5203, val_loss: 1.6689, val_acc: 0.7933\n",
      "Epoch [265], train_loss: 1.5232, val_loss: 1.6433, val_acc: 0.8190\n",
      "Epoch [266], train_loss: 1.5202, val_loss: 1.6550, val_acc: 0.8092\n",
      "Epoch [267], train_loss: 1.5192, val_loss: 1.6461, val_acc: 0.8163\n",
      "Epoch [268], train_loss: 1.5215, val_loss: 1.6613, val_acc: 0.8001\n",
      "Epoch [269], train_loss: 1.5207, val_loss: 1.6642, val_acc: 0.7987\n",
      "Epoch [270], train_loss: 1.5203, val_loss: 1.6949, val_acc: 0.7667\n",
      "Epoch [271], train_loss: 1.5207, val_loss: 1.6483, val_acc: 0.8148\n",
      "Epoch [272], train_loss: 1.5197, val_loss: 1.6548, val_acc: 0.8079\n",
      "Epoch [273], train_loss: 1.5175, val_loss: 1.6767, val_acc: 0.7846\n",
      "Epoch [274], train_loss: 1.5174, val_loss: 1.6382, val_acc: 0.8243\n",
      "Epoch [275], train_loss: 1.5166, val_loss: 1.6609, val_acc: 0.8037\n",
      "Epoch [276], train_loss: 1.5168, val_loss: 1.6509, val_acc: 0.8124\n",
      "Epoch [277], train_loss: 1.5149, val_loss: 1.6824, val_acc: 0.7795\n",
      "Epoch [278], train_loss: 1.5160, val_loss: 1.6374, val_acc: 0.8258\n",
      "Epoch [279], train_loss: 1.5150, val_loss: 1.6622, val_acc: 0.8024\n",
      "Epoch [280], train_loss: 1.5141, val_loss: 1.6585, val_acc: 0.8050\n",
      "Epoch [281], train_loss: 1.5159, val_loss: 1.6381, val_acc: 0.8240\n",
      "Epoch [282], train_loss: 1.5139, val_loss: 1.6324, val_acc: 0.8332\n",
      "Epoch [283], train_loss: 1.5123, val_loss: 1.6774, val_acc: 0.7839\n",
      "Epoch [284], train_loss: 1.5132, val_loss: 1.6555, val_acc: 0.8062\n",
      "Epoch [285], train_loss: 1.5132, val_loss: 1.6580, val_acc: 0.8050\n",
      "Epoch [286], train_loss: 1.5131, val_loss: 1.6536, val_acc: 0.8103\n",
      "Epoch [287], train_loss: 1.5111, val_loss: 1.6405, val_acc: 0.8216\n",
      "Epoch [288], train_loss: 1.5129, val_loss: 1.6439, val_acc: 0.8190\n",
      "Epoch [289], train_loss: 1.5098, val_loss: 1.6475, val_acc: 0.8140\n",
      "Epoch [290], train_loss: 1.5087, val_loss: 1.6464, val_acc: 0.8158\n",
      "Epoch [291], train_loss: 1.5090, val_loss: 1.6562, val_acc: 0.8065\n",
      "Epoch [292], train_loss: 1.5092, val_loss: 1.6530, val_acc: 0.8100\n",
      "Epoch [293], train_loss: 1.5090, val_loss: 1.6432, val_acc: 0.8198\n",
      "Epoch [294], train_loss: 1.5106, val_loss: 1.6498, val_acc: 0.8140\n",
      "Epoch [295], train_loss: 1.5086, val_loss: 1.6564, val_acc: 0.8041\n",
      "Epoch [296], train_loss: 1.5081, val_loss: 1.6474, val_acc: 0.8141\n",
      "Epoch [297], train_loss: 1.5064, val_loss: 1.6464, val_acc: 0.8169\n",
      "Epoch [298], train_loss: 1.5065, val_loss: 1.6589, val_acc: 0.8047\n",
      "Epoch [299], train_loss: 1.5059, val_loss: 1.6407, val_acc: 0.8231\n",
      "Epoch [300], train_loss: 1.5053, val_loss: 1.6438, val_acc: 0.8188\n",
      "Epoch [301], train_loss: 1.5049, val_loss: 1.6504, val_acc: 0.8111\n",
      "Epoch [302], train_loss: 1.5050, val_loss: 1.6563, val_acc: 0.8070\n",
      "Epoch [303], train_loss: 1.5034, val_loss: 1.6666, val_acc: 0.7990\n",
      "Epoch [304], train_loss: 1.5036, val_loss: 1.6402, val_acc: 0.8229\n",
      "Epoch [305], train_loss: 1.5028, val_loss: 1.6540, val_acc: 0.8069\n",
      "Epoch [306], train_loss: 1.5029, val_loss: 1.6590, val_acc: 0.8040\n",
      "Epoch [307], train_loss: 1.5014, val_loss: 1.6835, val_acc: 0.7791\n",
      "Epoch [308], train_loss: 1.5033, val_loss: 1.6746, val_acc: 0.7872\n",
      "Epoch [309], train_loss: 1.5015, val_loss: 1.6567, val_acc: 0.8059\n",
      "Epoch [310], train_loss: 1.5025, val_loss: 1.6481, val_acc: 0.8146\n",
      "Epoch [311], train_loss: 1.5000, val_loss: 1.6622, val_acc: 0.8029\n",
      "Epoch [312], train_loss: 1.5018, val_loss: 1.6412, val_acc: 0.8225\n",
      "Epoch [313], train_loss: 1.5003, val_loss: 1.6599, val_acc: 0.8038\n",
      "Epoch [314], train_loss: 1.5016, val_loss: 1.6533, val_acc: 0.8121\n",
      "Epoch [315], train_loss: 1.4994, val_loss: 1.6629, val_acc: 0.8005\n",
      "Epoch [316], train_loss: 1.4989, val_loss: 1.6523, val_acc: 0.8110\n",
      "Epoch [317], train_loss: 1.4992, val_loss: 1.6498, val_acc: 0.8123\n",
      "Epoch [318], train_loss: 1.4970, val_loss: 1.6650, val_acc: 0.7980\n",
      "Epoch [319], train_loss: 1.4980, val_loss: 1.6640, val_acc: 0.7979\n",
      "Epoch [320], train_loss: 1.4986, val_loss: 1.6597, val_acc: 0.8029\n",
      "Epoch [321], train_loss: 1.4976, val_loss: 1.6553, val_acc: 0.8072\n",
      "Epoch [322], train_loss: 1.4970, val_loss: 1.6626, val_acc: 0.8010\n",
      "Epoch [323], train_loss: 1.4956, val_loss: 1.6655, val_acc: 0.7976\n",
      "Epoch [324], train_loss: 1.4962, val_loss: 1.6506, val_acc: 0.8145\n",
      "Epoch [325], train_loss: 1.4964, val_loss: 1.6643, val_acc: 0.7991\n",
      "Epoch [326], train_loss: 1.4957, val_loss: 1.6489, val_acc: 0.8134\n",
      "Epoch [327], train_loss: 1.4956, val_loss: 1.6668, val_acc: 0.7949\n",
      "Epoch [328], train_loss: 1.4962, val_loss: 1.6619, val_acc: 0.7994\n",
      "Epoch [329], train_loss: 1.4943, val_loss: 1.6605, val_acc: 0.8023\n",
      "Epoch [330], train_loss: 1.4939, val_loss: 1.6636, val_acc: 0.8003\n",
      "Epoch [331], train_loss: 1.4943, val_loss: 1.6567, val_acc: 0.8060\n",
      "Epoch [332], train_loss: 1.4930, val_loss: 1.6520, val_acc: 0.8102\n",
      "Epoch [333], train_loss: 1.4934, val_loss: 1.6477, val_acc: 0.8150\n",
      "Epoch [334], train_loss: 1.4929, val_loss: 1.6570, val_acc: 0.8050\n",
      "Epoch [335], train_loss: 1.4928, val_loss: 1.6559, val_acc: 0.8076\n",
      "Epoch [336], train_loss: 1.4921, val_loss: 1.6688, val_acc: 0.7928\n",
      "Epoch [337], train_loss: 1.4920, val_loss: 1.6587, val_acc: 0.8053\n",
      "Epoch [338], train_loss: 1.4920, val_loss: 1.6428, val_acc: 0.8197\n",
      "Epoch [339], train_loss: 1.4915, val_loss: 1.6520, val_acc: 0.8090\n",
      "Epoch [340], train_loss: 1.4916, val_loss: 1.6683, val_acc: 0.7947\n",
      "Epoch [341], train_loss: 1.4910, val_loss: 1.6641, val_acc: 0.7989\n",
      "Epoch [342], train_loss: 1.4905, val_loss: 1.6509, val_acc: 0.8146\n",
      "Epoch [343], train_loss: 1.4902, val_loss: 1.6578, val_acc: 0.8053\n",
      "Epoch [344], train_loss: 1.4903, val_loss: 1.6681, val_acc: 0.7937\n",
      "Epoch [345], train_loss: 1.4896, val_loss: 1.6589, val_acc: 0.8041\n",
      "Epoch [346], train_loss: 1.4897, val_loss: 1.6608, val_acc: 0.8016\n",
      "Epoch [347], train_loss: 1.4897, val_loss: 1.6484, val_acc: 0.8146\n",
      "Epoch [348], train_loss: 1.4887, val_loss: 1.6593, val_acc: 0.8026\n",
      "Epoch [349], train_loss: 1.4887, val_loss: 1.6589, val_acc: 0.8054\n",
      "Epoch [350], train_loss: 1.4889, val_loss: 1.6545, val_acc: 0.8085\n",
      "Epoch [351], train_loss: 1.4884, val_loss: 1.6540, val_acc: 0.8083\n",
      "Epoch [352], train_loss: 1.4878, val_loss: 1.6672, val_acc: 0.7956\n",
      "Epoch [353], train_loss: 1.4879, val_loss: 1.6590, val_acc: 0.8041\n",
      "Epoch [354], train_loss: 1.4884, val_loss: 1.6625, val_acc: 0.8016\n",
      "Epoch [355], train_loss: 1.4880, val_loss: 1.6525, val_acc: 0.8105\n",
      "Epoch [356], train_loss: 1.4877, val_loss: 1.6534, val_acc: 0.8091\n",
      "Epoch [357], train_loss: 1.4883, val_loss: 1.6591, val_acc: 0.8033\n",
      "Epoch [358], train_loss: 1.4882, val_loss: 1.6540, val_acc: 0.8092\n",
      "Epoch [359], train_loss: 1.4877, val_loss: 1.6455, val_acc: 0.8168\n",
      "Epoch [360], train_loss: 1.4872, val_loss: 1.6517, val_acc: 0.8105\n",
      "Epoch [361], train_loss: 1.4882, val_loss: 1.6452, val_acc: 0.8196\n",
      "Epoch [362], train_loss: 1.4864, val_loss: 1.6559, val_acc: 0.8070\n",
      "Epoch [363], train_loss: 1.4864, val_loss: 1.6487, val_acc: 0.8164\n",
      "Epoch [364], train_loss: 1.4867, val_loss: 1.6564, val_acc: 0.8068\n",
      "Epoch [365], train_loss: 1.4864, val_loss: 1.6496, val_acc: 0.8119\n",
      "Epoch [366], train_loss: 1.4866, val_loss: 1.6609, val_acc: 0.8047\n",
      "Epoch [367], train_loss: 1.4862, val_loss: 1.6520, val_acc: 0.8112\n",
      "Epoch [368], train_loss: 1.4860, val_loss: 1.6464, val_acc: 0.8160\n",
      "Epoch [369], train_loss: 1.4858, val_loss: 1.6548, val_acc: 0.8088\n",
      "Epoch [370], train_loss: 1.4860, val_loss: 1.6499, val_acc: 0.8110\n",
      "Epoch [371], train_loss: 1.4862, val_loss: 1.6627, val_acc: 0.8008\n",
      "Epoch [372], train_loss: 1.4853, val_loss: 1.6512, val_acc: 0.8110\n",
      "Epoch [373], train_loss: 1.4859, val_loss: 1.6562, val_acc: 0.8069\n",
      "Epoch [374], train_loss: 1.4855, val_loss: 1.6518, val_acc: 0.8115\n",
      "Epoch [375], train_loss: 1.4858, val_loss: 1.6521, val_acc: 0.8112\n",
      "Epoch [376], train_loss: 1.4850, val_loss: 1.6527, val_acc: 0.8097\n",
      "Epoch [377], train_loss: 1.4855, val_loss: 1.6488, val_acc: 0.8149\n",
      "Epoch [378], train_loss: 1.4849, val_loss: 1.6590, val_acc: 0.8042\n",
      "Epoch [379], train_loss: 1.4858, val_loss: 1.6589, val_acc: 0.8024\n",
      "Epoch [380], train_loss: 1.4848, val_loss: 1.6572, val_acc: 0.8061\n",
      "Epoch [381], train_loss: 1.4846, val_loss: 1.6585, val_acc: 0.8026\n",
      "Epoch [382], train_loss: 1.4847, val_loss: 1.6536, val_acc: 0.8091\n",
      "Epoch [383], train_loss: 1.4848, val_loss: 1.6616, val_acc: 0.8019\n",
      "Epoch [384], train_loss: 1.4853, val_loss: 1.6634, val_acc: 0.7997\n",
      "Epoch [385], train_loss: 1.4849, val_loss: 1.6578, val_acc: 0.8047\n",
      "Epoch [386], train_loss: 1.4853, val_loss: 1.6561, val_acc: 0.8066\n",
      "Epoch [387], train_loss: 1.4847, val_loss: 1.6547, val_acc: 0.8086\n",
      "Epoch [388], train_loss: 1.4852, val_loss: 1.6529, val_acc: 0.8106\n",
      "Epoch [389], train_loss: 1.4843, val_loss: 1.6489, val_acc: 0.8143\n",
      "Epoch [390], train_loss: 1.4851, val_loss: 1.6629, val_acc: 0.8004\n",
      "Epoch [391], train_loss: 1.4845, val_loss: 1.6580, val_acc: 0.8034\n",
      "Epoch [392], train_loss: 1.4848, val_loss: 1.6592, val_acc: 0.8046\n",
      "Epoch [393], train_loss: 1.4848, val_loss: 1.6610, val_acc: 0.8017\n",
      "Epoch [394], train_loss: 1.4848, val_loss: 1.6519, val_acc: 0.8130\n",
      "Epoch [395], train_loss: 1.4839, val_loss: 1.6481, val_acc: 0.8142\n",
      "Epoch [396], train_loss: 1.4847, val_loss: 1.6451, val_acc: 0.8179\n",
      "Epoch [397], train_loss: 1.4847, val_loss: 1.6492, val_acc: 0.8142\n",
      "Epoch [398], train_loss: 1.4844, val_loss: 1.6613, val_acc: 0.8022\n",
      "Epoch [399], train_loss: 1.4849, val_loss: 1.6539, val_acc: 0.8075\n",
      "CPU times: user 1h 18min 46s, sys: 21min 2s, total: 1h 39min 49s\n",
      "Wall time: 1h 40min 25s\n"
     ]
    }
   ],
   "source": [
    "%%time\n",
    "history += fit_one_cycle(epochs, max_lr, model, train_dl, valid_dl, \n",
    "                             grad_clip=grad_clip, \n",
    "                             weight_decay=weight_decay, \n",
    "                             opt_func=opt_func)"
   ]
  },
  {
   "cell_type": "code",
   "execution_count": 23,
   "metadata": {
    "id": "jvJzQAeNjB6Y"
   },
   "outputs": [],
   "source": [
    "def plot_accuracies(history):\n",
    "    accuracies = [x['val_acc'] for x in history]\n",
    "    plt.figure(figsize=(10,6))\n",
    "    plt.plot(accuracies, '-x')\n",
    "    plt.xlabel('epoch')\n",
    "    plt.ylabel('accuracy')\n",
    "    plt.title('Accuracy vs. No. of epochs');"
   ]
  },
  {
   "cell_type": "code",
   "execution_count": 24,
   "metadata": {
    "colab": {
     "base_uri": "https://localhost:8080/",
     "height": 171
    },
    "id": "fYuANPlfjIvt",
    "outputId": "08453f89-0933-4bd9-e02a-d760aad8714f"
   },
   "outputs": [
    {
     "data": {
      "image/png": "[encoded data removed]",
      "text/plain": [
       "<Figure size 720x432 with 1 Axes>"
      ]
     },
     "metadata": {
      "needs_background": "light"
     },
     "output_type": "display_data"
    }
   ],
   "source": [
    "plot_accuracies(history)"
   ]
  },
  {
   "cell_type": "code",
   "execution_count": 25,
   "metadata": {
    "id": "JV6cn39HjTF-"
   },
   "outputs": [],
   "source": [
    "def plot_losses(history):\n",
    "    train_losses = [x.get('train_loss') for x in history]\n",
    "    val_losses = [x['val_loss'] for x in history]\n",
    "    plt.figure(figsize=(10,6))\n",
    "    plt.plot(train_losses, '-bx')\n",
    "    plt.plot(val_losses, '-rx')\n",
    "    plt.xlabel('epoch')\n",
    "    plt.ylabel('loss')\n",
    "    plt.legend(['Training', 'Validation'])\n",
    "    plt.title('Loss vs. No. of epochs');"
   ]
  },
  {
   "cell_type": "code",
   "execution_count": 26,
   "metadata": {
    "colab": {
     "base_uri": "https://localhost:8080/",
     "height": 171
    },
    "id": "kuky-BEDjUw_",
    "outputId": "e33b1eb9-e7c7-483d-829a-75bce6a074ae"
   },
   "outputs": [
    {
     "data": {
      "image/png": "[encoded data removed]",
      "text/plain": [
       "<Figure size 720x432 with 1 Axes>"
      ]
     },
     "metadata": {
      "needs_background": "light"
     },
     "output_type": "display_data"
    }
   ],
   "source": [
    "plot_losses(history)"
   ]
  },
  {
   "cell_type": "code",
   "execution_count": 27,
   "metadata": {
    "id": "ToUcs2S6jZl_"
   },
   "outputs": [],
   "source": [
    "def plot_lrs(history):\n",
    "    lrs = np.concatenate([x.get('lrs', []) for x in history])\n",
    "    plt.figure(figsize=(10,6))\n",
    "    plt.plot(lrs)\n",
    "    plt.xlabel('Batch no.')\n",
    "    plt.ylabel('Learning rate')\n",
    "    plt.title('Learning Rate vs. Batch no.');"
   ]
  },
  {
   "cell_type": "code",
   "execution_count": 28,
   "metadata": {
    "colab": {
     "base_uri": "https://localhost:8080/",
     "height": 171
    },
    "id": "V1ao5oIJjboF",
    "outputId": "23d3a338-12ab-42be-b2de-8a2b3d55ccae"
   },
   "outputs": [
    {
     "data": {
      "image/png": "[encoded data removed]",
      "text/plain": [
       "<Figure size 720x432 with 1 Axes>"
      ]
     },
     "metadata": {
      "needs_background": "light"
     },
     "output_type": "display_data"
    }
   ],
   "source": [
    "plot_lrs(history)"
   ]
  }
 ],
 "metadata": {
  "accelerator": "GPU",
  "colab": {
   "collapsed_sections": [],
   "include_colab_link": true,
   "name": "kaggle94gpu.ipynb",
   "provenance": []
  },
  "kernelspec": {
   "display_name": "Python 3",
   "language": "python",
   "name": "python3"
  },
  "language_info": {
   "codemirror_mode": {
    "name": "ipython",
    "version": 3
   },
   "file_extension": ".py",
   "mimetype": "text/x-python",
   "name": "python",
   "nbconvert_exporter": "python",
   "pygments_lexer": "ipython3",
   "version": "3.6.9"
  },
  "widgets": {
   "application/vnd.jupyter.widget-state+json": {
    "0433c9c034b7466a98118f517c9ae2e8": {
     "model_module": "@jupyter-widgets/base",
     "model_module_version": "1.2.0",
     "model_name": "LayoutModel",
     "state": {
      "_model_module": "@jupyter-widgets/base",
      "_model_module_version": "1.2.0",
      "_model_name": "LayoutModel",
      "_view_count": null,
      "_view_module": "@jupyter-widgets/base",
      "_view_module_version": "1.2.0",
      "_view_name": "LayoutView",
      "align_content": null,
      "align_items": null,
      "align_self": null,
      "border": null,
      "bottom": null,
      "display": null,
      "flex": null,
      "flex_flow": null,
      "grid_area": null,
      "grid_auto_columns": null,
      "grid_auto_flow": null,
      "grid_auto_rows": null,
      "grid_column": null,
      "grid_gap": null,
      "grid_row": null,
      "grid_template_areas": null,
      "grid_template_columns": null,
      "grid_template_rows": null,
      "height": null,
      "justify_content": null,
      "justify_items": null,
      "left": null,
      "margin": null,
      "max_height": null,
      "max_width": null,
      "min_height": null,
      "min_width": null,
      "object_fit": null,
      "object_position": null,
      "order": null,
      "overflow": null,
      "overflow_x": null,
      "overflow_y": null,
      "padding": null,
      "right": null,
      "top": null,
      "visibility": null,
      "width": null
     }
    },
    "29225a4d667e47f980b33c95c0850d16": {
     "model_module": "@jupyter-widgets/controls",
     "model_module_version": "1.5.0",
     "model_name": "DescriptionStyleModel",
     "state": {
      "_model_module": "@jupyter-widgets/controls",
      "_model_module_version": "1.5.0",
      "_model_name": "DescriptionStyleModel",
      "_view_count": null,
      "_view_module": "@jupyter-widgets/base",
      "_view_module_version": "1.2.0",
      "_view_name": "StyleView",
      "description_width": ""
     }
    },
    "350d156265104e2296caf536b05d26cc": {
     "model_module": "@jupyter-widgets/controls",
     "model_module_version": "1.5.0",
     "model_name": "FloatProgressModel",
     "state": {
      "_dom_classes": [],
      "_model_module": "@jupyter-widgets/controls",
      "_model_module_version": "1.5.0",
      "_model_name": "FloatProgressModel",
      "_view_count": null,
      "_view_module": "@jupyter-widgets/controls",
      "_view_module_version": "1.5.0",
      "_view_name": "ProgressView",
      "bar_style": "success",
      "description": "",
      "description_tooltip": null,
      "layout": "IPY_MODEL_9ae1047b1b184d81bde7c14ca6ad72d5",
      "max": 170498071,
      "min": 0,
      "orientation": "horizontal",
      "style": "IPY_MODEL_37da94684df543f3a81fe78c389f68dc",
      "value": 170498071
     }
    },
    "37da94684df543f3a81fe78c389f68dc": {
     "model_module": "@jupyter-widgets/controls",
     "model_module_version": "1.5.0",
     "model_name": "ProgressStyleModel",
     "state": {
      "_model_module": "@jupyter-widgets/controls",
      "_model_module_version": "1.5.0",
      "_model_name": "ProgressStyleModel",
      "_view_count": null,
      "_view_module": "@jupyter-widgets/base",
      "_view_module_version": "1.2.0",
      "_view_name": "StyleView",
      "bar_color": null,
      "description_width": ""
     }
    },
    "40b5952c97aa40169739936f0d549d02": {
     "model_module": "@jupyter-widgets/controls",
     "model_module_version": "1.5.0",
     "model_name": "HTMLModel",
     "state": {
      "_dom_classes": [],
      "_model_module": "@jupyter-widgets/controls",
      "_model_module_version": "1.5.0",
      "_model_name": "HTMLModel",
      "_view_count": null,
      "_view_module": "@jupyter-widgets/controls",
      "_view_module_version": "1.5.0",
      "_view_name": "HTMLView",
      "description": "",
      "description_tooltip": null,
      "layout": "IPY_MODEL_0433c9c034b7466a98118f517c9ae2e8",
      "placeholder": "​",
      "style": "IPY_MODEL_fb9ab6c5d81f48089ac0d9dc03c72e6b",
      "value": " 170499072/? [00:02&lt;00:00, 62626240.17it/s]"
     }
    },
    "4c7fbb2405c84d7887d63fd6217cba4a": {
     "model_module": "@jupyter-widgets/controls",
     "model_module_version": "1.5.0",
     "model_name": "HTMLModel",
     "state": {
      "_dom_classes": [],
      "_model_module": "@jupyter-widgets/controls",
      "_model_module_version": "1.5.0",
      "_model_name": "HTMLModel",
      "_view_count": null,
      "_view_module": "@jupyter-widgets/controls",
      "_view_module_version": "1.5.0",
      "_view_name": "HTMLView",
      "description": "",
      "description_tooltip": null,
      "layout": "IPY_MODEL_a448b41c426a4810a07d5eb92df1bc21",
      "placeholder": "​",
      "style": "IPY_MODEL_29225a4d667e47f980b33c95c0850d16",
      "value": ""
     }
    },
    "50c9aed288f14fcd94009217a59c91ff": {
     "model_module": "@jupyter-widgets/base",
     "model_module_version": "1.2.0",
     "model_name": "LayoutModel",
     "state": {
      "_model_module": "@jupyter-widgets/base",
      "_model_module_version": "1.2.0",
      "_model_name": "LayoutModel",
      "_view_count": null,
      "_view_module": "@jupyter-widgets/base",
      "_view_module_version": "1.2.0",
      "_view_name": "LayoutView",
      "align_content": null,
      "align_items": null,
      "align_self": null,
      "border": null,
      "bottom": null,
      "display": null,
      "flex": null,
      "flex_flow": null,
      "grid_area": null,
      "grid_auto_columns": null,
      "grid_auto_flow": null,
      "grid_auto_rows": null,
      "grid_column": null,
      "grid_gap": null,
      "grid_row": null,
      "grid_template_areas": null,
      "grid_template_columns": null,
      "grid_template_rows": null,
      "height": null,
      "justify_content": null,
      "justify_items": null,
      "left": null,
      "margin": null,
      "max_height": null,
      "max_width": null,
      "min_height": null,
      "min_width": null,
      "object_fit": null,
      "object_position": null,
      "order": null,
      "overflow": null,
      "overflow_x": null,
      "overflow_y": null,
      "padding": null,
      "right": null,
      "top": null,
      "visibility": null,
      "width": null
     }
    },
    "9ae1047b1b184d81bde7c14ca6ad72d5": {
     "model_module": "@jupyter-widgets/base",
     "model_module_version": "1.2.0",
     "model_name": "LayoutModel",
     "state": {
      "_model_module": "@jupyter-widgets/base",
      "_model_module_version": "1.2.0",
      "_model_name": "LayoutModel",
      "_view_count": null,
      "_view_module": "@jupyter-widgets/base",
      "_view_module_version": "1.2.0",
      "_view_name": "LayoutView",
      "align_content": null,
      "align_items": null,
      "align_self": null,
      "border": null,
      "bottom": null,
      "display": null,
      "flex": null,
      "flex_flow": null,
      "grid_area": null,
      "grid_auto_columns": null,
      "grid_auto_flow": null,
      "grid_auto_rows": null,
      "grid_column": null,
      "grid_gap": null,
      "grid_row": null,
      "grid_template_areas": null,
      "grid_template_columns": null,
      "grid_template_rows": null,
      "height": null,
      "justify_content": null,
      "justify_items": null,
      "left": null,
      "margin": null,
      "max_height": null,
      "max_width": null,
      "min_height": null,
      "min_width": null,
      "object_fit": null,
      "object_position": null,
      "order": null,
      "overflow": null,
      "overflow_x": null,
      "overflow_y": null,
      "padding": null,
      "right": null,
      "top": null,
      "visibility": null,
      "width": null
     }
    },
    "a448b41c426a4810a07d5eb92df1bc21": {
     "model_module": "@jupyter-widgets/base",
     "model_module_version": "1.2.0",
     "model_name": "LayoutModel",
     "state": {
      "_model_module": "@jupyter-widgets/base",
      "_model_module_version": "1.2.0",
      "_model_name": "LayoutModel",
      "_view_count": null,
      "_view_module": "@jupyter-widgets/base",
      "_view_module_version": "1.2.0",
      "_view_name": "LayoutView",
      "align_content": null,
      "align_items": null,
      "align_self": null,
      "border": null,
      "bottom": null,
      "display": null,
      "flex": null,
      "flex_flow": null,
      "grid_area": null,
      "grid_auto_columns": null,
      "grid_auto_flow": null,
      "grid_auto_rows": null,
      "grid_column": null,
      "grid_gap": null,
      "grid_row": null,
      "grid_template_areas": null,
      "grid_template_columns": null,
      "grid_template_rows": null,
      "height": null,
      "justify_content": null,
      "justify_items": null,
      "left": null,
      "margin": null,
      "max_height": null,
      "max_width": null,
      "min_height": null,
      "min_width": null,
      "object_fit": null,
      "object_position": null,
      "order": null,
      "overflow": null,
      "overflow_x": null,
      "overflow_y": null,
      "padding": null,
      "right": null,
      "top": null,
      "visibility": null,
      "width": null
     }
    },
    "c974d31e436a42899adbf2ef969307a4": {
     "model_module": "@jupyter-widgets/controls",
     "model_module_version": "1.5.0",
     "model_name": "HBoxModel",
     "state": {
      "_dom_classes": [],
      "_model_module": "@jupyter-widgets/controls",
      "_model_module_version": "1.5.0",
      "_model_name": "HBoxModel",
      "_view_count": null,
      "_view_module": "@jupyter-widgets/controls",
      "_view_module_version": "1.5.0",
      "_view_name": "HBoxView",
      "box_style": "",
      "children": [
       "IPY_MODEL_4c7fbb2405c84d7887d63fd6217cba4a",
       "IPY_MODEL_350d156265104e2296caf536b05d26cc",
       "IPY_MODEL_40b5952c97aa40169739936f0d549d02"
      ],
      "layout": "IPY_MODEL_50c9aed288f14fcd94009217a59c91ff"
     }
    },
    "fb9ab6c5d81f48089ac0d9dc03c72e6b": {
     "model_module": "@jupyter-widgets/controls",
     "model_module_version": "1.5.0",
     "model_name": "DescriptionStyleModel",
     "state": {
      "_model_module": "@jupyter-widgets/controls",
      "_model_module_version": "1.5.0",
      "_model_name": "DescriptionStyleModel",
      "_view_count": null,
      "_view_module": "@jupyter-widgets/base",
      "_view_module_version": "1.2.0",
      "_view_name": "StyleView",
      "description_width": ""
     }
    }
   }
  }
 },
 "nbformat": 4,
 "nbformat_minor": 4
}
