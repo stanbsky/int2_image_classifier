{
 "cells": [
  {
   "cell_type": "markdown",
   "metadata": {
    "colab_type": "text",
    "id": "view-in-github"
   },
   "source": [
    "<a href=\"https://colab.research.google.com/github/stanbsky/int2_image_classifier/blob/main/kaggle94gpu.ipynb\" target=\"_parent\"><img src=\"https://colab.research.google.com/assets/colab-badge.svg\" alt=\"Open In Colab\"/></a>"
   ]
  },
  {
   "cell_type": "code",
   "execution_count": 1,
   "metadata": {
    "id": "OD2wVFLtkbkN"
   },
   "outputs": [
    {
     "name": "stderr",
     "output_type": "stream",
     "text": [
      "Matplotlib created a temporary config/cache directory at /tmp/matplotlib-5tuki238 because the default path (/run/user/141228/cache/matplotlib) is not a writable directory; it is highly recommended to set the MPLCONFIGDIR environment variable to a writable directory, in particular to speed up the import of Matplotlib and to better support multiprocessing.\n"
     ]
    }
   ],
   "source": [
    "# importing libraries\n",
    "import torch\n",
    "import torchvision\n",
    "from torchvision.datasets.utils import download_url\n",
    "from torch.utils.data import random_split\n",
    "from torchvision.datasets import ImageFolder\n",
    "from torchvision.transforms import ToTensor,ToPILImage\n",
    "import matplotlib.pyplot as plt\n",
    "from torchvision.utils import make_grid\n",
    "from torch.utils.data.dataloader import DataLoader\n",
    "from torchvision.utils import make_grid\n",
    "import torch.nn as nn\n",
    "import torch.nn.functional as F\n",
    "import torchvision.transforms as tt\n",
    "import numpy as np"
   ]
  },
  {
   "cell_type": "code",
   "execution_count": 2,
   "metadata": {
    "id": "Cea6yx4amG2c"
   },
   "outputs": [],
   "source": [
    "import torchvision.datasets as datasets"
   ]
  },
  {
   "cell_type": "code",
   "execution_count": 3,
   "metadata": {
    "colab": {
     "base_uri": "https://localhost:8080/"
    },
    "id": "efdLf1xLk5_y",
    "outputId": "dd7073c3-3026-4d75-eee6-e0425ce35d3e"
   },
   "outputs": [
    {
     "data": {
      "text/plain": [
       "<weakproxy at 0x7f0641759d68 to Device at 0x7f064175b518>"
      ]
     },
     "execution_count": 3,
     "metadata": {},
     "output_type": "execute_result"
    }
   ],
   "source": [
    "from numba import cuda\n",
    "cuda.select_device(5)"
   ]
  },
  {
   "cell_type": "code",
   "execution_count": 4,
   "metadata": {
    "id": "hNiNZttPlHFe"
   },
   "outputs": [],
   "source": [
    "stats= ((0.4914,0.4822,0.4465),(0.2023,0.1994,0.2010)) #mean and std\n",
    "train_tfm= tt.Compose([tt.RandomCrop(32, padding=4, padding_mode='reflect'), # transormation of data together\n",
    "                       tt.RandomHorizontalFlip(),\n",
    "                       tt.ToTensor()])\n",
    "valid_tfm = tt.Compose([tt.ToTensor()])"
   ]
  },
  {
   "cell_type": "code",
   "execution_count": 5,
   "metadata": {
    "colab": {
     "base_uri": "https://localhost:8080/",
     "height": 86,
     "referenced_widgets": [
      "c974d31e436a42899adbf2ef969307a4",
      "4c7fbb2405c84d7887d63fd6217cba4a",
      "350d156265104e2296caf536b05d26cc",
      "40b5952c97aa40169739936f0d549d02",
      "50c9aed288f14fcd94009217a59c91ff",
      "a448b41c426a4810a07d5eb92df1bc21",
      "29225a4d667e47f980b33c95c0850d16",
      "9ae1047b1b184d81bde7c14ca6ad72d5",
      "37da94684df543f3a81fe78c389f68dc",
      "0433c9c034b7466a98118f517c9ae2e8",
      "fb9ab6c5d81f48089ac0d9dc03c72e6b"
     ]
    },
    "id": "pxotEy_Al0J4",
    "outputId": "90e7b090-0622-4775-fcfa-39958472aa7c"
   },
   "outputs": [
    {
     "name": "stdout",
     "output_type": "stream",
     "text": [
      "Files already downloaded and verified\n"
     ]
    }
   ],
   "source": [
    "training_data = datasets.CIFAR10(\n",
    "    root=\"data\",\n",
    "    train=True,\n",
    "    download=True,\n",
    "    transform=train_tfm,\n",
    ")"
   ]
  },
  {
   "cell_type": "code",
   "execution_count": 6,
   "metadata": {
    "colab": {
     "base_uri": "https://localhost:8080/"
    },
    "id": "3HUIV5yKmj4F",
    "outputId": "96675fe3-76e5-4e9f-9bc2-14b1d389996f"
   },
   "outputs": [
    {
     "name": "stdout",
     "output_type": "stream",
     "text": [
      "Files already downloaded and verified\n"
     ]
    }
   ],
   "source": [
    "# Download test data from open datasets.\n",
    "test_data = datasets.CIFAR10(\n",
    "    root=\"data\",\n",
    "    train=False,\n",
    "    download=True,\n",
    "    transform=valid_tfm,\n",
    ")"
   ]
  },
  {
   "cell_type": "code",
   "execution_count": 7,
   "metadata": {
    "colab": {
     "base_uri": "https://localhost:8080/"
    },
    "id": "3eOTjMVem_T9",
    "outputId": "c3a532da-260b-4bd9-baef-144d73c92f92"
   },
   "outputs": [
    {
     "data": {
      "text/plain": [
       "Dataset CIFAR10\n",
       "    Number of datapoints: 50000\n",
       "    Root location: data\n",
       "    Split: Train\n",
       "    StandardTransform\n",
       "Transform: Compose(\n",
       "               RandomCrop(size=(32, 32), padding=4)\n",
       "               RandomHorizontalFlip(p=0.5)\n",
       "               ToTensor()\n",
       "           )"
      ]
     },
     "execution_count": 7,
     "metadata": {},
     "output_type": "execute_result"
    }
   ],
   "source": [
    "valid_ds = test_data\n",
    "train_ds = training_data\n",
    "train_ds"
   ]
  },
  {
   "cell_type": "code",
   "execution_count": 8,
   "metadata": {
    "id": "JAFQAJUVr7U2"
   },
   "outputs": [],
   "source": [
    "def show_image(img,label):\n",
    "    print('Label: ', train_ds.classes[label],\"(\"+str(label)+\")\")\n",
    "    plt.imshow(img.permute(1,2,0))"
   ]
  },
  {
   "cell_type": "code",
   "execution_count": 9,
   "metadata": {
    "id": "tj5jXuuBri6o"
   },
   "outputs": [],
   "source": [
    "batch_size=200"
   ]
  },
  {
   "cell_type": "code",
   "execution_count": 10,
   "metadata": {
    "id": "n4kCM-hare00"
   },
   "outputs": [],
   "source": [
    "# Dataloader to load data in batches(mini batch)\n",
    "train_dl= DataLoader(train_ds,batch_size,shuffle=True, num_workers=2, pin_memory=True)\n",
    "valid_dl= DataLoader(valid_ds, batch_size, num_workers=2,pin_memory=True)"
   ]
  },
  {
   "cell_type": "code",
   "execution_count": 11,
   "metadata": {
    "id": "mcfsy3QptG2Y"
   },
   "outputs": [],
   "source": [
    "def show_batch(dl):\n",
    "    for images, labels in dl:\n",
    "        fig,ax= plt.subplots(figsize=(12,12))\n",
    "        ax.set_xticks([]) #hide ticks\n",
    "        ax.set_yticks([])\n",
    "        ax.imshow(make_grid(images[:64],nrow=8).permute(1,2,0))\n",
    "        break # printing only first 64 images from first batch"
   ]
  },
  {
   "cell_type": "code",
   "execution_count": 12,
   "metadata": {
    "id": "lPVFZltRtXt4"
   },
   "outputs": [],
   "source": [
    "def get_default_device():\n",
    "    \"\"\"Pick GPU if available, else CPU\"\"\"\n",
    "    if torch.cuda.is_available():\n",
    "        return torch.device('cuda')\n",
    "    else:\n",
    "        return torch.device('cpu')\n",
    "    \n",
    "def to_device(data, device):\n",
    "    \"\"\"Move tensor(s) to chosen device\"\"\"\n",
    "    if isinstance(data, (list,tuple)):\n",
    "        return [to_device(x, device) for x in data]\n",
    "    return data.to(device, non_blocking=True)\n",
    "\n",
    "class DeviceDataLoader():\n",
    "    \"\"\"Wrap a dataloader to move data to a device\"\"\"\n",
    "    def __init__(self, dl, device):\n",
    "        self.dl = dl\n",
    "        self.device = device\n",
    "        \n",
    "    def __iter__(self):\n",
    "        \"\"\"Yield a batch of data after moving it to device\"\"\"\n",
    "        for b in self.dl: \n",
    "            yield to_device(b, self.device)\n",
    "\n",
    "    def __len__(self):\n",
    "        \"\"\"Number of batches\"\"\"\n",
    "        return len(self.dl)"
   ]
  },
  {
   "cell_type": "code",
   "execution_count": 13,
   "metadata": {
    "colab": {
     "base_uri": "https://localhost:8080/"
    },
    "id": "SOksgE3wtYwZ",
    "outputId": "a9fb69e1-9e00-4139-d791-b7c305a7941a"
   },
   "outputs": [
    {
     "data": {
      "text/plain": [
       "device(type='cuda')"
      ]
     },
     "execution_count": 13,
     "metadata": {},
     "output_type": "execute_result"
    }
   ],
   "source": [
    "device = get_default_device()\n",
    "device"
   ]
  },
  {
   "cell_type": "code",
   "execution_count": 14,
   "metadata": {
    "id": "hfVlteXctb6f"
   },
   "outputs": [],
   "source": [
    "train_dl= DeviceDataLoader(train_dl,device)\n",
    "valid_dl = DeviceDataLoader(valid_dl, device)"
   ]
  },
  {
   "cell_type": "code",
   "execution_count": 15,
   "metadata": {
    "id": "PLmLZHBqtlF_"
   },
   "outputs": [],
   "source": [
    "def accuracy(outputs, labels):\n",
    "    _, preds = torch.max(outputs, dim=1)\n",
    "    return torch.tensor(torch.sum(preds == labels).item() / len(preds))\n",
    "\n",
    "class ImageClassificationBase(nn.Module):\n",
    "    def training_step(self, batch):\n",
    "        images, labels = batch \n",
    "        out = self(images)                  # Generate predictions\n",
    "        loss = F.cross_entropy(out, labels) # Calculate loss\n",
    "        return loss\n",
    "    \n",
    "    def validation_step(self, batch):\n",
    "        images, labels = batch \n",
    "        out = self(images)                    # Generate predictions\n",
    "        loss = F.cross_entropy(out, labels)   # Calculate loss\n",
    "        acc = accuracy(out, labels)           # Calculate accuracy\n",
    "        return {'val_loss': loss.detach(), 'val_acc': acc}\n",
    "        \n",
    "    def validation_epoch_end(self, outputs):\n",
    "        batch_losses = [x['val_loss'] for x in outputs]\n",
    "        epoch_loss = torch.stack(batch_losses).mean()   # Combine losses\n",
    "        batch_accs = [x['val_acc'] for x in outputs]\n",
    "        epoch_acc = torch.stack(batch_accs).mean()      # Combine accuracies\n",
    "        return {'val_loss': epoch_loss.item(), 'val_acc': epoch_acc.item()}\n",
    "    \n",
    "    def epoch_end(self, epoch, result):\n",
    "        print(\"Epoch [{}], train_loss: {:.4f}, val_loss: {:.4f}, val_acc: {:.4f}\".format(\n",
    "            epoch, result['train_loss'], result['val_loss'], result['val_acc']))"
   ]
  },
  {
   "cell_type": "code",
   "execution_count": 16,
   "metadata": {
    "id": "LcaZkKzQtomv"
   },
   "outputs": [],
   "source": [
    "def conv_block(in_channels, out_channels, stride=1):\n",
    "    layers = [nn.Conv2d(in_channels, out_channels, kernel_size=3, padding=1, stride=stride), \n",
    "              nn.BatchNorm2d(out_channels), \n",
    "              nn.ReLU(inplace=True)]\n",
    "    return nn.Sequential(*layers)\n",
    "\n",
    "def shortcut(in_channels, out_channels):\n",
    "    return nn.Conv2d(in_channels, out_channels, kernel_size=3, padding=1, stride=2)\n",
    "\n",
    "class ResNet(ImageClassificationBase):\n",
    "    def __init__(self, in_channels, num_classes, n):\n",
    "        super().__init__()\n",
    "        \n",
    "        self.n = n\n",
    "        \n",
    "        # 32x32 map\n",
    "        self.conv1 = conv_block(in_channels, 16)\n",
    "        self.reg32 = nn.Sequential(conv_block(16,16), conv_block(16,16))\n",
    "        \n",
    "        # 16x16 map\n",
    "        self.entry16 = nn.Sequential(conv_block(16, 32, stride=2), conv_block(32, 32))\n",
    "        self.short16 = shortcut(16, 32)\n",
    "        self.reg16 = nn.Sequential(conv_block(32, 32), conv_block(32, 32))\n",
    "        \n",
    "        # 8x8 map\n",
    "        self.entry8 = nn.Sequential(conv_block(32, 64, stride=2), conv_block(64, 64))\n",
    "        self.short8 = shortcut(32, 64)\n",
    "        self.reg8 = nn.Sequential(conv_block(64, 64), conv_block(64, 64))\n",
    "        \n",
    "        self.classifier = nn.Sequential(nn.AvgPool2d(kernel_size=8, stride=None, padding=0), \n",
    "                                        nn.Linear(64, num_classes),\n",
    "                                       nn.Softmax())\n",
    "        # FOR DEBUGGING\n",
    "        self.avg = nn.AvgPool2d(kernel_size=8, stride=None, padding=0)\n",
    "        self.flat = nn.Flatten()\n",
    "        self.fcl = nn.Linear(64, num_classes)\n",
    "        self.sm = nn.Softmax()\n",
    "        \n",
    "    def forward(self, xb):\n",
    "        out = self.conv1(xb)\n",
    "        \n",
    "        for i in range(self.n):\n",
    "            out = self.reg32(out) + out\n",
    "            \n",
    "        out = self.entry16(out) + self.short16(out)\n",
    "        for i in range(self.n - 1):\n",
    "            out = self.reg16(out) + out\n",
    "            \n",
    "        out = self.entry8(out) + self.short8(out)\n",
    "        for i in range(self.n - 1):\n",
    "            out = self.reg8(out) + out\n",
    "\n",
    "        #out = self.classifier(out)\n",
    "        out = self.avg(out)\n",
    "        out = self.flat(out)\n",
    "        out = self.fcl(out)\n",
    "        out = self.sm(out)\n",
    "        \n",
    "        return out"
   ]
  },
  {
   "cell_type": "code",
   "execution_count": 17,
   "metadata": {
    "colab": {
     "base_uri": "https://localhost:8080/"
    },
    "id": "O8BOig0Otrjz",
    "outputId": "a40ce9a4-8852-4595-9525-9841221a3391"
   },
   "outputs": [
    {
     "data": {
      "text/plain": [
       "ResNet(\n",
       "  (conv1): Sequential(\n",
       "    (0): Conv2d(3, 16, kernel_size=(3, 3), stride=(1, 1), padding=(1, 1))\n",
       "    (1): BatchNorm2d(16, eps=1e-05, momentum=0.1, affine=True, track_running_stats=True)\n",
       "    (2): ReLU(inplace=True)\n",
       "  )\n",
       "  (reg32): Sequential(\n",
       "    (0): Sequential(\n",
       "      (0): Conv2d(16, 16, kernel_size=(3, 3), stride=(1, 1), padding=(1, 1))\n",
       "      (1): BatchNorm2d(16, eps=1e-05, momentum=0.1, affine=True, track_running_stats=True)\n",
       "      (2): ReLU(inplace=True)\n",
       "    )\n",
       "    (1): Sequential(\n",
       "      (0): Conv2d(16, 16, kernel_size=(3, 3), stride=(1, 1), padding=(1, 1))\n",
       "      (1): BatchNorm2d(16, eps=1e-05, momentum=0.1, affine=True, track_running_stats=True)\n",
       "      (2): ReLU(inplace=True)\n",
       "    )\n",
       "  )\n",
       "  (entry16): Sequential(\n",
       "    (0): Sequential(\n",
       "      (0): Conv2d(16, 32, kernel_size=(3, 3), stride=(2, 2), padding=(1, 1))\n",
       "      (1): BatchNorm2d(32, eps=1e-05, momentum=0.1, affine=True, track_running_stats=True)\n",
       "      (2): ReLU(inplace=True)\n",
       "    )\n",
       "    (1): Sequential(\n",
       "      (0): Conv2d(32, 32, kernel_size=(3, 3), stride=(1, 1), padding=(1, 1))\n",
       "      (1): BatchNorm2d(32, eps=1e-05, momentum=0.1, affine=True, track_running_stats=True)\n",
       "      (2): ReLU(inplace=True)\n",
       "    )\n",
       "  )\n",
       "  (short16): Conv2d(16, 32, kernel_size=(3, 3), stride=(2, 2), padding=(1, 1))\n",
       "  (reg16): Sequential(\n",
       "    (0): Sequential(\n",
       "      (0): Conv2d(32, 32, kernel_size=(3, 3), stride=(1, 1), padding=(1, 1))\n",
       "      (1): BatchNorm2d(32, eps=1e-05, momentum=0.1, affine=True, track_running_stats=True)\n",
       "      (2): ReLU(inplace=True)\n",
       "    )\n",
       "    (1): Sequential(\n",
       "      (0): Conv2d(32, 32, kernel_size=(3, 3), stride=(1, 1), padding=(1, 1))\n",
       "      (1): BatchNorm2d(32, eps=1e-05, momentum=0.1, affine=True, track_running_stats=True)\n",
       "      (2): ReLU(inplace=True)\n",
       "    )\n",
       "  )\n",
       "  (entry8): Sequential(\n",
       "    (0): Sequential(\n",
       "      (0): Conv2d(32, 64, kernel_size=(3, 3), stride=(2, 2), padding=(1, 1))\n",
       "      (1): BatchNorm2d(64, eps=1e-05, momentum=0.1, affine=True, track_running_stats=True)\n",
       "      (2): ReLU(inplace=True)\n",
       "    )\n",
       "    (1): Sequential(\n",
       "      (0): Conv2d(64, 64, kernel_size=(3, 3), stride=(1, 1), padding=(1, 1))\n",
       "      (1): BatchNorm2d(64, eps=1e-05, momentum=0.1, affine=True, track_running_stats=True)\n",
       "      (2): ReLU(inplace=True)\n",
       "    )\n",
       "  )\n",
       "  (short8): Conv2d(32, 64, kernel_size=(3, 3), stride=(2, 2), padding=(1, 1))\n",
       "  (reg8): Sequential(\n",
       "    (0): Sequential(\n",
       "      (0): Conv2d(64, 64, kernel_size=(3, 3), stride=(1, 1), padding=(1, 1))\n",
       "      (1): BatchNorm2d(64, eps=1e-05, momentum=0.1, affine=True, track_running_stats=True)\n",
       "      (2): ReLU(inplace=True)\n",
       "    )\n",
       "    (1): Sequential(\n",
       "      (0): Conv2d(64, 64, kernel_size=(3, 3), stride=(1, 1), padding=(1, 1))\n",
       "      (1): BatchNorm2d(64, eps=1e-05, momentum=0.1, affine=True, track_running_stats=True)\n",
       "      (2): ReLU(inplace=True)\n",
       "    )\n",
       "  )\n",
       "  (classifier): Sequential(\n",
       "    (0): AvgPool2d(kernel_size=8, stride=8, padding=0)\n",
       "    (1): Linear(in_features=64, out_features=10, bias=True)\n",
       "    (2): Softmax(dim=None)\n",
       "  )\n",
       "  (avg): AvgPool2d(kernel_size=8, stride=8, padding=0)\n",
       "  (flat): Flatten(start_dim=1, end_dim=-1)\n",
       "  (fcl): Linear(in_features=64, out_features=10, bias=True)\n",
       "  (sm): Softmax(dim=None)\n",
       ")"
      ]
     },
     "execution_count": 17,
     "metadata": {},
     "output_type": "execute_result"
    }
   ],
   "source": [
    "# n=8 => ResNet50\n",
    "model= to_device(ResNet(3,10,8), device)\n",
    "model"
   ]
  },
  {
   "cell_type": "code",
   "execution_count": 18,
   "metadata": {
    "colab": {
     "base_uri": "https://localhost:8080/"
    },
    "id": "O8BOig0Otrjz",
    "outputId": "a40ce9a4-8852-4595-9525-9841221a3391"
   },
   "outputs": [
    {
     "name": "stdout",
     "output_type": "stream",
     "text": [
      "----------------------------------------------------------------\n",
      "        Layer (type)               Output Shape         Param #\n",
      "================================================================\n",
      "            Conv2d-1           [-1, 16, 32, 32]             448\n",
      "       BatchNorm2d-2           [-1, 16, 32, 32]              32\n",
      "              ReLU-3           [-1, 16, 32, 32]               0\n",
      "            Conv2d-4           [-1, 16, 32, 32]           2,320\n",
      "       BatchNorm2d-5           [-1, 16, 32, 32]              32\n",
      "              ReLU-6           [-1, 16, 32, 32]               0\n",
      "            Conv2d-7           [-1, 16, 32, 32]           2,320\n",
      "       BatchNorm2d-8           [-1, 16, 32, 32]              32\n",
      "              ReLU-9           [-1, 16, 32, 32]               0\n",
      "           Conv2d-10           [-1, 16, 32, 32]           2,320\n",
      "      BatchNorm2d-11           [-1, 16, 32, 32]              32\n",
      "             ReLU-12           [-1, 16, 32, 32]               0\n",
      "           Conv2d-13           [-1, 16, 32, 32]           2,320\n",
      "      BatchNorm2d-14           [-1, 16, 32, 32]              32\n",
      "             ReLU-15           [-1, 16, 32, 32]               0\n",
      "           Conv2d-16           [-1, 16, 32, 32]           2,320\n",
      "      BatchNorm2d-17           [-1, 16, 32, 32]              32\n",
      "             ReLU-18           [-1, 16, 32, 32]               0\n",
      "           Conv2d-19           [-1, 16, 32, 32]           2,320\n",
      "      BatchNorm2d-20           [-1, 16, 32, 32]              32\n",
      "             ReLU-21           [-1, 16, 32, 32]               0\n",
      "           Conv2d-22           [-1, 16, 32, 32]           2,320\n",
      "      BatchNorm2d-23           [-1, 16, 32, 32]              32\n",
      "             ReLU-24           [-1, 16, 32, 32]               0\n",
      "           Conv2d-25           [-1, 16, 32, 32]           2,320\n",
      "      BatchNorm2d-26           [-1, 16, 32, 32]              32\n",
      "             ReLU-27           [-1, 16, 32, 32]               0\n",
      "           Conv2d-28           [-1, 16, 32, 32]           2,320\n",
      "      BatchNorm2d-29           [-1, 16, 32, 32]              32\n",
      "             ReLU-30           [-1, 16, 32, 32]               0\n",
      "           Conv2d-31           [-1, 16, 32, 32]           2,320\n",
      "      BatchNorm2d-32           [-1, 16, 32, 32]              32\n",
      "             ReLU-33           [-1, 16, 32, 32]               0\n",
      "           Conv2d-34           [-1, 16, 32, 32]           2,320\n",
      "      BatchNorm2d-35           [-1, 16, 32, 32]              32\n",
      "             ReLU-36           [-1, 16, 32, 32]               0\n",
      "           Conv2d-37           [-1, 16, 32, 32]           2,320\n",
      "      BatchNorm2d-38           [-1, 16, 32, 32]              32\n",
      "             ReLU-39           [-1, 16, 32, 32]               0\n",
      "           Conv2d-40           [-1, 16, 32, 32]           2,320\n",
      "      BatchNorm2d-41           [-1, 16, 32, 32]              32\n",
      "             ReLU-42           [-1, 16, 32, 32]               0\n",
      "           Conv2d-43           [-1, 16, 32, 32]           2,320\n",
      "      BatchNorm2d-44           [-1, 16, 32, 32]              32\n",
      "             ReLU-45           [-1, 16, 32, 32]               0\n",
      "           Conv2d-46           [-1, 16, 32, 32]           2,320\n",
      "      BatchNorm2d-47           [-1, 16, 32, 32]              32\n",
      "             ReLU-48           [-1, 16, 32, 32]               0\n",
      "           Conv2d-49           [-1, 16, 32, 32]           2,320\n",
      "      BatchNorm2d-50           [-1, 16, 32, 32]              32\n",
      "             ReLU-51           [-1, 16, 32, 32]               0\n",
      "           Conv2d-52           [-1, 32, 16, 16]           4,640\n",
      "      BatchNorm2d-53           [-1, 32, 16, 16]              64\n",
      "             ReLU-54           [-1, 32, 16, 16]               0\n",
      "           Conv2d-55           [-1, 32, 16, 16]           9,248\n",
      "      BatchNorm2d-56           [-1, 32, 16, 16]              64\n",
      "             ReLU-57           [-1, 32, 16, 16]               0\n",
      "           Conv2d-58           [-1, 32, 16, 16]           4,640\n",
      "           Conv2d-59           [-1, 32, 16, 16]           9,248\n",
      "      BatchNorm2d-60           [-1, 32, 16, 16]              64\n",
      "             ReLU-61           [-1, 32, 16, 16]               0\n",
      "           Conv2d-62           [-1, 32, 16, 16]           9,248\n",
      "      BatchNorm2d-63           [-1, 32, 16, 16]              64\n",
      "             ReLU-64           [-1, 32, 16, 16]               0\n",
      "           Conv2d-65           [-1, 32, 16, 16]           9,248\n",
      "      BatchNorm2d-66           [-1, 32, 16, 16]              64\n",
      "             ReLU-67           [-1, 32, 16, 16]               0\n",
      "           Conv2d-68           [-1, 32, 16, 16]           9,248\n",
      "      BatchNorm2d-69           [-1, 32, 16, 16]              64\n",
      "             ReLU-70           [-1, 32, 16, 16]               0\n",
      "           Conv2d-71           [-1, 32, 16, 16]           9,248\n",
      "      BatchNorm2d-72           [-1, 32, 16, 16]              64\n",
      "             ReLU-73           [-1, 32, 16, 16]               0\n",
      "           Conv2d-74           [-1, 32, 16, 16]           9,248\n",
      "      BatchNorm2d-75           [-1, 32, 16, 16]              64\n",
      "             ReLU-76           [-1, 32, 16, 16]               0\n",
      "           Conv2d-77           [-1, 32, 16, 16]           9,248\n",
      "      BatchNorm2d-78           [-1, 32, 16, 16]              64\n",
      "             ReLU-79           [-1, 32, 16, 16]               0\n",
      "           Conv2d-80           [-1, 32, 16, 16]           9,248\n",
      "      BatchNorm2d-81           [-1, 32, 16, 16]              64\n",
      "             ReLU-82           [-1, 32, 16, 16]               0\n",
      "           Conv2d-83           [-1, 32, 16, 16]           9,248\n",
      "      BatchNorm2d-84           [-1, 32, 16, 16]              64\n",
      "             ReLU-85           [-1, 32, 16, 16]               0\n",
      "           Conv2d-86           [-1, 32, 16, 16]           9,248\n",
      "      BatchNorm2d-87           [-1, 32, 16, 16]              64\n",
      "             ReLU-88           [-1, 32, 16, 16]               0\n",
      "           Conv2d-89           [-1, 32, 16, 16]           9,248\n",
      "      BatchNorm2d-90           [-1, 32, 16, 16]              64\n",
      "             ReLU-91           [-1, 32, 16, 16]               0\n",
      "           Conv2d-92           [-1, 32, 16, 16]           9,248\n",
      "      BatchNorm2d-93           [-1, 32, 16, 16]              64\n",
      "             ReLU-94           [-1, 32, 16, 16]               0\n",
      "           Conv2d-95           [-1, 32, 16, 16]           9,248\n",
      "      BatchNorm2d-96           [-1, 32, 16, 16]              64\n",
      "             ReLU-97           [-1, 32, 16, 16]               0\n",
      "           Conv2d-98           [-1, 32, 16, 16]           9,248\n",
      "      BatchNorm2d-99           [-1, 32, 16, 16]              64\n",
      "            ReLU-100           [-1, 32, 16, 16]               0\n",
      "          Conv2d-101             [-1, 64, 8, 8]          18,496\n",
      "     BatchNorm2d-102             [-1, 64, 8, 8]             128\n",
      "            ReLU-103             [-1, 64, 8, 8]               0\n",
      "          Conv2d-104             [-1, 64, 8, 8]          36,928\n",
      "     BatchNorm2d-105             [-1, 64, 8, 8]             128\n",
      "            ReLU-106             [-1, 64, 8, 8]               0\n",
      "          Conv2d-107             [-1, 64, 8, 8]          18,496\n",
      "          Conv2d-108             [-1, 64, 8, 8]          36,928\n",
      "     BatchNorm2d-109             [-1, 64, 8, 8]             128\n",
      "            ReLU-110             [-1, 64, 8, 8]               0\n",
      "          Conv2d-111             [-1, 64, 8, 8]          36,928\n",
      "     BatchNorm2d-112             [-1, 64, 8, 8]             128\n",
      "            ReLU-113             [-1, 64, 8, 8]               0\n",
      "          Conv2d-114             [-1, 64, 8, 8]          36,928\n",
      "     BatchNorm2d-115             [-1, 64, 8, 8]             128\n",
      "            ReLU-116             [-1, 64, 8, 8]               0\n",
      "          Conv2d-117             [-1, 64, 8, 8]          36,928\n",
      "     BatchNorm2d-118             [-1, 64, 8, 8]             128\n",
      "            ReLU-119             [-1, 64, 8, 8]               0\n",
      "          Conv2d-120             [-1, 64, 8, 8]          36,928\n",
      "     BatchNorm2d-121             [-1, 64, 8, 8]             128\n",
      "            ReLU-122             [-1, 64, 8, 8]               0\n",
      "          Conv2d-123             [-1, 64, 8, 8]          36,928\n",
      "     BatchNorm2d-124             [-1, 64, 8, 8]             128\n",
      "            ReLU-125             [-1, 64, 8, 8]               0\n",
      "          Conv2d-126             [-1, 64, 8, 8]          36,928\n",
      "     BatchNorm2d-127             [-1, 64, 8, 8]             128\n",
      "            ReLU-128             [-1, 64, 8, 8]               0\n",
      "          Conv2d-129             [-1, 64, 8, 8]          36,928\n",
      "     BatchNorm2d-130             [-1, 64, 8, 8]             128\n",
      "            ReLU-131             [-1, 64, 8, 8]               0\n",
      "          Conv2d-132             [-1, 64, 8, 8]          36,928\n",
      "     BatchNorm2d-133             [-1, 64, 8, 8]             128\n",
      "            ReLU-134             [-1, 64, 8, 8]               0\n",
      "          Conv2d-135             [-1, 64, 8, 8]          36,928\n",
      "     BatchNorm2d-136             [-1, 64, 8, 8]             128\n",
      "            ReLU-137             [-1, 64, 8, 8]               0\n",
      "          Conv2d-138             [-1, 64, 8, 8]          36,928\n",
      "     BatchNorm2d-139             [-1, 64, 8, 8]             128\n",
      "            ReLU-140             [-1, 64, 8, 8]               0\n",
      "          Conv2d-141             [-1, 64, 8, 8]          36,928\n",
      "     BatchNorm2d-142             [-1, 64, 8, 8]             128\n",
      "            ReLU-143             [-1, 64, 8, 8]               0\n",
      "          Conv2d-144             [-1, 64, 8, 8]          36,928\n",
      "     BatchNorm2d-145             [-1, 64, 8, 8]             128\n",
      "            ReLU-146             [-1, 64, 8, 8]               0\n",
      "          Conv2d-147             [-1, 64, 8, 8]          36,928\n",
      "     BatchNorm2d-148             [-1, 64, 8, 8]             128\n",
      "            ReLU-149             [-1, 64, 8, 8]               0\n",
      "       AvgPool2d-150             [-1, 64, 1, 1]               0\n",
      "         Flatten-151                   [-1, 64]               0\n",
      "          Linear-152                   [-1, 10]             650\n",
      "         Softmax-153                   [-1, 10]               0\n",
      "================================================================\n",
      "Total params: 780,746\n",
      "Trainable params: 780,746\n",
      "Non-trainable params: 0\n",
      "----------------------------------------------------------------\n",
      "Input size (MB): 0.01\n",
      "Forward/backward pass size (MB): 10.97\n",
      "Params size (MB): 2.98\n",
      "Estimated Total Size (MB): 13.96\n",
      "----------------------------------------------------------------\n"
     ]
    },
    {
     "name": "stderr",
     "output_type": "stream",
     "text": [
      "/home/userfs/s/sb2444/.local/lib/python3.6/site-packages/ipykernel_launcher.py:57: UserWarning: Implicit dimension choice for softmax has been deprecated. Change the call to include dim=X as an argument.\n"
     ]
    }
   ],
   "source": [
    "from torchvision import models\n",
    "from torchsummary import summary\n",
    "summary(model, (3, 32, 32))"
   ]
  },
  {
   "cell_type": "code",
   "execution_count": 19,
   "metadata": {
    "id": "hmbJUvR3t0QY"
   },
   "outputs": [],
   "source": [
    "@torch.no_grad()\n",
    "def evaluate(model, val_loader):\n",
    "    model.eval()\n",
    "    outputs = [model.validation_step(batch) for batch in val_loader]\n",
    "    return model.validation_epoch_end(outputs)\n",
    "\n",
    "def get_lr(optimizer):\n",
    "    for param_group in optimizer.param_groups:\n",
    "        return param_group['lr']\n",
    "\n",
    "def fit_one_cycle(epochs, max_lr, model, train_loader, val_loader, \n",
    "                  weight_decay=0, grad_clip=None, opt_func=torch.optim.SGD):\n",
    "    torch.cuda.empty_cache()  # Realsing cuda memory otherwise might get cuda out of memory error\n",
    "    history = []\n",
    "    \n",
    "    #custom optimizer with weight decay\n",
    "    optimizer = opt_func(model.parameters(), max_lr, weight_decay=weight_decay)\n",
    "    # Set up one-cycle learning rate scheduler\n",
    "    sched = torch.optim.lr_scheduler.OneCycleLR(optimizer, max_lr, epochs=epochs, \n",
    "                                                steps_per_epoch=len(train_loader))\n",
    "    \n",
    "    for epoch in range(epochs):\n",
    "        # Training Phase \n",
    "        model.train() #Setting training mode\n",
    "        train_losses = []\n",
    "        lrs = []\n",
    "        for batch in train_loader:\n",
    "            loss = model.training_step(batch)\n",
    "            train_losses.append(loss)\n",
    "            loss.backward()\n",
    "            \n",
    "            # Gradient clipping\n",
    "            if grad_clip: \n",
    "                nn.utils.clip_grad_value_(model.parameters(), grad_clip)\n",
    "            \n",
    "            optimizer.step()\n",
    "            optimizer.zero_grad()\n",
    "            \n",
    "            # Record & update learning rate\n",
    "            lrs.append(get_lr(optimizer))\n",
    "            sched.step()\n",
    "        \n",
    "        # Validation phase\n",
    "        result = evaluate(model, val_loader)\n",
    "        result['train_loss'] = torch.stack(train_losses).mean().item()\n",
    "        result['lrs'] = lrs\n",
    "        model.epoch_end(epoch, result)\n",
    "        history.append(result)\n",
    "    return history"
   ]
  },
  {
   "cell_type": "code",
   "execution_count": 20,
   "metadata": {
    "colab": {
     "base_uri": "https://localhost:8080/"
    },
    "id": "_TPdh3fbt1fH",
    "outputId": "a22ad739-4bd6-459d-f905-64450f06bf4c"
   },
   "outputs": [
    {
     "name": "stderr",
     "output_type": "stream",
     "text": [
      "/home/userfs/s/sb2444/.local/lib/python3.6/site-packages/ipykernel_launcher.py:57: UserWarning: Implicit dimension choice for softmax has been deprecated. Change the call to include dim=X as an argument.\n"
     ]
    },
    {
     "data": {
      "text/plain": [
       "[{'val_loss': 2.3038532733917236, 'val_acc': 0.10000000149011612}]"
      ]
     },
     "execution_count": 20,
     "metadata": {},
     "output_type": "execute_result"
    }
   ],
   "source": [
    "history = [evaluate(model, valid_dl)]\n",
    "history"
   ]
  },
  {
   "cell_type": "code",
   "execution_count": 21,
   "metadata": {
    "id": "fFL3dFDnt6pb"
   },
   "outputs": [],
   "source": [
    "epochs = 200\n",
    "max_lr = 0.005\n",
    "grad_clip = 0.1\n",
    "weight_decay = 1e-4\n",
    "opt_func = torch.optim.Adam"
   ]
  },
  {
   "cell_type": "code",
   "execution_count": 22,
   "metadata": {
    "colab": {
     "base_uri": "https://localhost:8080/"
    },
    "id": "01CAjQi2t8Ub",
    "outputId": "776b2d7d-902f-4f3c-ece0-24ccd16c4d53"
   },
   "outputs": [
    {
     "name": "stderr",
     "output_type": "stream",
     "text": [
      "/home/userfs/s/sb2444/.local/lib/python3.6/site-packages/ipykernel_launcher.py:57: UserWarning: Implicit dimension choice for softmax has been deprecated. Change the call to include dim=X as an argument.\n"
     ]
    },
    {
     "name": "stdout",
     "output_type": "stream",
     "text": [
      "Epoch [0], train_loss: 2.1702, val_loss: 2.3420, val_acc: 0.1058\n",
      "Epoch [1], train_loss: 2.0755, val_loss: 2.2692, val_acc: 0.1762\n",
      "Epoch [2], train_loss: 2.0268, val_loss: 2.2661, val_acc: 0.1831\n",
      "Epoch [3], train_loss: 1.9718, val_loss: 2.2754, val_acc: 0.1722\n",
      "Epoch [4], train_loss: 1.9408, val_loss: 2.2352, val_acc: 0.2185\n",
      "Epoch [5], train_loss: 1.9226, val_loss: 2.2909, val_acc: 0.1575\n",
      "Epoch [6], train_loss: 1.9003, val_loss: 2.2589, val_acc: 0.1906\n",
      "Epoch [7], train_loss: 1.8904, val_loss: 2.2069, val_acc: 0.2534\n",
      "Epoch [8], train_loss: 1.8720, val_loss: 2.2794, val_acc: 0.1713\n",
      "Epoch [9], train_loss: 1.8589, val_loss: 2.2341, val_acc: 0.2119\n",
      "Epoch [10], train_loss: 1.8304, val_loss: 2.1997, val_acc: 0.2538\n",
      "Epoch [11], train_loss: 1.8110, val_loss: 2.2047, val_acc: 0.2369\n",
      "Epoch [12], train_loss: 1.7949, val_loss: 2.2624, val_acc: 0.1750\n",
      "Epoch [13], train_loss: 1.7792, val_loss: 2.2359, val_acc: 0.2118\n",
      "Epoch [14], train_loss: 1.7681, val_loss: 2.2586, val_acc: 0.1749\n",
      "Epoch [15], train_loss: 1.7569, val_loss: 2.1743, val_acc: 0.2691\n",
      "Epoch [16], train_loss: 1.7486, val_loss: 2.1403, val_acc: 0.3058\n",
      "Epoch [17], train_loss: 1.7440, val_loss: 2.2357, val_acc: 0.2021\n",
      "Epoch [18], train_loss: 1.7366, val_loss: 2.1821, val_acc: 0.2598\n",
      "Epoch [19], train_loss: 1.7275, val_loss: 2.1528, val_acc: 0.2994\n",
      "Epoch [20], train_loss: 1.7248, val_loss: 2.1633, val_acc: 0.2847\n",
      "Epoch [21], train_loss: 1.7194, val_loss: 2.0393, val_acc: 0.4148\n",
      "Epoch [22], train_loss: 1.7203, val_loss: 2.1526, val_acc: 0.2954\n",
      "Epoch [23], train_loss: 1.7182, val_loss: 2.1448, val_acc: 0.3031\n",
      "Epoch [24], train_loss: 1.7156, val_loss: 1.9668, val_acc: 0.4871\n",
      "Epoch [25], train_loss: 1.7157, val_loss: 2.0156, val_acc: 0.4358\n",
      "Epoch [26], train_loss: 1.7131, val_loss: 1.9128, val_acc: 0.5488\n",
      "Epoch [27], train_loss: 1.7061, val_loss: 1.9404, val_acc: 0.5198\n",
      "Epoch [28], train_loss: 1.7105, val_loss: 1.8695, val_acc: 0.5890\n",
      "Epoch [29], train_loss: 1.7142, val_loss: 1.8933, val_acc: 0.5669\n",
      "Epoch [30], train_loss: 1.7137, val_loss: 1.8515, val_acc: 0.6067\n",
      "Epoch [31], train_loss: 1.7143, val_loss: 1.8466, val_acc: 0.6134\n",
      "Epoch [32], train_loss: 1.7139, val_loss: 1.8836, val_acc: 0.5739\n",
      "Epoch [33], train_loss: 1.7209, val_loss: 1.8697, val_acc: 0.5893\n",
      "Epoch [34], train_loss: 1.7245, val_loss: 1.7916, val_acc: 0.6686\n",
      "Epoch [35], train_loss: 1.7209, val_loss: 1.8084, val_acc: 0.6525\n",
      "Epoch [36], train_loss: 1.7214, val_loss: 1.8681, val_acc: 0.5895\n",
      "Epoch [37], train_loss: 1.7216, val_loss: 1.7723, val_acc: 0.6855\n",
      "Epoch [38], train_loss: 1.7267, val_loss: 1.7808, val_acc: 0.6791\n",
      "Epoch [39], train_loss: 1.7259, val_loss: 1.7736, val_acc: 0.6865\n",
      "Epoch [40], train_loss: 1.7369, val_loss: 1.8959, val_acc: 0.5625\n",
      "Epoch [41], train_loss: 1.7365, val_loss: 1.7956, val_acc: 0.6647\n",
      "Epoch [42], train_loss: 1.7425, val_loss: 1.8121, val_acc: 0.6476\n",
      "Epoch [43], train_loss: 1.7399, val_loss: 1.8025, val_acc: 0.6578\n",
      "Epoch [44], train_loss: 1.7436, val_loss: 1.8014, val_acc: 0.6581\n",
      "Epoch [45], train_loss: 1.7423, val_loss: 1.8690, val_acc: 0.5872\n",
      "Epoch [46], train_loss: 1.7451, val_loss: 1.8734, val_acc: 0.5837\n",
      "Epoch [47], train_loss: 1.7557, val_loss: 1.8969, val_acc: 0.5620\n",
      "Epoch [48], train_loss: 1.7549, val_loss: 1.8184, val_acc: 0.6397\n",
      "Epoch [49], train_loss: 1.7527, val_loss: 1.8735, val_acc: 0.5851\n",
      "Epoch [50], train_loss: 1.7547, val_loss: 1.8466, val_acc: 0.6116\n",
      "Epoch [51], train_loss: 1.7576, val_loss: 1.8345, val_acc: 0.6256\n",
      "Epoch [52], train_loss: 1.7652, val_loss: 1.8242, val_acc: 0.6346\n",
      "Epoch [53], train_loss: 1.7593, val_loss: 1.8725, val_acc: 0.5864\n",
      "Epoch [54], train_loss: 1.7659, val_loss: 1.8902, val_acc: 0.5679\n",
      "Epoch [55], train_loss: 1.7698, val_loss: 1.7953, val_acc: 0.6638\n",
      "Epoch [56], train_loss: 1.7737, val_loss: 1.8944, val_acc: 0.5642\n",
      "Epoch [57], train_loss: 1.7741, val_loss: 1.8919, val_acc: 0.5649\n",
      "Epoch [58], train_loss: 1.7715, val_loss: 1.8299, val_acc: 0.6289\n",
      "Epoch [59], train_loss: 1.7709, val_loss: 1.7979, val_acc: 0.6618\n",
      "Epoch [60], train_loss: 1.7682, val_loss: 1.7806, val_acc: 0.6795\n",
      "Epoch [61], train_loss: 1.7800, val_loss: 1.7979, val_acc: 0.6613\n",
      "Epoch [62], train_loss: 1.7702, val_loss: 1.8024, val_acc: 0.6577\n",
      "Epoch [63], train_loss: 1.7634, val_loss: 1.8032, val_acc: 0.6559\n",
      "Epoch [64], train_loss: 1.7723, val_loss: 1.8155, val_acc: 0.6428\n",
      "Epoch [65], train_loss: 1.7744, val_loss: 1.8418, val_acc: 0.6179\n",
      "Epoch [66], train_loss: 1.7747, val_loss: 1.7992, val_acc: 0.6606\n",
      "Epoch [67], train_loss: 1.7727, val_loss: 1.8010, val_acc: 0.6579\n",
      "Epoch [68], train_loss: 1.7742, val_loss: 1.8750, val_acc: 0.5834\n",
      "Epoch [69], train_loss: 1.7736, val_loss: 1.8163, val_acc: 0.6416\n",
      "Epoch [70], train_loss: 1.7707, val_loss: 1.7565, val_acc: 0.7026\n",
      "Epoch [71], train_loss: 1.7683, val_loss: 1.7954, val_acc: 0.6637\n",
      "Epoch [72], train_loss: 1.7745, val_loss: 1.8330, val_acc: 0.6265\n",
      "Epoch [73], train_loss: 1.7671, val_loss: 1.7932, val_acc: 0.6657\n",
      "Epoch [74], train_loss: 1.7616, val_loss: 1.7565, val_acc: 0.7030\n",
      "Epoch [75], train_loss: 1.7568, val_loss: 1.7950, val_acc: 0.6632\n",
      "Epoch [76], train_loss: 1.7544, val_loss: 1.7906, val_acc: 0.6694\n",
      "Epoch [77], train_loss: 1.7635, val_loss: 1.8208, val_acc: 0.6389\n",
      "Epoch [78], train_loss: 1.7669, val_loss: 1.8405, val_acc: 0.6190\n",
      "Epoch [79], train_loss: 1.7566, val_loss: 1.7607, val_acc: 0.6989\n",
      "Epoch [80], train_loss: 1.7539, val_loss: 1.7502, val_acc: 0.7100\n",
      "Epoch [81], train_loss: 1.7511, val_loss: 1.7871, val_acc: 0.6734\n",
      "Epoch [82], train_loss: 1.7519, val_loss: 1.7867, val_acc: 0.6713\n",
      "Epoch [83], train_loss: 1.7541, val_loss: 1.7651, val_acc: 0.6954\n",
      "Epoch [84], train_loss: 1.7525, val_loss: 1.7401, val_acc: 0.7202\n",
      "Epoch [85], train_loss: 1.7429, val_loss: 1.7503, val_acc: 0.7083\n",
      "Epoch [86], train_loss: 1.7493, val_loss: 1.7434, val_acc: 0.7167\n",
      "Epoch [87], train_loss: 1.7400, val_loss: 1.7579, val_acc: 0.7023\n",
      "Epoch [88], train_loss: 1.7434, val_loss: 1.8016, val_acc: 0.6578\n",
      "Epoch [89], train_loss: 1.7361, val_loss: 1.7219, val_acc: 0.7382\n",
      "Epoch [90], train_loss: 1.7472, val_loss: 1.7747, val_acc: 0.6851\n",
      "Epoch [91], train_loss: 1.7387, val_loss: 1.7739, val_acc: 0.6865\n",
      "Epoch [92], train_loss: 1.7301, val_loss: 1.7378, val_acc: 0.7224\n",
      "Epoch [93], train_loss: 1.7359, val_loss: 1.7377, val_acc: 0.7225\n",
      "Epoch [94], train_loss: 1.7331, val_loss: 1.7154, val_acc: 0.7455\n",
      "Epoch [95], train_loss: 1.7318, val_loss: 1.7591, val_acc: 0.7004\n",
      "Epoch [96], train_loss: 1.7275, val_loss: 1.7381, val_acc: 0.7218\n",
      "Epoch [97], train_loss: 1.7279, val_loss: 1.7192, val_acc: 0.7422\n",
      "Epoch [98], train_loss: 1.7190, val_loss: 1.7633, val_acc: 0.6954\n",
      "Epoch [99], train_loss: 1.7185, val_loss: 1.7376, val_acc: 0.7227\n",
      "Epoch [100], train_loss: 1.7147, val_loss: 1.8687, val_acc: 0.5891\n",
      "Epoch [101], train_loss: 1.7251, val_loss: 1.7434, val_acc: 0.7169\n",
      "Epoch [102], train_loss: 1.7178, val_loss: 1.7472, val_acc: 0.7116\n",
      "Epoch [103], train_loss: 1.7147, val_loss: 1.7298, val_acc: 0.7293\n",
      "Epoch [104], train_loss: 1.7109, val_loss: 1.7590, val_acc: 0.7003\n",
      "Epoch [105], train_loss: 1.7118, val_loss: 1.7293, val_acc: 0.7301\n",
      "Epoch [106], train_loss: 1.7122, val_loss: 1.7300, val_acc: 0.7291\n",
      "Epoch [107], train_loss: 1.7096, val_loss: 1.7498, val_acc: 0.7086\n",
      "Epoch [108], train_loss: 1.7082, val_loss: 1.7201, val_acc: 0.7399\n",
      "Epoch [109], train_loss: 1.7067, val_loss: 1.7415, val_acc: 0.7170\n",
      "Epoch [110], train_loss: 1.7023, val_loss: 1.7533, val_acc: 0.7064\n",
      "Epoch [111], train_loss: 1.7025, val_loss: 1.7542, val_acc: 0.7053\n",
      "Epoch [112], train_loss: 1.6992, val_loss: 1.7292, val_acc: 0.7292\n",
      "Epoch [113], train_loss: 1.6958, val_loss: 1.6902, val_acc: 0.7691\n",
      "Epoch [114], train_loss: 1.6893, val_loss: 1.7306, val_acc: 0.7297\n",
      "Epoch [115], train_loss: 1.6905, val_loss: 1.7069, val_acc: 0.7530\n",
      "Epoch [116], train_loss: 1.6898, val_loss: 1.7072, val_acc: 0.7519\n",
      "Epoch [117], train_loss: 1.6899, val_loss: 1.7033, val_acc: 0.7566\n",
      "Epoch [118], train_loss: 1.6852, val_loss: 1.7093, val_acc: 0.7506\n",
      "Epoch [119], train_loss: 1.6870, val_loss: 1.7025, val_acc: 0.7575\n",
      "Epoch [120], train_loss: 1.6834, val_loss: 1.7105, val_acc: 0.7486\n",
      "Epoch [121], train_loss: 1.6814, val_loss: 1.7132, val_acc: 0.7466\n",
      "Epoch [122], train_loss: 1.6766, val_loss: 1.7353, val_acc: 0.7239\n",
      "Epoch [123], train_loss: 1.6782, val_loss: 1.7049, val_acc: 0.7533\n",
      "Epoch [124], train_loss: 1.6749, val_loss: 1.6990, val_acc: 0.7603\n",
      "Epoch [125], train_loss: 1.6731, val_loss: 1.7127, val_acc: 0.7483\n",
      "Epoch [126], train_loss: 1.6702, val_loss: 1.7276, val_acc: 0.7317\n",
      "Epoch [127], train_loss: 1.6666, val_loss: 1.6899, val_acc: 0.7705\n",
      "Epoch [128], train_loss: 1.6656, val_loss: 1.7021, val_acc: 0.7589\n",
      "Epoch [129], train_loss: 1.6633, val_loss: 1.6731, val_acc: 0.7868\n",
      "Epoch [130], train_loss: 1.6612, val_loss: 1.6979, val_acc: 0.7625\n",
      "Epoch [131], train_loss: 1.6587, val_loss: 1.6826, val_acc: 0.7771\n",
      "Epoch [132], train_loss: 1.6556, val_loss: 1.6632, val_acc: 0.7969\n",
      "Epoch [133], train_loss: 1.6529, val_loss: 1.6622, val_acc: 0.7986\n",
      "Epoch [134], train_loss: 1.6583, val_loss: 1.6720, val_acc: 0.7874\n",
      "Epoch [135], train_loss: 1.6542, val_loss: 1.6642, val_acc: 0.7963\n",
      "Epoch [136], train_loss: 1.6529, val_loss: 1.6987, val_acc: 0.7616\n",
      "Epoch [137], train_loss: 1.6443, val_loss: 1.6766, val_acc: 0.7840\n",
      "Epoch [138], train_loss: 1.6444, val_loss: 1.6818, val_acc: 0.7785\n",
      "Epoch [139], train_loss: 1.6420, val_loss: 1.6721, val_acc: 0.7893\n",
      "Epoch [140], train_loss: 1.6391, val_loss: 1.7002, val_acc: 0.7597\n",
      "Epoch [141], train_loss: 1.6408, val_loss: 1.6925, val_acc: 0.7680\n",
      "Epoch [142], train_loss: 1.6358, val_loss: 1.6665, val_acc: 0.7922\n",
      "Epoch [143], train_loss: 1.6321, val_loss: 1.6670, val_acc: 0.7950\n",
      "Epoch [144], train_loss: 1.6351, val_loss: 1.6824, val_acc: 0.7767\n",
      "Epoch [145], train_loss: 1.6295, val_loss: 1.6575, val_acc: 0.8042\n",
      "Epoch [146], train_loss: 1.6299, val_loss: 1.6669, val_acc: 0.7932\n",
      "Epoch [147], train_loss: 1.6269, val_loss: 1.6623, val_acc: 0.7966\n",
      "Epoch [148], train_loss: 1.6242, val_loss: 1.6726, val_acc: 0.7873\n",
      "Epoch [149], train_loss: 1.6224, val_loss: 1.6737, val_acc: 0.7869\n",
      "Epoch [150], train_loss: 1.6204, val_loss: 1.6681, val_acc: 0.7921\n",
      "Epoch [151], train_loss: 1.6184, val_loss: 1.6514, val_acc: 0.8090\n",
      "Epoch [152], train_loss: 1.6159, val_loss: 1.6613, val_acc: 0.8000\n",
      "Epoch [153], train_loss: 1.6160, val_loss: 1.6491, val_acc: 0.8112\n",
      "Epoch [154], train_loss: 1.6131, val_loss: 1.6425, val_acc: 0.8180\n",
      "Epoch [155], train_loss: 1.6107, val_loss: 1.6623, val_acc: 0.7992\n",
      "Epoch [156], train_loss: 1.6092, val_loss: 1.6426, val_acc: 0.8196\n",
      "Epoch [157], train_loss: 1.6076, val_loss: 1.6463, val_acc: 0.8151\n",
      "Epoch [158], train_loss: 1.6060, val_loss: 1.6541, val_acc: 0.8084\n",
      "Epoch [159], train_loss: 1.6034, val_loss: 1.6557, val_acc: 0.8045\n",
      "Epoch [160], train_loss: 1.6005, val_loss: 1.6419, val_acc: 0.8197\n",
      "Epoch [161], train_loss: 1.5997, val_loss: 1.6389, val_acc: 0.8225\n",
      "Epoch [162], train_loss: 1.5991, val_loss: 1.6449, val_acc: 0.8152\n",
      "Epoch [163], train_loss: 1.5967, val_loss: 1.6325, val_acc: 0.8295\n",
      "Epoch [164], train_loss: 1.5931, val_loss: 1.6369, val_acc: 0.8252\n",
      "Epoch [165], train_loss: 1.5937, val_loss: 1.6295, val_acc: 0.8320\n",
      "Epoch [166], train_loss: 1.5937, val_loss: 1.6352, val_acc: 0.8264\n",
      "Epoch [167], train_loss: 1.5902, val_loss: 1.6407, val_acc: 0.8208\n",
      "Epoch [168], train_loss: 1.5886, val_loss: 1.6361, val_acc: 0.8244\n",
      "Epoch [169], train_loss: 1.5869, val_loss: 1.6377, val_acc: 0.8245\n",
      "Epoch [170], train_loss: 1.5852, val_loss: 1.6380, val_acc: 0.8235\n",
      "Epoch [171], train_loss: 1.5839, val_loss: 1.6265, val_acc: 0.8351\n",
      "Epoch [172], train_loss: 1.5812, val_loss: 1.6302, val_acc: 0.8320\n",
      "Epoch [173], train_loss: 1.5792, val_loss: 1.6359, val_acc: 0.8274\n",
      "Epoch [174], train_loss: 1.5802, val_loss: 1.6371, val_acc: 0.8246\n",
      "Epoch [175], train_loss: 1.5793, val_loss: 1.6244, val_acc: 0.8380\n",
      "Epoch [176], train_loss: 1.5792, val_loss: 1.6241, val_acc: 0.8380\n",
      "Epoch [177], train_loss: 1.5762, val_loss: 1.6337, val_acc: 0.8287\n",
      "Epoch [178], train_loss: 1.5759, val_loss: 1.6250, val_acc: 0.8364\n",
      "Epoch [179], train_loss: 1.5759, val_loss: 1.6238, val_acc: 0.8380\n",
      "Epoch [180], train_loss: 1.5729, val_loss: 1.6202, val_acc: 0.8422\n",
      "Epoch [181], train_loss: 1.5727, val_loss: 1.6268, val_acc: 0.8360\n",
      "Epoch [182], train_loss: 1.5715, val_loss: 1.6291, val_acc: 0.8327\n",
      "Epoch [183], train_loss: 1.5709, val_loss: 1.6221, val_acc: 0.8414\n",
      "Epoch [184], train_loss: 1.5686, val_loss: 1.6246, val_acc: 0.8366\n",
      "Epoch [185], train_loss: 1.5692, val_loss: 1.6260, val_acc: 0.8351\n",
      "Epoch [186], train_loss: 1.5683, val_loss: 1.6256, val_acc: 0.8383\n",
      "Epoch [187], train_loss: 1.5673, val_loss: 1.6265, val_acc: 0.8364\n",
      "Epoch [188], train_loss: 1.5673, val_loss: 1.6269, val_acc: 0.8361\n",
      "Epoch [189], train_loss: 1.5665, val_loss: 1.6275, val_acc: 0.8346\n",
      "Epoch [190], train_loss: 1.5665, val_loss: 1.6188, val_acc: 0.8430\n",
      "Epoch [191], train_loss: 1.5665, val_loss: 1.6174, val_acc: 0.8461\n",
      "Epoch [192], train_loss: 1.5654, val_loss: 1.6226, val_acc: 0.8395\n",
      "Epoch [193], train_loss: 1.5641, val_loss: 1.6230, val_acc: 0.8390\n",
      "Epoch [194], train_loss: 1.5656, val_loss: 1.6201, val_acc: 0.8427\n",
      "Epoch [195], train_loss: 1.5635, val_loss: 1.6268, val_acc: 0.8344\n",
      "Epoch [196], train_loss: 1.5653, val_loss: 1.6282, val_acc: 0.8342\n",
      "Epoch [197], train_loss: 1.5639, val_loss: 1.6306, val_acc: 0.8318\n",
      "Epoch [198], train_loss: 1.5656, val_loss: 1.6259, val_acc: 0.8367\n",
      "Epoch [199], train_loss: 1.5643, val_loss: 1.6202, val_acc: 0.8423\n",
      "CPU times: user 50min 49s, sys: 3min 56s, total: 54min 46s\n",
      "Wall time: 53min 36s\n"
     ]
    }
   ],
   "source": [
    "%%time\n",
    "history += fit_one_cycle(epochs, max_lr, model, train_dl, valid_dl, \n",
    "                             grad_clip=grad_clip, \n",
    "                             weight_decay=weight_decay, \n",
    "                             opt_func=opt_func)"
   ]
  },
  {
   "cell_type": "code",
   "execution_count": 23,
   "metadata": {
    "id": "jvJzQAeNjB6Y"
   },
   "outputs": [],
   "source": [
    "def plot_accuracies(history):\n",
    "    accuracies = [x['val_acc'] for x in history]\n",
    "    plt.figure(figsize=(10,6))\n",
    "    plt.plot(accuracies, '-x')\n",
    "    plt.xlabel('epoch')\n",
    "    plt.ylabel('accuracy')\n",
    "    plt.title('Accuracy vs. No. of epochs');"
   ]
  },
  {
   "cell_type": "code",
   "execution_count": 24,
   "metadata": {
    "colab": {
     "base_uri": "https://localhost:8080/",
     "height": 171
    },
    "id": "fYuANPlfjIvt",
    "outputId": "08453f89-0933-4bd9-e02a-d760aad8714f"
   },
   "outputs": [
    {
     "data": {
      "image/png": "[encoded data removed]",
      "text/plain": [
       "<Figure size 720x432 with 1 Axes>"
      ]
     },
     "metadata": {
      "needs_background": "light"
     },
     "output_type": "display_data"
    }
   ],
   "source": [
    "plot_accuracies(history)"
   ]
  },
  {
   "cell_type": "code",
   "execution_count": 25,
   "metadata": {
    "id": "JV6cn39HjTF-"
   },
   "outputs": [],
   "source": [
    "def plot_losses(history):\n",
    "    train_losses = [x.get('train_loss') for x in history]\n",
    "    val_losses = [x['val_loss'] for x in history]\n",
    "    plt.figure(figsize=(10,6))\n",
    "    plt.plot(train_losses, '-bx')\n",
    "    plt.plot(val_losses, '-rx')\n",
    "    plt.xlabel('epoch')\n",
    "    plt.ylabel('loss')\n",
    "    plt.legend(['Training', 'Validation'])\n",
    "    plt.title('Loss vs. No. of epochs');"
   ]
  },
  {
   "cell_type": "code",
   "execution_count": 26,
   "metadata": {
    "colab": {
     "base_uri": "https://localhost:8080/",
     "height": 171
    },
    "id": "kuky-BEDjUw_",
    "outputId": "e33b1eb9-e7c7-483d-829a-75bce6a074ae"
   },
   "outputs": [
    {
     "data": {
      "image/png": "[encoded data removed]",
      "text/plain": [
       "<Figure size 720x432 with 1 Axes>"
      ]
     },
     "metadata": {
      "needs_background": "light"
     },
     "output_type": "display_data"
    }
   ],
   "source": [
    "plot_losses(history)"
   ]
  },
  {
   "cell_type": "code",
   "execution_count": 27,
   "metadata": {
    "id": "ToUcs2S6jZl_"
   },
   "outputs": [],
   "source": [
    "def plot_lrs(history):\n",
    "    lrs = np.concatenate([x.get('lrs', []) for x in history])\n",
    "    plt.figure(figsize=(10,6))\n",
    "    plt.plot(lrs)\n",
    "    plt.xlabel('Batch no.')\n",
    "    plt.ylabel('Learning rate')\n",
    "    plt.title('Learning Rate vs. Batch no.');"
   ]
  },
  {
   "cell_type": "code",
   "execution_count": 28,
   "metadata": {
    "colab": {
     "base_uri": "https://localhost:8080/",
     "height": 171
    },
    "id": "V1ao5oIJjboF",
    "outputId": "23d3a338-12ab-42be-b2de-8a2b3d55ccae"
   },
   "outputs": [
    {
     "data": {
      "image/png": "[encoded data removed]",
      "text/plain": [
       "<Figure size 720x432 with 1 Axes>"
      ]
     },
     "metadata": {
      "needs_background": "light"
     },
     "output_type": "display_data"
    }
   ],
   "source": [
    "plot_lrs(history)"
   ]
  }
 ],
 "metadata": {
  "accelerator": "GPU",
  "colab": {
   "collapsed_sections": [],
   "include_colab_link": true,
   "name": "kaggle94gpu.ipynb",
   "provenance": []
  },
  "kernelspec": {
   "display_name": "Python 3",
   "language": "python",
   "name": "python3"
  },
  "language_info": {
   "codemirror_mode": {
    "name": "ipython",
    "version": 3
   },
   "file_extension": ".py",
   "mimetype": "text/x-python",
   "name": "python",
   "nbconvert_exporter": "python",
   "pygments_lexer": "ipython3",
   "version": "3.6.9"
  },
  "widgets": {
   "application/vnd.jupyter.widget-state+json": {
    "0433c9c034b7466a98118f517c9ae2e8": {
     "model_module": "@jupyter-widgets/base",
     "model_module_version": "1.2.0",
     "model_name": "LayoutModel",
     "state": {
      "_model_module": "@jupyter-widgets/base",
      "_model_module_version": "1.2.0",
      "_model_name": "LayoutModel",
      "_view_count": null,
      "_view_module": "@jupyter-widgets/base",
      "_view_module_version": "1.2.0",
      "_view_name": "LayoutView",
      "align_content": null,
      "align_items": null,
      "align_self": null,
      "border": null,
      "bottom": null,
      "display": null,
      "flex": null,
      "flex_flow": null,
      "grid_area": null,
      "grid_auto_columns": null,
      "grid_auto_flow": null,
      "grid_auto_rows": null,
      "grid_column": null,
      "grid_gap": null,
      "grid_row": null,
      "grid_template_areas": null,
      "grid_template_columns": null,
      "grid_template_rows": null,
      "height": null,
      "justify_content": null,
      "justify_items": null,
      "left": null,
      "margin": null,
      "max_height": null,
      "max_width": null,
      "min_height": null,
      "min_width": null,
      "object_fit": null,
      "object_position": null,
      "order": null,
      "overflow": null,
      "overflow_x": null,
      "overflow_y": null,
      "padding": null,
      "right": null,
      "top": null,
      "visibility": null,
      "width": null
     }
    },
    "29225a4d667e47f980b33c95c0850d16": {
     "model_module": "@jupyter-widgets/controls",
     "model_module_version": "1.5.0",
     "model_name": "DescriptionStyleModel",
     "state": {
      "_model_module": "@jupyter-widgets/controls",
      "_model_module_version": "1.5.0",
      "_model_name": "DescriptionStyleModel",
      "_view_count": null,
      "_view_module": "@jupyter-widgets/base",
      "_view_module_version": "1.2.0",
      "_view_name": "StyleView",
      "description_width": ""
     }
    },
    "350d156265104e2296caf536b05d26cc": {
     "model_module": "@jupyter-widgets/controls",
     "model_module_version": "1.5.0",
     "model_name": "FloatProgressModel",
     "state": {
      "_dom_classes": [],
      "_model_module": "@jupyter-widgets/controls",
      "_model_module_version": "1.5.0",
      "_model_name": "FloatProgressModel",
      "_view_count": null,
      "_view_module": "@jupyter-widgets/controls",
      "_view_module_version": "1.5.0",
      "_view_name": "ProgressView",
      "bar_style": "success",
      "description": "",
      "description_tooltip": null,
      "layout": "IPY_MODEL_9ae1047b1b184d81bde7c14ca6ad72d5",
      "max": 170498071,
      "min": 0,
      "orientation": "horizontal",
      "style": "IPY_MODEL_37da94684df543f3a81fe78c389f68dc",
      "value": 170498071
     }
    },
    "37da94684df543f3a81fe78c389f68dc": {
     "model_module": "@jupyter-widgets/controls",
     "model_module_version": "1.5.0",
     "model_name": "ProgressStyleModel",
     "state": {
      "_model_module": "@jupyter-widgets/controls",
      "_model_module_version": "1.5.0",
      "_model_name": "ProgressStyleModel",
      "_view_count": null,
      "_view_module": "@jupyter-widgets/base",
      "_view_module_version": "1.2.0",
      "_view_name": "StyleView",
      "bar_color": null,
      "description_width": ""
     }
    },
    "40b5952c97aa40169739936f0d549d02": {
     "model_module": "@jupyter-widgets/controls",
     "model_module_version": "1.5.0",
     "model_name": "HTMLModel",
     "state": {
      "_dom_classes": [],
      "_model_module": "@jupyter-widgets/controls",
      "_model_module_version": "1.5.0",
      "_model_name": "HTMLModel",
      "_view_count": null,
      "_view_module": "@jupyter-widgets/controls",
      "_view_module_version": "1.5.0",
      "_view_name": "HTMLView",
      "description": "",
      "description_tooltip": null,
      "layout": "IPY_MODEL_0433c9c034b7466a98118f517c9ae2e8",
      "placeholder": "​",
      "style": "IPY_MODEL_fb9ab6c5d81f48089ac0d9dc03c72e6b",
      "value": " 170499072/? [00:02&lt;00:00, 62626240.17it/s]"
     }
    },
    "4c7fbb2405c84d7887d63fd6217cba4a": {
     "model_module": "@jupyter-widgets/controls",
     "model_module_version": "1.5.0",
     "model_name": "HTMLModel",
     "state": {
      "_dom_classes": [],
      "_model_module": "@jupyter-widgets/controls",
      "_model_module_version": "1.5.0",
      "_model_name": "HTMLModel",
      "_view_count": null,
      "_view_module": "@jupyter-widgets/controls",
      "_view_module_version": "1.5.0",
      "_view_name": "HTMLView",
      "description": "",
      "description_tooltip": null,
      "layout": "IPY_MODEL_a448b41c426a4810a07d5eb92df1bc21",
      "placeholder": "​",
      "style": "IPY_MODEL_29225a4d667e47f980b33c95c0850d16",
      "value": ""
     }
    },
    "50c9aed288f14fcd94009217a59c91ff": {
     "model_module": "@jupyter-widgets/base",
     "model_module_version": "1.2.0",
     "model_name": "LayoutModel",
     "state": {
      "_model_module": "@jupyter-widgets/base",
      "_model_module_version": "1.2.0",
      "_model_name": "LayoutModel",
      "_view_count": null,
      "_view_module": "@jupyter-widgets/base",
      "_view_module_version": "1.2.0",
      "_view_name": "LayoutView",
      "align_content": null,
      "align_items": null,
      "align_self": null,
      "border": null,
      "bottom": null,
      "display": null,
      "flex": null,
      "flex_flow": null,
      "grid_area": null,
      "grid_auto_columns": null,
      "grid_auto_flow": null,
      "grid_auto_rows": null,
      "grid_column": null,
      "grid_gap": null,
      "grid_row": null,
      "grid_template_areas": null,
      "grid_template_columns": null,
      "grid_template_rows": null,
      "height": null,
      "justify_content": null,
      "justify_items": null,
      "left": null,
      "margin": null,
      "max_height": null,
      "max_width": null,
      "min_height": null,
      "min_width": null,
      "object_fit": null,
      "object_position": null,
      "order": null,
      "overflow": null,
      "overflow_x": null,
      "overflow_y": null,
      "padding": null,
      "right": null,
      "top": null,
      "visibility": null,
      "width": null
     }
    },
    "9ae1047b1b184d81bde7c14ca6ad72d5": {
     "model_module": "@jupyter-widgets/base",
     "model_module_version": "1.2.0",
     "model_name": "LayoutModel",
     "state": {
      "_model_module": "@jupyter-widgets/base",
      "_model_module_version": "1.2.0",
      "_model_name": "LayoutModel",
      "_view_count": null,
      "_view_module": "@jupyter-widgets/base",
      "_view_module_version": "1.2.0",
      "_view_name": "LayoutView",
      "align_content": null,
      "align_items": null,
      "align_self": null,
      "border": null,
      "bottom": null,
      "display": null,
      "flex": null,
      "flex_flow": null,
      "grid_area": null,
      "grid_auto_columns": null,
      "grid_auto_flow": null,
      "grid_auto_rows": null,
      "grid_column": null,
      "grid_gap": null,
      "grid_row": null,
      "grid_template_areas": null,
      "grid_template_columns": null,
      "grid_template_rows": null,
      "height": null,
      "justify_content": null,
      "justify_items": null,
      "left": null,
      "margin": null,
      "max_height": null,
      "max_width": null,
      "min_height": null,
      "min_width": null,
      "object_fit": null,
      "object_position": null,
      "order": null,
      "overflow": null,
      "overflow_x": null,
      "overflow_y": null,
      "padding": null,
      "right": null,
      "top": null,
      "visibility": null,
      "width": null
     }
    },
    "a448b41c426a4810a07d5eb92df1bc21": {
     "model_module": "@jupyter-widgets/base",
     "model_module_version": "1.2.0",
     "model_name": "LayoutModel",
     "state": {
      "_model_module": "@jupyter-widgets/base",
      "_model_module_version": "1.2.0",
      "_model_name": "LayoutModel",
      "_view_count": null,
      "_view_module": "@jupyter-widgets/base",
      "_view_module_version": "1.2.0",
      "_view_name": "LayoutView",
      "align_content": null,
      "align_items": null,
      "align_self": null,
      "border": null,
      "bottom": null,
      "display": null,
      "flex": null,
      "flex_flow": null,
      "grid_area": null,
      "grid_auto_columns": null,
      "grid_auto_flow": null,
      "grid_auto_rows": null,
      "grid_column": null,
      "grid_gap": null,
      "grid_row": null,
      "grid_template_areas": null,
      "grid_template_columns": null,
      "grid_template_rows": null,
      "height": null,
      "justify_content": null,
      "justify_items": null,
      "left": null,
      "margin": null,
      "max_height": null,
      "max_width": null,
      "min_height": null,
      "min_width": null,
      "object_fit": null,
      "object_position": null,
      "order": null,
      "overflow": null,
      "overflow_x": null,
      "overflow_y": null,
      "padding": null,
      "right": null,
      "top": null,
      "visibility": null,
      "width": null
     }
    },
    "c974d31e436a42899adbf2ef969307a4": {
     "model_module": "@jupyter-widgets/controls",
     "model_module_version": "1.5.0",
     "model_name": "HBoxModel",
     "state": {
      "_dom_classes": [],
      "_model_module": "@jupyter-widgets/controls",
      "_model_module_version": "1.5.0",
      "_model_name": "HBoxModel",
      "_view_count": null,
      "_view_module": "@jupyter-widgets/controls",
      "_view_module_version": "1.5.0",
      "_view_name": "HBoxView",
      "box_style": "",
      "children": [
       "IPY_MODEL_4c7fbb2405c84d7887d63fd6217cba4a",
       "IPY_MODEL_350d156265104e2296caf536b05d26cc",
       "IPY_MODEL_40b5952c97aa40169739936f0d549d02"
      ],
      "layout": "IPY_MODEL_50c9aed288f14fcd94009217a59c91ff"
     }
    },
    "fb9ab6c5d81f48089ac0d9dc03c72e6b": {
     "model_module": "@jupyter-widgets/controls",
     "model_module_version": "1.5.0",
     "model_name": "DescriptionStyleModel",
     "state": {
      "_model_module": "@jupyter-widgets/controls",
      "_model_module_version": "1.5.0",
      "_model_name": "DescriptionStyleModel",
      "_view_count": null,
      "_view_module": "@jupyter-widgets/base",
      "_view_module_version": "1.2.0",
      "_view_name": "StyleView",
      "description_width": ""
     }
    }
   }
  }
 },
 "nbformat": 4,
 "nbformat_minor": 4
}
